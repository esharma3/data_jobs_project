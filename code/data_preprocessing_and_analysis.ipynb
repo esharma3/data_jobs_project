{
 "cells": [
  {
   "cell_type": "markdown",
   "metadata": {},
   "source": [
    "# <font color='green'><b> Data Jobs Market Analysis for top 10 US Tech(IT) cities </font></b>\n",
    "\n",
    "<font size=3>** The aim of this project is to analyse the current job market for data related jobs in US top 10 Tech cities.**\n",
    "\n",
    "<br><b><u>Job Titles in Scope of the Project</b></u>:<br> \n",
    "All Titles with the word 'Data' (includes data analyst, scientist, engineer etc.), Business Intelligence/BI, Artificial Intelligence/AI, Machine Learning, Tableau, Power BI, Statistician/Statistical. \n",
    "<br>\n",
    "<br><u><b>Cities in Scope of the Project</b></u> - Following cities and <b>25</b> miles around them: <br> \n",
    "Austin-TX, San Francisco-CA, Raleigh-NC, \n",
    "Denver-CO, Seattle-WA, Atlanta-GA, \n",
    "Boston-MA, New York City-NY, Washington-D.C., Columbus-OH\n",
    "</font>"
   ]
  },
  {
   "cell_type": "markdown",
   "metadata": {},
   "source": [
    "### <font color='green'>Analysis / Questions Addressed</font><br>\n",
    "\n",
    "<font size=3>\n",
    "\n",
    "1. Which US city has more data jobs?\n",
    "\n",
    "2. Citywise which companies are posting more data jobs?\n",
    "\n",
    "3. Which companies (combined for all 10 cities) are posting relatively higher number of data jobs?\n",
    "\n",
    "4. What is the number of data jobs getting posted for various job titles like data analyst, data scientist, data engineer, BI, AI, Machine Learning etc.? Are there more jobs for one job title over the other? Which job title has been posted the most and which has been posted the least?\n",
    "\n",
    "5. What is the salary range for data job wages? How does it change based on the city?\n",
    "\n",
    "6. Is there a correlation between data job salary and company rating?\n",
    "\n",
    "7. Is there a correlation between data job salary and minimum experience requirement?\n",
    "\n",
    "8. Where does the data wages stand in comparison to city and state median wages?\n",
    "\n",
    "9. How well are the data wages doing in comparison to the apartment rent based on the city?\n",
    "\n",
    "10. How well are the data wages doing in comparison to the median house prices based on the city?\n",
    "\n",
    "11. What is the ratio of number of data jobs posted and per capita crime rate based on the city?\n",
    "</font>\n"
   ]
  },
  {
   "cell_type": "markdown",
   "metadata": {},
   "source": [
    "### <font color='green'>Data Sources Used for this module</font><br>\n",
    "\n",
    "<font size=3>\n",
    "<ol>\n",
    "    <li>Jobs data csv created using Indeed API (in data_collection module)</li>\n",
    "    <li>Salary, rating, experience csv files created using web scraping (in data collection module)</li>\n",
    "    <li>Zillow - csv files for House Prices</li>\n",
    "    <li>BLS - csv for City and State Median Salary (All Occupation) data</li>\n",
    "    <li>Data.World (using FBI data 2015) - csv for Crime data</li>\n",
    "    <li>Apartment List (Rentonomics) - csv for Apartment Rents data</li>\n",
    "</ol>\n",
    "</font>\n"
   ]
  },
  {
   "cell_type": "code",
   "execution_count": 1,
   "metadata": {},
   "outputs": [],
   "source": [
    "# import dependencies here\n",
    "\n",
    "import pandas as pd\n",
    "import numpy as np\n",
    "from sqlalchemy import create_engine\n",
    "from sqlalchemy.exc import ProgrammingError\n",
    "import warnings\n",
    "import pymysql"
   ]
  },
  {
   "cell_type": "code",
   "execution_count": 2,
   "metadata": {},
   "outputs": [
    {
     "data": {
      "text/plain": [
       "'1.3.12'"
      ]
     },
     "execution_count": 2,
     "metadata": {},
     "output_type": "execute_result"
    }
   ],
   "source": [
    "import sqlalchemy\n",
    "sqlalchemy.__version__"
   ]
  },
  {
   "cell_type": "code",
   "execution_count": 3,
   "metadata": {},
   "outputs": [
    {
     "name": "stdout",
     "output_type": "stream",
     "text": [
      "4.4.1\n"
     ]
    }
   ],
   "source": [
    "from plotly import __version__\n",
    "import plotly as py\n",
    "import plotly.graph_objects as go\n",
    "from plotly.offline import download_plotlyjs, init_notebook_mode, plot, iplot\n",
    "\n",
    "print(__version__)  "
   ]
  },
  {
   "cell_type": "code",
   "execution_count": 4,
   "metadata": {},
   "outputs": [
    {
     "data": {
      "text/html": [
       "        <script type=\"text/javascript\">\n",
       "        window.PlotlyConfig = {MathJaxConfig: 'local'};\n",
       "        if (window.MathJax) {MathJax.Hub.Config({SVG: {font: \"STIX-Web\"}});}\n",
       "        if (typeof require !== 'undefined') {\n",
       "        require.undef(\"plotly\");\n",
       "        requirejs.config({\n",
       "            paths: {\n",
       "                'plotly': ['https://cdn.plot.ly/plotly-latest.min']\n",
       "            }\n",
       "        });\n",
       "        require(['plotly'], function(Plotly) {\n",
       "            window._Plotly = Plotly;\n",
       "        });\n",
       "        }\n",
       "        </script>\n",
       "        "
      ]
     },
     "metadata": {},
     "output_type": "display_data"
    },
    {
     "data": {
      "text/html": [
       "        <script type=\"text/javascript\">\n",
       "        window.PlotlyConfig = {MathJaxConfig: 'local'};\n",
       "        if (window.MathJax) {MathJax.Hub.Config({SVG: {font: \"STIX-Web\"}});}\n",
       "        if (typeof require !== 'undefined') {\n",
       "        require.undef(\"plotly\");\n",
       "        requirejs.config({\n",
       "            paths: {\n",
       "                'plotly': ['https://cdn.plot.ly/plotly-latest.min']\n",
       "            }\n",
       "        });\n",
       "        require(['plotly'], function(Plotly) {\n",
       "            window._Plotly = Plotly;\n",
       "        });\n",
       "        }\n",
       "        </script>\n",
       "        "
      ]
     },
     "metadata": {},
     "output_type": "display_data"
    }
   ],
   "source": [
    "import cufflinks as cf\n",
    "# For Notebook\n",
    "init_notebook_mode(connected=True)\n",
    "# For offline use\n",
    "cf.go_offline()"
   ]
  },
  {
   "cell_type": "code",
   "execution_count": 5,
   "metadata": {},
   "outputs": [],
   "source": [
    "# reading the csv files created using API, we-scraping and downloads\n",
    "\n",
    "data_jobs = pd.read_csv('../data/all_data_jobs.csv') # API Call\n",
    "sal_data = pd.read_csv('../data/sal_data.csv') # Web Scraping\n",
    "rating_data = pd.read_csv('../data/company_ratings_data.csv') # Web Scraping\n",
    "state_median_sal = pd.read_csv('../data/bls_salary_state.csv', low_memory=False) # csv - BLS\n",
    "city_median_sal = pd.read_csv('../data/bls_salary_city.csv', low_memory=False) # csv - BLS\n",
    "us_crime_data = pd.read_csv('../data/US_crime_data_2015.csv') # csv - Data.World (using FBI)\n",
    "apt_rent_data = pd.read_csv('../data/apartment_rent_data.csv') # csv - Apartment List (Rentonomics)\n",
    "exp_years = pd.read_csv('../data/experience_data.csv') # Web Scraping\n"
   ]
  },
  {
   "cell_type": "code",
   "execution_count": 6,
   "metadata": {},
   "outputs": [],
   "source": [
    "# median home price combining csv files for home price (from zillow)\n",
    "\n",
    "import glob\n",
    "path = ('../data/zillow')\n",
    "all_files = glob.glob(path + \"/*.csv\")\n",
    "li = []\n",
    "for filename in all_files:\n",
    "    house_df = pd.read_csv(filename, index_col=None, header=0)\n",
    "    li.append(house_df)\n",
    "house_price_df = pd.concat(li, axis=0, ignore_index=True)\n",
    "house_price_df.dropna(inplace = True)\n",
    "house_price_data_clean = house_price_df[\"RegionName\"].str.split(\",\", n = 1, expand = True)\n",
    "house_price_df[\"CITY\"]= house_price_data_clean[0]\n",
    "house_price_df[\"ST_ABBRV\"]= house_price_data_clean[1]\n",
    "house_price_df.drop(columns =[\"RegionName\"], inplace = True)\n",
    "house_price_df.rename(columns={'SizeRank':'SIZE RANK', 'Bedrooms': 'BEDROOMS_HOUSE', '2019-11':'MEDIAN HOME VALUE'},\n",
    "                 index={0:1},\n",
    "                 inplace=True)\n",
    "median_home_price_df = pd.DataFrame(house_price_df, columns = [\"CITY\", \"ST_ABBRV\", \"SIZE RANK\", \"BEDROOMS_HOUSE\", \"MEDIAN HOME VALUE\"])\n",
    "median_home_price_df.to_csv('../data/median_home_value.csv')"
   ]
  },
  {
   "cell_type": "markdown",
   "metadata": {},
   "source": [
    "# <font color='green'>'** Data Munging begins here ** </font>"
   ]
  },
  {
   "cell_type": "markdown",
   "metadata": {},
   "source": [
    "### Cleaning data_jobs dataframe"
   ]
  },
  {
   "cell_type": "code",
   "execution_count": 7,
   "metadata": {},
   "outputs": [
    {
     "data": {
      "text/plain": [
       "Unnamed: 0               10284\n",
       "jobtitle                 10284\n",
       "company                  10283\n",
       "city                     10272\n",
       "state                    10284\n",
       "country                  10284\n",
       "language                 10284\n",
       "formattedLocation        10284\n",
       "source                   10284\n",
       "date                     10284\n",
       "snippet                  10284\n",
       "url                      10284\n",
       "onmousedown              10284\n",
       "jobkey                   10284\n",
       "sponsored                10284\n",
       "expired                  10284\n",
       "indeedApply              10284\n",
       "formattedLocationFull    10284\n",
       "formattedRelativeTime    10284\n",
       "stations                     0\n",
       "dtype: int64"
      ]
     },
     "execution_count": 7,
     "metadata": {},
     "output_type": "execute_result"
    }
   ],
   "source": [
    "# checking for total record count\n",
    "data_jobs.count()"
   ]
  },
  {
   "cell_type": "code",
   "execution_count": 8,
   "metadata": {},
   "outputs": [
    {
     "data": {
      "text/plain": [
       "NY    1800\n",
       "VA    1633\n",
       "CA    1375\n",
       "MA    1250\n",
       "WA    1075\n",
       "GA     641\n",
       "CO     563\n",
       "DC     468\n",
       "TX     457\n",
       "NC     424\n",
       "MD     299\n",
       "OH     299\n",
       "Name: state, dtype: int64"
      ]
     },
     "execution_count": 8,
     "metadata": {},
     "output_type": "execute_result"
    }
   ],
   "source": [
    "# checking if cities and 25 miles radius search resulted in some extra states \n",
    "data_jobs['state'].value_counts()"
   ]
  },
  {
   "cell_type": "code",
   "execution_count": 9,
   "metadata": {},
   "outputs": [
    {
     "data": {
      "text/plain": [
       "Unnamed: 0                   0\n",
       "jobtitle                     0\n",
       "company                      1\n",
       "city                        12\n",
       "state                        0\n",
       "country                      0\n",
       "language                     0\n",
       "formattedLocation            0\n",
       "source                       0\n",
       "date                         0\n",
       "snippet                      0\n",
       "url                          0\n",
       "onmousedown                  0\n",
       "jobkey                       0\n",
       "sponsored                    0\n",
       "expired                      0\n",
       "indeedApply                  0\n",
       "formattedLocationFull        0\n",
       "formattedRelativeTime        0\n",
       "stations                 10284\n",
       "dtype: int64"
      ]
     },
     "execution_count": 9,
     "metadata": {},
     "output_type": "execute_result"
    }
   ],
   "source": [
    "# checking for missing values in the dataframe\n",
    "data_jobs.isnull().sum()"
   ]
  },
  {
   "cell_type": "code",
   "execution_count": 10,
   "metadata": {},
   "outputs": [],
   "source": [
    "# function to replace sub-urban city names(cities within 25 miles of the metropolitan city) with the metropolitan city name\n",
    "\n",
    "def get_city_name(state):\n",
    "    \n",
    "    if state == 'TX':\n",
    "        return 'Austin'\n",
    "    if state == 'CA':\n",
    "        return 'San Francisco'\n",
    "    if state == 'NC':\n",
    "        return 'Raleigh'\n",
    "    if state == 'CO':\n",
    "        return 'Denver'\n",
    "    if state == 'WA':\n",
    "        return 'Seattle'\n",
    "    if state == 'GA':\n",
    "        return 'Atlanta'\n",
    "    if state == 'MA':\n",
    "        return 'Boston'\n",
    "    if state == 'NY':\n",
    "        return 'New York'\n",
    "    if state == 'OH':\n",
    "        return 'Columbus'\n",
    "    if state == 'DC' or 'VA' or 'MD':\n",
    "        return 'Washington D.C.'\n"
   ]
  },
  {
   "cell_type": "code",
   "execution_count": 11,
   "metadata": {},
   "outputs": [],
   "source": [
    "# creating a cleaned dataframe that will replace missing city names using get_city_name function, and \n",
    "# for cities within 25 miles of the metropolitan cities, update city name to show that of the metropolitan city for visualization purpose\n",
    "\n",
    "data_jobs = data_jobs.assign(updated_city=data_jobs['state'].apply(get_city_name)) \n",
    "\n",
    "data_jobs['city'].fillna(data_jobs['updated_city'], inplace=True)\n",
    "\n",
    "data_jobs = data_jobs[['jobtitle', 'company', 'updated_city', 'state',\n",
    "                       'country', 'source', 'date', 'url', 'jobkey',\n",
    "                       'sponsored', 'expired', 'indeedApply']] \n",
    " "
   ]
  },
  {
   "cell_type": "code",
   "execution_count": 12,
   "metadata": {},
   "outputs": [
    {
     "data": {
      "text/html": [
       "<div>\n",
       "<style scoped>\n",
       "    .dataframe tbody tr th:only-of-type {\n",
       "        vertical-align: middle;\n",
       "    }\n",
       "\n",
       "    .dataframe tbody tr th {\n",
       "        vertical-align: top;\n",
       "    }\n",
       "\n",
       "    .dataframe thead th {\n",
       "        text-align: right;\n",
       "    }\n",
       "</style>\n",
       "<table border=\"1\" class=\"dataframe\">\n",
       "  <thead>\n",
       "    <tr style=\"text-align: right;\">\n",
       "      <th></th>\n",
       "      <th>jobtitle</th>\n",
       "      <th>company</th>\n",
       "      <th>updated_city</th>\n",
       "      <th>state</th>\n",
       "      <th>country</th>\n",
       "      <th>source</th>\n",
       "      <th>date</th>\n",
       "      <th>url</th>\n",
       "      <th>jobkey</th>\n",
       "      <th>sponsored</th>\n",
       "      <th>expired</th>\n",
       "      <th>indeedApply</th>\n",
       "    </tr>\n",
       "  </thead>\n",
       "  <tbody>\n",
       "    <tr>\n",
       "      <th>0</th>\n",
       "      <td>Data Center Security Engineer</td>\n",
       "      <td>Amazon Dev Center U.S., Inc.</td>\n",
       "      <td>Austin</td>\n",
       "      <td>TX</td>\n",
       "      <td>US</td>\n",
       "      <td>Amazon.com</td>\n",
       "      <td>Fri, 10 Jan 2020 07:54:39 GMT</td>\n",
       "      <td>http://www.indeed.com/viewjob?jk=389c5707bd0ad...</td>\n",
       "      <td>389c5707bd0addc4</td>\n",
       "      <td>False</td>\n",
       "      <td>False</td>\n",
       "      <td>False</td>\n",
       "    </tr>\n",
       "  </tbody>\n",
       "</table>\n",
       "</div>"
      ],
      "text/plain": [
       "                        jobtitle                       company updated_city  \\\n",
       "0  Data Center Security Engineer  Amazon Dev Center U.S., Inc.       Austin   \n",
       "\n",
       "  state country      source                           date  \\\n",
       "0    TX      US  Amazon.com  Fri, 10 Jan 2020 07:54:39 GMT   \n",
       "\n",
       "                                                 url            jobkey  \\\n",
       "0  http://www.indeed.com/viewjob?jk=389c5707bd0ad...  389c5707bd0addc4   \n",
       "\n",
       "   sponsored  expired  indeedApply  \n",
       "0      False    False        False  "
      ]
     },
     "execution_count": 12,
     "metadata": {},
     "output_type": "execute_result"
    }
   ],
   "source": [
    "data_jobs.head(1)"
   ]
  },
  {
   "cell_type": "code",
   "execution_count": 13,
   "metadata": {},
   "outputs": [
    {
     "data": {
      "text/plain": [
       "jobtitle        0\n",
       "company         1\n",
       "updated_city    0\n",
       "state           0\n",
       "country         0\n",
       "source          0\n",
       "date            0\n",
       "url             0\n",
       "jobkey          0\n",
       "sponsored       0\n",
       "expired         0\n",
       "indeedApply     0\n",
       "dtype: int64"
      ]
     },
     "execution_count": 13,
     "metadata": {},
     "output_type": "execute_result"
    }
   ],
   "source": [
    "data_jobs.isnull().sum() "
   ]
  },
  {
   "cell_type": "code",
   "execution_count": 14,
   "metadata": {},
   "outputs": [],
   "source": [
    "# further cleaning - dropping the row with blank company name\n",
    "data_jobs.dropna(inplace=True)"
   ]
  },
  {
   "cell_type": "code",
   "execution_count": 15,
   "metadata": {},
   "outputs": [
    {
     "data": {
      "text/plain": [
       "jobtitle        0\n",
       "company         0\n",
       "updated_city    0\n",
       "state           0\n",
       "country         0\n",
       "source          0\n",
       "date            0\n",
       "url             0\n",
       "jobkey          0\n",
       "sponsored       0\n",
       "expired         0\n",
       "indeedApply     0\n",
       "dtype: int64"
      ]
     },
     "execution_count": 15,
     "metadata": {},
     "output_type": "execute_result"
    }
   ],
   "source": [
    "# verifying the clean data\n",
    "data_jobs.isnull().sum() "
   ]
  },
  {
   "cell_type": "code",
   "execution_count": 16,
   "metadata": {},
   "outputs": [
    {
     "data": {
      "text/plain": [
       "Washington D.C.    2400\n",
       "New York           1800\n",
       "San Francisco      1374\n",
       "Boston             1250\n",
       "Seattle            1075\n",
       "Atlanta             641\n",
       "Denver              563\n",
       "Austin              457\n",
       "Raleigh             424\n",
       "Columbus            299\n",
       "Name: updated_city, dtype: int64"
      ]
     },
     "execution_count": 16,
     "metadata": {},
     "output_type": "execute_result"
    }
   ],
   "source": [
    "data_jobs['updated_city'].value_counts()"
   ]
  },
  {
   "cell_type": "markdown",
   "metadata": {},
   "source": [
    "### Merging and Cleaning Salary Data"
   ]
  },
  {
   "cell_type": "code",
   "execution_count": 17,
   "metadata": {},
   "outputs": [
    {
     "data": {
      "text/html": [
       "<div>\n",
       "<style scoped>\n",
       "    .dataframe tbody tr th:only-of-type {\n",
       "        vertical-align: middle;\n",
       "    }\n",
       "\n",
       "    .dataframe tbody tr th {\n",
       "        vertical-align: top;\n",
       "    }\n",
       "\n",
       "    .dataframe thead th {\n",
       "        text-align: right;\n",
       "    }\n",
       "</style>\n",
       "<table border=\"1\" class=\"dataframe\">\n",
       "  <thead>\n",
       "    <tr style=\"text-align: right;\">\n",
       "      <th></th>\n",
       "      <th>url</th>\n",
       "      <th>annual_min_salary</th>\n",
       "      <th>annual_max_salary</th>\n",
       "    </tr>\n",
       "  </thead>\n",
       "  <tbody>\n",
       "    <tr>\n",
       "      <th>0</th>\n",
       "      <td>http://www.indeed.com/viewjob?jk=655ff099cd045...</td>\n",
       "      <td>50000.0</td>\n",
       "      <td>60000.0</td>\n",
       "    </tr>\n",
       "    <tr>\n",
       "      <th>1</th>\n",
       "      <td>http://www.indeed.com/viewjob?jk=f6402472d770b...</td>\n",
       "      <td>75000.0</td>\n",
       "      <td>90000.0</td>\n",
       "    </tr>\n",
       "    <tr>\n",
       "      <th>2</th>\n",
       "      <td>http://www.indeed.com/viewjob?jk=d3f99f0101182...</td>\n",
       "      <td>29568.0</td>\n",
       "      <td>29568.0</td>\n",
       "    </tr>\n",
       "  </tbody>\n",
       "</table>\n",
       "</div>"
      ],
      "text/plain": [
       "                                                 url  annual_min_salary  \\\n",
       "0  http://www.indeed.com/viewjob?jk=655ff099cd045...            50000.0   \n",
       "1  http://www.indeed.com/viewjob?jk=f6402472d770b...            75000.0   \n",
       "2  http://www.indeed.com/viewjob?jk=d3f99f0101182...            29568.0   \n",
       "\n",
       "   annual_max_salary  \n",
       "0            60000.0  \n",
       "1            90000.0  \n",
       "2            29568.0  "
      ]
     },
     "execution_count": 17,
     "metadata": {},
     "output_type": "execute_result"
    }
   ],
   "source": [
    "sal_data.head(3) "
   ]
  },
  {
   "cell_type": "code",
   "execution_count": 18,
   "metadata": {},
   "outputs": [],
   "source": [
    "# merging salary data with jobs data\n",
    "jobs_sal_data = pd.merge(sal_data, data_jobs, how='inner', on='url')\n",
    "\n",
    "# selecting required columns\n",
    "jobs_sal_data = jobs_sal_data[['url', 'jobtitle', 'company', 'annual_min_salary', 'annual_max_salary', 'updated_city', 'state']]"
   ]
  },
  {
   "cell_type": "code",
   "execution_count": 19,
   "metadata": {},
   "outputs": [
    {
     "data": {
      "text/plain": [
       "url                  0\n",
       "jobtitle             0\n",
       "company              0\n",
       "annual_min_salary    0\n",
       "annual_max_salary    0\n",
       "updated_city         0\n",
       "state                0\n",
       "dtype: int64"
      ]
     },
     "execution_count": 19,
     "metadata": {},
     "output_type": "execute_result"
    }
   ],
   "source": [
    "# checking for null values\n",
    "jobs_sal_data.isnull().sum()"
   ]
  },
  {
   "cell_type": "code",
   "execution_count": 20,
   "metadata": {},
   "outputs": [
    {
     "data": {
      "text/html": [
       "<div>\n",
       "<style scoped>\n",
       "    .dataframe tbody tr th:only-of-type {\n",
       "        vertical-align: middle;\n",
       "    }\n",
       "\n",
       "    .dataframe tbody tr th {\n",
       "        vertical-align: top;\n",
       "    }\n",
       "\n",
       "    .dataframe thead th {\n",
       "        text-align: right;\n",
       "    }\n",
       "</style>\n",
       "<table border=\"1\" class=\"dataframe\">\n",
       "  <thead>\n",
       "    <tr style=\"text-align: right;\">\n",
       "      <th></th>\n",
       "      <th>url</th>\n",
       "      <th>jobtitle</th>\n",
       "      <th>company</th>\n",
       "      <th>annual_min_salary</th>\n",
       "      <th>annual_max_salary</th>\n",
       "      <th>updated_city</th>\n",
       "      <th>state</th>\n",
       "    </tr>\n",
       "  </thead>\n",
       "  <tbody>\n",
       "    <tr>\n",
       "      <th>0</th>\n",
       "      <td>http://www.indeed.com/viewjob?jk=655ff099cd045...</td>\n",
       "      <td>Operations Analyst - Symitar System and Episys...</td>\n",
       "      <td>Austin Telco Federal Credit Union</td>\n",
       "      <td>50000.0</td>\n",
       "      <td>60000.0</td>\n",
       "      <td>Austin</td>\n",
       "      <td>TX</td>\n",
       "    </tr>\n",
       "    <tr>\n",
       "      <th>1</th>\n",
       "      <td>http://www.indeed.com/viewjob?jk=f6402472d770b...</td>\n",
       "      <td>Data Base Administrator IV</td>\n",
       "      <td>DEPARTMENT OF INFORMATION RESOURCES</td>\n",
       "      <td>75000.0</td>\n",
       "      <td>90000.0</td>\n",
       "      <td>Austin</td>\n",
       "      <td>TX</td>\n",
       "    </tr>\n",
       "    <tr>\n",
       "      <th>2</th>\n",
       "      <td>http://www.indeed.com/viewjob?jk=d3f99f0101182...</td>\n",
       "      <td>CPA - Data Analysis and Transparency Intern</td>\n",
       "      <td>COMPTROLLER OF PUBLIC ACCOUNTS</td>\n",
       "      <td>29568.0</td>\n",
       "      <td>29568.0</td>\n",
       "      <td>Austin</td>\n",
       "      <td>TX</td>\n",
       "    </tr>\n",
       "  </tbody>\n",
       "</table>\n",
       "</div>"
      ],
      "text/plain": [
       "                                                 url  \\\n",
       "0  http://www.indeed.com/viewjob?jk=655ff099cd045...   \n",
       "1  http://www.indeed.com/viewjob?jk=f6402472d770b...   \n",
       "2  http://www.indeed.com/viewjob?jk=d3f99f0101182...   \n",
       "\n",
       "                                            jobtitle  \\\n",
       "0  Operations Analyst - Symitar System and Episys...   \n",
       "1                         Data Base Administrator IV   \n",
       "2        CPA - Data Analysis and Transparency Intern   \n",
       "\n",
       "                               company  annual_min_salary  annual_max_salary  \\\n",
       "0    Austin Telco Federal Credit Union            50000.0            60000.0   \n",
       "1  DEPARTMENT OF INFORMATION RESOURCES            75000.0            90000.0   \n",
       "2       COMPTROLLER OF PUBLIC ACCOUNTS            29568.0            29568.0   \n",
       "\n",
       "  updated_city state  \n",
       "0       Austin    TX  \n",
       "1       Austin    TX  \n",
       "2       Austin    TX  "
      ]
     },
     "execution_count": 20,
     "metadata": {},
     "output_type": "execute_result"
    }
   ],
   "source": [
    "jobs_sal_data.head(3)"
   ]
  },
  {
   "cell_type": "code",
   "execution_count": 21,
   "metadata": {},
   "outputs": [
    {
     "data": {
      "text/html": [
       "<div>\n",
       "<style scoped>\n",
       "    .dataframe tbody tr th:only-of-type {\n",
       "        vertical-align: middle;\n",
       "    }\n",
       "\n",
       "    .dataframe tbody tr th {\n",
       "        vertical-align: top;\n",
       "    }\n",
       "\n",
       "    .dataframe thead th {\n",
       "        text-align: right;\n",
       "    }\n",
       "</style>\n",
       "<table border=\"1\" class=\"dataframe\">\n",
       "  <thead>\n",
       "    <tr style=\"text-align: right;\">\n",
       "      <th></th>\n",
       "      <th>updated_city</th>\n",
       "      <th>annual_min_median</th>\n",
       "      <th>annual_max_median</th>\n",
       "    </tr>\n",
       "  </thead>\n",
       "  <tbody>\n",
       "    <tr>\n",
       "      <th>0</th>\n",
       "      <td>Atlanta</td>\n",
       "      <td>80000.0</td>\n",
       "      <td>110000.0</td>\n",
       "    </tr>\n",
       "    <tr>\n",
       "      <th>1</th>\n",
       "      <td>Austin</td>\n",
       "      <td>59004.0</td>\n",
       "      <td>73200.0</td>\n",
       "    </tr>\n",
       "    <tr>\n",
       "      <th>2</th>\n",
       "      <td>Boston</td>\n",
       "      <td>75000.0</td>\n",
       "      <td>120000.0</td>\n",
       "    </tr>\n",
       "    <tr>\n",
       "      <th>3</th>\n",
       "      <td>Columbus</td>\n",
       "      <td>65780.0</td>\n",
       "      <td>77508.8</td>\n",
       "    </tr>\n",
       "    <tr>\n",
       "      <th>4</th>\n",
       "      <td>Denver</td>\n",
       "      <td>63858.0</td>\n",
       "      <td>72624.0</td>\n",
       "    </tr>\n",
       "    <tr>\n",
       "      <th>5</th>\n",
       "      <td>New York</td>\n",
       "      <td>62862.0</td>\n",
       "      <td>66388.0</td>\n",
       "    </tr>\n",
       "    <tr>\n",
       "      <th>6</th>\n",
       "      <td>Raleigh</td>\n",
       "      <td>49000.0</td>\n",
       "      <td>60320.0</td>\n",
       "    </tr>\n",
       "    <tr>\n",
       "      <th>7</th>\n",
       "      <td>San Francisco</td>\n",
       "      <td>100000.0</td>\n",
       "      <td>135100.0</td>\n",
       "    </tr>\n",
       "    <tr>\n",
       "      <th>8</th>\n",
       "      <td>Seattle</td>\n",
       "      <td>44400.0</td>\n",
       "      <td>50000.0</td>\n",
       "    </tr>\n",
       "    <tr>\n",
       "      <th>9</th>\n",
       "      <td>Washington D.C.</td>\n",
       "      <td>75516.0</td>\n",
       "      <td>114533.0</td>\n",
       "    </tr>\n",
       "  </tbody>\n",
       "</table>\n",
       "</div>"
      ],
      "text/plain": [
       "      updated_city  annual_min_median  annual_max_median\n",
       "0          Atlanta            80000.0           110000.0\n",
       "1           Austin            59004.0            73200.0\n",
       "2           Boston            75000.0           120000.0\n",
       "3         Columbus            65780.0            77508.8\n",
       "4           Denver            63858.0            72624.0\n",
       "5         New York            62862.0            66388.0\n",
       "6          Raleigh            49000.0            60320.0\n",
       "7    San Francisco           100000.0           135100.0\n",
       "8          Seattle            44400.0            50000.0\n",
       "9  Washington D.C.            75516.0           114533.0"
      ]
     },
     "execution_count": 21,
     "metadata": {},
     "output_type": "execute_result"
    }
   ],
   "source": [
    "# calculating annual median salaries for data related jobs based on the city\n",
    "\n",
    "data_jobs_median_sal = jobs_sal_data.groupby('updated_city')[['annual_min_salary', 'annual_max_salary']].agg(np.median) \\\n",
    "                            .reset_index() \\\n",
    "                            .rename(columns={'annual_min_salary': 'annual_min_median', 'annual_max_salary': 'annual_max_median'})\n",
    "data_jobs_median_sal"
   ]
  },
  {
   "cell_type": "markdown",
   "metadata": {},
   "source": [
    "### Merging and Cleaning Company Ratings Data"
   ]
  },
  {
   "cell_type": "code",
   "execution_count": 22,
   "metadata": {},
   "outputs": [
    {
     "data": {
      "text/html": [
       "<div>\n",
       "<style scoped>\n",
       "    .dataframe tbody tr th:only-of-type {\n",
       "        vertical-align: middle;\n",
       "    }\n",
       "\n",
       "    .dataframe tbody tr th {\n",
       "        vertical-align: top;\n",
       "    }\n",
       "\n",
       "    .dataframe thead th {\n",
       "        text-align: right;\n",
       "    }\n",
       "</style>\n",
       "<table border=\"1\" class=\"dataframe\">\n",
       "  <thead>\n",
       "    <tr style=\"text-align: right;\">\n",
       "      <th></th>\n",
       "      <th>url</th>\n",
       "      <th>rating</th>\n",
       "    </tr>\n",
       "  </thead>\n",
       "  <tbody>\n",
       "    <tr>\n",
       "      <th>0</th>\n",
       "      <td>http://www.indeed.com/viewjob?jk=389c5707bd0ad...</td>\n",
       "      <td>3.6</td>\n",
       "    </tr>\n",
       "    <tr>\n",
       "      <th>1</th>\n",
       "      <td>http://www.indeed.com/viewjob?jk=0df9dac32fbac...</td>\n",
       "      <td>3.8</td>\n",
       "    </tr>\n",
       "  </tbody>\n",
       "</table>\n",
       "</div>"
      ],
      "text/plain": [
       "                                                 url  rating\n",
       "0  http://www.indeed.com/viewjob?jk=389c5707bd0ad...     3.6\n",
       "1  http://www.indeed.com/viewjob?jk=0df9dac32fbac...     3.8"
      ]
     },
     "execution_count": 22,
     "metadata": {},
     "output_type": "execute_result"
    }
   ],
   "source": [
    "rating_data.head(2)"
   ]
  },
  {
   "cell_type": "code",
   "execution_count": 23,
   "metadata": {},
   "outputs": [],
   "source": [
    "# merging company ratings data with jobs data\n",
    "\n",
    "jobs_rating_data = pd.merge(rating_data, data_jobs, how='inner', on='url')"
   ]
  },
  {
   "cell_type": "code",
   "execution_count": 24,
   "metadata": {},
   "outputs": [
    {
     "data": {
      "text/html": [
       "<div>\n",
       "<style scoped>\n",
       "    .dataframe tbody tr th:only-of-type {\n",
       "        vertical-align: middle;\n",
       "    }\n",
       "\n",
       "    .dataframe tbody tr th {\n",
       "        vertical-align: top;\n",
       "    }\n",
       "\n",
       "    .dataframe thead th {\n",
       "        text-align: right;\n",
       "    }\n",
       "</style>\n",
       "<table border=\"1\" class=\"dataframe\">\n",
       "  <thead>\n",
       "    <tr style=\"text-align: right;\">\n",
       "      <th></th>\n",
       "      <th>jobtitle</th>\n",
       "      <th>company</th>\n",
       "      <th>rating</th>\n",
       "      <th>updated_city</th>\n",
       "      <th>state</th>\n",
       "    </tr>\n",
       "  </thead>\n",
       "  <tbody>\n",
       "    <tr>\n",
       "      <th>0</th>\n",
       "      <td>Data Center Security Engineer</td>\n",
       "      <td>Amazon Dev Center U.S., Inc.</td>\n",
       "      <td>3.6</td>\n",
       "      <td>Austin</td>\n",
       "      <td>TX</td>\n",
       "    </tr>\n",
       "    <tr>\n",
       "      <th>1</th>\n",
       "      <td>Senior Engineer - Data Science</td>\n",
       "      <td>The Home Depot</td>\n",
       "      <td>3.8</td>\n",
       "      <td>Austin</td>\n",
       "      <td>TX</td>\n",
       "    </tr>\n",
       "  </tbody>\n",
       "</table>\n",
       "</div>"
      ],
      "text/plain": [
       "                         jobtitle                       company  rating  \\\n",
       "0   Data Center Security Engineer  Amazon Dev Center U.S., Inc.     3.6   \n",
       "1  Senior Engineer - Data Science                The Home Depot     3.8   \n",
       "\n",
       "  updated_city state  \n",
       "0       Austin    TX  \n",
       "1       Austin    TX  "
      ]
     },
     "execution_count": 24,
     "metadata": {},
     "output_type": "execute_result"
    }
   ],
   "source": [
    "# selecting required columns and dropping duplicate rows (for company rating)\n",
    "\n",
    "jobs_rating_data = jobs_rating_data[['jobtitle', 'company', 'rating', 'updated_city', 'state']] \\\n",
    "                    .drop_duplicates(subset=['company'], keep='first')\n",
    "jobs_rating_data.head(2)"
   ]
  },
  {
   "cell_type": "code",
   "execution_count": 25,
   "metadata": {},
   "outputs": [
    {
     "data": {
      "text/plain": [
       "jobtitle        0\n",
       "company         0\n",
       "rating          0\n",
       "updated_city    0\n",
       "state           0\n",
       "dtype: int64"
      ]
     },
     "execution_count": 25,
     "metadata": {},
     "output_type": "execute_result"
    }
   ],
   "source": [
    "# checking for null values\n",
    "jobs_rating_data.isnull().sum()"
   ]
  },
  {
   "cell_type": "markdown",
   "metadata": {},
   "source": [
    "### Cleaning State Annual Median Salary Data"
   ]
  },
  {
   "cell_type": "code",
   "execution_count": 26,
   "metadata": {},
   "outputs": [
    {
     "data": {
      "text/html": [
       "<div>\n",
       "<style scoped>\n",
       "    .dataframe tbody tr th:only-of-type {\n",
       "        vertical-align: middle;\n",
       "    }\n",
       "\n",
       "    .dataframe tbody tr th {\n",
       "        vertical-align: top;\n",
       "    }\n",
       "\n",
       "    .dataframe thead th {\n",
       "        text-align: right;\n",
       "    }\n",
       "</style>\n",
       "<table border=\"1\" class=\"dataframe\">\n",
       "  <thead>\n",
       "    <tr style=\"text-align: right;\">\n",
       "      <th></th>\n",
       "      <th>AREA</th>\n",
       "      <th>ST</th>\n",
       "      <th>STATE</th>\n",
       "      <th>OCC_CODE</th>\n",
       "      <th>OCC_TITLE</th>\n",
       "      <th>OCC_GROUP</th>\n",
       "      <th>TOT_EMP</th>\n",
       "      <th>EMP_PRSE</th>\n",
       "      <th>JOBS_1000</th>\n",
       "      <th>LOC_Q</th>\n",
       "      <th>...</th>\n",
       "      <th>H_MEDIAN</th>\n",
       "      <th>H_PCT75</th>\n",
       "      <th>H_PCT90</th>\n",
       "      <th>A_PCT10</th>\n",
       "      <th>A_PCT25</th>\n",
       "      <th>A_MEDIAN</th>\n",
       "      <th>A_PCT75</th>\n",
       "      <th>A_PCT90</th>\n",
       "      <th>ANNUAL</th>\n",
       "      <th>HOURLY</th>\n",
       "    </tr>\n",
       "  </thead>\n",
       "  <tbody>\n",
       "    <tr>\n",
       "      <th>0</th>\n",
       "      <td>6</td>\n",
       "      <td>CA</td>\n",
       "      <td>California</td>\n",
       "      <td>00-0000</td>\n",
       "      <td>All Occupations</td>\n",
       "      <td>total</td>\n",
       "      <td>17,007,690</td>\n",
       "      <td>0.2</td>\n",
       "      <td>1000.0</td>\n",
       "      <td>1.0</td>\n",
       "      <td>...</td>\n",
       "      <td>20.40</td>\n",
       "      <td>35.15</td>\n",
       "      <td>56.54</td>\n",
       "      <td>23,590</td>\n",
       "      <td>27,830</td>\n",
       "      <td>42,430</td>\n",
       "      <td>73,110</td>\n",
       "      <td>117,590</td>\n",
       "      <td>NaN</td>\n",
       "      <td>NaN</td>\n",
       "    </tr>\n",
       "    <tr>\n",
       "      <th>1</th>\n",
       "      <td>8</td>\n",
       "      <td>CO</td>\n",
       "      <td>Colorado</td>\n",
       "      <td>00-0000</td>\n",
       "      <td>All Occupations</td>\n",
       "      <td>total</td>\n",
       "      <td>2,620,640</td>\n",
       "      <td>0.3</td>\n",
       "      <td>1000.0</td>\n",
       "      <td>1.0</td>\n",
       "      <td>...</td>\n",
       "      <td>20.34</td>\n",
       "      <td>32.49</td>\n",
       "      <td>50.05</td>\n",
       "      <td>22,480</td>\n",
       "      <td>28,110</td>\n",
       "      <td>42,310</td>\n",
       "      <td>67,570</td>\n",
       "      <td>104,110</td>\n",
       "      <td>NaN</td>\n",
       "      <td>NaN</td>\n",
       "    </tr>\n",
       "  </tbody>\n",
       "</table>\n",
       "<p>2 rows × 25 columns</p>\n",
       "</div>"
      ],
      "text/plain": [
       "   AREA  ST       STATE OCC_CODE        OCC_TITLE OCC_GROUP     TOT_EMP  \\\n",
       "0     6  CA  California  00-0000  All Occupations     total  17,007,690   \n",
       "1     8  CO    Colorado  00-0000  All Occupations     total   2,620,640   \n",
       "\n",
       "   EMP_PRSE  JOBS_1000  LOC_Q  ...  H_MEDIAN H_PCT75  H_PCT90  A_PCT10  \\\n",
       "0       0.2     1000.0    1.0  ...     20.40   35.15    56.54   23,590   \n",
       "1       0.3     1000.0    1.0  ...     20.34   32.49    50.05   22,480   \n",
       "\n",
       "   A_PCT25  A_MEDIAN  A_PCT75  A_PCT90 ANNUAL HOURLY  \n",
       "0   27,830    42,430   73,110  117,590    NaN    NaN  \n",
       "1   28,110    42,310   67,570  104,110    NaN    NaN  \n",
       "\n",
       "[2 rows x 25 columns]"
      ]
     },
     "execution_count": 26,
     "metadata": {},
     "output_type": "execute_result"
    }
   ],
   "source": [
    "state_median_sal.head(2)"
   ]
  },
  {
   "cell_type": "code",
   "execution_count": 27,
   "metadata": {},
   "outputs": [],
   "source": [
    "# assigning city_name column (common across all salary dataframes) needed for comparison and visualization \n",
    "state_median_sal = state_median_sal.assign(CITY_NAME=state_median_sal['ST'].apply(get_city_name)) \\\n",
    "\n",
    "# selecting required columns\n",
    "state_median_sal = state_median_sal[['AREA', 'ST', 'CITY_NAME', 'OCC_TITLE', 'OCC_GROUP', 'TOT_EMP', 'A_MEDIAN']]"
   ]
  },
  {
   "cell_type": "code",
   "execution_count": 28,
   "metadata": {},
   "outputs": [
    {
     "data": {
      "text/html": [
       "<div>\n",
       "<style scoped>\n",
       "    .dataframe tbody tr th:only-of-type {\n",
       "        vertical-align: middle;\n",
       "    }\n",
       "\n",
       "    .dataframe tbody tr th {\n",
       "        vertical-align: top;\n",
       "    }\n",
       "\n",
       "    .dataframe thead th {\n",
       "        text-align: right;\n",
       "    }\n",
       "</style>\n",
       "<table border=\"1\" class=\"dataframe\">\n",
       "  <thead>\n",
       "    <tr style=\"text-align: right;\">\n",
       "      <th></th>\n",
       "      <th>AREA</th>\n",
       "      <th>ST</th>\n",
       "      <th>CITY_NAME</th>\n",
       "      <th>OCC_TITLE</th>\n",
       "      <th>OCC_GROUP</th>\n",
       "      <th>TOT_EMP</th>\n",
       "      <th>A_MEDIAN</th>\n",
       "    </tr>\n",
       "  </thead>\n",
       "  <tbody>\n",
       "    <tr>\n",
       "      <th>0</th>\n",
       "      <td>6</td>\n",
       "      <td>CA</td>\n",
       "      <td>San Francisco</td>\n",
       "      <td>All Occupations</td>\n",
       "      <td>total</td>\n",
       "      <td>17,007,690</td>\n",
       "      <td>42,430</td>\n",
       "    </tr>\n",
       "    <tr>\n",
       "      <th>1</th>\n",
       "      <td>8</td>\n",
       "      <td>CO</td>\n",
       "      <td>Denver</td>\n",
       "      <td>All Occupations</td>\n",
       "      <td>total</td>\n",
       "      <td>2,620,640</td>\n",
       "      <td>42,310</td>\n",
       "    </tr>\n",
       "    <tr>\n",
       "      <th>2</th>\n",
       "      <td>11</td>\n",
       "      <td>DC</td>\n",
       "      <td>Washington D.C.</td>\n",
       "      <td>All Occupations</td>\n",
       "      <td>total</td>\n",
       "      <td>712,370</td>\n",
       "      <td>71,690</td>\n",
       "    </tr>\n",
       "    <tr>\n",
       "      <th>3</th>\n",
       "      <td>13</td>\n",
       "      <td>GA</td>\n",
       "      <td>Atlanta</td>\n",
       "      <td>All Occupations</td>\n",
       "      <td>total</td>\n",
       "      <td>4,394,740</td>\n",
       "      <td>35,950</td>\n",
       "    </tr>\n",
       "    <tr>\n",
       "      <th>4</th>\n",
       "      <td>25</td>\n",
       "      <td>MA</td>\n",
       "      <td>Boston</td>\n",
       "      <td>All Occupations</td>\n",
       "      <td>total</td>\n",
       "      <td>3,571,360</td>\n",
       "      <td>48,680</td>\n",
       "    </tr>\n",
       "    <tr>\n",
       "      <th>5</th>\n",
       "      <td>36</td>\n",
       "      <td>NY</td>\n",
       "      <td>New York</td>\n",
       "      <td>All Occupations</td>\n",
       "      <td>total</td>\n",
       "      <td>9,385,620</td>\n",
       "      <td>44,990</td>\n",
       "    </tr>\n",
       "    <tr>\n",
       "      <th>6</th>\n",
       "      <td>37</td>\n",
       "      <td>NC</td>\n",
       "      <td>Raleigh</td>\n",
       "      <td>All Occupations</td>\n",
       "      <td>total</td>\n",
       "      <td>4,383,210</td>\n",
       "      <td>35,750</td>\n",
       "    </tr>\n",
       "    <tr>\n",
       "      <th>7</th>\n",
       "      <td>39</td>\n",
       "      <td>OH</td>\n",
       "      <td>Columbus</td>\n",
       "      <td>All Occupations</td>\n",
       "      <td>total</td>\n",
       "      <td>5,416,810</td>\n",
       "      <td>37,360</td>\n",
       "    </tr>\n",
       "    <tr>\n",
       "      <th>8</th>\n",
       "      <td>48</td>\n",
       "      <td>TX</td>\n",
       "      <td>Austin</td>\n",
       "      <td>All Occupations</td>\n",
       "      <td>total</td>\n",
       "      <td>12,113,810</td>\n",
       "      <td>37,100</td>\n",
       "    </tr>\n",
       "    <tr>\n",
       "      <th>9</th>\n",
       "      <td>53</td>\n",
       "      <td>WA</td>\n",
       "      <td>Seattle</td>\n",
       "      <td>All Occupations</td>\n",
       "      <td>total</td>\n",
       "      <td>3,259,150</td>\n",
       "      <td>46,100</td>\n",
       "    </tr>\n",
       "  </tbody>\n",
       "</table>\n",
       "</div>"
      ],
      "text/plain": [
       "   AREA  ST        CITY_NAME        OCC_TITLE OCC_GROUP     TOT_EMP A_MEDIAN\n",
       "0     6  CA    San Francisco  All Occupations     total  17,007,690   42,430\n",
       "1     8  CO           Denver  All Occupations     total   2,620,640   42,310\n",
       "2    11  DC  Washington D.C.  All Occupations     total     712,370   71,690\n",
       "3    13  GA          Atlanta  All Occupations     total   4,394,740   35,950\n",
       "4    25  MA           Boston  All Occupations     total   3,571,360   48,680\n",
       "5    36  NY         New York  All Occupations     total   9,385,620   44,990\n",
       "6    37  NC          Raleigh  All Occupations     total   4,383,210   35,750\n",
       "7    39  OH         Columbus  All Occupations     total   5,416,810   37,360\n",
       "8    48  TX           Austin  All Occupations     total  12,113,810   37,100\n",
       "9    53  WA          Seattle  All Occupations     total   3,259,150   46,100"
      ]
     },
     "execution_count": 28,
     "metadata": {},
     "output_type": "execute_result"
    }
   ],
   "source": [
    "state_median_sal"
   ]
  },
  {
   "cell_type": "code",
   "execution_count": 29,
   "metadata": {},
   "outputs": [
    {
     "data": {
      "text/plain": [
       "AREA         0\n",
       "ST           0\n",
       "CITY_NAME    0\n",
       "OCC_TITLE    0\n",
       "OCC_GROUP    0\n",
       "TOT_EMP      0\n",
       "A_MEDIAN     0\n",
       "dtype: int64"
      ]
     },
     "execution_count": 29,
     "metadata": {},
     "output_type": "execute_result"
    }
   ],
   "source": [
    "# checking for null values\n",
    "state_median_sal.isnull().sum()"
   ]
  },
  {
   "cell_type": "markdown",
   "metadata": {},
   "source": [
    "### Cleaning City Annual Median Salary Data"
   ]
  },
  {
   "cell_type": "code",
   "execution_count": 30,
   "metadata": {},
   "outputs": [
    {
     "data": {
      "text/html": [
       "<div>\n",
       "<style scoped>\n",
       "    .dataframe tbody tr th:only-of-type {\n",
       "        vertical-align: middle;\n",
       "    }\n",
       "\n",
       "    .dataframe tbody tr th {\n",
       "        vertical-align: top;\n",
       "    }\n",
       "\n",
       "    .dataframe thead th {\n",
       "        text-align: right;\n",
       "    }\n",
       "</style>\n",
       "<table border=\"1\" class=\"dataframe\">\n",
       "  <thead>\n",
       "    <tr style=\"text-align: right;\">\n",
       "      <th></th>\n",
       "      <th>PRIM_STATE</th>\n",
       "      <th>CITY_NAME</th>\n",
       "      <th>OCC_TITLE</th>\n",
       "      <th>OCC_GROUP</th>\n",
       "      <th>TOT_EMP</th>\n",
       "      <th>A_MEDIAN</th>\n",
       "    </tr>\n",
       "  </thead>\n",
       "  <tbody>\n",
       "    <tr>\n",
       "      <th>0</th>\n",
       "      <td>CA</td>\n",
       "      <td>San Francisco</td>\n",
       "      <td>All Occupations</td>\n",
       "      <td>total</td>\n",
       "      <td>2,419,090</td>\n",
       "      <td>54,090</td>\n",
       "    </tr>\n",
       "    <tr>\n",
       "      <th>1</th>\n",
       "      <td>CO</td>\n",
       "      <td>Denver</td>\n",
       "      <td>All Occupations</td>\n",
       "      <td>total</td>\n",
       "      <td>1,478,110</td>\n",
       "      <td>45,420</td>\n",
       "    </tr>\n",
       "    <tr>\n",
       "      <th>2</th>\n",
       "      <td>DC</td>\n",
       "      <td>Washington D.C.</td>\n",
       "      <td>All Occupations</td>\n",
       "      <td>total</td>\n",
       "      <td>3,135,160</td>\n",
       "      <td>54,680</td>\n",
       "    </tr>\n",
       "    <tr>\n",
       "      <th>3</th>\n",
       "      <td>GA</td>\n",
       "      <td>Atlanta</td>\n",
       "      <td>All Occupations</td>\n",
       "      <td>total</td>\n",
       "      <td>2,682,910</td>\n",
       "      <td>39,080</td>\n",
       "    </tr>\n",
       "    <tr>\n",
       "      <th>4</th>\n",
       "      <td>MA</td>\n",
       "      <td>Boston</td>\n",
       "      <td>All Occupations</td>\n",
       "      <td>total</td>\n",
       "      <td>2,758,780</td>\n",
       "      <td>51,510</td>\n",
       "    </tr>\n",
       "    <tr>\n",
       "      <th>5</th>\n",
       "      <td>NC</td>\n",
       "      <td>Raleigh</td>\n",
       "      <td>All Occupations</td>\n",
       "      <td>total</td>\n",
       "      <td>629,570</td>\n",
       "      <td>39,460</td>\n",
       "    </tr>\n",
       "    <tr>\n",
       "      <th>6</th>\n",
       "      <td>NY</td>\n",
       "      <td>New York</td>\n",
       "      <td>All Occupations</td>\n",
       "      <td>total</td>\n",
       "      <td>9,498,420</td>\n",
       "      <td>47,080</td>\n",
       "    </tr>\n",
       "    <tr>\n",
       "      <th>7</th>\n",
       "      <td>OH</td>\n",
       "      <td>Columbus</td>\n",
       "      <td>All Occupations</td>\n",
       "      <td>total</td>\n",
       "      <td>1,051,570</td>\n",
       "      <td>39,300</td>\n",
       "    </tr>\n",
       "    <tr>\n",
       "      <th>8</th>\n",
       "      <td>TX</td>\n",
       "      <td>Austin</td>\n",
       "      <td>All Occupations</td>\n",
       "      <td>total</td>\n",
       "      <td>1,028,500</td>\n",
       "      <td>40,070</td>\n",
       "    </tr>\n",
       "    <tr>\n",
       "      <th>9</th>\n",
       "      <td>WA</td>\n",
       "      <td>Seattle</td>\n",
       "      <td>All Occupations</td>\n",
       "      <td>total</td>\n",
       "      <td>1,984,320</td>\n",
       "      <td>50,860</td>\n",
       "    </tr>\n",
       "  </tbody>\n",
       "</table>\n",
       "</div>"
      ],
      "text/plain": [
       "  PRIM_STATE        CITY_NAME        OCC_TITLE OCC_GROUP    TOT_EMP A_MEDIAN\n",
       "0         CA    San Francisco  All Occupations     total  2,419,090   54,090\n",
       "1         CO           Denver  All Occupations     total  1,478,110   45,420\n",
       "2         DC  Washington D.C.  All Occupations     total  3,135,160   54,680\n",
       "3         GA          Atlanta  All Occupations     total  2,682,910   39,080\n",
       "4         MA           Boston  All Occupations     total  2,758,780   51,510\n",
       "5         NC          Raleigh  All Occupations     total    629,570   39,460\n",
       "6         NY         New York  All Occupations     total  9,498,420   47,080\n",
       "7         OH         Columbus  All Occupations     total  1,051,570   39,300\n",
       "8         TX           Austin  All Occupations     total  1,028,500   40,070\n",
       "9         WA          Seattle  All Occupations     total  1,984,320   50,860"
      ]
     },
     "execution_count": 30,
     "metadata": {},
     "output_type": "execute_result"
    }
   ],
   "source": [
    "# assigning city_name column (common across all salary dataframes) needed for comparison and visualization\n",
    "city_median_sal = city_median_sal.assign(CITY_NAME=city_median_sal['PRIM_STATE'].apply(get_city_name)) \n",
    "\n",
    "# selecting required columns\n",
    "city_median_sal = city_median_sal[['PRIM_STATE', 'CITY_NAME', 'OCC_TITLE', 'OCC_GROUP', 'TOT_EMP', 'A_MEDIAN']] \n",
    "\n",
    "city_median_sal"
   ]
  },
  {
   "cell_type": "code",
   "execution_count": 31,
   "metadata": {
    "scrolled": true
   },
   "outputs": [
    {
     "data": {
      "text/plain": [
       "PRIM_STATE    0\n",
       "CITY_NAME     0\n",
       "OCC_TITLE     0\n",
       "OCC_GROUP     0\n",
       "TOT_EMP       0\n",
       "A_MEDIAN      0\n",
       "dtype: int64"
      ]
     },
     "execution_count": 31,
     "metadata": {},
     "output_type": "execute_result"
    }
   ],
   "source": [
    "# checking for null values\n",
    "city_median_sal.isnull().sum()"
   ]
  },
  {
   "cell_type": "markdown",
   "metadata": {},
   "source": [
    "### Cleaning the US Crime Data File"
   ]
  },
  {
   "cell_type": "code",
   "execution_count": 32,
   "metadata": {},
   "outputs": [
    {
     "data": {
      "text/html": [
       "<div>\n",
       "<style scoped>\n",
       "    .dataframe tbody tr th:only-of-type {\n",
       "        vertical-align: middle;\n",
       "    }\n",
       "\n",
       "    .dataframe tbody tr th {\n",
       "        vertical-align: top;\n",
       "    }\n",
       "\n",
       "    .dataframe thead th {\n",
       "        text-align: right;\n",
       "    }\n",
       "</style>\n",
       "<table border=\"1\" class=\"dataframe\">\n",
       "  <thead>\n",
       "    <tr style=\"text-align: right;\">\n",
       "      <th></th>\n",
       "      <th>ORI</th>\n",
       "      <th>year</th>\n",
       "      <th>department_name</th>\n",
       "      <th>total_pop</th>\n",
       "      <th>homs_sum</th>\n",
       "      <th>rape_sum</th>\n",
       "      <th>rob_sum</th>\n",
       "      <th>agg_ass_sum</th>\n",
       "      <th>violent_crime</th>\n",
       "      <th>months_reported</th>\n",
       "      <th>violent_per_100k</th>\n",
       "      <th>homs_per_100k</th>\n",
       "      <th>rape_per_100k</th>\n",
       "      <th>rob_per_100k</th>\n",
       "      <th>agg_ass_per_100k</th>\n",
       "      <th>source</th>\n",
       "      <th>url</th>\n",
       "    </tr>\n",
       "  </thead>\n",
       "  <tbody>\n",
       "    <tr>\n",
       "      <th>0</th>\n",
       "      <td>GAAPD00</td>\n",
       "      <td>2015</td>\n",
       "      <td>Atlanta</td>\n",
       "      <td>464710</td>\n",
       "      <td>94</td>\n",
       "      <td>170</td>\n",
       "      <td>1995</td>\n",
       "      <td>2944</td>\n",
       "      <td>5203</td>\n",
       "      <td>NaN</td>\n",
       "      <td>1119.622991</td>\n",
       "      <td>20.227669</td>\n",
       "      <td>36.581954</td>\n",
       "      <td>429.299993</td>\n",
       "      <td>633.513374</td>\n",
       "      <td>Crime in the U.S. 2015</td>\n",
       "      <td>https://ucr.fbi.gov/crime-in-the-u.s/2015/crim...</td>\n",
       "    </tr>\n",
       "    <tr>\n",
       "      <th>1</th>\n",
       "      <td>TX22701</td>\n",
       "      <td>2015</td>\n",
       "      <td>Austin</td>\n",
       "      <td>938728</td>\n",
       "      <td>23</td>\n",
       "      <td>487</td>\n",
       "      <td>929</td>\n",
       "      <td>2058</td>\n",
       "      <td>3497</td>\n",
       "      <td>NaN</td>\n",
       "      <td>372.525375</td>\n",
       "      <td>2.450124</td>\n",
       "      <td>51.878712</td>\n",
       "      <td>98.963704</td>\n",
       "      <td>219.232834</td>\n",
       "      <td>Crime in the U.S. 2015</td>\n",
       "      <td>https://ucr.fbi.gov/crime-in-the-u.s/2015/crim...</td>\n",
       "    </tr>\n",
       "  </tbody>\n",
       "</table>\n",
       "</div>"
      ],
      "text/plain": [
       "       ORI  year department_name  total_pop  homs_sum  rape_sum  rob_sum  \\\n",
       "0  GAAPD00  2015         Atlanta     464710        94       170     1995   \n",
       "1  TX22701  2015          Austin     938728        23       487      929   \n",
       "\n",
       "   agg_ass_sum  violent_crime  months_reported  violent_per_100k  \\\n",
       "0         2944           5203              NaN       1119.622991   \n",
       "1         2058           3497              NaN        372.525375   \n",
       "\n",
       "   homs_per_100k  rape_per_100k  rob_per_100k  agg_ass_per_100k  \\\n",
       "0      20.227669      36.581954    429.299993        633.513374   \n",
       "1       2.450124      51.878712     98.963704        219.232834   \n",
       "\n",
       "                   source                                                url  \n",
       "0  Crime in the U.S. 2015  https://ucr.fbi.gov/crime-in-the-u.s/2015/crim...  \n",
       "1  Crime in the U.S. 2015  https://ucr.fbi.gov/crime-in-the-u.s/2015/crim...  "
      ]
     },
     "execution_count": 32,
     "metadata": {},
     "output_type": "execute_result"
    }
   ],
   "source": [
    "us_crime_data.head(2)"
   ]
  },
  {
   "cell_type": "code",
   "execution_count": 33,
   "metadata": {},
   "outputs": [],
   "source": [
    "# selecting required columns\n",
    "\n",
    "us_crime_data = us_crime_data[['department_name', 'total_pop', 'homs_sum', 'rape_sum', 'rob_sum', 'agg_ass_sum', 'violent_crime', \n",
    "                               'violent_per_100k', 'homs_per_100k', 'rape_per_100k', 'rob_per_100k', 'agg_ass_per_100k', 'url']] \\\n",
    "                .rename(columns={'department_name': 'city'})    "
   ]
  },
  {
   "cell_type": "code",
   "execution_count": 34,
   "metadata": {},
   "outputs": [
    {
     "data": {
      "text/html": [
       "<div>\n",
       "<style scoped>\n",
       "    .dataframe tbody tr th:only-of-type {\n",
       "        vertical-align: middle;\n",
       "    }\n",
       "\n",
       "    .dataframe tbody tr th {\n",
       "        vertical-align: top;\n",
       "    }\n",
       "\n",
       "    .dataframe thead th {\n",
       "        text-align: right;\n",
       "    }\n",
       "</style>\n",
       "<table border=\"1\" class=\"dataframe\">\n",
       "  <thead>\n",
       "    <tr style=\"text-align: right;\">\n",
       "      <th></th>\n",
       "      <th>city</th>\n",
       "      <th>total_pop</th>\n",
       "      <th>homs_sum</th>\n",
       "      <th>rape_sum</th>\n",
       "      <th>rob_sum</th>\n",
       "      <th>agg_ass_sum</th>\n",
       "      <th>violent_crime</th>\n",
       "      <th>violent_per_100k</th>\n",
       "      <th>homs_per_100k</th>\n",
       "      <th>rape_per_100k</th>\n",
       "      <th>rob_per_100k</th>\n",
       "      <th>agg_ass_per_100k</th>\n",
       "      <th>url</th>\n",
       "    </tr>\n",
       "  </thead>\n",
       "  <tbody>\n",
       "    <tr>\n",
       "      <th>0</th>\n",
       "      <td>Atlanta</td>\n",
       "      <td>464710</td>\n",
       "      <td>94</td>\n",
       "      <td>170</td>\n",
       "      <td>1995</td>\n",
       "      <td>2944</td>\n",
       "      <td>5203</td>\n",
       "      <td>1119.622991</td>\n",
       "      <td>20.227669</td>\n",
       "      <td>36.581954</td>\n",
       "      <td>429.299993</td>\n",
       "      <td>633.513374</td>\n",
       "      <td>https://ucr.fbi.gov/crime-in-the-u.s/2015/crim...</td>\n",
       "    </tr>\n",
       "    <tr>\n",
       "      <th>1</th>\n",
       "      <td>Austin</td>\n",
       "      <td>938728</td>\n",
       "      <td>23</td>\n",
       "      <td>487</td>\n",
       "      <td>929</td>\n",
       "      <td>2058</td>\n",
       "      <td>3497</td>\n",
       "      <td>372.525375</td>\n",
       "      <td>2.450124</td>\n",
       "      <td>51.878712</td>\n",
       "      <td>98.963704</td>\n",
       "      <td>219.232834</td>\n",
       "      <td>https://ucr.fbi.gov/crime-in-the-u.s/2015/crim...</td>\n",
       "    </tr>\n",
       "  </tbody>\n",
       "</table>\n",
       "</div>"
      ],
      "text/plain": [
       "      city  total_pop  homs_sum  rape_sum  rob_sum  agg_ass_sum  \\\n",
       "0  Atlanta     464710        94       170     1995         2944   \n",
       "1   Austin     938728        23       487      929         2058   \n",
       "\n",
       "   violent_crime  violent_per_100k  homs_per_100k  rape_per_100k  \\\n",
       "0           5203       1119.622991      20.227669      36.581954   \n",
       "1           3497        372.525375       2.450124      51.878712   \n",
       "\n",
       "   rob_per_100k  agg_ass_per_100k  \\\n",
       "0    429.299993        633.513374   \n",
       "1     98.963704        219.232834   \n",
       "\n",
       "                                                 url  \n",
       "0  https://ucr.fbi.gov/crime-in-the-u.s/2015/crim...  \n",
       "1  https://ucr.fbi.gov/crime-in-the-u.s/2015/crim...  "
      ]
     },
     "execution_count": 34,
     "metadata": {},
     "output_type": "execute_result"
    }
   ],
   "source": [
    "us_crime_data.head(2)"
   ]
  },
  {
   "cell_type": "code",
   "execution_count": 35,
   "metadata": {},
   "outputs": [
    {
     "data": {
      "text/plain": [
       "city                0\n",
       "total_pop           0\n",
       "homs_sum            0\n",
       "rape_sum            0\n",
       "rob_sum             0\n",
       "agg_ass_sum         0\n",
       "violent_crime       0\n",
       "violent_per_100k    0\n",
       "homs_per_100k       0\n",
       "rape_per_100k       0\n",
       "rob_per_100k        0\n",
       "agg_ass_per_100k    0\n",
       "url                 1\n",
       "dtype: int64"
      ]
     },
     "execution_count": 35,
     "metadata": {},
     "output_type": "execute_result"
    }
   ],
   "source": [
    "# checking for null values\n",
    "us_crime_data.isnull().sum()"
   ]
  },
  {
   "cell_type": "markdown",
   "metadata": {},
   "source": [
    "### Cleaning Apartment Rent Data"
   ]
  },
  {
   "cell_type": "code",
   "execution_count": 36,
   "metadata": {},
   "outputs": [
    {
     "data": {
      "text/html": [
       "<div>\n",
       "<style scoped>\n",
       "    .dataframe tbody tr th:only-of-type {\n",
       "        vertical-align: middle;\n",
       "    }\n",
       "\n",
       "    .dataframe tbody tr th {\n",
       "        vertical-align: top;\n",
       "    }\n",
       "\n",
       "    .dataframe thead th {\n",
       "        text-align: right;\n",
       "    }\n",
       "</style>\n",
       "<table border=\"1\" class=\"dataframe\">\n",
       "  <thead>\n",
       "    <tr style=\"text-align: right;\">\n",
       "      <th></th>\n",
       "      <th>Location</th>\n",
       "      <th>Location_Type</th>\n",
       "      <th>State</th>\n",
       "      <th>Bedroom_Size</th>\n",
       "      <th>Price_2014_01</th>\n",
       "      <th>Price_2014_02</th>\n",
       "      <th>Price_2014_03</th>\n",
       "      <th>Price_2014_04</th>\n",
       "      <th>Price_2014_05</th>\n",
       "      <th>Price_2014_06</th>\n",
       "      <th>...</th>\n",
       "      <th>Price_2019_03</th>\n",
       "      <th>Price_2019_04</th>\n",
       "      <th>Price_2019_05</th>\n",
       "      <th>Price_2019_06</th>\n",
       "      <th>Price_2019_07</th>\n",
       "      <th>Price_2019_08</th>\n",
       "      <th>Price_2019_09</th>\n",
       "      <th>Price_2019_10</th>\n",
       "      <th>Price_2019_11</th>\n",
       "      <th>Price_2019_12</th>\n",
       "    </tr>\n",
       "  </thead>\n",
       "  <tbody>\n",
       "    <tr>\n",
       "      <th>0</th>\n",
       "      <td>New York, NY</td>\n",
       "      <td>City</td>\n",
       "      <td>NY</td>\n",
       "      <td>Studio</td>\n",
       "      <td>1780</td>\n",
       "      <td>1778</td>\n",
       "      <td>1781</td>\n",
       "      <td>1786</td>\n",
       "      <td>1794</td>\n",
       "      <td>1802</td>\n",
       "      <td>...</td>\n",
       "      <td>1889</td>\n",
       "      <td>1904</td>\n",
       "      <td>1920</td>\n",
       "      <td>1936</td>\n",
       "      <td>1933</td>\n",
       "      <td>1928</td>\n",
       "      <td>1922</td>\n",
       "      <td>1937</td>\n",
       "      <td>1940</td>\n",
       "      <td>1943</td>\n",
       "    </tr>\n",
       "    <tr>\n",
       "      <th>1</th>\n",
       "      <td>New York, NY</td>\n",
       "      <td>City</td>\n",
       "      <td>NY</td>\n",
       "      <td>1br</td>\n",
       "      <td>1976</td>\n",
       "      <td>1975</td>\n",
       "      <td>1978</td>\n",
       "      <td>1983</td>\n",
       "      <td>1992</td>\n",
       "      <td>2001</td>\n",
       "      <td>...</td>\n",
       "      <td>2098</td>\n",
       "      <td>2114</td>\n",
       "      <td>2132</td>\n",
       "      <td>2150</td>\n",
       "      <td>2146</td>\n",
       "      <td>2142</td>\n",
       "      <td>2134</td>\n",
       "      <td>2151</td>\n",
       "      <td>2155</td>\n",
       "      <td>2158</td>\n",
       "    </tr>\n",
       "  </tbody>\n",
       "</table>\n",
       "<p>2 rows × 76 columns</p>\n",
       "</div>"
      ],
      "text/plain": [
       "       Location Location_Type State Bedroom_Size  Price_2014_01  \\\n",
       "0  New York, NY          City    NY       Studio           1780   \n",
       "1  New York, NY          City    NY          1br           1976   \n",
       "\n",
       "   Price_2014_02  Price_2014_03  Price_2014_04  Price_2014_05  Price_2014_06  \\\n",
       "0           1778           1781           1786           1794           1802   \n",
       "1           1975           1978           1983           1992           2001   \n",
       "\n",
       "   ...  Price_2019_03  Price_2019_04  Price_2019_05  Price_2019_06  \\\n",
       "0  ...           1889           1904           1920           1936   \n",
       "1  ...           2098           2114           2132           2150   \n",
       "\n",
       "   Price_2019_07  Price_2019_08  Price_2019_09  Price_2019_10  Price_2019_11  \\\n",
       "0           1933           1928           1922           1937           1940   \n",
       "1           2146           2142           2134           2151           2155   \n",
       "\n",
       "   Price_2019_12  \n",
       "0           1943  \n",
       "1           2158  \n",
       "\n",
       "[2 rows x 76 columns]"
      ]
     },
     "execution_count": 36,
     "metadata": {},
     "output_type": "execute_result"
    }
   ],
   "source": [
    "apt_rent_data.head(2)"
   ]
  },
  {
   "cell_type": "code",
   "execution_count": 37,
   "metadata": {},
   "outputs": [],
   "source": [
    "# assigning city column (common across all salary dataframes) needed for comparison and visualization\n",
    "apt_rent_data = apt_rent_data.assign(City=apt_rent_data['State'].apply(get_city_name)) \n",
    "\n",
    "# keeping only required columns\n",
    "apt_rent_data = apt_rent_data[['City', 'State', 'Bedroom_Size', 'Price_2019_12']] \n",
    "apt_rent_data = apt_rent_data.pivot(index='City', columns='Bedroom_Size', values='Price_2019_12')"
   ]
  },
  {
   "cell_type": "code",
   "execution_count": 38,
   "metadata": {},
   "outputs": [
    {
     "data": {
      "text/html": [
       "<div>\n",
       "<style scoped>\n",
       "    .dataframe tbody tr th:only-of-type {\n",
       "        vertical-align: middle;\n",
       "    }\n",
       "\n",
       "    .dataframe tbody tr th {\n",
       "        vertical-align: top;\n",
       "    }\n",
       "\n",
       "    .dataframe thead th {\n",
       "        text-align: right;\n",
       "    }\n",
       "</style>\n",
       "<table border=\"1\" class=\"dataframe\">\n",
       "  <thead>\n",
       "    <tr style=\"text-align: right;\">\n",
       "      <th>Bedroom_Size</th>\n",
       "      <th>1br</th>\n",
       "      <th>2br</th>\n",
       "      <th>3br</th>\n",
       "      <th>4br</th>\n",
       "      <th>Studio</th>\n",
       "    </tr>\n",
       "    <tr>\n",
       "      <th>City</th>\n",
       "      <th></th>\n",
       "      <th></th>\n",
       "      <th></th>\n",
       "      <th></th>\n",
       "      <th></th>\n",
       "    </tr>\n",
       "  </thead>\n",
       "  <tbody>\n",
       "    <tr>\n",
       "      <th>Atlanta</th>\n",
       "      <td>1039</td>\n",
       "      <td>1200</td>\n",
       "      <td>1575</td>\n",
       "      <td>1936</td>\n",
       "      <td>991</td>\n",
       "    </tr>\n",
       "    <tr>\n",
       "      <th>Austin</th>\n",
       "      <td>1192</td>\n",
       "      <td>1471</td>\n",
       "      <td>1993</td>\n",
       "      <td>2399</td>\n",
       "      <td>983</td>\n",
       "    </tr>\n",
       "  </tbody>\n",
       "</table>\n",
       "</div>"
      ],
      "text/plain": [
       "Bedroom_Size   1br   2br   3br   4br  Studio\n",
       "City                                        \n",
       "Atlanta       1039  1200  1575  1936     991\n",
       "Austin        1192  1471  1993  2399     983"
      ]
     },
     "execution_count": 38,
     "metadata": {},
     "output_type": "execute_result"
    }
   ],
   "source": [
    "apt_rent_data.head(2)"
   ]
  },
  {
   "cell_type": "markdown",
   "metadata": {},
   "source": [
    "### Cleaning Median House Price Data"
   ]
  },
  {
   "cell_type": "code",
   "execution_count": 39,
   "metadata": {},
   "outputs": [
    {
     "data": {
      "text/html": [
       "<div>\n",
       "<style scoped>\n",
       "    .dataframe tbody tr th:only-of-type {\n",
       "        vertical-align: middle;\n",
       "    }\n",
       "\n",
       "    .dataframe tbody tr th {\n",
       "        vertical-align: top;\n",
       "    }\n",
       "\n",
       "    .dataframe thead th {\n",
       "        text-align: right;\n",
       "    }\n",
       "</style>\n",
       "<table border=\"1\" class=\"dataframe\">\n",
       "  <thead>\n",
       "    <tr style=\"text-align: right;\">\n",
       "      <th></th>\n",
       "      <th>CITY</th>\n",
       "      <th>ST_ABBRV</th>\n",
       "      <th>SIZE RANK</th>\n",
       "      <th>BEDROOMS_HOUSE</th>\n",
       "      <th>MEDIAN HOME VALUE</th>\n",
       "    </tr>\n",
       "  </thead>\n",
       "  <tbody>\n",
       "    <tr>\n",
       "      <th>1</th>\n",
       "      <td>New York</td>\n",
       "      <td>NY</td>\n",
       "      <td>1</td>\n",
       "      <td>1</td>\n",
       "      <td>391567.6667</td>\n",
       "    </tr>\n",
       "    <tr>\n",
       "      <th>1</th>\n",
       "      <td>Washington</td>\n",
       "      <td>DC</td>\n",
       "      <td>7</td>\n",
       "      <td>1</td>\n",
       "      <td>312517.6667</td>\n",
       "    </tr>\n",
       "  </tbody>\n",
       "</table>\n",
       "</div>"
      ],
      "text/plain": [
       "         CITY ST_ABBRV  SIZE RANK  BEDROOMS_HOUSE  MEDIAN HOME VALUE\n",
       "1    New York       NY          1               1        391567.6667\n",
       "1  Washington       DC          7               1        312517.6667"
      ]
     },
     "execution_count": 39,
     "metadata": {},
     "output_type": "execute_result"
    }
   ],
   "source": [
    "median_home_price_df.head(2)"
   ]
  },
  {
   "cell_type": "code",
   "execution_count": 40,
   "metadata": {},
   "outputs": [],
   "source": [
    "# re-arranging the data to show house prices based on size(number of bedrooms)\n",
    "\n",
    "median_home_price_data = median_home_price_df.pivot(index='CITY', columns='BEDROOMS_HOUSE', values='MEDIAN HOME VALUE')"
   ]
  },
  {
   "cell_type": "code",
   "execution_count": 41,
   "metadata": {},
   "outputs": [
    {
     "data": {
      "text/html": [
       "<div>\n",
       "<style scoped>\n",
       "    .dataframe tbody tr th:only-of-type {\n",
       "        vertical-align: middle;\n",
       "    }\n",
       "\n",
       "    .dataframe tbody tr th {\n",
       "        vertical-align: top;\n",
       "    }\n",
       "\n",
       "    .dataframe thead th {\n",
       "        text-align: right;\n",
       "    }\n",
       "</style>\n",
       "<table border=\"1\" class=\"dataframe\">\n",
       "  <thead>\n",
       "    <tr style=\"text-align: right;\">\n",
       "      <th>BEDROOMS_HOUSE</th>\n",
       "      <th>1</th>\n",
       "      <th>2</th>\n",
       "      <th>3</th>\n",
       "      <th>4</th>\n",
       "      <th>5</th>\n",
       "    </tr>\n",
       "    <tr>\n",
       "      <th>CITY</th>\n",
       "      <th></th>\n",
       "      <th></th>\n",
       "      <th></th>\n",
       "      <th></th>\n",
       "      <th></th>\n",
       "    </tr>\n",
       "  </thead>\n",
       "  <tbody>\n",
       "    <tr>\n",
       "      <th>Atlanta</th>\n",
       "      <td>201050.3333</td>\n",
       "      <td>178565.0000</td>\n",
       "      <td>1.979517e+05</td>\n",
       "      <td>2.892450e+05</td>\n",
       "      <td>4.183047e+05</td>\n",
       "    </tr>\n",
       "    <tr>\n",
       "      <th>Austin</th>\n",
       "      <td>258838.3333</td>\n",
       "      <td>310509.6667</td>\n",
       "      <td>2.977300e+05</td>\n",
       "      <td>3.856777e+05</td>\n",
       "      <td>5.653223e+05</td>\n",
       "    </tr>\n",
       "    <tr>\n",
       "      <th>Boston</th>\n",
       "      <td>350358.0000</td>\n",
       "      <td>382498.0000</td>\n",
       "      <td>4.577677e+05</td>\n",
       "      <td>6.168550e+05</td>\n",
       "      <td>8.774370e+05</td>\n",
       "    </tr>\n",
       "    <tr>\n",
       "      <th>Columbus</th>\n",
       "      <td>107595.3333</td>\n",
       "      <td>137180.0000</td>\n",
       "      <td>1.937777e+05</td>\n",
       "      <td>2.991533e+05</td>\n",
       "      <td>4.238153e+05</td>\n",
       "    </tr>\n",
       "    <tr>\n",
       "      <th>Denver</th>\n",
       "      <td>250056.6667</td>\n",
       "      <td>342350.0000</td>\n",
       "      <td>4.175047e+05</td>\n",
       "      <td>5.081567e+05</td>\n",
       "      <td>6.139150e+05</td>\n",
       "    </tr>\n",
       "    <tr>\n",
       "      <th>New York</th>\n",
       "      <td>391567.6667</td>\n",
       "      <td>340460.0000</td>\n",
       "      <td>4.192160e+05</td>\n",
       "      <td>5.310483e+05</td>\n",
       "      <td>7.738423e+05</td>\n",
       "    </tr>\n",
       "    <tr>\n",
       "      <th>Raleigh</th>\n",
       "      <td>173997.6667</td>\n",
       "      <td>173107.0000</td>\n",
       "      <td>2.331973e+05</td>\n",
       "      <td>3.603493e+05</td>\n",
       "      <td>4.889703e+05</td>\n",
       "    </tr>\n",
       "    <tr>\n",
       "      <th>San Francisco</th>\n",
       "      <td>NaN</td>\n",
       "      <td>NaN</td>\n",
       "      <td>1.037435e+06</td>\n",
       "      <td>1.283832e+06</td>\n",
       "      <td>1.637889e+06</td>\n",
       "    </tr>\n",
       "    <tr>\n",
       "      <th>Seattle</th>\n",
       "      <td>366461.3333</td>\n",
       "      <td>414984.0000</td>\n",
       "      <td>4.746977e+05</td>\n",
       "      <td>6.290253e+05</td>\n",
       "      <td>7.658623e+05</td>\n",
       "    </tr>\n",
       "    <tr>\n",
       "      <th>Washington</th>\n",
       "      <td>312517.6667</td>\n",
       "      <td>331675.0000</td>\n",
       "      <td>3.938020e+05</td>\n",
       "      <td>5.418123e+05</td>\n",
       "      <td>7.015357e+05</td>\n",
       "    </tr>\n",
       "  </tbody>\n",
       "</table>\n",
       "</div>"
      ],
      "text/plain": [
       "BEDROOMS_HOUSE            1            2             3             4  \\\n",
       "CITY                                                                   \n",
       "Atlanta         201050.3333  178565.0000  1.979517e+05  2.892450e+05   \n",
       "Austin          258838.3333  310509.6667  2.977300e+05  3.856777e+05   \n",
       "Boston          350358.0000  382498.0000  4.577677e+05  6.168550e+05   \n",
       "Columbus        107595.3333  137180.0000  1.937777e+05  2.991533e+05   \n",
       "Denver          250056.6667  342350.0000  4.175047e+05  5.081567e+05   \n",
       "New York        391567.6667  340460.0000  4.192160e+05  5.310483e+05   \n",
       "Raleigh         173997.6667  173107.0000  2.331973e+05  3.603493e+05   \n",
       "San Francisco           NaN          NaN  1.037435e+06  1.283832e+06   \n",
       "Seattle         366461.3333  414984.0000  4.746977e+05  6.290253e+05   \n",
       "Washington      312517.6667  331675.0000  3.938020e+05  5.418123e+05   \n",
       "\n",
       "BEDROOMS_HOUSE             5  \n",
       "CITY                          \n",
       "Atlanta         4.183047e+05  \n",
       "Austin          5.653223e+05  \n",
       "Boston          8.774370e+05  \n",
       "Columbus        4.238153e+05  \n",
       "Denver          6.139150e+05  \n",
       "New York        7.738423e+05  \n",
       "Raleigh         4.889703e+05  \n",
       "San Francisco   1.637889e+06  \n",
       "Seattle         7.658623e+05  \n",
       "Washington      7.015357e+05  "
      ]
     },
     "execution_count": 41,
     "metadata": {},
     "output_type": "execute_result"
    }
   ],
   "source": [
    "median_home_price_data"
   ]
  },
  {
   "cell_type": "markdown",
   "metadata": {},
   "source": [
    "### Merging and Cleaning Experience Data"
   ]
  },
  {
   "cell_type": "code",
   "execution_count": 42,
   "metadata": {},
   "outputs": [
    {
     "data": {
      "text/html": [
       "<div>\n",
       "<style scoped>\n",
       "    .dataframe tbody tr th:only-of-type {\n",
       "        vertical-align: middle;\n",
       "    }\n",
       "\n",
       "    .dataframe tbody tr th {\n",
       "        vertical-align: top;\n",
       "    }\n",
       "\n",
       "    .dataframe thead th {\n",
       "        text-align: right;\n",
       "    }\n",
       "</style>\n",
       "<table border=\"1\" class=\"dataframe\">\n",
       "  <thead>\n",
       "    <tr style=\"text-align: right;\">\n",
       "      <th></th>\n",
       "      <th>index</th>\n",
       "      <th>url</th>\n",
       "      <th>exp</th>\n",
       "    </tr>\n",
       "  </thead>\n",
       "  <tbody>\n",
       "    <tr>\n",
       "      <th>0</th>\n",
       "      <td>0</td>\n",
       "      <td>http://www.indeed.com/viewjob?jk=389c5707bd0ad...</td>\n",
       "      <td>3</td>\n",
       "    </tr>\n",
       "    <tr>\n",
       "      <th>1</th>\n",
       "      <td>1</td>\n",
       "      <td>http://www.indeed.com/viewjob?jk=0df9dac32fbac...</td>\n",
       "      <td>3</td>\n",
       "    </tr>\n",
       "  </tbody>\n",
       "</table>\n",
       "</div>"
      ],
      "text/plain": [
       "   index                                                url  exp\n",
       "0      0  http://www.indeed.com/viewjob?jk=389c5707bd0ad...    3\n",
       "1      1  http://www.indeed.com/viewjob?jk=0df9dac32fbac...    3"
      ]
     },
     "execution_count": 42,
     "metadata": {},
     "output_type": "execute_result"
    }
   ],
   "source": [
    "exp_years.head(2)"
   ]
  },
  {
   "cell_type": "code",
   "execution_count": 43,
   "metadata": {},
   "outputs": [],
   "source": [
    "# merging experience data with jobs data\n",
    "\n",
    "jobs_experience_data = pd.merge(exp_years, data_jobs, how='inner', on='url')"
   ]
  },
  {
   "cell_type": "code",
   "execution_count": 44,
   "metadata": {},
   "outputs": [
    {
     "data": {
      "text/html": [
       "<div>\n",
       "<style scoped>\n",
       "    .dataframe tbody tr th:only-of-type {\n",
       "        vertical-align: middle;\n",
       "    }\n",
       "\n",
       "    .dataframe tbody tr th {\n",
       "        vertical-align: top;\n",
       "    }\n",
       "\n",
       "    .dataframe thead th {\n",
       "        text-align: right;\n",
       "    }\n",
       "</style>\n",
       "<table border=\"1\" class=\"dataframe\">\n",
       "  <thead>\n",
       "    <tr style=\"text-align: right;\">\n",
       "      <th></th>\n",
       "      <th>jobtitle</th>\n",
       "      <th>company</th>\n",
       "      <th>exp</th>\n",
       "      <th>updated_city</th>\n",
       "      <th>state</th>\n",
       "    </tr>\n",
       "  </thead>\n",
       "  <tbody>\n",
       "    <tr>\n",
       "      <th>0</th>\n",
       "      <td>Data Center Security Engineer</td>\n",
       "      <td>Amazon Dev Center U.S., Inc.</td>\n",
       "      <td>3</td>\n",
       "      <td>Austin</td>\n",
       "      <td>TX</td>\n",
       "    </tr>\n",
       "    <tr>\n",
       "      <th>1</th>\n",
       "      <td>Senior Engineer - Data Science</td>\n",
       "      <td>The Home Depot</td>\n",
       "      <td>3</td>\n",
       "      <td>Austin</td>\n",
       "      <td>TX</td>\n",
       "    </tr>\n",
       "  </tbody>\n",
       "</table>\n",
       "</div>"
      ],
      "text/plain": [
       "                         jobtitle                       company  exp  \\\n",
       "0   Data Center Security Engineer  Amazon Dev Center U.S., Inc.    3   \n",
       "1  Senior Engineer - Data Science                The Home Depot    3   \n",
       "\n",
       "  updated_city state  \n",
       "0       Austin    TX  \n",
       "1       Austin    TX  "
      ]
     },
     "execution_count": 44,
     "metadata": {},
     "output_type": "execute_result"
    }
   ],
   "source": [
    "# selecting required columns and dropping duplicate rows (for experience)\n",
    "\n",
    "jobs_experience_data = jobs_experience_data[['jobtitle', 'company', 'exp', 'updated_city', 'state']] \\\n",
    "                    .drop_duplicates(subset=['company'], keep='first')\n",
    "jobs_experience_data.head(2)"
   ]
  },
  {
   "cell_type": "code",
   "execution_count": 45,
   "metadata": {},
   "outputs": [
    {
     "data": {
      "text/plain": [
       "jobtitle        0\n",
       "company         0\n",
       "exp             0\n",
       "updated_city    0\n",
       "state           0\n",
       "dtype: int64"
      ]
     },
     "execution_count": 45,
     "metadata": {},
     "output_type": "execute_result"
    }
   ],
   "source": [
    "# checking for null values\n",
    "jobs_experience_data.isnull().sum()"
   ]
  },
  {
   "cell_type": "markdown",
   "metadata": {},
   "source": [
    "# <br><font color='green'> *** Data ANALYSIS Begins Here *** </font>"
   ]
  },
  {
   "cell_type": "markdown",
   "metadata": {},
   "source": [
    "## <center><font color='blue'> It's ALL About NUMBERS !!!! The more the Merrier !!</font></center>  "
   ]
  },
  {
   "cell_type": "markdown",
   "metadata": {},
   "source": [
    "#### Finding Total number of companies combined for all 10 cities that posted data related jobs on the job portal in last 120 days."
   ]
  },
  {
   "cell_type": "code",
   "execution_count": 46,
   "metadata": {},
   "outputs": [
    {
     "name": "stdout",
     "output_type": "stream",
     "text": [
      "3124 companies combined for all 10 cities posted data related jobs on the job portal in last 120 days.\n"
     ]
    }
   ],
   "source": [
    "# Number of unique companies that posted data related jobs in last 120 days on the job portal  \n",
    "unique_company_count = data_jobs['company'].nunique()\n",
    "print(f'{unique_company_count} companies combined for all 10 cities posted data related jobs on the job portal in last 120 days.')"
   ]
  },
  {
   "cell_type": "markdown",
   "metadata": {},
   "source": [
    "### Finding Total number of jobs posted by each of the 10 cities in last 120 days."
   ]
  },
  {
   "cell_type": "code",
   "execution_count": 47,
   "metadata": {},
   "outputs": [
    {
     "data": {
      "text/html": [
       "<div>\n",
       "<style scoped>\n",
       "    .dataframe tbody tr th:only-of-type {\n",
       "        vertical-align: middle;\n",
       "    }\n",
       "\n",
       "    .dataframe tbody tr th {\n",
       "        vertical-align: top;\n",
       "    }\n",
       "\n",
       "    .dataframe thead th {\n",
       "        text-align: right;\n",
       "    }\n",
       "</style>\n",
       "<table border=\"1\" class=\"dataframe\">\n",
       "  <thead>\n",
       "    <tr style=\"text-align: right;\">\n",
       "      <th></th>\n",
       "      <th>updated_city</th>\n",
       "      <th>job_count</th>\n",
       "    </tr>\n",
       "  </thead>\n",
       "  <tbody>\n",
       "    <tr>\n",
       "      <th>0</th>\n",
       "      <td>Washington D.C.</td>\n",
       "      <td>2400</td>\n",
       "    </tr>\n",
       "    <tr>\n",
       "      <th>1</th>\n",
       "      <td>New York</td>\n",
       "      <td>1800</td>\n",
       "    </tr>\n",
       "    <tr>\n",
       "      <th>2</th>\n",
       "      <td>San Francisco</td>\n",
       "      <td>1374</td>\n",
       "    </tr>\n",
       "    <tr>\n",
       "      <th>3</th>\n",
       "      <td>Boston</td>\n",
       "      <td>1250</td>\n",
       "    </tr>\n",
       "    <tr>\n",
       "      <th>4</th>\n",
       "      <td>Seattle</td>\n",
       "      <td>1075</td>\n",
       "    </tr>\n",
       "    <tr>\n",
       "      <th>5</th>\n",
       "      <td>Atlanta</td>\n",
       "      <td>641</td>\n",
       "    </tr>\n",
       "    <tr>\n",
       "      <th>6</th>\n",
       "      <td>Denver</td>\n",
       "      <td>563</td>\n",
       "    </tr>\n",
       "    <tr>\n",
       "      <th>7</th>\n",
       "      <td>Austin</td>\n",
       "      <td>457</td>\n",
       "    </tr>\n",
       "    <tr>\n",
       "      <th>8</th>\n",
       "      <td>Raleigh</td>\n",
       "      <td>424</td>\n",
       "    </tr>\n",
       "    <tr>\n",
       "      <th>9</th>\n",
       "      <td>Columbus</td>\n",
       "      <td>299</td>\n",
       "    </tr>\n",
       "  </tbody>\n",
       "</table>\n",
       "</div>"
      ],
      "text/plain": [
       "      updated_city  job_count\n",
       "0  Washington D.C.       2400\n",
       "1         New York       1800\n",
       "2    San Francisco       1374\n",
       "3           Boston       1250\n",
       "4          Seattle       1075\n",
       "5          Atlanta        641\n",
       "6           Denver        563\n",
       "7           Austin        457\n",
       "8          Raleigh        424\n",
       "9         Columbus        299"
      ]
     },
     "execution_count": 47,
     "metadata": {},
     "output_type": "execute_result"
    }
   ],
   "source": [
    "# creating dataframe to hold city-wise count of data jobs posted in last 120 days in sorted order (ascending)\n",
    "\n",
    "citywise_job_count = pd.DataFrame(data_jobs.groupby(['updated_city'])['company'].count()) \\\n",
    "                        .sort_values('company', ascending=False) \\\n",
    "                        .reset_index() \\\n",
    "                        .rename(columns = {'company': 'job_count'}).iloc[:10]\n",
    "                       \n",
    "citywise_job_count"
   ]
  },
  {
   "cell_type": "code",
   "execution_count": 48,
   "metadata": {},
   "outputs": [
    {
     "data": {
      "application/vnd.plotly.v1+json": {
       "config": {
        "linkText": "Export to plot.ly",
        "plotlyServerURL": "https://plot.ly",
        "showLink": true
       },
       "data": [
        {
         "marker": {
          "color": "rgba(255, 255, 51, 0.6)",
          "line": {
           "color": "rgba(255, 255, 51, 1.0)",
           "width": 1
          }
         },
         "name": "job_count",
         "orientation": "v",
         "text": "",
         "type": "bar",
         "x": [
          "Washington D.C.",
          "New York",
          "San Francisco",
          "Boston",
          "Seattle",
          "Atlanta",
          "Denver",
          "Austin",
          "Raleigh",
          "Columbus"
         ],
         "y": [
          2400,
          1800,
          1374,
          1250,
          1075,
          641,
          563,
          457,
          424,
          299
         ]
        }
       ],
       "layout": {
        "legend": {
         "bgcolor": "#151516",
         "font": {
          "color": "#D9D9D9"
         }
        },
        "paper_bgcolor": "#151516",
        "plot_bgcolor": "#151516",
        "template": {
         "data": {
          "bar": [
           {
            "error_x": {
             "color": "#2a3f5f"
            },
            "error_y": {
             "color": "#2a3f5f"
            },
            "marker": {
             "line": {
              "color": "#E5ECF6",
              "width": 0.5
             }
            },
            "type": "bar"
           }
          ],
          "barpolar": [
           {
            "marker": {
             "line": {
              "color": "#E5ECF6",
              "width": 0.5
             }
            },
            "type": "barpolar"
           }
          ],
          "carpet": [
           {
            "aaxis": {
             "endlinecolor": "#2a3f5f",
             "gridcolor": "white",
             "linecolor": "white",
             "minorgridcolor": "white",
             "startlinecolor": "#2a3f5f"
            },
            "baxis": {
             "endlinecolor": "#2a3f5f",
             "gridcolor": "white",
             "linecolor": "white",
             "minorgridcolor": "white",
             "startlinecolor": "#2a3f5f"
            },
            "type": "carpet"
           }
          ],
          "choropleth": [
           {
            "colorbar": {
             "outlinewidth": 0,
             "ticks": ""
            },
            "type": "choropleth"
           }
          ],
          "contour": [
           {
            "colorbar": {
             "outlinewidth": 0,
             "ticks": ""
            },
            "colorscale": [
             [
              0,
              "#0d0887"
             ],
             [
              0.1111111111111111,
              "#46039f"
             ],
             [
              0.2222222222222222,
              "#7201a8"
             ],
             [
              0.3333333333333333,
              "#9c179e"
             ],
             [
              0.4444444444444444,
              "#bd3786"
             ],
             [
              0.5555555555555556,
              "#d8576b"
             ],
             [
              0.6666666666666666,
              "#ed7953"
             ],
             [
              0.7777777777777778,
              "#fb9f3a"
             ],
             [
              0.8888888888888888,
              "#fdca26"
             ],
             [
              1,
              "#f0f921"
             ]
            ],
            "type": "contour"
           }
          ],
          "contourcarpet": [
           {
            "colorbar": {
             "outlinewidth": 0,
             "ticks": ""
            },
            "type": "contourcarpet"
           }
          ],
          "heatmap": [
           {
            "colorbar": {
             "outlinewidth": 0,
             "ticks": ""
            },
            "colorscale": [
             [
              0,
              "#0d0887"
             ],
             [
              0.1111111111111111,
              "#46039f"
             ],
             [
              0.2222222222222222,
              "#7201a8"
             ],
             [
              0.3333333333333333,
              "#9c179e"
             ],
             [
              0.4444444444444444,
              "#bd3786"
             ],
             [
              0.5555555555555556,
              "#d8576b"
             ],
             [
              0.6666666666666666,
              "#ed7953"
             ],
             [
              0.7777777777777778,
              "#fb9f3a"
             ],
             [
              0.8888888888888888,
              "#fdca26"
             ],
             [
              1,
              "#f0f921"
             ]
            ],
            "type": "heatmap"
           }
          ],
          "heatmapgl": [
           {
            "colorbar": {
             "outlinewidth": 0,
             "ticks": ""
            },
            "colorscale": [
             [
              0,
              "#0d0887"
             ],
             [
              0.1111111111111111,
              "#46039f"
             ],
             [
              0.2222222222222222,
              "#7201a8"
             ],
             [
              0.3333333333333333,
              "#9c179e"
             ],
             [
              0.4444444444444444,
              "#bd3786"
             ],
             [
              0.5555555555555556,
              "#d8576b"
             ],
             [
              0.6666666666666666,
              "#ed7953"
             ],
             [
              0.7777777777777778,
              "#fb9f3a"
             ],
             [
              0.8888888888888888,
              "#fdca26"
             ],
             [
              1,
              "#f0f921"
             ]
            ],
            "type": "heatmapgl"
           }
          ],
          "histogram": [
           {
            "marker": {
             "colorbar": {
              "outlinewidth": 0,
              "ticks": ""
             }
            },
            "type": "histogram"
           }
          ],
          "histogram2d": [
           {
            "colorbar": {
             "outlinewidth": 0,
             "ticks": ""
            },
            "colorscale": [
             [
              0,
              "#0d0887"
             ],
             [
              0.1111111111111111,
              "#46039f"
             ],
             [
              0.2222222222222222,
              "#7201a8"
             ],
             [
              0.3333333333333333,
              "#9c179e"
             ],
             [
              0.4444444444444444,
              "#bd3786"
             ],
             [
              0.5555555555555556,
              "#d8576b"
             ],
             [
              0.6666666666666666,
              "#ed7953"
             ],
             [
              0.7777777777777778,
              "#fb9f3a"
             ],
             [
              0.8888888888888888,
              "#fdca26"
             ],
             [
              1,
              "#f0f921"
             ]
            ],
            "type": "histogram2d"
           }
          ],
          "histogram2dcontour": [
           {
            "colorbar": {
             "outlinewidth": 0,
             "ticks": ""
            },
            "colorscale": [
             [
              0,
              "#0d0887"
             ],
             [
              0.1111111111111111,
              "#46039f"
             ],
             [
              0.2222222222222222,
              "#7201a8"
             ],
             [
              0.3333333333333333,
              "#9c179e"
             ],
             [
              0.4444444444444444,
              "#bd3786"
             ],
             [
              0.5555555555555556,
              "#d8576b"
             ],
             [
              0.6666666666666666,
              "#ed7953"
             ],
             [
              0.7777777777777778,
              "#fb9f3a"
             ],
             [
              0.8888888888888888,
              "#fdca26"
             ],
             [
              1,
              "#f0f921"
             ]
            ],
            "type": "histogram2dcontour"
           }
          ],
          "mesh3d": [
           {
            "colorbar": {
             "outlinewidth": 0,
             "ticks": ""
            },
            "type": "mesh3d"
           }
          ],
          "parcoords": [
           {
            "line": {
             "colorbar": {
              "outlinewidth": 0,
              "ticks": ""
             }
            },
            "type": "parcoords"
           }
          ],
          "pie": [
           {
            "automargin": true,
            "type": "pie"
           }
          ],
          "scatter": [
           {
            "marker": {
             "colorbar": {
              "outlinewidth": 0,
              "ticks": ""
             }
            },
            "type": "scatter"
           }
          ],
          "scatter3d": [
           {
            "line": {
             "colorbar": {
              "outlinewidth": 0,
              "ticks": ""
             }
            },
            "marker": {
             "colorbar": {
              "outlinewidth": 0,
              "ticks": ""
             }
            },
            "type": "scatter3d"
           }
          ],
          "scattercarpet": [
           {
            "marker": {
             "colorbar": {
              "outlinewidth": 0,
              "ticks": ""
             }
            },
            "type": "scattercarpet"
           }
          ],
          "scattergeo": [
           {
            "marker": {
             "colorbar": {
              "outlinewidth": 0,
              "ticks": ""
             }
            },
            "type": "scattergeo"
           }
          ],
          "scattergl": [
           {
            "marker": {
             "colorbar": {
              "outlinewidth": 0,
              "ticks": ""
             }
            },
            "type": "scattergl"
           }
          ],
          "scattermapbox": [
           {
            "marker": {
             "colorbar": {
              "outlinewidth": 0,
              "ticks": ""
             }
            },
            "type": "scattermapbox"
           }
          ],
          "scatterpolar": [
           {
            "marker": {
             "colorbar": {
              "outlinewidth": 0,
              "ticks": ""
             }
            },
            "type": "scatterpolar"
           }
          ],
          "scatterpolargl": [
           {
            "marker": {
             "colorbar": {
              "outlinewidth": 0,
              "ticks": ""
             }
            },
            "type": "scatterpolargl"
           }
          ],
          "scatterternary": [
           {
            "marker": {
             "colorbar": {
              "outlinewidth": 0,
              "ticks": ""
             }
            },
            "type": "scatterternary"
           }
          ],
          "surface": [
           {
            "colorbar": {
             "outlinewidth": 0,
             "ticks": ""
            },
            "colorscale": [
             [
              0,
              "#0d0887"
             ],
             [
              0.1111111111111111,
              "#46039f"
             ],
             [
              0.2222222222222222,
              "#7201a8"
             ],
             [
              0.3333333333333333,
              "#9c179e"
             ],
             [
              0.4444444444444444,
              "#bd3786"
             ],
             [
              0.5555555555555556,
              "#d8576b"
             ],
             [
              0.6666666666666666,
              "#ed7953"
             ],
             [
              0.7777777777777778,
              "#fb9f3a"
             ],
             [
              0.8888888888888888,
              "#fdca26"
             ],
             [
              1,
              "#f0f921"
             ]
            ],
            "type": "surface"
           }
          ],
          "table": [
           {
            "cells": {
             "fill": {
              "color": "#EBF0F8"
             },
             "line": {
              "color": "white"
             }
            },
            "header": {
             "fill": {
              "color": "#C8D4E3"
             },
             "line": {
              "color": "white"
             }
            },
            "type": "table"
           }
          ]
         },
         "layout": {
          "annotationdefaults": {
           "arrowcolor": "#2a3f5f",
           "arrowhead": 0,
           "arrowwidth": 1
          },
          "coloraxis": {
           "colorbar": {
            "outlinewidth": 0,
            "ticks": ""
           }
          },
          "colorscale": {
           "diverging": [
            [
             0,
             "#8e0152"
            ],
            [
             0.1,
             "#c51b7d"
            ],
            [
             0.2,
             "#de77ae"
            ],
            [
             0.3,
             "#f1b6da"
            ],
            [
             0.4,
             "#fde0ef"
            ],
            [
             0.5,
             "#f7f7f7"
            ],
            [
             0.6,
             "#e6f5d0"
            ],
            [
             0.7,
             "#b8e186"
            ],
            [
             0.8,
             "#7fbc41"
            ],
            [
             0.9,
             "#4d9221"
            ],
            [
             1,
             "#276419"
            ]
           ],
           "sequential": [
            [
             0,
             "#0d0887"
            ],
            [
             0.1111111111111111,
             "#46039f"
            ],
            [
             0.2222222222222222,
             "#7201a8"
            ],
            [
             0.3333333333333333,
             "#9c179e"
            ],
            [
             0.4444444444444444,
             "#bd3786"
            ],
            [
             0.5555555555555556,
             "#d8576b"
            ],
            [
             0.6666666666666666,
             "#ed7953"
            ],
            [
             0.7777777777777778,
             "#fb9f3a"
            ],
            [
             0.8888888888888888,
             "#fdca26"
            ],
            [
             1,
             "#f0f921"
            ]
           ],
           "sequentialminus": [
            [
             0,
             "#0d0887"
            ],
            [
             0.1111111111111111,
             "#46039f"
            ],
            [
             0.2222222222222222,
             "#7201a8"
            ],
            [
             0.3333333333333333,
             "#9c179e"
            ],
            [
             0.4444444444444444,
             "#bd3786"
            ],
            [
             0.5555555555555556,
             "#d8576b"
            ],
            [
             0.6666666666666666,
             "#ed7953"
            ],
            [
             0.7777777777777778,
             "#fb9f3a"
            ],
            [
             0.8888888888888888,
             "#fdca26"
            ],
            [
             1,
             "#f0f921"
            ]
           ]
          },
          "colorway": [
           "#636efa",
           "#EF553B",
           "#00cc96",
           "#ab63fa",
           "#FFA15A",
           "#19d3f3",
           "#FF6692",
           "#B6E880",
           "#FF97FF",
           "#FECB52"
          ],
          "font": {
           "color": "#2a3f5f"
          },
          "geo": {
           "bgcolor": "white",
           "lakecolor": "white",
           "landcolor": "#E5ECF6",
           "showlakes": true,
           "showland": true,
           "subunitcolor": "white"
          },
          "hoverlabel": {
           "align": "left"
          },
          "hovermode": "closest",
          "mapbox": {
           "style": "light"
          },
          "paper_bgcolor": "white",
          "plot_bgcolor": "#E5ECF6",
          "polar": {
           "angularaxis": {
            "gridcolor": "white",
            "linecolor": "white",
            "ticks": ""
           },
           "bgcolor": "#E5ECF6",
           "radialaxis": {
            "gridcolor": "white",
            "linecolor": "white",
            "ticks": ""
           }
          },
          "scene": {
           "xaxis": {
            "backgroundcolor": "#E5ECF6",
            "gridcolor": "white",
            "gridwidth": 2,
            "linecolor": "white",
            "showbackground": true,
            "ticks": "",
            "zerolinecolor": "white"
           },
           "yaxis": {
            "backgroundcolor": "#E5ECF6",
            "gridcolor": "white",
            "gridwidth": 2,
            "linecolor": "white",
            "showbackground": true,
            "ticks": "",
            "zerolinecolor": "white"
           },
           "zaxis": {
            "backgroundcolor": "#E5ECF6",
            "gridcolor": "white",
            "gridwidth": 2,
            "linecolor": "white",
            "showbackground": true,
            "ticks": "",
            "zerolinecolor": "white"
           }
          },
          "shapedefaults": {
           "line": {
            "color": "#2a3f5f"
           }
          },
          "ternary": {
           "aaxis": {
            "gridcolor": "white",
            "linecolor": "white",
            "ticks": ""
           },
           "baxis": {
            "gridcolor": "white",
            "linecolor": "white",
            "ticks": ""
           },
           "bgcolor": "#E5ECF6",
           "caxis": {
            "gridcolor": "white",
            "linecolor": "white",
            "ticks": ""
           }
          },
          "title": {
           "x": 0.05
          },
          "xaxis": {
           "automargin": true,
           "gridcolor": "white",
           "linecolor": "white",
           "ticks": "",
           "title": {
            "standoff": 15
           },
           "zerolinecolor": "white",
           "zerolinewidth": 2
          },
          "yaxis": {
           "automargin": true,
           "gridcolor": "white",
           "linecolor": "white",
           "ticks": "",
           "title": {
            "standoff": 15
           },
           "zerolinecolor": "white",
           "zerolinewidth": 2
          }
         }
        },
        "title": {
         "font": {
          "color": "#D9D9D9"
         },
         "text": "Top 10 US Tech Cities vs Number of data jobs posted in last 120 days"
        },
        "xaxis": {
         "gridcolor": "#434343",
         "showgrid": true,
         "tickfont": {
          "color": "#C2C2C2"
         },
         "title": {
          "font": {
           "color": "#D9D9D9"
          },
          "text": ""
         },
         "zerolinecolor": "#666570"
        },
        "yaxis": {
         "gridcolor": "#434343",
         "showgrid": true,
         "tickfont": {
          "color": "#C2C2C2"
         },
         "title": {
          "font": {
           "color": "#D9D9D9"
          },
          "text": "Number of data jobs posted"
         },
         "zerolinecolor": "#666570"
        }
       }
      },
      "text/html": [
       "<div>\n",
       "        \n",
       "        \n",
       "            <div id=\"b2e6b918-255c-4dfb-beff-c87fc48cc7de\" class=\"plotly-graph-div\" style=\"height:525px; width:100%;\"></div>\n",
       "            <script type=\"text/javascript\">\n",
       "                require([\"plotly\"], function(Plotly) {\n",
       "                    window.PLOTLYENV=window.PLOTLYENV || {};\n",
       "                    window.PLOTLYENV.BASE_URL='https://plot.ly';\n",
       "                    \n",
       "                if (document.getElementById(\"b2e6b918-255c-4dfb-beff-c87fc48cc7de\")) {\n",
       "                    Plotly.newPlot(\n",
       "                        'b2e6b918-255c-4dfb-beff-c87fc48cc7de',\n",
       "                        [{\"marker\": {\"color\": \"rgba(255, 255, 51, 0.6)\", \"line\": {\"color\": \"rgba(255, 255, 51, 1.0)\", \"width\": 1}}, \"name\": \"job_count\", \"orientation\": \"v\", \"text\": \"\", \"type\": \"bar\", \"x\": [\"Washington D.C.\", \"New York\", \"San Francisco\", \"Boston\", \"Seattle\", \"Atlanta\", \"Denver\", \"Austin\", \"Raleigh\", \"Columbus\"], \"y\": [2400, 1800, 1374, 1250, 1075, 641, 563, 457, 424, 299]}],\n",
       "                        {\"legend\": {\"bgcolor\": \"#151516\", \"font\": {\"color\": \"#D9D9D9\"}}, \"paper_bgcolor\": \"#151516\", \"plot_bgcolor\": \"#151516\", \"template\": {\"data\": {\"bar\": [{\"error_x\": {\"color\": \"#2a3f5f\"}, \"error_y\": {\"color\": \"#2a3f5f\"}, \"marker\": {\"line\": {\"color\": \"#E5ECF6\", \"width\": 0.5}}, \"type\": \"bar\"}], \"barpolar\": [{\"marker\": {\"line\": {\"color\": \"#E5ECF6\", \"width\": 0.5}}, \"type\": \"barpolar\"}], \"carpet\": [{\"aaxis\": {\"endlinecolor\": \"#2a3f5f\", \"gridcolor\": \"white\", \"linecolor\": \"white\", \"minorgridcolor\": \"white\", \"startlinecolor\": \"#2a3f5f\"}, \"baxis\": {\"endlinecolor\": \"#2a3f5f\", \"gridcolor\": \"white\", \"linecolor\": \"white\", \"minorgridcolor\": \"white\", \"startlinecolor\": \"#2a3f5f\"}, \"type\": \"carpet\"}], \"choropleth\": [{\"colorbar\": {\"outlinewidth\": 0, \"ticks\": \"\"}, \"type\": \"choropleth\"}], \"contour\": [{\"colorbar\": {\"outlinewidth\": 0, \"ticks\": \"\"}, \"colorscale\": [[0.0, \"#0d0887\"], [0.1111111111111111, \"#46039f\"], [0.2222222222222222, \"#7201a8\"], [0.3333333333333333, \"#9c179e\"], [0.4444444444444444, \"#bd3786\"], [0.5555555555555556, \"#d8576b\"], [0.6666666666666666, \"#ed7953\"], [0.7777777777777778, \"#fb9f3a\"], [0.8888888888888888, \"#fdca26\"], [1.0, \"#f0f921\"]], \"type\": \"contour\"}], \"contourcarpet\": [{\"colorbar\": {\"outlinewidth\": 0, \"ticks\": \"\"}, \"type\": \"contourcarpet\"}], \"heatmap\": [{\"colorbar\": {\"outlinewidth\": 0, \"ticks\": \"\"}, \"colorscale\": [[0.0, \"#0d0887\"], [0.1111111111111111, \"#46039f\"], [0.2222222222222222, \"#7201a8\"], [0.3333333333333333, \"#9c179e\"], [0.4444444444444444, \"#bd3786\"], [0.5555555555555556, \"#d8576b\"], [0.6666666666666666, \"#ed7953\"], [0.7777777777777778, \"#fb9f3a\"], [0.8888888888888888, \"#fdca26\"], [1.0, \"#f0f921\"]], \"type\": \"heatmap\"}], \"heatmapgl\": [{\"colorbar\": {\"outlinewidth\": 0, \"ticks\": \"\"}, \"colorscale\": [[0.0, \"#0d0887\"], [0.1111111111111111, \"#46039f\"], [0.2222222222222222, \"#7201a8\"], [0.3333333333333333, \"#9c179e\"], [0.4444444444444444, \"#bd3786\"], [0.5555555555555556, \"#d8576b\"], [0.6666666666666666, \"#ed7953\"], [0.7777777777777778, \"#fb9f3a\"], [0.8888888888888888, \"#fdca26\"], [1.0, \"#f0f921\"]], \"type\": \"heatmapgl\"}], \"histogram\": [{\"marker\": {\"colorbar\": {\"outlinewidth\": 0, \"ticks\": \"\"}}, \"type\": \"histogram\"}], \"histogram2d\": [{\"colorbar\": {\"outlinewidth\": 0, \"ticks\": \"\"}, \"colorscale\": [[0.0, \"#0d0887\"], [0.1111111111111111, \"#46039f\"], [0.2222222222222222, \"#7201a8\"], [0.3333333333333333, \"#9c179e\"], [0.4444444444444444, \"#bd3786\"], [0.5555555555555556, \"#d8576b\"], [0.6666666666666666, \"#ed7953\"], [0.7777777777777778, \"#fb9f3a\"], [0.8888888888888888, \"#fdca26\"], [1.0, \"#f0f921\"]], \"type\": \"histogram2d\"}], \"histogram2dcontour\": [{\"colorbar\": {\"outlinewidth\": 0, \"ticks\": \"\"}, \"colorscale\": [[0.0, \"#0d0887\"], [0.1111111111111111, \"#46039f\"], [0.2222222222222222, \"#7201a8\"], [0.3333333333333333, \"#9c179e\"], [0.4444444444444444, \"#bd3786\"], [0.5555555555555556, \"#d8576b\"], [0.6666666666666666, \"#ed7953\"], [0.7777777777777778, \"#fb9f3a\"], [0.8888888888888888, \"#fdca26\"], [1.0, \"#f0f921\"]], \"type\": \"histogram2dcontour\"}], \"mesh3d\": [{\"colorbar\": {\"outlinewidth\": 0, \"ticks\": \"\"}, \"type\": \"mesh3d\"}], \"parcoords\": [{\"line\": {\"colorbar\": {\"outlinewidth\": 0, \"ticks\": \"\"}}, \"type\": \"parcoords\"}], \"pie\": [{\"automargin\": true, \"type\": \"pie\"}], \"scatter\": [{\"marker\": {\"colorbar\": {\"outlinewidth\": 0, \"ticks\": \"\"}}, \"type\": \"scatter\"}], \"scatter3d\": [{\"line\": {\"colorbar\": {\"outlinewidth\": 0, \"ticks\": \"\"}}, \"marker\": {\"colorbar\": {\"outlinewidth\": 0, \"ticks\": \"\"}}, \"type\": \"scatter3d\"}], \"scattercarpet\": [{\"marker\": {\"colorbar\": {\"outlinewidth\": 0, \"ticks\": \"\"}}, \"type\": \"scattercarpet\"}], \"scattergeo\": [{\"marker\": {\"colorbar\": {\"outlinewidth\": 0, \"ticks\": \"\"}}, \"type\": \"scattergeo\"}], \"scattergl\": [{\"marker\": {\"colorbar\": {\"outlinewidth\": 0, \"ticks\": \"\"}}, \"type\": \"scattergl\"}], \"scattermapbox\": [{\"marker\": {\"colorbar\": {\"outlinewidth\": 0, \"ticks\": \"\"}}, \"type\": \"scattermapbox\"}], \"scatterpolar\": [{\"marker\": {\"colorbar\": {\"outlinewidth\": 0, \"ticks\": \"\"}}, \"type\": \"scatterpolar\"}], \"scatterpolargl\": [{\"marker\": {\"colorbar\": {\"outlinewidth\": 0, \"ticks\": \"\"}}, \"type\": \"scatterpolargl\"}], \"scatterternary\": [{\"marker\": {\"colorbar\": {\"outlinewidth\": 0, \"ticks\": \"\"}}, \"type\": \"scatterternary\"}], \"surface\": [{\"colorbar\": {\"outlinewidth\": 0, \"ticks\": \"\"}, \"colorscale\": [[0.0, \"#0d0887\"], [0.1111111111111111, \"#46039f\"], [0.2222222222222222, \"#7201a8\"], [0.3333333333333333, \"#9c179e\"], [0.4444444444444444, \"#bd3786\"], [0.5555555555555556, \"#d8576b\"], [0.6666666666666666, \"#ed7953\"], [0.7777777777777778, \"#fb9f3a\"], [0.8888888888888888, \"#fdca26\"], [1.0, \"#f0f921\"]], \"type\": \"surface\"}], \"table\": [{\"cells\": {\"fill\": {\"color\": \"#EBF0F8\"}, \"line\": {\"color\": \"white\"}}, \"header\": {\"fill\": {\"color\": \"#C8D4E3\"}, \"line\": {\"color\": \"white\"}}, \"type\": \"table\"}]}, \"layout\": {\"annotationdefaults\": {\"arrowcolor\": \"#2a3f5f\", \"arrowhead\": 0, \"arrowwidth\": 1}, \"coloraxis\": {\"colorbar\": {\"outlinewidth\": 0, \"ticks\": \"\"}}, \"colorscale\": {\"diverging\": [[0, \"#8e0152\"], [0.1, \"#c51b7d\"], [0.2, \"#de77ae\"], [0.3, \"#f1b6da\"], [0.4, \"#fde0ef\"], [0.5, \"#f7f7f7\"], [0.6, \"#e6f5d0\"], [0.7, \"#b8e186\"], [0.8, \"#7fbc41\"], [0.9, \"#4d9221\"], [1, \"#276419\"]], \"sequential\": [[0.0, \"#0d0887\"], [0.1111111111111111, \"#46039f\"], [0.2222222222222222, \"#7201a8\"], [0.3333333333333333, \"#9c179e\"], [0.4444444444444444, \"#bd3786\"], [0.5555555555555556, \"#d8576b\"], [0.6666666666666666, \"#ed7953\"], [0.7777777777777778, \"#fb9f3a\"], [0.8888888888888888, \"#fdca26\"], [1.0, \"#f0f921\"]], \"sequentialminus\": [[0.0, \"#0d0887\"], [0.1111111111111111, \"#46039f\"], [0.2222222222222222, \"#7201a8\"], [0.3333333333333333, \"#9c179e\"], [0.4444444444444444, \"#bd3786\"], [0.5555555555555556, \"#d8576b\"], [0.6666666666666666, \"#ed7953\"], [0.7777777777777778, \"#fb9f3a\"], [0.8888888888888888, \"#fdca26\"], [1.0, \"#f0f921\"]]}, \"colorway\": [\"#636efa\", \"#EF553B\", \"#00cc96\", \"#ab63fa\", \"#FFA15A\", \"#19d3f3\", \"#FF6692\", \"#B6E880\", \"#FF97FF\", \"#FECB52\"], \"font\": {\"color\": \"#2a3f5f\"}, \"geo\": {\"bgcolor\": \"white\", \"lakecolor\": \"white\", \"landcolor\": \"#E5ECF6\", \"showlakes\": true, \"showland\": true, \"subunitcolor\": \"white\"}, \"hoverlabel\": {\"align\": \"left\"}, \"hovermode\": \"closest\", \"mapbox\": {\"style\": \"light\"}, \"paper_bgcolor\": \"white\", \"plot_bgcolor\": \"#E5ECF6\", \"polar\": {\"angularaxis\": {\"gridcolor\": \"white\", \"linecolor\": \"white\", \"ticks\": \"\"}, \"bgcolor\": \"#E5ECF6\", \"radialaxis\": {\"gridcolor\": \"white\", \"linecolor\": \"white\", \"ticks\": \"\"}}, \"scene\": {\"xaxis\": {\"backgroundcolor\": \"#E5ECF6\", \"gridcolor\": \"white\", \"gridwidth\": 2, \"linecolor\": \"white\", \"showbackground\": true, \"ticks\": \"\", \"zerolinecolor\": \"white\"}, \"yaxis\": {\"backgroundcolor\": \"#E5ECF6\", \"gridcolor\": \"white\", \"gridwidth\": 2, \"linecolor\": \"white\", \"showbackground\": true, \"ticks\": \"\", \"zerolinecolor\": \"white\"}, \"zaxis\": {\"backgroundcolor\": \"#E5ECF6\", \"gridcolor\": \"white\", \"gridwidth\": 2, \"linecolor\": \"white\", \"showbackground\": true, \"ticks\": \"\", \"zerolinecolor\": \"white\"}}, \"shapedefaults\": {\"line\": {\"color\": \"#2a3f5f\"}}, \"ternary\": {\"aaxis\": {\"gridcolor\": \"white\", \"linecolor\": \"white\", \"ticks\": \"\"}, \"baxis\": {\"gridcolor\": \"white\", \"linecolor\": \"white\", \"ticks\": \"\"}, \"bgcolor\": \"#E5ECF6\", \"caxis\": {\"gridcolor\": \"white\", \"linecolor\": \"white\", \"ticks\": \"\"}}, \"title\": {\"x\": 0.05}, \"xaxis\": {\"automargin\": true, \"gridcolor\": \"white\", \"linecolor\": \"white\", \"ticks\": \"\", \"title\": {\"standoff\": 15}, \"zerolinecolor\": \"white\", \"zerolinewidth\": 2}, \"yaxis\": {\"automargin\": true, \"gridcolor\": \"white\", \"linecolor\": \"white\", \"ticks\": \"\", \"title\": {\"standoff\": 15}, \"zerolinecolor\": \"white\", \"zerolinewidth\": 2}}}, \"title\": {\"font\": {\"color\": \"#D9D9D9\"}, \"text\": \"Top 10 US Tech Cities vs Number of data jobs posted in last 120 days\"}, \"xaxis\": {\"gridcolor\": \"#434343\", \"showgrid\": true, \"tickfont\": {\"color\": \"#C2C2C2\"}, \"title\": {\"font\": {\"color\": \"#D9D9D9\"}, \"text\": \"\"}, \"zerolinecolor\": \"#666570\"}, \"yaxis\": {\"gridcolor\": \"#434343\", \"showgrid\": true, \"tickfont\": {\"color\": \"#C2C2C2\"}, \"title\": {\"font\": {\"color\": \"#D9D9D9\"}, \"text\": \"Number of data jobs posted\"}, \"zerolinecolor\": \"#666570\"}},\n",
       "                        {\"showLink\": true, \"linkText\": \"Export to plot.ly\", \"plotlyServerURL\": \"https://plot.ly\", \"responsive\": true}\n",
       "                    ).then(function(){\n",
       "                            \n",
       "var gd = document.getElementById('b2e6b918-255c-4dfb-beff-c87fc48cc7de');\n",
       "var x = new MutationObserver(function (mutations, observer) {{\n",
       "        var display = window.getComputedStyle(gd).display;\n",
       "        if (!display || display === 'none') {{\n",
       "            console.log([gd, 'removed!']);\n",
       "            Plotly.purge(gd);\n",
       "            observer.disconnect();\n",
       "        }}\n",
       "}});\n",
       "\n",
       "// Listen for the removal of the full notebook cells\n",
       "var notebookContainer = gd.closest('#notebook-container');\n",
       "if (notebookContainer) {{\n",
       "    x.observe(notebookContainer, {childList: true});\n",
       "}}\n",
       "\n",
       "// Listen for the clearing of the current output cell\n",
       "var outputEl = gd.closest('.output');\n",
       "if (outputEl) {{\n",
       "    x.observe(outputEl, {childList: true});\n",
       "}}\n",
       "\n",
       "                        })\n",
       "                };\n",
       "                });\n",
       "            </script>\n",
       "        </div>"
      ]
     },
     "metadata": {},
     "output_type": "display_data"
    }
   ],
   "source": [
    "# displaying city-wise count of data jobs posted in last 120 days in sorted order (ascending)\n",
    "\n",
    "citywise_job_count.iplot(kind='bar', x='updated_city', y='job_count', \n",
    "                         yTitle='Number of data jobs posted', \n",
    "                         title='Top 10 US Tech Cities vs Number of data jobs posted in last 120 days',\n",
    "                         theme='solar',\n",
    "                         colors='yellow')"
   ]
  },
  {
   "cell_type": "markdown",
   "metadata": {},
   "source": [
    "<hr>\n",
    "<h4 align=\"center\" style=\"color:black;\"> Analysis: Top 10 US Tech Cities vs Number of data jobs posted in last 120 days </h4>\n",
    "<h4 style=\"color:#666666;\">Source: Indeed API </h4>\n",
    "Based off of daily samples for 120 days (based of pubdates), we were able to find the total number of jobs posted by each one of the 10 \"tech hubs\" in the US for all data-related jobs (e.g. data scientist, BI analyst, data engineer, etc.). This was simply extracted by using Indeed's API and getting the value_counts() of these jobs (q or queries) in these cities (l or locations).\n",
    "It is pretty clear to see that most of the growth in the last 4 months is happening in cities like DC (metro area), NYC and San Francisco. \n",
    "<hr>"
   ]
  },
  {
   "cell_type": "markdown",
   "metadata": {},
   "source": [
    "### Finding the Companies that posted maximum data related jobs in each city."
   ]
  },
  {
   "cell_type": "code",
   "execution_count": 49,
   "metadata": {},
   "outputs": [
    {
     "data": {
      "text/html": [
       "<div>\n",
       "<style scoped>\n",
       "    .dataframe tbody tr th:only-of-type {\n",
       "        vertical-align: middle;\n",
       "    }\n",
       "\n",
       "    .dataframe tbody tr th {\n",
       "        vertical-align: top;\n",
       "    }\n",
       "\n",
       "    .dataframe thead th {\n",
       "        text-align: right;\n",
       "    }\n",
       "</style>\n",
       "<table border=\"1\" class=\"dataframe\">\n",
       "  <thead>\n",
       "    <tr style=\"text-align: right;\">\n",
       "      <th></th>\n",
       "      <th>updated_city</th>\n",
       "      <th>company</th>\n",
       "      <th>job_count</th>\n",
       "    </tr>\n",
       "  </thead>\n",
       "  <tbody>\n",
       "    <tr>\n",
       "      <th>0</th>\n",
       "      <td>Washington D.C.</td>\n",
       "      <td>Ho-Chunk</td>\n",
       "      <td>169</td>\n",
       "    </tr>\n",
       "    <tr>\n",
       "      <th>1</th>\n",
       "      <td>Washington D.C.</td>\n",
       "      <td>Compass, Inc.</td>\n",
       "      <td>115</td>\n",
       "    </tr>\n",
       "    <tr>\n",
       "      <th>2</th>\n",
       "      <td>Washington D.C.</td>\n",
       "      <td>Booz Allen Hamilton</td>\n",
       "      <td>70</td>\n",
       "    </tr>\n",
       "  </tbody>\n",
       "</table>\n",
       "</div>"
      ],
      "text/plain": [
       "      updated_city              company  job_count\n",
       "0  Washington D.C.             Ho-Chunk        169\n",
       "1  Washington D.C.        Compass, Inc.        115\n",
       "2  Washington D.C.  Booz Allen Hamilton         70"
      ]
     },
     "execution_count": 49,
     "metadata": {},
     "output_type": "execute_result"
    }
   ],
   "source": [
    "# creating a dataframe to store number of jobs posted by companies grouped by city \n",
    "\n",
    "city_jobs = pd.DataFrame(data_jobs.groupby(['updated_city', 'company'])['company'].count()) \\\n",
    "                        .rename(columns = {'company': 'job_count'}) \\\n",
    "                        .reset_index() \\\n",
    "                        .sort_values(['updated_city','job_count'], ascending=False) \\\n",
    "                        .reset_index() \\\n",
    "                        .drop('index', axis=1)                        \n",
    "city_jobs.head(3)"
   ]
  },
  {
   "cell_type": "code",
   "execution_count": 50,
   "metadata": {},
   "outputs": [
    {
     "data": {
      "application/vnd.plotly.v1+json": {
       "config": {
        "linkText": "Export to plot.ly",
        "plotlyServerURL": "https://plot.ly",
        "showLink": false
       },
       "data": [
        {
         "marker": {
          "color": "rgb(106,90,205)"
         },
         "type": "bar",
         "visible": true,
         "x": [
          "Dell",
          "Deloitte",
          "Accenture",
          "Visa",
          "Avani Technology Solutions Inc",
          "Advanced Micro Devices, Inc.",
          "Social Commerce Ventures",
          "CDW",
          "DISCO",
          "TEXAS EDUCATION AGENCY",
          "The Home Depot",
          "ZeniMax Media Inc.",
          "Amazon Web Services, Inc.",
          "Centene Corporation",
          "Cloudflare",
          "Dun & Bradstreet",
          "Facebook",
          "Health & Human Services Comm",
          "Indeed",
          "Natera",
          "RetailMeNot, Inc.",
          "SparkCognition",
          "Amazon.com Services, Inc.",
          "COMPTROLLER OF PUBLIC ACCOUNTS",
          "Charles Schwab",
          "Charles Schwab Inc.",
          "Cisco Systems",
          "Dosh",
          "Electronic Arts",
          "Evariant",
          "Google",
          "Hearst",
          "Intersys Consulting Inc",
          "Keller Williams",
          "Levelset",
          "Realtor.com",
          "SADA",
          "St Edwards University",
          "Teacher Retirement System of Texas",
          "Under Armour, Inc.",
          "Whole Foods Market",
          "WuXi AppTec Inc",
          "Abbott Laboratories",
          "Amherst",
          "Bethesda Softworks",
          "CACI",
          "CDK Global",
          "Clari",
          "Clinical Pathology Laboratories, Inc.",
          "Cognizant Technology Solutions"
         ],
         "y": [
          16,
          13,
          11,
          10,
          7,
          6,
          6,
          5,
          5,
          5,
          5,
          5,
          4,
          4,
          4,
          4,
          4,
          4,
          4,
          4,
          4,
          4,
          3,
          3,
          3,
          3,
          3,
          3,
          3,
          3,
          3,
          3,
          3,
          3,
          3,
          3,
          3,
          3,
          3,
          3,
          3,
          3,
          2,
          2,
          2,
          2,
          2,
          2,
          2,
          2,
          2,
          2,
          2,
          2,
          2,
          2,
          2,
          2,
          2,
          2,
          2,
          2,
          2,
          2,
          2,
          2,
          2,
          2,
          2,
          2,
          2,
          2,
          2,
          2,
          2,
          2,
          2,
          2,
          1,
          1,
          1,
          1,
          1,
          1,
          1,
          1,
          1,
          1,
          1,
          1,
          1,
          1,
          1,
          1,
          1,
          1,
          1,
          1,
          1,
          1,
          1,
          1,
          1,
          1,
          1,
          1,
          1,
          1,
          1,
          1,
          1,
          1,
          1,
          1,
          1,
          1,
          1,
          1,
          1,
          1,
          1,
          1,
          1,
          1,
          1,
          1,
          1,
          1,
          1,
          1,
          1,
          1,
          1,
          1,
          1,
          1,
          1,
          1,
          1,
          1,
          1,
          1,
          1,
          1,
          1,
          1,
          1,
          1,
          1,
          1,
          1,
          1,
          1,
          1,
          1,
          1,
          1,
          1,
          1,
          1,
          1,
          1,
          1,
          1,
          1,
          1,
          1,
          1,
          1,
          1,
          1,
          1,
          1,
          1,
          1,
          1,
          1,
          1,
          1,
          1,
          1,
          1,
          1,
          1,
          1,
          1,
          1,
          1,
          1,
          1,
          1,
          1,
          1,
          1,
          1,
          1,
          1,
          1,
          1,
          1,
          1,
          1,
          1,
          1,
          1,
          1,
          1,
          1,
          1,
          1,
          1,
          1,
          1,
          1,
          1,
          1,
          1,
          1,
          1,
          1,
          1,
          1,
          1,
          1,
          1,
          1,
          1,
          1,
          1,
          1,
          1,
          1,
          1,
          1,
          1,
          1,
          1,
          1,
          1,
          1,
          1,
          1,
          1,
          1,
          1,
          1,
          1,
          1,
          1,
          1,
          1,
          1,
          1,
          1,
          1,
          1,
          1,
          1,
          1,
          1,
          1,
          1,
          1,
          1,
          1,
          1,
          1,
          1,
          1
         ]
        },
        {
         "marker": {
          "color": "rgb(106,90,205)"
         },
         "type": "bar",
         "visible": false,
         "x": [
          "Deloitte",
          "The Home Depot",
          "Capgemini",
          "KPMG",
          "Accenture",
          "Georgia Tech Research Institute",
          "Wells Fargo",
          "Avani Technology Solutions Inc",
          "BB&T",
          "Microsoft",
          "Truist Financial",
          "AGCO",
          "Bank of America",
          "CapTech Consulting",
          "Cox Automotive",
          "Delta",
          "Equifax",
          "Intercontinental Exchange",
          "LexisNexis SA",
          "RELX Group",
          "SunTrust",
          "The Coca-Cola Company",
          "Avanade",
          "Booz Allen Hamilton",
          "Chick-fil-A, Inc.",
          "CoStar Group",
          "Cotiviti, Inc.",
          "FTI Consulting, Inc.",
          "GEORGIA-PACIFIC",
          "InComm",
          "NCR",
          "Newell Brands",
          "Scientific Games",
          "Travelport",
          "aspirent",
          "ADP",
          "Amazon Web Services, Inc.",
          "Anthem, Inc.",
          "CRH",
          "Change Healthcare",
          "Children's Healthcare of Atlanta",
          "Cox Communications",
          "Cox Enterprises",
          "Dematic",
          "Fiserv, Inc.",
          "GreenSky Administrative Services LLC",
          "HD Supply",
          "ICF",
          "Intellinet",
          "Komodo Health"
         ],
         "y": [
          28,
          24,
          21,
          17,
          16,
          7,
          7,
          6,
          6,
          6,
          6,
          5,
          5,
          5,
          5,
          5,
          5,
          5,
          5,
          5,
          5,
          5,
          4,
          4,
          4,
          4,
          4,
          4,
          4,
          4,
          4,
          4,
          4,
          4,
          4,
          3,
          3,
          3,
          3,
          3,
          3,
          3,
          3,
          3,
          3,
          3,
          3,
          3,
          3,
          3,
          3,
          3,
          3,
          3,
          3,
          3,
          3,
          3,
          3,
          3,
          3,
          2,
          2,
          2,
          2,
          2,
          2,
          2,
          2,
          2,
          2,
          2,
          2,
          2,
          2,
          2,
          2,
          2,
          2,
          2,
          2,
          2,
          2,
          2,
          2,
          2,
          2,
          2,
          2,
          2,
          2,
          2,
          2,
          2,
          2,
          2,
          2,
          2,
          2,
          2,
          2,
          2,
          2,
          2,
          2,
          2,
          2,
          2,
          1,
          1,
          1,
          1,
          1,
          1,
          1,
          1,
          1,
          1,
          1,
          1,
          1,
          1,
          1,
          1,
          1,
          1,
          1,
          1,
          1,
          1,
          1,
          1,
          1,
          1,
          1,
          1,
          1,
          1,
          1,
          1,
          1,
          1,
          1,
          1,
          1,
          1,
          1,
          1,
          1,
          1,
          1,
          1,
          1,
          1,
          1,
          1,
          1,
          1,
          1,
          1,
          1,
          1,
          1,
          1,
          1,
          1,
          1,
          1,
          1,
          1,
          1,
          1,
          1,
          1,
          1,
          1,
          1,
          1,
          1,
          1,
          1,
          1,
          1,
          1,
          1,
          1,
          1,
          1,
          1,
          1,
          1,
          1,
          1,
          1,
          1,
          1,
          1,
          1,
          1,
          1,
          1,
          1,
          1,
          1,
          1,
          1,
          1,
          1,
          1,
          1,
          1,
          1,
          1,
          1,
          1,
          1,
          1,
          1,
          1,
          1,
          1,
          1,
          1,
          1,
          1,
          1,
          1,
          1,
          1,
          1,
          1,
          1,
          1,
          1,
          1,
          1,
          1,
          1,
          1,
          1,
          1,
          1,
          1,
          1,
          1,
          1,
          1,
          1,
          1,
          1,
          1,
          1,
          1,
          1,
          1,
          1,
          1,
          1,
          1,
          1,
          1,
          1,
          1,
          1,
          1,
          1,
          1,
          1,
          1,
          1,
          1,
          1,
          1,
          1,
          1,
          1,
          1,
          1,
          1,
          1,
          1,
          1,
          1,
          1,
          1,
          1,
          1,
          1,
          1,
          1,
          1,
          1,
          1,
          1,
          1,
          1,
          1,
          1,
          1,
          1,
          1,
          1,
          1,
          1,
          1,
          1,
          1,
          1,
          1,
          1,
          1,
          1,
          1,
          1,
          1,
          1,
          1,
          1,
          1,
          1,
          1,
          1,
          1,
          1,
          1,
          1
         ]
        },
        {
         "marker": {
          "color": "rgb(106,90,205)"
         },
         "type": "bar",
         "visible": false,
         "x": [
          "Takeda Pharmaceuticals",
          "Partners HealthCare(PHS)",
          "Accenture",
          "TripAdvisor",
          "Amazon.com Services LLC",
          "Harvard University",
          "Wayfair",
          "Amazon.com Services, Inc.",
          "Deloitte",
          "Broad Institute",
          "Humana",
          "MIT Lincoln Laboratory",
          "The TJX Companies, Inc.",
          "Alexion Pharmaceuticals,Inc.",
          "Boston Scientific Corporation",
          "CarGurus",
          "Dyno Therapeutics",
          "ERT",
          "MIT",
          "Protiviti",
          "Twitter",
          "Anheuser-Busch",
          "Biogen",
          "CDW",
          "CUSHMAN",
          "Dana-Farber Cancer Institute",
          "Dell",
          "FRESENIUS",
          "GASTON ELECTRICAL",
          "Genscape Careers",
          "Scientific Systems Company, Inc.",
          "Brigham & Women's Hospital(BWH)",
          "Liberty Mutual Insurance",
          "MassMutual",
          "Verizon",
          "Northeastern University",
          "Charles River Analytics",
          "State Street",
          "Blue Cross Blue Shield of Massachusetts",
          "Boston Medical Center (BMC)",
          "Hewlett Packard Enterprise",
          "MathWorks",
          "Vertex Pharmaceuticals",
          "ABIOMED",
          "AETNA",
          "Analog Devices",
          "Beth Israel Deaconess Medical Center",
          "Bose",
          "Boston University",
          "Cogito Corporation"
         ],
         "y": [
          34,
          26,
          24,
          23,
          19,
          19,
          19,
          13,
          13,
          12,
          12,
          12,
          12,
          11,
          11,
          11,
          11,
          11,
          11,
          11,
          11,
          10,
          10,
          10,
          10,
          10,
          10,
          10,
          10,
          10,
          10,
          9,
          9,
          9,
          9,
          8,
          7,
          7,
          6,
          6,
          6,
          6,
          6,
          5,
          5,
          5,
          5,
          5,
          5,
          5,
          5,
          5,
          5,
          5,
          5,
          4,
          4,
          4,
          4,
          4,
          4,
          4,
          4,
          4,
          4,
          4,
          4,
          4,
          4,
          4,
          4,
          4,
          4,
          4,
          4,
          4,
          3,
          3,
          3,
          3,
          3,
          3,
          3,
          3,
          3,
          3,
          3,
          3,
          3,
          3,
          3,
          3,
          3,
          3,
          3,
          3,
          3,
          3,
          3,
          3,
          3,
          3,
          3,
          3,
          3,
          3,
          2,
          2,
          2,
          2,
          2,
          2,
          2,
          2,
          2,
          2,
          2,
          2,
          2,
          2,
          2,
          2,
          2,
          2,
          2,
          2,
          2,
          2,
          2,
          2,
          2,
          2,
          2,
          2,
          2,
          2,
          2,
          2,
          2,
          2,
          2,
          2,
          2,
          2,
          2,
          2,
          2,
          2,
          2,
          2,
          2,
          2,
          2,
          2,
          2,
          2,
          2,
          2,
          2,
          2,
          2,
          2,
          2,
          2,
          2,
          2,
          2,
          2,
          2,
          2,
          2,
          2,
          2,
          2,
          2,
          2,
          2,
          2,
          2,
          2,
          2,
          2,
          2,
          2,
          2,
          2,
          1,
          1,
          1,
          1,
          1,
          1,
          1,
          1,
          1,
          1,
          1,
          1,
          1,
          1,
          1,
          1,
          1,
          1,
          1,
          1,
          1,
          1,
          1,
          1,
          1,
          1,
          1,
          1,
          1,
          1,
          1,
          1,
          1,
          1,
          1,
          1,
          1,
          1,
          1,
          1,
          1,
          1,
          1,
          1,
          1,
          1,
          1,
          1,
          1,
          1,
          1,
          1,
          1,
          1,
          1,
          1,
          1,
          1,
          1,
          1,
          1,
          1,
          1,
          1,
          1,
          1,
          1,
          1,
          1,
          1,
          1,
          1,
          1,
          1,
          1,
          1,
          1,
          1,
          1,
          1,
          1,
          1,
          1,
          1,
          1,
          1,
          1,
          1,
          1,
          1,
          1,
          1,
          1,
          1,
          1,
          1,
          1,
          1,
          1,
          1,
          1,
          1,
          1,
          1,
          1,
          1,
          1,
          1,
          1,
          1,
          1,
          1,
          1,
          1,
          1,
          1,
          1,
          1,
          1,
          1,
          1,
          1,
          1,
          1,
          1,
          1,
          1,
          1,
          1,
          1,
          1,
          1,
          1,
          1,
          1,
          1,
          1,
          1,
          1,
          1,
          1,
          1,
          1,
          1,
          1,
          1,
          1,
          1,
          1,
          1,
          1,
          1,
          1,
          1,
          1,
          1,
          1,
          1,
          1,
          1,
          1,
          1,
          1,
          1,
          1,
          1,
          1,
          1,
          1,
          1,
          1,
          1,
          1,
          1,
          1,
          1,
          1,
          1,
          1,
          1,
          1,
          1,
          1,
          1,
          1,
          1,
          1,
          1,
          1,
          1,
          1,
          1,
          1,
          1,
          1,
          1,
          1,
          1,
          1,
          1,
          1,
          1,
          1,
          1,
          1,
          1,
          1,
          1,
          1,
          1,
          1,
          1,
          1,
          1,
          1,
          1,
          1,
          1,
          1,
          1,
          1,
          1,
          1,
          1,
          1,
          1,
          1,
          1,
          1,
          1,
          1,
          1,
          1,
          1,
          1,
          1,
          1,
          1,
          1,
          1,
          1,
          1,
          1,
          1,
          1,
          1,
          1,
          1,
          1,
          1,
          1,
          1,
          1,
          1,
          1,
          1,
          1,
          1,
          1,
          1,
          1,
          1,
          1,
          1,
          1,
          1,
          1,
          1,
          1,
          1,
          1,
          1,
          1,
          1,
          1,
          1,
          1,
          1,
          1,
          1,
          1,
          1,
          1,
          1,
          1,
          1,
          1,
          1,
          1,
          1,
          1,
          1,
          1,
          1,
          1,
          1,
          1,
          1,
          1,
          1,
          1,
          1,
          1,
          1,
          1,
          1,
          1,
          1,
          1,
          1,
          1,
          1,
          1,
          1,
          1,
          1,
          1,
          1,
          1,
          1,
          1,
          1,
          1,
          1,
          1,
          1,
          1,
          1,
          1,
          1,
          1,
          1,
          1,
          1,
          1,
          1,
          1,
          1,
          1,
          1,
          1,
          1
         ]
        },
        {
         "marker": {
          "color": "rgb(106,90,205)"
         },
         "type": "bar",
         "visible": false,
         "x": [
          "JP Morgan Chase",
          "Cardinal Health",
          "Chase",
          "Accenture",
          "Nationwide Mutual Insurance Company",
          "Deloitte",
          "Huntington Bank",
          "Team Fishel",
          "Amazon Data Services, Inc.",
          "Google",
          "JPMorgan Chase",
          "Nationwide Children's Hospital",
          "Ohio Health",
          "Ohio State University Medical Center",
          "SafeAuto",
          "Upstart Network, Inc.",
          "Avani Technology Solutions Inc",
          "Battelle",
          "Genpact",
          "Mass Genics",
          "Mettler Toledo",
          "State of Ohio Jobs",
          "Verizon",
          "Abercrombie and Fitch Co.",
          "Amazon Web Services, Inc.",
          "American Chemical Society",
          "Facebook",
          "Northwest",
          "Olive",
          "Veeva Systems",
          "AGC/ Black Box Network Services",
          "Ace-stack LLC",
          "COVETRUS INC",
          "ComResource",
          "DHL Supply Chain",
          "DataRobot",
          "EXPRESS",
          "Gathi Analytics",
          "Horizontal",
          "IT Synergy",
          "Mast Global",
          "Milestone Technologies",
          "Mount Carmel Health System",
          "Quantum Health",
          "Tra'Bian Enterprises",
          "Wasserstrom",
          "A2Z Field Services",
          "AAA Ohio Auto Club",
          "ALDI",
          "Abbott Laboratories"
         ],
         "y": [
          26,
          23,
          13,
          11,
          10,
          7,
          7,
          7,
          6,
          5,
          5,
          5,
          5,
          5,
          5,
          5,
          4,
          4,
          4,
          4,
          4,
          4,
          4,
          3,
          3,
          3,
          3,
          3,
          3,
          3,
          2,
          2,
          2,
          2,
          2,
          2,
          2,
          2,
          2,
          2,
          2,
          2,
          2,
          2,
          2,
          2,
          1,
          1,
          1,
          1,
          1,
          1,
          1,
          1,
          1,
          1,
          1,
          1,
          1,
          1,
          1,
          1,
          1,
          1,
          1,
          1,
          1,
          1,
          1,
          1,
          1,
          1,
          1,
          1,
          1,
          1,
          1,
          1,
          1,
          1,
          1,
          1,
          1,
          1,
          1,
          1,
          1,
          1,
          1,
          1,
          1,
          1,
          1,
          1,
          1,
          1,
          1,
          1,
          1,
          1,
          1,
          1,
          1,
          1,
          1,
          1,
          1,
          1,
          1,
          1,
          1,
          1,
          1,
          1,
          1,
          1,
          1,
          1,
          1
         ]
        },
        {
         "marker": {
          "color": "rgb(106,90,205)"
         },
         "type": "bar",
         "visible": false,
         "x": [
          "KPMG",
          "Comcast",
          "Deloitte",
          "Oracle",
          "Accenture",
          "DISH",
          "LOCKHEED MARTIN CORPORATION",
          "National Renewable Energy Laboratory",
          "University of Colorado",
          "University of Colorado Boulder",
          "Arrow Electronics, Inc.",
          "Ball Aerospace",
          "CBRE",
          "CenturyLink",
          "xentity corporation",
          "Amazon.com Services LLC",
          "CoBank",
          "Horizontal",
          "Pearson",
          "SoundHound Inc.",
          "ABB",
          "CACI",
          "City and County of Denver",
          "DaVita",
          "Kaiser Permanente",
          "Qwinix",
          "State of Colorado Job Opportunities",
          "Western Union",
          "Amazon Data Services, Inc.",
          "American Mortgage Consultants, Inc.",
          "ArcherDX, INC.",
          "Denver Health",
          "GHX",
          "Ibotta",
          "Iron Mountain Information Management, LLC",
          "Perficient, Inc",
          "RiskMatch",
          "Sambasafety",
          "ServiceSource",
          "Sovrn Holdings",
          "SpotX",
          "Transamerica",
          "Twitter",
          "VF Corporation",
          "Vertafore",
          "Zayo Group",
          "2-10 Home Buyers Warranty",
          "Aegon",
          "BDS Analytics",
          "Bank of America"
         ],
         "y": [
          22,
          15,
          14,
          13,
          11,
          11,
          9,
          7,
          7,
          7,
          6,
          6,
          6,
          6,
          6,
          5,
          5,
          5,
          5,
          5,
          4,
          4,
          4,
          4,
          4,
          4,
          4,
          4,
          3,
          3,
          3,
          3,
          3,
          3,
          3,
          3,
          3,
          3,
          3,
          3,
          3,
          3,
          3,
          3,
          3,
          3,
          2,
          2,
          2,
          2,
          2,
          2,
          2,
          2,
          2,
          2,
          2,
          2,
          2,
          2,
          2,
          2,
          2,
          2,
          2,
          2,
          2,
          2,
          2,
          2,
          2,
          2,
          2,
          2,
          2,
          2,
          2,
          2,
          2,
          2,
          2,
          2,
          2,
          2,
          2,
          2,
          2,
          2,
          2,
          2,
          1,
          1,
          1,
          1,
          1,
          1,
          1,
          1,
          1,
          1,
          1,
          1,
          1,
          1,
          1,
          1,
          1,
          1,
          1,
          1,
          1,
          1,
          1,
          1,
          1,
          1,
          1,
          1,
          1,
          1,
          1,
          1,
          1,
          1,
          1,
          1,
          1,
          1,
          1,
          1,
          1,
          1,
          1,
          1,
          1,
          1,
          1,
          1,
          1,
          1,
          1,
          1,
          1,
          1,
          1,
          1,
          1,
          1,
          1,
          1,
          1,
          1,
          1,
          1,
          1,
          1,
          1,
          1,
          1,
          1,
          1,
          1,
          1,
          1,
          1,
          1,
          1,
          1,
          1,
          1,
          1,
          1,
          1,
          1,
          1,
          1,
          1,
          1,
          1,
          1,
          1,
          1,
          1,
          1,
          1,
          1,
          1,
          1,
          1,
          1,
          1,
          1,
          1,
          1,
          1,
          1,
          1,
          1,
          1,
          1,
          1,
          1,
          1,
          1,
          1,
          1,
          1,
          1,
          1,
          1,
          1,
          1,
          1,
          1,
          1,
          1,
          1,
          1,
          1,
          1,
          1,
          1,
          1,
          1,
          1,
          1,
          1,
          1,
          1,
          1,
          1,
          1,
          1,
          1,
          1,
          1,
          1,
          1,
          1,
          1,
          1,
          1,
          1,
          1,
          1,
          1,
          1,
          1,
          1,
          1,
          1,
          1,
          1,
          1,
          1,
          1,
          1,
          1,
          1,
          1,
          1,
          1,
          1,
          1,
          1,
          1,
          1,
          1,
          1,
          1,
          1,
          1,
          1,
          1,
          1,
          1,
          1,
          1,
          1,
          1,
          1,
          1,
          1,
          1,
          1,
          1,
          1,
          1,
          1,
          1,
          1,
          1,
          1,
          1,
          1,
          1,
          1,
          1,
          1,
          1,
          1,
          1,
          1,
          1,
          1,
          1,
          1,
          1
         ]
        },
        {
         "marker": {
          "color": "rgb(106,90,205)"
         },
         "type": "bar",
         "visible": false,
         "x": [
          "Oscar Health",
          "Disney Streaming Services",
          "QuadPay",
          "JP Morgan Chase",
          "Bloomberg",
          "BNY Mellon",
          "AETNA",
          "Dow Jones",
          "Bowery Farming",
          "Northwell Health",
          "Ordergroove",
          "Weil, Gotshal & Manges LLP",
          "CAPCO",
          "CBRE",
          "Cigna",
          "Crossix Solutions",
          "IBM",
          "New York City DEPARTMENT OF CORRECTION",
          "New York City DEPARTMENT OF INVESTIGATION",
          "Staff Networks LLC",
          "TBWA\\Chiat\\Day",
          "Talend",
          "KPMG",
          "Goldman Sachs",
          "CITI",
          "Accenture",
          "Mount Sinai",
          "Deloitte",
          "Oracle",
          "Spotify",
          "NYC Health + Hospitals",
          "New York City DEPT OF HEALTH/MENTAL HYGIENE",
          "AT&T",
          "Capgemini",
          "Xandr",
          "Chase",
          "Memorial Sloan-Kettering Cancer Center",
          "NYU Langone Health",
          "NYU Langone",
          "New York University",
          "Capital One - US",
          "Columbia University",
          "KBRA",
          "Mindshare",
          "PwC",
          "WESTAT",
          "A Place for Mom",
          "D. E. Shaw & Co., L.P.",
          "Discovery Communications",
          "HBO Max"
         ],
         "y": [
          73,
          72,
          65,
          53,
          47,
          39,
          35,
          35,
          33,
          33,
          33,
          33,
          32,
          32,
          32,
          32,
          32,
          32,
          32,
          32,
          32,
          32,
          17,
          16,
          13,
          12,
          12,
          11,
          11,
          11,
          10,
          9,
          8,
          8,
          8,
          7,
          7,
          7,
          6,
          6,
          5,
          5,
          5,
          5,
          5,
          5,
          4,
          4,
          4,
          4,
          4,
          4,
          4,
          4,
          4,
          4,
          4,
          4,
          4,
          3,
          3,
          3,
          3,
          3,
          3,
          3,
          3,
          3,
          3,
          3,
          3,
          3,
          3,
          3,
          3,
          3,
          3,
          3,
          3,
          3,
          3,
          3,
          3,
          3,
          3,
          3,
          3,
          3,
          3,
          3,
          3,
          2,
          2,
          2,
          2,
          2,
          2,
          2,
          2,
          2,
          2,
          2,
          2,
          2,
          2,
          2,
          2,
          2,
          2,
          2,
          2,
          2,
          2,
          2,
          2,
          2,
          2,
          2,
          2,
          2,
          2,
          2,
          2,
          2,
          2,
          2,
          2,
          2,
          2,
          2,
          2,
          2,
          2,
          2,
          2,
          2,
          2,
          2,
          2,
          2,
          2,
          2,
          2,
          2,
          2,
          2,
          2,
          2,
          2,
          2,
          2,
          2,
          2,
          2,
          2,
          2,
          2,
          2,
          2,
          2,
          2,
          2,
          2,
          2,
          2,
          2,
          2,
          2,
          2,
          2,
          2,
          2,
          2,
          2,
          2,
          2,
          2,
          2,
          2,
          2,
          2,
          2,
          2,
          1,
          1,
          1,
          1,
          1,
          1,
          1,
          1,
          1,
          1,
          1,
          1,
          1,
          1,
          1,
          1,
          1,
          1,
          1,
          1,
          1,
          1,
          1,
          1,
          1,
          1,
          1,
          1,
          1,
          1,
          1,
          1,
          1,
          1,
          1,
          1,
          1,
          1,
          1,
          1,
          1,
          1,
          1,
          1,
          1,
          1,
          1,
          1,
          1,
          1,
          1,
          1,
          1,
          1,
          1,
          1,
          1,
          1,
          1,
          1,
          1,
          1,
          1,
          1,
          1,
          1,
          1,
          1,
          1,
          1,
          1,
          1,
          1,
          1,
          1,
          1,
          1,
          1,
          1,
          1,
          1,
          1,
          1,
          1,
          1,
          1,
          1,
          1,
          1,
          1,
          1,
          1,
          1,
          1,
          1,
          1,
          1,
          1,
          1,
          1,
          1,
          1,
          1,
          1,
          1,
          1,
          1,
          1,
          1,
          1,
          1,
          1,
          1,
          1,
          1,
          1,
          1,
          1,
          1,
          1,
          1,
          1,
          1,
          1,
          1,
          1,
          1,
          1,
          1,
          1,
          1,
          1,
          1,
          1,
          1,
          1,
          1,
          1,
          1,
          1,
          1,
          1,
          1,
          1,
          1,
          1,
          1,
          1,
          1,
          1,
          1,
          1,
          1,
          1,
          1,
          1,
          1,
          1,
          1,
          1,
          1,
          1,
          1,
          1,
          1,
          1,
          1,
          1,
          1,
          1,
          1,
          1,
          1,
          1,
          1,
          1,
          1,
          1,
          1,
          1,
          1,
          1,
          1,
          1,
          1,
          1,
          1,
          1,
          1,
          1,
          1,
          1,
          1,
          1,
          1,
          1,
          1,
          1,
          1,
          1,
          1,
          1,
          1,
          1,
          1,
          1,
          1,
          1,
          1,
          1,
          1,
          1,
          1,
          1,
          1,
          1,
          1,
          1,
          1,
          1,
          1,
          1,
          1,
          1,
          1,
          1,
          1,
          1,
          1,
          1,
          1,
          1,
          1,
          1,
          1,
          1,
          1,
          1,
          1,
          1,
          1,
          1,
          1,
          1,
          1,
          1,
          1,
          1,
          1,
          1,
          1,
          1,
          1,
          1,
          1,
          1,
          1,
          1,
          1,
          1,
          1,
          1,
          1,
          1,
          1,
          1,
          1,
          1,
          1,
          1,
          1,
          1,
          1,
          1,
          1,
          1,
          1,
          1,
          1,
          1,
          1,
          1,
          1,
          1,
          1,
          1,
          1,
          1,
          1,
          1,
          1,
          1,
          1,
          1,
          1,
          1,
          1,
          1,
          1,
          1,
          1,
          1,
          1,
          1,
          1,
          1,
          1,
          1,
          1,
          1,
          1,
          1,
          1,
          1,
          1,
          1,
          1,
          1,
          1,
          1,
          1,
          1,
          1,
          1,
          1,
          1,
          1,
          1,
          1,
          1,
          1,
          1,
          1,
          1,
          1,
          1,
          1,
          1,
          1,
          1,
          1,
          1,
          1,
          1,
          1,
          1,
          1,
          1,
          1,
          1,
          1,
          1,
          1,
          1,
          1,
          1,
          1,
          1,
          1,
          1,
          1,
          1,
          1,
          1,
          1,
          1,
          1,
          1,
          1,
          1,
          1,
          1,
          1,
          1,
          1,
          1,
          1,
          1,
          1,
          1,
          1,
          1,
          1,
          1,
          1,
          1,
          1,
          1
         ]
        },
        {
         "marker": {
          "color": "rgb(106,90,205)"
         },
         "type": "bar",
         "visible": false,
         "x": [
          "Genworth",
          "Lenovo",
          "Covance",
          "Deloitte",
          "Duke Careers",
          "Red Hat Software",
          "Syngenta",
          "RTI International",
          "GSK",
          "IQVIA",
          "Pearson",
          "Advance Auto Parts",
          "Applied Research Associates, Inc",
          "Fidelity Investments",
          "SAS Institute Inc",
          "State of North Carolina",
          "UNC Health Care",
          "University of North Carolina at Chapel Hill",
          "Cisco Systems",
          "MetLife",
          "Accenture",
          "Blue Cross Blue Shield of North Carolina",
          "IBM",
          "NC State University",
          "NetApp",
          "Dominion Enterprises",
          "NTT DATA Services",
          "ABB",
          "Arch",
          "BAE Systems",
          "Credit Suisse",
          "General Dynamics Information Technology",
          "ImmunityBio",
          "Local Government Federal Credit Union",
          "North Carolina State University",
          "Nutanix",
          "UNC Rex Healthcare",
          "Verizon",
          "Worldwide Clinical Trials",
          "AURA TECHNOLOGIES LLC.",
          "Align Technology",
          "Biogen",
          "Capgemini",
          "Cato Research LLC",
          "Cognizant Technology Solutions",
          "FastMed",
          "FastMed Urgent Care",
          "INTUITIVE SURGICAL",
          "Katalyst HealthCares & Life Sciences",
          "LexisNexis SA"
         ],
         "y": [
          32,
          13,
          12,
          12,
          10,
          10,
          10,
          9,
          8,
          8,
          8,
          7,
          7,
          7,
          7,
          7,
          7,
          7,
          6,
          6,
          5,
          5,
          5,
          5,
          5,
          4,
          4,
          3,
          3,
          3,
          3,
          3,
          3,
          3,
          3,
          3,
          3,
          3,
          3,
          2,
          2,
          2,
          2,
          2,
          2,
          2,
          2,
          2,
          2,
          2,
          2,
          2,
          2,
          2,
          2,
          2,
          2,
          2,
          2,
          2,
          2,
          2,
          2,
          1,
          1,
          1,
          1,
          1,
          1,
          1,
          1,
          1,
          1,
          1,
          1,
          1,
          1,
          1,
          1,
          1,
          1,
          1,
          1,
          1,
          1,
          1,
          1,
          1,
          1,
          1,
          1,
          1,
          1,
          1,
          1,
          1,
          1,
          1,
          1,
          1,
          1,
          1,
          1,
          1,
          1,
          1,
          1,
          1,
          1,
          1,
          1,
          1,
          1,
          1,
          1,
          1,
          1,
          1,
          1,
          1,
          1,
          1,
          1,
          1,
          1,
          1,
          1,
          1,
          1,
          1,
          1,
          1,
          1,
          1,
          1,
          1,
          1,
          1,
          1,
          1,
          1,
          1,
          1,
          1,
          1,
          1,
          1,
          1,
          1,
          1,
          1,
          1,
          1,
          1,
          1,
          1,
          1,
          1,
          1,
          1,
          1,
          1,
          1,
          1,
          1,
          1,
          1,
          1,
          1,
          1,
          1,
          1,
          1,
          1,
          1,
          1,
          1
         ]
        },
        {
         "marker": {
          "color": "rgb(106,90,205)"
         },
         "type": "bar",
         "visible": false,
         "x": [
          "Uber",
          "Twitch",
          "Box",
          "Twitter",
          "Deloitte",
          "Square",
          "Wells Fargo",
          "Accenture",
          "Splunk",
          "Principia Biopharma",
          "Dell",
          "Netpace, Inc.",
          "New Relic",
          "Trianz",
          "Vungle",
          "eBay Inc.",
          "Airbnb",
          "CooperVision",
          "LAZ Parking",
          "LendingClub",
          "MANTICORE GAMES",
          "NEURALINK",
          "Numerator",
          "Touro College",
          "vidIQ",
          "University of California San Francisco",
          "Kaiser Permanente",
          "University of California Berkeley",
          "Google",
          "Autodesk",
          "DoorDash",
          "Sony Interactive Entertainment PlayStation",
          "Salesforce",
          "Stitch Fix",
          "Ancestry",
          "Course Hero",
          "Facebook",
          "Fanatics Inc.",
          "IHS Markit",
          "Komodo Health",
          "Migo",
          "Roblox",
          "Slack",
          "Gap Inc.",
          "JP Morgan Chase",
          "Oracle",
          "SoFi",
          "Tellus Solutions",
          "Turner & Townsend",
          "University of San Francisco"
         ],
         "y": [
          43,
          33,
          30,
          28,
          20,
          20,
          20,
          19,
          19,
          17,
          16,
          16,
          16,
          16,
          16,
          16,
          15,
          15,
          15,
          15,
          15,
          15,
          15,
          15,
          15,
          14,
          13,
          12,
          11,
          10,
          9,
          9,
          8,
          7,
          6,
          6,
          6,
          6,
          6,
          6,
          6,
          6,
          6,
          5,
          5,
          5,
          5,
          5,
          5,
          5,
          5,
          5,
          4,
          4,
          4,
          4,
          4,
          4,
          4,
          4,
          4,
          4,
          4,
          4,
          4,
          4,
          4,
          4,
          4,
          3,
          3,
          3,
          3,
          3,
          3,
          3,
          3,
          3,
          3,
          3,
          3,
          3,
          3,
          3,
          3,
          3,
          3,
          3,
          3,
          3,
          3,
          3,
          3,
          3,
          3,
          3,
          3,
          3,
          3,
          3,
          3,
          3,
          3,
          3,
          2,
          2,
          2,
          2,
          2,
          2,
          2,
          2,
          2,
          2,
          2,
          2,
          2,
          2,
          2,
          2,
          2,
          2,
          2,
          2,
          2,
          2,
          2,
          2,
          2,
          2,
          2,
          2,
          2,
          2,
          2,
          2,
          2,
          2,
          2,
          2,
          2,
          2,
          2,
          2,
          2,
          2,
          2,
          2,
          2,
          2,
          2,
          2,
          2,
          2,
          2,
          2,
          2,
          2,
          2,
          2,
          2,
          2,
          2,
          2,
          2,
          2,
          2,
          2,
          2,
          2,
          2,
          2,
          2,
          2,
          2,
          2,
          2,
          2,
          2,
          2,
          2,
          2,
          2,
          2,
          2,
          2,
          2,
          2,
          2,
          2,
          2,
          1,
          1,
          1,
          1,
          1,
          1,
          1,
          1,
          1,
          1,
          1,
          1,
          1,
          1,
          1,
          1,
          1,
          1,
          1,
          1,
          1,
          1,
          1,
          1,
          1,
          1,
          1,
          1,
          1,
          1,
          1,
          1,
          1,
          1,
          1,
          1,
          1,
          1,
          1,
          1,
          1,
          1,
          1,
          1,
          1,
          1,
          1,
          1,
          1,
          1,
          1,
          1,
          1,
          1,
          1,
          1,
          1,
          1,
          1,
          1,
          1,
          1,
          1,
          1,
          1,
          1,
          1,
          1,
          1,
          1,
          1,
          1,
          1,
          1,
          1,
          1,
          1,
          1,
          1,
          1,
          1,
          1,
          1,
          1,
          1,
          1,
          1,
          1,
          1,
          1,
          1,
          1,
          1,
          1,
          1,
          1,
          1,
          1,
          1,
          1,
          1,
          1,
          1,
          1,
          1,
          1,
          1,
          1,
          1,
          1,
          1,
          1,
          1,
          1,
          1,
          1,
          1,
          1,
          1,
          1,
          1,
          1,
          1,
          1,
          1,
          1,
          1,
          1,
          1,
          1,
          1,
          1,
          1,
          1,
          1,
          1,
          1,
          1,
          1,
          1,
          1,
          1,
          1,
          1,
          1,
          1,
          1,
          1,
          1,
          1,
          1,
          1,
          1,
          1,
          1,
          1,
          1,
          1,
          1,
          1,
          1,
          1,
          1,
          1,
          1,
          1,
          1,
          1,
          1,
          1,
          1,
          1,
          1,
          1,
          1,
          1,
          1,
          1,
          1,
          1,
          1,
          1,
          1,
          1,
          1,
          1,
          1,
          1,
          1,
          1,
          1,
          1,
          1,
          1,
          1,
          1,
          1,
          1,
          1,
          1,
          1,
          1,
          1,
          1,
          1,
          1,
          1,
          1,
          1,
          1,
          1,
          1,
          1,
          1,
          1,
          1,
          1,
          1,
          1,
          1,
          1,
          1,
          1,
          1,
          1,
          1,
          1,
          1,
          1,
          1,
          1,
          1,
          1,
          1,
          1,
          1,
          1,
          1,
          1,
          1,
          1,
          1,
          1,
          1,
          1,
          1,
          1,
          1,
          1,
          1,
          1,
          1,
          1,
          1,
          1,
          1,
          1,
          1,
          1,
          1,
          1,
          1,
          1,
          1,
          1,
          1,
          1,
          1,
          1,
          1,
          1,
          1,
          1,
          1,
          1,
          1,
          1,
          1,
          1,
          1,
          1,
          1,
          1,
          1,
          1,
          1,
          1,
          1,
          1,
          1,
          1,
          1,
          1,
          1,
          1,
          1,
          1,
          1,
          1,
          1,
          1,
          1,
          1,
          1,
          1,
          1,
          1,
          1,
          1,
          1,
          1,
          1,
          1,
          1,
          1,
          1,
          1,
          1,
          1,
          1,
          1,
          1,
          1,
          1,
          1,
          1,
          1,
          1,
          1,
          1,
          1,
          1,
          1,
          1,
          1,
          1,
          1,
          1,
          1,
          1,
          1,
          1,
          1,
          1,
          1,
          1,
          1,
          1,
          1,
          1,
          1,
          1,
          1,
          1,
          1
         ]
        },
        {
         "marker": {
          "color": "rgb(106,90,205)"
         },
         "type": "bar",
         "visible": false,
         "x": [
          "Amazon.com Services, Inc.",
          "Amazon.com Services LLC",
          "Microsoft",
          "Amazon Web Services, Inc.",
          "Expedia.com",
          "University of Washington",
          "Accenture",
          "Deloitte",
          "Blue Origin",
          "Facebook",
          "Oracle",
          "Zillow Group",
          "Nordstrom",
          "Seattle Genetics, Inc.",
          "Expedia Group",
          "Fred Hutchinson Cancer Research Center",
          "JP Morgan Chase",
          "KPMG",
          "DocuSign",
          "LivePerson",
          "Outreach",
          "Slalom Consulting",
          "Starbucks",
          "Discovery Communications",
          "Liberty Mutual Insurance",
          "PACCAR",
          "Pacific Northwest National Laboratory",
          "Seattle Children's",
          "Seattle Children's Hospital",
          "Tableau",
          "Convoy",
          "Zillow",
          "Allstate",
          "Amazon Data Services, Inc.",
          "Beyondsoft Consulting",
          "Big Fish Games",
          "Dell",
          "Kuaishou Technology",
          "Micron",
          "Smartsheet",
          "Tenacious Entertainment",
          "The Allen Institute for AI",
          "VRBO",
          "Zones",
          "doxo",
          "Airbnb",
          "Ben Bridge Jeweler, Inc.",
          "Blueprint Technologies",
          "Celgene",
          "Chase"
         ],
         "y": [
          150,
          104,
          71,
          29,
          23,
          22,
          17,
          16,
          14,
          12,
          12,
          11,
          10,
          9,
          8,
          8,
          8,
          8,
          7,
          7,
          7,
          7,
          7,
          6,
          6,
          6,
          6,
          6,
          6,
          6,
          5,
          5,
          4,
          4,
          4,
          4,
          4,
          4,
          4,
          4,
          4,
          4,
          4,
          4,
          4,
          3,
          3,
          3,
          3,
          3,
          3,
          3,
          3,
          3,
          3,
          3,
          3,
          3,
          3,
          3,
          3,
          3,
          3,
          3,
          3,
          3,
          3,
          3,
          2,
          2,
          2,
          2,
          2,
          2,
          2,
          2,
          2,
          2,
          2,
          2,
          2,
          2,
          2,
          2,
          2,
          2,
          2,
          2,
          2,
          2,
          2,
          2,
          2,
          2,
          2,
          2,
          2,
          2,
          2,
          2,
          2,
          2,
          2,
          2,
          2,
          2,
          2,
          2,
          2,
          2,
          2,
          2,
          2,
          2,
          2,
          2,
          2,
          2,
          2,
          2,
          2,
          2,
          2,
          2,
          2,
          2,
          2,
          2,
          2,
          2,
          2,
          1,
          1,
          1,
          1,
          1,
          1,
          1,
          1,
          1,
          1,
          1,
          1,
          1,
          1,
          1,
          1,
          1,
          1,
          1,
          1,
          1,
          1,
          1,
          1,
          1,
          1,
          1,
          1,
          1,
          1,
          1,
          1,
          1,
          1,
          1,
          1,
          1,
          1,
          1,
          1,
          1,
          1,
          1,
          1,
          1,
          1,
          1,
          1,
          1,
          1,
          1,
          1,
          1,
          1,
          1,
          1,
          1,
          1,
          1,
          1,
          1,
          1,
          1,
          1,
          1,
          1,
          1,
          1,
          1,
          1,
          1,
          1,
          1,
          1,
          1,
          1,
          1,
          1,
          1,
          1,
          1,
          1,
          1,
          1,
          1,
          1,
          1,
          1,
          1,
          1,
          1,
          1,
          1,
          1,
          1,
          1,
          1,
          1,
          1,
          1,
          1,
          1,
          1,
          1,
          1,
          1,
          1,
          1,
          1,
          1,
          1,
          1,
          1,
          1,
          1,
          1,
          1,
          1,
          1,
          1,
          1,
          1,
          1,
          1,
          1,
          1,
          1,
          1,
          1,
          1,
          1,
          1,
          1,
          1,
          1,
          1,
          1,
          1,
          1,
          1,
          1,
          1,
          1,
          1,
          1,
          1,
          1,
          1,
          1,
          1,
          1,
          1,
          1,
          1,
          1,
          1,
          1,
          1,
          1,
          1,
          1,
          1,
          1,
          1,
          1,
          1,
          1,
          1,
          1,
          1,
          1,
          1,
          1,
          1,
          1,
          1,
          1,
          1,
          1,
          1,
          1,
          1,
          1,
          1,
          1,
          1,
          1,
          1,
          1,
          1,
          1,
          1,
          1,
          1,
          1,
          1,
          1,
          1,
          1,
          1,
          1,
          1,
          1,
          1,
          1,
          1,
          1,
          1,
          1
         ]
        },
        {
         "marker": {
          "color": "rgb(106,90,205)"
         },
         "type": "bar",
         "visible": false,
         "x": [
          "Ho-Chunk",
          "Compass, Inc.",
          "Booz Allen Hamilton",
          "Capital One - US",
          "Leidos",
          "Accenture",
          "AnaVation LLC",
          "Guidehouse",
          "The Aerospace Corporation",
          "Atlas Research",
          "CENTRA Technology",
          "Elastic",
          "GRIMM",
          "HCI Group",
          "Medstar Georgetown University Hospital",
          "Strategic Insight LTD",
          "Bechtel",
          "Dell",
          "Fresh Gravity",
          "Techflow, Inc.",
          "The Buffalo Group, LLC",
          "US Pharmacopeia",
          "General Dynamics Information Technology",
          "Logistics Management Institute",
          "CACI",
          "Numerodata LLC",
          "Amazon Data Services, Inc.",
          "Amazon Web Services, Inc.",
          "E3 Federal Solutions, LLC",
          "KPMG",
          "Applied Memetics LLC",
          "Deloitte",
          "Modern Technology Solutions, Inc.",
          "CNA",
          "Freddie Mac",
          "NT Concepts",
          "Numero Data LLC",
          "Peraton",
          "Perspecta",
          "Serco North America",
          "DataSync Technologies, Inc",
          "Integral",
          "LMI",
          "Steampunk",
          "Systems Planning and Analysis, Inc.",
          "US Department of Commerce",
          "Verizon",
          "CAMRIS",
          "FAAZ Consulting",
          "Inovalon, Inc."
         ],
         "y": [
          169,
          115,
          70,
          70,
          68,
          66,
          64,
          63,
          59,
          57,
          57,
          57,
          57,
          57,
          57,
          57,
          56,
          56,
          56,
          56,
          56,
          56,
          43,
          41,
          21,
          10,
          9,
          9,
          8,
          8,
          7,
          7,
          7,
          6,
          6,
          6,
          6,
          6,
          6,
          6,
          5,
          5,
          5,
          5,
          5,
          5,
          5,
          4,
          4,
          4,
          4,
          4,
          4,
          4,
          3,
          3,
          3,
          3,
          3,
          3,
          3,
          3,
          3,
          3,
          3,
          3,
          3,
          3,
          3,
          3,
          3,
          3,
          3,
          3,
          3,
          3,
          3,
          3,
          3,
          3,
          3,
          3,
          3,
          3,
          3,
          3,
          3,
          3,
          3,
          3,
          3,
          3,
          3,
          3,
          3,
          3,
          3,
          3,
          3,
          2,
          2,
          2,
          2,
          2,
          2,
          2,
          2,
          2,
          2,
          2,
          2,
          2,
          2,
          2,
          2,
          2,
          2,
          2,
          2,
          2,
          2,
          2,
          2,
          2,
          2,
          2,
          2,
          2,
          2,
          2,
          2,
          2,
          2,
          2,
          2,
          2,
          2,
          2,
          2,
          2,
          2,
          2,
          2,
          2,
          2,
          2,
          2,
          2,
          2,
          2,
          2,
          2,
          2,
          2,
          2,
          2,
          2,
          2,
          2,
          2,
          2,
          2,
          2,
          2,
          2,
          2,
          2,
          2,
          2,
          2,
          2,
          2,
          2,
          2,
          2,
          2,
          2,
          2,
          2,
          2,
          2,
          2,
          2,
          2,
          2,
          2,
          2,
          1,
          1,
          1,
          1,
          1,
          1,
          1,
          1,
          1,
          1,
          1,
          1,
          1,
          1,
          1,
          1,
          1,
          1,
          1,
          1,
          1,
          1,
          1,
          1,
          1,
          1,
          1,
          1,
          1,
          1,
          1,
          1,
          1,
          1,
          1,
          1,
          1,
          1,
          1,
          1,
          1,
          1,
          1,
          1,
          1,
          1,
          1,
          1,
          1,
          1,
          1,
          1,
          1,
          1,
          1,
          1,
          1,
          1,
          1,
          1,
          1,
          1,
          1,
          1,
          1,
          1,
          1,
          1,
          1,
          1,
          1,
          1,
          1,
          1,
          1,
          1,
          1,
          1,
          1,
          1,
          1,
          1,
          1,
          1,
          1,
          1,
          1,
          1,
          1,
          1,
          1,
          1,
          1,
          1,
          1,
          1,
          1,
          1,
          1,
          1,
          1,
          1,
          1,
          1,
          1,
          1,
          1,
          1,
          1,
          1,
          1,
          1,
          1,
          1,
          1,
          1,
          1,
          1,
          1,
          1,
          1,
          1,
          1,
          1,
          1,
          1,
          1,
          1,
          1,
          1,
          1,
          1,
          1,
          1,
          1,
          1,
          1,
          1,
          1,
          1,
          1,
          1,
          1,
          1,
          1,
          1,
          1,
          1,
          1,
          1,
          1,
          1,
          1,
          1,
          1,
          1,
          1,
          1,
          1,
          1,
          1,
          1,
          1,
          1,
          1,
          1,
          1,
          1,
          1,
          1,
          1,
          1,
          1,
          1,
          1,
          1,
          1,
          1,
          1,
          1,
          1,
          1,
          1,
          1,
          1,
          1,
          1,
          1,
          1,
          1,
          1,
          1,
          1,
          1,
          1,
          1,
          1,
          1,
          1,
          1,
          1,
          1,
          1,
          1,
          1,
          1,
          1,
          1,
          1,
          1,
          1,
          1,
          1,
          1,
          1,
          1,
          1,
          1,
          1,
          1,
          1,
          1,
          1,
          1,
          1,
          1,
          1,
          1,
          1,
          1,
          1,
          1,
          1,
          1,
          1,
          1,
          1,
          1,
          1,
          1,
          1,
          1,
          1,
          1,
          1,
          1,
          1,
          1,
          1,
          1,
          1,
          1,
          1,
          1,
          1,
          1,
          1,
          1,
          1,
          1,
          1,
          1,
          1,
          1,
          1,
          1,
          1,
          1,
          1,
          1,
          1,
          1,
          1,
          1,
          1,
          1,
          1,
          1,
          1,
          1,
          1,
          1,
          1,
          1,
          1,
          1,
          1,
          1,
          1,
          1,
          1,
          1,
          1,
          1,
          1,
          1,
          1,
          1,
          1,
          1,
          1,
          1,
          1,
          1,
          1,
          1,
          1,
          1,
          1,
          1,
          1,
          1,
          1,
          1,
          1,
          1,
          1,
          1,
          1,
          1,
          1,
          1,
          1,
          1,
          1,
          1,
          1,
          1,
          1,
          1,
          1,
          1,
          1,
          1,
          1
         ]
        }
       ],
       "layout": {
        "autosize": false,
        "height": 800,
        "paper_bgcolor": "rgba(0,0,0,0)",
        "plot_bgcolor": "rgba(0,0,0,0)",
        "showlegend": false,
        "template": {
         "data": {
          "bar": [
           {
            "error_x": {
             "color": "#2a3f5f"
            },
            "error_y": {
             "color": "#2a3f5f"
            },
            "marker": {
             "line": {
              "color": "#E5ECF6",
              "width": 0.5
             }
            },
            "type": "bar"
           }
          ],
          "barpolar": [
           {
            "marker": {
             "line": {
              "color": "#E5ECF6",
              "width": 0.5
             }
            },
            "type": "barpolar"
           }
          ],
          "carpet": [
           {
            "aaxis": {
             "endlinecolor": "#2a3f5f",
             "gridcolor": "white",
             "linecolor": "white",
             "minorgridcolor": "white",
             "startlinecolor": "#2a3f5f"
            },
            "baxis": {
             "endlinecolor": "#2a3f5f",
             "gridcolor": "white",
             "linecolor": "white",
             "minorgridcolor": "white",
             "startlinecolor": "#2a3f5f"
            },
            "type": "carpet"
           }
          ],
          "choropleth": [
           {
            "colorbar": {
             "outlinewidth": 0,
             "ticks": ""
            },
            "type": "choropleth"
           }
          ],
          "contour": [
           {
            "colorbar": {
             "outlinewidth": 0,
             "ticks": ""
            },
            "colorscale": [
             [
              0,
              "#0d0887"
             ],
             [
              0.1111111111111111,
              "#46039f"
             ],
             [
              0.2222222222222222,
              "#7201a8"
             ],
             [
              0.3333333333333333,
              "#9c179e"
             ],
             [
              0.4444444444444444,
              "#bd3786"
             ],
             [
              0.5555555555555556,
              "#d8576b"
             ],
             [
              0.6666666666666666,
              "#ed7953"
             ],
             [
              0.7777777777777778,
              "#fb9f3a"
             ],
             [
              0.8888888888888888,
              "#fdca26"
             ],
             [
              1,
              "#f0f921"
             ]
            ],
            "type": "contour"
           }
          ],
          "contourcarpet": [
           {
            "colorbar": {
             "outlinewidth": 0,
             "ticks": ""
            },
            "type": "contourcarpet"
           }
          ],
          "heatmap": [
           {
            "colorbar": {
             "outlinewidth": 0,
             "ticks": ""
            },
            "colorscale": [
             [
              0,
              "#0d0887"
             ],
             [
              0.1111111111111111,
              "#46039f"
             ],
             [
              0.2222222222222222,
              "#7201a8"
             ],
             [
              0.3333333333333333,
              "#9c179e"
             ],
             [
              0.4444444444444444,
              "#bd3786"
             ],
             [
              0.5555555555555556,
              "#d8576b"
             ],
             [
              0.6666666666666666,
              "#ed7953"
             ],
             [
              0.7777777777777778,
              "#fb9f3a"
             ],
             [
              0.8888888888888888,
              "#fdca26"
             ],
             [
              1,
              "#f0f921"
             ]
            ],
            "type": "heatmap"
           }
          ],
          "heatmapgl": [
           {
            "colorbar": {
             "outlinewidth": 0,
             "ticks": ""
            },
            "colorscale": [
             [
              0,
              "#0d0887"
             ],
             [
              0.1111111111111111,
              "#46039f"
             ],
             [
              0.2222222222222222,
              "#7201a8"
             ],
             [
              0.3333333333333333,
              "#9c179e"
             ],
             [
              0.4444444444444444,
              "#bd3786"
             ],
             [
              0.5555555555555556,
              "#d8576b"
             ],
             [
              0.6666666666666666,
              "#ed7953"
             ],
             [
              0.7777777777777778,
              "#fb9f3a"
             ],
             [
              0.8888888888888888,
              "#fdca26"
             ],
             [
              1,
              "#f0f921"
             ]
            ],
            "type": "heatmapgl"
           }
          ],
          "histogram": [
           {
            "marker": {
             "colorbar": {
              "outlinewidth": 0,
              "ticks": ""
             }
            },
            "type": "histogram"
           }
          ],
          "histogram2d": [
           {
            "colorbar": {
             "outlinewidth": 0,
             "ticks": ""
            },
            "colorscale": [
             [
              0,
              "#0d0887"
             ],
             [
              0.1111111111111111,
              "#46039f"
             ],
             [
              0.2222222222222222,
              "#7201a8"
             ],
             [
              0.3333333333333333,
              "#9c179e"
             ],
             [
              0.4444444444444444,
              "#bd3786"
             ],
             [
              0.5555555555555556,
              "#d8576b"
             ],
             [
              0.6666666666666666,
              "#ed7953"
             ],
             [
              0.7777777777777778,
              "#fb9f3a"
             ],
             [
              0.8888888888888888,
              "#fdca26"
             ],
             [
              1,
              "#f0f921"
             ]
            ],
            "type": "histogram2d"
           }
          ],
          "histogram2dcontour": [
           {
            "colorbar": {
             "outlinewidth": 0,
             "ticks": ""
            },
            "colorscale": [
             [
              0,
              "#0d0887"
             ],
             [
              0.1111111111111111,
              "#46039f"
             ],
             [
              0.2222222222222222,
              "#7201a8"
             ],
             [
              0.3333333333333333,
              "#9c179e"
             ],
             [
              0.4444444444444444,
              "#bd3786"
             ],
             [
              0.5555555555555556,
              "#d8576b"
             ],
             [
              0.6666666666666666,
              "#ed7953"
             ],
             [
              0.7777777777777778,
              "#fb9f3a"
             ],
             [
              0.8888888888888888,
              "#fdca26"
             ],
             [
              1,
              "#f0f921"
             ]
            ],
            "type": "histogram2dcontour"
           }
          ],
          "mesh3d": [
           {
            "colorbar": {
             "outlinewidth": 0,
             "ticks": ""
            },
            "type": "mesh3d"
           }
          ],
          "parcoords": [
           {
            "line": {
             "colorbar": {
              "outlinewidth": 0,
              "ticks": ""
             }
            },
            "type": "parcoords"
           }
          ],
          "pie": [
           {
            "automargin": true,
            "type": "pie"
           }
          ],
          "scatter": [
           {
            "marker": {
             "colorbar": {
              "outlinewidth": 0,
              "ticks": ""
             }
            },
            "type": "scatter"
           }
          ],
          "scatter3d": [
           {
            "line": {
             "colorbar": {
              "outlinewidth": 0,
              "ticks": ""
             }
            },
            "marker": {
             "colorbar": {
              "outlinewidth": 0,
              "ticks": ""
             }
            },
            "type": "scatter3d"
           }
          ],
          "scattercarpet": [
           {
            "marker": {
             "colorbar": {
              "outlinewidth": 0,
              "ticks": ""
             }
            },
            "type": "scattercarpet"
           }
          ],
          "scattergeo": [
           {
            "marker": {
             "colorbar": {
              "outlinewidth": 0,
              "ticks": ""
             }
            },
            "type": "scattergeo"
           }
          ],
          "scattergl": [
           {
            "marker": {
             "colorbar": {
              "outlinewidth": 0,
              "ticks": ""
             }
            },
            "type": "scattergl"
           }
          ],
          "scattermapbox": [
           {
            "marker": {
             "colorbar": {
              "outlinewidth": 0,
              "ticks": ""
             }
            },
            "type": "scattermapbox"
           }
          ],
          "scatterpolar": [
           {
            "marker": {
             "colorbar": {
              "outlinewidth": 0,
              "ticks": ""
             }
            },
            "type": "scatterpolar"
           }
          ],
          "scatterpolargl": [
           {
            "marker": {
             "colorbar": {
              "outlinewidth": 0,
              "ticks": ""
             }
            },
            "type": "scatterpolargl"
           }
          ],
          "scatterternary": [
           {
            "marker": {
             "colorbar": {
              "outlinewidth": 0,
              "ticks": ""
             }
            },
            "type": "scatterternary"
           }
          ],
          "surface": [
           {
            "colorbar": {
             "outlinewidth": 0,
             "ticks": ""
            },
            "colorscale": [
             [
              0,
              "#0d0887"
             ],
             [
              0.1111111111111111,
              "#46039f"
             ],
             [
              0.2222222222222222,
              "#7201a8"
             ],
             [
              0.3333333333333333,
              "#9c179e"
             ],
             [
              0.4444444444444444,
              "#bd3786"
             ],
             [
              0.5555555555555556,
              "#d8576b"
             ],
             [
              0.6666666666666666,
              "#ed7953"
             ],
             [
              0.7777777777777778,
              "#fb9f3a"
             ],
             [
              0.8888888888888888,
              "#fdca26"
             ],
             [
              1,
              "#f0f921"
             ]
            ],
            "type": "surface"
           }
          ],
          "table": [
           {
            "cells": {
             "fill": {
              "color": "#EBF0F8"
             },
             "line": {
              "color": "white"
             }
            },
            "header": {
             "fill": {
              "color": "#C8D4E3"
             },
             "line": {
              "color": "white"
             }
            },
            "type": "table"
           }
          ]
         },
         "layout": {
          "annotationdefaults": {
           "arrowcolor": "#2a3f5f",
           "arrowhead": 0,
           "arrowwidth": 1
          },
          "coloraxis": {
           "colorbar": {
            "outlinewidth": 0,
            "ticks": ""
           }
          },
          "colorscale": {
           "diverging": [
            [
             0,
             "#8e0152"
            ],
            [
             0.1,
             "#c51b7d"
            ],
            [
             0.2,
             "#de77ae"
            ],
            [
             0.3,
             "#f1b6da"
            ],
            [
             0.4,
             "#fde0ef"
            ],
            [
             0.5,
             "#f7f7f7"
            ],
            [
             0.6,
             "#e6f5d0"
            ],
            [
             0.7,
             "#b8e186"
            ],
            [
             0.8,
             "#7fbc41"
            ],
            [
             0.9,
             "#4d9221"
            ],
            [
             1,
             "#276419"
            ]
           ],
           "sequential": [
            [
             0,
             "#0d0887"
            ],
            [
             0.1111111111111111,
             "#46039f"
            ],
            [
             0.2222222222222222,
             "#7201a8"
            ],
            [
             0.3333333333333333,
             "#9c179e"
            ],
            [
             0.4444444444444444,
             "#bd3786"
            ],
            [
             0.5555555555555556,
             "#d8576b"
            ],
            [
             0.6666666666666666,
             "#ed7953"
            ],
            [
             0.7777777777777778,
             "#fb9f3a"
            ],
            [
             0.8888888888888888,
             "#fdca26"
            ],
            [
             1,
             "#f0f921"
            ]
           ],
           "sequentialminus": [
            [
             0,
             "#0d0887"
            ],
            [
             0.1111111111111111,
             "#46039f"
            ],
            [
             0.2222222222222222,
             "#7201a8"
            ],
            [
             0.3333333333333333,
             "#9c179e"
            ],
            [
             0.4444444444444444,
             "#bd3786"
            ],
            [
             0.5555555555555556,
             "#d8576b"
            ],
            [
             0.6666666666666666,
             "#ed7953"
            ],
            [
             0.7777777777777778,
             "#fb9f3a"
            ],
            [
             0.8888888888888888,
             "#fdca26"
            ],
            [
             1,
             "#f0f921"
            ]
           ]
          },
          "colorway": [
           "#636efa",
           "#EF553B",
           "#00cc96",
           "#ab63fa",
           "#FFA15A",
           "#19d3f3",
           "#FF6692",
           "#B6E880",
           "#FF97FF",
           "#FECB52"
          ],
          "font": {
           "color": "#2a3f5f"
          },
          "geo": {
           "bgcolor": "white",
           "lakecolor": "white",
           "landcolor": "#E5ECF6",
           "showlakes": true,
           "showland": true,
           "subunitcolor": "white"
          },
          "hoverlabel": {
           "align": "left"
          },
          "hovermode": "closest",
          "mapbox": {
           "style": "light"
          },
          "paper_bgcolor": "white",
          "plot_bgcolor": "#E5ECF6",
          "polar": {
           "angularaxis": {
            "gridcolor": "white",
            "linecolor": "white",
            "ticks": ""
           },
           "bgcolor": "#E5ECF6",
           "radialaxis": {
            "gridcolor": "white",
            "linecolor": "white",
            "ticks": ""
           }
          },
          "scene": {
           "xaxis": {
            "backgroundcolor": "#E5ECF6",
            "gridcolor": "white",
            "gridwidth": 2,
            "linecolor": "white",
            "showbackground": true,
            "ticks": "",
            "zerolinecolor": "white"
           },
           "yaxis": {
            "backgroundcolor": "#E5ECF6",
            "gridcolor": "white",
            "gridwidth": 2,
            "linecolor": "white",
            "showbackground": true,
            "ticks": "",
            "zerolinecolor": "white"
           },
           "zaxis": {
            "backgroundcolor": "#E5ECF6",
            "gridcolor": "white",
            "gridwidth": 2,
            "linecolor": "white",
            "showbackground": true,
            "ticks": "",
            "zerolinecolor": "white"
           }
          },
          "shapedefaults": {
           "line": {
            "color": "#2a3f5f"
           }
          },
          "ternary": {
           "aaxis": {
            "gridcolor": "white",
            "linecolor": "white",
            "ticks": ""
           },
           "baxis": {
            "gridcolor": "white",
            "linecolor": "white",
            "ticks": ""
           },
           "bgcolor": "#E5ECF6",
           "caxis": {
            "gridcolor": "white",
            "linecolor": "white",
            "ticks": ""
           }
          },
          "title": {
           "x": 0.05
          },
          "xaxis": {
           "automargin": true,
           "gridcolor": "white",
           "linecolor": "white",
           "ticks": "",
           "title": {
            "standoff": 15
           },
           "zerolinecolor": "white",
           "zerolinewidth": 2
          },
          "yaxis": {
           "automargin": true,
           "gridcolor": "white",
           "linecolor": "white",
           "ticks": "",
           "title": {
            "standoff": 15
           },
           "zerolinecolor": "white",
           "zerolinewidth": 2
          }
         }
        },
        "title": {
         "text": "<b>City-Based: Top 50 Companies vs Number of Data Jobs Posted in last 120 Days</b>"
        },
        "updatemenus": [
         {
          "active": 0,
          "buttons": [
           {
            "args": [
             {
              "visible": [
               true,
               false,
               false,
               false,
               false,
               false,
               false,
               false,
               false,
               false
              ]
             }
            ],
            "label": "Austin",
            "method": "restyle"
           },
           {
            "args": [
             {
              "visible": [
               false,
               true,
               false,
               false,
               false,
               false,
               false,
               false,
               false,
               false
              ]
             }
            ],
            "label": "Atlanta",
            "method": "update"
           },
           {
            "args": [
             {
              "visible": [
               false,
               false,
               true,
               false,
               false,
               false,
               false,
               false,
               false,
               false
              ]
             }
            ],
            "label": "Boston",
            "method": "update"
           },
           {
            "args": [
             {
              "visible": [
               false,
               false,
               false,
               true,
               false,
               false,
               false,
               false,
               false,
               false
              ]
             }
            ],
            "label": "Columbus",
            "method": "update"
           },
           {
            "args": [
             {
              "visible": [
               false,
               false,
               false,
               false,
               true,
               false,
               false,
               false,
               false,
               false
              ]
             }
            ],
            "label": "Denver",
            "method": "update"
           },
           {
            "args": [
             {
              "visible": [
               false,
               false,
               false,
               false,
               false,
               true,
               false,
               false,
               false,
               false
              ]
             }
            ],
            "label": "New York",
            "method": "update"
           },
           {
            "args": [
             {
              "visible": [
               false,
               false,
               false,
               false,
               false,
               false,
               true,
               false,
               false,
               false
              ]
             }
            ],
            "label": "Raleigh",
            "method": "update"
           },
           {
            "args": [
             {
              "visible": [
               false,
               false,
               false,
               false,
               false,
               false,
               false,
               true,
               false,
               false
              ]
             }
            ],
            "label": "San Francisco",
            "method": "update"
           },
           {
            "args": [
             {
              "visible": [
               false,
               false,
               false,
               false,
               false,
               false,
               false,
               false,
               true,
               false
              ]
             }
            ],
            "label": "Seattle",
            "method": "update"
           },
           {
            "args": [
             {
              "visible": [
               false,
               false,
               false,
               false,
               false,
               false,
               false,
               false,
               false,
               true
              ]
             }
            ],
            "label": "Washington D.C.",
            "method": "update"
           }
          ],
          "showactive": true,
          "x": 1,
          "y": 1.1,
          "yanchor": "top"
         }
        ],
        "width": 1000,
        "yaxis": {
         "showgrid": true,
         "title": {
          "text": "Number of Data Jobs Posted"
         }
        }
       }
      },
      "text/html": [
       "<div>\n",
       "        \n",
       "        \n",
       "            <div id=\"07acdad9-3eb5-4d78-bc32-e31c9a8c8a88\" class=\"plotly-graph-div\" style=\"height:800px; width:1000px;\"></div>\n",
       "            <script type=\"text/javascript\">\n",
       "                require([\"plotly\"], function(Plotly) {\n",
       "                    window.PLOTLYENV=window.PLOTLYENV || {};\n",
       "                    \n",
       "                if (document.getElementById(\"07acdad9-3eb5-4d78-bc32-e31c9a8c8a88\")) {\n",
       "                    Plotly.newPlot(\n",
       "                        '07acdad9-3eb5-4d78-bc32-e31c9a8c8a88',\n",
       "                        [{\"marker\": {\"color\": \"rgb(106,90,205)\"}, \"type\": \"bar\", \"visible\": true, \"x\": [\"Dell\", \"Deloitte\", \"Accenture\", \"Visa\", \"Avani Technology Solutions Inc\", \"Advanced Micro Devices, Inc.\", \"Social Commerce Ventures\", \"CDW\", \"DISCO\", \"TEXAS EDUCATION AGENCY\", \"The Home Depot\", \"ZeniMax Media Inc.\", \"Amazon Web Services, Inc.\", \"Centene Corporation\", \"Cloudflare\", \"Dun & Bradstreet\", \"Facebook\", \"Health & Human Services Comm\", \"Indeed\", \"Natera\", \"RetailMeNot, Inc.\", \"SparkCognition\", \"Amazon.com Services, Inc.\", \"COMPTROLLER OF PUBLIC ACCOUNTS\", \"Charles Schwab\", \"Charles Schwab Inc.\", \"Cisco Systems\", \"Dosh\", \"Electronic Arts\", \"Evariant\", \"Google\", \"Hearst\", \"Intersys Consulting Inc\", \"Keller Williams\", \"Levelset\", \"Realtor.com\", \"SADA\", \"St Edwards University\", \"Teacher Retirement System of Texas\", \"Under Armour, Inc.\", \"Whole Foods Market\", \"WuXi AppTec Inc\", \"Abbott Laboratories\", \"Amherst\", \"Bethesda Softworks\", \"CACI\", \"CDK Global\", \"Clari\", \"Clinical Pathology Laboratories, Inc.\", \"Cognizant Technology Solutions\"], \"y\": [16, 13, 11, 10, 7, 6, 6, 5, 5, 5, 5, 5, 4, 4, 4, 4, 4, 4, 4, 4, 4, 4, 3, 3, 3, 3, 3, 3, 3, 3, 3, 3, 3, 3, 3, 3, 3, 3, 3, 3, 3, 3, 2, 2, 2, 2, 2, 2, 2, 2, 2, 2, 2, 2, 2, 2, 2, 2, 2, 2, 2, 2, 2, 2, 2, 2, 2, 2, 2, 2, 2, 2, 2, 2, 2, 2, 2, 2, 1, 1, 1, 1, 1, 1, 1, 1, 1, 1, 1, 1, 1, 1, 1, 1, 1, 1, 1, 1, 1, 1, 1, 1, 1, 1, 1, 1, 1, 1, 1, 1, 1, 1, 1, 1, 1, 1, 1, 1, 1, 1, 1, 1, 1, 1, 1, 1, 1, 1, 1, 1, 1, 1, 1, 1, 1, 1, 1, 1, 1, 1, 1, 1, 1, 1, 1, 1, 1, 1, 1, 1, 1, 1, 1, 1, 1, 1, 1, 1, 1, 1, 1, 1, 1, 1, 1, 1, 1, 1, 1, 1, 1, 1, 1, 1, 1, 1, 1, 1, 1, 1, 1, 1, 1, 1, 1, 1, 1, 1, 1, 1, 1, 1, 1, 1, 1, 1, 1, 1, 1, 1, 1, 1, 1, 1, 1, 1, 1, 1, 1, 1, 1, 1, 1, 1, 1, 1, 1, 1, 1, 1, 1, 1, 1, 1, 1, 1, 1, 1, 1, 1, 1, 1, 1, 1, 1, 1, 1, 1, 1, 1, 1, 1, 1, 1, 1, 1, 1, 1, 1, 1, 1, 1, 1, 1, 1, 1, 1, 1, 1, 1, 1, 1, 1, 1, 1, 1, 1, 1, 1]}, {\"marker\": {\"color\": \"rgb(106,90,205)\"}, \"type\": \"bar\", \"visible\": false, \"x\": [\"Deloitte\", \"The Home Depot\", \"Capgemini\", \"KPMG\", \"Accenture\", \"Georgia Tech Research Institute\", \"Wells Fargo\", \"Avani Technology Solutions Inc\", \"BB&T\", \"Microsoft\", \"Truist Financial\", \"AGCO\", \"Bank of America\", \"CapTech Consulting\", \"Cox Automotive\", \"Delta\", \"Equifax\", \"Intercontinental Exchange\", \"LexisNexis SA\", \"RELX Group\", \"SunTrust\", \"The Coca-Cola Company\", \"Avanade\", \"Booz Allen Hamilton\", \"Chick-fil-A, Inc.\", \"CoStar Group\", \"Cotiviti, Inc.\", \"FTI Consulting, Inc.\", \"GEORGIA-PACIFIC\", \"InComm\", \"NCR\", \"Newell Brands\", \"Scientific Games\", \"Travelport\", \"aspirent\", \"ADP\", \"Amazon Web Services, Inc.\", \"Anthem, Inc.\", \"CRH\", \"Change Healthcare\", \"Children's Healthcare of Atlanta\", \"Cox Communications\", \"Cox Enterprises\", \"Dematic\", \"Fiserv, Inc.\", \"GreenSky Administrative Services LLC\", \"HD Supply\", \"ICF\", \"Intellinet\", \"Komodo Health\"], \"y\": [28, 24, 21, 17, 16, 7, 7, 6, 6, 6, 6, 5, 5, 5, 5, 5, 5, 5, 5, 5, 5, 5, 4, 4, 4, 4, 4, 4, 4, 4, 4, 4, 4, 4, 4, 3, 3, 3, 3, 3, 3, 3, 3, 3, 3, 3, 3, 3, 3, 3, 3, 3, 3, 3, 3, 3, 3, 3, 3, 3, 3, 2, 2, 2, 2, 2, 2, 2, 2, 2, 2, 2, 2, 2, 2, 2, 2, 2, 2, 2, 2, 2, 2, 2, 2, 2, 2, 2, 2, 2, 2, 2, 2, 2, 2, 2, 2, 2, 2, 2, 2, 2, 2, 2, 2, 2, 2, 2, 1, 1, 1, 1, 1, 1, 1, 1, 1, 1, 1, 1, 1, 1, 1, 1, 1, 1, 1, 1, 1, 1, 1, 1, 1, 1, 1, 1, 1, 1, 1, 1, 1, 1, 1, 1, 1, 1, 1, 1, 1, 1, 1, 1, 1, 1, 1, 1, 1, 1, 1, 1, 1, 1, 1, 1, 1, 1, 1, 1, 1, 1, 1, 1, 1, 1, 1, 1, 1, 1, 1, 1, 1, 1, 1, 1, 1, 1, 1, 1, 1, 1, 1, 1, 1, 1, 1, 1, 1, 1, 1, 1, 1, 1, 1, 1, 1, 1, 1, 1, 1, 1, 1, 1, 1, 1, 1, 1, 1, 1, 1, 1, 1, 1, 1, 1, 1, 1, 1, 1, 1, 1, 1, 1, 1, 1, 1, 1, 1, 1, 1, 1, 1, 1, 1, 1, 1, 1, 1, 1, 1, 1, 1, 1, 1, 1, 1, 1, 1, 1, 1, 1, 1, 1, 1, 1, 1, 1, 1, 1, 1, 1, 1, 1, 1, 1, 1, 1, 1, 1, 1, 1, 1, 1, 1, 1, 1, 1, 1, 1, 1, 1, 1, 1, 1, 1, 1, 1, 1, 1, 1, 1, 1, 1, 1, 1, 1, 1, 1, 1, 1, 1, 1, 1, 1, 1, 1, 1, 1, 1, 1, 1, 1, 1, 1, 1, 1, 1]}, {\"marker\": {\"color\": \"rgb(106,90,205)\"}, \"type\": \"bar\", \"visible\": false, \"x\": [\"Takeda Pharmaceuticals\", \"Partners HealthCare(PHS)\", \"Accenture\", \"TripAdvisor\", \"Amazon.com Services LLC\", \"Harvard University\", \"Wayfair\", \"Amazon.com Services, Inc.\", \"Deloitte\", \"Broad Institute\", \"Humana\", \"MIT Lincoln Laboratory\", \"The TJX Companies, Inc.\", \"Alexion Pharmaceuticals,Inc.\", \"Boston Scientific Corporation\", \"CarGurus\", \"Dyno Therapeutics\", \"ERT\", \"MIT\", \"Protiviti\", \"Twitter\", \"Anheuser-Busch\", \"Biogen\", \"CDW\", \"CUSHMAN\", \"Dana-Farber Cancer Institute\", \"Dell\", \"FRESENIUS\", \"GASTON ELECTRICAL\", \"Genscape Careers\", \"Scientific Systems Company, Inc.\", \"Brigham & Women's Hospital(BWH)\", \"Liberty Mutual Insurance\", \"MassMutual\", \"Verizon\", \"Northeastern University\", \"Charles River Analytics\", \"State Street\", \"Blue Cross Blue Shield of Massachusetts\", \"Boston Medical Center (BMC)\", \"Hewlett Packard Enterprise\", \"MathWorks\", \"Vertex Pharmaceuticals\", \"ABIOMED\", \"AETNA\", \"Analog Devices\", \"Beth Israel Deaconess Medical Center\", \"Bose\", \"Boston University\", \"Cogito Corporation\"], \"y\": [34, 26, 24, 23, 19, 19, 19, 13, 13, 12, 12, 12, 12, 11, 11, 11, 11, 11, 11, 11, 11, 10, 10, 10, 10, 10, 10, 10, 10, 10, 10, 9, 9, 9, 9, 8, 7, 7, 6, 6, 6, 6, 6, 5, 5, 5, 5, 5, 5, 5, 5, 5, 5, 5, 5, 4, 4, 4, 4, 4, 4, 4, 4, 4, 4, 4, 4, 4, 4, 4, 4, 4, 4, 4, 4, 4, 3, 3, 3, 3, 3, 3, 3, 3, 3, 3, 3, 3, 3, 3, 3, 3, 3, 3, 3, 3, 3, 3, 3, 3, 3, 3, 3, 3, 3, 3, 2, 2, 2, 2, 2, 2, 2, 2, 2, 2, 2, 2, 2, 2, 2, 2, 2, 2, 2, 2, 2, 2, 2, 2, 2, 2, 2, 2, 2, 2, 2, 2, 2, 2, 2, 2, 2, 2, 2, 2, 2, 2, 2, 2, 2, 2, 2, 2, 2, 2, 2, 2, 2, 2, 2, 2, 2, 2, 2, 2, 2, 2, 2, 2, 2, 2, 2, 2, 2, 2, 2, 2, 2, 2, 2, 2, 2, 2, 2, 2, 1, 1, 1, 1, 1, 1, 1, 1, 1, 1, 1, 1, 1, 1, 1, 1, 1, 1, 1, 1, 1, 1, 1, 1, 1, 1, 1, 1, 1, 1, 1, 1, 1, 1, 1, 1, 1, 1, 1, 1, 1, 1, 1, 1, 1, 1, 1, 1, 1, 1, 1, 1, 1, 1, 1, 1, 1, 1, 1, 1, 1, 1, 1, 1, 1, 1, 1, 1, 1, 1, 1, 1, 1, 1, 1, 1, 1, 1, 1, 1, 1, 1, 1, 1, 1, 1, 1, 1, 1, 1, 1, 1, 1, 1, 1, 1, 1, 1, 1, 1, 1, 1, 1, 1, 1, 1, 1, 1, 1, 1, 1, 1, 1, 1, 1, 1, 1, 1, 1, 1, 1, 1, 1, 1, 1, 1, 1, 1, 1, 1, 1, 1, 1, 1, 1, 1, 1, 1, 1, 1, 1, 1, 1, 1, 1, 1, 1, 1, 1, 1, 1, 1, 1, 1, 1, 1, 1, 1, 1, 1, 1, 1, 1, 1, 1, 1, 1, 1, 1, 1, 1, 1, 1, 1, 1, 1, 1, 1, 1, 1, 1, 1, 1, 1, 1, 1, 1, 1, 1, 1, 1, 1, 1, 1, 1, 1, 1, 1, 1, 1, 1, 1, 1, 1, 1, 1, 1, 1, 1, 1, 1, 1, 1, 1, 1, 1, 1, 1, 1, 1, 1, 1, 1, 1, 1, 1, 1, 1, 1, 1, 1, 1, 1, 1, 1, 1, 1, 1, 1, 1, 1, 1, 1, 1, 1, 1, 1, 1, 1, 1, 1, 1, 1, 1, 1, 1, 1, 1, 1, 1, 1, 1, 1, 1, 1, 1, 1, 1, 1, 1, 1, 1, 1, 1, 1, 1, 1, 1, 1, 1, 1, 1, 1, 1, 1, 1, 1, 1, 1, 1, 1, 1, 1, 1, 1, 1, 1, 1, 1, 1, 1, 1, 1, 1, 1, 1, 1, 1, 1, 1, 1, 1, 1, 1, 1, 1, 1, 1, 1, 1, 1, 1, 1, 1, 1, 1, 1, 1, 1, 1, 1, 1, 1, 1, 1, 1, 1, 1, 1, 1, 1, 1]}, {\"marker\": {\"color\": \"rgb(106,90,205)\"}, \"type\": \"bar\", \"visible\": false, \"x\": [\"JP Morgan Chase\", \"Cardinal Health\", \"Chase\", \"Accenture\", \"Nationwide Mutual Insurance Company\", \"Deloitte\", \"Huntington Bank\", \"Team Fishel\", \"Amazon Data Services, Inc.\", \"Google\", \"JPMorgan Chase\", \"Nationwide Children's Hospital\", \"Ohio Health\", \"Ohio State University Medical Center\", \"SafeAuto\", \"Upstart Network, Inc.\", \"Avani Technology Solutions Inc\", \"Battelle\", \"Genpact\", \"Mass Genics\", \"Mettler Toledo\", \"State of Ohio Jobs\", \"Verizon\", \"Abercrombie and Fitch Co.\", \"Amazon Web Services, Inc.\", \"American Chemical Society\", \"Facebook\", \"Northwest\", \"Olive\", \"Veeva Systems\", \"AGC/ Black Box Network Services\", \"Ace-stack LLC\", \"COVETRUS INC\", \"ComResource\", \"DHL Supply Chain\", \"DataRobot\", \"EXPRESS\", \"Gathi Analytics\", \"Horizontal\", \"IT Synergy\", \"Mast Global\", \"Milestone Technologies\", \"Mount Carmel Health System\", \"Quantum Health\", \"Tra'Bian Enterprises\", \"Wasserstrom\", \"A2Z Field Services\", \"AAA Ohio Auto Club\", \"ALDI\", \"Abbott Laboratories\"], \"y\": [26, 23, 13, 11, 10, 7, 7, 7, 6, 5, 5, 5, 5, 5, 5, 5, 4, 4, 4, 4, 4, 4, 4, 3, 3, 3, 3, 3, 3, 3, 2, 2, 2, 2, 2, 2, 2, 2, 2, 2, 2, 2, 2, 2, 2, 2, 1, 1, 1, 1, 1, 1, 1, 1, 1, 1, 1, 1, 1, 1, 1, 1, 1, 1, 1, 1, 1, 1, 1, 1, 1, 1, 1, 1, 1, 1, 1, 1, 1, 1, 1, 1, 1, 1, 1, 1, 1, 1, 1, 1, 1, 1, 1, 1, 1, 1, 1, 1, 1, 1, 1, 1, 1, 1, 1, 1, 1, 1, 1, 1, 1, 1, 1, 1, 1, 1, 1, 1, 1]}, {\"marker\": {\"color\": \"rgb(106,90,205)\"}, \"type\": \"bar\", \"visible\": false, \"x\": [\"KPMG\", \"Comcast\", \"Deloitte\", \"Oracle\", \"Accenture\", \"DISH\", \"LOCKHEED MARTIN CORPORATION\", \"National Renewable Energy Laboratory\", \"University of Colorado\", \"University of Colorado Boulder\", \"Arrow Electronics, Inc.\", \"Ball Aerospace\", \"CBRE\", \"CenturyLink\", \"xentity corporation\", \"Amazon.com Services LLC\", \"CoBank\", \"Horizontal\", \"Pearson\", \"SoundHound Inc.\", \"ABB\", \"CACI\", \"City and County of Denver\", \"DaVita\", \"Kaiser Permanente\", \"Qwinix\", \"State of Colorado Job Opportunities\", \"Western Union\", \"Amazon Data Services, Inc.\", \"American Mortgage Consultants, Inc.\", \"ArcherDX, INC.\", \"Denver Health\", \"GHX\", \"Ibotta\", \"Iron Mountain Information Management, LLC\", \"Perficient, Inc\", \"RiskMatch\", \"Sambasafety\", \"ServiceSource\", \"Sovrn Holdings\", \"SpotX\", \"Transamerica\", \"Twitter\", \"VF Corporation\", \"Vertafore\", \"Zayo Group\", \"2-10 Home Buyers Warranty\", \"Aegon\", \"BDS Analytics\", \"Bank of America\"], \"y\": [22, 15, 14, 13, 11, 11, 9, 7, 7, 7, 6, 6, 6, 6, 6, 5, 5, 5, 5, 5, 4, 4, 4, 4, 4, 4, 4, 4, 3, 3, 3, 3, 3, 3, 3, 3, 3, 3, 3, 3, 3, 3, 3, 3, 3, 3, 2, 2, 2, 2, 2, 2, 2, 2, 2, 2, 2, 2, 2, 2, 2, 2, 2, 2, 2, 2, 2, 2, 2, 2, 2, 2, 2, 2, 2, 2, 2, 2, 2, 2, 2, 2, 2, 2, 2, 2, 2, 2, 2, 2, 1, 1, 1, 1, 1, 1, 1, 1, 1, 1, 1, 1, 1, 1, 1, 1, 1, 1, 1, 1, 1, 1, 1, 1, 1, 1, 1, 1, 1, 1, 1, 1, 1, 1, 1, 1, 1, 1, 1, 1, 1, 1, 1, 1, 1, 1, 1, 1, 1, 1, 1, 1, 1, 1, 1, 1, 1, 1, 1, 1, 1, 1, 1, 1, 1, 1, 1, 1, 1, 1, 1, 1, 1, 1, 1, 1, 1, 1, 1, 1, 1, 1, 1, 1, 1, 1, 1, 1, 1, 1, 1, 1, 1, 1, 1, 1, 1, 1, 1, 1, 1, 1, 1, 1, 1, 1, 1, 1, 1, 1, 1, 1, 1, 1, 1, 1, 1, 1, 1, 1, 1, 1, 1, 1, 1, 1, 1, 1, 1, 1, 1, 1, 1, 1, 1, 1, 1, 1, 1, 1, 1, 1, 1, 1, 1, 1, 1, 1, 1, 1, 1, 1, 1, 1, 1, 1, 1, 1, 1, 1, 1, 1, 1, 1, 1, 1, 1, 1, 1, 1, 1, 1, 1, 1, 1, 1, 1, 1, 1, 1, 1, 1, 1, 1, 1, 1, 1, 1, 1, 1, 1, 1, 1, 1, 1, 1, 1, 1, 1, 1, 1, 1, 1, 1, 1, 1, 1, 1, 1, 1, 1, 1, 1, 1, 1, 1, 1, 1]}, {\"marker\": {\"color\": \"rgb(106,90,205)\"}, \"type\": \"bar\", \"visible\": false, \"x\": [\"Oscar Health\", \"Disney Streaming Services\", \"QuadPay\", \"JP Morgan Chase\", \"Bloomberg\", \"BNY Mellon\", \"AETNA\", \"Dow Jones\", \"Bowery Farming\", \"Northwell Health\", \"Ordergroove\", \"Weil, Gotshal & Manges LLP\", \"CAPCO\", \"CBRE\", \"Cigna\", \"Crossix Solutions\", \"IBM\", \"New York City DEPARTMENT OF CORRECTION\", \"New York City DEPARTMENT OF INVESTIGATION\", \"Staff Networks LLC\", \"TBWA\\\\Chiat\\\\Day\", \"Talend\", \"KPMG\", \"Goldman Sachs\", \"CITI\", \"Accenture\", \"Mount Sinai\", \"Deloitte\", \"Oracle\", \"Spotify\", \"NYC Health + Hospitals\", \"New York City DEPT OF HEALTH/MENTAL HYGIENE\", \"AT&T\", \"Capgemini\", \"Xandr\", \"Chase\", \"Memorial Sloan-Kettering Cancer Center\", \"NYU Langone Health\", \"NYU Langone\", \"New York University\", \"Capital One - US\", \"Columbia University\", \"KBRA\", \"Mindshare\", \"PwC\", \"WESTAT\", \"A Place for Mom\", \"D. E. Shaw & Co., L.P.\", \"Discovery Communications\", \"HBO Max\"], \"y\": [73, 72, 65, 53, 47, 39, 35, 35, 33, 33, 33, 33, 32, 32, 32, 32, 32, 32, 32, 32, 32, 32, 17, 16, 13, 12, 12, 11, 11, 11, 10, 9, 8, 8, 8, 7, 7, 7, 6, 6, 5, 5, 5, 5, 5, 5, 4, 4, 4, 4, 4, 4, 4, 4, 4, 4, 4, 4, 4, 3, 3, 3, 3, 3, 3, 3, 3, 3, 3, 3, 3, 3, 3, 3, 3, 3, 3, 3, 3, 3, 3, 3, 3, 3, 3, 3, 3, 3, 3, 3, 3, 2, 2, 2, 2, 2, 2, 2, 2, 2, 2, 2, 2, 2, 2, 2, 2, 2, 2, 2, 2, 2, 2, 2, 2, 2, 2, 2, 2, 2, 2, 2, 2, 2, 2, 2, 2, 2, 2, 2, 2, 2, 2, 2, 2, 2, 2, 2, 2, 2, 2, 2, 2, 2, 2, 2, 2, 2, 2, 2, 2, 2, 2, 2, 2, 2, 2, 2, 2, 2, 2, 2, 2, 2, 2, 2, 2, 2, 2, 2, 2, 2, 2, 2, 2, 2, 2, 2, 2, 2, 2, 2, 2, 1, 1, 1, 1, 1, 1, 1, 1, 1, 1, 1, 1, 1, 1, 1, 1, 1, 1, 1, 1, 1, 1, 1, 1, 1, 1, 1, 1, 1, 1, 1, 1, 1, 1, 1, 1, 1, 1, 1, 1, 1, 1, 1, 1, 1, 1, 1, 1, 1, 1, 1, 1, 1, 1, 1, 1, 1, 1, 1, 1, 1, 1, 1, 1, 1, 1, 1, 1, 1, 1, 1, 1, 1, 1, 1, 1, 1, 1, 1, 1, 1, 1, 1, 1, 1, 1, 1, 1, 1, 1, 1, 1, 1, 1, 1, 1, 1, 1, 1, 1, 1, 1, 1, 1, 1, 1, 1, 1, 1, 1, 1, 1, 1, 1, 1, 1, 1, 1, 1, 1, 1, 1, 1, 1, 1, 1, 1, 1, 1, 1, 1, 1, 1, 1, 1, 1, 1, 1, 1, 1, 1, 1, 1, 1, 1, 1, 1, 1, 1, 1, 1, 1, 1, 1, 1, 1, 1, 1, 1, 1, 1, 1, 1, 1, 1, 1, 1, 1, 1, 1, 1, 1, 1, 1, 1, 1, 1, 1, 1, 1, 1, 1, 1, 1, 1, 1, 1, 1, 1, 1, 1, 1, 1, 1, 1, 1, 1, 1, 1, 1, 1, 1, 1, 1, 1, 1, 1, 1, 1, 1, 1, 1, 1, 1, 1, 1, 1, 1, 1, 1, 1, 1, 1, 1, 1, 1, 1, 1, 1, 1, 1, 1, 1, 1, 1, 1, 1, 1, 1, 1, 1, 1, 1, 1, 1, 1, 1, 1, 1, 1, 1, 1, 1, 1, 1, 1, 1, 1, 1, 1, 1, 1, 1, 1, 1, 1, 1, 1, 1, 1, 1, 1, 1, 1, 1, 1, 1, 1, 1, 1, 1, 1, 1, 1, 1, 1, 1, 1, 1, 1, 1, 1, 1, 1, 1, 1, 1, 1, 1, 1, 1, 1, 1, 1, 1, 1, 1, 1, 1, 1, 1, 1, 1, 1, 1, 1, 1, 1, 1, 1, 1, 1, 1, 1, 1, 1, 1, 1, 1, 1, 1, 1, 1, 1, 1, 1, 1, 1, 1, 1, 1, 1, 1, 1, 1, 1, 1, 1, 1, 1, 1, 1, 1, 1, 1, 1, 1, 1, 1, 1, 1, 1, 1, 1, 1, 1, 1, 1, 1, 1, 1, 1, 1, 1, 1, 1, 1, 1, 1, 1, 1, 1, 1, 1, 1, 1, 1, 1]}, {\"marker\": {\"color\": \"rgb(106,90,205)\"}, \"type\": \"bar\", \"visible\": false, \"x\": [\"Genworth\", \"Lenovo\", \"Covance\", \"Deloitte\", \"Duke Careers\", \"Red Hat Software\", \"Syngenta\", \"RTI International\", \"GSK\", \"IQVIA\", \"Pearson\", \"Advance Auto Parts\", \"Applied Research Associates, Inc\", \"Fidelity Investments\", \"SAS Institute Inc\", \"State of North Carolina\", \"UNC Health Care\", \"University of North Carolina at Chapel Hill\", \"Cisco Systems\", \"MetLife\", \"Accenture\", \"Blue Cross Blue Shield of North Carolina\", \"IBM\", \"NC State University\", \"NetApp\", \"Dominion Enterprises\", \"NTT DATA Services\", \"ABB\", \"Arch\", \"BAE Systems\", \"Credit Suisse\", \"General Dynamics Information Technology\", \"ImmunityBio\", \"Local Government Federal Credit Union\", \"North Carolina State University\", \"Nutanix\", \"UNC Rex Healthcare\", \"Verizon\", \"Worldwide Clinical Trials\", \"AURA TECHNOLOGIES LLC.\", \"Align Technology\", \"Biogen\", \"Capgemini\", \"Cato Research LLC\", \"Cognizant Technology Solutions\", \"FastMed\", \"FastMed Urgent Care\", \"INTUITIVE SURGICAL\", \"Katalyst HealthCares & Life Sciences\", \"LexisNexis SA\"], \"y\": [32, 13, 12, 12, 10, 10, 10, 9, 8, 8, 8, 7, 7, 7, 7, 7, 7, 7, 6, 6, 5, 5, 5, 5, 5, 4, 4, 3, 3, 3, 3, 3, 3, 3, 3, 3, 3, 3, 3, 2, 2, 2, 2, 2, 2, 2, 2, 2, 2, 2, 2, 2, 2, 2, 2, 2, 2, 2, 2, 2, 2, 2, 2, 1, 1, 1, 1, 1, 1, 1, 1, 1, 1, 1, 1, 1, 1, 1, 1, 1, 1, 1, 1, 1, 1, 1, 1, 1, 1, 1, 1, 1, 1, 1, 1, 1, 1, 1, 1, 1, 1, 1, 1, 1, 1, 1, 1, 1, 1, 1, 1, 1, 1, 1, 1, 1, 1, 1, 1, 1, 1, 1, 1, 1, 1, 1, 1, 1, 1, 1, 1, 1, 1, 1, 1, 1, 1, 1, 1, 1, 1, 1, 1, 1, 1, 1, 1, 1, 1, 1, 1, 1, 1, 1, 1, 1, 1, 1, 1, 1, 1, 1, 1, 1, 1, 1, 1, 1, 1, 1, 1, 1, 1, 1, 1, 1, 1]}, {\"marker\": {\"color\": \"rgb(106,90,205)\"}, \"type\": \"bar\", \"visible\": false, \"x\": [\"Uber\", \"Twitch\", \"Box\", \"Twitter\", \"Deloitte\", \"Square\", \"Wells Fargo\", \"Accenture\", \"Splunk\", \"Principia Biopharma\", \"Dell\", \"Netpace, Inc.\", \"New Relic\", \"Trianz\", \"Vungle\", \"eBay Inc.\", \"Airbnb\", \"CooperVision\", \"LAZ Parking\", \"LendingClub\", \"MANTICORE GAMES\", \"NEURALINK\", \"Numerator\", \"Touro College\", \"vidIQ\", \"University of California San Francisco\", \"Kaiser Permanente\", \"University of California Berkeley\", \"Google\", \"Autodesk\", \"DoorDash\", \"Sony Interactive Entertainment PlayStation\", \"Salesforce\", \"Stitch Fix\", \"Ancestry\", \"Course Hero\", \"Facebook\", \"Fanatics Inc.\", \"IHS Markit\", \"Komodo Health\", \"Migo\", \"Roblox\", \"Slack\", \"Gap Inc.\", \"JP Morgan Chase\", \"Oracle\", \"SoFi\", \"Tellus Solutions\", \"Turner & Townsend\", \"University of San Francisco\"], \"y\": [43, 33, 30, 28, 20, 20, 20, 19, 19, 17, 16, 16, 16, 16, 16, 16, 15, 15, 15, 15, 15, 15, 15, 15, 15, 14, 13, 12, 11, 10, 9, 9, 8, 7, 6, 6, 6, 6, 6, 6, 6, 6, 6, 5, 5, 5, 5, 5, 5, 5, 5, 5, 4, 4, 4, 4, 4, 4, 4, 4, 4, 4, 4, 4, 4, 4, 4, 4, 4, 3, 3, 3, 3, 3, 3, 3, 3, 3, 3, 3, 3, 3, 3, 3, 3, 3, 3, 3, 3, 3, 3, 3, 3, 3, 3, 3, 3, 3, 3, 3, 3, 3, 3, 3, 2, 2, 2, 2, 2, 2, 2, 2, 2, 2, 2, 2, 2, 2, 2, 2, 2, 2, 2, 2, 2, 2, 2, 2, 2, 2, 2, 2, 2, 2, 2, 2, 2, 2, 2, 2, 2, 2, 2, 2, 2, 2, 2, 2, 2, 2, 2, 2, 2, 2, 2, 2, 2, 2, 2, 2, 2, 2, 2, 2, 2, 2, 2, 2, 2, 2, 2, 2, 2, 2, 2, 2, 2, 2, 2, 2, 2, 2, 2, 2, 2, 2, 2, 2, 2, 2, 2, 1, 1, 1, 1, 1, 1, 1, 1, 1, 1, 1, 1, 1, 1, 1, 1, 1, 1, 1, 1, 1, 1, 1, 1, 1, 1, 1, 1, 1, 1, 1, 1, 1, 1, 1, 1, 1, 1, 1, 1, 1, 1, 1, 1, 1, 1, 1, 1, 1, 1, 1, 1, 1, 1, 1, 1, 1, 1, 1, 1, 1, 1, 1, 1, 1, 1, 1, 1, 1, 1, 1, 1, 1, 1, 1, 1, 1, 1, 1, 1, 1, 1, 1, 1, 1, 1, 1, 1, 1, 1, 1, 1, 1, 1, 1, 1, 1, 1, 1, 1, 1, 1, 1, 1, 1, 1, 1, 1, 1, 1, 1, 1, 1, 1, 1, 1, 1, 1, 1, 1, 1, 1, 1, 1, 1, 1, 1, 1, 1, 1, 1, 1, 1, 1, 1, 1, 1, 1, 1, 1, 1, 1, 1, 1, 1, 1, 1, 1, 1, 1, 1, 1, 1, 1, 1, 1, 1, 1, 1, 1, 1, 1, 1, 1, 1, 1, 1, 1, 1, 1, 1, 1, 1, 1, 1, 1, 1, 1, 1, 1, 1, 1, 1, 1, 1, 1, 1, 1, 1, 1, 1, 1, 1, 1, 1, 1, 1, 1, 1, 1, 1, 1, 1, 1, 1, 1, 1, 1, 1, 1, 1, 1, 1, 1, 1, 1, 1, 1, 1, 1, 1, 1, 1, 1, 1, 1, 1, 1, 1, 1, 1, 1, 1, 1, 1, 1, 1, 1, 1, 1, 1, 1, 1, 1, 1, 1, 1, 1, 1, 1, 1, 1, 1, 1, 1, 1, 1, 1, 1, 1, 1, 1, 1, 1, 1, 1, 1, 1, 1, 1, 1, 1, 1, 1, 1, 1, 1, 1, 1, 1, 1, 1, 1, 1, 1, 1, 1, 1, 1, 1, 1, 1, 1, 1, 1, 1, 1, 1, 1, 1, 1, 1, 1, 1, 1, 1, 1, 1, 1, 1, 1, 1, 1, 1, 1, 1, 1, 1, 1, 1, 1, 1, 1, 1, 1, 1, 1, 1, 1, 1, 1, 1, 1, 1, 1, 1, 1, 1, 1, 1, 1, 1, 1, 1, 1, 1, 1, 1, 1, 1, 1, 1, 1, 1, 1]}, {\"marker\": {\"color\": \"rgb(106,90,205)\"}, \"type\": \"bar\", \"visible\": false, \"x\": [\"Amazon.com Services, Inc.\", \"Amazon.com Services LLC\", \"Microsoft\", \"Amazon Web Services, Inc.\", \"Expedia.com\", \"University of Washington\", \"Accenture\", \"Deloitte\", \"Blue Origin\", \"Facebook\", \"Oracle\", \"Zillow Group\", \"Nordstrom\", \"Seattle Genetics, Inc.\", \"Expedia Group\", \"Fred Hutchinson Cancer Research Center\", \"JP Morgan Chase\", \"KPMG\", \"DocuSign\", \"LivePerson\", \"Outreach\", \"Slalom Consulting\", \"Starbucks\", \"Discovery Communications\", \"Liberty Mutual Insurance\", \"PACCAR\", \"Pacific Northwest National Laboratory\", \"Seattle Children's\", \"Seattle Children's Hospital\", \"Tableau\", \"Convoy\", \"Zillow\", \"Allstate\", \"Amazon Data Services, Inc.\", \"Beyondsoft Consulting\", \"Big Fish Games\", \"Dell\", \"Kuaishou Technology\", \"Micron\", \"Smartsheet\", \"Tenacious Entertainment\", \"The Allen Institute for AI\", \"VRBO\", \"Zones\", \"doxo\", \"Airbnb\", \"Ben Bridge Jeweler, Inc.\", \"Blueprint Technologies\", \"Celgene\", \"Chase\"], \"y\": [150, 104, 71, 29, 23, 22, 17, 16, 14, 12, 12, 11, 10, 9, 8, 8, 8, 8, 7, 7, 7, 7, 7, 6, 6, 6, 6, 6, 6, 6, 5, 5, 4, 4, 4, 4, 4, 4, 4, 4, 4, 4, 4, 4, 4, 3, 3, 3, 3, 3, 3, 3, 3, 3, 3, 3, 3, 3, 3, 3, 3, 3, 3, 3, 3, 3, 3, 3, 2, 2, 2, 2, 2, 2, 2, 2, 2, 2, 2, 2, 2, 2, 2, 2, 2, 2, 2, 2, 2, 2, 2, 2, 2, 2, 2, 2, 2, 2, 2, 2, 2, 2, 2, 2, 2, 2, 2, 2, 2, 2, 2, 2, 2, 2, 2, 2, 2, 2, 2, 2, 2, 2, 2, 2, 2, 2, 2, 2, 2, 2, 2, 1, 1, 1, 1, 1, 1, 1, 1, 1, 1, 1, 1, 1, 1, 1, 1, 1, 1, 1, 1, 1, 1, 1, 1, 1, 1, 1, 1, 1, 1, 1, 1, 1, 1, 1, 1, 1, 1, 1, 1, 1, 1, 1, 1, 1, 1, 1, 1, 1, 1, 1, 1, 1, 1, 1, 1, 1, 1, 1, 1, 1, 1, 1, 1, 1, 1, 1, 1, 1, 1, 1, 1, 1, 1, 1, 1, 1, 1, 1, 1, 1, 1, 1, 1, 1, 1, 1, 1, 1, 1, 1, 1, 1, 1, 1, 1, 1, 1, 1, 1, 1, 1, 1, 1, 1, 1, 1, 1, 1, 1, 1, 1, 1, 1, 1, 1, 1, 1, 1, 1, 1, 1, 1, 1, 1, 1, 1, 1, 1, 1, 1, 1, 1, 1, 1, 1, 1, 1, 1, 1, 1, 1, 1, 1, 1, 1, 1, 1, 1, 1, 1, 1, 1, 1, 1, 1, 1, 1, 1, 1, 1, 1, 1, 1, 1, 1, 1, 1, 1, 1, 1, 1, 1, 1, 1, 1, 1, 1, 1, 1, 1, 1, 1, 1, 1, 1, 1, 1, 1, 1, 1, 1, 1, 1, 1, 1, 1, 1, 1, 1, 1, 1, 1, 1, 1, 1, 1, 1, 1]}, {\"marker\": {\"color\": \"rgb(106,90,205)\"}, \"type\": \"bar\", \"visible\": false, \"x\": [\"Ho-Chunk\", \"Compass, Inc.\", \"Booz Allen Hamilton\", \"Capital One - US\", \"Leidos\", \"Accenture\", \"AnaVation LLC\", \"Guidehouse\", \"The Aerospace Corporation\", \"Atlas Research\", \"CENTRA Technology\", \"Elastic\", \"GRIMM\", \"HCI Group\", \"Medstar Georgetown University Hospital\", \"Strategic Insight LTD\", \"Bechtel\", \"Dell\", \"Fresh Gravity\", \"Techflow, Inc.\", \"The Buffalo Group, LLC\", \"US Pharmacopeia\", \"General Dynamics Information Technology\", \"Logistics Management Institute\", \"CACI\", \"Numerodata LLC\", \"Amazon Data Services, Inc.\", \"Amazon Web Services, Inc.\", \"E3 Federal Solutions, LLC\", \"KPMG\", \"Applied Memetics LLC\", \"Deloitte\", \"Modern Technology Solutions, Inc.\", \"CNA\", \"Freddie Mac\", \"NT Concepts\", \"Numero Data LLC\", \"Peraton\", \"Perspecta\", \"Serco North America\", \"DataSync Technologies, Inc\", \"Integral\", \"LMI\", \"Steampunk\", \"Systems Planning and Analysis, Inc.\", \"US Department of Commerce\", \"Verizon\", \"CAMRIS\", \"FAAZ Consulting\", \"Inovalon, Inc.\"], \"y\": [169, 115, 70, 70, 68, 66, 64, 63, 59, 57, 57, 57, 57, 57, 57, 57, 56, 56, 56, 56, 56, 56, 43, 41, 21, 10, 9, 9, 8, 8, 7, 7, 7, 6, 6, 6, 6, 6, 6, 6, 5, 5, 5, 5, 5, 5, 5, 4, 4, 4, 4, 4, 4, 4, 3, 3, 3, 3, 3, 3, 3, 3, 3, 3, 3, 3, 3, 3, 3, 3, 3, 3, 3, 3, 3, 3, 3, 3, 3, 3, 3, 3, 3, 3, 3, 3, 3, 3, 3, 3, 3, 3, 3, 3, 3, 3, 3, 3, 3, 2, 2, 2, 2, 2, 2, 2, 2, 2, 2, 2, 2, 2, 2, 2, 2, 2, 2, 2, 2, 2, 2, 2, 2, 2, 2, 2, 2, 2, 2, 2, 2, 2, 2, 2, 2, 2, 2, 2, 2, 2, 2, 2, 2, 2, 2, 2, 2, 2, 2, 2, 2, 2, 2, 2, 2, 2, 2, 2, 2, 2, 2, 2, 2, 2, 2, 2, 2, 2, 2, 2, 2, 2, 2, 2, 2, 2, 2, 2, 2, 2, 2, 2, 2, 2, 2, 2, 2, 1, 1, 1, 1, 1, 1, 1, 1, 1, 1, 1, 1, 1, 1, 1, 1, 1, 1, 1, 1, 1, 1, 1, 1, 1, 1, 1, 1, 1, 1, 1, 1, 1, 1, 1, 1, 1, 1, 1, 1, 1, 1, 1, 1, 1, 1, 1, 1, 1, 1, 1, 1, 1, 1, 1, 1, 1, 1, 1, 1, 1, 1, 1, 1, 1, 1, 1, 1, 1, 1, 1, 1, 1, 1, 1, 1, 1, 1, 1, 1, 1, 1, 1, 1, 1, 1, 1, 1, 1, 1, 1, 1, 1, 1, 1, 1, 1, 1, 1, 1, 1, 1, 1, 1, 1, 1, 1, 1, 1, 1, 1, 1, 1, 1, 1, 1, 1, 1, 1, 1, 1, 1, 1, 1, 1, 1, 1, 1, 1, 1, 1, 1, 1, 1, 1, 1, 1, 1, 1, 1, 1, 1, 1, 1, 1, 1, 1, 1, 1, 1, 1, 1, 1, 1, 1, 1, 1, 1, 1, 1, 1, 1, 1, 1, 1, 1, 1, 1, 1, 1, 1, 1, 1, 1, 1, 1, 1, 1, 1, 1, 1, 1, 1, 1, 1, 1, 1, 1, 1, 1, 1, 1, 1, 1, 1, 1, 1, 1, 1, 1, 1, 1, 1, 1, 1, 1, 1, 1, 1, 1, 1, 1, 1, 1, 1, 1, 1, 1, 1, 1, 1, 1, 1, 1, 1, 1, 1, 1, 1, 1, 1, 1, 1, 1, 1, 1, 1, 1, 1, 1, 1, 1, 1, 1, 1, 1, 1, 1, 1, 1, 1, 1, 1, 1, 1, 1, 1, 1, 1, 1, 1, 1, 1, 1, 1, 1, 1, 1, 1, 1, 1, 1, 1, 1, 1, 1, 1, 1, 1, 1, 1, 1, 1, 1, 1, 1, 1, 1, 1, 1, 1, 1, 1, 1, 1, 1, 1, 1, 1, 1, 1, 1, 1, 1, 1, 1, 1, 1, 1, 1, 1, 1, 1, 1, 1, 1, 1, 1, 1, 1, 1, 1, 1, 1, 1, 1, 1, 1, 1, 1, 1, 1, 1, 1, 1]}],\n",
       "                        {\"autosize\": false, \"height\": 800, \"paper_bgcolor\": \"rgba(0,0,0,0)\", \"plot_bgcolor\": \"rgba(0,0,0,0)\", \"showlegend\": false, \"template\": {\"data\": {\"bar\": [{\"error_x\": {\"color\": \"#2a3f5f\"}, \"error_y\": {\"color\": \"#2a3f5f\"}, \"marker\": {\"line\": {\"color\": \"#E5ECF6\", \"width\": 0.5}}, \"type\": \"bar\"}], \"barpolar\": [{\"marker\": {\"line\": {\"color\": \"#E5ECF6\", \"width\": 0.5}}, \"type\": \"barpolar\"}], \"carpet\": [{\"aaxis\": {\"endlinecolor\": \"#2a3f5f\", \"gridcolor\": \"white\", \"linecolor\": \"white\", \"minorgridcolor\": \"white\", \"startlinecolor\": \"#2a3f5f\"}, \"baxis\": {\"endlinecolor\": \"#2a3f5f\", \"gridcolor\": \"white\", \"linecolor\": \"white\", \"minorgridcolor\": \"white\", \"startlinecolor\": \"#2a3f5f\"}, \"type\": \"carpet\"}], \"choropleth\": [{\"colorbar\": {\"outlinewidth\": 0, \"ticks\": \"\"}, \"type\": \"choropleth\"}], \"contour\": [{\"colorbar\": {\"outlinewidth\": 0, \"ticks\": \"\"}, \"colorscale\": [[0.0, \"#0d0887\"], [0.1111111111111111, \"#46039f\"], [0.2222222222222222, \"#7201a8\"], [0.3333333333333333, \"#9c179e\"], [0.4444444444444444, \"#bd3786\"], [0.5555555555555556, \"#d8576b\"], [0.6666666666666666, \"#ed7953\"], [0.7777777777777778, \"#fb9f3a\"], [0.8888888888888888, \"#fdca26\"], [1.0, \"#f0f921\"]], \"type\": \"contour\"}], \"contourcarpet\": [{\"colorbar\": {\"outlinewidth\": 0, \"ticks\": \"\"}, \"type\": \"contourcarpet\"}], \"heatmap\": [{\"colorbar\": {\"outlinewidth\": 0, \"ticks\": \"\"}, \"colorscale\": [[0.0, \"#0d0887\"], [0.1111111111111111, \"#46039f\"], [0.2222222222222222, \"#7201a8\"], [0.3333333333333333, \"#9c179e\"], [0.4444444444444444, \"#bd3786\"], [0.5555555555555556, \"#d8576b\"], [0.6666666666666666, \"#ed7953\"], [0.7777777777777778, \"#fb9f3a\"], [0.8888888888888888, \"#fdca26\"], [1.0, \"#f0f921\"]], \"type\": \"heatmap\"}], \"heatmapgl\": [{\"colorbar\": {\"outlinewidth\": 0, \"ticks\": \"\"}, \"colorscale\": [[0.0, \"#0d0887\"], [0.1111111111111111, \"#46039f\"], [0.2222222222222222, \"#7201a8\"], [0.3333333333333333, \"#9c179e\"], [0.4444444444444444, \"#bd3786\"], [0.5555555555555556, \"#d8576b\"], [0.6666666666666666, \"#ed7953\"], [0.7777777777777778, \"#fb9f3a\"], [0.8888888888888888, \"#fdca26\"], [1.0, \"#f0f921\"]], \"type\": \"heatmapgl\"}], \"histogram\": [{\"marker\": {\"colorbar\": {\"outlinewidth\": 0, \"ticks\": \"\"}}, \"type\": \"histogram\"}], \"histogram2d\": [{\"colorbar\": {\"outlinewidth\": 0, \"ticks\": \"\"}, \"colorscale\": [[0.0, \"#0d0887\"], [0.1111111111111111, \"#46039f\"], [0.2222222222222222, \"#7201a8\"], [0.3333333333333333, \"#9c179e\"], [0.4444444444444444, \"#bd3786\"], [0.5555555555555556, \"#d8576b\"], [0.6666666666666666, \"#ed7953\"], [0.7777777777777778, \"#fb9f3a\"], [0.8888888888888888, \"#fdca26\"], [1.0, \"#f0f921\"]], \"type\": \"histogram2d\"}], \"histogram2dcontour\": [{\"colorbar\": {\"outlinewidth\": 0, \"ticks\": \"\"}, \"colorscale\": [[0.0, \"#0d0887\"], [0.1111111111111111, \"#46039f\"], [0.2222222222222222, \"#7201a8\"], [0.3333333333333333, \"#9c179e\"], [0.4444444444444444, \"#bd3786\"], [0.5555555555555556, \"#d8576b\"], [0.6666666666666666, \"#ed7953\"], [0.7777777777777778, \"#fb9f3a\"], [0.8888888888888888, \"#fdca26\"], [1.0, \"#f0f921\"]], \"type\": \"histogram2dcontour\"}], \"mesh3d\": [{\"colorbar\": {\"outlinewidth\": 0, \"ticks\": \"\"}, \"type\": \"mesh3d\"}], \"parcoords\": [{\"line\": {\"colorbar\": {\"outlinewidth\": 0, \"ticks\": \"\"}}, \"type\": \"parcoords\"}], \"pie\": [{\"automargin\": true, \"type\": \"pie\"}], \"scatter\": [{\"marker\": {\"colorbar\": {\"outlinewidth\": 0, \"ticks\": \"\"}}, \"type\": \"scatter\"}], \"scatter3d\": [{\"line\": {\"colorbar\": {\"outlinewidth\": 0, \"ticks\": \"\"}}, \"marker\": {\"colorbar\": {\"outlinewidth\": 0, \"ticks\": \"\"}}, \"type\": \"scatter3d\"}], \"scattercarpet\": [{\"marker\": {\"colorbar\": {\"outlinewidth\": 0, \"ticks\": \"\"}}, \"type\": \"scattercarpet\"}], \"scattergeo\": [{\"marker\": {\"colorbar\": {\"outlinewidth\": 0, \"ticks\": \"\"}}, \"type\": \"scattergeo\"}], \"scattergl\": [{\"marker\": {\"colorbar\": {\"outlinewidth\": 0, \"ticks\": \"\"}}, \"type\": \"scattergl\"}], \"scattermapbox\": [{\"marker\": {\"colorbar\": {\"outlinewidth\": 0, \"ticks\": \"\"}}, \"type\": \"scattermapbox\"}], \"scatterpolar\": [{\"marker\": {\"colorbar\": {\"outlinewidth\": 0, \"ticks\": \"\"}}, \"type\": \"scatterpolar\"}], \"scatterpolargl\": [{\"marker\": {\"colorbar\": {\"outlinewidth\": 0, \"ticks\": \"\"}}, \"type\": \"scatterpolargl\"}], \"scatterternary\": [{\"marker\": {\"colorbar\": {\"outlinewidth\": 0, \"ticks\": \"\"}}, \"type\": \"scatterternary\"}], \"surface\": [{\"colorbar\": {\"outlinewidth\": 0, \"ticks\": \"\"}, \"colorscale\": [[0.0, \"#0d0887\"], [0.1111111111111111, \"#46039f\"], [0.2222222222222222, \"#7201a8\"], [0.3333333333333333, \"#9c179e\"], [0.4444444444444444, \"#bd3786\"], [0.5555555555555556, \"#d8576b\"], [0.6666666666666666, \"#ed7953\"], [0.7777777777777778, \"#fb9f3a\"], [0.8888888888888888, \"#fdca26\"], [1.0, \"#f0f921\"]], \"type\": \"surface\"}], \"table\": [{\"cells\": {\"fill\": {\"color\": \"#EBF0F8\"}, \"line\": {\"color\": \"white\"}}, \"header\": {\"fill\": {\"color\": \"#C8D4E3\"}, \"line\": {\"color\": \"white\"}}, \"type\": \"table\"}]}, \"layout\": {\"annotationdefaults\": {\"arrowcolor\": \"#2a3f5f\", \"arrowhead\": 0, \"arrowwidth\": 1}, \"coloraxis\": {\"colorbar\": {\"outlinewidth\": 0, \"ticks\": \"\"}}, \"colorscale\": {\"diverging\": [[0, \"#8e0152\"], [0.1, \"#c51b7d\"], [0.2, \"#de77ae\"], [0.3, \"#f1b6da\"], [0.4, \"#fde0ef\"], [0.5, \"#f7f7f7\"], [0.6, \"#e6f5d0\"], [0.7, \"#b8e186\"], [0.8, \"#7fbc41\"], [0.9, \"#4d9221\"], [1, \"#276419\"]], \"sequential\": [[0.0, \"#0d0887\"], [0.1111111111111111, \"#46039f\"], [0.2222222222222222, \"#7201a8\"], [0.3333333333333333, \"#9c179e\"], [0.4444444444444444, \"#bd3786\"], [0.5555555555555556, \"#d8576b\"], [0.6666666666666666, \"#ed7953\"], [0.7777777777777778, \"#fb9f3a\"], [0.8888888888888888, \"#fdca26\"], [1.0, \"#f0f921\"]], \"sequentialminus\": [[0.0, \"#0d0887\"], [0.1111111111111111, \"#46039f\"], [0.2222222222222222, \"#7201a8\"], [0.3333333333333333, \"#9c179e\"], [0.4444444444444444, \"#bd3786\"], [0.5555555555555556, \"#d8576b\"], [0.6666666666666666, \"#ed7953\"], [0.7777777777777778, \"#fb9f3a\"], [0.8888888888888888, \"#fdca26\"], [1.0, \"#f0f921\"]]}, \"colorway\": [\"#636efa\", \"#EF553B\", \"#00cc96\", \"#ab63fa\", \"#FFA15A\", \"#19d3f3\", \"#FF6692\", \"#B6E880\", \"#FF97FF\", \"#FECB52\"], \"font\": {\"color\": \"#2a3f5f\"}, \"geo\": {\"bgcolor\": \"white\", \"lakecolor\": \"white\", \"landcolor\": \"#E5ECF6\", \"showlakes\": true, \"showland\": true, \"subunitcolor\": \"white\"}, \"hoverlabel\": {\"align\": \"left\"}, \"hovermode\": \"closest\", \"mapbox\": {\"style\": \"light\"}, \"paper_bgcolor\": \"white\", \"plot_bgcolor\": \"#E5ECF6\", \"polar\": {\"angularaxis\": {\"gridcolor\": \"white\", \"linecolor\": \"white\", \"ticks\": \"\"}, \"bgcolor\": \"#E5ECF6\", \"radialaxis\": {\"gridcolor\": \"white\", \"linecolor\": \"white\", \"ticks\": \"\"}}, \"scene\": {\"xaxis\": {\"backgroundcolor\": \"#E5ECF6\", \"gridcolor\": \"white\", \"gridwidth\": 2, \"linecolor\": \"white\", \"showbackground\": true, \"ticks\": \"\", \"zerolinecolor\": \"white\"}, \"yaxis\": {\"backgroundcolor\": \"#E5ECF6\", \"gridcolor\": \"white\", \"gridwidth\": 2, \"linecolor\": \"white\", \"showbackground\": true, \"ticks\": \"\", \"zerolinecolor\": \"white\"}, \"zaxis\": {\"backgroundcolor\": \"#E5ECF6\", \"gridcolor\": \"white\", \"gridwidth\": 2, \"linecolor\": \"white\", \"showbackground\": true, \"ticks\": \"\", \"zerolinecolor\": \"white\"}}, \"shapedefaults\": {\"line\": {\"color\": \"#2a3f5f\"}}, \"ternary\": {\"aaxis\": {\"gridcolor\": \"white\", \"linecolor\": \"white\", \"ticks\": \"\"}, \"baxis\": {\"gridcolor\": \"white\", \"linecolor\": \"white\", \"ticks\": \"\"}, \"bgcolor\": \"#E5ECF6\", \"caxis\": {\"gridcolor\": \"white\", \"linecolor\": \"white\", \"ticks\": \"\"}}, \"title\": {\"x\": 0.05}, \"xaxis\": {\"automargin\": true, \"gridcolor\": \"white\", \"linecolor\": \"white\", \"ticks\": \"\", \"title\": {\"standoff\": 15}, \"zerolinecolor\": \"white\", \"zerolinewidth\": 2}, \"yaxis\": {\"automargin\": true, \"gridcolor\": \"white\", \"linecolor\": \"white\", \"ticks\": \"\", \"title\": {\"standoff\": 15}, \"zerolinecolor\": \"white\", \"zerolinewidth\": 2}}}, \"title\": {\"text\": \"<b>City-Based: Top 50 Companies vs Number of Data Jobs Posted in last 120 Days</b>\"}, \"updatemenus\": [{\"active\": 0, \"buttons\": [{\"args\": [{\"visible\": [true, false, false, false, false, false, false, false, false, false]}], \"label\": \"Austin\", \"method\": \"restyle\"}, {\"args\": [{\"visible\": [false, true, false, false, false, false, false, false, false, false]}], \"label\": \"Atlanta\", \"method\": \"update\"}, {\"args\": [{\"visible\": [false, false, true, false, false, false, false, false, false, false]}], \"label\": \"Boston\", \"method\": \"update\"}, {\"args\": [{\"visible\": [false, false, false, true, false, false, false, false, false, false]}], \"label\": \"Columbus\", \"method\": \"update\"}, {\"args\": [{\"visible\": [false, false, false, false, true, false, false, false, false, false]}], \"label\": \"Denver\", \"method\": \"update\"}, {\"args\": [{\"visible\": [false, false, false, false, false, true, false, false, false, false]}], \"label\": \"New York\", \"method\": \"update\"}, {\"args\": [{\"visible\": [false, false, false, false, false, false, true, false, false, false]}], \"label\": \"Raleigh\", \"method\": \"update\"}, {\"args\": [{\"visible\": [false, false, false, false, false, false, false, true, false, false]}], \"label\": \"San Francisco\", \"method\": \"update\"}, {\"args\": [{\"visible\": [false, false, false, false, false, false, false, false, true, false]}], \"label\": \"Seattle\", \"method\": \"update\"}, {\"args\": [{\"visible\": [false, false, false, false, false, false, false, false, false, true]}], \"label\": \"Washington D.C.\", \"method\": \"update\"}], \"showactive\": true, \"x\": 1.0, \"y\": 1.1, \"yanchor\": \"top\"}], \"width\": 1000, \"yaxis\": {\"showgrid\": true, \"title\": {\"text\": \"Number of Data Jobs Posted\"}}},\n",
       "                        {\"responsive\": true}\n",
       "                    ).then(function(){\n",
       "                            \n",
       "var gd = document.getElementById('07acdad9-3eb5-4d78-bc32-e31c9a8c8a88');\n",
       "var x = new MutationObserver(function (mutations, observer) {{\n",
       "        var display = window.getComputedStyle(gd).display;\n",
       "        if (!display || display === 'none') {{\n",
       "            console.log([gd, 'removed!']);\n",
       "            Plotly.purge(gd);\n",
       "            observer.disconnect();\n",
       "        }}\n",
       "}});\n",
       "\n",
       "// Listen for the removal of the full notebook cells\n",
       "var notebookContainer = gd.closest('#notebook-container');\n",
       "if (notebookContainer) {{\n",
       "    x.observe(notebookContainer, {childList: true});\n",
       "}}\n",
       "\n",
       "// Listen for the clearing of the current output cell\n",
       "var outputEl = gd.closest('.output');\n",
       "if (outputEl) {{\n",
       "    x.observe(outputEl, {childList: true});\n",
       "}}\n",
       "\n",
       "                        })\n",
       "                };\n",
       "                });\n",
       "            </script>\n",
       "        </div>"
      ]
     },
     "metadata": {},
     "output_type": "display_data"
    }
   ],
   "source": [
    "# displaying top 50 companies for each city that posted maximum number of data jobs \n",
    "\n",
    "x1 = city_jobs[city_jobs['updated_city']=='Austin']['company'][:50].values\n",
    "y1 = city_jobs[city_jobs['updated_city']=='Austin']['job_count'].values\n",
    "trace1 = go.Bar(x=x1, y=y1, marker=dict(color='rgb(106,90,205)'), visible=True)\n",
    "\n",
    "x2 = city_jobs[city_jobs['updated_city']=='Atlanta']['company'][:50].values\n",
    "y2 = city_jobs[city_jobs['updated_city']=='Atlanta']['job_count'].values\n",
    "trace2 = go.Bar(x=x2, y=y2, marker=dict(color='rgb(106,90,205)'), visible=False)\n",
    "\n",
    "x3 = city_jobs[city_jobs['updated_city']=='Boston']['company'][:50].values\n",
    "y3 = city_jobs[city_jobs['updated_city']=='Boston']['job_count'].values\n",
    "trace3 = go.Bar(x=x3, y=y3, marker=dict(color='rgb(106,90,205)'), visible=False)\n",
    "\n",
    "x4 = city_jobs[city_jobs['updated_city']=='Columbus']['company'][:50].values\n",
    "y4 = city_jobs[city_jobs['updated_city']=='Columbus']['job_count'].values\n",
    "trace4 = go.Bar(x=x4, y=y4, marker=dict(color='rgb(106,90,205)'), visible=False)\n",
    "\n",
    "x5 = city_jobs[city_jobs['updated_city']=='Denver']['company'][:50].values\n",
    "y5 = city_jobs[city_jobs['updated_city']=='Denver']['job_count'].values\n",
    "trace5 = go.Bar(x=x5, y=y5, marker=dict(color='rgb(106,90,205)'), visible=False)\n",
    "\n",
    "x6 = city_jobs[city_jobs['updated_city']=='New York']['company'][:50].values\n",
    "y6 = city_jobs[city_jobs['updated_city']=='New York']['job_count'].values\n",
    "trace6 = go.Bar(x=x6, y=y6, marker=dict(color='rgb(106,90,205)'), visible=False)\n",
    "\n",
    "x7 = city_jobs[city_jobs['updated_city']=='Raleigh']['company'][:50].values\n",
    "y7 = city_jobs[city_jobs['updated_city']=='Raleigh']['job_count'].values\n",
    "trace7 = go.Bar(x=x7, y=y7, marker=dict(color='rgb(106,90,205)'), visible=False)\n",
    "\n",
    "x8 = city_jobs[city_jobs['updated_city']=='San Francisco']['company'][:50].values\n",
    "y8 = city_jobs[city_jobs['updated_city']=='San Francisco']['job_count'].values\n",
    "trace8 = go.Bar(x=x8, y=y8, marker=dict(color='rgb(106,90,205)'), visible=False)\n",
    "\n",
    "x9 = city_jobs[city_jobs['updated_city']=='Seattle']['company'][:50].values\n",
    "y9 = city_jobs[city_jobs['updated_city']=='Seattle']['job_count'].values\n",
    "trace9 = go.Bar(x=x9, y=y9, marker=dict(color='rgb(106,90,205)'), visible=False)\n",
    "\n",
    "x10 = city_jobs[city_jobs['updated_city']=='Washington D.C.']['company'][:50].values\n",
    "y10 = city_jobs[city_jobs['updated_city']=='Washington D.C.']['job_count'].values\n",
    "trace10 = go.Bar(x=x10, y=y10, marker=dict(color='rgb(106,90,205)'), visible=False)\n",
    "\n",
    "\n",
    "data = [trace1, trace2, trace3, trace4, trace5, trace6, trace7, trace8, trace9, trace10]\n",
    "\n",
    "updatemenus = list([\n",
    "    dict(x = 1.00,\n",
    "         y = 1.10,\n",
    "         yanchor = 'top',\n",
    "         showactive=True,\n",
    "         active = 0,      \n",
    "         buttons=list([   \n",
    "            dict(label = \"Austin\",\n",
    "                 method = \"restyle\",\n",
    "                 args = [{\"visible\": [True, False, False, False, False, False, False, False, False, False]}]),\n",
    "            dict(label = \"Atlanta\",\n",
    "                 method = \"update\",\n",
    "                 args = [{\"visible\": [False, True, False, False, False, False, False, False, False, False]}]),\n",
    "            dict(label = \"Boston\",\n",
    "                 method = \"update\",\n",
    "                 args = [{\"visible\": [False, False, True, False, False, False, False, False, False, False]}]), \n",
    "            dict(label = \"Columbus\",\n",
    "                 method = \"update\",\n",
    "                 args = [{\"visible\": [False, False, False, True, False, False, False, False, False, False]}]),\n",
    "            dict(label = \"Denver\",\n",
    "                 method = \"update\",\n",
    "                 args = [{\"visible\": [False, False, False, False, True, False, False, False, False, False]}]),\n",
    "            dict(label = \"New York\",\n",
    "                 method = \"update\",\n",
    "                 args = [{\"visible\": [False, False, False, False, False, True, False, False, False, False]}]),\n",
    "            dict(label = \"Raleigh\",\n",
    "                 method = \"update\",\n",
    "                 args = [{\"visible\": [False, False, False, False, False, False, True, False, False, False]}]),\n",
    "            dict(label = \"San Francisco\",\n",
    "                 method = \"update\",\n",
    "                 args = [{\"visible\": [False, False, False, False, False, False, False, True, False, False]}]),\n",
    "            dict(label = \"Seattle\",\n",
    "                 method = \"update\",\n",
    "                 args = [{\"visible\": [False, False, False, False, False, False, False, False, True, False]}]),\n",
    "            dict(label = \"Washington D.C.\",\n",
    "                 method = \"update\",\n",
    "                 args = [{\"visible\": [False, False, False, False, False, False, False, False, False, True]}])\n",
    "     ]))])\n",
    "\n",
    "\n",
    "layout = dict(title=\"<b>City-Based: Top 50 Companies vs Number of Data Jobs Posted in last 120 Days</b>\",\n",
    "              showlegend=False,\n",
    "              autosize=False,\n",
    "              width=1000,\n",
    "              height=800,\n",
    "              yaxis=dict(title=\"Number of Data Jobs Posted\", showgrid=True),\n",
    "              updatemenus=updatemenus,\n",
    "              plot_bgcolor='rgba(0,0,0,0)',\n",
    "              paper_bgcolor='rgba(0,0,0,0)',\n",
    "          )\n",
    "\n",
    "fig=dict(data=data, layout=layout)\n",
    "\n",
    "iplot(fig)\n",
    "\n",
    "  "
   ]
  },
  {
   "cell_type": "markdown",
   "metadata": {},
   "source": [
    "<hr>\n",
    "<h4 align=\"center\" style=\"color:black;\"> Analysis: Citywise Top 50 Companies vs Number of Data Jobs Posted</h4>\n",
    "<h4 style=\"color:#666666;\">Source: Indeed API </h4>\n",
    "By continuing the analysis of our data jobs dataframe, we're now looking at the aggregate of total number of data jobs for the top 50 companies, grouped by cities to determine which companies are hiring like mad in the past 4 months across all these tech hubs.  Unsurprisingly, names such as Deloitte, Accenture, Dell appear in most. Amazon has the lead in Seattle, Dell in Austin, and so on.\n",
    "<hr>"
   ]
  },
  {
   "cell_type": "markdown",
   "metadata": {},
   "source": [
    "### Finding top 20 Companies that posted highest number of data related jobs combined for all 10 cities."
   ]
  },
  {
   "cell_type": "code",
   "execution_count": 51,
   "metadata": {},
   "outputs": [],
   "source": [
    "# creating a dataframe that stores top 20 companies (combined for all cities) based on highest number of data job posted\n",
    "\n",
    "sorted_city_jobs = city_jobs.sort_values('job_count', ascending=False)[:20] \\\n",
    "                            .reset_index() \\\n",
    "                            .drop('index', axis=1)"
   ]
  },
  {
   "cell_type": "code",
   "execution_count": 52,
   "metadata": {},
   "outputs": [
    {
     "data": {
      "text/html": [
       "<div>\n",
       "<style scoped>\n",
       "    .dataframe tbody tr th:only-of-type {\n",
       "        vertical-align: middle;\n",
       "    }\n",
       "\n",
       "    .dataframe tbody tr th {\n",
       "        vertical-align: top;\n",
       "    }\n",
       "\n",
       "    .dataframe thead th {\n",
       "        text-align: right;\n",
       "    }\n",
       "</style>\n",
       "<table border=\"1\" class=\"dataframe\">\n",
       "  <thead>\n",
       "    <tr style=\"text-align: right;\">\n",
       "      <th></th>\n",
       "      <th>updated_city</th>\n",
       "      <th>company</th>\n",
       "      <th>job_count</th>\n",
       "    </tr>\n",
       "  </thead>\n",
       "  <tbody>\n",
       "    <tr>\n",
       "      <th>0</th>\n",
       "      <td>Washington D.C.</td>\n",
       "      <td>Ho-Chunk</td>\n",
       "      <td>169</td>\n",
       "    </tr>\n",
       "    <tr>\n",
       "      <th>1</th>\n",
       "      <td>Seattle</td>\n",
       "      <td>Amazon.com Services, Inc.</td>\n",
       "      <td>150</td>\n",
       "    </tr>\n",
       "    <tr>\n",
       "      <th>2</th>\n",
       "      <td>Washington D.C.</td>\n",
       "      <td>Compass, Inc.</td>\n",
       "      <td>115</td>\n",
       "    </tr>\n",
       "    <tr>\n",
       "      <th>3</th>\n",
       "      <td>Seattle</td>\n",
       "      <td>Amazon.com Services LLC</td>\n",
       "      <td>104</td>\n",
       "    </tr>\n",
       "    <tr>\n",
       "      <th>4</th>\n",
       "      <td>New York</td>\n",
       "      <td>Oscar Health</td>\n",
       "      <td>73</td>\n",
       "    </tr>\n",
       "    <tr>\n",
       "      <th>5</th>\n",
       "      <td>New York</td>\n",
       "      <td>Disney Streaming Services</td>\n",
       "      <td>72</td>\n",
       "    </tr>\n",
       "    <tr>\n",
       "      <th>6</th>\n",
       "      <td>Seattle</td>\n",
       "      <td>Microsoft</td>\n",
       "      <td>71</td>\n",
       "    </tr>\n",
       "    <tr>\n",
       "      <th>7</th>\n",
       "      <td>Washington D.C.</td>\n",
       "      <td>Capital One - US</td>\n",
       "      <td>70</td>\n",
       "    </tr>\n",
       "    <tr>\n",
       "      <th>8</th>\n",
       "      <td>Washington D.C.</td>\n",
       "      <td>Booz Allen Hamilton</td>\n",
       "      <td>70</td>\n",
       "    </tr>\n",
       "    <tr>\n",
       "      <th>9</th>\n",
       "      <td>Washington D.C.</td>\n",
       "      <td>Leidos</td>\n",
       "      <td>68</td>\n",
       "    </tr>\n",
       "    <tr>\n",
       "      <th>10</th>\n",
       "      <td>Washington D.C.</td>\n",
       "      <td>Accenture</td>\n",
       "      <td>66</td>\n",
       "    </tr>\n",
       "    <tr>\n",
       "      <th>11</th>\n",
       "      <td>New York</td>\n",
       "      <td>QuadPay</td>\n",
       "      <td>65</td>\n",
       "    </tr>\n",
       "    <tr>\n",
       "      <th>12</th>\n",
       "      <td>Washington D.C.</td>\n",
       "      <td>AnaVation LLC</td>\n",
       "      <td>64</td>\n",
       "    </tr>\n",
       "    <tr>\n",
       "      <th>13</th>\n",
       "      <td>Washington D.C.</td>\n",
       "      <td>Guidehouse</td>\n",
       "      <td>63</td>\n",
       "    </tr>\n",
       "    <tr>\n",
       "      <th>14</th>\n",
       "      <td>Washington D.C.</td>\n",
       "      <td>The Aerospace Corporation</td>\n",
       "      <td>59</td>\n",
       "    </tr>\n",
       "    <tr>\n",
       "      <th>15</th>\n",
       "      <td>Washington D.C.</td>\n",
       "      <td>GRIMM</td>\n",
       "      <td>57</td>\n",
       "    </tr>\n",
       "    <tr>\n",
       "      <th>16</th>\n",
       "      <td>Washington D.C.</td>\n",
       "      <td>Elastic</td>\n",
       "      <td>57</td>\n",
       "    </tr>\n",
       "    <tr>\n",
       "      <th>17</th>\n",
       "      <td>Washington D.C.</td>\n",
       "      <td>Medstar Georgetown University Hospital</td>\n",
       "      <td>57</td>\n",
       "    </tr>\n",
       "    <tr>\n",
       "      <th>18</th>\n",
       "      <td>Washington D.C.</td>\n",
       "      <td>Strategic Insight LTD</td>\n",
       "      <td>57</td>\n",
       "    </tr>\n",
       "    <tr>\n",
       "      <th>19</th>\n",
       "      <td>Washington D.C.</td>\n",
       "      <td>CENTRA Technology</td>\n",
       "      <td>57</td>\n",
       "    </tr>\n",
       "  </tbody>\n",
       "</table>\n",
       "</div>"
      ],
      "text/plain": [
       "       updated_city                                 company  job_count\n",
       "0   Washington D.C.                                Ho-Chunk        169\n",
       "1           Seattle               Amazon.com Services, Inc.        150\n",
       "2   Washington D.C.                           Compass, Inc.        115\n",
       "3           Seattle                 Amazon.com Services LLC        104\n",
       "4          New York                            Oscar Health         73\n",
       "5          New York               Disney Streaming Services         72\n",
       "6           Seattle                               Microsoft         71\n",
       "7   Washington D.C.                        Capital One - US         70\n",
       "8   Washington D.C.                     Booz Allen Hamilton         70\n",
       "9   Washington D.C.                                  Leidos         68\n",
       "10  Washington D.C.                               Accenture         66\n",
       "11         New York                                 QuadPay         65\n",
       "12  Washington D.C.                           AnaVation LLC         64\n",
       "13  Washington D.C.                              Guidehouse         63\n",
       "14  Washington D.C.               The Aerospace Corporation         59\n",
       "15  Washington D.C.                                   GRIMM         57\n",
       "16  Washington D.C.                                 Elastic         57\n",
       "17  Washington D.C.  Medstar Georgetown University Hospital         57\n",
       "18  Washington D.C.                   Strategic Insight LTD         57\n",
       "19  Washington D.C.                       CENTRA Technology         57"
      ]
     },
     "execution_count": 52,
     "metadata": {},
     "output_type": "execute_result"
    }
   ],
   "source": [
    "sorted_city_jobs "
   ]
  },
  {
   "cell_type": "code",
   "execution_count": 53,
   "metadata": {},
   "outputs": [
    {
     "data": {
      "application/vnd.plotly.v1+json": {
       "config": {
        "linkText": "Export to plot.ly",
        "plotlyServerURL": "https://plot.ly",
        "showLink": true
       },
       "data": [
        {
         "line": {
          "color": "rgba(255, 255, 51, 1.0)",
          "dash": "solid",
          "shape": "linear",
          "width": 1.3
         },
         "mode": "lines",
         "name": "job_count",
         "text": [
          "Washington D.C.",
          "Seattle",
          "Washington D.C.",
          "Seattle",
          "New York",
          "New York",
          "Seattle",
          "Washington D.C.",
          "Washington D.C.",
          "Washington D.C.",
          "Washington D.C.",
          "New York",
          "Washington D.C.",
          "Washington D.C.",
          "Washington D.C.",
          "Washington D.C.",
          "Washington D.C.",
          "Washington D.C.",
          "Washington D.C.",
          "Washington D.C."
         ],
         "type": "scatter",
         "x": [
          "Ho-Chunk",
          "Amazon.com Services, Inc.",
          "Compass, Inc.",
          "Amazon.com Services LLC",
          "Oscar Health",
          "Disney Streaming Services",
          "Microsoft",
          "Capital One - US",
          "Booz Allen Hamilton",
          "Leidos",
          "Accenture",
          "QuadPay",
          "AnaVation LLC",
          "Guidehouse",
          "The Aerospace Corporation",
          "GRIMM",
          "Elastic",
          "Medstar Georgetown University Hospital",
          "Strategic Insight LTD",
          "CENTRA Technology"
         ],
         "y": [
          169,
          150,
          115,
          104,
          73,
          72,
          71,
          70,
          70,
          68,
          66,
          65,
          64,
          63,
          59,
          57,
          57,
          57,
          57,
          57
         ]
        }
       ],
       "layout": {
        "legend": {
         "bgcolor": "#151516",
         "font": {
          "color": "#D9D9D9"
         }
        },
        "paper_bgcolor": "#151516",
        "plot_bgcolor": "#151516",
        "template": {
         "data": {
          "bar": [
           {
            "error_x": {
             "color": "#2a3f5f"
            },
            "error_y": {
             "color": "#2a3f5f"
            },
            "marker": {
             "line": {
              "color": "#E5ECF6",
              "width": 0.5
             }
            },
            "type": "bar"
           }
          ],
          "barpolar": [
           {
            "marker": {
             "line": {
              "color": "#E5ECF6",
              "width": 0.5
             }
            },
            "type": "barpolar"
           }
          ],
          "carpet": [
           {
            "aaxis": {
             "endlinecolor": "#2a3f5f",
             "gridcolor": "white",
             "linecolor": "white",
             "minorgridcolor": "white",
             "startlinecolor": "#2a3f5f"
            },
            "baxis": {
             "endlinecolor": "#2a3f5f",
             "gridcolor": "white",
             "linecolor": "white",
             "minorgridcolor": "white",
             "startlinecolor": "#2a3f5f"
            },
            "type": "carpet"
           }
          ],
          "choropleth": [
           {
            "colorbar": {
             "outlinewidth": 0,
             "ticks": ""
            },
            "type": "choropleth"
           }
          ],
          "contour": [
           {
            "colorbar": {
             "outlinewidth": 0,
             "ticks": ""
            },
            "colorscale": [
             [
              0,
              "#0d0887"
             ],
             [
              0.1111111111111111,
              "#46039f"
             ],
             [
              0.2222222222222222,
              "#7201a8"
             ],
             [
              0.3333333333333333,
              "#9c179e"
             ],
             [
              0.4444444444444444,
              "#bd3786"
             ],
             [
              0.5555555555555556,
              "#d8576b"
             ],
             [
              0.6666666666666666,
              "#ed7953"
             ],
             [
              0.7777777777777778,
              "#fb9f3a"
             ],
             [
              0.8888888888888888,
              "#fdca26"
             ],
             [
              1,
              "#f0f921"
             ]
            ],
            "type": "contour"
           }
          ],
          "contourcarpet": [
           {
            "colorbar": {
             "outlinewidth": 0,
             "ticks": ""
            },
            "type": "contourcarpet"
           }
          ],
          "heatmap": [
           {
            "colorbar": {
             "outlinewidth": 0,
             "ticks": ""
            },
            "colorscale": [
             [
              0,
              "#0d0887"
             ],
             [
              0.1111111111111111,
              "#46039f"
             ],
             [
              0.2222222222222222,
              "#7201a8"
             ],
             [
              0.3333333333333333,
              "#9c179e"
             ],
             [
              0.4444444444444444,
              "#bd3786"
             ],
             [
              0.5555555555555556,
              "#d8576b"
             ],
             [
              0.6666666666666666,
              "#ed7953"
             ],
             [
              0.7777777777777778,
              "#fb9f3a"
             ],
             [
              0.8888888888888888,
              "#fdca26"
             ],
             [
              1,
              "#f0f921"
             ]
            ],
            "type": "heatmap"
           }
          ],
          "heatmapgl": [
           {
            "colorbar": {
             "outlinewidth": 0,
             "ticks": ""
            },
            "colorscale": [
             [
              0,
              "#0d0887"
             ],
             [
              0.1111111111111111,
              "#46039f"
             ],
             [
              0.2222222222222222,
              "#7201a8"
             ],
             [
              0.3333333333333333,
              "#9c179e"
             ],
             [
              0.4444444444444444,
              "#bd3786"
             ],
             [
              0.5555555555555556,
              "#d8576b"
             ],
             [
              0.6666666666666666,
              "#ed7953"
             ],
             [
              0.7777777777777778,
              "#fb9f3a"
             ],
             [
              0.8888888888888888,
              "#fdca26"
             ],
             [
              1,
              "#f0f921"
             ]
            ],
            "type": "heatmapgl"
           }
          ],
          "histogram": [
           {
            "marker": {
             "colorbar": {
              "outlinewidth": 0,
              "ticks": ""
             }
            },
            "type": "histogram"
           }
          ],
          "histogram2d": [
           {
            "colorbar": {
             "outlinewidth": 0,
             "ticks": ""
            },
            "colorscale": [
             [
              0,
              "#0d0887"
             ],
             [
              0.1111111111111111,
              "#46039f"
             ],
             [
              0.2222222222222222,
              "#7201a8"
             ],
             [
              0.3333333333333333,
              "#9c179e"
             ],
             [
              0.4444444444444444,
              "#bd3786"
             ],
             [
              0.5555555555555556,
              "#d8576b"
             ],
             [
              0.6666666666666666,
              "#ed7953"
             ],
             [
              0.7777777777777778,
              "#fb9f3a"
             ],
             [
              0.8888888888888888,
              "#fdca26"
             ],
             [
              1,
              "#f0f921"
             ]
            ],
            "type": "histogram2d"
           }
          ],
          "histogram2dcontour": [
           {
            "colorbar": {
             "outlinewidth": 0,
             "ticks": ""
            },
            "colorscale": [
             [
              0,
              "#0d0887"
             ],
             [
              0.1111111111111111,
              "#46039f"
             ],
             [
              0.2222222222222222,
              "#7201a8"
             ],
             [
              0.3333333333333333,
              "#9c179e"
             ],
             [
              0.4444444444444444,
              "#bd3786"
             ],
             [
              0.5555555555555556,
              "#d8576b"
             ],
             [
              0.6666666666666666,
              "#ed7953"
             ],
             [
              0.7777777777777778,
              "#fb9f3a"
             ],
             [
              0.8888888888888888,
              "#fdca26"
             ],
             [
              1,
              "#f0f921"
             ]
            ],
            "type": "histogram2dcontour"
           }
          ],
          "mesh3d": [
           {
            "colorbar": {
             "outlinewidth": 0,
             "ticks": ""
            },
            "type": "mesh3d"
           }
          ],
          "parcoords": [
           {
            "line": {
             "colorbar": {
              "outlinewidth": 0,
              "ticks": ""
             }
            },
            "type": "parcoords"
           }
          ],
          "pie": [
           {
            "automargin": true,
            "type": "pie"
           }
          ],
          "scatter": [
           {
            "marker": {
             "colorbar": {
              "outlinewidth": 0,
              "ticks": ""
             }
            },
            "type": "scatter"
           }
          ],
          "scatter3d": [
           {
            "line": {
             "colorbar": {
              "outlinewidth": 0,
              "ticks": ""
             }
            },
            "marker": {
             "colorbar": {
              "outlinewidth": 0,
              "ticks": ""
             }
            },
            "type": "scatter3d"
           }
          ],
          "scattercarpet": [
           {
            "marker": {
             "colorbar": {
              "outlinewidth": 0,
              "ticks": ""
             }
            },
            "type": "scattercarpet"
           }
          ],
          "scattergeo": [
           {
            "marker": {
             "colorbar": {
              "outlinewidth": 0,
              "ticks": ""
             }
            },
            "type": "scattergeo"
           }
          ],
          "scattergl": [
           {
            "marker": {
             "colorbar": {
              "outlinewidth": 0,
              "ticks": ""
             }
            },
            "type": "scattergl"
           }
          ],
          "scattermapbox": [
           {
            "marker": {
             "colorbar": {
              "outlinewidth": 0,
              "ticks": ""
             }
            },
            "type": "scattermapbox"
           }
          ],
          "scatterpolar": [
           {
            "marker": {
             "colorbar": {
              "outlinewidth": 0,
              "ticks": ""
             }
            },
            "type": "scatterpolar"
           }
          ],
          "scatterpolargl": [
           {
            "marker": {
             "colorbar": {
              "outlinewidth": 0,
              "ticks": ""
             }
            },
            "type": "scatterpolargl"
           }
          ],
          "scatterternary": [
           {
            "marker": {
             "colorbar": {
              "outlinewidth": 0,
              "ticks": ""
             }
            },
            "type": "scatterternary"
           }
          ],
          "surface": [
           {
            "colorbar": {
             "outlinewidth": 0,
             "ticks": ""
            },
            "colorscale": [
             [
              0,
              "#0d0887"
             ],
             [
              0.1111111111111111,
              "#46039f"
             ],
             [
              0.2222222222222222,
              "#7201a8"
             ],
             [
              0.3333333333333333,
              "#9c179e"
             ],
             [
              0.4444444444444444,
              "#bd3786"
             ],
             [
              0.5555555555555556,
              "#d8576b"
             ],
             [
              0.6666666666666666,
              "#ed7953"
             ],
             [
              0.7777777777777778,
              "#fb9f3a"
             ],
             [
              0.8888888888888888,
              "#fdca26"
             ],
             [
              1,
              "#f0f921"
             ]
            ],
            "type": "surface"
           }
          ],
          "table": [
           {
            "cells": {
             "fill": {
              "color": "#EBF0F8"
             },
             "line": {
              "color": "white"
             }
            },
            "header": {
             "fill": {
              "color": "#C8D4E3"
             },
             "line": {
              "color": "white"
             }
            },
            "type": "table"
           }
          ]
         },
         "layout": {
          "annotationdefaults": {
           "arrowcolor": "#2a3f5f",
           "arrowhead": 0,
           "arrowwidth": 1
          },
          "coloraxis": {
           "colorbar": {
            "outlinewidth": 0,
            "ticks": ""
           }
          },
          "colorscale": {
           "diverging": [
            [
             0,
             "#8e0152"
            ],
            [
             0.1,
             "#c51b7d"
            ],
            [
             0.2,
             "#de77ae"
            ],
            [
             0.3,
             "#f1b6da"
            ],
            [
             0.4,
             "#fde0ef"
            ],
            [
             0.5,
             "#f7f7f7"
            ],
            [
             0.6,
             "#e6f5d0"
            ],
            [
             0.7,
             "#b8e186"
            ],
            [
             0.8,
             "#7fbc41"
            ],
            [
             0.9,
             "#4d9221"
            ],
            [
             1,
             "#276419"
            ]
           ],
           "sequential": [
            [
             0,
             "#0d0887"
            ],
            [
             0.1111111111111111,
             "#46039f"
            ],
            [
             0.2222222222222222,
             "#7201a8"
            ],
            [
             0.3333333333333333,
             "#9c179e"
            ],
            [
             0.4444444444444444,
             "#bd3786"
            ],
            [
             0.5555555555555556,
             "#d8576b"
            ],
            [
             0.6666666666666666,
             "#ed7953"
            ],
            [
             0.7777777777777778,
             "#fb9f3a"
            ],
            [
             0.8888888888888888,
             "#fdca26"
            ],
            [
             1,
             "#f0f921"
            ]
           ],
           "sequentialminus": [
            [
             0,
             "#0d0887"
            ],
            [
             0.1111111111111111,
             "#46039f"
            ],
            [
             0.2222222222222222,
             "#7201a8"
            ],
            [
             0.3333333333333333,
             "#9c179e"
            ],
            [
             0.4444444444444444,
             "#bd3786"
            ],
            [
             0.5555555555555556,
             "#d8576b"
            ],
            [
             0.6666666666666666,
             "#ed7953"
            ],
            [
             0.7777777777777778,
             "#fb9f3a"
            ],
            [
             0.8888888888888888,
             "#fdca26"
            ],
            [
             1,
             "#f0f921"
            ]
           ]
          },
          "colorway": [
           "#636efa",
           "#EF553B",
           "#00cc96",
           "#ab63fa",
           "#FFA15A",
           "#19d3f3",
           "#FF6692",
           "#B6E880",
           "#FF97FF",
           "#FECB52"
          ],
          "font": {
           "color": "#2a3f5f"
          },
          "geo": {
           "bgcolor": "white",
           "lakecolor": "white",
           "landcolor": "#E5ECF6",
           "showlakes": true,
           "showland": true,
           "subunitcolor": "white"
          },
          "hoverlabel": {
           "align": "left"
          },
          "hovermode": "closest",
          "mapbox": {
           "style": "light"
          },
          "paper_bgcolor": "white",
          "plot_bgcolor": "#E5ECF6",
          "polar": {
           "angularaxis": {
            "gridcolor": "white",
            "linecolor": "white",
            "ticks": ""
           },
           "bgcolor": "#E5ECF6",
           "radialaxis": {
            "gridcolor": "white",
            "linecolor": "white",
            "ticks": ""
           }
          },
          "scene": {
           "xaxis": {
            "backgroundcolor": "#E5ECF6",
            "gridcolor": "white",
            "gridwidth": 2,
            "linecolor": "white",
            "showbackground": true,
            "ticks": "",
            "zerolinecolor": "white"
           },
           "yaxis": {
            "backgroundcolor": "#E5ECF6",
            "gridcolor": "white",
            "gridwidth": 2,
            "linecolor": "white",
            "showbackground": true,
            "ticks": "",
            "zerolinecolor": "white"
           },
           "zaxis": {
            "backgroundcolor": "#E5ECF6",
            "gridcolor": "white",
            "gridwidth": 2,
            "linecolor": "white",
            "showbackground": true,
            "ticks": "",
            "zerolinecolor": "white"
           }
          },
          "shapedefaults": {
           "line": {
            "color": "#2a3f5f"
           }
          },
          "ternary": {
           "aaxis": {
            "gridcolor": "white",
            "linecolor": "white",
            "ticks": ""
           },
           "baxis": {
            "gridcolor": "white",
            "linecolor": "white",
            "ticks": ""
           },
           "bgcolor": "#E5ECF6",
           "caxis": {
            "gridcolor": "white",
            "linecolor": "white",
            "ticks": ""
           }
          },
          "title": {
           "x": 0.05
          },
          "xaxis": {
           "automargin": true,
           "gridcolor": "white",
           "linecolor": "white",
           "ticks": "",
           "title": {
            "standoff": 15
           },
           "zerolinecolor": "white",
           "zerolinewidth": 2
          },
          "yaxis": {
           "automargin": true,
           "gridcolor": "white",
           "linecolor": "white",
           "ticks": "",
           "title": {
            "standoff": 15
           },
           "zerolinecolor": "white",
           "zerolinewidth": 2
          }
         }
        },
        "title": {
         "font": {
          "color": "#D9D9D9"
         },
         "text": "Top 20 Companies that posted highest number of data related jobs in last 120 days"
        },
        "xaxis": {
         "gridcolor": "#434343",
         "showgrid": true,
         "tickfont": {
          "color": "#C2C2C2"
         },
         "title": {
          "font": {
           "color": "#D9D9D9"
          },
          "text": ""
         },
         "zerolinecolor": "#666570"
        },
        "yaxis": {
         "gridcolor": "#434343",
         "showgrid": true,
         "tickfont": {
          "color": "#C2C2C2"
         },
         "title": {
          "font": {
           "color": "#D9D9D9"
          },
          "text": "Number of data jobs posted"
         },
         "zerolinecolor": "#666570"
        }
       }
      },
      "text/html": [
       "<div>\n",
       "        \n",
       "        \n",
       "            <div id=\"0b91188a-8c50-4032-b033-35769a618152\" class=\"plotly-graph-div\" style=\"height:525px; width:100%;\"></div>\n",
       "            <script type=\"text/javascript\">\n",
       "                require([\"plotly\"], function(Plotly) {\n",
       "                    window.PLOTLYENV=window.PLOTLYENV || {};\n",
       "                    window.PLOTLYENV.BASE_URL='https://plot.ly';\n",
       "                    \n",
       "                if (document.getElementById(\"0b91188a-8c50-4032-b033-35769a618152\")) {\n",
       "                    Plotly.newPlot(\n",
       "                        '0b91188a-8c50-4032-b033-35769a618152',\n",
       "                        [{\"line\": {\"color\": \"rgba(255, 255, 51, 1.0)\", \"dash\": \"solid\", \"shape\": \"linear\", \"width\": 1.3}, \"mode\": \"lines\", \"name\": \"job_count\", \"text\": [\"Washington D.C.\", \"Seattle\", \"Washington D.C.\", \"Seattle\", \"New York\", \"New York\", \"Seattle\", \"Washington D.C.\", \"Washington D.C.\", \"Washington D.C.\", \"Washington D.C.\", \"New York\", \"Washington D.C.\", \"Washington D.C.\", \"Washington D.C.\", \"Washington D.C.\", \"Washington D.C.\", \"Washington D.C.\", \"Washington D.C.\", \"Washington D.C.\"], \"type\": \"scatter\", \"x\": [\"Ho-Chunk\", \"Amazon.com Services, Inc.\", \"Compass, Inc.\", \"Amazon.com Services LLC\", \"Oscar Health\", \"Disney Streaming Services\", \"Microsoft\", \"Capital One - US\", \"Booz Allen Hamilton\", \"Leidos\", \"Accenture\", \"QuadPay\", \"AnaVation LLC\", \"Guidehouse\", \"The Aerospace Corporation\", \"GRIMM\", \"Elastic\", \"Medstar Georgetown University Hospital\", \"Strategic Insight LTD\", \"CENTRA Technology\"], \"y\": [169, 150, 115, 104, 73, 72, 71, 70, 70, 68, 66, 65, 64, 63, 59, 57, 57, 57, 57, 57]}],\n",
       "                        {\"legend\": {\"bgcolor\": \"#151516\", \"font\": {\"color\": \"#D9D9D9\"}}, \"paper_bgcolor\": \"#151516\", \"plot_bgcolor\": \"#151516\", \"template\": {\"data\": {\"bar\": [{\"error_x\": {\"color\": \"#2a3f5f\"}, \"error_y\": {\"color\": \"#2a3f5f\"}, \"marker\": {\"line\": {\"color\": \"#E5ECF6\", \"width\": 0.5}}, \"type\": \"bar\"}], \"barpolar\": [{\"marker\": {\"line\": {\"color\": \"#E5ECF6\", \"width\": 0.5}}, \"type\": \"barpolar\"}], \"carpet\": [{\"aaxis\": {\"endlinecolor\": \"#2a3f5f\", \"gridcolor\": \"white\", \"linecolor\": \"white\", \"minorgridcolor\": \"white\", \"startlinecolor\": \"#2a3f5f\"}, \"baxis\": {\"endlinecolor\": \"#2a3f5f\", \"gridcolor\": \"white\", \"linecolor\": \"white\", \"minorgridcolor\": \"white\", \"startlinecolor\": \"#2a3f5f\"}, \"type\": \"carpet\"}], \"choropleth\": [{\"colorbar\": {\"outlinewidth\": 0, \"ticks\": \"\"}, \"type\": \"choropleth\"}], \"contour\": [{\"colorbar\": {\"outlinewidth\": 0, \"ticks\": \"\"}, \"colorscale\": [[0.0, \"#0d0887\"], [0.1111111111111111, \"#46039f\"], [0.2222222222222222, \"#7201a8\"], [0.3333333333333333, \"#9c179e\"], [0.4444444444444444, \"#bd3786\"], [0.5555555555555556, \"#d8576b\"], [0.6666666666666666, \"#ed7953\"], [0.7777777777777778, \"#fb9f3a\"], [0.8888888888888888, \"#fdca26\"], [1.0, \"#f0f921\"]], \"type\": \"contour\"}], \"contourcarpet\": [{\"colorbar\": {\"outlinewidth\": 0, \"ticks\": \"\"}, \"type\": \"contourcarpet\"}], \"heatmap\": [{\"colorbar\": {\"outlinewidth\": 0, \"ticks\": \"\"}, \"colorscale\": [[0.0, \"#0d0887\"], [0.1111111111111111, \"#46039f\"], [0.2222222222222222, \"#7201a8\"], [0.3333333333333333, \"#9c179e\"], [0.4444444444444444, \"#bd3786\"], [0.5555555555555556, \"#d8576b\"], [0.6666666666666666, \"#ed7953\"], [0.7777777777777778, \"#fb9f3a\"], [0.8888888888888888, \"#fdca26\"], [1.0, \"#f0f921\"]], \"type\": \"heatmap\"}], \"heatmapgl\": [{\"colorbar\": {\"outlinewidth\": 0, \"ticks\": \"\"}, \"colorscale\": [[0.0, \"#0d0887\"], [0.1111111111111111, \"#46039f\"], [0.2222222222222222, \"#7201a8\"], [0.3333333333333333, \"#9c179e\"], [0.4444444444444444, \"#bd3786\"], [0.5555555555555556, \"#d8576b\"], [0.6666666666666666, \"#ed7953\"], [0.7777777777777778, \"#fb9f3a\"], [0.8888888888888888, \"#fdca26\"], [1.0, \"#f0f921\"]], \"type\": \"heatmapgl\"}], \"histogram\": [{\"marker\": {\"colorbar\": {\"outlinewidth\": 0, \"ticks\": \"\"}}, \"type\": \"histogram\"}], \"histogram2d\": [{\"colorbar\": {\"outlinewidth\": 0, \"ticks\": \"\"}, \"colorscale\": [[0.0, \"#0d0887\"], [0.1111111111111111, \"#46039f\"], [0.2222222222222222, \"#7201a8\"], [0.3333333333333333, \"#9c179e\"], [0.4444444444444444, \"#bd3786\"], [0.5555555555555556, \"#d8576b\"], [0.6666666666666666, \"#ed7953\"], [0.7777777777777778, \"#fb9f3a\"], [0.8888888888888888, \"#fdca26\"], [1.0, \"#f0f921\"]], \"type\": \"histogram2d\"}], \"histogram2dcontour\": [{\"colorbar\": {\"outlinewidth\": 0, \"ticks\": \"\"}, \"colorscale\": [[0.0, \"#0d0887\"], [0.1111111111111111, \"#46039f\"], [0.2222222222222222, \"#7201a8\"], [0.3333333333333333, \"#9c179e\"], [0.4444444444444444, \"#bd3786\"], [0.5555555555555556, \"#d8576b\"], [0.6666666666666666, \"#ed7953\"], [0.7777777777777778, \"#fb9f3a\"], [0.8888888888888888, \"#fdca26\"], [1.0, \"#f0f921\"]], \"type\": \"histogram2dcontour\"}], \"mesh3d\": [{\"colorbar\": {\"outlinewidth\": 0, \"ticks\": \"\"}, \"type\": \"mesh3d\"}], \"parcoords\": [{\"line\": {\"colorbar\": {\"outlinewidth\": 0, \"ticks\": \"\"}}, \"type\": \"parcoords\"}], \"pie\": [{\"automargin\": true, \"type\": \"pie\"}], \"scatter\": [{\"marker\": {\"colorbar\": {\"outlinewidth\": 0, \"ticks\": \"\"}}, \"type\": \"scatter\"}], \"scatter3d\": [{\"line\": {\"colorbar\": {\"outlinewidth\": 0, \"ticks\": \"\"}}, \"marker\": {\"colorbar\": {\"outlinewidth\": 0, \"ticks\": \"\"}}, \"type\": \"scatter3d\"}], \"scattercarpet\": [{\"marker\": {\"colorbar\": {\"outlinewidth\": 0, \"ticks\": \"\"}}, \"type\": \"scattercarpet\"}], \"scattergeo\": [{\"marker\": {\"colorbar\": {\"outlinewidth\": 0, \"ticks\": \"\"}}, \"type\": \"scattergeo\"}], \"scattergl\": [{\"marker\": {\"colorbar\": {\"outlinewidth\": 0, \"ticks\": \"\"}}, \"type\": \"scattergl\"}], \"scattermapbox\": [{\"marker\": {\"colorbar\": {\"outlinewidth\": 0, \"ticks\": \"\"}}, \"type\": \"scattermapbox\"}], \"scatterpolar\": [{\"marker\": {\"colorbar\": {\"outlinewidth\": 0, \"ticks\": \"\"}}, \"type\": \"scatterpolar\"}], \"scatterpolargl\": [{\"marker\": {\"colorbar\": {\"outlinewidth\": 0, \"ticks\": \"\"}}, \"type\": \"scatterpolargl\"}], \"scatterternary\": [{\"marker\": {\"colorbar\": {\"outlinewidth\": 0, \"ticks\": \"\"}}, \"type\": \"scatterternary\"}], \"surface\": [{\"colorbar\": {\"outlinewidth\": 0, \"ticks\": \"\"}, \"colorscale\": [[0.0, \"#0d0887\"], [0.1111111111111111, \"#46039f\"], [0.2222222222222222, \"#7201a8\"], [0.3333333333333333, \"#9c179e\"], [0.4444444444444444, \"#bd3786\"], [0.5555555555555556, \"#d8576b\"], [0.6666666666666666, \"#ed7953\"], [0.7777777777777778, \"#fb9f3a\"], [0.8888888888888888, \"#fdca26\"], [1.0, \"#f0f921\"]], \"type\": \"surface\"}], \"table\": [{\"cells\": {\"fill\": {\"color\": \"#EBF0F8\"}, \"line\": {\"color\": \"white\"}}, \"header\": {\"fill\": {\"color\": \"#C8D4E3\"}, \"line\": {\"color\": \"white\"}}, \"type\": \"table\"}]}, \"layout\": {\"annotationdefaults\": {\"arrowcolor\": \"#2a3f5f\", \"arrowhead\": 0, \"arrowwidth\": 1}, \"coloraxis\": {\"colorbar\": {\"outlinewidth\": 0, \"ticks\": \"\"}}, \"colorscale\": {\"diverging\": [[0, \"#8e0152\"], [0.1, \"#c51b7d\"], [0.2, \"#de77ae\"], [0.3, \"#f1b6da\"], [0.4, \"#fde0ef\"], [0.5, \"#f7f7f7\"], [0.6, \"#e6f5d0\"], [0.7, \"#b8e186\"], [0.8, \"#7fbc41\"], [0.9, \"#4d9221\"], [1, \"#276419\"]], \"sequential\": [[0.0, \"#0d0887\"], [0.1111111111111111, \"#46039f\"], [0.2222222222222222, \"#7201a8\"], [0.3333333333333333, \"#9c179e\"], [0.4444444444444444, \"#bd3786\"], [0.5555555555555556, \"#d8576b\"], [0.6666666666666666, \"#ed7953\"], [0.7777777777777778, \"#fb9f3a\"], [0.8888888888888888, \"#fdca26\"], [1.0, \"#f0f921\"]], \"sequentialminus\": [[0.0, \"#0d0887\"], [0.1111111111111111, \"#46039f\"], [0.2222222222222222, \"#7201a8\"], [0.3333333333333333, \"#9c179e\"], [0.4444444444444444, \"#bd3786\"], [0.5555555555555556, \"#d8576b\"], [0.6666666666666666, \"#ed7953\"], [0.7777777777777778, \"#fb9f3a\"], [0.8888888888888888, \"#fdca26\"], [1.0, \"#f0f921\"]]}, \"colorway\": [\"#636efa\", \"#EF553B\", \"#00cc96\", \"#ab63fa\", \"#FFA15A\", \"#19d3f3\", \"#FF6692\", \"#B6E880\", \"#FF97FF\", \"#FECB52\"], \"font\": {\"color\": \"#2a3f5f\"}, \"geo\": {\"bgcolor\": \"white\", \"lakecolor\": \"white\", \"landcolor\": \"#E5ECF6\", \"showlakes\": true, \"showland\": true, \"subunitcolor\": \"white\"}, \"hoverlabel\": {\"align\": \"left\"}, \"hovermode\": \"closest\", \"mapbox\": {\"style\": \"light\"}, \"paper_bgcolor\": \"white\", \"plot_bgcolor\": \"#E5ECF6\", \"polar\": {\"angularaxis\": {\"gridcolor\": \"white\", \"linecolor\": \"white\", \"ticks\": \"\"}, \"bgcolor\": \"#E5ECF6\", \"radialaxis\": {\"gridcolor\": \"white\", \"linecolor\": \"white\", \"ticks\": \"\"}}, \"scene\": {\"xaxis\": {\"backgroundcolor\": \"#E5ECF6\", \"gridcolor\": \"white\", \"gridwidth\": 2, \"linecolor\": \"white\", \"showbackground\": true, \"ticks\": \"\", \"zerolinecolor\": \"white\"}, \"yaxis\": {\"backgroundcolor\": \"#E5ECF6\", \"gridcolor\": \"white\", \"gridwidth\": 2, \"linecolor\": \"white\", \"showbackground\": true, \"ticks\": \"\", \"zerolinecolor\": \"white\"}, \"zaxis\": {\"backgroundcolor\": \"#E5ECF6\", \"gridcolor\": \"white\", \"gridwidth\": 2, \"linecolor\": \"white\", \"showbackground\": true, \"ticks\": \"\", \"zerolinecolor\": \"white\"}}, \"shapedefaults\": {\"line\": {\"color\": \"#2a3f5f\"}}, \"ternary\": {\"aaxis\": {\"gridcolor\": \"white\", \"linecolor\": \"white\", \"ticks\": \"\"}, \"baxis\": {\"gridcolor\": \"white\", \"linecolor\": \"white\", \"ticks\": \"\"}, \"bgcolor\": \"#E5ECF6\", \"caxis\": {\"gridcolor\": \"white\", \"linecolor\": \"white\", \"ticks\": \"\"}}, \"title\": {\"x\": 0.05}, \"xaxis\": {\"automargin\": true, \"gridcolor\": \"white\", \"linecolor\": \"white\", \"ticks\": \"\", \"title\": {\"standoff\": 15}, \"zerolinecolor\": \"white\", \"zerolinewidth\": 2}, \"yaxis\": {\"automargin\": true, \"gridcolor\": \"white\", \"linecolor\": \"white\", \"ticks\": \"\", \"title\": {\"standoff\": 15}, \"zerolinecolor\": \"white\", \"zerolinewidth\": 2}}}, \"title\": {\"font\": {\"color\": \"#D9D9D9\"}, \"text\": \"Top 20 Companies that posted highest number of data related jobs in last 120 days\"}, \"xaxis\": {\"gridcolor\": \"#434343\", \"showgrid\": true, \"tickfont\": {\"color\": \"#C2C2C2\"}, \"title\": {\"font\": {\"color\": \"#D9D9D9\"}, \"text\": \"\"}, \"zerolinecolor\": \"#666570\"}, \"yaxis\": {\"gridcolor\": \"#434343\", \"showgrid\": true, \"tickfont\": {\"color\": \"#C2C2C2\"}, \"title\": {\"font\": {\"color\": \"#D9D9D9\"}, \"text\": \"Number of data jobs posted\"}, \"zerolinecolor\": \"#666570\"}},\n",
       "                        {\"showLink\": true, \"linkText\": \"Export to plot.ly\", \"plotlyServerURL\": \"https://plot.ly\", \"responsive\": true}\n",
       "                    ).then(function(){\n",
       "                            \n",
       "var gd = document.getElementById('0b91188a-8c50-4032-b033-35769a618152');\n",
       "var x = new MutationObserver(function (mutations, observer) {{\n",
       "        var display = window.getComputedStyle(gd).display;\n",
       "        if (!display || display === 'none') {{\n",
       "            console.log([gd, 'removed!']);\n",
       "            Plotly.purge(gd);\n",
       "            observer.disconnect();\n",
       "        }}\n",
       "}});\n",
       "\n",
       "// Listen for the removal of the full notebook cells\n",
       "var notebookContainer = gd.closest('#notebook-container');\n",
       "if (notebookContainer) {{\n",
       "    x.observe(notebookContainer, {childList: true});\n",
       "}}\n",
       "\n",
       "// Listen for the clearing of the current output cell\n",
       "var outputEl = gd.closest('.output');\n",
       "if (outputEl) {{\n",
       "    x.observe(outputEl, {childList: true});\n",
       "}}\n",
       "\n",
       "                        })\n",
       "                };\n",
       "                });\n",
       "            </script>\n",
       "        </div>"
      ]
     },
     "metadata": {},
     "output_type": "display_data"
    }
   ],
   "source": [
    "# displaying top 20 companies (combined for all cities) based on highest number of data job posted\n",
    "\n",
    "sorted_city_jobs.iplot(kind='scatter', x='company', y='job_count', \n",
    "                       yTitle='Number of data jobs posted', \n",
    "                       title='Top 20 Companies that posted highest number of data related jobs in last 120 days',\n",
    "                       text='updated_city',\n",
    "                       theme='solar',\n",
    "                       colors='yellow')"
   ]
  },
  {
   "cell_type": "markdown",
   "metadata": {},
   "source": [
    "<hr>\n",
    "<h4 align=\"center\" style=\"color:black;\"> Analysis: Top 20 Companies that posted highest number of data-related jobs in last 120 days</h4>\n",
    "<h4 style=\"color:#666666;\">Source: Indeed API </h4>\n",
    "This graph is rather a continuation of the previous one, but instead of looking at the top 50 companies by number of jobs and grouping by city, we're now looking at the top 20 with the highest number of data jobs to determine—across all tech hubs—which are the ones that have the most job openings in the past 120 days.  We were shocked to discover the Ho-Chunk is the company that has posted the most (based on DC), followed by Amazon (Seattle) and Compass (NYC).\n",
    "<hr>"
   ]
  },
  {
   "cell_type": "markdown",
   "metadata": {},
   "source": [
    "### Finding & Comparing the Number of jobs posted based on job title  "
   ]
  },
  {
   "cell_type": "code",
   "execution_count": 54,
   "metadata": {},
   "outputs": [
    {
     "data": {
      "text/html": [
       "<div>\n",
       "<style scoped>\n",
       "    .dataframe tbody tr th:only-of-type {\n",
       "        vertical-align: middle;\n",
       "    }\n",
       "\n",
       "    .dataframe tbody tr th {\n",
       "        vertical-align: top;\n",
       "    }\n",
       "\n",
       "    .dataframe thead th {\n",
       "        text-align: right;\n",
       "    }\n",
       "</style>\n",
       "<table border=\"1\" class=\"dataframe\">\n",
       "  <thead>\n",
       "    <tr style=\"text-align: right;\">\n",
       "      <th></th>\n",
       "      <th>updated_city</th>\n",
       "      <th>data_engineer_count</th>\n",
       "    </tr>\n",
       "  </thead>\n",
       "  <tbody>\n",
       "    <tr>\n",
       "      <th>0</th>\n",
       "      <td>New York</td>\n",
       "      <td>481</td>\n",
       "    </tr>\n",
       "    <tr>\n",
       "      <th>1</th>\n",
       "      <td>San Francisco</td>\n",
       "      <td>424</td>\n",
       "    </tr>\n",
       "    <tr>\n",
       "      <th>2</th>\n",
       "      <td>Seattle</td>\n",
       "      <td>384</td>\n",
       "    </tr>\n",
       "    <tr>\n",
       "      <th>3</th>\n",
       "      <td>Washington D.C.</td>\n",
       "      <td>315</td>\n",
       "    </tr>\n",
       "    <tr>\n",
       "      <th>4</th>\n",
       "      <td>Boston</td>\n",
       "      <td>275</td>\n",
       "    </tr>\n",
       "    <tr>\n",
       "      <th>5</th>\n",
       "      <td>Austin</td>\n",
       "      <td>128</td>\n",
       "    </tr>\n",
       "    <tr>\n",
       "      <th>6</th>\n",
       "      <td>Denver</td>\n",
       "      <td>126</td>\n",
       "    </tr>\n",
       "    <tr>\n",
       "      <th>7</th>\n",
       "      <td>Atlanta</td>\n",
       "      <td>94</td>\n",
       "    </tr>\n",
       "    <tr>\n",
       "      <th>8</th>\n",
       "      <td>Raleigh</td>\n",
       "      <td>93</td>\n",
       "    </tr>\n",
       "    <tr>\n",
       "      <th>9</th>\n",
       "      <td>Columbus</td>\n",
       "      <td>40</td>\n",
       "    </tr>\n",
       "  </tbody>\n",
       "</table>\n",
       "</div>"
      ],
      "text/plain": [
       "      updated_city  data_engineer_count\n",
       "0         New York                  481\n",
       "1    San Francisco                  424\n",
       "2          Seattle                  384\n",
       "3  Washington D.C.                  315\n",
       "4           Boston                  275\n",
       "5           Austin                  128\n",
       "6           Denver                  126\n",
       "7          Atlanta                   94\n",
       "8          Raleigh                   93\n",
       "9         Columbus                   40"
      ]
     },
     "execution_count": 54,
     "metadata": {},
     "output_type": "execute_result"
    }
   ],
   "source": [
    "# creating the dataframe to store Data Engineer jobs\n",
    "\n",
    "data_engineer_jobs = data_jobs.loc[data_jobs[\"jobtitle\"].str.contains(\"engineer\", case=False)].reset_index() \n",
    "data_engineer_jobs = pd.DataFrame(data_engineer_jobs.groupby('updated_city')['jobtitle'].count()) \\\n",
    "                                            .rename(columns = {'jobtitle': 'data_engineer_count'}) \\\n",
    "                                            .reset_index() \\\n",
    "                                            .sort_values('data_engineer_count', ascending=False) \\\n",
    "                                            .reset_index() \\\n",
    "                                            .drop('index', axis=1)  \n",
    "\n",
    "data_engineer_jobs"
   ]
  },
  {
   "cell_type": "code",
   "execution_count": 55,
   "metadata": {},
   "outputs": [
    {
     "data": {
      "text/html": [
       "<div>\n",
       "<style scoped>\n",
       "    .dataframe tbody tr th:only-of-type {\n",
       "        vertical-align: middle;\n",
       "    }\n",
       "\n",
       "    .dataframe tbody tr th {\n",
       "        vertical-align: top;\n",
       "    }\n",
       "\n",
       "    .dataframe thead th {\n",
       "        text-align: right;\n",
       "    }\n",
       "</style>\n",
       "<table border=\"1\" class=\"dataframe\">\n",
       "  <thead>\n",
       "    <tr style=\"text-align: right;\">\n",
       "      <th></th>\n",
       "      <th>updated_city</th>\n",
       "      <th>data_analyst_count</th>\n",
       "    </tr>\n",
       "  </thead>\n",
       "  <tbody>\n",
       "    <tr>\n",
       "      <th>0</th>\n",
       "      <td>Washington D.C.</td>\n",
       "      <td>619</td>\n",
       "    </tr>\n",
       "    <tr>\n",
       "      <th>1</th>\n",
       "      <td>New York</td>\n",
       "      <td>267</td>\n",
       "    </tr>\n",
       "    <tr>\n",
       "      <th>2</th>\n",
       "      <td>Boston</td>\n",
       "      <td>255</td>\n",
       "    </tr>\n",
       "    <tr>\n",
       "      <th>3</th>\n",
       "      <td>San Francisco</td>\n",
       "      <td>221</td>\n",
       "    </tr>\n",
       "    <tr>\n",
       "      <th>4</th>\n",
       "      <td>Atlanta</td>\n",
       "      <td>154</td>\n",
       "    </tr>\n",
       "    <tr>\n",
       "      <th>5</th>\n",
       "      <td>Denver</td>\n",
       "      <td>127</td>\n",
       "    </tr>\n",
       "    <tr>\n",
       "      <th>6</th>\n",
       "      <td>Seattle</td>\n",
       "      <td>123</td>\n",
       "    </tr>\n",
       "    <tr>\n",
       "      <th>7</th>\n",
       "      <td>Austin</td>\n",
       "      <td>76</td>\n",
       "    </tr>\n",
       "    <tr>\n",
       "      <th>8</th>\n",
       "      <td>Raleigh</td>\n",
       "      <td>55</td>\n",
       "    </tr>\n",
       "    <tr>\n",
       "      <th>9</th>\n",
       "      <td>Columbus</td>\n",
       "      <td>43</td>\n",
       "    </tr>\n",
       "  </tbody>\n",
       "</table>\n",
       "</div>"
      ],
      "text/plain": [
       "      updated_city  data_analyst_count\n",
       "0  Washington D.C.                 619\n",
       "1         New York                 267\n",
       "2           Boston                 255\n",
       "3    San Francisco                 221\n",
       "4          Atlanta                 154\n",
       "5           Denver                 127\n",
       "6          Seattle                 123\n",
       "7           Austin                  76\n",
       "8          Raleigh                  55\n",
       "9         Columbus                  43"
      ]
     },
     "execution_count": 55,
     "metadata": {},
     "output_type": "execute_result"
    }
   ],
   "source": [
    "# creating the dataframe to store Data Analyst/Analysis jobs\n",
    "\n",
    "data_analyst_jobs = data_jobs.loc[data_jobs[\"jobtitle\"].str.contains(\"analysis | analyst\", case=False)].reset_index() \n",
    "data_analyst_jobs = pd.DataFrame(data_analyst_jobs.groupby('updated_city')['jobtitle'].count()) \\\n",
    "                                            .rename(columns = {'jobtitle': 'data_analyst_count'}) \\\n",
    "                                            .reset_index() \\\n",
    "                                            .sort_values('data_analyst_count', ascending=False) \\\n",
    "                                            .reset_index() \\\n",
    "                                            .drop('index', axis=1)  \n",
    "\n",
    "data_analyst_jobs"
   ]
  },
  {
   "cell_type": "code",
   "execution_count": 56,
   "metadata": {},
   "outputs": [
    {
     "data": {
      "text/html": [
       "<div>\n",
       "<style scoped>\n",
       "    .dataframe tbody tr th:only-of-type {\n",
       "        vertical-align: middle;\n",
       "    }\n",
       "\n",
       "    .dataframe tbody tr th {\n",
       "        vertical-align: top;\n",
       "    }\n",
       "\n",
       "    .dataframe thead th {\n",
       "        text-align: right;\n",
       "    }\n",
       "</style>\n",
       "<table border=\"1\" class=\"dataframe\">\n",
       "  <thead>\n",
       "    <tr style=\"text-align: right;\">\n",
       "      <th></th>\n",
       "      <th>updated_city</th>\n",
       "      <th>data_scientist_count</th>\n",
       "    </tr>\n",
       "  </thead>\n",
       "  <tbody>\n",
       "    <tr>\n",
       "      <th>0</th>\n",
       "      <td>Washington D.C.</td>\n",
       "      <td>210</td>\n",
       "    </tr>\n",
       "    <tr>\n",
       "      <th>1</th>\n",
       "      <td>New York</td>\n",
       "      <td>192</td>\n",
       "    </tr>\n",
       "    <tr>\n",
       "      <th>2</th>\n",
       "      <td>San Francisco</td>\n",
       "      <td>143</td>\n",
       "    </tr>\n",
       "    <tr>\n",
       "      <th>3</th>\n",
       "      <td>Boston</td>\n",
       "      <td>108</td>\n",
       "    </tr>\n",
       "    <tr>\n",
       "      <th>4</th>\n",
       "      <td>Seattle</td>\n",
       "      <td>97</td>\n",
       "    </tr>\n",
       "    <tr>\n",
       "      <th>5</th>\n",
       "      <td>Atlanta</td>\n",
       "      <td>44</td>\n",
       "    </tr>\n",
       "    <tr>\n",
       "      <th>6</th>\n",
       "      <td>Austin</td>\n",
       "      <td>32</td>\n",
       "    </tr>\n",
       "    <tr>\n",
       "      <th>7</th>\n",
       "      <td>Denver</td>\n",
       "      <td>28</td>\n",
       "    </tr>\n",
       "    <tr>\n",
       "      <th>8</th>\n",
       "      <td>Raleigh</td>\n",
       "      <td>27</td>\n",
       "    </tr>\n",
       "    <tr>\n",
       "      <th>9</th>\n",
       "      <td>Columbus</td>\n",
       "      <td>21</td>\n",
       "    </tr>\n",
       "  </tbody>\n",
       "</table>\n",
       "</div>"
      ],
      "text/plain": [
       "      updated_city  data_scientist_count\n",
       "0  Washington D.C.                   210\n",
       "1         New York                   192\n",
       "2    San Francisco                   143\n",
       "3           Boston                   108\n",
       "4          Seattle                    97\n",
       "5          Atlanta                    44\n",
       "6           Austin                    32\n",
       "7           Denver                    28\n",
       "8          Raleigh                    27\n",
       "9         Columbus                    21"
      ]
     },
     "execution_count": 56,
     "metadata": {},
     "output_type": "execute_result"
    }
   ],
   "source": [
    "# creating the dataframe to store Data Scientist/Science jobs\n",
    "\n",
    "data_scientist_jobs = data_jobs.loc[data_jobs[\"jobtitle\"].str.contains(\"scientist | science\", case=False)].reset_index() \n",
    "data_scientist_jobs = pd.DataFrame(data_scientist_jobs.groupby('updated_city')['jobtitle'].count()) \\\n",
    "                                            .rename(columns = {'jobtitle': 'data_scientist_count'}) \\\n",
    "                                            .reset_index() \\\n",
    "                                            .sort_values('data_scientist_count', ascending=False) \\\n",
    "                                            .reset_index() \\\n",
    "                                            .drop('index', axis=1)  \n",
    "\n",
    "data_scientist_jobs"
   ]
  },
  {
   "cell_type": "code",
   "execution_count": 57,
   "metadata": {},
   "outputs": [
    {
     "data": {
      "text/html": [
       "<div>\n",
       "<style scoped>\n",
       "    .dataframe tbody tr th:only-of-type {\n",
       "        vertical-align: middle;\n",
       "    }\n",
       "\n",
       "    .dataframe tbody tr th {\n",
       "        vertical-align: top;\n",
       "    }\n",
       "\n",
       "    .dataframe thead th {\n",
       "        text-align: right;\n",
       "    }\n",
       "</style>\n",
       "<table border=\"1\" class=\"dataframe\">\n",
       "  <thead>\n",
       "    <tr style=\"text-align: right;\">\n",
       "      <th></th>\n",
       "      <th>updated_city</th>\n",
       "      <th>BI_title_count</th>\n",
       "    </tr>\n",
       "  </thead>\n",
       "  <tbody>\n",
       "    <tr>\n",
       "      <th>0</th>\n",
       "      <td>Seattle</td>\n",
       "      <td>148</td>\n",
       "    </tr>\n",
       "    <tr>\n",
       "      <th>1</th>\n",
       "      <td>Boston</td>\n",
       "      <td>86</td>\n",
       "    </tr>\n",
       "    <tr>\n",
       "      <th>2</th>\n",
       "      <td>San Francisco</td>\n",
       "      <td>67</td>\n",
       "    </tr>\n",
       "    <tr>\n",
       "      <th>3</th>\n",
       "      <td>New York</td>\n",
       "      <td>56</td>\n",
       "    </tr>\n",
       "    <tr>\n",
       "      <th>4</th>\n",
       "      <td>Atlanta</td>\n",
       "      <td>55</td>\n",
       "    </tr>\n",
       "    <tr>\n",
       "      <th>5</th>\n",
       "      <td>Denver</td>\n",
       "      <td>52</td>\n",
       "    </tr>\n",
       "    <tr>\n",
       "      <th>6</th>\n",
       "      <td>Washington D.C.</td>\n",
       "      <td>52</td>\n",
       "    </tr>\n",
       "    <tr>\n",
       "      <th>7</th>\n",
       "      <td>Raleigh</td>\n",
       "      <td>32</td>\n",
       "    </tr>\n",
       "    <tr>\n",
       "      <th>8</th>\n",
       "      <td>Austin</td>\n",
       "      <td>28</td>\n",
       "    </tr>\n",
       "    <tr>\n",
       "      <th>9</th>\n",
       "      <td>Columbus</td>\n",
       "      <td>23</td>\n",
       "    </tr>\n",
       "  </tbody>\n",
       "</table>\n",
       "</div>"
      ],
      "text/plain": [
       "      updated_city  BI_title_count\n",
       "0          Seattle             148\n",
       "1           Boston              86\n",
       "2    San Francisco              67\n",
       "3         New York              56\n",
       "4          Atlanta              55\n",
       "5           Denver              52\n",
       "6  Washington D.C.              52\n",
       "7          Raleigh              32\n",
       "8           Austin              28\n",
       "9         Columbus              23"
      ]
     },
     "execution_count": 57,
     "metadata": {},
     "output_type": "execute_result"
    }
   ],
   "source": [
    "# creating the dataframe to store BI jobs\n",
    "\n",
    "BI_title_jobs = data_jobs.loc[data_jobs[\"jobtitle\"].str.contains(\"business intelligence | BI\", case=False)].reset_index()\n",
    "BI_title_jobs = pd.DataFrame(BI_title_jobs.groupby('updated_city')['jobtitle'].count()) \\\n",
    "                                            .rename(columns = {'jobtitle': 'BI_title_count'}) \\\n",
    "                                            .reset_index() \\\n",
    "                                            .sort_values('BI_title_count', ascending=False) \\\n",
    "                                            .reset_index() \\\n",
    "                                            .drop('index', axis=1)  \n",
    "\n",
    "BI_title_jobs "
   ]
  },
  {
   "cell_type": "code",
   "execution_count": 58,
   "metadata": {},
   "outputs": [
    {
     "data": {
      "text/html": [
       "<div>\n",
       "<style scoped>\n",
       "    .dataframe tbody tr th:only-of-type {\n",
       "        vertical-align: middle;\n",
       "    }\n",
       "\n",
       "    .dataframe tbody tr th {\n",
       "        vertical-align: top;\n",
       "    }\n",
       "\n",
       "    .dataframe thead th {\n",
       "        text-align: right;\n",
       "    }\n",
       "</style>\n",
       "<table border=\"1\" class=\"dataframe\">\n",
       "  <thead>\n",
       "    <tr style=\"text-align: right;\">\n",
       "      <th></th>\n",
       "      <th>updated_city</th>\n",
       "      <th>AI_title_count</th>\n",
       "    </tr>\n",
       "  </thead>\n",
       "  <tbody>\n",
       "    <tr>\n",
       "      <th>0</th>\n",
       "      <td>Seattle</td>\n",
       "      <td>96</td>\n",
       "    </tr>\n",
       "    <tr>\n",
       "      <th>1</th>\n",
       "      <td>Boston</td>\n",
       "      <td>54</td>\n",
       "    </tr>\n",
       "    <tr>\n",
       "      <th>2</th>\n",
       "      <td>San Francisco</td>\n",
       "      <td>25</td>\n",
       "    </tr>\n",
       "    <tr>\n",
       "      <th>3</th>\n",
       "      <td>New York</td>\n",
       "      <td>21</td>\n",
       "    </tr>\n",
       "    <tr>\n",
       "      <th>4</th>\n",
       "      <td>Washington D.C.</td>\n",
       "      <td>18</td>\n",
       "    </tr>\n",
       "    <tr>\n",
       "      <th>5</th>\n",
       "      <td>Austin</td>\n",
       "      <td>14</td>\n",
       "    </tr>\n",
       "    <tr>\n",
       "      <th>6</th>\n",
       "      <td>Atlanta</td>\n",
       "      <td>9</td>\n",
       "    </tr>\n",
       "    <tr>\n",
       "      <th>7</th>\n",
       "      <td>Raleigh</td>\n",
       "      <td>9</td>\n",
       "    </tr>\n",
       "    <tr>\n",
       "      <th>8</th>\n",
       "      <td>Denver</td>\n",
       "      <td>7</td>\n",
       "    </tr>\n",
       "    <tr>\n",
       "      <th>9</th>\n",
       "      <td>Columbus</td>\n",
       "      <td>4</td>\n",
       "    </tr>\n",
       "  </tbody>\n",
       "</table>\n",
       "</div>"
      ],
      "text/plain": [
       "      updated_city  AI_title_count\n",
       "0          Seattle              96\n",
       "1           Boston              54\n",
       "2    San Francisco              25\n",
       "3         New York              21\n",
       "4  Washington D.C.              18\n",
       "5           Austin              14\n",
       "6          Atlanta               9\n",
       "7          Raleigh               9\n",
       "8           Denver               7\n",
       "9         Columbus               4"
      ]
     },
     "execution_count": 58,
     "metadata": {},
     "output_type": "execute_result"
    }
   ],
   "source": [
    "# creating the dataframe to store AI jobs\n",
    "\n",
    "AI_title_jobs = data_jobs.loc[data_jobs[\"jobtitle\"].str.contains(\"artificial intelligence | AI\", case=False)].reset_index()\n",
    "AI_title_jobs = pd.DataFrame(AI_title_jobs.groupby('updated_city')['jobtitle'].count()) \\\n",
    "                                            .rename(columns = {'jobtitle': 'AI_title_count'}) \\\n",
    "                                            .reset_index() \\\n",
    "                                            .sort_values('AI_title_count', ascending=False) \\\n",
    "                                            .reset_index() \\\n",
    "                                            .drop('index', axis=1)  \n",
    "AI_title_jobs "
   ]
  },
  {
   "cell_type": "code",
   "execution_count": 59,
   "metadata": {},
   "outputs": [
    {
     "data": {
      "text/html": [
       "<div>\n",
       "<style scoped>\n",
       "    .dataframe tbody tr th:only-of-type {\n",
       "        vertical-align: middle;\n",
       "    }\n",
       "\n",
       "    .dataframe tbody tr th {\n",
       "        vertical-align: top;\n",
       "    }\n",
       "\n",
       "    .dataframe thead th {\n",
       "        text-align: right;\n",
       "    }\n",
       "</style>\n",
       "<table border=\"1\" class=\"dataframe\">\n",
       "  <thead>\n",
       "    <tr style=\"text-align: right;\">\n",
       "      <th></th>\n",
       "      <th>updated_city</th>\n",
       "      <th>ML_title_count</th>\n",
       "    </tr>\n",
       "  </thead>\n",
       "  <tbody>\n",
       "    <tr>\n",
       "      <th>0</th>\n",
       "      <td>New York</td>\n",
       "      <td>170</td>\n",
       "    </tr>\n",
       "    <tr>\n",
       "      <th>1</th>\n",
       "      <td>Seattle</td>\n",
       "      <td>109</td>\n",
       "    </tr>\n",
       "    <tr>\n",
       "      <th>2</th>\n",
       "      <td>San Francisco</td>\n",
       "      <td>86</td>\n",
       "    </tr>\n",
       "    <tr>\n",
       "      <th>3</th>\n",
       "      <td>Boston</td>\n",
       "      <td>70</td>\n",
       "    </tr>\n",
       "    <tr>\n",
       "      <th>4</th>\n",
       "      <td>Washington D.C.</td>\n",
       "      <td>37</td>\n",
       "    </tr>\n",
       "    <tr>\n",
       "      <th>5</th>\n",
       "      <td>Austin</td>\n",
       "      <td>25</td>\n",
       "    </tr>\n",
       "    <tr>\n",
       "      <th>6</th>\n",
       "      <td>Denver</td>\n",
       "      <td>21</td>\n",
       "    </tr>\n",
       "    <tr>\n",
       "      <th>7</th>\n",
       "      <td>Atlanta</td>\n",
       "      <td>20</td>\n",
       "    </tr>\n",
       "    <tr>\n",
       "      <th>8</th>\n",
       "      <td>Raleigh</td>\n",
       "      <td>17</td>\n",
       "    </tr>\n",
       "    <tr>\n",
       "      <th>9</th>\n",
       "      <td>Columbus</td>\n",
       "      <td>9</td>\n",
       "    </tr>\n",
       "  </tbody>\n",
       "</table>\n",
       "</div>"
      ],
      "text/plain": [
       "      updated_city  ML_title_count\n",
       "0         New York             170\n",
       "1          Seattle             109\n",
       "2    San Francisco              86\n",
       "3           Boston              70\n",
       "4  Washington D.C.              37\n",
       "5           Austin              25\n",
       "6           Denver              21\n",
       "7          Atlanta              20\n",
       "8          Raleigh              17\n",
       "9         Columbus               9"
      ]
     },
     "execution_count": 59,
     "metadata": {},
     "output_type": "execute_result"
    }
   ],
   "source": [
    "# creating the dataframe to store Machine Learning jobs\n",
    "\n",
    "ML_title_jobs = data_jobs.loc[data_jobs[\"jobtitle\"].str.contains('machine learning', case=False)].reset_index()\n",
    "ML_title_jobs = pd.DataFrame(ML_title_jobs.groupby('updated_city')['jobtitle'].count()) \\\n",
    "                                            .rename(columns = {'jobtitle': 'ML_title_count'}) \\\n",
    "                                            .reset_index() \\\n",
    "                                            .sort_values('ML_title_count', ascending=False) \\\n",
    "                                            .reset_index() \\\n",
    "                                            .drop('index', axis=1)  \n",
    "\n",
    "ML_title_jobs "
   ]
  },
  {
   "cell_type": "code",
   "execution_count": 60,
   "metadata": {},
   "outputs": [
    {
     "data": {
      "text/html": [
       "<div>\n",
       "<style scoped>\n",
       "    .dataframe tbody tr th:only-of-type {\n",
       "        vertical-align: middle;\n",
       "    }\n",
       "\n",
       "    .dataframe tbody tr th {\n",
       "        vertical-align: top;\n",
       "    }\n",
       "\n",
       "    .dataframe thead th {\n",
       "        text-align: right;\n",
       "    }\n",
       "</style>\n",
       "<table border=\"1\" class=\"dataframe\">\n",
       "  <thead>\n",
       "    <tr style=\"text-align: right;\">\n",
       "      <th></th>\n",
       "      <th>updated_city</th>\n",
       "      <th>stats_title_count</th>\n",
       "    </tr>\n",
       "  </thead>\n",
       "  <tbody>\n",
       "    <tr>\n",
       "      <th>0</th>\n",
       "      <td>Boston</td>\n",
       "      <td>40</td>\n",
       "    </tr>\n",
       "    <tr>\n",
       "      <th>1</th>\n",
       "      <td>San Francisco</td>\n",
       "      <td>25</td>\n",
       "    </tr>\n",
       "    <tr>\n",
       "      <th>2</th>\n",
       "      <td>Raleigh</td>\n",
       "      <td>20</td>\n",
       "    </tr>\n",
       "    <tr>\n",
       "      <th>3</th>\n",
       "      <td>Washington D.C.</td>\n",
       "      <td>20</td>\n",
       "    </tr>\n",
       "    <tr>\n",
       "      <th>4</th>\n",
       "      <td>Atlanta</td>\n",
       "      <td>18</td>\n",
       "    </tr>\n",
       "    <tr>\n",
       "      <th>5</th>\n",
       "      <td>Seattle</td>\n",
       "      <td>7</td>\n",
       "    </tr>\n",
       "    <tr>\n",
       "      <th>6</th>\n",
       "      <td>Denver</td>\n",
       "      <td>6</td>\n",
       "    </tr>\n",
       "    <tr>\n",
       "      <th>7</th>\n",
       "      <td>New York</td>\n",
       "      <td>5</td>\n",
       "    </tr>\n",
       "    <tr>\n",
       "      <th>8</th>\n",
       "      <td>Austin</td>\n",
       "      <td>2</td>\n",
       "    </tr>\n",
       "    <tr>\n",
       "      <th>9</th>\n",
       "      <td>Columbus</td>\n",
       "      <td>1</td>\n",
       "    </tr>\n",
       "  </tbody>\n",
       "</table>\n",
       "</div>"
      ],
      "text/plain": [
       "      updated_city  stats_title_count\n",
       "0           Boston                 40\n",
       "1    San Francisco                 25\n",
       "2          Raleigh                 20\n",
       "3  Washington D.C.                 20\n",
       "4          Atlanta                 18\n",
       "5          Seattle                  7\n",
       "6           Denver                  6\n",
       "7         New York                  5\n",
       "8           Austin                  2\n",
       "9         Columbus                  1"
      ]
     },
     "execution_count": 60,
     "metadata": {},
     "output_type": "execute_result"
    }
   ],
   "source": [
    "# creating the dataframe to store Statistical/ Statistician jobs\n",
    "\n",
    "stats_title_jobs = data_jobs.loc[data_jobs[\"jobtitle\"].str.contains('statistical | statistician', case=False)].reset_index()\n",
    "stats_title_jobs = pd.DataFrame(stats_title_jobs.groupby('updated_city')['jobtitle'].count()) \\\n",
    "                                            .rename(columns = {'jobtitle': 'stats_title_count'}) \\\n",
    "                                            .reset_index() \\\n",
    "                                            .sort_values('stats_title_count', ascending=False) \\\n",
    "                                            .reset_index() \\\n",
    "                                            .drop('index', axis=1)  \n",
    "\n",
    "stats_title_jobs"
   ]
  },
  {
   "cell_type": "code",
   "execution_count": 61,
   "metadata": {},
   "outputs": [
    {
     "data": {
      "application/vnd.plotly.v1+json": {
       "config": {
        "linkText": "Export to plot.ly",
        "plotlyServerURL": "https://plot.ly",
        "showLink": false
       },
       "data": [
        {
         "marker": {
          "color": "rgb(0,0,255)",
          "line": {
           "color": "rgb(0,0,255)"
          }
         },
         "name": "Data Analyst Jobs",
         "type": "bar",
         "x": [
          "Washington D.C.",
          "New York",
          "Boston",
          "San Francisco",
          "Atlanta",
          "Denver",
          "Seattle",
          "Austin",
          "Raleigh",
          "Columbus"
         ],
         "y": [
          619,
          267,
          255,
          221,
          154,
          127,
          123,
          76,
          55,
          43
         ]
        },
        {
         "marker": {
          "color": "rgb(95,158,160)",
          "line": {
           "color": "rgb(95,158,160)"
          }
         },
         "name": "Data Scientist Jobs",
         "type": "bar",
         "x": [
          "Washington D.C.",
          "New York",
          "San Francisco",
          "Boston",
          "Seattle",
          "Atlanta",
          "Austin",
          "Denver",
          "Raleigh",
          "Columbus"
         ],
         "y": [
          210,
          192,
          143,
          108,
          97,
          44,
          32,
          28,
          27,
          21
         ]
        },
        {
         "marker": {
          "color": "rgb(123,104,238)",
          "line": {
           "color": "rgb(123,104,238)"
          }
         },
         "name": "Data Engineer Jobs",
         "type": "bar",
         "x": [
          "New York",
          "San Francisco",
          "Seattle",
          "Washington D.C.",
          "Boston",
          "Austin",
          "Denver",
          "Atlanta",
          "Raleigh",
          "Columbus"
         ],
         "y": [
          481,
          424,
          384,
          315,
          275,
          128,
          126,
          94,
          93,
          40
         ]
        },
        {
         "marker": {
          "color": "rgb(230,230,250)",
          "line": {
           "color": "rgb(230,230,250)"
          }
         },
         "name": "Business Intelligence Jobs",
         "type": "bar",
         "x": [
          "Seattle",
          "Boston",
          "San Francisco",
          "New York",
          "Atlanta",
          "Denver",
          "Washington D.C.",
          "Raleigh",
          "Austin",
          "Columbus"
         ],
         "y": [
          148,
          86,
          67,
          56,
          55,
          52,
          52,
          32,
          28,
          23
         ]
        },
        {
         "marker": {
          "color": "rgb(0,191,255)",
          "line": {
           "color": "rgb(0,191,255)"
          }
         },
         "name": "Artificial Intelligence Jobs",
         "type": "bar",
         "x": [
          "Seattle",
          "Boston",
          "San Francisco",
          "New York",
          "Washington D.C.",
          "Austin",
          "Atlanta",
          "Raleigh",
          "Denver",
          "Columbus"
         ],
         "y": [
          96,
          54,
          25,
          21,
          18,
          14,
          9,
          9,
          7,
          4
         ]
        },
        {
         "marker": {
          "color": "rgb(176,196,222)",
          "line": {
           "color": "rgb(176,196,222)"
          }
         },
         "name": "Machine Learning Jobs",
         "type": "bar",
         "x": [
          "New York",
          "Seattle",
          "San Francisco",
          "Boston",
          "Washington D.C.",
          "Austin",
          "Denver",
          "Atlanta",
          "Raleigh",
          "Columbus"
         ],
         "y": [
          170,
          109,
          86,
          70,
          37,
          25,
          21,
          20,
          17,
          9
         ]
        },
        {
         "marker": {
          "color": "rgb(199,21,133)",
          "line": {
           "color": "rgb(199,21,133)"
          }
         },
         "name": "Statistician Jobs",
         "type": "bar",
         "x": [
          "Boston",
          "San Francisco",
          "Raleigh",
          "Washington D.C.",
          "Atlanta",
          "Seattle",
          "Denver",
          "New York",
          "Austin",
          "Columbus"
         ],
         "y": [
          40,
          25,
          20,
          20,
          18,
          7,
          6,
          5,
          2,
          1
         ]
        }
       ],
       "layout": {
        "autosize": false,
        "height": 600,
        "legend": {
         "orientation": "h"
        },
        "paper_bgcolor": "rgba(0,0,0,0)",
        "plot_bgcolor": "rgba(0,0,0)",
        "showlegend": true,
        "template": {
         "data": {
          "bar": [
           {
            "error_x": {
             "color": "#2a3f5f"
            },
            "error_y": {
             "color": "#2a3f5f"
            },
            "marker": {
             "line": {
              "color": "#E5ECF6",
              "width": 0.5
             }
            },
            "type": "bar"
           }
          ],
          "barpolar": [
           {
            "marker": {
             "line": {
              "color": "#E5ECF6",
              "width": 0.5
             }
            },
            "type": "barpolar"
           }
          ],
          "carpet": [
           {
            "aaxis": {
             "endlinecolor": "#2a3f5f",
             "gridcolor": "white",
             "linecolor": "white",
             "minorgridcolor": "white",
             "startlinecolor": "#2a3f5f"
            },
            "baxis": {
             "endlinecolor": "#2a3f5f",
             "gridcolor": "white",
             "linecolor": "white",
             "minorgridcolor": "white",
             "startlinecolor": "#2a3f5f"
            },
            "type": "carpet"
           }
          ],
          "choropleth": [
           {
            "colorbar": {
             "outlinewidth": 0,
             "ticks": ""
            },
            "type": "choropleth"
           }
          ],
          "contour": [
           {
            "colorbar": {
             "outlinewidth": 0,
             "ticks": ""
            },
            "colorscale": [
             [
              0,
              "#0d0887"
             ],
             [
              0.1111111111111111,
              "#46039f"
             ],
             [
              0.2222222222222222,
              "#7201a8"
             ],
             [
              0.3333333333333333,
              "#9c179e"
             ],
             [
              0.4444444444444444,
              "#bd3786"
             ],
             [
              0.5555555555555556,
              "#d8576b"
             ],
             [
              0.6666666666666666,
              "#ed7953"
             ],
             [
              0.7777777777777778,
              "#fb9f3a"
             ],
             [
              0.8888888888888888,
              "#fdca26"
             ],
             [
              1,
              "#f0f921"
             ]
            ],
            "type": "contour"
           }
          ],
          "contourcarpet": [
           {
            "colorbar": {
             "outlinewidth": 0,
             "ticks": ""
            },
            "type": "contourcarpet"
           }
          ],
          "heatmap": [
           {
            "colorbar": {
             "outlinewidth": 0,
             "ticks": ""
            },
            "colorscale": [
             [
              0,
              "#0d0887"
             ],
             [
              0.1111111111111111,
              "#46039f"
             ],
             [
              0.2222222222222222,
              "#7201a8"
             ],
             [
              0.3333333333333333,
              "#9c179e"
             ],
             [
              0.4444444444444444,
              "#bd3786"
             ],
             [
              0.5555555555555556,
              "#d8576b"
             ],
             [
              0.6666666666666666,
              "#ed7953"
             ],
             [
              0.7777777777777778,
              "#fb9f3a"
             ],
             [
              0.8888888888888888,
              "#fdca26"
             ],
             [
              1,
              "#f0f921"
             ]
            ],
            "type": "heatmap"
           }
          ],
          "heatmapgl": [
           {
            "colorbar": {
             "outlinewidth": 0,
             "ticks": ""
            },
            "colorscale": [
             [
              0,
              "#0d0887"
             ],
             [
              0.1111111111111111,
              "#46039f"
             ],
             [
              0.2222222222222222,
              "#7201a8"
             ],
             [
              0.3333333333333333,
              "#9c179e"
             ],
             [
              0.4444444444444444,
              "#bd3786"
             ],
             [
              0.5555555555555556,
              "#d8576b"
             ],
             [
              0.6666666666666666,
              "#ed7953"
             ],
             [
              0.7777777777777778,
              "#fb9f3a"
             ],
             [
              0.8888888888888888,
              "#fdca26"
             ],
             [
              1,
              "#f0f921"
             ]
            ],
            "type": "heatmapgl"
           }
          ],
          "histogram": [
           {
            "marker": {
             "colorbar": {
              "outlinewidth": 0,
              "ticks": ""
             }
            },
            "type": "histogram"
           }
          ],
          "histogram2d": [
           {
            "colorbar": {
             "outlinewidth": 0,
             "ticks": ""
            },
            "colorscale": [
             [
              0,
              "#0d0887"
             ],
             [
              0.1111111111111111,
              "#46039f"
             ],
             [
              0.2222222222222222,
              "#7201a8"
             ],
             [
              0.3333333333333333,
              "#9c179e"
             ],
             [
              0.4444444444444444,
              "#bd3786"
             ],
             [
              0.5555555555555556,
              "#d8576b"
             ],
             [
              0.6666666666666666,
              "#ed7953"
             ],
             [
              0.7777777777777778,
              "#fb9f3a"
             ],
             [
              0.8888888888888888,
              "#fdca26"
             ],
             [
              1,
              "#f0f921"
             ]
            ],
            "type": "histogram2d"
           }
          ],
          "histogram2dcontour": [
           {
            "colorbar": {
             "outlinewidth": 0,
             "ticks": ""
            },
            "colorscale": [
             [
              0,
              "#0d0887"
             ],
             [
              0.1111111111111111,
              "#46039f"
             ],
             [
              0.2222222222222222,
              "#7201a8"
             ],
             [
              0.3333333333333333,
              "#9c179e"
             ],
             [
              0.4444444444444444,
              "#bd3786"
             ],
             [
              0.5555555555555556,
              "#d8576b"
             ],
             [
              0.6666666666666666,
              "#ed7953"
             ],
             [
              0.7777777777777778,
              "#fb9f3a"
             ],
             [
              0.8888888888888888,
              "#fdca26"
             ],
             [
              1,
              "#f0f921"
             ]
            ],
            "type": "histogram2dcontour"
           }
          ],
          "mesh3d": [
           {
            "colorbar": {
             "outlinewidth": 0,
             "ticks": ""
            },
            "type": "mesh3d"
           }
          ],
          "parcoords": [
           {
            "line": {
             "colorbar": {
              "outlinewidth": 0,
              "ticks": ""
             }
            },
            "type": "parcoords"
           }
          ],
          "pie": [
           {
            "automargin": true,
            "type": "pie"
           }
          ],
          "scatter": [
           {
            "marker": {
             "colorbar": {
              "outlinewidth": 0,
              "ticks": ""
             }
            },
            "type": "scatter"
           }
          ],
          "scatter3d": [
           {
            "line": {
             "colorbar": {
              "outlinewidth": 0,
              "ticks": ""
             }
            },
            "marker": {
             "colorbar": {
              "outlinewidth": 0,
              "ticks": ""
             }
            },
            "type": "scatter3d"
           }
          ],
          "scattercarpet": [
           {
            "marker": {
             "colorbar": {
              "outlinewidth": 0,
              "ticks": ""
             }
            },
            "type": "scattercarpet"
           }
          ],
          "scattergeo": [
           {
            "marker": {
             "colorbar": {
              "outlinewidth": 0,
              "ticks": ""
             }
            },
            "type": "scattergeo"
           }
          ],
          "scattergl": [
           {
            "marker": {
             "colorbar": {
              "outlinewidth": 0,
              "ticks": ""
             }
            },
            "type": "scattergl"
           }
          ],
          "scattermapbox": [
           {
            "marker": {
             "colorbar": {
              "outlinewidth": 0,
              "ticks": ""
             }
            },
            "type": "scattermapbox"
           }
          ],
          "scatterpolar": [
           {
            "marker": {
             "colorbar": {
              "outlinewidth": 0,
              "ticks": ""
             }
            },
            "type": "scatterpolar"
           }
          ],
          "scatterpolargl": [
           {
            "marker": {
             "colorbar": {
              "outlinewidth": 0,
              "ticks": ""
             }
            },
            "type": "scatterpolargl"
           }
          ],
          "scatterternary": [
           {
            "marker": {
             "colorbar": {
              "outlinewidth": 0,
              "ticks": ""
             }
            },
            "type": "scatterternary"
           }
          ],
          "surface": [
           {
            "colorbar": {
             "outlinewidth": 0,
             "ticks": ""
            },
            "colorscale": [
             [
              0,
              "#0d0887"
             ],
             [
              0.1111111111111111,
              "#46039f"
             ],
             [
              0.2222222222222222,
              "#7201a8"
             ],
             [
              0.3333333333333333,
              "#9c179e"
             ],
             [
              0.4444444444444444,
              "#bd3786"
             ],
             [
              0.5555555555555556,
              "#d8576b"
             ],
             [
              0.6666666666666666,
              "#ed7953"
             ],
             [
              0.7777777777777778,
              "#fb9f3a"
             ],
             [
              0.8888888888888888,
              "#fdca26"
             ],
             [
              1,
              "#f0f921"
             ]
            ],
            "type": "surface"
           }
          ],
          "table": [
           {
            "cells": {
             "fill": {
              "color": "#EBF0F8"
             },
             "line": {
              "color": "white"
             }
            },
            "header": {
             "fill": {
              "color": "#C8D4E3"
             },
             "line": {
              "color": "white"
             }
            },
            "type": "table"
           }
          ]
         },
         "layout": {
          "annotationdefaults": {
           "arrowcolor": "#2a3f5f",
           "arrowhead": 0,
           "arrowwidth": 1
          },
          "coloraxis": {
           "colorbar": {
            "outlinewidth": 0,
            "ticks": ""
           }
          },
          "colorscale": {
           "diverging": [
            [
             0,
             "#8e0152"
            ],
            [
             0.1,
             "#c51b7d"
            ],
            [
             0.2,
             "#de77ae"
            ],
            [
             0.3,
             "#f1b6da"
            ],
            [
             0.4,
             "#fde0ef"
            ],
            [
             0.5,
             "#f7f7f7"
            ],
            [
             0.6,
             "#e6f5d0"
            ],
            [
             0.7,
             "#b8e186"
            ],
            [
             0.8,
             "#7fbc41"
            ],
            [
             0.9,
             "#4d9221"
            ],
            [
             1,
             "#276419"
            ]
           ],
           "sequential": [
            [
             0,
             "#0d0887"
            ],
            [
             0.1111111111111111,
             "#46039f"
            ],
            [
             0.2222222222222222,
             "#7201a8"
            ],
            [
             0.3333333333333333,
             "#9c179e"
            ],
            [
             0.4444444444444444,
             "#bd3786"
            ],
            [
             0.5555555555555556,
             "#d8576b"
            ],
            [
             0.6666666666666666,
             "#ed7953"
            ],
            [
             0.7777777777777778,
             "#fb9f3a"
            ],
            [
             0.8888888888888888,
             "#fdca26"
            ],
            [
             1,
             "#f0f921"
            ]
           ],
           "sequentialminus": [
            [
             0,
             "#0d0887"
            ],
            [
             0.1111111111111111,
             "#46039f"
            ],
            [
             0.2222222222222222,
             "#7201a8"
            ],
            [
             0.3333333333333333,
             "#9c179e"
            ],
            [
             0.4444444444444444,
             "#bd3786"
            ],
            [
             0.5555555555555556,
             "#d8576b"
            ],
            [
             0.6666666666666666,
             "#ed7953"
            ],
            [
             0.7777777777777778,
             "#fb9f3a"
            ],
            [
             0.8888888888888888,
             "#fdca26"
            ],
            [
             1,
             "#f0f921"
            ]
           ]
          },
          "colorway": [
           "#636efa",
           "#EF553B",
           "#00cc96",
           "#ab63fa",
           "#FFA15A",
           "#19d3f3",
           "#FF6692",
           "#B6E880",
           "#FF97FF",
           "#FECB52"
          ],
          "font": {
           "color": "#2a3f5f"
          },
          "geo": {
           "bgcolor": "white",
           "lakecolor": "white",
           "landcolor": "#E5ECF6",
           "showlakes": true,
           "showland": true,
           "subunitcolor": "white"
          },
          "hoverlabel": {
           "align": "left"
          },
          "hovermode": "closest",
          "mapbox": {
           "style": "light"
          },
          "paper_bgcolor": "white",
          "plot_bgcolor": "#E5ECF6",
          "polar": {
           "angularaxis": {
            "gridcolor": "white",
            "linecolor": "white",
            "ticks": ""
           },
           "bgcolor": "#E5ECF6",
           "radialaxis": {
            "gridcolor": "white",
            "linecolor": "white",
            "ticks": ""
           }
          },
          "scene": {
           "xaxis": {
            "backgroundcolor": "#E5ECF6",
            "gridcolor": "white",
            "gridwidth": 2,
            "linecolor": "white",
            "showbackground": true,
            "ticks": "",
            "zerolinecolor": "white"
           },
           "yaxis": {
            "backgroundcolor": "#E5ECF6",
            "gridcolor": "white",
            "gridwidth": 2,
            "linecolor": "white",
            "showbackground": true,
            "ticks": "",
            "zerolinecolor": "white"
           },
           "zaxis": {
            "backgroundcolor": "#E5ECF6",
            "gridcolor": "white",
            "gridwidth": 2,
            "linecolor": "white",
            "showbackground": true,
            "ticks": "",
            "zerolinecolor": "white"
           }
          },
          "shapedefaults": {
           "line": {
            "color": "#2a3f5f"
           }
          },
          "ternary": {
           "aaxis": {
            "gridcolor": "white",
            "linecolor": "white",
            "ticks": ""
           },
           "baxis": {
            "gridcolor": "white",
            "linecolor": "white",
            "ticks": ""
           },
           "bgcolor": "#E5ECF6",
           "caxis": {
            "gridcolor": "white",
            "linecolor": "white",
            "ticks": ""
           }
          },
          "title": {
           "x": 0.05
          },
          "xaxis": {
           "automargin": true,
           "gridcolor": "white",
           "linecolor": "white",
           "ticks": "",
           "title": {
            "standoff": 15
           },
           "zerolinecolor": "white",
           "zerolinewidth": 2
          },
          "yaxis": {
           "automargin": true,
           "gridcolor": "white",
           "linecolor": "white",
           "ticks": "",
           "title": {
            "standoff": 15
           },
           "zerolinecolor": "white",
           "zerolinewidth": 2
          }
         }
        },
        "title": {
         "text": "<b>City-Based: Job Title vs Number of Jobs Posted in Last 120 days</b>"
        },
        "width": 1000,
        "xaxis": {
         "showgrid": false
        },
        "yaxis": {
         "autorange": true,
         "showgrid": false,
         "showline": false,
         "showticklabels": true,
         "ticks": "",
         "title": {
          "text": "Number of Jobs Posted"
         },
         "zeroline": false
        }
       }
      },
      "text/html": [
       "<div>\n",
       "        \n",
       "        \n",
       "            <div id=\"976786cd-2c1d-4433-a426-db942df87b4f\" class=\"plotly-graph-div\" style=\"height:600px; width:1000px;\"></div>\n",
       "            <script type=\"text/javascript\">\n",
       "                require([\"plotly\"], function(Plotly) {\n",
       "                    window.PLOTLYENV=window.PLOTLYENV || {};\n",
       "                    \n",
       "                if (document.getElementById(\"976786cd-2c1d-4433-a426-db942df87b4f\")) {\n",
       "                    Plotly.newPlot(\n",
       "                        '976786cd-2c1d-4433-a426-db942df87b4f',\n",
       "                        [{\"marker\": {\"color\": \"rgb(0,0,255)\", \"line\": {\"color\": \"rgb(0,0,255)\"}}, \"name\": \"Data Analyst Jobs\", \"type\": \"bar\", \"x\": [\"Washington D.C.\", \"New York\", \"Boston\", \"San Francisco\", \"Atlanta\", \"Denver\", \"Seattle\", \"Austin\", \"Raleigh\", \"Columbus\"], \"y\": [619, 267, 255, 221, 154, 127, 123, 76, 55, 43]}, {\"marker\": {\"color\": \"rgb(95,158,160)\", \"line\": {\"color\": \"rgb(95,158,160)\"}}, \"name\": \"Data Scientist Jobs\", \"type\": \"bar\", \"x\": [\"Washington D.C.\", \"New York\", \"San Francisco\", \"Boston\", \"Seattle\", \"Atlanta\", \"Austin\", \"Denver\", \"Raleigh\", \"Columbus\"], \"y\": [210, 192, 143, 108, 97, 44, 32, 28, 27, 21]}, {\"marker\": {\"color\": \"rgb(123,104,238)\", \"line\": {\"color\": \"rgb(123,104,238)\"}}, \"name\": \"Data Engineer Jobs\", \"type\": \"bar\", \"x\": [\"New York\", \"San Francisco\", \"Seattle\", \"Washington D.C.\", \"Boston\", \"Austin\", \"Denver\", \"Atlanta\", \"Raleigh\", \"Columbus\"], \"y\": [481, 424, 384, 315, 275, 128, 126, 94, 93, 40]}, {\"marker\": {\"color\": \"rgb(230,230,250)\", \"line\": {\"color\": \"rgb(230,230,250)\"}}, \"name\": \"Business Intelligence Jobs\", \"type\": \"bar\", \"x\": [\"Seattle\", \"Boston\", \"San Francisco\", \"New York\", \"Atlanta\", \"Denver\", \"Washington D.C.\", \"Raleigh\", \"Austin\", \"Columbus\"], \"y\": [148, 86, 67, 56, 55, 52, 52, 32, 28, 23]}, {\"marker\": {\"color\": \"rgb(0,191,255)\", \"line\": {\"color\": \"rgb(0,191,255)\"}}, \"name\": \"Artificial Intelligence Jobs\", \"type\": \"bar\", \"x\": [\"Seattle\", \"Boston\", \"San Francisco\", \"New York\", \"Washington D.C.\", \"Austin\", \"Atlanta\", \"Raleigh\", \"Denver\", \"Columbus\"], \"y\": [96, 54, 25, 21, 18, 14, 9, 9, 7, 4]}, {\"marker\": {\"color\": \"rgb(176,196,222)\", \"line\": {\"color\": \"rgb(176,196,222)\"}}, \"name\": \"Machine Learning Jobs\", \"type\": \"bar\", \"x\": [\"New York\", \"Seattle\", \"San Francisco\", \"Boston\", \"Washington D.C.\", \"Austin\", \"Denver\", \"Atlanta\", \"Raleigh\", \"Columbus\"], \"y\": [170, 109, 86, 70, 37, 25, 21, 20, 17, 9]}, {\"marker\": {\"color\": \"rgb(199,21,133)\", \"line\": {\"color\": \"rgb(199,21,133)\"}}, \"name\": \"Statistician Jobs\", \"type\": \"bar\", \"x\": [\"Boston\", \"San Francisco\", \"Raleigh\", \"Washington D.C.\", \"Atlanta\", \"Seattle\", \"Denver\", \"New York\", \"Austin\", \"Columbus\"], \"y\": [40, 25, 20, 20, 18, 7, 6, 5, 2, 1]}],\n",
       "                        {\"autosize\": false, \"height\": 600, \"legend\": {\"orientation\": \"h\"}, \"paper_bgcolor\": \"rgba(0,0,0,0)\", \"plot_bgcolor\": \"rgba(0,0,0)\", \"showlegend\": true, \"template\": {\"data\": {\"bar\": [{\"error_x\": {\"color\": \"#2a3f5f\"}, \"error_y\": {\"color\": \"#2a3f5f\"}, \"marker\": {\"line\": {\"color\": \"#E5ECF6\", \"width\": 0.5}}, \"type\": \"bar\"}], \"barpolar\": [{\"marker\": {\"line\": {\"color\": \"#E5ECF6\", \"width\": 0.5}}, \"type\": \"barpolar\"}], \"carpet\": [{\"aaxis\": {\"endlinecolor\": \"#2a3f5f\", \"gridcolor\": \"white\", \"linecolor\": \"white\", \"minorgridcolor\": \"white\", \"startlinecolor\": \"#2a3f5f\"}, \"baxis\": {\"endlinecolor\": \"#2a3f5f\", \"gridcolor\": \"white\", \"linecolor\": \"white\", \"minorgridcolor\": \"white\", \"startlinecolor\": \"#2a3f5f\"}, \"type\": \"carpet\"}], \"choropleth\": [{\"colorbar\": {\"outlinewidth\": 0, \"ticks\": \"\"}, \"type\": \"choropleth\"}], \"contour\": [{\"colorbar\": {\"outlinewidth\": 0, \"ticks\": \"\"}, \"colorscale\": [[0.0, \"#0d0887\"], [0.1111111111111111, \"#46039f\"], [0.2222222222222222, \"#7201a8\"], [0.3333333333333333, \"#9c179e\"], [0.4444444444444444, \"#bd3786\"], [0.5555555555555556, \"#d8576b\"], [0.6666666666666666, \"#ed7953\"], [0.7777777777777778, \"#fb9f3a\"], [0.8888888888888888, \"#fdca26\"], [1.0, \"#f0f921\"]], \"type\": \"contour\"}], \"contourcarpet\": [{\"colorbar\": {\"outlinewidth\": 0, \"ticks\": \"\"}, \"type\": \"contourcarpet\"}], \"heatmap\": [{\"colorbar\": {\"outlinewidth\": 0, \"ticks\": \"\"}, \"colorscale\": [[0.0, \"#0d0887\"], [0.1111111111111111, \"#46039f\"], [0.2222222222222222, \"#7201a8\"], [0.3333333333333333, \"#9c179e\"], [0.4444444444444444, \"#bd3786\"], [0.5555555555555556, \"#d8576b\"], [0.6666666666666666, \"#ed7953\"], [0.7777777777777778, \"#fb9f3a\"], [0.8888888888888888, \"#fdca26\"], [1.0, \"#f0f921\"]], \"type\": \"heatmap\"}], \"heatmapgl\": [{\"colorbar\": {\"outlinewidth\": 0, \"ticks\": \"\"}, \"colorscale\": [[0.0, \"#0d0887\"], [0.1111111111111111, \"#46039f\"], [0.2222222222222222, \"#7201a8\"], [0.3333333333333333, \"#9c179e\"], [0.4444444444444444, \"#bd3786\"], [0.5555555555555556, \"#d8576b\"], [0.6666666666666666, \"#ed7953\"], [0.7777777777777778, \"#fb9f3a\"], [0.8888888888888888, \"#fdca26\"], [1.0, \"#f0f921\"]], \"type\": \"heatmapgl\"}], \"histogram\": [{\"marker\": {\"colorbar\": {\"outlinewidth\": 0, \"ticks\": \"\"}}, \"type\": \"histogram\"}], \"histogram2d\": [{\"colorbar\": {\"outlinewidth\": 0, \"ticks\": \"\"}, \"colorscale\": [[0.0, \"#0d0887\"], [0.1111111111111111, \"#46039f\"], [0.2222222222222222, \"#7201a8\"], [0.3333333333333333, \"#9c179e\"], [0.4444444444444444, \"#bd3786\"], [0.5555555555555556, \"#d8576b\"], [0.6666666666666666, \"#ed7953\"], [0.7777777777777778, \"#fb9f3a\"], [0.8888888888888888, \"#fdca26\"], [1.0, \"#f0f921\"]], \"type\": \"histogram2d\"}], \"histogram2dcontour\": [{\"colorbar\": {\"outlinewidth\": 0, \"ticks\": \"\"}, \"colorscale\": [[0.0, \"#0d0887\"], [0.1111111111111111, \"#46039f\"], [0.2222222222222222, \"#7201a8\"], [0.3333333333333333, \"#9c179e\"], [0.4444444444444444, \"#bd3786\"], [0.5555555555555556, \"#d8576b\"], [0.6666666666666666, \"#ed7953\"], [0.7777777777777778, \"#fb9f3a\"], [0.8888888888888888, \"#fdca26\"], [1.0, \"#f0f921\"]], \"type\": \"histogram2dcontour\"}], \"mesh3d\": [{\"colorbar\": {\"outlinewidth\": 0, \"ticks\": \"\"}, \"type\": \"mesh3d\"}], \"parcoords\": [{\"line\": {\"colorbar\": {\"outlinewidth\": 0, \"ticks\": \"\"}}, \"type\": \"parcoords\"}], \"pie\": [{\"automargin\": true, \"type\": \"pie\"}], \"scatter\": [{\"marker\": {\"colorbar\": {\"outlinewidth\": 0, \"ticks\": \"\"}}, \"type\": \"scatter\"}], \"scatter3d\": [{\"line\": {\"colorbar\": {\"outlinewidth\": 0, \"ticks\": \"\"}}, \"marker\": {\"colorbar\": {\"outlinewidth\": 0, \"ticks\": \"\"}}, \"type\": \"scatter3d\"}], \"scattercarpet\": [{\"marker\": {\"colorbar\": {\"outlinewidth\": 0, \"ticks\": \"\"}}, \"type\": \"scattercarpet\"}], \"scattergeo\": [{\"marker\": {\"colorbar\": {\"outlinewidth\": 0, \"ticks\": \"\"}}, \"type\": \"scattergeo\"}], \"scattergl\": [{\"marker\": {\"colorbar\": {\"outlinewidth\": 0, \"ticks\": \"\"}}, \"type\": \"scattergl\"}], \"scattermapbox\": [{\"marker\": {\"colorbar\": {\"outlinewidth\": 0, \"ticks\": \"\"}}, \"type\": \"scattermapbox\"}], \"scatterpolar\": [{\"marker\": {\"colorbar\": {\"outlinewidth\": 0, \"ticks\": \"\"}}, \"type\": \"scatterpolar\"}], \"scatterpolargl\": [{\"marker\": {\"colorbar\": {\"outlinewidth\": 0, \"ticks\": \"\"}}, \"type\": \"scatterpolargl\"}], \"scatterternary\": [{\"marker\": {\"colorbar\": {\"outlinewidth\": 0, \"ticks\": \"\"}}, \"type\": \"scatterternary\"}], \"surface\": [{\"colorbar\": {\"outlinewidth\": 0, \"ticks\": \"\"}, \"colorscale\": [[0.0, \"#0d0887\"], [0.1111111111111111, \"#46039f\"], [0.2222222222222222, \"#7201a8\"], [0.3333333333333333, \"#9c179e\"], [0.4444444444444444, \"#bd3786\"], [0.5555555555555556, \"#d8576b\"], [0.6666666666666666, \"#ed7953\"], [0.7777777777777778, \"#fb9f3a\"], [0.8888888888888888, \"#fdca26\"], [1.0, \"#f0f921\"]], \"type\": \"surface\"}], \"table\": [{\"cells\": {\"fill\": {\"color\": \"#EBF0F8\"}, \"line\": {\"color\": \"white\"}}, \"header\": {\"fill\": {\"color\": \"#C8D4E3\"}, \"line\": {\"color\": \"white\"}}, \"type\": \"table\"}]}, \"layout\": {\"annotationdefaults\": {\"arrowcolor\": \"#2a3f5f\", \"arrowhead\": 0, \"arrowwidth\": 1}, \"coloraxis\": {\"colorbar\": {\"outlinewidth\": 0, \"ticks\": \"\"}}, \"colorscale\": {\"diverging\": [[0, \"#8e0152\"], [0.1, \"#c51b7d\"], [0.2, \"#de77ae\"], [0.3, \"#f1b6da\"], [0.4, \"#fde0ef\"], [0.5, \"#f7f7f7\"], [0.6, \"#e6f5d0\"], [0.7, \"#b8e186\"], [0.8, \"#7fbc41\"], [0.9, \"#4d9221\"], [1, \"#276419\"]], \"sequential\": [[0.0, \"#0d0887\"], [0.1111111111111111, \"#46039f\"], [0.2222222222222222, \"#7201a8\"], [0.3333333333333333, \"#9c179e\"], [0.4444444444444444, \"#bd3786\"], [0.5555555555555556, \"#d8576b\"], [0.6666666666666666, \"#ed7953\"], [0.7777777777777778, \"#fb9f3a\"], [0.8888888888888888, \"#fdca26\"], [1.0, \"#f0f921\"]], \"sequentialminus\": [[0.0, \"#0d0887\"], [0.1111111111111111, \"#46039f\"], [0.2222222222222222, \"#7201a8\"], [0.3333333333333333, \"#9c179e\"], [0.4444444444444444, \"#bd3786\"], [0.5555555555555556, \"#d8576b\"], [0.6666666666666666, \"#ed7953\"], [0.7777777777777778, \"#fb9f3a\"], [0.8888888888888888, \"#fdca26\"], [1.0, \"#f0f921\"]]}, \"colorway\": [\"#636efa\", \"#EF553B\", \"#00cc96\", \"#ab63fa\", \"#FFA15A\", \"#19d3f3\", \"#FF6692\", \"#B6E880\", \"#FF97FF\", \"#FECB52\"], \"font\": {\"color\": \"#2a3f5f\"}, \"geo\": {\"bgcolor\": \"white\", \"lakecolor\": \"white\", \"landcolor\": \"#E5ECF6\", \"showlakes\": true, \"showland\": true, \"subunitcolor\": \"white\"}, \"hoverlabel\": {\"align\": \"left\"}, \"hovermode\": \"closest\", \"mapbox\": {\"style\": \"light\"}, \"paper_bgcolor\": \"white\", \"plot_bgcolor\": \"#E5ECF6\", \"polar\": {\"angularaxis\": {\"gridcolor\": \"white\", \"linecolor\": \"white\", \"ticks\": \"\"}, \"bgcolor\": \"#E5ECF6\", \"radialaxis\": {\"gridcolor\": \"white\", \"linecolor\": \"white\", \"ticks\": \"\"}}, \"scene\": {\"xaxis\": {\"backgroundcolor\": \"#E5ECF6\", \"gridcolor\": \"white\", \"gridwidth\": 2, \"linecolor\": \"white\", \"showbackground\": true, \"ticks\": \"\", \"zerolinecolor\": \"white\"}, \"yaxis\": {\"backgroundcolor\": \"#E5ECF6\", \"gridcolor\": \"white\", \"gridwidth\": 2, \"linecolor\": \"white\", \"showbackground\": true, \"ticks\": \"\", \"zerolinecolor\": \"white\"}, \"zaxis\": {\"backgroundcolor\": \"#E5ECF6\", \"gridcolor\": \"white\", \"gridwidth\": 2, \"linecolor\": \"white\", \"showbackground\": true, \"ticks\": \"\", \"zerolinecolor\": \"white\"}}, \"shapedefaults\": {\"line\": {\"color\": \"#2a3f5f\"}}, \"ternary\": {\"aaxis\": {\"gridcolor\": \"white\", \"linecolor\": \"white\", \"ticks\": \"\"}, \"baxis\": {\"gridcolor\": \"white\", \"linecolor\": \"white\", \"ticks\": \"\"}, \"bgcolor\": \"#E5ECF6\", \"caxis\": {\"gridcolor\": \"white\", \"linecolor\": \"white\", \"ticks\": \"\"}}, \"title\": {\"x\": 0.05}, \"xaxis\": {\"automargin\": true, \"gridcolor\": \"white\", \"linecolor\": \"white\", \"ticks\": \"\", \"title\": {\"standoff\": 15}, \"zerolinecolor\": \"white\", \"zerolinewidth\": 2}, \"yaxis\": {\"automargin\": true, \"gridcolor\": \"white\", \"linecolor\": \"white\", \"ticks\": \"\", \"title\": {\"standoff\": 15}, \"zerolinecolor\": \"white\", \"zerolinewidth\": 2}}}, \"title\": {\"text\": \"<b>City-Based: Job Title vs Number of Jobs Posted in Last 120 days</b>\"}, \"width\": 1000, \"xaxis\": {\"showgrid\": false}, \"yaxis\": {\"autorange\": true, \"showgrid\": false, \"showline\": false, \"showticklabels\": true, \"ticks\": \"\", \"title\": {\"text\": \"Number of Jobs Posted\"}, \"zeroline\": false}},\n",
       "                        {\"responsive\": true}\n",
       "                    ).then(function(){\n",
       "                            \n",
       "var gd = document.getElementById('976786cd-2c1d-4433-a426-db942df87b4f');\n",
       "var x = new MutationObserver(function (mutations, observer) {{\n",
       "        var display = window.getComputedStyle(gd).display;\n",
       "        if (!display || display === 'none') {{\n",
       "            console.log([gd, 'removed!']);\n",
       "            Plotly.purge(gd);\n",
       "            observer.disconnect();\n",
       "        }}\n",
       "}});\n",
       "\n",
       "// Listen for the removal of the full notebook cells\n",
       "var notebookContainer = gd.closest('#notebook-container');\n",
       "if (notebookContainer) {{\n",
       "    x.observe(notebookContainer, {childList: true});\n",
       "}}\n",
       "\n",
       "// Listen for the clearing of the current output cell\n",
       "var outputEl = gd.closest('.output');\n",
       "if (outputEl) {{\n",
       "    x.observe(outputEl, {childList: true});\n",
       "}}\n",
       "\n",
       "                        })\n",
       "                };\n",
       "                });\n",
       "            </script>\n",
       "        </div>"
      ]
     },
     "metadata": {},
     "output_type": "display_data"
    }
   ],
   "source": [
    "# Visualizing the job counts based on job title\n",
    "\n",
    "trace1 = go.Bar(x=data_analyst_jobs['updated_city'],\n",
    "                    y=data_analyst_jobs['data_analyst_count'],\n",
    "                    marker=dict(color='rgb(0,0,255)', line_color='rgb(0,0,255)'), \n",
    "                    name='Data Analyst Jobs')\n",
    "\n",
    "trace2 = go.Bar(x=data_scientist_jobs['updated_city'],\n",
    "                    y=data_scientist_jobs['data_scientist_count'],\n",
    "                    marker=dict(color='rgb(95,158,160)', line_color='rgb(95,158,160)'), \n",
    "                    name='Data Scientist Jobs')\n",
    "\n",
    "trace3 = go.Bar(x=data_engineer_jobs['updated_city'],\n",
    "                    y=data_engineer_jobs['data_engineer_count'],\n",
    "                    marker=dict(color='rgb(123,104,238)', line_color='rgb(123,104,238)'), \n",
    "                    name='Data Engineer Jobs')\n",
    "\n",
    "trace4 = go.Bar(x=BI_title_jobs['updated_city'], \n",
    "                    y=BI_title_jobs['BI_title_count'], \n",
    "                    marker=dict(color='rgb(230,230,250)', line_color='rgb(230,230,250)'),\n",
    "                    name='Business Intelligence Jobs')\n",
    "\n",
    "trace5 = go.Bar(x=AI_title_jobs['updated_city'], \n",
    "                    y=AI_title_jobs['AI_title_count'], \n",
    "                    marker=dict(color='rgb(0,191,255)', line_color='rgb(0,191,255)'),\n",
    "                    name='Artificial Intelligence Jobs')\n",
    "\n",
    "trace6 = go.Bar(x=ML_title_jobs['updated_city'], \n",
    "                    y=ML_title_jobs['ML_title_count'], \n",
    "                    marker=dict(color='rgb(176,196,222)', line_color='rgb(176,196,222)'),\n",
    "                    name='Machine Learning Jobs')\n",
    "\n",
    "trace7 = go.Bar(x=stats_title_jobs['updated_city'],\n",
    "                    y=stats_title_jobs['stats_title_count'], \n",
    "                    marker=dict(color='rgb(199,21,133)', line_color='rgb(199,21,133)'),\n",
    "                    name='Statistician Jobs')\n",
    "\n",
    "data = [trace1, trace2, trace3, trace4, trace5, trace6, trace7]\n",
    "\n",
    "layout = dict(title=\"<b>City-Based: Job Title vs Number of Jobs Posted in Last 120 days</b>\",\n",
    "              showlegend=True,\n",
    "              legend_orientation=\"h\",\n",
    "              autosize=False,\n",
    "              width=1000,\n",
    "              height=600,\n",
    "              xaxis=dict(showgrid=False),\n",
    "              yaxis=dict(title=\"Number of Jobs Posted\", \n",
    "                         showgrid=False, \n",
    "                         autorange=True,\n",
    "                         zeroline=False,\n",
    "                         showline=False,\n",
    "                         ticks='',\n",
    "                         showticklabels=True),\n",
    "              plot_bgcolor='rgba(0,0,0)',\n",
    "              paper_bgcolor='rgba(0,0,0,0)',\n",
    "          )\n",
    "\n",
    "fig=dict(data=data, layout=layout)\n",
    "\n",
    "iplot(fig)\n"
   ]
  },
  {
   "cell_type": "markdown",
   "metadata": {},
   "source": [
    "<hr>\n",
    "<h4 align=\"center\" style=\"color:black;\"> Analysis: City-Based: Job Title vs Number of Jobs Posted in Last 120</h4>\n",
    "<h4 style=\"color:#666666;\">Source: Indeed API </h4>\n",
    "There are more openings for Data Analyst and Data Engineer positions as compared to other Data Job Titles. Data Science positions are next in row. AI and Statistic jobs are relatively less in number.\n",
    "<hr>"
   ]
  },
  {
   "cell_type": "markdown",
   "metadata": {},
   "source": [
    "# <center><font size=6, font color='blue'> The MONEY Game !!!! </font></center>\n",
    "<center><font color='red', font size=4><b>As long as my boss pretends my salary is high, I'll pretend that I have much work to do!</font></center></b>"
   ]
  },
  {
   "cell_type": "markdown",
   "metadata": {},
   "source": [
    "### Analyzing the median and quartile values for minimum and maximum Data Job salaries"
   ]
  },
  {
   "cell_type": "code",
   "execution_count": 62,
   "metadata": {},
   "outputs": [
    {
     "data": {
      "application/vnd.plotly.v1+json": {
       "config": {
        "linkText": "Export to plot.ly",
        "plotlyServerURL": "https://plot.ly",
        "showLink": false
       },
       "data": [
        {
         "name": "Annual Minimum Salary for Data Jobs",
         "type": "box",
         "x": [
          "Austin",
          "Austin",
          "Austin",
          "Austin",
          "Austin",
          "Austin",
          "Austin",
          "Austin",
          "Austin",
          "Austin",
          "Austin",
          "Austin",
          "Austin",
          "Austin",
          "Austin",
          "Austin",
          "Austin",
          "Austin",
          "Austin",
          "Austin",
          "Austin",
          "Austin",
          "Austin",
          "Austin",
          "Austin",
          "Austin",
          "Austin",
          "Austin",
          "Austin",
          "Austin",
          "Austin",
          "Austin",
          "Austin",
          "Austin",
          "Austin",
          "Austin",
          "Austin",
          "Austin",
          "Austin",
          "Austin",
          "Austin",
          "Austin",
          "Austin",
          "Austin",
          "Austin",
          "Austin",
          "Austin",
          "Austin",
          "Austin",
          "Austin",
          "Austin",
          "Austin",
          "Austin",
          "San Francisco",
          "San Francisco",
          "San Francisco",
          "San Francisco",
          "San Francisco",
          "San Francisco",
          "San Francisco",
          "San Francisco",
          "San Francisco",
          "San Francisco",
          "San Francisco",
          "San Francisco",
          "San Francisco",
          "San Francisco",
          "San Francisco",
          "San Francisco",
          "San Francisco",
          "San Francisco",
          "San Francisco",
          "San Francisco",
          "San Francisco",
          "San Francisco",
          "San Francisco",
          "San Francisco",
          "San Francisco",
          "San Francisco",
          "San Francisco",
          "San Francisco",
          "San Francisco",
          "San Francisco",
          "San Francisco",
          "San Francisco",
          "San Francisco",
          "San Francisco",
          "San Francisco",
          "San Francisco",
          "San Francisco",
          "San Francisco",
          "San Francisco",
          "San Francisco",
          "San Francisco",
          "San Francisco",
          "San Francisco",
          "San Francisco",
          "San Francisco",
          "San Francisco",
          "San Francisco",
          "San Francisco",
          "San Francisco",
          "San Francisco",
          "Raleigh",
          "Raleigh",
          "Raleigh",
          "Raleigh",
          "Raleigh",
          "Raleigh",
          "Raleigh",
          "Raleigh",
          "Raleigh",
          "Raleigh",
          "Raleigh",
          "Raleigh",
          "Raleigh",
          "Raleigh",
          "Raleigh",
          "Raleigh",
          "Raleigh",
          "Raleigh",
          "Raleigh",
          "Raleigh",
          "Raleigh",
          "Denver",
          "Denver",
          "Denver",
          "Denver",
          "Denver",
          "Denver",
          "Denver",
          "Denver",
          "Denver",
          "Denver",
          "Denver",
          "Denver",
          "Denver",
          "Denver",
          "Denver",
          "Denver",
          "Denver",
          "Denver",
          "Denver",
          "Denver",
          "Denver",
          "Denver",
          "Denver",
          "Denver",
          "Denver",
          "Denver",
          "Denver",
          "Denver",
          "Denver",
          "Denver",
          "Denver",
          "Denver",
          "Seattle",
          "Seattle",
          "Seattle",
          "Seattle",
          "Seattle",
          "Seattle",
          "Seattle",
          "Seattle",
          "Seattle",
          "Seattle",
          "Seattle",
          "Seattle",
          "Seattle",
          "Seattle",
          "Seattle",
          "Seattle",
          "Seattle",
          "Seattle",
          "Seattle",
          "Seattle",
          "Seattle",
          "Seattle",
          "Seattle",
          "Seattle",
          "Seattle",
          "Seattle",
          "Seattle",
          "Seattle",
          "Seattle",
          "Seattle",
          "Seattle",
          "Seattle",
          "Seattle",
          "Seattle",
          "Seattle",
          "Seattle",
          "Seattle",
          "Seattle",
          "Seattle",
          "Seattle",
          "Seattle",
          "Atlanta",
          "Atlanta",
          "Atlanta",
          "Atlanta",
          "Atlanta",
          "Atlanta",
          "Atlanta",
          "Atlanta",
          "Atlanta",
          "Atlanta",
          "Atlanta",
          "Atlanta",
          "Atlanta",
          "Atlanta",
          "Atlanta",
          "Atlanta",
          "Atlanta",
          "Atlanta",
          "Atlanta",
          "Boston",
          "Boston",
          "Boston",
          "Boston",
          "Boston",
          "Boston",
          "Boston",
          "Boston",
          "Boston",
          "Boston",
          "Boston",
          "Boston",
          "Boston",
          "Boston",
          "Boston",
          "Boston",
          "Boston",
          "Boston",
          "Boston",
          "Boston",
          "Boston",
          "Boston",
          "Boston",
          "Boston",
          "Boston",
          "Boston",
          "Boston",
          "Boston",
          "Boston",
          "Boston",
          "Boston",
          "Boston",
          "Boston",
          "Boston",
          "Boston",
          "Boston",
          "Boston",
          "Boston",
          "Boston",
          "Boston",
          "Boston",
          "Boston",
          "Boston",
          "Boston",
          "Boston",
          "Boston",
          "Boston",
          "Boston",
          "Boston",
          "Boston",
          "Boston",
          "Boston",
          "Boston",
          "Boston",
          "Boston",
          "Boston",
          "Boston",
          "Boston",
          "Boston",
          "Boston",
          "Boston",
          "Boston",
          "Boston",
          "Boston",
          "Boston",
          "Boston",
          "Boston",
          "New York",
          "New York",
          "New York",
          "New York",
          "New York",
          "New York",
          "New York",
          "New York",
          "New York",
          "New York",
          "New York",
          "New York",
          "New York",
          "New York",
          "New York",
          "New York",
          "New York",
          "New York",
          "New York",
          "New York",
          "New York",
          "New York",
          "New York",
          "New York",
          "New York",
          "New York",
          "New York",
          "New York",
          "New York",
          "New York",
          "New York",
          "New York",
          "New York",
          "New York",
          "New York",
          "New York",
          "New York",
          "New York",
          "New York",
          "New York",
          "New York",
          "New York",
          "New York",
          "New York",
          "New York",
          "New York",
          "New York",
          "New York",
          "New York",
          "New York",
          "New York",
          "New York",
          "New York",
          "New York",
          "New York",
          "New York",
          "New York",
          "New York",
          "New York",
          "New York",
          "New York",
          "New York",
          "New York",
          "New York",
          "New York",
          "New York",
          "New York",
          "New York",
          "New York",
          "New York",
          "New York",
          "New York",
          "New York",
          "New York",
          "New York",
          "New York",
          "New York",
          "New York",
          "New York",
          "New York",
          "New York",
          "New York",
          "New York",
          "New York",
          "New York",
          "New York",
          "New York",
          "New York",
          "New York",
          "New York",
          "New York",
          "New York",
          "New York",
          "New York",
          "New York",
          "New York",
          "New York",
          "New York",
          "New York",
          "New York",
          "New York",
          "New York",
          "New York",
          "New York",
          "New York",
          "New York",
          "New York",
          "New York",
          "New York",
          "New York",
          "New York",
          "New York",
          "New York",
          "New York",
          "New York",
          "New York",
          "New York",
          "New York",
          "New York",
          "New York",
          "New York",
          "New York",
          "New York",
          "New York",
          "New York",
          "New York",
          "New York",
          "New York",
          "New York",
          "New York",
          "New York",
          "New York",
          "New York",
          "New York",
          "New York",
          "New York",
          "New York",
          "New York",
          "New York",
          "New York",
          "New York",
          "New York",
          "New York",
          "New York",
          "New York",
          "New York",
          "New York",
          "New York",
          "New York",
          "New York",
          "New York",
          "New York",
          "New York",
          "New York",
          "New York",
          "New York",
          "New York",
          "New York",
          "New York",
          "New York",
          "New York",
          "New York",
          "New York",
          "New York",
          "New York",
          "New York",
          "Washington D.C.",
          "Washington D.C.",
          "Washington D.C.",
          "Washington D.C.",
          "Washington D.C.",
          "Washington D.C.",
          "Washington D.C.",
          "Washington D.C.",
          "Washington D.C.",
          "Washington D.C.",
          "Washington D.C.",
          "Washington D.C.",
          "Washington D.C.",
          "Washington D.C.",
          "Washington D.C.",
          "Washington D.C.",
          "Washington D.C.",
          "Washington D.C.",
          "Washington D.C.",
          "Washington D.C.",
          "Washington D.C.",
          "Washington D.C.",
          "Washington D.C.",
          "Washington D.C.",
          "Washington D.C.",
          "Washington D.C.",
          "Washington D.C.",
          "Washington D.C.",
          "Washington D.C.",
          "Washington D.C.",
          "Washington D.C.",
          "Washington D.C.",
          "Washington D.C.",
          "Washington D.C.",
          "Washington D.C.",
          "Washington D.C.",
          "Washington D.C.",
          "Washington D.C.",
          "Washington D.C.",
          "Washington D.C.",
          "Washington D.C.",
          "Washington D.C.",
          "Washington D.C.",
          "Washington D.C.",
          "Washington D.C.",
          "Washington D.C.",
          "Washington D.C.",
          "Washington D.C.",
          "Washington D.C.",
          "Washington D.C.",
          "Washington D.C.",
          "Washington D.C.",
          "Washington D.C.",
          "Washington D.C.",
          "Washington D.C.",
          "Washington D.C.",
          "Washington D.C.",
          "Washington D.C.",
          "Washington D.C.",
          "Washington D.C.",
          "Washington D.C.",
          "Washington D.C.",
          "Washington D.C.",
          "Washington D.C.",
          "Washington D.C.",
          "Washington D.C.",
          "Washington D.C.",
          "Columbus",
          "Columbus",
          "Columbus",
          "Columbus",
          "Columbus",
          "Columbus",
          "Columbus",
          "Columbus",
          "Columbus",
          "Columbus",
          "Columbus",
          "Columbus",
          "Columbus",
          "Columbus",
          "Columbus",
          "Columbus",
          "Columbus",
          "Columbus"
         ],
         "y": [
          50000,
          75000,
          29568,
          37440,
          69420,
          90000,
          68000,
          124800,
          31200,
          31200,
          29120,
          24960,
          59004,
          35360,
          55000,
          30742.4,
          59004,
          75000,
          77862,
          140000,
          29120,
          39998.4,
          28080,
          70000,
          59004,
          59004,
          59004,
          24960,
          24960,
          85000,
          76876.8,
          30000,
          69420,
          29120,
          22880,
          138000,
          66000,
          78500,
          69420,
          27040,
          130000,
          69420,
          29120,
          31200,
          59004,
          31200,
          24960,
          138000,
          90000,
          26000,
          60000,
          25064,
          59004,
          60000,
          208000,
          124800,
          72000,
          135200,
          145600,
          180000,
          60000,
          64480,
          166400,
          49000,
          80000,
          166400,
          110000,
          49920,
          32240,
          120000,
          140000,
          68640,
          41600,
          100000,
          105000,
          100000,
          52000,
          100000,
          145600,
          96000,
          76710.4,
          47840,
          250000,
          228800,
          70000,
          50000,
          90000,
          140000,
          100000,
          120000,
          125000,
          90084.8,
          51542.4,
          160000,
          175000,
          110000,
          175000,
          130000,
          200000,
          52000,
          57200,
          52000,
          90000,
          41600,
          65544,
          80000,
          82485,
          54080,
          80000,
          80000,
          27780,
          50000,
          61972,
          22880,
          49000,
          40955.2,
          48051,
          145600,
          110000,
          49000,
          49000,
          46395,
          31200,
          22880,
          37440,
          31200,
          33280,
          27040,
          51408,
          75000,
          104000,
          33280,
          166400,
          90000,
          37356,
          37440,
          110000,
          100000,
          63864,
          63864,
          29120,
          106080,
          63852,
          70000,
          33280,
          75000,
          110000,
          22638,
          24960,
          90000,
          50000,
          33280,
          38400,
          75000,
          110000,
          70824,
          104000,
          95000,
          29120,
          124800,
          32760,
          80000,
          41995.2,
          34320,
          44400,
          31200,
          33280,
          38480,
          33280,
          70000,
          104821,
          104821,
          93600,
          37918.4,
          45000,
          38357,
          110762,
          29120,
          145600,
          31200,
          37440,
          29120,
          29120,
          27040,
          58240,
          50000,
          103000,
          127000,
          150200,
          72800,
          104501,
          32240,
          45000,
          60000,
          31200,
          31200,
          31200,
          62400,
          124800,
          120640,
          114400,
          114400,
          32500,
          64480,
          26949,
          124800,
          50000,
          35000,
          90000,
          70000,
          20800,
          100000,
          80000,
          100000,
          37502.4,
          130000,
          145000,
          75000,
          75000,
          42000,
          166400,
          29120,
          31200,
          64000,
          64000,
          100000,
          37440,
          31200,
          166400,
          93600,
          60000,
          105000,
          33280,
          150000,
          197600,
          70000,
          100000,
          86493,
          55000,
          55018,
          80000,
          24960,
          93400,
          62530,
          130000,
          60000,
          33280,
          26520,
          39000,
          117400,
          60000,
          48000,
          90000,
          100221,
          93400,
          117400,
          55000,
          150000,
          34236.8,
          63781,
          55000,
          55000,
          108600,
          95800,
          110000,
          75000,
          100000,
          70009,
          70009,
          31200,
          31200,
          31200,
          32760,
          98800,
          98800,
          98800,
          98800,
          98800,
          98800,
          98800,
          98800,
          98800,
          98800,
          40000,
          62400,
          104000,
          214240,
          35360,
          72000,
          37481.6,
          45594,
          45000,
          49920,
          100000,
          109595.2,
          76900,
          120000,
          66560,
          111595,
          64140,
          33280,
          80000,
          31200,
          110240,
          75504,
          60000,
          110000,
          124800,
          70548,
          150000,
          140000,
          35000,
          47155,
          40000,
          64140,
          75504,
          33280,
          20800,
          31200,
          31200,
          30000,
          99840,
          75504,
          31200,
          44404,
          114400,
          70370,
          120000,
          70000,
          75504,
          160000,
          31200,
          208000,
          110000,
          35000,
          110000,
          110000,
          64140,
          62862,
          33280,
          38000,
          75504,
          31200,
          39998.4,
          72000,
          88400,
          75000,
          124800,
          65000,
          60000,
          103000,
          31200,
          98919,
          53956,
          100000,
          62862,
          53956,
          100000,
          62862,
          53956,
          100000,
          62862,
          53956,
          100000,
          62862,
          53956,
          100000,
          62862,
          53956,
          100000,
          62862,
          53956,
          100000,
          62862,
          53956,
          100000,
          62862,
          53956,
          100000,
          62862,
          53956,
          100000,
          62862,
          53956,
          100000,
          62862,
          53956,
          100000,
          62862,
          53956,
          100000,
          62862,
          53956,
          100000,
          62862,
          53956,
          100000,
          62862,
          53956,
          100000,
          62862,
          53956,
          100000,
          62862,
          53956,
          100000,
          62862,
          53956,
          100000,
          62862,
          53956,
          100000,
          62862,
          53956,
          100000,
          62862,
          53956,
          100000,
          62862,
          53956,
          100000,
          62862,
          53956,
          100000,
          62862,
          53956,
          100000,
          62862,
          53956,
          100000,
          62862,
          53956,
          100000,
          62862,
          53956,
          100000,
          62862,
          53956,
          100000,
          62862,
          53956,
          100000,
          62862,
          53956,
          100000,
          62862,
          53956,
          100000,
          62862,
          86335,
          142701,
          74000,
          150000,
          41600,
          20800,
          37772.8,
          124800,
          142701,
          142701,
          31200,
          29120,
          73973,
          94858,
          94016,
          55000,
          83200,
          120000,
          70000,
          142701,
          102663,
          156000,
          110000,
          41600,
          35360,
          166400,
          61926,
          68720,
          100000,
          117266,
          99172,
          47781,
          115000,
          83398,
          72030,
          137849,
          70000,
          120000,
          29120,
          90000,
          117191,
          145600,
          100000,
          60000,
          75516,
          114400,
          43680,
          41600,
          65000,
          35000,
          60000,
          60000,
          68000,
          93600,
          145600,
          89000,
          89000,
          50000,
          70000,
          93600,
          57500,
          75000,
          55280,
          70000,
          54000,
          54000,
          150000,
          78600,
          35360,
          128960,
          60000,
          104000,
          60070.4,
          31200,
          62000,
          40000,
          156000,
          65000,
          90800,
          166400,
          27040,
          66560,
          43409.6,
          80017.6,
          80017.6
         ]
        }
       ],
       "layout": {
        "autosize": true,
        "legend": {
         "orientation": "v"
        },
        "paper_bgcolor": "rgba(0,0,0,0)",
        "plot_bgcolor": "rgba(0,0,0,0)",
        "showlegend": false,
        "template": {
         "data": {
          "bar": [
           {
            "error_x": {
             "color": "#2a3f5f"
            },
            "error_y": {
             "color": "#2a3f5f"
            },
            "marker": {
             "line": {
              "color": "#E5ECF6",
              "width": 0.5
             }
            },
            "type": "bar"
           }
          ],
          "barpolar": [
           {
            "marker": {
             "line": {
              "color": "#E5ECF6",
              "width": 0.5
             }
            },
            "type": "barpolar"
           }
          ],
          "carpet": [
           {
            "aaxis": {
             "endlinecolor": "#2a3f5f",
             "gridcolor": "white",
             "linecolor": "white",
             "minorgridcolor": "white",
             "startlinecolor": "#2a3f5f"
            },
            "baxis": {
             "endlinecolor": "#2a3f5f",
             "gridcolor": "white",
             "linecolor": "white",
             "minorgridcolor": "white",
             "startlinecolor": "#2a3f5f"
            },
            "type": "carpet"
           }
          ],
          "choropleth": [
           {
            "colorbar": {
             "outlinewidth": 0,
             "ticks": ""
            },
            "type": "choropleth"
           }
          ],
          "contour": [
           {
            "colorbar": {
             "outlinewidth": 0,
             "ticks": ""
            },
            "colorscale": [
             [
              0,
              "#0d0887"
             ],
             [
              0.1111111111111111,
              "#46039f"
             ],
             [
              0.2222222222222222,
              "#7201a8"
             ],
             [
              0.3333333333333333,
              "#9c179e"
             ],
             [
              0.4444444444444444,
              "#bd3786"
             ],
             [
              0.5555555555555556,
              "#d8576b"
             ],
             [
              0.6666666666666666,
              "#ed7953"
             ],
             [
              0.7777777777777778,
              "#fb9f3a"
             ],
             [
              0.8888888888888888,
              "#fdca26"
             ],
             [
              1,
              "#f0f921"
             ]
            ],
            "type": "contour"
           }
          ],
          "contourcarpet": [
           {
            "colorbar": {
             "outlinewidth": 0,
             "ticks": ""
            },
            "type": "contourcarpet"
           }
          ],
          "heatmap": [
           {
            "colorbar": {
             "outlinewidth": 0,
             "ticks": ""
            },
            "colorscale": [
             [
              0,
              "#0d0887"
             ],
             [
              0.1111111111111111,
              "#46039f"
             ],
             [
              0.2222222222222222,
              "#7201a8"
             ],
             [
              0.3333333333333333,
              "#9c179e"
             ],
             [
              0.4444444444444444,
              "#bd3786"
             ],
             [
              0.5555555555555556,
              "#d8576b"
             ],
             [
              0.6666666666666666,
              "#ed7953"
             ],
             [
              0.7777777777777778,
              "#fb9f3a"
             ],
             [
              0.8888888888888888,
              "#fdca26"
             ],
             [
              1,
              "#f0f921"
             ]
            ],
            "type": "heatmap"
           }
          ],
          "heatmapgl": [
           {
            "colorbar": {
             "outlinewidth": 0,
             "ticks": ""
            },
            "colorscale": [
             [
              0,
              "#0d0887"
             ],
             [
              0.1111111111111111,
              "#46039f"
             ],
             [
              0.2222222222222222,
              "#7201a8"
             ],
             [
              0.3333333333333333,
              "#9c179e"
             ],
             [
              0.4444444444444444,
              "#bd3786"
             ],
             [
              0.5555555555555556,
              "#d8576b"
             ],
             [
              0.6666666666666666,
              "#ed7953"
             ],
             [
              0.7777777777777778,
              "#fb9f3a"
             ],
             [
              0.8888888888888888,
              "#fdca26"
             ],
             [
              1,
              "#f0f921"
             ]
            ],
            "type": "heatmapgl"
           }
          ],
          "histogram": [
           {
            "marker": {
             "colorbar": {
              "outlinewidth": 0,
              "ticks": ""
             }
            },
            "type": "histogram"
           }
          ],
          "histogram2d": [
           {
            "colorbar": {
             "outlinewidth": 0,
             "ticks": ""
            },
            "colorscale": [
             [
              0,
              "#0d0887"
             ],
             [
              0.1111111111111111,
              "#46039f"
             ],
             [
              0.2222222222222222,
              "#7201a8"
             ],
             [
              0.3333333333333333,
              "#9c179e"
             ],
             [
              0.4444444444444444,
              "#bd3786"
             ],
             [
              0.5555555555555556,
              "#d8576b"
             ],
             [
              0.6666666666666666,
              "#ed7953"
             ],
             [
              0.7777777777777778,
              "#fb9f3a"
             ],
             [
              0.8888888888888888,
              "#fdca26"
             ],
             [
              1,
              "#f0f921"
             ]
            ],
            "type": "histogram2d"
           }
          ],
          "histogram2dcontour": [
           {
            "colorbar": {
             "outlinewidth": 0,
             "ticks": ""
            },
            "colorscale": [
             [
              0,
              "#0d0887"
             ],
             [
              0.1111111111111111,
              "#46039f"
             ],
             [
              0.2222222222222222,
              "#7201a8"
             ],
             [
              0.3333333333333333,
              "#9c179e"
             ],
             [
              0.4444444444444444,
              "#bd3786"
             ],
             [
              0.5555555555555556,
              "#d8576b"
             ],
             [
              0.6666666666666666,
              "#ed7953"
             ],
             [
              0.7777777777777778,
              "#fb9f3a"
             ],
             [
              0.8888888888888888,
              "#fdca26"
             ],
             [
              1,
              "#f0f921"
             ]
            ],
            "type": "histogram2dcontour"
           }
          ],
          "mesh3d": [
           {
            "colorbar": {
             "outlinewidth": 0,
             "ticks": ""
            },
            "type": "mesh3d"
           }
          ],
          "parcoords": [
           {
            "line": {
             "colorbar": {
              "outlinewidth": 0,
              "ticks": ""
             }
            },
            "type": "parcoords"
           }
          ],
          "pie": [
           {
            "automargin": true,
            "type": "pie"
           }
          ],
          "scatter": [
           {
            "marker": {
             "colorbar": {
              "outlinewidth": 0,
              "ticks": ""
             }
            },
            "type": "scatter"
           }
          ],
          "scatter3d": [
           {
            "line": {
             "colorbar": {
              "outlinewidth": 0,
              "ticks": ""
             }
            },
            "marker": {
             "colorbar": {
              "outlinewidth": 0,
              "ticks": ""
             }
            },
            "type": "scatter3d"
           }
          ],
          "scattercarpet": [
           {
            "marker": {
             "colorbar": {
              "outlinewidth": 0,
              "ticks": ""
             }
            },
            "type": "scattercarpet"
           }
          ],
          "scattergeo": [
           {
            "marker": {
             "colorbar": {
              "outlinewidth": 0,
              "ticks": ""
             }
            },
            "type": "scattergeo"
           }
          ],
          "scattergl": [
           {
            "marker": {
             "colorbar": {
              "outlinewidth": 0,
              "ticks": ""
             }
            },
            "type": "scattergl"
           }
          ],
          "scattermapbox": [
           {
            "marker": {
             "colorbar": {
              "outlinewidth": 0,
              "ticks": ""
             }
            },
            "type": "scattermapbox"
           }
          ],
          "scatterpolar": [
           {
            "marker": {
             "colorbar": {
              "outlinewidth": 0,
              "ticks": ""
             }
            },
            "type": "scatterpolar"
           }
          ],
          "scatterpolargl": [
           {
            "marker": {
             "colorbar": {
              "outlinewidth": 0,
              "ticks": ""
             }
            },
            "type": "scatterpolargl"
           }
          ],
          "scatterternary": [
           {
            "marker": {
             "colorbar": {
              "outlinewidth": 0,
              "ticks": ""
             }
            },
            "type": "scatterternary"
           }
          ],
          "surface": [
           {
            "colorbar": {
             "outlinewidth": 0,
             "ticks": ""
            },
            "colorscale": [
             [
              0,
              "#0d0887"
             ],
             [
              0.1111111111111111,
              "#46039f"
             ],
             [
              0.2222222222222222,
              "#7201a8"
             ],
             [
              0.3333333333333333,
              "#9c179e"
             ],
             [
              0.4444444444444444,
              "#bd3786"
             ],
             [
              0.5555555555555556,
              "#d8576b"
             ],
             [
              0.6666666666666666,
              "#ed7953"
             ],
             [
              0.7777777777777778,
              "#fb9f3a"
             ],
             [
              0.8888888888888888,
              "#fdca26"
             ],
             [
              1,
              "#f0f921"
             ]
            ],
            "type": "surface"
           }
          ],
          "table": [
           {
            "cells": {
             "fill": {
              "color": "#EBF0F8"
             },
             "line": {
              "color": "white"
             }
            },
            "header": {
             "fill": {
              "color": "#C8D4E3"
             },
             "line": {
              "color": "white"
             }
            },
            "type": "table"
           }
          ]
         },
         "layout": {
          "annotationdefaults": {
           "arrowcolor": "#2a3f5f",
           "arrowhead": 0,
           "arrowwidth": 1
          },
          "coloraxis": {
           "colorbar": {
            "outlinewidth": 0,
            "ticks": ""
           }
          },
          "colorscale": {
           "diverging": [
            [
             0,
             "#8e0152"
            ],
            [
             0.1,
             "#c51b7d"
            ],
            [
             0.2,
             "#de77ae"
            ],
            [
             0.3,
             "#f1b6da"
            ],
            [
             0.4,
             "#fde0ef"
            ],
            [
             0.5,
             "#f7f7f7"
            ],
            [
             0.6,
             "#e6f5d0"
            ],
            [
             0.7,
             "#b8e186"
            ],
            [
             0.8,
             "#7fbc41"
            ],
            [
             0.9,
             "#4d9221"
            ],
            [
             1,
             "#276419"
            ]
           ],
           "sequential": [
            [
             0,
             "#0d0887"
            ],
            [
             0.1111111111111111,
             "#46039f"
            ],
            [
             0.2222222222222222,
             "#7201a8"
            ],
            [
             0.3333333333333333,
             "#9c179e"
            ],
            [
             0.4444444444444444,
             "#bd3786"
            ],
            [
             0.5555555555555556,
             "#d8576b"
            ],
            [
             0.6666666666666666,
             "#ed7953"
            ],
            [
             0.7777777777777778,
             "#fb9f3a"
            ],
            [
             0.8888888888888888,
             "#fdca26"
            ],
            [
             1,
             "#f0f921"
            ]
           ],
           "sequentialminus": [
            [
             0,
             "#0d0887"
            ],
            [
             0.1111111111111111,
             "#46039f"
            ],
            [
             0.2222222222222222,
             "#7201a8"
            ],
            [
             0.3333333333333333,
             "#9c179e"
            ],
            [
             0.4444444444444444,
             "#bd3786"
            ],
            [
             0.5555555555555556,
             "#d8576b"
            ],
            [
             0.6666666666666666,
             "#ed7953"
            ],
            [
             0.7777777777777778,
             "#fb9f3a"
            ],
            [
             0.8888888888888888,
             "#fdca26"
            ],
            [
             1,
             "#f0f921"
            ]
           ]
          },
          "colorway": [
           "#636efa",
           "#EF553B",
           "#00cc96",
           "#ab63fa",
           "#FFA15A",
           "#19d3f3",
           "#FF6692",
           "#B6E880",
           "#FF97FF",
           "#FECB52"
          ],
          "font": {
           "color": "#2a3f5f"
          },
          "geo": {
           "bgcolor": "white",
           "lakecolor": "white",
           "landcolor": "#E5ECF6",
           "showlakes": true,
           "showland": true,
           "subunitcolor": "white"
          },
          "hoverlabel": {
           "align": "left"
          },
          "hovermode": "closest",
          "mapbox": {
           "style": "light"
          },
          "paper_bgcolor": "white",
          "plot_bgcolor": "#E5ECF6",
          "polar": {
           "angularaxis": {
            "gridcolor": "white",
            "linecolor": "white",
            "ticks": ""
           },
           "bgcolor": "#E5ECF6",
           "radialaxis": {
            "gridcolor": "white",
            "linecolor": "white",
            "ticks": ""
           }
          },
          "scene": {
           "xaxis": {
            "backgroundcolor": "#E5ECF6",
            "gridcolor": "white",
            "gridwidth": 2,
            "linecolor": "white",
            "showbackground": true,
            "ticks": "",
            "zerolinecolor": "white"
           },
           "yaxis": {
            "backgroundcolor": "#E5ECF6",
            "gridcolor": "white",
            "gridwidth": 2,
            "linecolor": "white",
            "showbackground": true,
            "ticks": "",
            "zerolinecolor": "white"
           },
           "zaxis": {
            "backgroundcolor": "#E5ECF6",
            "gridcolor": "white",
            "gridwidth": 2,
            "linecolor": "white",
            "showbackground": true,
            "ticks": "",
            "zerolinecolor": "white"
           }
          },
          "shapedefaults": {
           "line": {
            "color": "#2a3f5f"
           }
          },
          "ternary": {
           "aaxis": {
            "gridcolor": "white",
            "linecolor": "white",
            "ticks": ""
           },
           "baxis": {
            "gridcolor": "white",
            "linecolor": "white",
            "ticks": ""
           },
           "bgcolor": "#E5ECF6",
           "caxis": {
            "gridcolor": "white",
            "linecolor": "white",
            "ticks": ""
           }
          },
          "title": {
           "x": 0.05
          },
          "xaxis": {
           "automargin": true,
           "gridcolor": "white",
           "linecolor": "white",
           "ticks": "",
           "title": {
            "standoff": 15
           },
           "zerolinecolor": "white",
           "zerolinewidth": 2
          },
          "yaxis": {
           "automargin": true,
           "gridcolor": "white",
           "linecolor": "white",
           "ticks": "",
           "title": {
            "standoff": 15
           },
           "zerolinecolor": "white",
           "zerolinewidth": 2
          }
         }
        },
        "title": {
         "text": "<b>Annual Minimum Data Job Salaries</b>"
        },
        "xaxis": {
         "showgrid": false
        },
        "yaxis": {
         "autorange": true,
         "showgrid": true,
         "showline": false,
         "showticklabels": true,
         "ticks": "",
         "title": {
          "text": "Annual Min Data Salary"
         },
         "zeroline": false
        }
       }
      },
      "text/html": [
       "<div>\n",
       "        \n",
       "        \n",
       "            <div id=\"21a5fe47-b2ea-4ff4-a4c7-4578f6a3241d\" class=\"plotly-graph-div\" style=\"height:525px; width:100%;\"></div>\n",
       "            <script type=\"text/javascript\">\n",
       "                require([\"plotly\"], function(Plotly) {\n",
       "                    window.PLOTLYENV=window.PLOTLYENV || {};\n",
       "                    \n",
       "                if (document.getElementById(\"21a5fe47-b2ea-4ff4-a4c7-4578f6a3241d\")) {\n",
       "                    Plotly.newPlot(\n",
       "                        '21a5fe47-b2ea-4ff4-a4c7-4578f6a3241d',\n",
       "                        [{\"name\": \"Annual Minimum Salary for Data Jobs\", \"type\": \"box\", \"x\": [\"Austin\", \"Austin\", \"Austin\", \"Austin\", \"Austin\", \"Austin\", \"Austin\", \"Austin\", \"Austin\", \"Austin\", \"Austin\", \"Austin\", \"Austin\", \"Austin\", \"Austin\", \"Austin\", \"Austin\", \"Austin\", \"Austin\", \"Austin\", \"Austin\", \"Austin\", \"Austin\", \"Austin\", \"Austin\", \"Austin\", \"Austin\", \"Austin\", \"Austin\", \"Austin\", \"Austin\", \"Austin\", \"Austin\", \"Austin\", \"Austin\", \"Austin\", \"Austin\", \"Austin\", \"Austin\", \"Austin\", \"Austin\", \"Austin\", \"Austin\", \"Austin\", \"Austin\", \"Austin\", \"Austin\", \"Austin\", \"Austin\", \"Austin\", \"Austin\", \"Austin\", \"Austin\", \"San Francisco\", \"San Francisco\", \"San Francisco\", \"San Francisco\", \"San Francisco\", \"San Francisco\", \"San Francisco\", \"San Francisco\", \"San Francisco\", \"San Francisco\", \"San Francisco\", \"San Francisco\", \"San Francisco\", \"San Francisco\", \"San Francisco\", \"San Francisco\", \"San Francisco\", \"San Francisco\", \"San Francisco\", \"San Francisco\", \"San Francisco\", \"San Francisco\", \"San Francisco\", \"San Francisco\", \"San Francisco\", \"San Francisco\", \"San Francisco\", \"San Francisco\", \"San Francisco\", \"San Francisco\", \"San Francisco\", \"San Francisco\", \"San Francisco\", \"San Francisco\", \"San Francisco\", \"San Francisco\", \"San Francisco\", \"San Francisco\", \"San Francisco\", \"San Francisco\", \"San Francisco\", \"San Francisco\", \"San Francisco\", \"San Francisco\", \"San Francisco\", \"San Francisco\", \"San Francisco\", \"San Francisco\", \"San Francisco\", \"San Francisco\", \"Raleigh\", \"Raleigh\", \"Raleigh\", \"Raleigh\", \"Raleigh\", \"Raleigh\", \"Raleigh\", \"Raleigh\", \"Raleigh\", \"Raleigh\", \"Raleigh\", \"Raleigh\", \"Raleigh\", \"Raleigh\", \"Raleigh\", \"Raleigh\", \"Raleigh\", \"Raleigh\", \"Raleigh\", \"Raleigh\", \"Raleigh\", \"Denver\", \"Denver\", \"Denver\", \"Denver\", \"Denver\", \"Denver\", \"Denver\", \"Denver\", \"Denver\", \"Denver\", \"Denver\", \"Denver\", \"Denver\", \"Denver\", \"Denver\", \"Denver\", \"Denver\", \"Denver\", \"Denver\", \"Denver\", \"Denver\", \"Denver\", \"Denver\", \"Denver\", \"Denver\", \"Denver\", \"Denver\", \"Denver\", \"Denver\", \"Denver\", \"Denver\", \"Denver\", \"Seattle\", \"Seattle\", \"Seattle\", \"Seattle\", \"Seattle\", \"Seattle\", \"Seattle\", \"Seattle\", \"Seattle\", \"Seattle\", \"Seattle\", \"Seattle\", \"Seattle\", \"Seattle\", \"Seattle\", \"Seattle\", \"Seattle\", \"Seattle\", \"Seattle\", \"Seattle\", \"Seattle\", \"Seattle\", \"Seattle\", \"Seattle\", \"Seattle\", \"Seattle\", \"Seattle\", \"Seattle\", \"Seattle\", \"Seattle\", \"Seattle\", \"Seattle\", \"Seattle\", \"Seattle\", \"Seattle\", \"Seattle\", \"Seattle\", \"Seattle\", \"Seattle\", \"Seattle\", \"Seattle\", \"Atlanta\", \"Atlanta\", \"Atlanta\", \"Atlanta\", \"Atlanta\", \"Atlanta\", \"Atlanta\", \"Atlanta\", \"Atlanta\", \"Atlanta\", \"Atlanta\", \"Atlanta\", \"Atlanta\", \"Atlanta\", \"Atlanta\", \"Atlanta\", \"Atlanta\", \"Atlanta\", \"Atlanta\", \"Boston\", \"Boston\", \"Boston\", \"Boston\", \"Boston\", \"Boston\", \"Boston\", \"Boston\", \"Boston\", \"Boston\", \"Boston\", \"Boston\", \"Boston\", \"Boston\", \"Boston\", \"Boston\", \"Boston\", \"Boston\", \"Boston\", \"Boston\", \"Boston\", \"Boston\", \"Boston\", \"Boston\", \"Boston\", \"Boston\", \"Boston\", \"Boston\", \"Boston\", \"Boston\", \"Boston\", \"Boston\", \"Boston\", \"Boston\", \"Boston\", \"Boston\", \"Boston\", \"Boston\", \"Boston\", \"Boston\", \"Boston\", \"Boston\", \"Boston\", \"Boston\", \"Boston\", \"Boston\", \"Boston\", \"Boston\", \"Boston\", \"Boston\", \"Boston\", \"Boston\", \"Boston\", \"Boston\", \"Boston\", \"Boston\", \"Boston\", \"Boston\", \"Boston\", \"Boston\", \"Boston\", \"Boston\", \"Boston\", \"Boston\", \"Boston\", \"Boston\", \"Boston\", \"New York\", \"New York\", \"New York\", \"New York\", \"New York\", \"New York\", \"New York\", \"New York\", \"New York\", \"New York\", \"New York\", \"New York\", \"New York\", \"New York\", \"New York\", \"New York\", \"New York\", \"New York\", \"New York\", \"New York\", \"New York\", \"New York\", \"New York\", \"New York\", \"New York\", \"New York\", \"New York\", \"New York\", \"New York\", \"New York\", \"New York\", \"New York\", \"New York\", \"New York\", \"New York\", \"New York\", \"New York\", \"New York\", \"New York\", \"New York\", \"New York\", \"New York\", \"New York\", \"New York\", \"New York\", \"New York\", \"New York\", \"New York\", \"New York\", \"New York\", \"New York\", \"New York\", \"New York\", \"New York\", \"New York\", \"New York\", \"New York\", \"New York\", \"New York\", \"New York\", \"New York\", \"New York\", \"New York\", \"New York\", \"New York\", \"New York\", \"New York\", \"New York\", \"New York\", \"New York\", \"New York\", \"New York\", \"New York\", \"New York\", \"New York\", \"New York\", \"New York\", \"New York\", \"New York\", \"New York\", \"New York\", \"New York\", \"New York\", \"New York\", \"New York\", \"New York\", \"New York\", \"New York\", \"New York\", \"New York\", \"New York\", \"New York\", \"New York\", \"New York\", \"New York\", \"New York\", \"New York\", \"New York\", \"New York\", \"New York\", \"New York\", \"New York\", \"New York\", \"New York\", \"New York\", \"New York\", \"New York\", \"New York\", \"New York\", \"New York\", \"New York\", \"New York\", \"New York\", \"New York\", \"New York\", \"New York\", \"New York\", \"New York\", \"New York\", \"New York\", \"New York\", \"New York\", \"New York\", \"New York\", \"New York\", \"New York\", \"New York\", \"New York\", \"New York\", \"New York\", \"New York\", \"New York\", \"New York\", \"New York\", \"New York\", \"New York\", \"New York\", \"New York\", \"New York\", \"New York\", \"New York\", \"New York\", \"New York\", \"New York\", \"New York\", \"New York\", \"New York\", \"New York\", \"New York\", \"New York\", \"New York\", \"New York\", \"New York\", \"New York\", \"New York\", \"New York\", \"New York\", \"New York\", \"New York\", \"New York\", \"New York\", \"New York\", \"New York\", \"New York\", \"New York\", \"New York\", \"Washington D.C.\", \"Washington D.C.\", \"Washington D.C.\", \"Washington D.C.\", \"Washington D.C.\", \"Washington D.C.\", \"Washington D.C.\", \"Washington D.C.\", \"Washington D.C.\", \"Washington D.C.\", \"Washington D.C.\", \"Washington D.C.\", \"Washington D.C.\", \"Washington D.C.\", \"Washington D.C.\", \"Washington D.C.\", \"Washington D.C.\", \"Washington D.C.\", \"Washington D.C.\", \"Washington D.C.\", \"Washington D.C.\", \"Washington D.C.\", \"Washington D.C.\", \"Washington D.C.\", \"Washington D.C.\", \"Washington D.C.\", \"Washington D.C.\", \"Washington D.C.\", \"Washington D.C.\", \"Washington D.C.\", \"Washington D.C.\", \"Washington D.C.\", \"Washington D.C.\", \"Washington D.C.\", \"Washington D.C.\", \"Washington D.C.\", \"Washington D.C.\", \"Washington D.C.\", \"Washington D.C.\", \"Washington D.C.\", \"Washington D.C.\", \"Washington D.C.\", \"Washington D.C.\", \"Washington D.C.\", \"Washington D.C.\", \"Washington D.C.\", \"Washington D.C.\", \"Washington D.C.\", \"Washington D.C.\", \"Washington D.C.\", \"Washington D.C.\", \"Washington D.C.\", \"Washington D.C.\", \"Washington D.C.\", \"Washington D.C.\", \"Washington D.C.\", \"Washington D.C.\", \"Washington D.C.\", \"Washington D.C.\", \"Washington D.C.\", \"Washington D.C.\", \"Washington D.C.\", \"Washington D.C.\", \"Washington D.C.\", \"Washington D.C.\", \"Washington D.C.\", \"Washington D.C.\", \"Columbus\", \"Columbus\", \"Columbus\", \"Columbus\", \"Columbus\", \"Columbus\", \"Columbus\", \"Columbus\", \"Columbus\", \"Columbus\", \"Columbus\", \"Columbus\", \"Columbus\", \"Columbus\", \"Columbus\", \"Columbus\", \"Columbus\", \"Columbus\"], \"y\": [50000.0, 75000.0, 29568.0, 37440.0, 69420.0, 90000.0, 68000.0, 124800.0, 31200.0, 31200.0, 29120.0, 24960.0, 59004.0, 35360.0, 55000.0, 30742.4, 59004.0, 75000.0, 77862.0, 140000.0, 29120.0, 39998.4, 28080.0, 70000.0, 59004.0, 59004.0, 59004.0, 24960.0, 24960.0, 85000.0, 76876.8, 30000.0, 69420.0, 29120.0, 22880.0, 138000.0, 66000.0, 78500.0, 69420.0, 27040.0, 130000.0, 69420.0, 29120.0, 31200.0, 59004.0, 31200.0, 24960.0, 138000.0, 90000.0, 26000.0, 60000.0, 25064.0, 59004.0, 60000.0, 208000.0, 124800.0, 72000.0, 135200.0, 145600.0, 180000.0, 60000.0, 64480.0, 166400.0, 49000.0, 80000.0, 166400.0, 110000.0, 49920.0, 32240.0, 120000.0, 140000.0, 68640.0, 41600.0, 100000.0, 105000.0, 100000.0, 52000.0, 100000.0, 145600.0, 96000.0, 76710.4, 47840.0, 250000.0, 228800.0, 70000.0, 50000.0, 90000.0, 140000.0, 100000.0, 120000.0, 125000.0, 90084.8, 51542.4, 160000.0, 175000.0, 110000.0, 175000.0, 130000.0, 200000.0, 52000.0, 57200.0, 52000.0, 90000.0, 41600.0, 65544.0, 80000.0, 82485.0, 54080.0, 80000.0, 80000.0, 27780.0, 50000.0, 61972.0, 22880.0, 49000.0, 40955.2, 48051.0, 145600.0, 110000.0, 49000.0, 49000.0, 46395.0, 31200.0, 22880.0, 37440.0, 31200.0, 33280.0, 27040.0, 51408.0, 75000.0, 104000.0, 33280.0, 166400.0, 90000.0, 37356.0, 37440.0, 110000.0, 100000.0, 63864.0, 63864.0, 29120.0, 106080.0, 63852.0, 70000.0, 33280.0, 75000.0, 110000.0, 22638.0, 24960.0, 90000.0, 50000.0, 33280.0, 38400.0, 75000.0, 110000.0, 70824.0, 104000.0, 95000.0, 29120.0, 124800.0, 32760.0, 80000.0, 41995.2, 34320.0, 44400.0, 31200.0, 33280.0, 38480.0, 33280.0, 70000.0, 104821.0, 104821.0, 93600.0, 37918.4, 45000.0, 38357.0, 110762.0, 29120.0, 145600.0, 31200.0, 37440.0, 29120.0, 29120.0, 27040.0, 58240.0, 50000.0, 103000.0, 127000.0, 150200.0, 72800.0, 104501.0, 32240.0, 45000.0, 60000.0, 31200.0, 31200.0, 31200.0, 62400.0, 124800.0, 120640.0, 114400.0, 114400.0, 32500.0, 64480.0, 26949.0, 124800.0, 50000.0, 35000.0, 90000.0, 70000.0, 20800.0, 100000.0, 80000.0, 100000.0, 37502.4, 130000.0, 145000.0, 75000.0, 75000.0, 42000.0, 166400.0, 29120.0, 31200.0, 64000.0, 64000.0, 100000.0, 37440.0, 31200.0, 166400.0, 93600.0, 60000.0, 105000.0, 33280.0, 150000.0, 197600.0, 70000.0, 100000.0, 86493.0, 55000.0, 55018.0, 80000.0, 24960.0, 93400.0, 62530.0, 130000.0, 60000.0, 33280.0, 26520.0, 39000.0, 117400.0, 60000.0, 48000.0, 90000.0, 100221.0, 93400.0, 117400.0, 55000.0, 150000.0, 34236.8, 63781.0, 55000.0, 55000.0, 108600.0, 95800.0, 110000.0, 75000.0, 100000.0, 70009.0, 70009.0, 31200.0, 31200.0, 31200.0, 32760.0, 98800.0, 98800.0, 98800.0, 98800.0, 98800.0, 98800.0, 98800.0, 98800.0, 98800.0, 98800.0, 40000.0, 62400.0, 104000.0, 214240.0, 35360.0, 72000.0, 37481.6, 45594.0, 45000.0, 49920.0, 100000.0, 109595.2, 76900.0, 120000.0, 66560.0, 111595.0, 64140.0, 33280.0, 80000.0, 31200.0, 110240.0, 75504.0, 60000.0, 110000.0, 124800.0, 70548.0, 150000.0, 140000.0, 35000.0, 47155.0, 40000.0, 64140.0, 75504.0, 33280.0, 20800.0, 31200.0, 31200.0, 30000.0, 99840.0, 75504.0, 31200.0, 44404.0, 114400.0, 70370.0, 120000.0, 70000.0, 75504.0, 160000.0, 31200.0, 208000.0, 110000.0, 35000.0, 110000.0, 110000.0, 64140.0, 62862.0, 33280.0, 38000.0, 75504.0, 31200.0, 39998.4, 72000.0, 88400.0, 75000.0, 124800.0, 65000.0, 60000.0, 103000.0, 31200.0, 98919.0, 53956.0, 100000.0, 62862.0, 53956.0, 100000.0, 62862.0, 53956.0, 100000.0, 62862.0, 53956.0, 100000.0, 62862.0, 53956.0, 100000.0, 62862.0, 53956.0, 100000.0, 62862.0, 53956.0, 100000.0, 62862.0, 53956.0, 100000.0, 62862.0, 53956.0, 100000.0, 62862.0, 53956.0, 100000.0, 62862.0, 53956.0, 100000.0, 62862.0, 53956.0, 100000.0, 62862.0, 53956.0, 100000.0, 62862.0, 53956.0, 100000.0, 62862.0, 53956.0, 100000.0, 62862.0, 53956.0, 100000.0, 62862.0, 53956.0, 100000.0, 62862.0, 53956.0, 100000.0, 62862.0, 53956.0, 100000.0, 62862.0, 53956.0, 100000.0, 62862.0, 53956.0, 100000.0, 62862.0, 53956.0, 100000.0, 62862.0, 53956.0, 100000.0, 62862.0, 53956.0, 100000.0, 62862.0, 53956.0, 100000.0, 62862.0, 53956.0, 100000.0, 62862.0, 53956.0, 100000.0, 62862.0, 53956.0, 100000.0, 62862.0, 53956.0, 100000.0, 62862.0, 53956.0, 100000.0, 62862.0, 53956.0, 100000.0, 62862.0, 53956.0, 100000.0, 62862.0, 86335.0, 142701.0, 74000.0, 150000.0, 41600.0, 20800.0, 37772.8, 124800.0, 142701.0, 142701.0, 31200.0, 29120.0, 73973.0, 94858.0, 94016.0, 55000.0, 83200.0, 120000.0, 70000.0, 142701.0, 102663.0, 156000.0, 110000.0, 41600.0, 35360.0, 166400.0, 61926.0, 68720.0, 100000.0, 117266.0, 99172.0, 47781.0, 115000.0, 83398.0, 72030.0, 137849.0, 70000.0, 120000.0, 29120.0, 90000.0, 117191.0, 145600.0, 100000.0, 60000.0, 75516.0, 114400.0, 43680.0, 41600.0, 65000.0, 35000.0, 60000.0, 60000.0, 68000.0, 93600.0, 145600.0, 89000.0, 89000.0, 50000.0, 70000.0, 93600.0, 57500.0, 75000.0, 55280.0, 70000.0, 54000.0, 54000.0, 150000.0, 78600.0, 35360.0, 128960.0, 60000.0, 104000.0, 60070.4, 31200.0, 62000.0, 40000.0, 156000.0, 65000.0, 90800.0, 166400.0, 27040.0, 66560.0, 43409.6, 80017.6, 80017.6]}],\n",
       "                        {\"autosize\": true, \"legend\": {\"orientation\": \"v\"}, \"paper_bgcolor\": \"rgba(0,0,0,0)\", \"plot_bgcolor\": \"rgba(0,0,0,0)\", \"showlegend\": false, \"template\": {\"data\": {\"bar\": [{\"error_x\": {\"color\": \"#2a3f5f\"}, \"error_y\": {\"color\": \"#2a3f5f\"}, \"marker\": {\"line\": {\"color\": \"#E5ECF6\", \"width\": 0.5}}, \"type\": \"bar\"}], \"barpolar\": [{\"marker\": {\"line\": {\"color\": \"#E5ECF6\", \"width\": 0.5}}, \"type\": \"barpolar\"}], \"carpet\": [{\"aaxis\": {\"endlinecolor\": \"#2a3f5f\", \"gridcolor\": \"white\", \"linecolor\": \"white\", \"minorgridcolor\": \"white\", \"startlinecolor\": \"#2a3f5f\"}, \"baxis\": {\"endlinecolor\": \"#2a3f5f\", \"gridcolor\": \"white\", \"linecolor\": \"white\", \"minorgridcolor\": \"white\", \"startlinecolor\": \"#2a3f5f\"}, \"type\": \"carpet\"}], \"choropleth\": [{\"colorbar\": {\"outlinewidth\": 0, \"ticks\": \"\"}, \"type\": \"choropleth\"}], \"contour\": [{\"colorbar\": {\"outlinewidth\": 0, \"ticks\": \"\"}, \"colorscale\": [[0.0, \"#0d0887\"], [0.1111111111111111, \"#46039f\"], [0.2222222222222222, \"#7201a8\"], [0.3333333333333333, \"#9c179e\"], [0.4444444444444444, \"#bd3786\"], [0.5555555555555556, \"#d8576b\"], [0.6666666666666666, \"#ed7953\"], [0.7777777777777778, \"#fb9f3a\"], [0.8888888888888888, \"#fdca26\"], [1.0, \"#f0f921\"]], \"type\": \"contour\"}], \"contourcarpet\": [{\"colorbar\": {\"outlinewidth\": 0, \"ticks\": \"\"}, \"type\": \"contourcarpet\"}], \"heatmap\": [{\"colorbar\": {\"outlinewidth\": 0, \"ticks\": \"\"}, \"colorscale\": [[0.0, \"#0d0887\"], [0.1111111111111111, \"#46039f\"], [0.2222222222222222, \"#7201a8\"], [0.3333333333333333, \"#9c179e\"], [0.4444444444444444, \"#bd3786\"], [0.5555555555555556, \"#d8576b\"], [0.6666666666666666, \"#ed7953\"], [0.7777777777777778, \"#fb9f3a\"], [0.8888888888888888, \"#fdca26\"], [1.0, \"#f0f921\"]], \"type\": \"heatmap\"}], \"heatmapgl\": [{\"colorbar\": {\"outlinewidth\": 0, \"ticks\": \"\"}, \"colorscale\": [[0.0, \"#0d0887\"], [0.1111111111111111, \"#46039f\"], [0.2222222222222222, \"#7201a8\"], [0.3333333333333333, \"#9c179e\"], [0.4444444444444444, \"#bd3786\"], [0.5555555555555556, \"#d8576b\"], [0.6666666666666666, \"#ed7953\"], [0.7777777777777778, \"#fb9f3a\"], [0.8888888888888888, \"#fdca26\"], [1.0, \"#f0f921\"]], \"type\": \"heatmapgl\"}], \"histogram\": [{\"marker\": {\"colorbar\": {\"outlinewidth\": 0, \"ticks\": \"\"}}, \"type\": \"histogram\"}], \"histogram2d\": [{\"colorbar\": {\"outlinewidth\": 0, \"ticks\": \"\"}, \"colorscale\": [[0.0, \"#0d0887\"], [0.1111111111111111, \"#46039f\"], [0.2222222222222222, \"#7201a8\"], [0.3333333333333333, \"#9c179e\"], [0.4444444444444444, \"#bd3786\"], [0.5555555555555556, \"#d8576b\"], [0.6666666666666666, \"#ed7953\"], [0.7777777777777778, \"#fb9f3a\"], [0.8888888888888888, \"#fdca26\"], [1.0, \"#f0f921\"]], \"type\": \"histogram2d\"}], \"histogram2dcontour\": [{\"colorbar\": {\"outlinewidth\": 0, \"ticks\": \"\"}, \"colorscale\": [[0.0, \"#0d0887\"], [0.1111111111111111, \"#46039f\"], [0.2222222222222222, \"#7201a8\"], [0.3333333333333333, \"#9c179e\"], [0.4444444444444444, \"#bd3786\"], [0.5555555555555556, \"#d8576b\"], [0.6666666666666666, \"#ed7953\"], [0.7777777777777778, \"#fb9f3a\"], [0.8888888888888888, \"#fdca26\"], [1.0, \"#f0f921\"]], \"type\": \"histogram2dcontour\"}], \"mesh3d\": [{\"colorbar\": {\"outlinewidth\": 0, \"ticks\": \"\"}, \"type\": \"mesh3d\"}], \"parcoords\": [{\"line\": {\"colorbar\": {\"outlinewidth\": 0, \"ticks\": \"\"}}, \"type\": \"parcoords\"}], \"pie\": [{\"automargin\": true, \"type\": \"pie\"}], \"scatter\": [{\"marker\": {\"colorbar\": {\"outlinewidth\": 0, \"ticks\": \"\"}}, \"type\": \"scatter\"}], \"scatter3d\": [{\"line\": {\"colorbar\": {\"outlinewidth\": 0, \"ticks\": \"\"}}, \"marker\": {\"colorbar\": {\"outlinewidth\": 0, \"ticks\": \"\"}}, \"type\": \"scatter3d\"}], \"scattercarpet\": [{\"marker\": {\"colorbar\": {\"outlinewidth\": 0, \"ticks\": \"\"}}, \"type\": \"scattercarpet\"}], \"scattergeo\": [{\"marker\": {\"colorbar\": {\"outlinewidth\": 0, \"ticks\": \"\"}}, \"type\": \"scattergeo\"}], \"scattergl\": [{\"marker\": {\"colorbar\": {\"outlinewidth\": 0, \"ticks\": \"\"}}, \"type\": \"scattergl\"}], \"scattermapbox\": [{\"marker\": {\"colorbar\": {\"outlinewidth\": 0, \"ticks\": \"\"}}, \"type\": \"scattermapbox\"}], \"scatterpolar\": [{\"marker\": {\"colorbar\": {\"outlinewidth\": 0, \"ticks\": \"\"}}, \"type\": \"scatterpolar\"}], \"scatterpolargl\": [{\"marker\": {\"colorbar\": {\"outlinewidth\": 0, \"ticks\": \"\"}}, \"type\": \"scatterpolargl\"}], \"scatterternary\": [{\"marker\": {\"colorbar\": {\"outlinewidth\": 0, \"ticks\": \"\"}}, \"type\": \"scatterternary\"}], \"surface\": [{\"colorbar\": {\"outlinewidth\": 0, \"ticks\": \"\"}, \"colorscale\": [[0.0, \"#0d0887\"], [0.1111111111111111, \"#46039f\"], [0.2222222222222222, \"#7201a8\"], [0.3333333333333333, \"#9c179e\"], [0.4444444444444444, \"#bd3786\"], [0.5555555555555556, \"#d8576b\"], [0.6666666666666666, \"#ed7953\"], [0.7777777777777778, \"#fb9f3a\"], [0.8888888888888888, \"#fdca26\"], [1.0, \"#f0f921\"]], \"type\": \"surface\"}], \"table\": [{\"cells\": {\"fill\": {\"color\": \"#EBF0F8\"}, \"line\": {\"color\": \"white\"}}, \"header\": {\"fill\": {\"color\": \"#C8D4E3\"}, \"line\": {\"color\": \"white\"}}, \"type\": \"table\"}]}, \"layout\": {\"annotationdefaults\": {\"arrowcolor\": \"#2a3f5f\", \"arrowhead\": 0, \"arrowwidth\": 1}, \"coloraxis\": {\"colorbar\": {\"outlinewidth\": 0, \"ticks\": \"\"}}, \"colorscale\": {\"diverging\": [[0, \"#8e0152\"], [0.1, \"#c51b7d\"], [0.2, \"#de77ae\"], [0.3, \"#f1b6da\"], [0.4, \"#fde0ef\"], [0.5, \"#f7f7f7\"], [0.6, \"#e6f5d0\"], [0.7, \"#b8e186\"], [0.8, \"#7fbc41\"], [0.9, \"#4d9221\"], [1, \"#276419\"]], \"sequential\": [[0.0, \"#0d0887\"], [0.1111111111111111, \"#46039f\"], [0.2222222222222222, \"#7201a8\"], [0.3333333333333333, \"#9c179e\"], [0.4444444444444444, \"#bd3786\"], [0.5555555555555556, \"#d8576b\"], [0.6666666666666666, \"#ed7953\"], [0.7777777777777778, \"#fb9f3a\"], [0.8888888888888888, \"#fdca26\"], [1.0, \"#f0f921\"]], \"sequentialminus\": [[0.0, \"#0d0887\"], [0.1111111111111111, \"#46039f\"], [0.2222222222222222, \"#7201a8\"], [0.3333333333333333, \"#9c179e\"], [0.4444444444444444, \"#bd3786\"], [0.5555555555555556, \"#d8576b\"], [0.6666666666666666, \"#ed7953\"], [0.7777777777777778, \"#fb9f3a\"], [0.8888888888888888, \"#fdca26\"], [1.0, \"#f0f921\"]]}, \"colorway\": [\"#636efa\", \"#EF553B\", \"#00cc96\", \"#ab63fa\", \"#FFA15A\", \"#19d3f3\", \"#FF6692\", \"#B6E880\", \"#FF97FF\", \"#FECB52\"], \"font\": {\"color\": \"#2a3f5f\"}, \"geo\": {\"bgcolor\": \"white\", \"lakecolor\": \"white\", \"landcolor\": \"#E5ECF6\", \"showlakes\": true, \"showland\": true, \"subunitcolor\": \"white\"}, \"hoverlabel\": {\"align\": \"left\"}, \"hovermode\": \"closest\", \"mapbox\": {\"style\": \"light\"}, \"paper_bgcolor\": \"white\", \"plot_bgcolor\": \"#E5ECF6\", \"polar\": {\"angularaxis\": {\"gridcolor\": \"white\", \"linecolor\": \"white\", \"ticks\": \"\"}, \"bgcolor\": \"#E5ECF6\", \"radialaxis\": {\"gridcolor\": \"white\", \"linecolor\": \"white\", \"ticks\": \"\"}}, \"scene\": {\"xaxis\": {\"backgroundcolor\": \"#E5ECF6\", \"gridcolor\": \"white\", \"gridwidth\": 2, \"linecolor\": \"white\", \"showbackground\": true, \"ticks\": \"\", \"zerolinecolor\": \"white\"}, \"yaxis\": {\"backgroundcolor\": \"#E5ECF6\", \"gridcolor\": \"white\", \"gridwidth\": 2, \"linecolor\": \"white\", \"showbackground\": true, \"ticks\": \"\", \"zerolinecolor\": \"white\"}, \"zaxis\": {\"backgroundcolor\": \"#E5ECF6\", \"gridcolor\": \"white\", \"gridwidth\": 2, \"linecolor\": \"white\", \"showbackground\": true, \"ticks\": \"\", \"zerolinecolor\": \"white\"}}, \"shapedefaults\": {\"line\": {\"color\": \"#2a3f5f\"}}, \"ternary\": {\"aaxis\": {\"gridcolor\": \"white\", \"linecolor\": \"white\", \"ticks\": \"\"}, \"baxis\": {\"gridcolor\": \"white\", \"linecolor\": \"white\", \"ticks\": \"\"}, \"bgcolor\": \"#E5ECF6\", \"caxis\": {\"gridcolor\": \"white\", \"linecolor\": \"white\", \"ticks\": \"\"}}, \"title\": {\"x\": 0.05}, \"xaxis\": {\"automargin\": true, \"gridcolor\": \"white\", \"linecolor\": \"white\", \"ticks\": \"\", \"title\": {\"standoff\": 15}, \"zerolinecolor\": \"white\", \"zerolinewidth\": 2}, \"yaxis\": {\"automargin\": true, \"gridcolor\": \"white\", \"linecolor\": \"white\", \"ticks\": \"\", \"title\": {\"standoff\": 15}, \"zerolinecolor\": \"white\", \"zerolinewidth\": 2}}}, \"title\": {\"text\": \"<b>Annual Minimum Data Job Salaries</b>\"}, \"xaxis\": {\"showgrid\": false}, \"yaxis\": {\"autorange\": true, \"showgrid\": true, \"showline\": false, \"showticklabels\": true, \"ticks\": \"\", \"title\": {\"text\": \"Annual Min Data Salary\"}, \"zeroline\": false}},\n",
       "                        {\"responsive\": true}\n",
       "                    ).then(function(){\n",
       "                            \n",
       "var gd = document.getElementById('21a5fe47-b2ea-4ff4-a4c7-4578f6a3241d');\n",
       "var x = new MutationObserver(function (mutations, observer) {{\n",
       "        var display = window.getComputedStyle(gd).display;\n",
       "        if (!display || display === 'none') {{\n",
       "            console.log([gd, 'removed!']);\n",
       "            Plotly.purge(gd);\n",
       "            observer.disconnect();\n",
       "        }}\n",
       "}});\n",
       "\n",
       "// Listen for the removal of the full notebook cells\n",
       "var notebookContainer = gd.closest('#notebook-container');\n",
       "if (notebookContainer) {{\n",
       "    x.observe(notebookContainer, {childList: true});\n",
       "}}\n",
       "\n",
       "// Listen for the clearing of the current output cell\n",
       "var outputEl = gd.closest('.output');\n",
       "if (outputEl) {{\n",
       "    x.observe(outputEl, {childList: true});\n",
       "}}\n",
       "\n",
       "                        })\n",
       "                };\n",
       "                });\n",
       "            </script>\n",
       "        </div>"
      ]
     },
     "metadata": {},
     "output_type": "display_data"
    },
    {
     "data": {
      "application/vnd.plotly.v1+json": {
       "config": {
        "linkText": "Export to plot.ly",
        "plotlyServerURL": "https://plot.ly",
        "showLink": false
       },
       "data": [
        {
         "name": "Annual Maximum Salary for Data Jobs",
         "type": "box",
         "x": [
          "Austin",
          "Austin",
          "Austin",
          "Austin",
          "Austin",
          "Austin",
          "Austin",
          "Austin",
          "Austin",
          "Austin",
          "Austin",
          "Austin",
          "Austin",
          "Austin",
          "Austin",
          "Austin",
          "Austin",
          "Austin",
          "Austin",
          "Austin",
          "Austin",
          "Austin",
          "Austin",
          "Austin",
          "Austin",
          "Austin",
          "Austin",
          "Austin",
          "Austin",
          "Austin",
          "Austin",
          "Austin",
          "Austin",
          "Austin",
          "Austin",
          "Austin",
          "Austin",
          "Austin",
          "Austin",
          "Austin",
          "Austin",
          "Austin",
          "Austin",
          "Austin",
          "Austin",
          "Austin",
          "Austin",
          "Austin",
          "Austin",
          "Austin",
          "Austin",
          "Austin",
          "Austin",
          "San Francisco",
          "San Francisco",
          "San Francisco",
          "San Francisco",
          "San Francisco",
          "San Francisco",
          "San Francisco",
          "San Francisco",
          "San Francisco",
          "San Francisco",
          "San Francisco",
          "San Francisco",
          "San Francisco",
          "San Francisco",
          "San Francisco",
          "San Francisco",
          "San Francisco",
          "San Francisco",
          "San Francisco",
          "San Francisco",
          "San Francisco",
          "San Francisco",
          "San Francisco",
          "San Francisco",
          "San Francisco",
          "San Francisco",
          "San Francisco",
          "San Francisco",
          "San Francisco",
          "San Francisco",
          "San Francisco",
          "San Francisco",
          "San Francisco",
          "San Francisco",
          "San Francisco",
          "San Francisco",
          "San Francisco",
          "San Francisco",
          "San Francisco",
          "San Francisco",
          "San Francisco",
          "San Francisco",
          "San Francisco",
          "San Francisco",
          "San Francisco",
          "San Francisco",
          "San Francisco",
          "San Francisco",
          "San Francisco",
          "San Francisco",
          "Raleigh",
          "Raleigh",
          "Raleigh",
          "Raleigh",
          "Raleigh",
          "Raleigh",
          "Raleigh",
          "Raleigh",
          "Raleigh",
          "Raleigh",
          "Raleigh",
          "Raleigh",
          "Raleigh",
          "Raleigh",
          "Raleigh",
          "Raleigh",
          "Raleigh",
          "Raleigh",
          "Raleigh",
          "Raleigh",
          "Raleigh",
          "Denver",
          "Denver",
          "Denver",
          "Denver",
          "Denver",
          "Denver",
          "Denver",
          "Denver",
          "Denver",
          "Denver",
          "Denver",
          "Denver",
          "Denver",
          "Denver",
          "Denver",
          "Denver",
          "Denver",
          "Denver",
          "Denver",
          "Denver",
          "Denver",
          "Denver",
          "Denver",
          "Denver",
          "Denver",
          "Denver",
          "Denver",
          "Denver",
          "Denver",
          "Denver",
          "Denver",
          "Denver",
          "Seattle",
          "Seattle",
          "Seattle",
          "Seattle",
          "Seattle",
          "Seattle",
          "Seattle",
          "Seattle",
          "Seattle",
          "Seattle",
          "Seattle",
          "Seattle",
          "Seattle",
          "Seattle",
          "Seattle",
          "Seattle",
          "Seattle",
          "Seattle",
          "Seattle",
          "Seattle",
          "Seattle",
          "Seattle",
          "Seattle",
          "Seattle",
          "Seattle",
          "Seattle",
          "Seattle",
          "Seattle",
          "Seattle",
          "Seattle",
          "Seattle",
          "Seattle",
          "Seattle",
          "Seattle",
          "Seattle",
          "Seattle",
          "Seattle",
          "Seattle",
          "Seattle",
          "Seattle",
          "Seattle",
          "Atlanta",
          "Atlanta",
          "Atlanta",
          "Atlanta",
          "Atlanta",
          "Atlanta",
          "Atlanta",
          "Atlanta",
          "Atlanta",
          "Atlanta",
          "Atlanta",
          "Atlanta",
          "Atlanta",
          "Atlanta",
          "Atlanta",
          "Atlanta",
          "Atlanta",
          "Atlanta",
          "Atlanta",
          "Boston",
          "Boston",
          "Boston",
          "Boston",
          "Boston",
          "Boston",
          "Boston",
          "Boston",
          "Boston",
          "Boston",
          "Boston",
          "Boston",
          "Boston",
          "Boston",
          "Boston",
          "Boston",
          "Boston",
          "Boston",
          "Boston",
          "Boston",
          "Boston",
          "Boston",
          "Boston",
          "Boston",
          "Boston",
          "Boston",
          "Boston",
          "Boston",
          "Boston",
          "Boston",
          "Boston",
          "Boston",
          "Boston",
          "Boston",
          "Boston",
          "Boston",
          "Boston",
          "Boston",
          "Boston",
          "Boston",
          "Boston",
          "Boston",
          "Boston",
          "Boston",
          "Boston",
          "Boston",
          "Boston",
          "Boston",
          "Boston",
          "Boston",
          "Boston",
          "Boston",
          "Boston",
          "Boston",
          "Boston",
          "Boston",
          "Boston",
          "Boston",
          "Boston",
          "Boston",
          "Boston",
          "Boston",
          "Boston",
          "Boston",
          "Boston",
          "Boston",
          "Boston",
          "New York",
          "New York",
          "New York",
          "New York",
          "New York",
          "New York",
          "New York",
          "New York",
          "New York",
          "New York",
          "New York",
          "New York",
          "New York",
          "New York",
          "New York",
          "New York",
          "New York",
          "New York",
          "New York",
          "New York",
          "New York",
          "New York",
          "New York",
          "New York",
          "New York",
          "New York",
          "New York",
          "New York",
          "New York",
          "New York",
          "New York",
          "New York",
          "New York",
          "New York",
          "New York",
          "New York",
          "New York",
          "New York",
          "New York",
          "New York",
          "New York",
          "New York",
          "New York",
          "New York",
          "New York",
          "New York",
          "New York",
          "New York",
          "New York",
          "New York",
          "New York",
          "New York",
          "New York",
          "New York",
          "New York",
          "New York",
          "New York",
          "New York",
          "New York",
          "New York",
          "New York",
          "New York",
          "New York",
          "New York",
          "New York",
          "New York",
          "New York",
          "New York",
          "New York",
          "New York",
          "New York",
          "New York",
          "New York",
          "New York",
          "New York",
          "New York",
          "New York",
          "New York",
          "New York",
          "New York",
          "New York",
          "New York",
          "New York",
          "New York",
          "New York",
          "New York",
          "New York",
          "New York",
          "New York",
          "New York",
          "New York",
          "New York",
          "New York",
          "New York",
          "New York",
          "New York",
          "New York",
          "New York",
          "New York",
          "New York",
          "New York",
          "New York",
          "New York",
          "New York",
          "New York",
          "New York",
          "New York",
          "New York",
          "New York",
          "New York",
          "New York",
          "New York",
          "New York",
          "New York",
          "New York",
          "New York",
          "New York",
          "New York",
          "New York",
          "New York",
          "New York",
          "New York",
          "New York",
          "New York",
          "New York",
          "New York",
          "New York",
          "New York",
          "New York",
          "New York",
          "New York",
          "New York",
          "New York",
          "New York",
          "New York",
          "New York",
          "New York",
          "New York",
          "New York",
          "New York",
          "New York",
          "New York",
          "New York",
          "New York",
          "New York",
          "New York",
          "New York",
          "New York",
          "New York",
          "New York",
          "New York",
          "New York",
          "New York",
          "New York",
          "New York",
          "New York",
          "New York",
          "New York",
          "New York",
          "New York",
          "New York",
          "New York",
          "New York",
          "New York",
          "New York",
          "New York",
          "Washington D.C.",
          "Washington D.C.",
          "Washington D.C.",
          "Washington D.C.",
          "Washington D.C.",
          "Washington D.C.",
          "Washington D.C.",
          "Washington D.C.",
          "Washington D.C.",
          "Washington D.C.",
          "Washington D.C.",
          "Washington D.C.",
          "Washington D.C.",
          "Washington D.C.",
          "Washington D.C.",
          "Washington D.C.",
          "Washington D.C.",
          "Washington D.C.",
          "Washington D.C.",
          "Washington D.C.",
          "Washington D.C.",
          "Washington D.C.",
          "Washington D.C.",
          "Washington D.C.",
          "Washington D.C.",
          "Washington D.C.",
          "Washington D.C.",
          "Washington D.C.",
          "Washington D.C.",
          "Washington D.C.",
          "Washington D.C.",
          "Washington D.C.",
          "Washington D.C.",
          "Washington D.C.",
          "Washington D.C.",
          "Washington D.C.",
          "Washington D.C.",
          "Washington D.C.",
          "Washington D.C.",
          "Washington D.C.",
          "Washington D.C.",
          "Washington D.C.",
          "Washington D.C.",
          "Washington D.C.",
          "Washington D.C.",
          "Washington D.C.",
          "Washington D.C.",
          "Washington D.C.",
          "Washington D.C.",
          "Washington D.C.",
          "Washington D.C.",
          "Washington D.C.",
          "Washington D.C.",
          "Washington D.C.",
          "Washington D.C.",
          "Washington D.C.",
          "Washington D.C.",
          "Washington D.C.",
          "Washington D.C.",
          "Washington D.C.",
          "Washington D.C.",
          "Washington D.C.",
          "Washington D.C.",
          "Washington D.C.",
          "Washington D.C.",
          "Washington D.C.",
          "Washington D.C.",
          "Columbus",
          "Columbus",
          "Columbus",
          "Columbus",
          "Columbus",
          "Columbus",
          "Columbus",
          "Columbus",
          "Columbus",
          "Columbus",
          "Columbus",
          "Columbus",
          "Columbus",
          "Columbus",
          "Columbus",
          "Columbus",
          "Columbus",
          "Columbus"
         ],
         "y": [
          60000,
          90000,
          29568,
          37440,
          93408,
          108000,
          75000,
          145600,
          31200,
          41600,
          29140.8,
          24960,
          96720,
          35360,
          60000,
          30742.4,
          77868,
          85000,
          77862,
          170000,
          29120,
          50003.2,
          28080,
          100000,
          77868,
          77868,
          96720,
          33280,
          33280,
          110000,
          101857.6,
          40000,
          100008,
          29120,
          29120,
          174000,
          72996,
          160000,
          114996,
          27040,
          150000,
          117396,
          37440,
          31200,
          82008,
          35360,
          24960,
          174000,
          108000,
          26000,
          73200,
          39915.2,
          77868,
          70000,
          228800,
          135200,
          144000,
          145600,
          166400,
          180000,
          70000,
          85280,
          208000,
          55000,
          110000,
          176800,
          140000,
          49920,
          38480,
          135000,
          160000,
          68640,
          41600,
          120000,
          150000,
          145000,
          64480,
          116000,
          145600,
          108000,
          93204.8,
          64480,
          250000,
          270400,
          100000,
          70000,
          110000,
          150000,
          140000,
          150000,
          170000,
          113318.4,
          51542.4,
          250000,
          225000,
          250000,
          225000,
          200000,
          280000,
          70000,
          83200,
          100880,
          100000,
          45760,
          87392,
          110000,
          133937,
          60320,
          110000,
          88000,
          44091,
          56000,
          100892,
          24960,
          51986,
          47008,
          86431,
          166400,
          140000,
          51986,
          51986,
          83511,
          31200,
          25480,
          41600,
          39000,
          37440,
          33280,
          75240,
          95000,
          124800,
          37440,
          208000,
          95000,
          53160,
          41600,
          135000,
          115000,
          70248,
          93480,
          29120,
          124800,
          77316,
          70000,
          49920,
          80000,
          130000,
          22638,
          24960,
          120000,
          55000,
          37440,
          46200,
          75000,
          120000,
          96720,
          135200,
          105000,
          33280,
          145600,
          32760,
          130000,
          56160,
          36400,
          44400,
          31200,
          39520,
          42640,
          35360,
          100000,
          136271,
          136271,
          104000,
          52977.6,
          50000,
          43397,
          119882,
          29120,
          166400,
          35360,
          45760,
          29120,
          29120,
          27040,
          70720,
          50000,
          118000,
          143000,
          197600,
          72800,
          134100,
          32240,
          47000,
          95000,
          33280,
          33280,
          33280,
          62400,
          145600,
          120640,
          124800,
          124800,
          42000,
          64480,
          26949,
          135200,
          50000,
          45000,
          110000,
          70000,
          22880,
          125000,
          140000,
          160000,
          37502.4,
          165000,
          150000,
          150000,
          150000,
          48000,
          187200,
          33280,
          31200,
          64000,
          64000,
          140000,
          45760,
          31200,
          166400,
          101920,
          75000,
          120000,
          33280,
          200000,
          208000,
          100000,
          125000,
          114250,
          55000,
          80359,
          90000,
          31200,
          134100,
          90570,
          160000,
          60000,
          33280,
          26520,
          39000,
          173000,
          70000,
          52000,
          139000,
          185000,
          134100,
          173200,
          55000,
          190000,
          34236.8,
          92382,
          55000,
          55000,
          152000,
          152000,
          120000,
          85000,
          120000,
          131429,
          131429,
          33280,
          33280,
          33280,
          34840,
          123500,
          123500,
          123500,
          123500,
          123500,
          123500,
          123500,
          123500,
          123500,
          123500,
          40000,
          62400,
          104000,
          214240,
          41600,
          144000,
          37481.6,
          71446,
          55000,
          58240,
          125000,
          109595.2,
          82280,
          120000,
          79040,
          153666,
          70554,
          33280,
          90000,
          35360,
          147680,
          91800,
          60000,
          120000,
          135200,
          110116,
          160000,
          160000,
          35000,
          58566,
          50000,
          70554,
          86830,
          33280,
          33280,
          47840,
          31200,
          40000,
          104000,
          86830,
          31200,
          65888,
          118560,
          70370,
          130000,
          100000,
          93776,
          180000,
          52000,
          228800,
          145000,
          45000,
          145000,
          145000,
          70554,
          78000,
          37440,
          38000,
          87805,
          35360,
          39998.4,
          110000,
          88400,
          80000,
          124800,
          75000,
          80000,
          103000,
          31200,
          98919,
          66388,
          130000,
          63031,
          66388,
          130000,
          63031,
          66388,
          130000,
          63031,
          66388,
          130000,
          63031,
          66388,
          130000,
          63031,
          66388,
          130000,
          63031,
          66388,
          130000,
          63031,
          66388,
          130000,
          63031,
          66388,
          130000,
          63031,
          66388,
          130000,
          63031,
          66388,
          130000,
          63031,
          66388,
          130000,
          63031,
          66388,
          130000,
          63031,
          66388,
          130000,
          63031,
          66388,
          130000,
          63031,
          66388,
          130000,
          63031,
          66388,
          130000,
          63031,
          66388,
          130000,
          63031,
          66388,
          130000,
          63031,
          66388,
          130000,
          63031,
          66388,
          130000,
          63031,
          66388,
          130000,
          63031,
          66388,
          130000,
          63031,
          66388,
          130000,
          63031,
          66388,
          130000,
          63031,
          66388,
          130000,
          63031,
          66388,
          130000,
          63031,
          66388,
          130000,
          63031,
          66388,
          130000,
          63031,
          66388,
          130000,
          63031,
          66388,
          130000,
          63031,
          66388,
          130000,
          63031,
          133465,
          170800,
          85000,
          200000,
          41600,
          31200,
          37772.8,
          135200,
          170800,
          170800,
          31200,
          29120,
          133465,
          122227,
          203052,
          55000,
          114400,
          120000,
          70000,
          179201,
          133465,
          228800,
          120000,
          52000,
          47840,
          187200,
          61926,
          114533,
          150000,
          165084,
          128920,
          103819,
          125000,
          128920,
          133465,
          166500,
          70000,
          160000,
          33280,
          115000,
          152352,
          176800,
          120000,
          90000,
          125861,
          124800,
          43680,
          49920,
          75000,
          45000,
          60000,
          60000,
          73000,
          124800,
          187200,
          106000,
          106000,
          80000,
          70000,
          135200,
          75000,
          83000,
          69100,
          70000,
          69000,
          69000,
          150000,
          121830,
          35360,
          164320,
          70000,
          130000,
          60070.4,
          31200,
          62000,
          55000,
          156000,
          75000,
          140740,
          166400,
          27040,
          93600,
          43409.6,
          114379.2,
          80017.6
         ]
        }
       ],
       "layout": {
        "autosize": true,
        "legend": {
         "orientation": "v"
        },
        "paper_bgcolor": "rgba(0,0,0,0)",
        "plot_bgcolor": "rgba(0,0,0,0)",
        "showlegend": false,
        "template": {
         "data": {
          "bar": [
           {
            "error_x": {
             "color": "#2a3f5f"
            },
            "error_y": {
             "color": "#2a3f5f"
            },
            "marker": {
             "line": {
              "color": "#E5ECF6",
              "width": 0.5
             }
            },
            "type": "bar"
           }
          ],
          "barpolar": [
           {
            "marker": {
             "line": {
              "color": "#E5ECF6",
              "width": 0.5
             }
            },
            "type": "barpolar"
           }
          ],
          "carpet": [
           {
            "aaxis": {
             "endlinecolor": "#2a3f5f",
             "gridcolor": "white",
             "linecolor": "white",
             "minorgridcolor": "white",
             "startlinecolor": "#2a3f5f"
            },
            "baxis": {
             "endlinecolor": "#2a3f5f",
             "gridcolor": "white",
             "linecolor": "white",
             "minorgridcolor": "white",
             "startlinecolor": "#2a3f5f"
            },
            "type": "carpet"
           }
          ],
          "choropleth": [
           {
            "colorbar": {
             "outlinewidth": 0,
             "ticks": ""
            },
            "type": "choropleth"
           }
          ],
          "contour": [
           {
            "colorbar": {
             "outlinewidth": 0,
             "ticks": ""
            },
            "colorscale": [
             [
              0,
              "#0d0887"
             ],
             [
              0.1111111111111111,
              "#46039f"
             ],
             [
              0.2222222222222222,
              "#7201a8"
             ],
             [
              0.3333333333333333,
              "#9c179e"
             ],
             [
              0.4444444444444444,
              "#bd3786"
             ],
             [
              0.5555555555555556,
              "#d8576b"
             ],
             [
              0.6666666666666666,
              "#ed7953"
             ],
             [
              0.7777777777777778,
              "#fb9f3a"
             ],
             [
              0.8888888888888888,
              "#fdca26"
             ],
             [
              1,
              "#f0f921"
             ]
            ],
            "type": "contour"
           }
          ],
          "contourcarpet": [
           {
            "colorbar": {
             "outlinewidth": 0,
             "ticks": ""
            },
            "type": "contourcarpet"
           }
          ],
          "heatmap": [
           {
            "colorbar": {
             "outlinewidth": 0,
             "ticks": ""
            },
            "colorscale": [
             [
              0,
              "#0d0887"
             ],
             [
              0.1111111111111111,
              "#46039f"
             ],
             [
              0.2222222222222222,
              "#7201a8"
             ],
             [
              0.3333333333333333,
              "#9c179e"
             ],
             [
              0.4444444444444444,
              "#bd3786"
             ],
             [
              0.5555555555555556,
              "#d8576b"
             ],
             [
              0.6666666666666666,
              "#ed7953"
             ],
             [
              0.7777777777777778,
              "#fb9f3a"
             ],
             [
              0.8888888888888888,
              "#fdca26"
             ],
             [
              1,
              "#f0f921"
             ]
            ],
            "type": "heatmap"
           }
          ],
          "heatmapgl": [
           {
            "colorbar": {
             "outlinewidth": 0,
             "ticks": ""
            },
            "colorscale": [
             [
              0,
              "#0d0887"
             ],
             [
              0.1111111111111111,
              "#46039f"
             ],
             [
              0.2222222222222222,
              "#7201a8"
             ],
             [
              0.3333333333333333,
              "#9c179e"
             ],
             [
              0.4444444444444444,
              "#bd3786"
             ],
             [
              0.5555555555555556,
              "#d8576b"
             ],
             [
              0.6666666666666666,
              "#ed7953"
             ],
             [
              0.7777777777777778,
              "#fb9f3a"
             ],
             [
              0.8888888888888888,
              "#fdca26"
             ],
             [
              1,
              "#f0f921"
             ]
            ],
            "type": "heatmapgl"
           }
          ],
          "histogram": [
           {
            "marker": {
             "colorbar": {
              "outlinewidth": 0,
              "ticks": ""
             }
            },
            "type": "histogram"
           }
          ],
          "histogram2d": [
           {
            "colorbar": {
             "outlinewidth": 0,
             "ticks": ""
            },
            "colorscale": [
             [
              0,
              "#0d0887"
             ],
             [
              0.1111111111111111,
              "#46039f"
             ],
             [
              0.2222222222222222,
              "#7201a8"
             ],
             [
              0.3333333333333333,
              "#9c179e"
             ],
             [
              0.4444444444444444,
              "#bd3786"
             ],
             [
              0.5555555555555556,
              "#d8576b"
             ],
             [
              0.6666666666666666,
              "#ed7953"
             ],
             [
              0.7777777777777778,
              "#fb9f3a"
             ],
             [
              0.8888888888888888,
              "#fdca26"
             ],
             [
              1,
              "#f0f921"
             ]
            ],
            "type": "histogram2d"
           }
          ],
          "histogram2dcontour": [
           {
            "colorbar": {
             "outlinewidth": 0,
             "ticks": ""
            },
            "colorscale": [
             [
              0,
              "#0d0887"
             ],
             [
              0.1111111111111111,
              "#46039f"
             ],
             [
              0.2222222222222222,
              "#7201a8"
             ],
             [
              0.3333333333333333,
              "#9c179e"
             ],
             [
              0.4444444444444444,
              "#bd3786"
             ],
             [
              0.5555555555555556,
              "#d8576b"
             ],
             [
              0.6666666666666666,
              "#ed7953"
             ],
             [
              0.7777777777777778,
              "#fb9f3a"
             ],
             [
              0.8888888888888888,
              "#fdca26"
             ],
             [
              1,
              "#f0f921"
             ]
            ],
            "type": "histogram2dcontour"
           }
          ],
          "mesh3d": [
           {
            "colorbar": {
             "outlinewidth": 0,
             "ticks": ""
            },
            "type": "mesh3d"
           }
          ],
          "parcoords": [
           {
            "line": {
             "colorbar": {
              "outlinewidth": 0,
              "ticks": ""
             }
            },
            "type": "parcoords"
           }
          ],
          "pie": [
           {
            "automargin": true,
            "type": "pie"
           }
          ],
          "scatter": [
           {
            "marker": {
             "colorbar": {
              "outlinewidth": 0,
              "ticks": ""
             }
            },
            "type": "scatter"
           }
          ],
          "scatter3d": [
           {
            "line": {
             "colorbar": {
              "outlinewidth": 0,
              "ticks": ""
             }
            },
            "marker": {
             "colorbar": {
              "outlinewidth": 0,
              "ticks": ""
             }
            },
            "type": "scatter3d"
           }
          ],
          "scattercarpet": [
           {
            "marker": {
             "colorbar": {
              "outlinewidth": 0,
              "ticks": ""
             }
            },
            "type": "scattercarpet"
           }
          ],
          "scattergeo": [
           {
            "marker": {
             "colorbar": {
              "outlinewidth": 0,
              "ticks": ""
             }
            },
            "type": "scattergeo"
           }
          ],
          "scattergl": [
           {
            "marker": {
             "colorbar": {
              "outlinewidth": 0,
              "ticks": ""
             }
            },
            "type": "scattergl"
           }
          ],
          "scattermapbox": [
           {
            "marker": {
             "colorbar": {
              "outlinewidth": 0,
              "ticks": ""
             }
            },
            "type": "scattermapbox"
           }
          ],
          "scatterpolar": [
           {
            "marker": {
             "colorbar": {
              "outlinewidth": 0,
              "ticks": ""
             }
            },
            "type": "scatterpolar"
           }
          ],
          "scatterpolargl": [
           {
            "marker": {
             "colorbar": {
              "outlinewidth": 0,
              "ticks": ""
             }
            },
            "type": "scatterpolargl"
           }
          ],
          "scatterternary": [
           {
            "marker": {
             "colorbar": {
              "outlinewidth": 0,
              "ticks": ""
             }
            },
            "type": "scatterternary"
           }
          ],
          "surface": [
           {
            "colorbar": {
             "outlinewidth": 0,
             "ticks": ""
            },
            "colorscale": [
             [
              0,
              "#0d0887"
             ],
             [
              0.1111111111111111,
              "#46039f"
             ],
             [
              0.2222222222222222,
              "#7201a8"
             ],
             [
              0.3333333333333333,
              "#9c179e"
             ],
             [
              0.4444444444444444,
              "#bd3786"
             ],
             [
              0.5555555555555556,
              "#d8576b"
             ],
             [
              0.6666666666666666,
              "#ed7953"
             ],
             [
              0.7777777777777778,
              "#fb9f3a"
             ],
             [
              0.8888888888888888,
              "#fdca26"
             ],
             [
              1,
              "#f0f921"
             ]
            ],
            "type": "surface"
           }
          ],
          "table": [
           {
            "cells": {
             "fill": {
              "color": "#EBF0F8"
             },
             "line": {
              "color": "white"
             }
            },
            "header": {
             "fill": {
              "color": "#C8D4E3"
             },
             "line": {
              "color": "white"
             }
            },
            "type": "table"
           }
          ]
         },
         "layout": {
          "annotationdefaults": {
           "arrowcolor": "#2a3f5f",
           "arrowhead": 0,
           "arrowwidth": 1
          },
          "coloraxis": {
           "colorbar": {
            "outlinewidth": 0,
            "ticks": ""
           }
          },
          "colorscale": {
           "diverging": [
            [
             0,
             "#8e0152"
            ],
            [
             0.1,
             "#c51b7d"
            ],
            [
             0.2,
             "#de77ae"
            ],
            [
             0.3,
             "#f1b6da"
            ],
            [
             0.4,
             "#fde0ef"
            ],
            [
             0.5,
             "#f7f7f7"
            ],
            [
             0.6,
             "#e6f5d0"
            ],
            [
             0.7,
             "#b8e186"
            ],
            [
             0.8,
             "#7fbc41"
            ],
            [
             0.9,
             "#4d9221"
            ],
            [
             1,
             "#276419"
            ]
           ],
           "sequential": [
            [
             0,
             "#0d0887"
            ],
            [
             0.1111111111111111,
             "#46039f"
            ],
            [
             0.2222222222222222,
             "#7201a8"
            ],
            [
             0.3333333333333333,
             "#9c179e"
            ],
            [
             0.4444444444444444,
             "#bd3786"
            ],
            [
             0.5555555555555556,
             "#d8576b"
            ],
            [
             0.6666666666666666,
             "#ed7953"
            ],
            [
             0.7777777777777778,
             "#fb9f3a"
            ],
            [
             0.8888888888888888,
             "#fdca26"
            ],
            [
             1,
             "#f0f921"
            ]
           ],
           "sequentialminus": [
            [
             0,
             "#0d0887"
            ],
            [
             0.1111111111111111,
             "#46039f"
            ],
            [
             0.2222222222222222,
             "#7201a8"
            ],
            [
             0.3333333333333333,
             "#9c179e"
            ],
            [
             0.4444444444444444,
             "#bd3786"
            ],
            [
             0.5555555555555556,
             "#d8576b"
            ],
            [
             0.6666666666666666,
             "#ed7953"
            ],
            [
             0.7777777777777778,
             "#fb9f3a"
            ],
            [
             0.8888888888888888,
             "#fdca26"
            ],
            [
             1,
             "#f0f921"
            ]
           ]
          },
          "colorway": [
           "#636efa",
           "#EF553B",
           "#00cc96",
           "#ab63fa",
           "#FFA15A",
           "#19d3f3",
           "#FF6692",
           "#B6E880",
           "#FF97FF",
           "#FECB52"
          ],
          "font": {
           "color": "#2a3f5f"
          },
          "geo": {
           "bgcolor": "white",
           "lakecolor": "white",
           "landcolor": "#E5ECF6",
           "showlakes": true,
           "showland": true,
           "subunitcolor": "white"
          },
          "hoverlabel": {
           "align": "left"
          },
          "hovermode": "closest",
          "mapbox": {
           "style": "light"
          },
          "paper_bgcolor": "white",
          "plot_bgcolor": "#E5ECF6",
          "polar": {
           "angularaxis": {
            "gridcolor": "white",
            "linecolor": "white",
            "ticks": ""
           },
           "bgcolor": "#E5ECF6",
           "radialaxis": {
            "gridcolor": "white",
            "linecolor": "white",
            "ticks": ""
           }
          },
          "scene": {
           "xaxis": {
            "backgroundcolor": "#E5ECF6",
            "gridcolor": "white",
            "gridwidth": 2,
            "linecolor": "white",
            "showbackground": true,
            "ticks": "",
            "zerolinecolor": "white"
           },
           "yaxis": {
            "backgroundcolor": "#E5ECF6",
            "gridcolor": "white",
            "gridwidth": 2,
            "linecolor": "white",
            "showbackground": true,
            "ticks": "",
            "zerolinecolor": "white"
           },
           "zaxis": {
            "backgroundcolor": "#E5ECF6",
            "gridcolor": "white",
            "gridwidth": 2,
            "linecolor": "white",
            "showbackground": true,
            "ticks": "",
            "zerolinecolor": "white"
           }
          },
          "shapedefaults": {
           "line": {
            "color": "#2a3f5f"
           }
          },
          "ternary": {
           "aaxis": {
            "gridcolor": "white",
            "linecolor": "white",
            "ticks": ""
           },
           "baxis": {
            "gridcolor": "white",
            "linecolor": "white",
            "ticks": ""
           },
           "bgcolor": "#E5ECF6",
           "caxis": {
            "gridcolor": "white",
            "linecolor": "white",
            "ticks": ""
           }
          },
          "title": {
           "x": 0.05
          },
          "xaxis": {
           "automargin": true,
           "gridcolor": "white",
           "linecolor": "white",
           "ticks": "",
           "title": {
            "standoff": 15
           },
           "zerolinecolor": "white",
           "zerolinewidth": 2
          },
          "yaxis": {
           "automargin": true,
           "gridcolor": "white",
           "linecolor": "white",
           "ticks": "",
           "title": {
            "standoff": 15
           },
           "zerolinecolor": "white",
           "zerolinewidth": 2
          }
         }
        },
        "title": {
         "text": "<b>Annual Maximum Data Job Salaries</b>"
        },
        "xaxis": {
         "showgrid": false
        },
        "yaxis": {
         "autorange": true,
         "showgrid": true,
         "showline": false,
         "showticklabels": true,
         "ticks": "",
         "title": {
          "text": "Annual Max Data Salary"
         },
         "zeroline": false
        }
       }
      },
      "text/html": [
       "<div>\n",
       "        \n",
       "        \n",
       "            <div id=\"4d746bf7-2026-4ff3-b958-9c984f2f6caf\" class=\"plotly-graph-div\" style=\"height:525px; width:100%;\"></div>\n",
       "            <script type=\"text/javascript\">\n",
       "                require([\"plotly\"], function(Plotly) {\n",
       "                    window.PLOTLYENV=window.PLOTLYENV || {};\n",
       "                    \n",
       "                if (document.getElementById(\"4d746bf7-2026-4ff3-b958-9c984f2f6caf\")) {\n",
       "                    Plotly.newPlot(\n",
       "                        '4d746bf7-2026-4ff3-b958-9c984f2f6caf',\n",
       "                        [{\"name\": \"Annual Maximum Salary for Data Jobs\", \"type\": \"box\", \"x\": [\"Austin\", \"Austin\", \"Austin\", \"Austin\", \"Austin\", \"Austin\", \"Austin\", \"Austin\", \"Austin\", \"Austin\", \"Austin\", \"Austin\", \"Austin\", \"Austin\", \"Austin\", \"Austin\", \"Austin\", \"Austin\", \"Austin\", \"Austin\", \"Austin\", \"Austin\", \"Austin\", \"Austin\", \"Austin\", \"Austin\", \"Austin\", \"Austin\", \"Austin\", \"Austin\", \"Austin\", \"Austin\", \"Austin\", \"Austin\", \"Austin\", \"Austin\", \"Austin\", \"Austin\", \"Austin\", \"Austin\", \"Austin\", \"Austin\", \"Austin\", \"Austin\", \"Austin\", \"Austin\", \"Austin\", \"Austin\", \"Austin\", \"Austin\", \"Austin\", \"Austin\", \"Austin\", \"San Francisco\", \"San Francisco\", \"San Francisco\", \"San Francisco\", \"San Francisco\", \"San Francisco\", \"San Francisco\", \"San Francisco\", \"San Francisco\", \"San Francisco\", \"San Francisco\", \"San Francisco\", \"San Francisco\", \"San Francisco\", \"San Francisco\", \"San Francisco\", \"San Francisco\", \"San Francisco\", \"San Francisco\", \"San Francisco\", \"San Francisco\", \"San Francisco\", \"San Francisco\", \"San Francisco\", \"San Francisco\", \"San Francisco\", \"San Francisco\", \"San Francisco\", \"San Francisco\", \"San Francisco\", \"San Francisco\", \"San Francisco\", \"San Francisco\", \"San Francisco\", \"San Francisco\", \"San Francisco\", \"San Francisco\", \"San Francisco\", \"San Francisco\", \"San Francisco\", \"San Francisco\", \"San Francisco\", \"San Francisco\", \"San Francisco\", \"San Francisco\", \"San Francisco\", \"San Francisco\", \"San Francisco\", \"San Francisco\", \"San Francisco\", \"Raleigh\", \"Raleigh\", \"Raleigh\", \"Raleigh\", \"Raleigh\", \"Raleigh\", \"Raleigh\", \"Raleigh\", \"Raleigh\", \"Raleigh\", \"Raleigh\", \"Raleigh\", \"Raleigh\", \"Raleigh\", \"Raleigh\", \"Raleigh\", \"Raleigh\", \"Raleigh\", \"Raleigh\", \"Raleigh\", \"Raleigh\", \"Denver\", \"Denver\", \"Denver\", \"Denver\", \"Denver\", \"Denver\", \"Denver\", \"Denver\", \"Denver\", \"Denver\", \"Denver\", \"Denver\", \"Denver\", \"Denver\", \"Denver\", \"Denver\", \"Denver\", \"Denver\", \"Denver\", \"Denver\", \"Denver\", \"Denver\", \"Denver\", \"Denver\", \"Denver\", \"Denver\", \"Denver\", \"Denver\", \"Denver\", \"Denver\", \"Denver\", \"Denver\", \"Seattle\", \"Seattle\", \"Seattle\", \"Seattle\", \"Seattle\", \"Seattle\", \"Seattle\", \"Seattle\", \"Seattle\", \"Seattle\", \"Seattle\", \"Seattle\", \"Seattle\", \"Seattle\", \"Seattle\", \"Seattle\", \"Seattle\", \"Seattle\", \"Seattle\", \"Seattle\", \"Seattle\", \"Seattle\", \"Seattle\", \"Seattle\", \"Seattle\", \"Seattle\", \"Seattle\", \"Seattle\", \"Seattle\", \"Seattle\", \"Seattle\", \"Seattle\", \"Seattle\", \"Seattle\", \"Seattle\", \"Seattle\", \"Seattle\", \"Seattle\", \"Seattle\", \"Seattle\", \"Seattle\", \"Atlanta\", \"Atlanta\", \"Atlanta\", \"Atlanta\", \"Atlanta\", \"Atlanta\", \"Atlanta\", \"Atlanta\", \"Atlanta\", \"Atlanta\", \"Atlanta\", \"Atlanta\", \"Atlanta\", \"Atlanta\", \"Atlanta\", \"Atlanta\", \"Atlanta\", \"Atlanta\", \"Atlanta\", \"Boston\", \"Boston\", \"Boston\", \"Boston\", \"Boston\", \"Boston\", \"Boston\", \"Boston\", \"Boston\", \"Boston\", \"Boston\", \"Boston\", \"Boston\", \"Boston\", \"Boston\", \"Boston\", \"Boston\", \"Boston\", \"Boston\", \"Boston\", \"Boston\", \"Boston\", \"Boston\", \"Boston\", \"Boston\", \"Boston\", \"Boston\", \"Boston\", \"Boston\", \"Boston\", \"Boston\", \"Boston\", \"Boston\", \"Boston\", \"Boston\", \"Boston\", \"Boston\", \"Boston\", \"Boston\", \"Boston\", \"Boston\", \"Boston\", \"Boston\", \"Boston\", \"Boston\", \"Boston\", \"Boston\", \"Boston\", \"Boston\", \"Boston\", \"Boston\", \"Boston\", \"Boston\", \"Boston\", \"Boston\", \"Boston\", \"Boston\", \"Boston\", \"Boston\", \"Boston\", \"Boston\", \"Boston\", \"Boston\", \"Boston\", \"Boston\", \"Boston\", \"Boston\", \"New York\", \"New York\", \"New York\", \"New York\", \"New York\", \"New York\", \"New York\", \"New York\", \"New York\", \"New York\", \"New York\", \"New York\", \"New York\", \"New York\", \"New York\", \"New York\", \"New York\", \"New York\", \"New York\", \"New York\", \"New York\", \"New York\", \"New York\", \"New York\", \"New York\", \"New York\", \"New York\", \"New York\", \"New York\", \"New York\", \"New York\", \"New York\", \"New York\", \"New York\", \"New York\", \"New York\", \"New York\", \"New York\", \"New York\", \"New York\", \"New York\", \"New York\", \"New York\", \"New York\", \"New York\", \"New York\", \"New York\", \"New York\", \"New York\", \"New York\", \"New York\", \"New York\", \"New York\", \"New York\", \"New York\", \"New York\", \"New York\", \"New York\", \"New York\", \"New York\", \"New York\", \"New York\", \"New York\", \"New York\", \"New York\", \"New York\", \"New York\", \"New York\", \"New York\", \"New York\", \"New York\", \"New York\", \"New York\", \"New York\", \"New York\", \"New York\", \"New York\", \"New York\", \"New York\", \"New York\", \"New York\", \"New York\", \"New York\", \"New York\", \"New York\", \"New York\", \"New York\", \"New York\", \"New York\", \"New York\", \"New York\", \"New York\", \"New York\", \"New York\", \"New York\", \"New York\", \"New York\", \"New York\", \"New York\", \"New York\", \"New York\", \"New York\", \"New York\", \"New York\", \"New York\", \"New York\", \"New York\", \"New York\", \"New York\", \"New York\", \"New York\", \"New York\", \"New York\", \"New York\", \"New York\", \"New York\", \"New York\", \"New York\", \"New York\", \"New York\", \"New York\", \"New York\", \"New York\", \"New York\", \"New York\", \"New York\", \"New York\", \"New York\", \"New York\", \"New York\", \"New York\", \"New York\", \"New York\", \"New York\", \"New York\", \"New York\", \"New York\", \"New York\", \"New York\", \"New York\", \"New York\", \"New York\", \"New York\", \"New York\", \"New York\", \"New York\", \"New York\", \"New York\", \"New York\", \"New York\", \"New York\", \"New York\", \"New York\", \"New York\", \"New York\", \"New York\", \"New York\", \"New York\", \"New York\", \"New York\", \"New York\", \"New York\", \"New York\", \"New York\", \"New York\", \"New York\", \"Washington D.C.\", \"Washington D.C.\", \"Washington D.C.\", \"Washington D.C.\", \"Washington D.C.\", \"Washington D.C.\", \"Washington D.C.\", \"Washington D.C.\", \"Washington D.C.\", \"Washington D.C.\", \"Washington D.C.\", \"Washington D.C.\", \"Washington D.C.\", \"Washington D.C.\", \"Washington D.C.\", \"Washington D.C.\", \"Washington D.C.\", \"Washington D.C.\", \"Washington D.C.\", \"Washington D.C.\", \"Washington D.C.\", \"Washington D.C.\", \"Washington D.C.\", \"Washington D.C.\", \"Washington D.C.\", \"Washington D.C.\", \"Washington D.C.\", \"Washington D.C.\", \"Washington D.C.\", \"Washington D.C.\", \"Washington D.C.\", \"Washington D.C.\", \"Washington D.C.\", \"Washington D.C.\", \"Washington D.C.\", \"Washington D.C.\", \"Washington D.C.\", \"Washington D.C.\", \"Washington D.C.\", \"Washington D.C.\", \"Washington D.C.\", \"Washington D.C.\", \"Washington D.C.\", \"Washington D.C.\", \"Washington D.C.\", \"Washington D.C.\", \"Washington D.C.\", \"Washington D.C.\", \"Washington D.C.\", \"Washington D.C.\", \"Washington D.C.\", \"Washington D.C.\", \"Washington D.C.\", \"Washington D.C.\", \"Washington D.C.\", \"Washington D.C.\", \"Washington D.C.\", \"Washington D.C.\", \"Washington D.C.\", \"Washington D.C.\", \"Washington D.C.\", \"Washington D.C.\", \"Washington D.C.\", \"Washington D.C.\", \"Washington D.C.\", \"Washington D.C.\", \"Washington D.C.\", \"Columbus\", \"Columbus\", \"Columbus\", \"Columbus\", \"Columbus\", \"Columbus\", \"Columbus\", \"Columbus\", \"Columbus\", \"Columbus\", \"Columbus\", \"Columbus\", \"Columbus\", \"Columbus\", \"Columbus\", \"Columbus\", \"Columbus\", \"Columbus\"], \"y\": [60000.0, 90000.0, 29568.0, 37440.0, 93408.0, 108000.0, 75000.0, 145600.0, 31200.0, 41600.0, 29140.8, 24960.0, 96720.0, 35360.0, 60000.0, 30742.4, 77868.0, 85000.0, 77862.0, 170000.0, 29120.0, 50003.2, 28080.0, 100000.0, 77868.0, 77868.0, 96720.0, 33280.0, 33280.0, 110000.0, 101857.6, 40000.0, 100008.0, 29120.0, 29120.0, 174000.0, 72996.0, 160000.0, 114996.0, 27040.0, 150000.0, 117396.0, 37440.0, 31200.0, 82008.0, 35360.0, 24960.0, 174000.0, 108000.0, 26000.0, 73200.0, 39915.2, 77868.0, 70000.0, 228800.0, 135200.0, 144000.0, 145600.0, 166400.0, 180000.0, 70000.0, 85280.0, 208000.0, 55000.0, 110000.0, 176800.0, 140000.0, 49920.0, 38480.0, 135000.0, 160000.0, 68640.0, 41600.0, 120000.0, 150000.0, 145000.0, 64480.0, 116000.0, 145600.0, 108000.0, 93204.8, 64480.0, 250000.0, 270400.0, 100000.0, 70000.0, 110000.0, 150000.0, 140000.0, 150000.0, 170000.0, 113318.4, 51542.4, 250000.0, 225000.0, 250000.0, 225000.0, 200000.0, 280000.0, 70000.0, 83200.0, 100880.0, 100000.0, 45760.0, 87392.0, 110000.0, 133937.0, 60320.0, 110000.0, 88000.0, 44091.0, 56000.0, 100892.0, 24960.0, 51986.0, 47008.0, 86431.0, 166400.0, 140000.0, 51986.0, 51986.0, 83511.0, 31200.0, 25480.0, 41600.0, 39000.0, 37440.0, 33280.0, 75240.0, 95000.0, 124800.0, 37440.0, 208000.0, 95000.0, 53160.0, 41600.0, 135000.0, 115000.0, 70248.0, 93480.0, 29120.0, 124800.0, 77316.0, 70000.0, 49920.0, 80000.0, 130000.0, 22638.0, 24960.0, 120000.0, 55000.0, 37440.0, 46200.0, 75000.0, 120000.0, 96720.0, 135200.0, 105000.0, 33280.0, 145600.0, 32760.0, 130000.0, 56160.0, 36400.0, 44400.0, 31200.0, 39520.0, 42640.0, 35360.0, 100000.0, 136271.0, 136271.0, 104000.0, 52977.6, 50000.0, 43397.0, 119882.0, 29120.0, 166400.0, 35360.0, 45760.0, 29120.0, 29120.0, 27040.0, 70720.0, 50000.0, 118000.0, 143000.0, 197600.0, 72800.0, 134100.0, 32240.0, 47000.0, 95000.0, 33280.0, 33280.0, 33280.0, 62400.0, 145600.0, 120640.0, 124800.0, 124800.0, 42000.0, 64480.0, 26949.0, 135200.0, 50000.0, 45000.0, 110000.0, 70000.0, 22880.0, 125000.0, 140000.0, 160000.0, 37502.4, 165000.0, 150000.0, 150000.0, 150000.0, 48000.0, 187200.0, 33280.0, 31200.0, 64000.0, 64000.0, 140000.0, 45760.0, 31200.0, 166400.0, 101920.0, 75000.0, 120000.0, 33280.0, 200000.0, 208000.0, 100000.0, 125000.0, 114250.0, 55000.0, 80359.0, 90000.0, 31200.0, 134100.0, 90570.0, 160000.0, 60000.0, 33280.0, 26520.0, 39000.0, 173000.0, 70000.0, 52000.0, 139000.0, 185000.0, 134100.0, 173200.0, 55000.0, 190000.0, 34236.8, 92382.0, 55000.0, 55000.0, 152000.0, 152000.0, 120000.0, 85000.0, 120000.0, 131429.0, 131429.0, 33280.0, 33280.0, 33280.0, 34840.0, 123500.0, 123500.0, 123500.0, 123500.0, 123500.0, 123500.0, 123500.0, 123500.0, 123500.0, 123500.0, 40000.0, 62400.0, 104000.0, 214240.0, 41600.0, 144000.0, 37481.6, 71446.0, 55000.0, 58240.0, 125000.0, 109595.2, 82280.0, 120000.0, 79040.0, 153666.0, 70554.0, 33280.0, 90000.0, 35360.0, 147680.0, 91800.0, 60000.0, 120000.0, 135200.0, 110116.0, 160000.0, 160000.0, 35000.0, 58566.0, 50000.0, 70554.0, 86830.0, 33280.0, 33280.0, 47840.0, 31200.0, 40000.0, 104000.0, 86830.0, 31200.0, 65888.0, 118560.0, 70370.0, 130000.0, 100000.0, 93776.0, 180000.0, 52000.0, 228800.0, 145000.0, 45000.0, 145000.0, 145000.0, 70554.0, 78000.0, 37440.0, 38000.0, 87805.0, 35360.0, 39998.4, 110000.0, 88400.0, 80000.0, 124800.0, 75000.0, 80000.0, 103000.0, 31200.0, 98919.0, 66388.0, 130000.0, 63031.0, 66388.0, 130000.0, 63031.0, 66388.0, 130000.0, 63031.0, 66388.0, 130000.0, 63031.0, 66388.0, 130000.0, 63031.0, 66388.0, 130000.0, 63031.0, 66388.0, 130000.0, 63031.0, 66388.0, 130000.0, 63031.0, 66388.0, 130000.0, 63031.0, 66388.0, 130000.0, 63031.0, 66388.0, 130000.0, 63031.0, 66388.0, 130000.0, 63031.0, 66388.0, 130000.0, 63031.0, 66388.0, 130000.0, 63031.0, 66388.0, 130000.0, 63031.0, 66388.0, 130000.0, 63031.0, 66388.0, 130000.0, 63031.0, 66388.0, 130000.0, 63031.0, 66388.0, 130000.0, 63031.0, 66388.0, 130000.0, 63031.0, 66388.0, 130000.0, 63031.0, 66388.0, 130000.0, 63031.0, 66388.0, 130000.0, 63031.0, 66388.0, 130000.0, 63031.0, 66388.0, 130000.0, 63031.0, 66388.0, 130000.0, 63031.0, 66388.0, 130000.0, 63031.0, 66388.0, 130000.0, 63031.0, 66388.0, 130000.0, 63031.0, 66388.0, 130000.0, 63031.0, 66388.0, 130000.0, 63031.0, 66388.0, 130000.0, 63031.0, 133465.0, 170800.0, 85000.0, 200000.0, 41600.0, 31200.0, 37772.8, 135200.0, 170800.0, 170800.0, 31200.0, 29120.0, 133465.0, 122227.0, 203052.0, 55000.0, 114400.0, 120000.0, 70000.0, 179201.0, 133465.0, 228800.0, 120000.0, 52000.0, 47840.0, 187200.0, 61926.0, 114533.0, 150000.0, 165084.0, 128920.0, 103819.0, 125000.0, 128920.0, 133465.0, 166500.0, 70000.0, 160000.0, 33280.0, 115000.0, 152352.0, 176800.0, 120000.0, 90000.0, 125861.0, 124800.0, 43680.0, 49920.0, 75000.0, 45000.0, 60000.0, 60000.0, 73000.0, 124800.0, 187200.0, 106000.0, 106000.0, 80000.0, 70000.0, 135200.0, 75000.0, 83000.0, 69100.0, 70000.0, 69000.0, 69000.0, 150000.0, 121830.0, 35360.0, 164320.0, 70000.0, 130000.0, 60070.4, 31200.0, 62000.0, 55000.0, 156000.0, 75000.0, 140740.0, 166400.0, 27040.0, 93600.0, 43409.6, 114379.2, 80017.6]}],\n",
       "                        {\"autosize\": true, \"legend\": {\"orientation\": \"v\"}, \"paper_bgcolor\": \"rgba(0,0,0,0)\", \"plot_bgcolor\": \"rgba(0,0,0,0)\", \"showlegend\": false, \"template\": {\"data\": {\"bar\": [{\"error_x\": {\"color\": \"#2a3f5f\"}, \"error_y\": {\"color\": \"#2a3f5f\"}, \"marker\": {\"line\": {\"color\": \"#E5ECF6\", \"width\": 0.5}}, \"type\": \"bar\"}], \"barpolar\": [{\"marker\": {\"line\": {\"color\": \"#E5ECF6\", \"width\": 0.5}}, \"type\": \"barpolar\"}], \"carpet\": [{\"aaxis\": {\"endlinecolor\": \"#2a3f5f\", \"gridcolor\": \"white\", \"linecolor\": \"white\", \"minorgridcolor\": \"white\", \"startlinecolor\": \"#2a3f5f\"}, \"baxis\": {\"endlinecolor\": \"#2a3f5f\", \"gridcolor\": \"white\", \"linecolor\": \"white\", \"minorgridcolor\": \"white\", \"startlinecolor\": \"#2a3f5f\"}, \"type\": \"carpet\"}], \"choropleth\": [{\"colorbar\": {\"outlinewidth\": 0, \"ticks\": \"\"}, \"type\": \"choropleth\"}], \"contour\": [{\"colorbar\": {\"outlinewidth\": 0, \"ticks\": \"\"}, \"colorscale\": [[0.0, \"#0d0887\"], [0.1111111111111111, \"#46039f\"], [0.2222222222222222, \"#7201a8\"], [0.3333333333333333, \"#9c179e\"], [0.4444444444444444, \"#bd3786\"], [0.5555555555555556, \"#d8576b\"], [0.6666666666666666, \"#ed7953\"], [0.7777777777777778, \"#fb9f3a\"], [0.8888888888888888, \"#fdca26\"], [1.0, \"#f0f921\"]], \"type\": \"contour\"}], \"contourcarpet\": [{\"colorbar\": {\"outlinewidth\": 0, \"ticks\": \"\"}, \"type\": \"contourcarpet\"}], \"heatmap\": [{\"colorbar\": {\"outlinewidth\": 0, \"ticks\": \"\"}, \"colorscale\": [[0.0, \"#0d0887\"], [0.1111111111111111, \"#46039f\"], [0.2222222222222222, \"#7201a8\"], [0.3333333333333333, \"#9c179e\"], [0.4444444444444444, \"#bd3786\"], [0.5555555555555556, \"#d8576b\"], [0.6666666666666666, \"#ed7953\"], [0.7777777777777778, \"#fb9f3a\"], [0.8888888888888888, \"#fdca26\"], [1.0, \"#f0f921\"]], \"type\": \"heatmap\"}], \"heatmapgl\": [{\"colorbar\": {\"outlinewidth\": 0, \"ticks\": \"\"}, \"colorscale\": [[0.0, \"#0d0887\"], [0.1111111111111111, \"#46039f\"], [0.2222222222222222, \"#7201a8\"], [0.3333333333333333, \"#9c179e\"], [0.4444444444444444, \"#bd3786\"], [0.5555555555555556, \"#d8576b\"], [0.6666666666666666, \"#ed7953\"], [0.7777777777777778, \"#fb9f3a\"], [0.8888888888888888, \"#fdca26\"], [1.0, \"#f0f921\"]], \"type\": \"heatmapgl\"}], \"histogram\": [{\"marker\": {\"colorbar\": {\"outlinewidth\": 0, \"ticks\": \"\"}}, \"type\": \"histogram\"}], \"histogram2d\": [{\"colorbar\": {\"outlinewidth\": 0, \"ticks\": \"\"}, \"colorscale\": [[0.0, \"#0d0887\"], [0.1111111111111111, \"#46039f\"], [0.2222222222222222, \"#7201a8\"], [0.3333333333333333, \"#9c179e\"], [0.4444444444444444, \"#bd3786\"], [0.5555555555555556, \"#d8576b\"], [0.6666666666666666, \"#ed7953\"], [0.7777777777777778, \"#fb9f3a\"], [0.8888888888888888, \"#fdca26\"], [1.0, \"#f0f921\"]], \"type\": \"histogram2d\"}], \"histogram2dcontour\": [{\"colorbar\": {\"outlinewidth\": 0, \"ticks\": \"\"}, \"colorscale\": [[0.0, \"#0d0887\"], [0.1111111111111111, \"#46039f\"], [0.2222222222222222, \"#7201a8\"], [0.3333333333333333, \"#9c179e\"], [0.4444444444444444, \"#bd3786\"], [0.5555555555555556, \"#d8576b\"], [0.6666666666666666, \"#ed7953\"], [0.7777777777777778, \"#fb9f3a\"], [0.8888888888888888, \"#fdca26\"], [1.0, \"#f0f921\"]], \"type\": \"histogram2dcontour\"}], \"mesh3d\": [{\"colorbar\": {\"outlinewidth\": 0, \"ticks\": \"\"}, \"type\": \"mesh3d\"}], \"parcoords\": [{\"line\": {\"colorbar\": {\"outlinewidth\": 0, \"ticks\": \"\"}}, \"type\": \"parcoords\"}], \"pie\": [{\"automargin\": true, \"type\": \"pie\"}], \"scatter\": [{\"marker\": {\"colorbar\": {\"outlinewidth\": 0, \"ticks\": \"\"}}, \"type\": \"scatter\"}], \"scatter3d\": [{\"line\": {\"colorbar\": {\"outlinewidth\": 0, \"ticks\": \"\"}}, \"marker\": {\"colorbar\": {\"outlinewidth\": 0, \"ticks\": \"\"}}, \"type\": \"scatter3d\"}], \"scattercarpet\": [{\"marker\": {\"colorbar\": {\"outlinewidth\": 0, \"ticks\": \"\"}}, \"type\": \"scattercarpet\"}], \"scattergeo\": [{\"marker\": {\"colorbar\": {\"outlinewidth\": 0, \"ticks\": \"\"}}, \"type\": \"scattergeo\"}], \"scattergl\": [{\"marker\": {\"colorbar\": {\"outlinewidth\": 0, \"ticks\": \"\"}}, \"type\": \"scattergl\"}], \"scattermapbox\": [{\"marker\": {\"colorbar\": {\"outlinewidth\": 0, \"ticks\": \"\"}}, \"type\": \"scattermapbox\"}], \"scatterpolar\": [{\"marker\": {\"colorbar\": {\"outlinewidth\": 0, \"ticks\": \"\"}}, \"type\": \"scatterpolar\"}], \"scatterpolargl\": [{\"marker\": {\"colorbar\": {\"outlinewidth\": 0, \"ticks\": \"\"}}, \"type\": \"scatterpolargl\"}], \"scatterternary\": [{\"marker\": {\"colorbar\": {\"outlinewidth\": 0, \"ticks\": \"\"}}, \"type\": \"scatterternary\"}], \"surface\": [{\"colorbar\": {\"outlinewidth\": 0, \"ticks\": \"\"}, \"colorscale\": [[0.0, \"#0d0887\"], [0.1111111111111111, \"#46039f\"], [0.2222222222222222, \"#7201a8\"], [0.3333333333333333, \"#9c179e\"], [0.4444444444444444, \"#bd3786\"], [0.5555555555555556, \"#d8576b\"], [0.6666666666666666, \"#ed7953\"], [0.7777777777777778, \"#fb9f3a\"], [0.8888888888888888, \"#fdca26\"], [1.0, \"#f0f921\"]], \"type\": \"surface\"}], \"table\": [{\"cells\": {\"fill\": {\"color\": \"#EBF0F8\"}, \"line\": {\"color\": \"white\"}}, \"header\": {\"fill\": {\"color\": \"#C8D4E3\"}, \"line\": {\"color\": \"white\"}}, \"type\": \"table\"}]}, \"layout\": {\"annotationdefaults\": {\"arrowcolor\": \"#2a3f5f\", \"arrowhead\": 0, \"arrowwidth\": 1}, \"coloraxis\": {\"colorbar\": {\"outlinewidth\": 0, \"ticks\": \"\"}}, \"colorscale\": {\"diverging\": [[0, \"#8e0152\"], [0.1, \"#c51b7d\"], [0.2, \"#de77ae\"], [0.3, \"#f1b6da\"], [0.4, \"#fde0ef\"], [0.5, \"#f7f7f7\"], [0.6, \"#e6f5d0\"], [0.7, \"#b8e186\"], [0.8, \"#7fbc41\"], [0.9, \"#4d9221\"], [1, \"#276419\"]], \"sequential\": [[0.0, \"#0d0887\"], [0.1111111111111111, \"#46039f\"], [0.2222222222222222, \"#7201a8\"], [0.3333333333333333, \"#9c179e\"], [0.4444444444444444, \"#bd3786\"], [0.5555555555555556, \"#d8576b\"], [0.6666666666666666, \"#ed7953\"], [0.7777777777777778, \"#fb9f3a\"], [0.8888888888888888, \"#fdca26\"], [1.0, \"#f0f921\"]], \"sequentialminus\": [[0.0, \"#0d0887\"], [0.1111111111111111, \"#46039f\"], [0.2222222222222222, \"#7201a8\"], [0.3333333333333333, \"#9c179e\"], [0.4444444444444444, \"#bd3786\"], [0.5555555555555556, \"#d8576b\"], [0.6666666666666666, \"#ed7953\"], [0.7777777777777778, \"#fb9f3a\"], [0.8888888888888888, \"#fdca26\"], [1.0, \"#f0f921\"]]}, \"colorway\": [\"#636efa\", \"#EF553B\", \"#00cc96\", \"#ab63fa\", \"#FFA15A\", \"#19d3f3\", \"#FF6692\", \"#B6E880\", \"#FF97FF\", \"#FECB52\"], \"font\": {\"color\": \"#2a3f5f\"}, \"geo\": {\"bgcolor\": \"white\", \"lakecolor\": \"white\", \"landcolor\": \"#E5ECF6\", \"showlakes\": true, \"showland\": true, \"subunitcolor\": \"white\"}, \"hoverlabel\": {\"align\": \"left\"}, \"hovermode\": \"closest\", \"mapbox\": {\"style\": \"light\"}, \"paper_bgcolor\": \"white\", \"plot_bgcolor\": \"#E5ECF6\", \"polar\": {\"angularaxis\": {\"gridcolor\": \"white\", \"linecolor\": \"white\", \"ticks\": \"\"}, \"bgcolor\": \"#E5ECF6\", \"radialaxis\": {\"gridcolor\": \"white\", \"linecolor\": \"white\", \"ticks\": \"\"}}, \"scene\": {\"xaxis\": {\"backgroundcolor\": \"#E5ECF6\", \"gridcolor\": \"white\", \"gridwidth\": 2, \"linecolor\": \"white\", \"showbackground\": true, \"ticks\": \"\", \"zerolinecolor\": \"white\"}, \"yaxis\": {\"backgroundcolor\": \"#E5ECF6\", \"gridcolor\": \"white\", \"gridwidth\": 2, \"linecolor\": \"white\", \"showbackground\": true, \"ticks\": \"\", \"zerolinecolor\": \"white\"}, \"zaxis\": {\"backgroundcolor\": \"#E5ECF6\", \"gridcolor\": \"white\", \"gridwidth\": 2, \"linecolor\": \"white\", \"showbackground\": true, \"ticks\": \"\", \"zerolinecolor\": \"white\"}}, \"shapedefaults\": {\"line\": {\"color\": \"#2a3f5f\"}}, \"ternary\": {\"aaxis\": {\"gridcolor\": \"white\", \"linecolor\": \"white\", \"ticks\": \"\"}, \"baxis\": {\"gridcolor\": \"white\", \"linecolor\": \"white\", \"ticks\": \"\"}, \"bgcolor\": \"#E5ECF6\", \"caxis\": {\"gridcolor\": \"white\", \"linecolor\": \"white\", \"ticks\": \"\"}}, \"title\": {\"x\": 0.05}, \"xaxis\": {\"automargin\": true, \"gridcolor\": \"white\", \"linecolor\": \"white\", \"ticks\": \"\", \"title\": {\"standoff\": 15}, \"zerolinecolor\": \"white\", \"zerolinewidth\": 2}, \"yaxis\": {\"automargin\": true, \"gridcolor\": \"white\", \"linecolor\": \"white\", \"ticks\": \"\", \"title\": {\"standoff\": 15}, \"zerolinecolor\": \"white\", \"zerolinewidth\": 2}}}, \"title\": {\"text\": \"<b>Annual Maximum Data Job Salaries</b>\"}, \"xaxis\": {\"showgrid\": false}, \"yaxis\": {\"autorange\": true, \"showgrid\": true, \"showline\": false, \"showticklabels\": true, \"ticks\": \"\", \"title\": {\"text\": \"Annual Max Data Salary\"}, \"zeroline\": false}},\n",
       "                        {\"responsive\": true}\n",
       "                    ).then(function(){\n",
       "                            \n",
       "var gd = document.getElementById('4d746bf7-2026-4ff3-b958-9c984f2f6caf');\n",
       "var x = new MutationObserver(function (mutations, observer) {{\n",
       "        var display = window.getComputedStyle(gd).display;\n",
       "        if (!display || display === 'none') {{\n",
       "            console.log([gd, 'removed!']);\n",
       "            Plotly.purge(gd);\n",
       "            observer.disconnect();\n",
       "        }}\n",
       "}});\n",
       "\n",
       "// Listen for the removal of the full notebook cells\n",
       "var notebookContainer = gd.closest('#notebook-container');\n",
       "if (notebookContainer) {{\n",
       "    x.observe(notebookContainer, {childList: true});\n",
       "}}\n",
       "\n",
       "// Listen for the clearing of the current output cell\n",
       "var outputEl = gd.closest('.output');\n",
       "if (outputEl) {{\n",
       "    x.observe(outputEl, {childList: true});\n",
       "}}\n",
       "\n",
       "                        })\n",
       "                };\n",
       "                });\n",
       "            </script>\n",
       "        </div>"
      ]
     },
     "metadata": {},
     "output_type": "display_data"
    }
   ],
   "source": [
    "# visualizing the median and quartile values for minimum and maximum Data Job salaries\n",
    "\n",
    "# minimum\n",
    "trace1 = go.Box(x=jobs_sal_data['updated_city'],\n",
    "                  y=jobs_sal_data['annual_min_salary'], \n",
    "                  name='Annual Minimum Salary for Data Jobs')\n",
    "\n",
    "data = [trace1]\n",
    "\n",
    "layout = dict(title=\"<b>Annual Minimum Data Job Salaries</b>\",\n",
    "              showlegend=False,\n",
    "              legend_orientation=\"v\",\n",
    "              autosize=True,\n",
    "              xaxis=dict(showgrid=False),\n",
    "              yaxis=dict(title=\"Annual Min Data Salary\", \n",
    "                         showgrid=True, \n",
    "                         autorange=True,\n",
    "                         zeroline=False,\n",
    "                         showline=False,\n",
    "                         ticks='',\n",
    "                         showticklabels=True),\n",
    "              plot_bgcolor='rgba(0,0,0,0)',\n",
    "              paper_bgcolor='rgba(0,0,0,0)',\n",
    "          )\n",
    "\n",
    "fig=dict(data=data, layout=layout)\n",
    "iplot(fig)\n",
    "\n",
    "\n",
    "# maximum\n",
    "trace1 = go.Box(x=jobs_sal_data['updated_city'],\n",
    "                  y=jobs_sal_data['annual_max_salary'], \n",
    "                  name='Annual Maximum Salary for Data Jobs')\n",
    "\n",
    "data = [trace1]\n",
    "\n",
    "layout = dict(title=\"<b>Annual Maximum Data Job Salaries</b>\",\n",
    "              showlegend=False,\n",
    "              legend_orientation=\"v\",\n",
    "              autosize=True,\n",
    "              xaxis=dict(showgrid=False),\n",
    "              yaxis=dict(title=\"Annual Max Data Salary\", \n",
    "                         showgrid=True, \n",
    "                         autorange=True,\n",
    "                         zeroline=False,\n",
    "                         showline=False,\n",
    "                         ticks='',\n",
    "                         showticklabels=True),\n",
    "              plot_bgcolor='rgba(0,0,0,0)',\n",
    "              paper_bgcolor='rgba(0,0,0,0)',\n",
    "          )\n",
    "\n",
    "fig=dict(data=data, layout=layout)\n",
    "iplot(fig)"
   ]
  },
  {
   "cell_type": "markdown",
   "metadata": {},
   "source": [
    "<hr>\n",
    "<h4 align=\"center\" style=\"color:black;\"> Analysis: Annual Data Job Salaries </h4>\n",
    "<h4 style=\"color:#666666;\">Source: Indeed API and Web Scraping </h4>\n",
    "This visualization represents the salary range based on the city. For most cities among this data, the max salaries or outliers, are significantly further away from the median than the minimum salaries. A feature of both visualizations is the median salary of a data job in San Francisco is higher. However, this is probably because of the higher living costs in the city themselves.\n",
    "</hr>"
   ]
  },
  {
   "cell_type": "markdown",
   "metadata": {},
   "source": [
    "### Comparing data job salaries to city and state annual median salary"
   ]
  },
  {
   "cell_type": "code",
   "execution_count": 63,
   "metadata": {},
   "outputs": [
    {
     "data": {
      "text/html": [
       "<div>\n",
       "<style scoped>\n",
       "    .dataframe tbody tr th:only-of-type {\n",
       "        vertical-align: middle;\n",
       "    }\n",
       "\n",
       "    .dataframe tbody tr th {\n",
       "        vertical-align: top;\n",
       "    }\n",
       "\n",
       "    .dataframe thead th {\n",
       "        text-align: right;\n",
       "    }\n",
       "</style>\n",
       "<table border=\"1\" class=\"dataframe\">\n",
       "  <thead>\n",
       "    <tr style=\"text-align: right;\">\n",
       "      <th></th>\n",
       "      <th>AREA</th>\n",
       "      <th>ST</th>\n",
       "      <th>CITY_NAME</th>\n",
       "      <th>OCC_TITLE</th>\n",
       "      <th>OCC_GROUP</th>\n",
       "      <th>TOT_EMP</th>\n",
       "      <th>A_MEDIAN</th>\n",
       "    </tr>\n",
       "  </thead>\n",
       "  <tbody>\n",
       "    <tr>\n",
       "      <th>0</th>\n",
       "      <td>6</td>\n",
       "      <td>CA</td>\n",
       "      <td>San Francisco</td>\n",
       "      <td>All Occupations</td>\n",
       "      <td>total</td>\n",
       "      <td>17,007,690</td>\n",
       "      <td>42,430</td>\n",
       "    </tr>\n",
       "    <tr>\n",
       "      <th>1</th>\n",
       "      <td>8</td>\n",
       "      <td>CO</td>\n",
       "      <td>Denver</td>\n",
       "      <td>All Occupations</td>\n",
       "      <td>total</td>\n",
       "      <td>2,620,640</td>\n",
       "      <td>42,310</td>\n",
       "    </tr>\n",
       "    <tr>\n",
       "      <th>2</th>\n",
       "      <td>11</td>\n",
       "      <td>DC</td>\n",
       "      <td>Washington D.C.</td>\n",
       "      <td>All Occupations</td>\n",
       "      <td>total</td>\n",
       "      <td>712,370</td>\n",
       "      <td>71,690</td>\n",
       "    </tr>\n",
       "    <tr>\n",
       "      <th>3</th>\n",
       "      <td>13</td>\n",
       "      <td>GA</td>\n",
       "      <td>Atlanta</td>\n",
       "      <td>All Occupations</td>\n",
       "      <td>total</td>\n",
       "      <td>4,394,740</td>\n",
       "      <td>35,950</td>\n",
       "    </tr>\n",
       "    <tr>\n",
       "      <th>4</th>\n",
       "      <td>25</td>\n",
       "      <td>MA</td>\n",
       "      <td>Boston</td>\n",
       "      <td>All Occupations</td>\n",
       "      <td>total</td>\n",
       "      <td>3,571,360</td>\n",
       "      <td>48,680</td>\n",
       "    </tr>\n",
       "    <tr>\n",
       "      <th>5</th>\n",
       "      <td>36</td>\n",
       "      <td>NY</td>\n",
       "      <td>New York</td>\n",
       "      <td>All Occupations</td>\n",
       "      <td>total</td>\n",
       "      <td>9,385,620</td>\n",
       "      <td>44,990</td>\n",
       "    </tr>\n",
       "    <tr>\n",
       "      <th>6</th>\n",
       "      <td>37</td>\n",
       "      <td>NC</td>\n",
       "      <td>Raleigh</td>\n",
       "      <td>All Occupations</td>\n",
       "      <td>total</td>\n",
       "      <td>4,383,210</td>\n",
       "      <td>35,750</td>\n",
       "    </tr>\n",
       "    <tr>\n",
       "      <th>7</th>\n",
       "      <td>39</td>\n",
       "      <td>OH</td>\n",
       "      <td>Columbus</td>\n",
       "      <td>All Occupations</td>\n",
       "      <td>total</td>\n",
       "      <td>5,416,810</td>\n",
       "      <td>37,360</td>\n",
       "    </tr>\n",
       "    <tr>\n",
       "      <th>8</th>\n",
       "      <td>48</td>\n",
       "      <td>TX</td>\n",
       "      <td>Austin</td>\n",
       "      <td>All Occupations</td>\n",
       "      <td>total</td>\n",
       "      <td>12,113,810</td>\n",
       "      <td>37,100</td>\n",
       "    </tr>\n",
       "    <tr>\n",
       "      <th>9</th>\n",
       "      <td>53</td>\n",
       "      <td>WA</td>\n",
       "      <td>Seattle</td>\n",
       "      <td>All Occupations</td>\n",
       "      <td>total</td>\n",
       "      <td>3,259,150</td>\n",
       "      <td>46,100</td>\n",
       "    </tr>\n",
       "  </tbody>\n",
       "</table>\n",
       "</div>"
      ],
      "text/plain": [
       "   AREA  ST        CITY_NAME        OCC_TITLE OCC_GROUP     TOT_EMP A_MEDIAN\n",
       "0     6  CA    San Francisco  All Occupations     total  17,007,690   42,430\n",
       "1     8  CO           Denver  All Occupations     total   2,620,640   42,310\n",
       "2    11  DC  Washington D.C.  All Occupations     total     712,370   71,690\n",
       "3    13  GA          Atlanta  All Occupations     total   4,394,740   35,950\n",
       "4    25  MA           Boston  All Occupations     total   3,571,360   48,680\n",
       "5    36  NY         New York  All Occupations     total   9,385,620   44,990\n",
       "6    37  NC          Raleigh  All Occupations     total   4,383,210   35,750\n",
       "7    39  OH         Columbus  All Occupations     total   5,416,810   37,360\n",
       "8    48  TX           Austin  All Occupations     total  12,113,810   37,100\n",
       "9    53  WA          Seattle  All Occupations     total   3,259,150   46,100"
      ]
     },
     "execution_count": 63,
     "metadata": {},
     "output_type": "execute_result"
    }
   ],
   "source": [
    "state_median_sal"
   ]
  },
  {
   "cell_type": "code",
   "execution_count": 64,
   "metadata": {},
   "outputs": [
    {
     "data": {
      "text/html": [
       "<div>\n",
       "<style scoped>\n",
       "    .dataframe tbody tr th:only-of-type {\n",
       "        vertical-align: middle;\n",
       "    }\n",
       "\n",
       "    .dataframe tbody tr th {\n",
       "        vertical-align: top;\n",
       "    }\n",
       "\n",
       "    .dataframe thead th {\n",
       "        text-align: right;\n",
       "    }\n",
       "</style>\n",
       "<table border=\"1\" class=\"dataframe\">\n",
       "  <thead>\n",
       "    <tr style=\"text-align: right;\">\n",
       "      <th></th>\n",
       "      <th>PRIM_STATE</th>\n",
       "      <th>CITY_NAME</th>\n",
       "      <th>OCC_TITLE</th>\n",
       "      <th>OCC_GROUP</th>\n",
       "      <th>TOT_EMP</th>\n",
       "      <th>A_MEDIAN</th>\n",
       "    </tr>\n",
       "  </thead>\n",
       "  <tbody>\n",
       "    <tr>\n",
       "      <th>0</th>\n",
       "      <td>CA</td>\n",
       "      <td>San Francisco</td>\n",
       "      <td>All Occupations</td>\n",
       "      <td>total</td>\n",
       "      <td>2,419,090</td>\n",
       "      <td>54,090</td>\n",
       "    </tr>\n",
       "    <tr>\n",
       "      <th>1</th>\n",
       "      <td>CO</td>\n",
       "      <td>Denver</td>\n",
       "      <td>All Occupations</td>\n",
       "      <td>total</td>\n",
       "      <td>1,478,110</td>\n",
       "      <td>45,420</td>\n",
       "    </tr>\n",
       "    <tr>\n",
       "      <th>2</th>\n",
       "      <td>DC</td>\n",
       "      <td>Washington D.C.</td>\n",
       "      <td>All Occupations</td>\n",
       "      <td>total</td>\n",
       "      <td>3,135,160</td>\n",
       "      <td>54,680</td>\n",
       "    </tr>\n",
       "    <tr>\n",
       "      <th>3</th>\n",
       "      <td>GA</td>\n",
       "      <td>Atlanta</td>\n",
       "      <td>All Occupations</td>\n",
       "      <td>total</td>\n",
       "      <td>2,682,910</td>\n",
       "      <td>39,080</td>\n",
       "    </tr>\n",
       "    <tr>\n",
       "      <th>4</th>\n",
       "      <td>MA</td>\n",
       "      <td>Boston</td>\n",
       "      <td>All Occupations</td>\n",
       "      <td>total</td>\n",
       "      <td>2,758,780</td>\n",
       "      <td>51,510</td>\n",
       "    </tr>\n",
       "    <tr>\n",
       "      <th>5</th>\n",
       "      <td>NC</td>\n",
       "      <td>Raleigh</td>\n",
       "      <td>All Occupations</td>\n",
       "      <td>total</td>\n",
       "      <td>629,570</td>\n",
       "      <td>39,460</td>\n",
       "    </tr>\n",
       "    <tr>\n",
       "      <th>6</th>\n",
       "      <td>NY</td>\n",
       "      <td>New York</td>\n",
       "      <td>All Occupations</td>\n",
       "      <td>total</td>\n",
       "      <td>9,498,420</td>\n",
       "      <td>47,080</td>\n",
       "    </tr>\n",
       "    <tr>\n",
       "      <th>7</th>\n",
       "      <td>OH</td>\n",
       "      <td>Columbus</td>\n",
       "      <td>All Occupations</td>\n",
       "      <td>total</td>\n",
       "      <td>1,051,570</td>\n",
       "      <td>39,300</td>\n",
       "    </tr>\n",
       "    <tr>\n",
       "      <th>8</th>\n",
       "      <td>TX</td>\n",
       "      <td>Austin</td>\n",
       "      <td>All Occupations</td>\n",
       "      <td>total</td>\n",
       "      <td>1,028,500</td>\n",
       "      <td>40,070</td>\n",
       "    </tr>\n",
       "    <tr>\n",
       "      <th>9</th>\n",
       "      <td>WA</td>\n",
       "      <td>Seattle</td>\n",
       "      <td>All Occupations</td>\n",
       "      <td>total</td>\n",
       "      <td>1,984,320</td>\n",
       "      <td>50,860</td>\n",
       "    </tr>\n",
       "  </tbody>\n",
       "</table>\n",
       "</div>"
      ],
      "text/plain": [
       "  PRIM_STATE        CITY_NAME        OCC_TITLE OCC_GROUP    TOT_EMP A_MEDIAN\n",
       "0         CA    San Francisco  All Occupations     total  2,419,090   54,090\n",
       "1         CO           Denver  All Occupations     total  1,478,110   45,420\n",
       "2         DC  Washington D.C.  All Occupations     total  3,135,160   54,680\n",
       "3         GA          Atlanta  All Occupations     total  2,682,910   39,080\n",
       "4         MA           Boston  All Occupations     total  2,758,780   51,510\n",
       "5         NC          Raleigh  All Occupations     total    629,570   39,460\n",
       "6         NY         New York  All Occupations     total  9,498,420   47,080\n",
       "7         OH         Columbus  All Occupations     total  1,051,570   39,300\n",
       "8         TX           Austin  All Occupations     total  1,028,500   40,070\n",
       "9         WA          Seattle  All Occupations     total  1,984,320   50,860"
      ]
     },
     "execution_count": 64,
     "metadata": {},
     "output_type": "execute_result"
    }
   ],
   "source": [
    "city_median_sal"
   ]
  },
  {
   "cell_type": "code",
   "execution_count": 65,
   "metadata": {},
   "outputs": [
    {
     "data": {
      "text/html": [
       "<div>\n",
       "<style scoped>\n",
       "    .dataframe tbody tr th:only-of-type {\n",
       "        vertical-align: middle;\n",
       "    }\n",
       "\n",
       "    .dataframe tbody tr th {\n",
       "        vertical-align: top;\n",
       "    }\n",
       "\n",
       "    .dataframe thead th {\n",
       "        text-align: right;\n",
       "    }\n",
       "</style>\n",
       "<table border=\"1\" class=\"dataframe\">\n",
       "  <thead>\n",
       "    <tr style=\"text-align: right;\">\n",
       "      <th></th>\n",
       "      <th>updated_city</th>\n",
       "      <th>annual_min_median</th>\n",
       "      <th>annual_max_median</th>\n",
       "    </tr>\n",
       "  </thead>\n",
       "  <tbody>\n",
       "    <tr>\n",
       "      <th>0</th>\n",
       "      <td>Atlanta</td>\n",
       "      <td>80000.0</td>\n",
       "      <td>110000.0</td>\n",
       "    </tr>\n",
       "    <tr>\n",
       "      <th>1</th>\n",
       "      <td>Austin</td>\n",
       "      <td>59004.0</td>\n",
       "      <td>73200.0</td>\n",
       "    </tr>\n",
       "    <tr>\n",
       "      <th>2</th>\n",
       "      <td>Boston</td>\n",
       "      <td>75000.0</td>\n",
       "      <td>120000.0</td>\n",
       "    </tr>\n",
       "    <tr>\n",
       "      <th>3</th>\n",
       "      <td>Columbus</td>\n",
       "      <td>65780.0</td>\n",
       "      <td>77508.8</td>\n",
       "    </tr>\n",
       "    <tr>\n",
       "      <th>4</th>\n",
       "      <td>Denver</td>\n",
       "      <td>63858.0</td>\n",
       "      <td>72624.0</td>\n",
       "    </tr>\n",
       "    <tr>\n",
       "      <th>5</th>\n",
       "      <td>New York</td>\n",
       "      <td>62862.0</td>\n",
       "      <td>66388.0</td>\n",
       "    </tr>\n",
       "    <tr>\n",
       "      <th>6</th>\n",
       "      <td>Raleigh</td>\n",
       "      <td>49000.0</td>\n",
       "      <td>60320.0</td>\n",
       "    </tr>\n",
       "    <tr>\n",
       "      <th>7</th>\n",
       "      <td>San Francisco</td>\n",
       "      <td>100000.0</td>\n",
       "      <td>135100.0</td>\n",
       "    </tr>\n",
       "    <tr>\n",
       "      <th>8</th>\n",
       "      <td>Seattle</td>\n",
       "      <td>44400.0</td>\n",
       "      <td>50000.0</td>\n",
       "    </tr>\n",
       "    <tr>\n",
       "      <th>9</th>\n",
       "      <td>Washington D.C.</td>\n",
       "      <td>75516.0</td>\n",
       "      <td>114533.0</td>\n",
       "    </tr>\n",
       "  </tbody>\n",
       "</table>\n",
       "</div>"
      ],
      "text/plain": [
       "      updated_city  annual_min_median  annual_max_median\n",
       "0          Atlanta            80000.0           110000.0\n",
       "1           Austin            59004.0            73200.0\n",
       "2           Boston            75000.0           120000.0\n",
       "3         Columbus            65780.0            77508.8\n",
       "4           Denver            63858.0            72624.0\n",
       "5         New York            62862.0            66388.0\n",
       "6          Raleigh            49000.0            60320.0\n",
       "7    San Francisco           100000.0           135100.0\n",
       "8          Seattle            44400.0            50000.0\n",
       "9  Washington D.C.            75516.0           114533.0"
      ]
     },
     "execution_count": 65,
     "metadata": {},
     "output_type": "execute_result"
    }
   ],
   "source": [
    "data_jobs_median_sal"
   ]
  },
  {
   "cell_type": "code",
   "execution_count": 66,
   "metadata": {},
   "outputs": [
    {
     "data": {
      "application/vnd.plotly.v1+json": {
       "config": {
        "linkText": "Export to plot.ly",
        "plotlyServerURL": "https://plot.ly",
        "showLink": false
       },
       "data": [
        {
         "marker": {
          "color": "rgb(211,211,211)",
          "line": {
           "color": "rgb(211,211,211)"
          }
         },
         "name": "City Median Salary",
         "type": "bar",
         "x": [
          "San Francisco",
          "Denver",
          "Washington D.C.",
          "Atlanta",
          "Boston",
          "Raleigh",
          "New York",
          "Columbus",
          "Austin",
          "Seattle"
         ],
         "y": [
          "54,090",
          "45,420",
          "54,680",
          "39,080",
          "51,510",
          "39,460",
          "47,080",
          "39,300",
          "40,070",
          "50,860"
         ]
        },
        {
         "marker": {
          "color": "rgb(95,158,160)",
          "line": {
           "color": "rgb(95,158,160)"
          }
         },
         "name": "State Median Salary",
         "type": "bar",
         "x": [
          "San Francisco",
          "Denver",
          "Washington D.C.",
          "Atlanta",
          "Boston",
          "New York",
          "Raleigh",
          "Columbus",
          "Austin",
          "Seattle"
         ],
         "y": [
          "42,430",
          "42,310",
          "71,690",
          "35,950",
          "48,680",
          "44,990",
          "35,750",
          "37,360",
          "37,100",
          "46,100"
         ]
        },
        {
         "marker": {
          "color": "rgb(147,112,219)",
          "line": {
           "color": "rgb(75,0,130)"
          }
         },
         "name": "Data Jobs Minimum Median Salary",
         "type": "bar",
         "x": [
          "Atlanta",
          "Austin",
          "Boston",
          "Columbus",
          "Denver",
          "New York",
          "Raleigh",
          "San Francisco",
          "Seattle",
          "Washington D.C."
         ],
         "y": [
          80000,
          59004,
          75000,
          65780,
          63858,
          62862,
          49000,
          100000,
          44400,
          75516
         ]
        },
        {
         "marker": {
          "color": "rgb(75,0,130)",
          "line": {
           "color": "rgb(75,0,130)"
          }
         },
         "name": "Data Jobs Maximum Median Salary",
         "type": "bar",
         "x": [
          "Atlanta",
          "Austin",
          "Boston",
          "Columbus",
          "Denver",
          "New York",
          "Raleigh",
          "San Francisco",
          "Seattle",
          "Washington D.C."
         ],
         "y": [
          110000,
          73200,
          120000,
          77508.8,
          72624,
          66388,
          60320,
          135100,
          50000,
          114533
         ]
        }
       ],
       "layout": {
        "autosize": true,
        "height": 600,
        "legend": {
         "orientation": "h"
        },
        "paper_bgcolor": "rgba(0,0,0,0)",
        "plot_bgcolor": "rgba(0,0,0)",
        "showlegend": true,
        "template": {
         "data": {
          "bar": [
           {
            "error_x": {
             "color": "#2a3f5f"
            },
            "error_y": {
             "color": "#2a3f5f"
            },
            "marker": {
             "line": {
              "color": "#E5ECF6",
              "width": 0.5
             }
            },
            "type": "bar"
           }
          ],
          "barpolar": [
           {
            "marker": {
             "line": {
              "color": "#E5ECF6",
              "width": 0.5
             }
            },
            "type": "barpolar"
           }
          ],
          "carpet": [
           {
            "aaxis": {
             "endlinecolor": "#2a3f5f",
             "gridcolor": "white",
             "linecolor": "white",
             "minorgridcolor": "white",
             "startlinecolor": "#2a3f5f"
            },
            "baxis": {
             "endlinecolor": "#2a3f5f",
             "gridcolor": "white",
             "linecolor": "white",
             "minorgridcolor": "white",
             "startlinecolor": "#2a3f5f"
            },
            "type": "carpet"
           }
          ],
          "choropleth": [
           {
            "colorbar": {
             "outlinewidth": 0,
             "ticks": ""
            },
            "type": "choropleth"
           }
          ],
          "contour": [
           {
            "colorbar": {
             "outlinewidth": 0,
             "ticks": ""
            },
            "colorscale": [
             [
              0,
              "#0d0887"
             ],
             [
              0.1111111111111111,
              "#46039f"
             ],
             [
              0.2222222222222222,
              "#7201a8"
             ],
             [
              0.3333333333333333,
              "#9c179e"
             ],
             [
              0.4444444444444444,
              "#bd3786"
             ],
             [
              0.5555555555555556,
              "#d8576b"
             ],
             [
              0.6666666666666666,
              "#ed7953"
             ],
             [
              0.7777777777777778,
              "#fb9f3a"
             ],
             [
              0.8888888888888888,
              "#fdca26"
             ],
             [
              1,
              "#f0f921"
             ]
            ],
            "type": "contour"
           }
          ],
          "contourcarpet": [
           {
            "colorbar": {
             "outlinewidth": 0,
             "ticks": ""
            },
            "type": "contourcarpet"
           }
          ],
          "heatmap": [
           {
            "colorbar": {
             "outlinewidth": 0,
             "ticks": ""
            },
            "colorscale": [
             [
              0,
              "#0d0887"
             ],
             [
              0.1111111111111111,
              "#46039f"
             ],
             [
              0.2222222222222222,
              "#7201a8"
             ],
             [
              0.3333333333333333,
              "#9c179e"
             ],
             [
              0.4444444444444444,
              "#bd3786"
             ],
             [
              0.5555555555555556,
              "#d8576b"
             ],
             [
              0.6666666666666666,
              "#ed7953"
             ],
             [
              0.7777777777777778,
              "#fb9f3a"
             ],
             [
              0.8888888888888888,
              "#fdca26"
             ],
             [
              1,
              "#f0f921"
             ]
            ],
            "type": "heatmap"
           }
          ],
          "heatmapgl": [
           {
            "colorbar": {
             "outlinewidth": 0,
             "ticks": ""
            },
            "colorscale": [
             [
              0,
              "#0d0887"
             ],
             [
              0.1111111111111111,
              "#46039f"
             ],
             [
              0.2222222222222222,
              "#7201a8"
             ],
             [
              0.3333333333333333,
              "#9c179e"
             ],
             [
              0.4444444444444444,
              "#bd3786"
             ],
             [
              0.5555555555555556,
              "#d8576b"
             ],
             [
              0.6666666666666666,
              "#ed7953"
             ],
             [
              0.7777777777777778,
              "#fb9f3a"
             ],
             [
              0.8888888888888888,
              "#fdca26"
             ],
             [
              1,
              "#f0f921"
             ]
            ],
            "type": "heatmapgl"
           }
          ],
          "histogram": [
           {
            "marker": {
             "colorbar": {
              "outlinewidth": 0,
              "ticks": ""
             }
            },
            "type": "histogram"
           }
          ],
          "histogram2d": [
           {
            "colorbar": {
             "outlinewidth": 0,
             "ticks": ""
            },
            "colorscale": [
             [
              0,
              "#0d0887"
             ],
             [
              0.1111111111111111,
              "#46039f"
             ],
             [
              0.2222222222222222,
              "#7201a8"
             ],
             [
              0.3333333333333333,
              "#9c179e"
             ],
             [
              0.4444444444444444,
              "#bd3786"
             ],
             [
              0.5555555555555556,
              "#d8576b"
             ],
             [
              0.6666666666666666,
              "#ed7953"
             ],
             [
              0.7777777777777778,
              "#fb9f3a"
             ],
             [
              0.8888888888888888,
              "#fdca26"
             ],
             [
              1,
              "#f0f921"
             ]
            ],
            "type": "histogram2d"
           }
          ],
          "histogram2dcontour": [
           {
            "colorbar": {
             "outlinewidth": 0,
             "ticks": ""
            },
            "colorscale": [
             [
              0,
              "#0d0887"
             ],
             [
              0.1111111111111111,
              "#46039f"
             ],
             [
              0.2222222222222222,
              "#7201a8"
             ],
             [
              0.3333333333333333,
              "#9c179e"
             ],
             [
              0.4444444444444444,
              "#bd3786"
             ],
             [
              0.5555555555555556,
              "#d8576b"
             ],
             [
              0.6666666666666666,
              "#ed7953"
             ],
             [
              0.7777777777777778,
              "#fb9f3a"
             ],
             [
              0.8888888888888888,
              "#fdca26"
             ],
             [
              1,
              "#f0f921"
             ]
            ],
            "type": "histogram2dcontour"
           }
          ],
          "mesh3d": [
           {
            "colorbar": {
             "outlinewidth": 0,
             "ticks": ""
            },
            "type": "mesh3d"
           }
          ],
          "parcoords": [
           {
            "line": {
             "colorbar": {
              "outlinewidth": 0,
              "ticks": ""
             }
            },
            "type": "parcoords"
           }
          ],
          "pie": [
           {
            "automargin": true,
            "type": "pie"
           }
          ],
          "scatter": [
           {
            "marker": {
             "colorbar": {
              "outlinewidth": 0,
              "ticks": ""
             }
            },
            "type": "scatter"
           }
          ],
          "scatter3d": [
           {
            "line": {
             "colorbar": {
              "outlinewidth": 0,
              "ticks": ""
             }
            },
            "marker": {
             "colorbar": {
              "outlinewidth": 0,
              "ticks": ""
             }
            },
            "type": "scatter3d"
           }
          ],
          "scattercarpet": [
           {
            "marker": {
             "colorbar": {
              "outlinewidth": 0,
              "ticks": ""
             }
            },
            "type": "scattercarpet"
           }
          ],
          "scattergeo": [
           {
            "marker": {
             "colorbar": {
              "outlinewidth": 0,
              "ticks": ""
             }
            },
            "type": "scattergeo"
           }
          ],
          "scattergl": [
           {
            "marker": {
             "colorbar": {
              "outlinewidth": 0,
              "ticks": ""
             }
            },
            "type": "scattergl"
           }
          ],
          "scattermapbox": [
           {
            "marker": {
             "colorbar": {
              "outlinewidth": 0,
              "ticks": ""
             }
            },
            "type": "scattermapbox"
           }
          ],
          "scatterpolar": [
           {
            "marker": {
             "colorbar": {
              "outlinewidth": 0,
              "ticks": ""
             }
            },
            "type": "scatterpolar"
           }
          ],
          "scatterpolargl": [
           {
            "marker": {
             "colorbar": {
              "outlinewidth": 0,
              "ticks": ""
             }
            },
            "type": "scatterpolargl"
           }
          ],
          "scatterternary": [
           {
            "marker": {
             "colorbar": {
              "outlinewidth": 0,
              "ticks": ""
             }
            },
            "type": "scatterternary"
           }
          ],
          "surface": [
           {
            "colorbar": {
             "outlinewidth": 0,
             "ticks": ""
            },
            "colorscale": [
             [
              0,
              "#0d0887"
             ],
             [
              0.1111111111111111,
              "#46039f"
             ],
             [
              0.2222222222222222,
              "#7201a8"
             ],
             [
              0.3333333333333333,
              "#9c179e"
             ],
             [
              0.4444444444444444,
              "#bd3786"
             ],
             [
              0.5555555555555556,
              "#d8576b"
             ],
             [
              0.6666666666666666,
              "#ed7953"
             ],
             [
              0.7777777777777778,
              "#fb9f3a"
             ],
             [
              0.8888888888888888,
              "#fdca26"
             ],
             [
              1,
              "#f0f921"
             ]
            ],
            "type": "surface"
           }
          ],
          "table": [
           {
            "cells": {
             "fill": {
              "color": "#EBF0F8"
             },
             "line": {
              "color": "white"
             }
            },
            "header": {
             "fill": {
              "color": "#C8D4E3"
             },
             "line": {
              "color": "white"
             }
            },
            "type": "table"
           }
          ]
         },
         "layout": {
          "annotationdefaults": {
           "arrowcolor": "#2a3f5f",
           "arrowhead": 0,
           "arrowwidth": 1
          },
          "coloraxis": {
           "colorbar": {
            "outlinewidth": 0,
            "ticks": ""
           }
          },
          "colorscale": {
           "diverging": [
            [
             0,
             "#8e0152"
            ],
            [
             0.1,
             "#c51b7d"
            ],
            [
             0.2,
             "#de77ae"
            ],
            [
             0.3,
             "#f1b6da"
            ],
            [
             0.4,
             "#fde0ef"
            ],
            [
             0.5,
             "#f7f7f7"
            ],
            [
             0.6,
             "#e6f5d0"
            ],
            [
             0.7,
             "#b8e186"
            ],
            [
             0.8,
             "#7fbc41"
            ],
            [
             0.9,
             "#4d9221"
            ],
            [
             1,
             "#276419"
            ]
           ],
           "sequential": [
            [
             0,
             "#0d0887"
            ],
            [
             0.1111111111111111,
             "#46039f"
            ],
            [
             0.2222222222222222,
             "#7201a8"
            ],
            [
             0.3333333333333333,
             "#9c179e"
            ],
            [
             0.4444444444444444,
             "#bd3786"
            ],
            [
             0.5555555555555556,
             "#d8576b"
            ],
            [
             0.6666666666666666,
             "#ed7953"
            ],
            [
             0.7777777777777778,
             "#fb9f3a"
            ],
            [
             0.8888888888888888,
             "#fdca26"
            ],
            [
             1,
             "#f0f921"
            ]
           ],
           "sequentialminus": [
            [
             0,
             "#0d0887"
            ],
            [
             0.1111111111111111,
             "#46039f"
            ],
            [
             0.2222222222222222,
             "#7201a8"
            ],
            [
             0.3333333333333333,
             "#9c179e"
            ],
            [
             0.4444444444444444,
             "#bd3786"
            ],
            [
             0.5555555555555556,
             "#d8576b"
            ],
            [
             0.6666666666666666,
             "#ed7953"
            ],
            [
             0.7777777777777778,
             "#fb9f3a"
            ],
            [
             0.8888888888888888,
             "#fdca26"
            ],
            [
             1,
             "#f0f921"
            ]
           ]
          },
          "colorway": [
           "#636efa",
           "#EF553B",
           "#00cc96",
           "#ab63fa",
           "#FFA15A",
           "#19d3f3",
           "#FF6692",
           "#B6E880",
           "#FF97FF",
           "#FECB52"
          ],
          "font": {
           "color": "#2a3f5f"
          },
          "geo": {
           "bgcolor": "white",
           "lakecolor": "white",
           "landcolor": "#E5ECF6",
           "showlakes": true,
           "showland": true,
           "subunitcolor": "white"
          },
          "hoverlabel": {
           "align": "left"
          },
          "hovermode": "closest",
          "mapbox": {
           "style": "light"
          },
          "paper_bgcolor": "white",
          "plot_bgcolor": "#E5ECF6",
          "polar": {
           "angularaxis": {
            "gridcolor": "white",
            "linecolor": "white",
            "ticks": ""
           },
           "bgcolor": "#E5ECF6",
           "radialaxis": {
            "gridcolor": "white",
            "linecolor": "white",
            "ticks": ""
           }
          },
          "scene": {
           "xaxis": {
            "backgroundcolor": "#E5ECF6",
            "gridcolor": "white",
            "gridwidth": 2,
            "linecolor": "white",
            "showbackground": true,
            "ticks": "",
            "zerolinecolor": "white"
           },
           "yaxis": {
            "backgroundcolor": "#E5ECF6",
            "gridcolor": "white",
            "gridwidth": 2,
            "linecolor": "white",
            "showbackground": true,
            "ticks": "",
            "zerolinecolor": "white"
           },
           "zaxis": {
            "backgroundcolor": "#E5ECF6",
            "gridcolor": "white",
            "gridwidth": 2,
            "linecolor": "white",
            "showbackground": true,
            "ticks": "",
            "zerolinecolor": "white"
           }
          },
          "shapedefaults": {
           "line": {
            "color": "#2a3f5f"
           }
          },
          "ternary": {
           "aaxis": {
            "gridcolor": "white",
            "linecolor": "white",
            "ticks": ""
           },
           "baxis": {
            "gridcolor": "white",
            "linecolor": "white",
            "ticks": ""
           },
           "bgcolor": "#E5ECF6",
           "caxis": {
            "gridcolor": "white",
            "linecolor": "white",
            "ticks": ""
           }
          },
          "title": {
           "x": 0.05
          },
          "xaxis": {
           "automargin": true,
           "gridcolor": "white",
           "linecolor": "white",
           "ticks": "",
           "title": {
            "standoff": 15
           },
           "zerolinecolor": "white",
           "zerolinewidth": 2
          },
          "yaxis": {
           "automargin": true,
           "gridcolor": "white",
           "linecolor": "white",
           "ticks": "",
           "title": {
            "standoff": 15
           },
           "zerolinecolor": "white",
           "zerolinewidth": 2
          }
         }
        },
        "title": {
         "text": "<b>Annual Median Wages Comparison: Data Job Wages vs City Wages vs State Wages</b>"
        },
        "width": 1000,
        "xaxis": {
         "showgrid": false
        },
        "yaxis": {
         "autorange": true,
         "showgrid": true,
         "showline": false,
         "showticklabels": true,
         "ticks": "",
         "title": {
          "text": "Annual Median Wage"
         },
         "zeroline": false
        }
       }
      },
      "text/html": [
       "<div>\n",
       "        \n",
       "        \n",
       "            <div id=\"d2256ee5-2af8-48cd-b7ec-0165f9daadd5\" class=\"plotly-graph-div\" style=\"height:600px; width:1000px;\"></div>\n",
       "            <script type=\"text/javascript\">\n",
       "                require([\"plotly\"], function(Plotly) {\n",
       "                    window.PLOTLYENV=window.PLOTLYENV || {};\n",
       "                    \n",
       "                if (document.getElementById(\"d2256ee5-2af8-48cd-b7ec-0165f9daadd5\")) {\n",
       "                    Plotly.newPlot(\n",
       "                        'd2256ee5-2af8-48cd-b7ec-0165f9daadd5',\n",
       "                        [{\"marker\": {\"color\": \"rgb(211,211,211)\", \"line\": {\"color\": \"rgb(211,211,211)\"}}, \"name\": \"City Median Salary\", \"type\": \"bar\", \"x\": [\"San Francisco\", \"Denver\", \"Washington D.C.\", \"Atlanta\", \"Boston\", \"Raleigh\", \"New York\", \"Columbus\", \"Austin\", \"Seattle\"], \"y\": [\"54,090\", \"45,420\", \"54,680\", \"39,080\", \"51,510\", \"39,460\", \"47,080\", \"39,300\", \"40,070\", \"50,860\"]}, {\"marker\": {\"color\": \"rgb(95,158,160)\", \"line\": {\"color\": \"rgb(95,158,160)\"}}, \"name\": \"State Median Salary\", \"type\": \"bar\", \"x\": [\"San Francisco\", \"Denver\", \"Washington D.C.\", \"Atlanta\", \"Boston\", \"New York\", \"Raleigh\", \"Columbus\", \"Austin\", \"Seattle\"], \"y\": [\"42,430\", \"42,310\", \"71,690\", \"35,950\", \"48,680\", \"44,990\", \"35,750\", \"37,360\", \"37,100\", \"46,100\"]}, {\"marker\": {\"color\": \"rgb(147,112,219)\", \"line\": {\"color\": \"rgb(75,0,130)\"}}, \"name\": \"Data Jobs Minimum Median Salary\", \"type\": \"bar\", \"x\": [\"Atlanta\", \"Austin\", \"Boston\", \"Columbus\", \"Denver\", \"New York\", \"Raleigh\", \"San Francisco\", \"Seattle\", \"Washington D.C.\"], \"y\": [80000.0, 59004.0, 75000.0, 65780.0, 63858.0, 62862.0, 49000.0, 100000.0, 44400.0, 75516.0]}, {\"marker\": {\"color\": \"rgb(75,0,130)\", \"line\": {\"color\": \"rgb(75,0,130)\"}}, \"name\": \"Data Jobs Maximum Median Salary\", \"type\": \"bar\", \"x\": [\"Atlanta\", \"Austin\", \"Boston\", \"Columbus\", \"Denver\", \"New York\", \"Raleigh\", \"San Francisco\", \"Seattle\", \"Washington D.C.\"], \"y\": [110000.0, 73200.0, 120000.0, 77508.8, 72624.0, 66388.0, 60320.0, 135100.0, 50000.0, 114533.0]}],\n",
       "                        {\"autosize\": true, \"height\": 600, \"legend\": {\"orientation\": \"h\"}, \"paper_bgcolor\": \"rgba(0,0,0,0)\", \"plot_bgcolor\": \"rgba(0,0,0)\", \"showlegend\": true, \"template\": {\"data\": {\"bar\": [{\"error_x\": {\"color\": \"#2a3f5f\"}, \"error_y\": {\"color\": \"#2a3f5f\"}, \"marker\": {\"line\": {\"color\": \"#E5ECF6\", \"width\": 0.5}}, \"type\": \"bar\"}], \"barpolar\": [{\"marker\": {\"line\": {\"color\": \"#E5ECF6\", \"width\": 0.5}}, \"type\": \"barpolar\"}], \"carpet\": [{\"aaxis\": {\"endlinecolor\": \"#2a3f5f\", \"gridcolor\": \"white\", \"linecolor\": \"white\", \"minorgridcolor\": \"white\", \"startlinecolor\": \"#2a3f5f\"}, \"baxis\": {\"endlinecolor\": \"#2a3f5f\", \"gridcolor\": \"white\", \"linecolor\": \"white\", \"minorgridcolor\": \"white\", \"startlinecolor\": \"#2a3f5f\"}, \"type\": \"carpet\"}], \"choropleth\": [{\"colorbar\": {\"outlinewidth\": 0, \"ticks\": \"\"}, \"type\": \"choropleth\"}], \"contour\": [{\"colorbar\": {\"outlinewidth\": 0, \"ticks\": \"\"}, \"colorscale\": [[0.0, \"#0d0887\"], [0.1111111111111111, \"#46039f\"], [0.2222222222222222, \"#7201a8\"], [0.3333333333333333, \"#9c179e\"], [0.4444444444444444, \"#bd3786\"], [0.5555555555555556, \"#d8576b\"], [0.6666666666666666, \"#ed7953\"], [0.7777777777777778, \"#fb9f3a\"], [0.8888888888888888, \"#fdca26\"], [1.0, \"#f0f921\"]], \"type\": \"contour\"}], \"contourcarpet\": [{\"colorbar\": {\"outlinewidth\": 0, \"ticks\": \"\"}, \"type\": \"contourcarpet\"}], \"heatmap\": [{\"colorbar\": {\"outlinewidth\": 0, \"ticks\": \"\"}, \"colorscale\": [[0.0, \"#0d0887\"], [0.1111111111111111, \"#46039f\"], [0.2222222222222222, \"#7201a8\"], [0.3333333333333333, \"#9c179e\"], [0.4444444444444444, \"#bd3786\"], [0.5555555555555556, \"#d8576b\"], [0.6666666666666666, \"#ed7953\"], [0.7777777777777778, \"#fb9f3a\"], [0.8888888888888888, \"#fdca26\"], [1.0, \"#f0f921\"]], \"type\": \"heatmap\"}], \"heatmapgl\": [{\"colorbar\": {\"outlinewidth\": 0, \"ticks\": \"\"}, \"colorscale\": [[0.0, \"#0d0887\"], [0.1111111111111111, \"#46039f\"], [0.2222222222222222, \"#7201a8\"], [0.3333333333333333, \"#9c179e\"], [0.4444444444444444, \"#bd3786\"], [0.5555555555555556, \"#d8576b\"], [0.6666666666666666, \"#ed7953\"], [0.7777777777777778, \"#fb9f3a\"], [0.8888888888888888, \"#fdca26\"], [1.0, \"#f0f921\"]], \"type\": \"heatmapgl\"}], \"histogram\": [{\"marker\": {\"colorbar\": {\"outlinewidth\": 0, \"ticks\": \"\"}}, \"type\": \"histogram\"}], \"histogram2d\": [{\"colorbar\": {\"outlinewidth\": 0, \"ticks\": \"\"}, \"colorscale\": [[0.0, \"#0d0887\"], [0.1111111111111111, \"#46039f\"], [0.2222222222222222, \"#7201a8\"], [0.3333333333333333, \"#9c179e\"], [0.4444444444444444, \"#bd3786\"], [0.5555555555555556, \"#d8576b\"], [0.6666666666666666, \"#ed7953\"], [0.7777777777777778, \"#fb9f3a\"], [0.8888888888888888, \"#fdca26\"], [1.0, \"#f0f921\"]], \"type\": \"histogram2d\"}], \"histogram2dcontour\": [{\"colorbar\": {\"outlinewidth\": 0, \"ticks\": \"\"}, \"colorscale\": [[0.0, \"#0d0887\"], [0.1111111111111111, \"#46039f\"], [0.2222222222222222, \"#7201a8\"], [0.3333333333333333, \"#9c179e\"], [0.4444444444444444, \"#bd3786\"], [0.5555555555555556, \"#d8576b\"], [0.6666666666666666, \"#ed7953\"], [0.7777777777777778, \"#fb9f3a\"], [0.8888888888888888, \"#fdca26\"], [1.0, \"#f0f921\"]], \"type\": \"histogram2dcontour\"}], \"mesh3d\": [{\"colorbar\": {\"outlinewidth\": 0, \"ticks\": \"\"}, \"type\": \"mesh3d\"}], \"parcoords\": [{\"line\": {\"colorbar\": {\"outlinewidth\": 0, \"ticks\": \"\"}}, \"type\": \"parcoords\"}], \"pie\": [{\"automargin\": true, \"type\": \"pie\"}], \"scatter\": [{\"marker\": {\"colorbar\": {\"outlinewidth\": 0, \"ticks\": \"\"}}, \"type\": \"scatter\"}], \"scatter3d\": [{\"line\": {\"colorbar\": {\"outlinewidth\": 0, \"ticks\": \"\"}}, \"marker\": {\"colorbar\": {\"outlinewidth\": 0, \"ticks\": \"\"}}, \"type\": \"scatter3d\"}], \"scattercarpet\": [{\"marker\": {\"colorbar\": {\"outlinewidth\": 0, \"ticks\": \"\"}}, \"type\": \"scattercarpet\"}], \"scattergeo\": [{\"marker\": {\"colorbar\": {\"outlinewidth\": 0, \"ticks\": \"\"}}, \"type\": \"scattergeo\"}], \"scattergl\": [{\"marker\": {\"colorbar\": {\"outlinewidth\": 0, \"ticks\": \"\"}}, \"type\": \"scattergl\"}], \"scattermapbox\": [{\"marker\": {\"colorbar\": {\"outlinewidth\": 0, \"ticks\": \"\"}}, \"type\": \"scattermapbox\"}], \"scatterpolar\": [{\"marker\": {\"colorbar\": {\"outlinewidth\": 0, \"ticks\": \"\"}}, \"type\": \"scatterpolar\"}], \"scatterpolargl\": [{\"marker\": {\"colorbar\": {\"outlinewidth\": 0, \"ticks\": \"\"}}, \"type\": \"scatterpolargl\"}], \"scatterternary\": [{\"marker\": {\"colorbar\": {\"outlinewidth\": 0, \"ticks\": \"\"}}, \"type\": \"scatterternary\"}], \"surface\": [{\"colorbar\": {\"outlinewidth\": 0, \"ticks\": \"\"}, \"colorscale\": [[0.0, \"#0d0887\"], [0.1111111111111111, \"#46039f\"], [0.2222222222222222, \"#7201a8\"], [0.3333333333333333, \"#9c179e\"], [0.4444444444444444, \"#bd3786\"], [0.5555555555555556, \"#d8576b\"], [0.6666666666666666, \"#ed7953\"], [0.7777777777777778, \"#fb9f3a\"], [0.8888888888888888, \"#fdca26\"], [1.0, \"#f0f921\"]], \"type\": \"surface\"}], \"table\": [{\"cells\": {\"fill\": {\"color\": \"#EBF0F8\"}, \"line\": {\"color\": \"white\"}}, \"header\": {\"fill\": {\"color\": \"#C8D4E3\"}, \"line\": {\"color\": \"white\"}}, \"type\": \"table\"}]}, \"layout\": {\"annotationdefaults\": {\"arrowcolor\": \"#2a3f5f\", \"arrowhead\": 0, \"arrowwidth\": 1}, \"coloraxis\": {\"colorbar\": {\"outlinewidth\": 0, \"ticks\": \"\"}}, \"colorscale\": {\"diverging\": [[0, \"#8e0152\"], [0.1, \"#c51b7d\"], [0.2, \"#de77ae\"], [0.3, \"#f1b6da\"], [0.4, \"#fde0ef\"], [0.5, \"#f7f7f7\"], [0.6, \"#e6f5d0\"], [0.7, \"#b8e186\"], [0.8, \"#7fbc41\"], [0.9, \"#4d9221\"], [1, \"#276419\"]], \"sequential\": [[0.0, \"#0d0887\"], [0.1111111111111111, \"#46039f\"], [0.2222222222222222, \"#7201a8\"], [0.3333333333333333, \"#9c179e\"], [0.4444444444444444, \"#bd3786\"], [0.5555555555555556, \"#d8576b\"], [0.6666666666666666, \"#ed7953\"], [0.7777777777777778, \"#fb9f3a\"], [0.8888888888888888, \"#fdca26\"], [1.0, \"#f0f921\"]], \"sequentialminus\": [[0.0, \"#0d0887\"], [0.1111111111111111, \"#46039f\"], [0.2222222222222222, \"#7201a8\"], [0.3333333333333333, \"#9c179e\"], [0.4444444444444444, \"#bd3786\"], [0.5555555555555556, \"#d8576b\"], [0.6666666666666666, \"#ed7953\"], [0.7777777777777778, \"#fb9f3a\"], [0.8888888888888888, \"#fdca26\"], [1.0, \"#f0f921\"]]}, \"colorway\": [\"#636efa\", \"#EF553B\", \"#00cc96\", \"#ab63fa\", \"#FFA15A\", \"#19d3f3\", \"#FF6692\", \"#B6E880\", \"#FF97FF\", \"#FECB52\"], \"font\": {\"color\": \"#2a3f5f\"}, \"geo\": {\"bgcolor\": \"white\", \"lakecolor\": \"white\", \"landcolor\": \"#E5ECF6\", \"showlakes\": true, \"showland\": true, \"subunitcolor\": \"white\"}, \"hoverlabel\": {\"align\": \"left\"}, \"hovermode\": \"closest\", \"mapbox\": {\"style\": \"light\"}, \"paper_bgcolor\": \"white\", \"plot_bgcolor\": \"#E5ECF6\", \"polar\": {\"angularaxis\": {\"gridcolor\": \"white\", \"linecolor\": \"white\", \"ticks\": \"\"}, \"bgcolor\": \"#E5ECF6\", \"radialaxis\": {\"gridcolor\": \"white\", \"linecolor\": \"white\", \"ticks\": \"\"}}, \"scene\": {\"xaxis\": {\"backgroundcolor\": \"#E5ECF6\", \"gridcolor\": \"white\", \"gridwidth\": 2, \"linecolor\": \"white\", \"showbackground\": true, \"ticks\": \"\", \"zerolinecolor\": \"white\"}, \"yaxis\": {\"backgroundcolor\": \"#E5ECF6\", \"gridcolor\": \"white\", \"gridwidth\": 2, \"linecolor\": \"white\", \"showbackground\": true, \"ticks\": \"\", \"zerolinecolor\": \"white\"}, \"zaxis\": {\"backgroundcolor\": \"#E5ECF6\", \"gridcolor\": \"white\", \"gridwidth\": 2, \"linecolor\": \"white\", \"showbackground\": true, \"ticks\": \"\", \"zerolinecolor\": \"white\"}}, \"shapedefaults\": {\"line\": {\"color\": \"#2a3f5f\"}}, \"ternary\": {\"aaxis\": {\"gridcolor\": \"white\", \"linecolor\": \"white\", \"ticks\": \"\"}, \"baxis\": {\"gridcolor\": \"white\", \"linecolor\": \"white\", \"ticks\": \"\"}, \"bgcolor\": \"#E5ECF6\", \"caxis\": {\"gridcolor\": \"white\", \"linecolor\": \"white\", \"ticks\": \"\"}}, \"title\": {\"x\": 0.05}, \"xaxis\": {\"automargin\": true, \"gridcolor\": \"white\", \"linecolor\": \"white\", \"ticks\": \"\", \"title\": {\"standoff\": 15}, \"zerolinecolor\": \"white\", \"zerolinewidth\": 2}, \"yaxis\": {\"automargin\": true, \"gridcolor\": \"white\", \"linecolor\": \"white\", \"ticks\": \"\", \"title\": {\"standoff\": 15}, \"zerolinecolor\": \"white\", \"zerolinewidth\": 2}}}, \"title\": {\"text\": \"<b>Annual Median Wages Comparison: Data Job Wages vs City Wages vs State Wages</b>\"}, \"width\": 1000, \"xaxis\": {\"showgrid\": false}, \"yaxis\": {\"autorange\": true, \"showgrid\": true, \"showline\": false, \"showticklabels\": true, \"ticks\": \"\", \"title\": {\"text\": \"Annual Median Wage\"}, \"zeroline\": false}},\n",
       "                        {\"responsive\": true}\n",
       "                    ).then(function(){\n",
       "                            \n",
       "var gd = document.getElementById('d2256ee5-2af8-48cd-b7ec-0165f9daadd5');\n",
       "var x = new MutationObserver(function (mutations, observer) {{\n",
       "        var display = window.getComputedStyle(gd).display;\n",
       "        if (!display || display === 'none') {{\n",
       "            console.log([gd, 'removed!']);\n",
       "            Plotly.purge(gd);\n",
       "            observer.disconnect();\n",
       "        }}\n",
       "}});\n",
       "\n",
       "// Listen for the removal of the full notebook cells\n",
       "var notebookContainer = gd.closest('#notebook-container');\n",
       "if (notebookContainer) {{\n",
       "    x.observe(notebookContainer, {childList: true});\n",
       "}}\n",
       "\n",
       "// Listen for the clearing of the current output cell\n",
       "var outputEl = gd.closest('.output');\n",
       "if (outputEl) {{\n",
       "    x.observe(outputEl, {childList: true});\n",
       "}}\n",
       "\n",
       "                        })\n",
       "                };\n",
       "                });\n",
       "            </script>\n",
       "        </div>"
      ]
     },
     "metadata": {},
     "output_type": "display_data"
    }
   ],
   "source": [
    "# visualizing Annual Median Wages to compare Data Job Wages vs City Wages vs State Wages \n",
    "\n",
    "trace1 = go.Bar(x=city_median_sal['CITY_NAME'], \n",
    "                    y=city_median_sal['A_MEDIAN'], \n",
    "                    marker=dict(color='rgb(211,211,211)', line_color='rgb(211,211,211)'),\n",
    "                    name='City Median Salary')\n",
    "\n",
    "trace2 = go.Bar(x=state_median_sal['CITY_NAME'],\n",
    "                  y=state_median_sal['A_MEDIAN'], \n",
    "                  marker=dict(color='rgb(95,158,160)', line_color='rgb(95,158,160)'),\n",
    "                  name='State Median Salary')\n",
    "\n",
    "trace3 = go.Bar(x=data_jobs_median_sal['updated_city'],\n",
    "                  y=data_jobs_median_sal['annual_min_median'], \n",
    "                  marker=dict(color='rgb(147,112,219)', line_color='rgb(75,0,130)'),\n",
    "                  name='Data Jobs Minimum Median Salary')\n",
    "\n",
    "trace4 = go.Bar(x=data_jobs_median_sal['updated_city'],\n",
    "                  y=data_jobs_median_sal['annual_max_median'], \n",
    "                  marker=dict(color='rgb(75,0,130)', line_color='rgb(75,0,130)'),\n",
    "                  name='Data Jobs Maximum Median Salary')\n",
    "\n",
    "data = [trace1, trace2, trace3, trace4]\n",
    "\n",
    "layout = dict(title=\"<b>Annual Median Wages Comparison: Data Job Wages vs City Wages vs State Wages</b>\",\n",
    "              showlegend=True,\n",
    "              legend_orientation=\"h\",\n",
    "              autosize=True,\n",
    "              width=1000,\n",
    "              height=600,\n",
    "              xaxis=dict(showgrid=False),\n",
    "              yaxis=dict(title=\"Annual Median Wage\", \n",
    "                         showgrid=True, \n",
    "                         autorange=True,\n",
    "                         zeroline=False,\n",
    "                         showline=False,\n",
    "                         ticks='',\n",
    "                         showticklabels=True),\n",
    "              plot_bgcolor='rgba(0,0,0)',\n",
    "              paper_bgcolor='rgba(0,0,0,0)',\n",
    "          )\n",
    "\n",
    "fig=dict(data=data, layout=layout)\n",
    "\n",
    "iplot(fig)\n"
   ]
  },
  {
   "cell_type": "markdown",
   "metadata": {},
   "source": [
    "<hr>\n",
    "<h4 align=\"center\" style=\"color:black;\"> Analysis: Annual Median Wages Comparison - Data Job Wages vs City Wages vs State Wages</h4>\n",
    "<h4 style=\"color:#666666;\">Source: Indeed API, Web-Scraping using RegEx (Indeed Job Descriptions) and Bureau of Labor Statistics </h4>\n",
    "In most cities, Data Jobs have higher median salaries than the respecitve city and state’s median salary for all job types.  The outlier in the dataset is Seattle, this may be explained by the limited availiblity of salary data publically.  \n",
    "<hr>"
   ]
  },
  {
   "cell_type": "markdown",
   "metadata": {},
   "source": [
    "### Comparing Company Salary to Company Ratings to see if a correlation exists"
   ]
  },
  {
   "cell_type": "code",
   "execution_count": 67,
   "metadata": {},
   "outputs": [
    {
     "data": {
      "text/html": [
       "<div>\n",
       "<style scoped>\n",
       "    .dataframe tbody tr th:only-of-type {\n",
       "        vertical-align: middle;\n",
       "    }\n",
       "\n",
       "    .dataframe tbody tr th {\n",
       "        vertical-align: top;\n",
       "    }\n",
       "\n",
       "    .dataframe thead th {\n",
       "        text-align: right;\n",
       "    }\n",
       "</style>\n",
       "<table border=\"1\" class=\"dataframe\">\n",
       "  <thead>\n",
       "    <tr style=\"text-align: right;\">\n",
       "      <th></th>\n",
       "      <th>url</th>\n",
       "      <th>jobtitle</th>\n",
       "      <th>company</th>\n",
       "      <th>annual_min_salary</th>\n",
       "      <th>annual_max_salary</th>\n",
       "      <th>updated_city</th>\n",
       "      <th>state</th>\n",
       "    </tr>\n",
       "  </thead>\n",
       "  <tbody>\n",
       "    <tr>\n",
       "      <th>0</th>\n",
       "      <td>http://www.indeed.com/viewjob?jk=655ff099cd045...</td>\n",
       "      <td>Operations Analyst - Symitar System and Episys...</td>\n",
       "      <td>Austin Telco Federal Credit Union</td>\n",
       "      <td>50000.0</td>\n",
       "      <td>60000.0</td>\n",
       "      <td>Austin</td>\n",
       "      <td>TX</td>\n",
       "    </tr>\n",
       "    <tr>\n",
       "      <th>1</th>\n",
       "      <td>http://www.indeed.com/viewjob?jk=f6402472d770b...</td>\n",
       "      <td>Data Base Administrator IV</td>\n",
       "      <td>DEPARTMENT OF INFORMATION RESOURCES</td>\n",
       "      <td>75000.0</td>\n",
       "      <td>90000.0</td>\n",
       "      <td>Austin</td>\n",
       "      <td>TX</td>\n",
       "    </tr>\n",
       "  </tbody>\n",
       "</table>\n",
       "</div>"
      ],
      "text/plain": [
       "                                                 url  \\\n",
       "0  http://www.indeed.com/viewjob?jk=655ff099cd045...   \n",
       "1  http://www.indeed.com/viewjob?jk=f6402472d770b...   \n",
       "\n",
       "                                            jobtitle  \\\n",
       "0  Operations Analyst - Symitar System and Episys...   \n",
       "1                         Data Base Administrator IV   \n",
       "\n",
       "                               company  annual_min_salary  annual_max_salary  \\\n",
       "0    Austin Telco Federal Credit Union            50000.0            60000.0   \n",
       "1  DEPARTMENT OF INFORMATION RESOURCES            75000.0            90000.0   \n",
       "\n",
       "  updated_city state  \n",
       "0       Austin    TX  \n",
       "1       Austin    TX  "
      ]
     },
     "execution_count": 67,
     "metadata": {},
     "output_type": "execute_result"
    }
   ],
   "source": [
    "jobs_sal_data.head(2)"
   ]
  },
  {
   "cell_type": "code",
   "execution_count": 68,
   "metadata": {},
   "outputs": [
    {
     "data": {
      "text/html": [
       "<div>\n",
       "<style scoped>\n",
       "    .dataframe tbody tr th:only-of-type {\n",
       "        vertical-align: middle;\n",
       "    }\n",
       "\n",
       "    .dataframe tbody tr th {\n",
       "        vertical-align: top;\n",
       "    }\n",
       "\n",
       "    .dataframe thead th {\n",
       "        text-align: right;\n",
       "    }\n",
       "</style>\n",
       "<table border=\"1\" class=\"dataframe\">\n",
       "  <thead>\n",
       "    <tr style=\"text-align: right;\">\n",
       "      <th></th>\n",
       "      <th>jobtitle</th>\n",
       "      <th>company</th>\n",
       "      <th>rating</th>\n",
       "      <th>updated_city</th>\n",
       "      <th>state</th>\n",
       "    </tr>\n",
       "  </thead>\n",
       "  <tbody>\n",
       "    <tr>\n",
       "      <th>0</th>\n",
       "      <td>Data Center Security Engineer</td>\n",
       "      <td>Amazon Dev Center U.S., Inc.</td>\n",
       "      <td>3.6</td>\n",
       "      <td>Austin</td>\n",
       "      <td>TX</td>\n",
       "    </tr>\n",
       "    <tr>\n",
       "      <th>1</th>\n",
       "      <td>Senior Engineer - Data Science</td>\n",
       "      <td>The Home Depot</td>\n",
       "      <td>3.8</td>\n",
       "      <td>Austin</td>\n",
       "      <td>TX</td>\n",
       "    </tr>\n",
       "  </tbody>\n",
       "</table>\n",
       "</div>"
      ],
      "text/plain": [
       "                         jobtitle                       company  rating  \\\n",
       "0   Data Center Security Engineer  Amazon Dev Center U.S., Inc.     3.6   \n",
       "1  Senior Engineer - Data Science                The Home Depot     3.8   \n",
       "\n",
       "  updated_city state  \n",
       "0       Austin    TX  \n",
       "1       Austin    TX  "
      ]
     },
     "execution_count": 68,
     "metadata": {},
     "output_type": "execute_result"
    }
   ],
   "source": [
    "jobs_rating_data.head(2)"
   ]
  },
  {
   "cell_type": "code",
   "execution_count": 69,
   "metadata": {},
   "outputs": [],
   "source": [
    "# merging rating and salary data for the company\n",
    "\n",
    "rating_and_sal_data = pd.merge(jobs_sal_data, jobs_rating_data, how='inner', on='company')\n",
    "\n",
    "\n",
    "rating_and_sal_data = rating_and_sal_data[['url', 'jobtitle_x', 'company', 'annual_min_salary', \n",
    "                                          'annual_max_salary', 'updated_city_x', 'state_x', 'rating']] \\\n",
    "                        .rename(columns={'jobtitle_x': 'jobtitle', 'updated_city_x': 'updated_city', 'state_x': 'state'})"
   ]
  },
  {
   "cell_type": "code",
   "execution_count": 70,
   "metadata": {},
   "outputs": [
    {
     "data": {
      "text/html": [
       "<div>\n",
       "<style scoped>\n",
       "    .dataframe tbody tr th:only-of-type {\n",
       "        vertical-align: middle;\n",
       "    }\n",
       "\n",
       "    .dataframe tbody tr th {\n",
       "        vertical-align: top;\n",
       "    }\n",
       "\n",
       "    .dataframe thead th {\n",
       "        text-align: right;\n",
       "    }\n",
       "</style>\n",
       "<table border=\"1\" class=\"dataframe\">\n",
       "  <thead>\n",
       "    <tr style=\"text-align: right;\">\n",
       "      <th></th>\n",
       "      <th>url</th>\n",
       "      <th>jobtitle</th>\n",
       "      <th>company</th>\n",
       "      <th>annual_min_salary</th>\n",
       "      <th>annual_max_salary</th>\n",
       "      <th>updated_city</th>\n",
       "      <th>state</th>\n",
       "      <th>rating</th>\n",
       "    </tr>\n",
       "  </thead>\n",
       "  <tbody>\n",
       "    <tr>\n",
       "      <th>0</th>\n",
       "      <td>http://www.indeed.com/viewjob?jk=655ff099cd045...</td>\n",
       "      <td>Operations Analyst - Symitar System and Episys...</td>\n",
       "      <td>Austin Telco Federal Credit Union</td>\n",
       "      <td>50000.0</td>\n",
       "      <td>60000.0</td>\n",
       "      <td>Austin</td>\n",
       "      <td>TX</td>\n",
       "      <td>3.7</td>\n",
       "    </tr>\n",
       "    <tr>\n",
       "      <th>1</th>\n",
       "      <td>http://www.indeed.com/viewjob?jk=d3f99f0101182...</td>\n",
       "      <td>CPA - Data Analysis and Transparency Intern</td>\n",
       "      <td>COMPTROLLER OF PUBLIC ACCOUNTS</td>\n",
       "      <td>29568.0</td>\n",
       "      <td>29568.0</td>\n",
       "      <td>Austin</td>\n",
       "      <td>TX</td>\n",
       "      <td>3.0</td>\n",
       "    </tr>\n",
       "  </tbody>\n",
       "</table>\n",
       "</div>"
      ],
      "text/plain": [
       "                                                 url  \\\n",
       "0  http://www.indeed.com/viewjob?jk=655ff099cd045...   \n",
       "1  http://www.indeed.com/viewjob?jk=d3f99f0101182...   \n",
       "\n",
       "                                            jobtitle  \\\n",
       "0  Operations Analyst - Symitar System and Episys...   \n",
       "1        CPA - Data Analysis and Transparency Intern   \n",
       "\n",
       "                             company  annual_min_salary  annual_max_salary  \\\n",
       "0  Austin Telco Federal Credit Union            50000.0            60000.0   \n",
       "1     COMPTROLLER OF PUBLIC ACCOUNTS            29568.0            29568.0   \n",
       "\n",
       "  updated_city state  rating  \n",
       "0       Austin    TX     3.7  \n",
       "1       Austin    TX     3.0  "
      ]
     },
     "execution_count": 70,
     "metadata": {},
     "output_type": "execute_result"
    }
   ],
   "source": [
    "rating_and_sal_data.head(2) "
   ]
  },
  {
   "cell_type": "code",
   "execution_count": 71,
   "metadata": {},
   "outputs": [
    {
     "data": {
      "application/vnd.plotly.v1+json": {
       "config": {
        "linkText": "Export to plot.ly",
        "plotlyServerURL": "https://plot.ly",
        "showLink": true
       },
       "data": [
        {
         "line": {
          "color": "rgba(128, 0, 128, 1.0)",
          "dash": "solid",
          "shape": "linear",
          "width": 1.3
         },
         "marker": {
          "size": 12,
          "symbol": "circle"
         },
         "mode": "markers",
         "name": "annual_max_salary",
         "text": [
          "Austin Telco Federal Credit Union",
          "COMPTROLLER OF PUBLIC ACCOUNTS",
          "COMPTROLLER OF PUBLIC ACCOUNTS",
          "COMPTROLLER OF PUBLIC ACCOUNTS",
          "TEXAS EDUCATION AGENCY",
          "TEXAS EDUCATION AGENCY",
          "TEXAS EDUCATION AGENCY",
          "TEXAS EDUCATION AGENCY",
          "TEXAS EDUCATION AGENCY",
          "Texas Comptroller of Public Accounts",
          "Special Counsel",
          "KRK Technologies",
          "Texas Tool Traders",
          "Texas Department of Transportation",
          "Teacher Retirement System of Texas",
          "Teacher Retirement System of Texas",
          "Integral Care",
          "Integral Care",
          "Health & Human Services Comm",
          "Health & Human Services Comm",
          "Health & Human Services Comm",
          "Health & Human Services Comm",
          "Principle Group",
          "Principle Group",
          "Indeed",
          "Indeed",
          "Indeed",
          "Dept of Family & Protectve Svc",
          "Austin Energy",
          "Digital Creative Institute",
          "TEXAS MILITARY DEPARTMENT",
          "Goodwill Central Texas",
          "Somnio",
          "Aunt Bertha, a Public Benefit Corp.",
          "TCG Group Holdings",
          "US Department of the Treasury",
          "US Department of the Treasury",
          "Health Care Consultants, Inc.",
          "RCM Technologies",
          "UNITE HERE",
          "care.coach",
          "Backstage Library Works",
          "Tredence",
          "Tredence",
          "Tredence",
          "Universal Healthcare",
          "California State University",
          "City & County of San Francisco",
          "City & County of San Francisco",
          "City & County of San Francisco",
          "Stealth Mode Startup",
          "SHELTER, Inc.",
          "University of California Berkeley",
          "University of North Carolina at Chapel Hill",
          "University of North Carolina at Chapel Hill",
          "University of North Carolina at Chapel Hill",
          "University of North Carolina at Chapel Hill",
          "University of North Carolina at Chapel Hill",
          "State of North Carolina",
          "State of North Carolina",
          "State of North Carolina",
          "State of North Carolina",
          "State of North Carolina",
          "NC School Of Science And Mathematics",
          "Birlasoft",
          "North Carolina School of Science and Mathematics",
          "Durham County",
          "Four Star Realty and Property Management",
          "Four Star Realty and Property Management",
          "Arapahoe County, CO",
          "State of Colorado Job Opportunities",
          "State of Colorado Job Opportunities",
          "State of Colorado Job Opportunities",
          "State of Colorado Job Opportunities",
          "NASDAQ",
          "City and County of Denver",
          "City and County of Denver",
          "Snavely Forest Products",
          "Denver Public Schools",
          "CBRE",
          "CBRE",
          "CBRE",
          "Community College of Aurora",
          "Community College of Aurora",
          "Astreya Partners Inc",
          "Community Leadership Academy",
          "City and County of Broomfield",
          "Mr. Rooter of Seattle",
          "Country Doctor Community Health Centers",
          "Seattle Aquarium",
          "CIS, Inc.",
          "IDAX Data Solutions",
          "US Department of Transportation",
          "US Department of Transportation",
          "DESC",
          "Pactera Technologies",
          "Pactera Technologies",
          "Pactera Technologies",
          "HCL Americas",
          "BECU Credit Union",
          "BECU Credit Union",
          "Liberty Mutual Insurance",
          "Liberty Mutual Insurance",
          "Liberty Mutual Insurance",
          "Liberty Mutual Insurance",
          "Liberty Mutual Insurance",
          "Liberty Mutual Insurance",
          "Liberty Mutual Insurance",
          "Liberty Mutual Insurance",
          "Liberty Mutual Insurance",
          "Liberty Mutual Insurance",
          "Neal Analytics",
          "MAQ Software",
          "Genuent",
          "HR Partners",
          "Gwinnett County Public Schools",
          "Scientific Games",
          "Metropolitan Boston Housing Partnership",
          "Wayside Youth & Family Support Network",
          "Rangam Consultants Inc.",
          "Clinical Science Laboratory",
          "SkyBridge",
          "State Lottery Commission",
          "Housing Opportunities Unlimited",
          "EO of Labor & Work Dvlpmnt",
          "Pegasystems",
          "HT Health",
          "Exec Office of Technology Services and Security",
          "Exec Office of Technology Services and Security",
          "CGI Group, Inc.",
          "Steppingstone Foundation",
          "The Steppingstone Foundation",
          "Boston Public Health Commission",
          "E.O. Health & Human Services",
          "E.O. Health & Human Services",
          "Anheuser-Busch",
          "Anheuser-Busch",
          "Anheuser-Busch",
          "Anheuser-Busch",
          "Anheuser-Busch",
          "Anheuser-Busch",
          "Anheuser-Busch",
          "Anheuser-Busch",
          "Anheuser-Busch",
          "Anheuser-Busch",
          "ComputerCare",
          "Sciolex Corporation",
          "Sciolex Corporation",
          "New York City DEPT OF HEALTH/MENTAL HYGIENE",
          "New York City DEPT OF HEALTH/MENTAL HYGIENE",
          "New York City DEPT OF HEALTH/MENTAL HYGIENE",
          "New York City DEPT OF HEALTH/MENTAL HYGIENE",
          "New York City DEPT OF HEALTH/MENTAL HYGIENE",
          "New York City DEPT OF HEALTH/MENTAL HYGIENE",
          "New York City DEPT OF HEALTH/MENTAL HYGIENE",
          "New York City DEPT OF HEALTH/MENTAL HYGIENE",
          "New York City DEPT OF HEALTH/MENTAL HYGIENE",
          "New York City LAW DEPARTMENT",
          "Tanisha Systems Inc.",
          "New York City POLICE DEPARTMENT",
          "Strategic Financial Solutions",
          "Watermark",
          "Zoic Studios",
          "Brooklyn Public Library",
          "New York City DEPARTMENT OF FINANCE",
          "New York City TAXI & LIMOUSINE COMMISSION",
          "New York City TAXI & LIMOUSINE COMMISSION",
          "New York City Department of Education",
          "CTG",
          "BICP",
          "Research Foundation of The City University of New York",
          "Research Foundation of The City University of New York",
          "Transfast",
          "New York City Department of Education .",
          "New York City Department of Education .",
          "New York City DEPARTMENT OF INVESTIGATION",
          "New York City DEPARTMENT OF INVESTIGATION",
          "New York City DEPARTMENT OF INVESTIGATION",
          "New York City DEPARTMENT OF INVESTIGATION",
          "New York City DEPARTMENT OF INVESTIGATION",
          "New York City DEPARTMENT OF INVESTIGATION",
          "New York City DEPARTMENT OF INVESTIGATION",
          "New York City DEPARTMENT OF INVESTIGATION",
          "New York City DEPARTMENT OF INVESTIGATION",
          "New York City DEPARTMENT OF INVESTIGATION",
          "New York City DEPARTMENT OF INVESTIGATION",
          "New York City DEPARTMENT OF INVESTIGATION",
          "New York City DEPARTMENT OF INVESTIGATION",
          "New York City DEPARTMENT OF INVESTIGATION",
          "New York City DEPARTMENT OF INVESTIGATION",
          "New York City DEPARTMENT OF INVESTIGATION",
          "New York City DEPARTMENT OF INVESTIGATION",
          "New York City DEPARTMENT OF INVESTIGATION",
          "New York City DEPARTMENT OF INVESTIGATION",
          "New York City DEPARTMENT OF INVESTIGATION",
          "New York City DEPARTMENT OF INVESTIGATION",
          "New York City DEPARTMENT OF INVESTIGATION",
          "New York City DEPARTMENT OF INVESTIGATION",
          "New York City DEPARTMENT OF INVESTIGATION",
          "New York City DEPARTMENT OF INVESTIGATION",
          "New York City DEPARTMENT OF INVESTIGATION",
          "New York City DEPARTMENT OF INVESTIGATION",
          "New York City DEPARTMENT OF INVESTIGATION",
          "New York City DEPARTMENT OF INVESTIGATION",
          "New York City DEPARTMENT OF INVESTIGATION",
          "New York City DEPARTMENT OF INVESTIGATION",
          "New York City DEPARTMENT OF INVESTIGATION",
          "New York City DEPARTMENT OF CORRECTION",
          "New York City DEPARTMENT OF CORRECTION",
          "New York City DEPARTMENT OF CORRECTION",
          "New York City DEPARTMENT OF CORRECTION",
          "New York City DEPARTMENT OF CORRECTION",
          "New York City DEPARTMENT OF CORRECTION",
          "New York City DEPARTMENT OF CORRECTION",
          "New York City DEPARTMENT OF CORRECTION",
          "New York City DEPARTMENT OF CORRECTION",
          "New York City DEPARTMENT OF CORRECTION",
          "New York City DEPARTMENT OF CORRECTION",
          "New York City DEPARTMENT OF CORRECTION",
          "New York City DEPARTMENT OF CORRECTION",
          "New York City DEPARTMENT OF CORRECTION",
          "New York City DEPARTMENT OF CORRECTION",
          "New York City DEPARTMENT OF CORRECTION",
          "New York City DEPARTMENT OF CORRECTION",
          "New York City DEPARTMENT OF CORRECTION",
          "New York City DEPARTMENT OF CORRECTION",
          "New York City DEPARTMENT OF CORRECTION",
          "New York City DEPARTMENT OF CORRECTION",
          "New York City DEPARTMENT OF CORRECTION",
          "New York City DEPARTMENT OF CORRECTION",
          "New York City DEPARTMENT OF CORRECTION",
          "New York City DEPARTMENT OF CORRECTION",
          "New York City DEPARTMENT OF CORRECTION",
          "New York City DEPARTMENT OF CORRECTION",
          "New York City DEPARTMENT OF CORRECTION",
          "New York City DEPARTMENT OF CORRECTION",
          "New York City DEPARTMENT OF CORRECTION",
          "New York City DEPARTMENT OF CORRECTION",
          "New York City DEPARTMENT OF CORRECTION",
          "US Department of Agriculture",
          "US Department of Agriculture",
          "US Department of Veterans Affairs",
          "Northern Virginia Community College",
          "George Mason University",
          "US Department of Commerce",
          "US Department of Commerce",
          "The Brookings Institution",
          "Government of the District of Columbia",
          "US Other Agencies and Independent Organizations",
          "Gridiron IT",
          "US Department of the Army",
          "US Department of Health And Human Services",
          "US Department of Health And Human Services",
          "US Department of Health And Human Services",
          "Fairfax County Government",
          "Fairfax County Government",
          "MRP",
          "Prince George's County Public Schools",
          "US National Aeronautics and Space Administration",
          "US Department of Labor",
          "Centers for Disease Control and Prevention",
          "CLS Bank International",
          "Gravy Work",
          "Long Fence & Home",
          "ARK Solutions Inc.",
          "University of Maryland",
          "Ohio State University Medical Center",
          "Ohio State University Medical Center",
          "State of Ohio Jobs",
          "State of Ohio Jobs",
          "State of Ohio Jobs",
          "State of Ohio Jobs",
          "Flex High School of Ohio",
          "ALDI",
          "Greif",
          "The Ohio State University",
          "OSU Wexner Medical Center",
          "Access 2 Interpreters, LLC.",
          "Franklin County Children Services"
         ],
         "type": "scatter",
         "x": [
          3.7,
          3,
          3,
          3,
          3.8,
          3.8,
          3.8,
          3.8,
          3.8,
          4.4,
          3.4,
          3,
          3,
          3.9,
          2.8,
          2.8,
          3.6,
          3.6,
          3.4,
          3.4,
          3.4,
          3.4,
          3.5,
          3.5,
          4.4,
          4.4,
          4.4,
          3.4,
          3.8,
          5,
          3.9,
          3.4,
          3.8,
          4.7,
          3.8,
          4,
          4,
          5,
          3.6,
          4.4,
          5,
          3.8,
          4.2,
          4.2,
          4.2,
          3.4,
          4.3,
          4.1,
          4.1,
          4.1,
          4.6,
          3.4,
          4.2,
          4.2,
          4.2,
          4.2,
          4.2,
          4.2,
          3.5,
          3.5,
          3.5,
          3.5,
          3.5,
          3.5,
          3.8,
          3.9,
          3.8,
          5,
          5,
          3.9,
          3.4,
          3.4,
          3.4,
          3.4,
          3.8,
          3.6,
          3.6,
          3.4,
          3.6,
          3.8,
          3.8,
          3.8,
          4.1,
          4.1,
          2.7,
          2.1,
          4.3,
          3.3,
          4.4,
          4.9,
          3.6,
          3.3,
          4.1,
          4.1,
          3.6,
          3.5,
          3.5,
          3.5,
          2.7,
          3.9,
          3.9,
          3.6,
          3.6,
          3.6,
          3.6,
          3.6,
          3.6,
          3.6,
          3.6,
          3.6,
          3.6,
          3,
          3.4,
          3.8,
          4.6,
          4,
          3.5,
          3.1,
          3.7,
          4,
          3.9,
          2.8,
          4,
          2.8,
          4,
          3.5,
          4.3,
          4,
          4,
          3.7,
          4.7,
          4.7,
          3.9,
          4,
          4,
          3.8,
          3.8,
          3.8,
          3.8,
          3.8,
          3.8,
          3.8,
          3.8,
          3.8,
          3.8,
          3,
          5,
          5,
          4.1,
          4.1,
          4.1,
          4.1,
          4.1,
          4.1,
          4.1,
          4.1,
          4.1,
          3.8,
          3.2,
          4.2,
          3.5,
          2.3,
          4.3,
          3.9,
          3.8,
          2.7,
          2.7,
          4,
          3.6,
          5,
          4.2,
          4.2,
          3.5,
          4,
          4,
          4.2,
          4.2,
          4.2,
          4.2,
          4.2,
          4.2,
          4.2,
          4.2,
          4.2,
          4.2,
          4.2,
          4.2,
          4.2,
          4.2,
          4.2,
          4.2,
          4.2,
          4.2,
          4.2,
          4.2,
          4.2,
          4.2,
          4.2,
          4.2,
          4.2,
          4.2,
          4.2,
          4.2,
          4.2,
          4.2,
          4.2,
          4.2,
          3.5,
          3.5,
          3.5,
          3.5,
          3.5,
          3.5,
          3.5,
          3.5,
          3.5,
          3.5,
          3.5,
          3.5,
          3.5,
          3.5,
          3.5,
          3.5,
          3.5,
          3.5,
          3.5,
          3.5,
          3.5,
          3.5,
          3.5,
          3.5,
          3.5,
          3.5,
          3.5,
          3.5,
          3.5,
          3.5,
          3.5,
          3.5,
          4.1,
          4.1,
          3.8,
          4.2,
          4.2,
          4.1,
          4.1,
          4.1,
          3.6,
          4.5,
          4.6,
          4.3,
          4.1,
          4.1,
          4.1,
          4.1,
          4.1,
          3.8,
          3.7,
          4.4,
          4,
          4.2,
          2.8,
          3.4,
          3.4,
          4.3,
          4.1,
          4.2,
          4.2,
          3.8,
          3.8,
          3.8,
          3.8,
          4.1,
          3.4,
          3.8,
          4.2,
          4.1,
          3,
          3.2
         ],
         "y": [
          60000,
          29568,
          108000,
          73200,
          93408,
          77868,
          100008,
          114996,
          82008,
          108000,
          31200,
          41600,
          24960,
          96720,
          35360,
          28080,
          30742.4,
          77862,
          77868,
          96720,
          117396,
          77868,
          29120,
          29120,
          50003.2,
          174000,
          174000,
          77868,
          101857.6,
          40000,
          72996,
          27040,
          37440,
          31200,
          26000,
          39915.2,
          165084,
          70000,
          85280,
          55000,
          135000,
          41600,
          150000,
          145000,
          135200,
          116000,
          108000,
          93204.8,
          113318.4,
          51542.4,
          250000,
          83200,
          100000,
          45760,
          87392,
          60320,
          47008,
          31200,
          133937,
          44091,
          100892,
          86431,
          51986,
          51986,
          140000,
          51986,
          83511,
          41600,
          37440,
          33280,
          75240,
          53160,
          70248,
          93480,
          95000,
          135000,
          115000,
          29120,
          77316,
          70000,
          80000,
          75000,
          22638,
          55000,
          120000,
          46200,
          96720,
          33280,
          56160,
          36400,
          44400,
          39520,
          136271,
          136271,
          43397,
          29120,
          29120,
          27040,
          70720,
          118000,
          143000,
          197600,
          134100,
          120000,
          134100,
          173000,
          134100,
          173200,
          190000,
          152000,
          152000,
          72800,
          95000,
          62400,
          42000,
          26949,
          37502.4,
          64000,
          31200,
          101920,
          33280,
          208000,
          114250,
          55000,
          90570,
          160000,
          39000,
          185000,
          92382,
          34236.8,
          55000,
          55000,
          120000,
          131429,
          131429,
          123500,
          123500,
          123500,
          123500,
          123500,
          123500,
          123500,
          123500,
          123500,
          123500,
          41600,
          37481.6,
          37772.8,
          71446,
          70554,
          91800,
          58566,
          70554,
          86830,
          93776,
          70554,
          87805,
          153666,
          147680,
          110116,
          35000,
          50000,
          47840,
          31200,
          86830,
          65888,
          78000,
          70370,
          180000,
          228800,
          88400,
          31200,
          80000,
          103000,
          98919,
          66388,
          66388,
          66388,
          66388,
          66388,
          66388,
          66388,
          66388,
          66388,
          66388,
          66388,
          66388,
          66388,
          66388,
          66388,
          66388,
          66388,
          66388,
          66388,
          66388,
          66388,
          66388,
          66388,
          66388,
          66388,
          66388,
          66388,
          66388,
          66388,
          66388,
          66388,
          66388,
          63031,
          63031,
          63031,
          63031,
          63031,
          63031,
          63031,
          63031,
          63031,
          63031,
          63031,
          63031,
          63031,
          63031,
          63031,
          63031,
          63031,
          63031,
          63031,
          63031,
          63031,
          63031,
          63031,
          63031,
          63031,
          63031,
          63031,
          63031,
          63031,
          63031,
          63031,
          63031,
          133465,
          133465,
          170800,
          85000,
          41600,
          170800,
          170800,
          31200,
          122227,
          203052,
          114400,
          179201,
          133465,
          128920,
          128920,
          114533,
          125861,
          150000,
          103819,
          133465,
          166500,
          152352,
          176800,
          49920,
          75000,
          124800,
          69100,
          121830,
          70000,
          60070.4,
          43409.6,
          114379.2,
          80017.6,
          31200,
          62000,
          55000,
          75000,
          140740,
          27040,
          93600
         ]
        }
       ],
       "layout": {
        "legend": {
         "bgcolor": "#151516",
         "font": {
          "color": "#D9D9D9"
         }
        },
        "paper_bgcolor": "#151516",
        "plot_bgcolor": "#151516",
        "template": {
         "data": {
          "bar": [
           {
            "error_x": {
             "color": "#2a3f5f"
            },
            "error_y": {
             "color": "#2a3f5f"
            },
            "marker": {
             "line": {
              "color": "#E5ECF6",
              "width": 0.5
             }
            },
            "type": "bar"
           }
          ],
          "barpolar": [
           {
            "marker": {
             "line": {
              "color": "#E5ECF6",
              "width": 0.5
             }
            },
            "type": "barpolar"
           }
          ],
          "carpet": [
           {
            "aaxis": {
             "endlinecolor": "#2a3f5f",
             "gridcolor": "white",
             "linecolor": "white",
             "minorgridcolor": "white",
             "startlinecolor": "#2a3f5f"
            },
            "baxis": {
             "endlinecolor": "#2a3f5f",
             "gridcolor": "white",
             "linecolor": "white",
             "minorgridcolor": "white",
             "startlinecolor": "#2a3f5f"
            },
            "type": "carpet"
           }
          ],
          "choropleth": [
           {
            "colorbar": {
             "outlinewidth": 0,
             "ticks": ""
            },
            "type": "choropleth"
           }
          ],
          "contour": [
           {
            "colorbar": {
             "outlinewidth": 0,
             "ticks": ""
            },
            "colorscale": [
             [
              0,
              "#0d0887"
             ],
             [
              0.1111111111111111,
              "#46039f"
             ],
             [
              0.2222222222222222,
              "#7201a8"
             ],
             [
              0.3333333333333333,
              "#9c179e"
             ],
             [
              0.4444444444444444,
              "#bd3786"
             ],
             [
              0.5555555555555556,
              "#d8576b"
             ],
             [
              0.6666666666666666,
              "#ed7953"
             ],
             [
              0.7777777777777778,
              "#fb9f3a"
             ],
             [
              0.8888888888888888,
              "#fdca26"
             ],
             [
              1,
              "#f0f921"
             ]
            ],
            "type": "contour"
           }
          ],
          "contourcarpet": [
           {
            "colorbar": {
             "outlinewidth": 0,
             "ticks": ""
            },
            "type": "contourcarpet"
           }
          ],
          "heatmap": [
           {
            "colorbar": {
             "outlinewidth": 0,
             "ticks": ""
            },
            "colorscale": [
             [
              0,
              "#0d0887"
             ],
             [
              0.1111111111111111,
              "#46039f"
             ],
             [
              0.2222222222222222,
              "#7201a8"
             ],
             [
              0.3333333333333333,
              "#9c179e"
             ],
             [
              0.4444444444444444,
              "#bd3786"
             ],
             [
              0.5555555555555556,
              "#d8576b"
             ],
             [
              0.6666666666666666,
              "#ed7953"
             ],
             [
              0.7777777777777778,
              "#fb9f3a"
             ],
             [
              0.8888888888888888,
              "#fdca26"
             ],
             [
              1,
              "#f0f921"
             ]
            ],
            "type": "heatmap"
           }
          ],
          "heatmapgl": [
           {
            "colorbar": {
             "outlinewidth": 0,
             "ticks": ""
            },
            "colorscale": [
             [
              0,
              "#0d0887"
             ],
             [
              0.1111111111111111,
              "#46039f"
             ],
             [
              0.2222222222222222,
              "#7201a8"
             ],
             [
              0.3333333333333333,
              "#9c179e"
             ],
             [
              0.4444444444444444,
              "#bd3786"
             ],
             [
              0.5555555555555556,
              "#d8576b"
             ],
             [
              0.6666666666666666,
              "#ed7953"
             ],
             [
              0.7777777777777778,
              "#fb9f3a"
             ],
             [
              0.8888888888888888,
              "#fdca26"
             ],
             [
              1,
              "#f0f921"
             ]
            ],
            "type": "heatmapgl"
           }
          ],
          "histogram": [
           {
            "marker": {
             "colorbar": {
              "outlinewidth": 0,
              "ticks": ""
             }
            },
            "type": "histogram"
           }
          ],
          "histogram2d": [
           {
            "colorbar": {
             "outlinewidth": 0,
             "ticks": ""
            },
            "colorscale": [
             [
              0,
              "#0d0887"
             ],
             [
              0.1111111111111111,
              "#46039f"
             ],
             [
              0.2222222222222222,
              "#7201a8"
             ],
             [
              0.3333333333333333,
              "#9c179e"
             ],
             [
              0.4444444444444444,
              "#bd3786"
             ],
             [
              0.5555555555555556,
              "#d8576b"
             ],
             [
              0.6666666666666666,
              "#ed7953"
             ],
             [
              0.7777777777777778,
              "#fb9f3a"
             ],
             [
              0.8888888888888888,
              "#fdca26"
             ],
             [
              1,
              "#f0f921"
             ]
            ],
            "type": "histogram2d"
           }
          ],
          "histogram2dcontour": [
           {
            "colorbar": {
             "outlinewidth": 0,
             "ticks": ""
            },
            "colorscale": [
             [
              0,
              "#0d0887"
             ],
             [
              0.1111111111111111,
              "#46039f"
             ],
             [
              0.2222222222222222,
              "#7201a8"
             ],
             [
              0.3333333333333333,
              "#9c179e"
             ],
             [
              0.4444444444444444,
              "#bd3786"
             ],
             [
              0.5555555555555556,
              "#d8576b"
             ],
             [
              0.6666666666666666,
              "#ed7953"
             ],
             [
              0.7777777777777778,
              "#fb9f3a"
             ],
             [
              0.8888888888888888,
              "#fdca26"
             ],
             [
              1,
              "#f0f921"
             ]
            ],
            "type": "histogram2dcontour"
           }
          ],
          "mesh3d": [
           {
            "colorbar": {
             "outlinewidth": 0,
             "ticks": ""
            },
            "type": "mesh3d"
           }
          ],
          "parcoords": [
           {
            "line": {
             "colorbar": {
              "outlinewidth": 0,
              "ticks": ""
             }
            },
            "type": "parcoords"
           }
          ],
          "pie": [
           {
            "automargin": true,
            "type": "pie"
           }
          ],
          "scatter": [
           {
            "marker": {
             "colorbar": {
              "outlinewidth": 0,
              "ticks": ""
             }
            },
            "type": "scatter"
           }
          ],
          "scatter3d": [
           {
            "line": {
             "colorbar": {
              "outlinewidth": 0,
              "ticks": ""
             }
            },
            "marker": {
             "colorbar": {
              "outlinewidth": 0,
              "ticks": ""
             }
            },
            "type": "scatter3d"
           }
          ],
          "scattercarpet": [
           {
            "marker": {
             "colorbar": {
              "outlinewidth": 0,
              "ticks": ""
             }
            },
            "type": "scattercarpet"
           }
          ],
          "scattergeo": [
           {
            "marker": {
             "colorbar": {
              "outlinewidth": 0,
              "ticks": ""
             }
            },
            "type": "scattergeo"
           }
          ],
          "scattergl": [
           {
            "marker": {
             "colorbar": {
              "outlinewidth": 0,
              "ticks": ""
             }
            },
            "type": "scattergl"
           }
          ],
          "scattermapbox": [
           {
            "marker": {
             "colorbar": {
              "outlinewidth": 0,
              "ticks": ""
             }
            },
            "type": "scattermapbox"
           }
          ],
          "scatterpolar": [
           {
            "marker": {
             "colorbar": {
              "outlinewidth": 0,
              "ticks": ""
             }
            },
            "type": "scatterpolar"
           }
          ],
          "scatterpolargl": [
           {
            "marker": {
             "colorbar": {
              "outlinewidth": 0,
              "ticks": ""
             }
            },
            "type": "scatterpolargl"
           }
          ],
          "scatterternary": [
           {
            "marker": {
             "colorbar": {
              "outlinewidth": 0,
              "ticks": ""
             }
            },
            "type": "scatterternary"
           }
          ],
          "surface": [
           {
            "colorbar": {
             "outlinewidth": 0,
             "ticks": ""
            },
            "colorscale": [
             [
              0,
              "#0d0887"
             ],
             [
              0.1111111111111111,
              "#46039f"
             ],
             [
              0.2222222222222222,
              "#7201a8"
             ],
             [
              0.3333333333333333,
              "#9c179e"
             ],
             [
              0.4444444444444444,
              "#bd3786"
             ],
             [
              0.5555555555555556,
              "#d8576b"
             ],
             [
              0.6666666666666666,
              "#ed7953"
             ],
             [
              0.7777777777777778,
              "#fb9f3a"
             ],
             [
              0.8888888888888888,
              "#fdca26"
             ],
             [
              1,
              "#f0f921"
             ]
            ],
            "type": "surface"
           }
          ],
          "table": [
           {
            "cells": {
             "fill": {
              "color": "#EBF0F8"
             },
             "line": {
              "color": "white"
             }
            },
            "header": {
             "fill": {
              "color": "#C8D4E3"
             },
             "line": {
              "color": "white"
             }
            },
            "type": "table"
           }
          ]
         },
         "layout": {
          "annotationdefaults": {
           "arrowcolor": "#2a3f5f",
           "arrowhead": 0,
           "arrowwidth": 1
          },
          "coloraxis": {
           "colorbar": {
            "outlinewidth": 0,
            "ticks": ""
           }
          },
          "colorscale": {
           "diverging": [
            [
             0,
             "#8e0152"
            ],
            [
             0.1,
             "#c51b7d"
            ],
            [
             0.2,
             "#de77ae"
            ],
            [
             0.3,
             "#f1b6da"
            ],
            [
             0.4,
             "#fde0ef"
            ],
            [
             0.5,
             "#f7f7f7"
            ],
            [
             0.6,
             "#e6f5d0"
            ],
            [
             0.7,
             "#b8e186"
            ],
            [
             0.8,
             "#7fbc41"
            ],
            [
             0.9,
             "#4d9221"
            ],
            [
             1,
             "#276419"
            ]
           ],
           "sequential": [
            [
             0,
             "#0d0887"
            ],
            [
             0.1111111111111111,
             "#46039f"
            ],
            [
             0.2222222222222222,
             "#7201a8"
            ],
            [
             0.3333333333333333,
             "#9c179e"
            ],
            [
             0.4444444444444444,
             "#bd3786"
            ],
            [
             0.5555555555555556,
             "#d8576b"
            ],
            [
             0.6666666666666666,
             "#ed7953"
            ],
            [
             0.7777777777777778,
             "#fb9f3a"
            ],
            [
             0.8888888888888888,
             "#fdca26"
            ],
            [
             1,
             "#f0f921"
            ]
           ],
           "sequentialminus": [
            [
             0,
             "#0d0887"
            ],
            [
             0.1111111111111111,
             "#46039f"
            ],
            [
             0.2222222222222222,
             "#7201a8"
            ],
            [
             0.3333333333333333,
             "#9c179e"
            ],
            [
             0.4444444444444444,
             "#bd3786"
            ],
            [
             0.5555555555555556,
             "#d8576b"
            ],
            [
             0.6666666666666666,
             "#ed7953"
            ],
            [
             0.7777777777777778,
             "#fb9f3a"
            ],
            [
             0.8888888888888888,
             "#fdca26"
            ],
            [
             1,
             "#f0f921"
            ]
           ]
          },
          "colorway": [
           "#636efa",
           "#EF553B",
           "#00cc96",
           "#ab63fa",
           "#FFA15A",
           "#19d3f3",
           "#FF6692",
           "#B6E880",
           "#FF97FF",
           "#FECB52"
          ],
          "font": {
           "color": "#2a3f5f"
          },
          "geo": {
           "bgcolor": "white",
           "lakecolor": "white",
           "landcolor": "#E5ECF6",
           "showlakes": true,
           "showland": true,
           "subunitcolor": "white"
          },
          "hoverlabel": {
           "align": "left"
          },
          "hovermode": "closest",
          "mapbox": {
           "style": "light"
          },
          "paper_bgcolor": "white",
          "plot_bgcolor": "#E5ECF6",
          "polar": {
           "angularaxis": {
            "gridcolor": "white",
            "linecolor": "white",
            "ticks": ""
           },
           "bgcolor": "#E5ECF6",
           "radialaxis": {
            "gridcolor": "white",
            "linecolor": "white",
            "ticks": ""
           }
          },
          "scene": {
           "xaxis": {
            "backgroundcolor": "#E5ECF6",
            "gridcolor": "white",
            "gridwidth": 2,
            "linecolor": "white",
            "showbackground": true,
            "ticks": "",
            "zerolinecolor": "white"
           },
           "yaxis": {
            "backgroundcolor": "#E5ECF6",
            "gridcolor": "white",
            "gridwidth": 2,
            "linecolor": "white",
            "showbackground": true,
            "ticks": "",
            "zerolinecolor": "white"
           },
           "zaxis": {
            "backgroundcolor": "#E5ECF6",
            "gridcolor": "white",
            "gridwidth": 2,
            "linecolor": "white",
            "showbackground": true,
            "ticks": "",
            "zerolinecolor": "white"
           }
          },
          "shapedefaults": {
           "line": {
            "color": "#2a3f5f"
           }
          },
          "ternary": {
           "aaxis": {
            "gridcolor": "white",
            "linecolor": "white",
            "ticks": ""
           },
           "baxis": {
            "gridcolor": "white",
            "linecolor": "white",
            "ticks": ""
           },
           "bgcolor": "#E5ECF6",
           "caxis": {
            "gridcolor": "white",
            "linecolor": "white",
            "ticks": ""
           }
          },
          "title": {
           "x": 0.05
          },
          "xaxis": {
           "automargin": true,
           "gridcolor": "white",
           "linecolor": "white",
           "ticks": "",
           "title": {
            "standoff": 15
           },
           "zerolinecolor": "white",
           "zerolinewidth": 2
          },
          "yaxis": {
           "automargin": true,
           "gridcolor": "white",
           "linecolor": "white",
           "ticks": "",
           "title": {
            "standoff": 15
           },
           "zerolinecolor": "white",
           "zerolinewidth": 2
          }
         }
        },
        "title": {
         "font": {
          "color": "#D9D9D9"
         },
         "text": "Company Annual Max Data Job Salary vs Company Rating"
        },
        "xaxis": {
         "gridcolor": "#434343",
         "showgrid": true,
         "tickfont": {
          "color": "#C2C2C2"
         },
         "title": {
          "font": {
           "color": "#D9D9D9"
          },
          "text": "Company Rating"
         },
         "zerolinecolor": "#666570"
        },
        "yaxis": {
         "gridcolor": "#434343",
         "showgrid": true,
         "tickfont": {
          "color": "#C2C2C2"
         },
         "title": {
          "font": {
           "color": "#D9D9D9"
          },
          "text": "Annual Max Data Job Salary"
         },
         "zerolinecolor": "#666570"
        }
       }
      },
      "text/html": [
       "<div>\n",
       "        \n",
       "        \n",
       "            <div id=\"c0b67c02-181f-466d-a754-5c3bfeef1bf2\" class=\"plotly-graph-div\" style=\"height:525px; width:100%;\"></div>\n",
       "            <script type=\"text/javascript\">\n",
       "                require([\"plotly\"], function(Plotly) {\n",
       "                    window.PLOTLYENV=window.PLOTLYENV || {};\n",
       "                    window.PLOTLYENV.BASE_URL='https://plot.ly';\n",
       "                    \n",
       "                if (document.getElementById(\"c0b67c02-181f-466d-a754-5c3bfeef1bf2\")) {\n",
       "                    Plotly.newPlot(\n",
       "                        'c0b67c02-181f-466d-a754-5c3bfeef1bf2',\n",
       "                        [{\"line\": {\"color\": \"rgba(128, 0, 128, 1.0)\", \"dash\": \"solid\", \"shape\": \"linear\", \"width\": 1.3}, \"marker\": {\"size\": 12, \"symbol\": \"circle\"}, \"mode\": \"markers\", \"name\": \"annual_max_salary\", \"text\": [\"Austin Telco Federal Credit Union\", \"COMPTROLLER OF PUBLIC ACCOUNTS\", \"COMPTROLLER OF PUBLIC ACCOUNTS\", \"COMPTROLLER OF PUBLIC ACCOUNTS\", \"TEXAS EDUCATION AGENCY\", \"TEXAS EDUCATION AGENCY\", \"TEXAS EDUCATION AGENCY\", \"TEXAS EDUCATION AGENCY\", \"TEXAS EDUCATION AGENCY\", \"Texas Comptroller of Public Accounts\", \"Special Counsel\", \"KRK Technologies\", \"Texas Tool Traders\", \"Texas Department of Transportation\", \"Teacher Retirement System of Texas\", \"Teacher Retirement System of Texas\", \"Integral Care\", \"Integral Care\", \"Health & Human Services Comm\", \"Health & Human Services Comm\", \"Health & Human Services Comm\", \"Health & Human Services Comm\", \"Principle Group\", \"Principle Group\", \"Indeed\", \"Indeed\", \"Indeed\", \"Dept of Family & Protectve Svc\", \"Austin Energy\", \"Digital Creative Institute\", \"TEXAS MILITARY DEPARTMENT\", \"Goodwill Central Texas\", \"Somnio\", \"Aunt Bertha, a Public Benefit Corp.\", \"TCG Group Holdings\", \"US Department of the Treasury\", \"US Department of the Treasury\", \"Health Care Consultants, Inc.\", \"RCM Technologies\", \"UNITE HERE\", \"care.coach\", \"Backstage Library Works\", \"Tredence\", \"Tredence\", \"Tredence\", \"Universal Healthcare\", \"California State University\", \"City & County of San Francisco\", \"City & County of San Francisco\", \"City & County of San Francisco\", \"Stealth Mode Startup\", \"SHELTER, Inc.\", \"University of California Berkeley\", \"University of North Carolina at Chapel Hill\", \"University of North Carolina at Chapel Hill\", \"University of North Carolina at Chapel Hill\", \"University of North Carolina at Chapel Hill\", \"University of North Carolina at Chapel Hill\", \"State of North Carolina\", \"State of North Carolina\", \"State of North Carolina\", \"State of North Carolina\", \"State of North Carolina\", \"NC School Of Science And Mathematics\", \"Birlasoft\", \"North Carolina School of Science and Mathematics\", \"Durham County\", \"Four Star Realty and Property Management\", \"Four Star Realty and Property Management\", \"Arapahoe County, CO\", \"State of Colorado Job Opportunities\", \"State of Colorado Job Opportunities\", \"State of Colorado Job Opportunities\", \"State of Colorado Job Opportunities\", \"NASDAQ\", \"City and County of Denver\", \"City and County of Denver\", \"Snavely Forest Products\", \"Denver Public Schools\", \"CBRE\", \"CBRE\", \"CBRE\", \"Community College of Aurora\", \"Community College of Aurora\", \"Astreya Partners Inc\", \"Community Leadership Academy\", \"City and County of Broomfield\", \"Mr. Rooter of Seattle\", \"Country Doctor Community Health Centers\", \"Seattle Aquarium\", \"CIS, Inc.\", \"IDAX Data Solutions\", \"US Department of Transportation\", \"US Department of Transportation\", \"DESC\", \"Pactera Technologies\", \"Pactera Technologies\", \"Pactera Technologies\", \"HCL Americas\", \"BECU Credit Union\", \"BECU Credit Union\", \"Liberty Mutual Insurance\", \"Liberty Mutual Insurance\", \"Liberty Mutual Insurance\", \"Liberty Mutual Insurance\", \"Liberty Mutual Insurance\", \"Liberty Mutual Insurance\", \"Liberty Mutual Insurance\", \"Liberty Mutual Insurance\", \"Liberty Mutual Insurance\", \"Liberty Mutual Insurance\", \"Neal Analytics\", \"MAQ Software\", \"Genuent\", \"HR Partners\", \"Gwinnett County Public Schools\", \"Scientific Games\", \"Metropolitan Boston Housing Partnership\", \"Wayside Youth & Family Support Network\", \"Rangam Consultants Inc.\", \"Clinical Science Laboratory\", \"SkyBridge\", \"State Lottery Commission\", \"Housing Opportunities Unlimited\", \"EO of Labor & Work Dvlpmnt\", \"Pegasystems\", \"HT Health\", \"Exec Office of Technology Services and Security\", \"Exec Office of Technology Services and Security\", \"CGI Group, Inc.\", \"Steppingstone Foundation\", \"The Steppingstone Foundation\", \"Boston Public Health Commission\", \"E.O. Health & Human Services\", \"E.O. Health & Human Services\", \"Anheuser-Busch\", \"Anheuser-Busch\", \"Anheuser-Busch\", \"Anheuser-Busch\", \"Anheuser-Busch\", \"Anheuser-Busch\", \"Anheuser-Busch\", \"Anheuser-Busch\", \"Anheuser-Busch\", \"Anheuser-Busch\", \"ComputerCare\", \"Sciolex Corporation\", \"Sciolex Corporation\", \"New York City DEPT OF HEALTH/MENTAL HYGIENE\", \"New York City DEPT OF HEALTH/MENTAL HYGIENE\", \"New York City DEPT OF HEALTH/MENTAL HYGIENE\", \"New York City DEPT OF HEALTH/MENTAL HYGIENE\", \"New York City DEPT OF HEALTH/MENTAL HYGIENE\", \"New York City DEPT OF HEALTH/MENTAL HYGIENE\", \"New York City DEPT OF HEALTH/MENTAL HYGIENE\", \"New York City DEPT OF HEALTH/MENTAL HYGIENE\", \"New York City DEPT OF HEALTH/MENTAL HYGIENE\", \"New York City LAW DEPARTMENT\", \"Tanisha Systems Inc.\", \"New York City POLICE DEPARTMENT\", \"Strategic Financial Solutions\", \"Watermark\", \"Zoic Studios\", \"Brooklyn Public Library\", \"New York City DEPARTMENT OF FINANCE\", \"New York City TAXI & LIMOUSINE COMMISSION\", \"New York City TAXI & LIMOUSINE COMMISSION\", \"New York City Department of Education\", \"CTG\", \"BICP\", \"Research Foundation of The City University of New York\", \"Research Foundation of The City University of New York\", \"Transfast\", \"New York City Department of Education .\", \"New York City Department of Education .\", \"New York City DEPARTMENT OF INVESTIGATION\", \"New York City DEPARTMENT OF INVESTIGATION\", \"New York City DEPARTMENT OF INVESTIGATION\", \"New York City DEPARTMENT OF INVESTIGATION\", \"New York City DEPARTMENT OF INVESTIGATION\", \"New York City DEPARTMENT OF INVESTIGATION\", \"New York City DEPARTMENT OF INVESTIGATION\", \"New York City DEPARTMENT OF INVESTIGATION\", \"New York City DEPARTMENT OF INVESTIGATION\", \"New York City DEPARTMENT OF INVESTIGATION\", \"New York City DEPARTMENT OF INVESTIGATION\", \"New York City DEPARTMENT OF INVESTIGATION\", \"New York City DEPARTMENT OF INVESTIGATION\", \"New York City DEPARTMENT OF INVESTIGATION\", \"New York City DEPARTMENT OF INVESTIGATION\", \"New York City DEPARTMENT OF INVESTIGATION\", \"New York City DEPARTMENT OF INVESTIGATION\", \"New York City DEPARTMENT OF INVESTIGATION\", \"New York City DEPARTMENT OF INVESTIGATION\", \"New York City DEPARTMENT OF INVESTIGATION\", \"New York City DEPARTMENT OF INVESTIGATION\", \"New York City DEPARTMENT OF INVESTIGATION\", \"New York City DEPARTMENT OF INVESTIGATION\", \"New York City DEPARTMENT OF INVESTIGATION\", \"New York City DEPARTMENT OF INVESTIGATION\", \"New York City DEPARTMENT OF INVESTIGATION\", \"New York City DEPARTMENT OF INVESTIGATION\", \"New York City DEPARTMENT OF INVESTIGATION\", \"New York City DEPARTMENT OF INVESTIGATION\", \"New York City DEPARTMENT OF INVESTIGATION\", \"New York City DEPARTMENT OF INVESTIGATION\", \"New York City DEPARTMENT OF INVESTIGATION\", \"New York City DEPARTMENT OF CORRECTION\", \"New York City DEPARTMENT OF CORRECTION\", \"New York City DEPARTMENT OF CORRECTION\", \"New York City DEPARTMENT OF CORRECTION\", \"New York City DEPARTMENT OF CORRECTION\", \"New York City DEPARTMENT OF CORRECTION\", \"New York City DEPARTMENT OF CORRECTION\", \"New York City DEPARTMENT OF CORRECTION\", \"New York City DEPARTMENT OF CORRECTION\", \"New York City DEPARTMENT OF CORRECTION\", \"New York City DEPARTMENT OF CORRECTION\", \"New York City DEPARTMENT OF CORRECTION\", \"New York City DEPARTMENT OF CORRECTION\", \"New York City DEPARTMENT OF CORRECTION\", \"New York City DEPARTMENT OF CORRECTION\", \"New York City DEPARTMENT OF CORRECTION\", \"New York City DEPARTMENT OF CORRECTION\", \"New York City DEPARTMENT OF CORRECTION\", \"New York City DEPARTMENT OF CORRECTION\", \"New York City DEPARTMENT OF CORRECTION\", \"New York City DEPARTMENT OF CORRECTION\", \"New York City DEPARTMENT OF CORRECTION\", \"New York City DEPARTMENT OF CORRECTION\", \"New York City DEPARTMENT OF CORRECTION\", \"New York City DEPARTMENT OF CORRECTION\", \"New York City DEPARTMENT OF CORRECTION\", \"New York City DEPARTMENT OF CORRECTION\", \"New York City DEPARTMENT OF CORRECTION\", \"New York City DEPARTMENT OF CORRECTION\", \"New York City DEPARTMENT OF CORRECTION\", \"New York City DEPARTMENT OF CORRECTION\", \"New York City DEPARTMENT OF CORRECTION\", \"US Department of Agriculture\", \"US Department of Agriculture\", \"US Department of Veterans Affairs\", \"Northern Virginia Community College\", \"George Mason University\", \"US Department of Commerce\", \"US Department of Commerce\", \"The Brookings Institution\", \"Government of the District of Columbia\", \"US Other Agencies and Independent Organizations\", \"Gridiron IT\", \"US Department of the Army\", \"US Department of Health And Human Services\", \"US Department of Health And Human Services\", \"US Department of Health And Human Services\", \"Fairfax County Government\", \"Fairfax County Government\", \"MRP\", \"Prince George's County Public Schools\", \"US National Aeronautics and Space Administration\", \"US Department of Labor\", \"Centers for Disease Control and Prevention\", \"CLS Bank International\", \"Gravy Work\", \"Long Fence & Home\", \"ARK Solutions Inc.\", \"University of Maryland\", \"Ohio State University Medical Center\", \"Ohio State University Medical Center\", \"State of Ohio Jobs\", \"State of Ohio Jobs\", \"State of Ohio Jobs\", \"State of Ohio Jobs\", \"Flex High School of Ohio\", \"ALDI\", \"Greif\", \"The Ohio State University\", \"OSU Wexner Medical Center\", \"Access 2 Interpreters, LLC.\", \"Franklin County Children Services\"], \"type\": \"scatter\", \"x\": [3.7, 3.0, 3.0, 3.0, 3.8, 3.8, 3.8, 3.8, 3.8, 4.4, 3.4, 3.0, 3.0, 3.9, 2.8, 2.8, 3.6, 3.6, 3.4, 3.4, 3.4, 3.4, 3.5, 3.5, 4.4, 4.4, 4.4, 3.4, 3.8, 5.0, 3.9, 3.4, 3.8, 4.7, 3.8, 4.0, 4.0, 5.0, 3.6, 4.4, 5.0, 3.8, 4.2, 4.2, 4.2, 3.4, 4.3, 4.1, 4.1, 4.1, 4.6, 3.4, 4.2, 4.2, 4.2, 4.2, 4.2, 4.2, 3.5, 3.5, 3.5, 3.5, 3.5, 3.5, 3.8, 3.9, 3.8, 5.0, 5.0, 3.9, 3.4, 3.4, 3.4, 3.4, 3.8, 3.6, 3.6, 3.4, 3.6, 3.8, 3.8, 3.8, 4.1, 4.1, 2.7, 2.1, 4.3, 3.3, 4.4, 4.9, 3.6, 3.3, 4.1, 4.1, 3.6, 3.5, 3.5, 3.5, 2.7, 3.9, 3.9, 3.6, 3.6, 3.6, 3.6, 3.6, 3.6, 3.6, 3.6, 3.6, 3.6, 3.0, 3.4, 3.8, 4.6, 4.0, 3.5, 3.1, 3.7, 4.0, 3.9, 2.8, 4.0, 2.8, 4.0, 3.5, 4.3, 4.0, 4.0, 3.7, 4.7, 4.7, 3.9, 4.0, 4.0, 3.8, 3.8, 3.8, 3.8, 3.8, 3.8, 3.8, 3.8, 3.8, 3.8, 3.0, 5.0, 5.0, 4.1, 4.1, 4.1, 4.1, 4.1, 4.1, 4.1, 4.1, 4.1, 3.8, 3.2, 4.2, 3.5, 2.3, 4.3, 3.9, 3.8, 2.7, 2.7, 4.0, 3.6, 5.0, 4.2, 4.2, 3.5, 4.0, 4.0, 4.2, 4.2, 4.2, 4.2, 4.2, 4.2, 4.2, 4.2, 4.2, 4.2, 4.2, 4.2, 4.2, 4.2, 4.2, 4.2, 4.2, 4.2, 4.2, 4.2, 4.2, 4.2, 4.2, 4.2, 4.2, 4.2, 4.2, 4.2, 4.2, 4.2, 4.2, 4.2, 3.5, 3.5, 3.5, 3.5, 3.5, 3.5, 3.5, 3.5, 3.5, 3.5, 3.5, 3.5, 3.5, 3.5, 3.5, 3.5, 3.5, 3.5, 3.5, 3.5, 3.5, 3.5, 3.5, 3.5, 3.5, 3.5, 3.5, 3.5, 3.5, 3.5, 3.5, 3.5, 4.1, 4.1, 3.8, 4.2, 4.2, 4.1, 4.1, 4.1, 3.6, 4.5, 4.6, 4.3, 4.1, 4.1, 4.1, 4.1, 4.1, 3.8, 3.7, 4.4, 4.0, 4.2, 2.8, 3.4, 3.4, 4.3, 4.1, 4.2, 4.2, 3.8, 3.8, 3.8, 3.8, 4.1, 3.4, 3.8, 4.2, 4.1, 3.0, 3.2], \"y\": [60000.0, 29568.0, 108000.0, 73200.0, 93408.0, 77868.0, 100008.0, 114996.0, 82008.0, 108000.0, 31200.0, 41600.0, 24960.0, 96720.0, 35360.0, 28080.0, 30742.4, 77862.0, 77868.0, 96720.0, 117396.0, 77868.0, 29120.0, 29120.0, 50003.2, 174000.0, 174000.0, 77868.0, 101857.6, 40000.0, 72996.0, 27040.0, 37440.0, 31200.0, 26000.0, 39915.2, 165084.0, 70000.0, 85280.0, 55000.0, 135000.0, 41600.0, 150000.0, 145000.0, 135200.0, 116000.0, 108000.0, 93204.8, 113318.4, 51542.4, 250000.0, 83200.0, 100000.0, 45760.0, 87392.0, 60320.0, 47008.0, 31200.0, 133937.0, 44091.0, 100892.0, 86431.0, 51986.0, 51986.0, 140000.0, 51986.0, 83511.0, 41600.0, 37440.0, 33280.0, 75240.0, 53160.0, 70248.0, 93480.0, 95000.0, 135000.0, 115000.0, 29120.0, 77316.0, 70000.0, 80000.0, 75000.0, 22638.0, 55000.0, 120000.0, 46200.0, 96720.0, 33280.0, 56160.0, 36400.0, 44400.0, 39520.0, 136271.0, 136271.0, 43397.0, 29120.0, 29120.0, 27040.0, 70720.0, 118000.0, 143000.0, 197600.0, 134100.0, 120000.0, 134100.0, 173000.0, 134100.0, 173200.0, 190000.0, 152000.0, 152000.0, 72800.0, 95000.0, 62400.0, 42000.0, 26949.0, 37502.4, 64000.0, 31200.0, 101920.0, 33280.0, 208000.0, 114250.0, 55000.0, 90570.0, 160000.0, 39000.0, 185000.0, 92382.0, 34236.8, 55000.0, 55000.0, 120000.0, 131429.0, 131429.0, 123500.0, 123500.0, 123500.0, 123500.0, 123500.0, 123500.0, 123500.0, 123500.0, 123500.0, 123500.0, 41600.0, 37481.6, 37772.8, 71446.0, 70554.0, 91800.0, 58566.0, 70554.0, 86830.0, 93776.0, 70554.0, 87805.0, 153666.0, 147680.0, 110116.0, 35000.0, 50000.0, 47840.0, 31200.0, 86830.0, 65888.0, 78000.0, 70370.0, 180000.0, 228800.0, 88400.0, 31200.0, 80000.0, 103000.0, 98919.0, 66388.0, 66388.0, 66388.0, 66388.0, 66388.0, 66388.0, 66388.0, 66388.0, 66388.0, 66388.0, 66388.0, 66388.0, 66388.0, 66388.0, 66388.0, 66388.0, 66388.0, 66388.0, 66388.0, 66388.0, 66388.0, 66388.0, 66388.0, 66388.0, 66388.0, 66388.0, 66388.0, 66388.0, 66388.0, 66388.0, 66388.0, 66388.0, 63031.0, 63031.0, 63031.0, 63031.0, 63031.0, 63031.0, 63031.0, 63031.0, 63031.0, 63031.0, 63031.0, 63031.0, 63031.0, 63031.0, 63031.0, 63031.0, 63031.0, 63031.0, 63031.0, 63031.0, 63031.0, 63031.0, 63031.0, 63031.0, 63031.0, 63031.0, 63031.0, 63031.0, 63031.0, 63031.0, 63031.0, 63031.0, 133465.0, 133465.0, 170800.0, 85000.0, 41600.0, 170800.0, 170800.0, 31200.0, 122227.0, 203052.0, 114400.0, 179201.0, 133465.0, 128920.0, 128920.0, 114533.0, 125861.0, 150000.0, 103819.0, 133465.0, 166500.0, 152352.0, 176800.0, 49920.0, 75000.0, 124800.0, 69100.0, 121830.0, 70000.0, 60070.4, 43409.6, 114379.2, 80017.6, 31200.0, 62000.0, 55000.0, 75000.0, 140740.0, 27040.0, 93600.0]}],\n",
       "                        {\"legend\": {\"bgcolor\": \"#151516\", \"font\": {\"color\": \"#D9D9D9\"}}, \"paper_bgcolor\": \"#151516\", \"plot_bgcolor\": \"#151516\", \"template\": {\"data\": {\"bar\": [{\"error_x\": {\"color\": \"#2a3f5f\"}, \"error_y\": {\"color\": \"#2a3f5f\"}, \"marker\": {\"line\": {\"color\": \"#E5ECF6\", \"width\": 0.5}}, \"type\": \"bar\"}], \"barpolar\": [{\"marker\": {\"line\": {\"color\": \"#E5ECF6\", \"width\": 0.5}}, \"type\": \"barpolar\"}], \"carpet\": [{\"aaxis\": {\"endlinecolor\": \"#2a3f5f\", \"gridcolor\": \"white\", \"linecolor\": \"white\", \"minorgridcolor\": \"white\", \"startlinecolor\": \"#2a3f5f\"}, \"baxis\": {\"endlinecolor\": \"#2a3f5f\", \"gridcolor\": \"white\", \"linecolor\": \"white\", \"minorgridcolor\": \"white\", \"startlinecolor\": \"#2a3f5f\"}, \"type\": \"carpet\"}], \"choropleth\": [{\"colorbar\": {\"outlinewidth\": 0, \"ticks\": \"\"}, \"type\": \"choropleth\"}], \"contour\": [{\"colorbar\": {\"outlinewidth\": 0, \"ticks\": \"\"}, \"colorscale\": [[0.0, \"#0d0887\"], [0.1111111111111111, \"#46039f\"], [0.2222222222222222, \"#7201a8\"], [0.3333333333333333, \"#9c179e\"], [0.4444444444444444, \"#bd3786\"], [0.5555555555555556, \"#d8576b\"], [0.6666666666666666, \"#ed7953\"], [0.7777777777777778, \"#fb9f3a\"], [0.8888888888888888, \"#fdca26\"], [1.0, \"#f0f921\"]], \"type\": \"contour\"}], \"contourcarpet\": [{\"colorbar\": {\"outlinewidth\": 0, \"ticks\": \"\"}, \"type\": \"contourcarpet\"}], \"heatmap\": [{\"colorbar\": {\"outlinewidth\": 0, \"ticks\": \"\"}, \"colorscale\": [[0.0, \"#0d0887\"], [0.1111111111111111, \"#46039f\"], [0.2222222222222222, \"#7201a8\"], [0.3333333333333333, \"#9c179e\"], [0.4444444444444444, \"#bd3786\"], [0.5555555555555556, \"#d8576b\"], [0.6666666666666666, \"#ed7953\"], [0.7777777777777778, \"#fb9f3a\"], [0.8888888888888888, \"#fdca26\"], [1.0, \"#f0f921\"]], \"type\": \"heatmap\"}], \"heatmapgl\": [{\"colorbar\": {\"outlinewidth\": 0, \"ticks\": \"\"}, \"colorscale\": [[0.0, \"#0d0887\"], [0.1111111111111111, \"#46039f\"], [0.2222222222222222, \"#7201a8\"], [0.3333333333333333, \"#9c179e\"], [0.4444444444444444, \"#bd3786\"], [0.5555555555555556, \"#d8576b\"], [0.6666666666666666, \"#ed7953\"], [0.7777777777777778, \"#fb9f3a\"], [0.8888888888888888, \"#fdca26\"], [1.0, \"#f0f921\"]], \"type\": \"heatmapgl\"}], \"histogram\": [{\"marker\": {\"colorbar\": {\"outlinewidth\": 0, \"ticks\": \"\"}}, \"type\": \"histogram\"}], \"histogram2d\": [{\"colorbar\": {\"outlinewidth\": 0, \"ticks\": \"\"}, \"colorscale\": [[0.0, \"#0d0887\"], [0.1111111111111111, \"#46039f\"], [0.2222222222222222, \"#7201a8\"], [0.3333333333333333, \"#9c179e\"], [0.4444444444444444, \"#bd3786\"], [0.5555555555555556, \"#d8576b\"], [0.6666666666666666, \"#ed7953\"], [0.7777777777777778, \"#fb9f3a\"], [0.8888888888888888, \"#fdca26\"], [1.0, \"#f0f921\"]], \"type\": \"histogram2d\"}], \"histogram2dcontour\": [{\"colorbar\": {\"outlinewidth\": 0, \"ticks\": \"\"}, \"colorscale\": [[0.0, \"#0d0887\"], [0.1111111111111111, \"#46039f\"], [0.2222222222222222, \"#7201a8\"], [0.3333333333333333, \"#9c179e\"], [0.4444444444444444, \"#bd3786\"], [0.5555555555555556, \"#d8576b\"], [0.6666666666666666, \"#ed7953\"], [0.7777777777777778, \"#fb9f3a\"], [0.8888888888888888, \"#fdca26\"], [1.0, \"#f0f921\"]], \"type\": \"histogram2dcontour\"}], \"mesh3d\": [{\"colorbar\": {\"outlinewidth\": 0, \"ticks\": \"\"}, \"type\": \"mesh3d\"}], \"parcoords\": [{\"line\": {\"colorbar\": {\"outlinewidth\": 0, \"ticks\": \"\"}}, \"type\": \"parcoords\"}], \"pie\": [{\"automargin\": true, \"type\": \"pie\"}], \"scatter\": [{\"marker\": {\"colorbar\": {\"outlinewidth\": 0, \"ticks\": \"\"}}, \"type\": \"scatter\"}], \"scatter3d\": [{\"line\": {\"colorbar\": {\"outlinewidth\": 0, \"ticks\": \"\"}}, \"marker\": {\"colorbar\": {\"outlinewidth\": 0, \"ticks\": \"\"}}, \"type\": \"scatter3d\"}], \"scattercarpet\": [{\"marker\": {\"colorbar\": {\"outlinewidth\": 0, \"ticks\": \"\"}}, \"type\": \"scattercarpet\"}], \"scattergeo\": [{\"marker\": {\"colorbar\": {\"outlinewidth\": 0, \"ticks\": \"\"}}, \"type\": \"scattergeo\"}], \"scattergl\": [{\"marker\": {\"colorbar\": {\"outlinewidth\": 0, \"ticks\": \"\"}}, \"type\": \"scattergl\"}], \"scattermapbox\": [{\"marker\": {\"colorbar\": {\"outlinewidth\": 0, \"ticks\": \"\"}}, \"type\": \"scattermapbox\"}], \"scatterpolar\": [{\"marker\": {\"colorbar\": {\"outlinewidth\": 0, \"ticks\": \"\"}}, \"type\": \"scatterpolar\"}], \"scatterpolargl\": [{\"marker\": {\"colorbar\": {\"outlinewidth\": 0, \"ticks\": \"\"}}, \"type\": \"scatterpolargl\"}], \"scatterternary\": [{\"marker\": {\"colorbar\": {\"outlinewidth\": 0, \"ticks\": \"\"}}, \"type\": \"scatterternary\"}], \"surface\": [{\"colorbar\": {\"outlinewidth\": 0, \"ticks\": \"\"}, \"colorscale\": [[0.0, \"#0d0887\"], [0.1111111111111111, \"#46039f\"], [0.2222222222222222, \"#7201a8\"], [0.3333333333333333, \"#9c179e\"], [0.4444444444444444, \"#bd3786\"], [0.5555555555555556, \"#d8576b\"], [0.6666666666666666, \"#ed7953\"], [0.7777777777777778, \"#fb9f3a\"], [0.8888888888888888, \"#fdca26\"], [1.0, \"#f0f921\"]], \"type\": \"surface\"}], \"table\": [{\"cells\": {\"fill\": {\"color\": \"#EBF0F8\"}, \"line\": {\"color\": \"white\"}}, \"header\": {\"fill\": {\"color\": \"#C8D4E3\"}, \"line\": {\"color\": \"white\"}}, \"type\": \"table\"}]}, \"layout\": {\"annotationdefaults\": {\"arrowcolor\": \"#2a3f5f\", \"arrowhead\": 0, \"arrowwidth\": 1}, \"coloraxis\": {\"colorbar\": {\"outlinewidth\": 0, \"ticks\": \"\"}}, \"colorscale\": {\"diverging\": [[0, \"#8e0152\"], [0.1, \"#c51b7d\"], [0.2, \"#de77ae\"], [0.3, \"#f1b6da\"], [0.4, \"#fde0ef\"], [0.5, \"#f7f7f7\"], [0.6, \"#e6f5d0\"], [0.7, \"#b8e186\"], [0.8, \"#7fbc41\"], [0.9, \"#4d9221\"], [1, \"#276419\"]], \"sequential\": [[0.0, \"#0d0887\"], [0.1111111111111111, \"#46039f\"], [0.2222222222222222, \"#7201a8\"], [0.3333333333333333, \"#9c179e\"], [0.4444444444444444, \"#bd3786\"], [0.5555555555555556, \"#d8576b\"], [0.6666666666666666, \"#ed7953\"], [0.7777777777777778, \"#fb9f3a\"], [0.8888888888888888, \"#fdca26\"], [1.0, \"#f0f921\"]], \"sequentialminus\": [[0.0, \"#0d0887\"], [0.1111111111111111, \"#46039f\"], [0.2222222222222222, \"#7201a8\"], [0.3333333333333333, \"#9c179e\"], [0.4444444444444444, \"#bd3786\"], [0.5555555555555556, \"#d8576b\"], [0.6666666666666666, \"#ed7953\"], [0.7777777777777778, \"#fb9f3a\"], [0.8888888888888888, \"#fdca26\"], [1.0, \"#f0f921\"]]}, \"colorway\": [\"#636efa\", \"#EF553B\", \"#00cc96\", \"#ab63fa\", \"#FFA15A\", \"#19d3f3\", \"#FF6692\", \"#B6E880\", \"#FF97FF\", \"#FECB52\"], \"font\": {\"color\": \"#2a3f5f\"}, \"geo\": {\"bgcolor\": \"white\", \"lakecolor\": \"white\", \"landcolor\": \"#E5ECF6\", \"showlakes\": true, \"showland\": true, \"subunitcolor\": \"white\"}, \"hoverlabel\": {\"align\": \"left\"}, \"hovermode\": \"closest\", \"mapbox\": {\"style\": \"light\"}, \"paper_bgcolor\": \"white\", \"plot_bgcolor\": \"#E5ECF6\", \"polar\": {\"angularaxis\": {\"gridcolor\": \"white\", \"linecolor\": \"white\", \"ticks\": \"\"}, \"bgcolor\": \"#E5ECF6\", \"radialaxis\": {\"gridcolor\": \"white\", \"linecolor\": \"white\", \"ticks\": \"\"}}, \"scene\": {\"xaxis\": {\"backgroundcolor\": \"#E5ECF6\", \"gridcolor\": \"white\", \"gridwidth\": 2, \"linecolor\": \"white\", \"showbackground\": true, \"ticks\": \"\", \"zerolinecolor\": \"white\"}, \"yaxis\": {\"backgroundcolor\": \"#E5ECF6\", \"gridcolor\": \"white\", \"gridwidth\": 2, \"linecolor\": \"white\", \"showbackground\": true, \"ticks\": \"\", \"zerolinecolor\": \"white\"}, \"zaxis\": {\"backgroundcolor\": \"#E5ECF6\", \"gridcolor\": \"white\", \"gridwidth\": 2, \"linecolor\": \"white\", \"showbackground\": true, \"ticks\": \"\", \"zerolinecolor\": \"white\"}}, \"shapedefaults\": {\"line\": {\"color\": \"#2a3f5f\"}}, \"ternary\": {\"aaxis\": {\"gridcolor\": \"white\", \"linecolor\": \"white\", \"ticks\": \"\"}, \"baxis\": {\"gridcolor\": \"white\", \"linecolor\": \"white\", \"ticks\": \"\"}, \"bgcolor\": \"#E5ECF6\", \"caxis\": {\"gridcolor\": \"white\", \"linecolor\": \"white\", \"ticks\": \"\"}}, \"title\": {\"x\": 0.05}, \"xaxis\": {\"automargin\": true, \"gridcolor\": \"white\", \"linecolor\": \"white\", \"ticks\": \"\", \"title\": {\"standoff\": 15}, \"zerolinecolor\": \"white\", \"zerolinewidth\": 2}, \"yaxis\": {\"automargin\": true, \"gridcolor\": \"white\", \"linecolor\": \"white\", \"ticks\": \"\", \"title\": {\"standoff\": 15}, \"zerolinecolor\": \"white\", \"zerolinewidth\": 2}}}, \"title\": {\"font\": {\"color\": \"#D9D9D9\"}, \"text\": \"Company Annual Max Data Job Salary vs Company Rating\"}, \"xaxis\": {\"gridcolor\": \"#434343\", \"showgrid\": true, \"tickfont\": {\"color\": \"#C2C2C2\"}, \"title\": {\"font\": {\"color\": \"#D9D9D9\"}, \"text\": \"Company Rating\"}, \"zerolinecolor\": \"#666570\"}, \"yaxis\": {\"gridcolor\": \"#434343\", \"showgrid\": true, \"tickfont\": {\"color\": \"#C2C2C2\"}, \"title\": {\"font\": {\"color\": \"#D9D9D9\"}, \"text\": \"Annual Max Data Job Salary\"}, \"zerolinecolor\": \"#666570\"}},\n",
       "                        {\"showLink\": true, \"linkText\": \"Export to plot.ly\", \"plotlyServerURL\": \"https://plot.ly\", \"responsive\": true}\n",
       "                    ).then(function(){\n",
       "                            \n",
       "var gd = document.getElementById('c0b67c02-181f-466d-a754-5c3bfeef1bf2');\n",
       "var x = new MutationObserver(function (mutations, observer) {{\n",
       "        var display = window.getComputedStyle(gd).display;\n",
       "        if (!display || display === 'none') {{\n",
       "            console.log([gd, 'removed!']);\n",
       "            Plotly.purge(gd);\n",
       "            observer.disconnect();\n",
       "        }}\n",
       "}});\n",
       "\n",
       "// Listen for the removal of the full notebook cells\n",
       "var notebookContainer = gd.closest('#notebook-container');\n",
       "if (notebookContainer) {{\n",
       "    x.observe(notebookContainer, {childList: true});\n",
       "}}\n",
       "\n",
       "// Listen for the clearing of the current output cell\n",
       "var outputEl = gd.closest('.output');\n",
       "if (outputEl) {{\n",
       "    x.observe(outputEl, {childList: true});\n",
       "}}\n",
       "\n",
       "                        })\n",
       "                };\n",
       "                });\n",
       "            </script>\n",
       "        </div>"
      ]
     },
     "metadata": {},
     "output_type": "display_data"
    }
   ],
   "source": [
    "# Visualizing company maximum salary vs company rating correlation\n",
    "\n",
    "rating_and_sal_data.iplot(kind='scatter', x='rating', y='annual_max_salary', \n",
    "                          yTitle='Annual Max Data Job Salary', \n",
    "                          xTitle='Company Rating',\n",
    "                          title='Company Annual Max Data Job Salary vs Company Rating',\n",
    "                          text='company',\n",
    "                          theme='solar',\n",
    "                          colors='purple',\n",
    "                          mode='markers')"
   ]
  },
  {
   "cell_type": "markdown",
   "metadata": {},
   "source": [
    "<hr>\n",
    "<h4 align=\"center\" style=\"color:black;\"> Analysis: Company Annual Max Data Job Salary vs Company Rating</h4>\n",
    "<h4 style=\"color:#666666;\">Source: Indeed API, Web-Scraping using RegEx (Indeed Job Header) </h4>\n",
    "There does not appear to be a strong linear correlation between company’s rating and the salaries their employees are paid.  Most companies fall within a rating range of 3.5-4.5/5. Consistent salary data was difficult to obtain via scraping the Indeed job posts, the resulting data required additional cleaning which may skew the results. Some information that was not gathered for this exercise but may help to explain these ratings would be total compensation (insurance, stock options, etc.). \n",
    "<hr>"
   ]
  },
  {
   "cell_type": "markdown",
   "metadata": {},
   "source": [
    "## Comparing Job Salary to Job's Minimum Experience Requirement to see if a correlation exists"
   ]
  },
  {
   "cell_type": "code",
   "execution_count": 72,
   "metadata": {},
   "outputs": [
    {
     "data": {
      "text/html": [
       "<div>\n",
       "<style scoped>\n",
       "    .dataframe tbody tr th:only-of-type {\n",
       "        vertical-align: middle;\n",
       "    }\n",
       "\n",
       "    .dataframe tbody tr th {\n",
       "        vertical-align: top;\n",
       "    }\n",
       "\n",
       "    .dataframe thead th {\n",
       "        text-align: right;\n",
       "    }\n",
       "</style>\n",
       "<table border=\"1\" class=\"dataframe\">\n",
       "  <thead>\n",
       "    <tr style=\"text-align: right;\">\n",
       "      <th></th>\n",
       "      <th>url</th>\n",
       "      <th>jobtitle</th>\n",
       "      <th>company</th>\n",
       "      <th>annual_min_salary</th>\n",
       "      <th>annual_max_salary</th>\n",
       "      <th>updated_city</th>\n",
       "      <th>state</th>\n",
       "    </tr>\n",
       "  </thead>\n",
       "  <tbody>\n",
       "    <tr>\n",
       "      <th>0</th>\n",
       "      <td>http://www.indeed.com/viewjob?jk=655ff099cd045...</td>\n",
       "      <td>Operations Analyst - Symitar System and Episys...</td>\n",
       "      <td>Austin Telco Federal Credit Union</td>\n",
       "      <td>50000.0</td>\n",
       "      <td>60000.0</td>\n",
       "      <td>Austin</td>\n",
       "      <td>TX</td>\n",
       "    </tr>\n",
       "    <tr>\n",
       "      <th>1</th>\n",
       "      <td>http://www.indeed.com/viewjob?jk=f6402472d770b...</td>\n",
       "      <td>Data Base Administrator IV</td>\n",
       "      <td>DEPARTMENT OF INFORMATION RESOURCES</td>\n",
       "      <td>75000.0</td>\n",
       "      <td>90000.0</td>\n",
       "      <td>Austin</td>\n",
       "      <td>TX</td>\n",
       "    </tr>\n",
       "  </tbody>\n",
       "</table>\n",
       "</div>"
      ],
      "text/plain": [
       "                                                 url  \\\n",
       "0  http://www.indeed.com/viewjob?jk=655ff099cd045...   \n",
       "1  http://www.indeed.com/viewjob?jk=f6402472d770b...   \n",
       "\n",
       "                                            jobtitle  \\\n",
       "0  Operations Analyst - Symitar System and Episys...   \n",
       "1                         Data Base Administrator IV   \n",
       "\n",
       "                               company  annual_min_salary  annual_max_salary  \\\n",
       "0    Austin Telco Federal Credit Union            50000.0            60000.0   \n",
       "1  DEPARTMENT OF INFORMATION RESOURCES            75000.0            90000.0   \n",
       "\n",
       "  updated_city state  \n",
       "0       Austin    TX  \n",
       "1       Austin    TX  "
      ]
     },
     "execution_count": 72,
     "metadata": {},
     "output_type": "execute_result"
    }
   ],
   "source": [
    "jobs_sal_data.head(2)"
   ]
  },
  {
   "cell_type": "code",
   "execution_count": 73,
   "metadata": {},
   "outputs": [
    {
     "data": {
      "text/html": [
       "<div>\n",
       "<style scoped>\n",
       "    .dataframe tbody tr th:only-of-type {\n",
       "        vertical-align: middle;\n",
       "    }\n",
       "\n",
       "    .dataframe tbody tr th {\n",
       "        vertical-align: top;\n",
       "    }\n",
       "\n",
       "    .dataframe thead th {\n",
       "        text-align: right;\n",
       "    }\n",
       "</style>\n",
       "<table border=\"1\" class=\"dataframe\">\n",
       "  <thead>\n",
       "    <tr style=\"text-align: right;\">\n",
       "      <th></th>\n",
       "      <th>jobtitle</th>\n",
       "      <th>company</th>\n",
       "      <th>exp</th>\n",
       "      <th>updated_city</th>\n",
       "      <th>state</th>\n",
       "    </tr>\n",
       "  </thead>\n",
       "  <tbody>\n",
       "    <tr>\n",
       "      <th>0</th>\n",
       "      <td>Data Center Security Engineer</td>\n",
       "      <td>Amazon Dev Center U.S., Inc.</td>\n",
       "      <td>3</td>\n",
       "      <td>Austin</td>\n",
       "      <td>TX</td>\n",
       "    </tr>\n",
       "    <tr>\n",
       "      <th>1</th>\n",
       "      <td>Senior Engineer - Data Science</td>\n",
       "      <td>The Home Depot</td>\n",
       "      <td>3</td>\n",
       "      <td>Austin</td>\n",
       "      <td>TX</td>\n",
       "    </tr>\n",
       "  </tbody>\n",
       "</table>\n",
       "</div>"
      ],
      "text/plain": [
       "                         jobtitle                       company  exp  \\\n",
       "0   Data Center Security Engineer  Amazon Dev Center U.S., Inc.    3   \n",
       "1  Senior Engineer - Data Science                The Home Depot    3   \n",
       "\n",
       "  updated_city state  \n",
       "0       Austin    TX  \n",
       "1       Austin    TX  "
      ]
     },
     "execution_count": 73,
     "metadata": {},
     "output_type": "execute_result"
    }
   ],
   "source": [
    "jobs_experience_data.head(2)"
   ]
  },
  {
   "cell_type": "code",
   "execution_count": 74,
   "metadata": {},
   "outputs": [],
   "source": [
    "# merging experience and salary data for the company\n",
    "\n",
    "exp_and_sal_data = pd.merge(jobs_sal_data, jobs_experience_data, how='inner', on='company')\n",
    "\n",
    "exp_and_sal_data = exp_and_sal_data[['url', 'jobtitle_x', 'company', 'annual_min_salary', \n",
    "                                     'annual_max_salary', 'updated_city_x', 'state_x', 'exp']] \\\n",
    "                        .rename(columns={'jobtitle_x': 'jobtitle', 'updated_city_x': 'updated_city', 'state_x': 'state'})                    "
   ]
  },
  {
   "cell_type": "code",
   "execution_count": 75,
   "metadata": {},
   "outputs": [],
   "source": [
    "# exp_and_sal_data = exp_and_sal_data[exp_and_sal_data['exp'] <= 15]"
   ]
  },
  {
   "cell_type": "code",
   "execution_count": 76,
   "metadata": {},
   "outputs": [
    {
     "data": {
      "text/html": [
       "<div>\n",
       "<style scoped>\n",
       "    .dataframe tbody tr th:only-of-type {\n",
       "        vertical-align: middle;\n",
       "    }\n",
       "\n",
       "    .dataframe tbody tr th {\n",
       "        vertical-align: top;\n",
       "    }\n",
       "\n",
       "    .dataframe thead th {\n",
       "        text-align: right;\n",
       "    }\n",
       "</style>\n",
       "<table border=\"1\" class=\"dataframe\">\n",
       "  <thead>\n",
       "    <tr style=\"text-align: right;\">\n",
       "      <th></th>\n",
       "      <th>url</th>\n",
       "      <th>jobtitle</th>\n",
       "      <th>company</th>\n",
       "      <th>annual_min_salary</th>\n",
       "      <th>annual_max_salary</th>\n",
       "      <th>updated_city</th>\n",
       "      <th>state</th>\n",
       "      <th>exp</th>\n",
       "    </tr>\n",
       "  </thead>\n",
       "  <tbody>\n",
       "    <tr>\n",
       "      <th>0</th>\n",
       "      <td>http://www.indeed.com/viewjob?jk=655ff099cd045...</td>\n",
       "      <td>Operations Analyst - Symitar System and Episys...</td>\n",
       "      <td>Austin Telco Federal Credit Union</td>\n",
       "      <td>50000.0</td>\n",
       "      <td>60000.0</td>\n",
       "      <td>Austin</td>\n",
       "      <td>TX</td>\n",
       "      <td>2</td>\n",
       "    </tr>\n",
       "    <tr>\n",
       "      <th>1</th>\n",
       "      <td>http://www.indeed.com/viewjob?jk=f6402472d770b...</td>\n",
       "      <td>Data Base Administrator IV</td>\n",
       "      <td>DEPARTMENT OF INFORMATION RESOURCES</td>\n",
       "      <td>75000.0</td>\n",
       "      <td>90000.0</td>\n",
       "      <td>Austin</td>\n",
       "      <td>TX</td>\n",
       "      <td>7</td>\n",
       "    </tr>\n",
       "    <tr>\n",
       "      <th>2</th>\n",
       "      <td>http://www.indeed.com/viewjob?jk=d3f99f0101182...</td>\n",
       "      <td>CPA - Data Analysis and Transparency Intern</td>\n",
       "      <td>COMPTROLLER OF PUBLIC ACCOUNTS</td>\n",
       "      <td>29568.0</td>\n",
       "      <td>29568.0</td>\n",
       "      <td>Austin</td>\n",
       "      <td>TX</td>\n",
       "      <td>8</td>\n",
       "    </tr>\n",
       "    <tr>\n",
       "      <th>3</th>\n",
       "      <td>http://www.indeed.com/viewjob?jk=f8eecb44bc4c5...</td>\n",
       "      <td>CPA - Senior Data Administrator (reopened)</td>\n",
       "      <td>COMPTROLLER OF PUBLIC ACCOUNTS</td>\n",
       "      <td>90000.0</td>\n",
       "      <td>108000.0</td>\n",
       "      <td>Austin</td>\n",
       "      <td>TX</td>\n",
       "      <td>8</td>\n",
       "    </tr>\n",
       "    <tr>\n",
       "      <th>4</th>\n",
       "      <td>http://www.indeed.com/viewjob?jk=ce9e51e940d73...</td>\n",
       "      <td>CPA - Expenditure Audit Data Analyst</td>\n",
       "      <td>COMPTROLLER OF PUBLIC ACCOUNTS</td>\n",
       "      <td>60000.0</td>\n",
       "      <td>73200.0</td>\n",
       "      <td>Austin</td>\n",
       "      <td>TX</td>\n",
       "      <td>8</td>\n",
       "    </tr>\n",
       "    <tr>\n",
       "      <th>...</th>\n",
       "      <td>...</td>\n",
       "      <td>...</td>\n",
       "      <td>...</td>\n",
       "      <td>...</td>\n",
       "      <td>...</td>\n",
       "      <td>...</td>\n",
       "      <td>...</td>\n",
       "      <td>...</td>\n",
       "    </tr>\n",
       "    <tr>\n",
       "      <th>323</th>\n",
       "      <td>http://www.indeed.com/viewjob?jk=37894ee912a06...</td>\n",
       "      <td>Data Analytics Specialist</td>\n",
       "      <td>ALDI</td>\n",
       "      <td>62000.0</td>\n",
       "      <td>62000.0</td>\n",
       "      <td>Columbus</td>\n",
       "      <td>OH</td>\n",
       "      <td>3</td>\n",
       "    </tr>\n",
       "    <tr>\n",
       "      <th>324</th>\n",
       "      <td>http://www.indeed.com/viewjob?jk=3d1f148871f09...</td>\n",
       "      <td>Master Data Specialist</td>\n",
       "      <td>Greif</td>\n",
       "      <td>40000.0</td>\n",
       "      <td>55000.0</td>\n",
       "      <td>Columbus</td>\n",
       "      <td>OH</td>\n",
       "      <td>2</td>\n",
       "    </tr>\n",
       "    <tr>\n",
       "      <th>325</th>\n",
       "      <td>http://www.indeed.com/viewjob?jk=e9a663e9b3440...</td>\n",
       "      <td>Big data lead /sr .developer</td>\n",
       "      <td>Ace-stack LLC</td>\n",
       "      <td>156000.0</td>\n",
       "      <td>156000.0</td>\n",
       "      <td>Columbus</td>\n",
       "      <td>OH</td>\n",
       "      <td>2</td>\n",
       "    </tr>\n",
       "    <tr>\n",
       "      <th>326</th>\n",
       "      <td>http://www.indeed.com/viewjob?jk=62959dbf4adfe...</td>\n",
       "      <td>Big Data (Lead Developer)</td>\n",
       "      <td>Ace-stack LLC</td>\n",
       "      <td>166400.0</td>\n",
       "      <td>166400.0</td>\n",
       "      <td>Columbus</td>\n",
       "      <td>OH</td>\n",
       "      <td>2</td>\n",
       "    </tr>\n",
       "    <tr>\n",
       "      <th>327</th>\n",
       "      <td>http://www.indeed.com/viewjob?jk=df9679c3bfe69...</td>\n",
       "      <td>Data Systems Assistant Administrator</td>\n",
       "      <td>Franklin County Children Services</td>\n",
       "      <td>66560.0</td>\n",
       "      <td>93600.0</td>\n",
       "      <td>Columbus</td>\n",
       "      <td>OH</td>\n",
       "      <td>10</td>\n",
       "    </tr>\n",
       "  </tbody>\n",
       "</table>\n",
       "<p>328 rows × 8 columns</p>\n",
       "</div>"
      ],
      "text/plain": [
       "                                                   url  \\\n",
       "0    http://www.indeed.com/viewjob?jk=655ff099cd045...   \n",
       "1    http://www.indeed.com/viewjob?jk=f6402472d770b...   \n",
       "2    http://www.indeed.com/viewjob?jk=d3f99f0101182...   \n",
       "3    http://www.indeed.com/viewjob?jk=f8eecb44bc4c5...   \n",
       "4    http://www.indeed.com/viewjob?jk=ce9e51e940d73...   \n",
       "..                                                 ...   \n",
       "323  http://www.indeed.com/viewjob?jk=37894ee912a06...   \n",
       "324  http://www.indeed.com/viewjob?jk=3d1f148871f09...   \n",
       "325  http://www.indeed.com/viewjob?jk=e9a663e9b3440...   \n",
       "326  http://www.indeed.com/viewjob?jk=62959dbf4adfe...   \n",
       "327  http://www.indeed.com/viewjob?jk=df9679c3bfe69...   \n",
       "\n",
       "                                              jobtitle  \\\n",
       "0    Operations Analyst - Symitar System and Episys...   \n",
       "1                           Data Base Administrator IV   \n",
       "2          CPA - Data Analysis and Transparency Intern   \n",
       "3           CPA - Senior Data Administrator (reopened)   \n",
       "4                 CPA - Expenditure Audit Data Analyst   \n",
       "..                                                 ...   \n",
       "323                          Data Analytics Specialist   \n",
       "324                             Master Data Specialist   \n",
       "325                       Big data lead /sr .developer   \n",
       "326                          Big Data (Lead Developer)   \n",
       "327               Data Systems Assistant Administrator   \n",
       "\n",
       "                                 company  annual_min_salary  \\\n",
       "0      Austin Telco Federal Credit Union            50000.0   \n",
       "1    DEPARTMENT OF INFORMATION RESOURCES            75000.0   \n",
       "2         COMPTROLLER OF PUBLIC ACCOUNTS            29568.0   \n",
       "3         COMPTROLLER OF PUBLIC ACCOUNTS            90000.0   \n",
       "4         COMPTROLLER OF PUBLIC ACCOUNTS            60000.0   \n",
       "..                                   ...                ...   \n",
       "323                                 ALDI            62000.0   \n",
       "324                                Greif            40000.0   \n",
       "325                        Ace-stack LLC           156000.0   \n",
       "326                        Ace-stack LLC           166400.0   \n",
       "327    Franklin County Children Services            66560.0   \n",
       "\n",
       "     annual_max_salary updated_city state  exp  \n",
       "0              60000.0       Austin    TX    2  \n",
       "1              90000.0       Austin    TX    7  \n",
       "2              29568.0       Austin    TX    8  \n",
       "3             108000.0       Austin    TX    8  \n",
       "4              73200.0       Austin    TX    8  \n",
       "..                 ...          ...   ...  ...  \n",
       "323            62000.0     Columbus    OH    3  \n",
       "324            55000.0     Columbus    OH    2  \n",
       "325           156000.0     Columbus    OH    2  \n",
       "326           166400.0     Columbus    OH    2  \n",
       "327            93600.0     Columbus    OH   10  \n",
       "\n",
       "[328 rows x 8 columns]"
      ]
     },
     "execution_count": 76,
     "metadata": {},
     "output_type": "execute_result"
    }
   ],
   "source": [
    "exp_and_sal_data"
   ]
  },
  {
   "cell_type": "code",
   "execution_count": 77,
   "metadata": {},
   "outputs": [
    {
     "data": {
      "application/vnd.plotly.v1+json": {
       "config": {
        "linkText": "Export to plot.ly",
        "plotlyServerURL": "https://plot.ly",
        "showLink": true
       },
       "data": [
        {
         "line": {
          "color": "rgba(0, 128, 0, 1.0)",
          "dash": "solid",
          "shape": "linear",
          "width": 1.3
         },
         "marker": {
          "size": 12,
          "symbol": "circle"
         },
         "mode": "markers",
         "name": "annual_max_salary",
         "text": [
          "Operations Analyst - Symitar System and Episys Data Structure",
          "Data Base Administrator IV",
          "CPA - Data Analysis and Transparency Intern",
          "CPA - Senior Data Administrator (reopened)",
          "CPA - Expenditure Audit Data Analyst",
          "Data Entry Clerk",
          "Special Education Data Support Analyst (Data Analyst V)",
          "Program and Performance Analyst (Data Analyst IV)",
          "Data Standards & Governance Manager (Manager V)",
          "Senior Database Administrator (Data Base Administrator IV)",
          "Data Reporting Compliance Monitor (Systems Analyst V)",
          "Senior Data Administrator",
          "Data Analyst",
          "Sr. Data Governance Manager",
          "Data Designer - Communications Division",
          "IT Data Architecture/Data Migration Student Intern",
          "Health Data Analytics Student Intern",
          "CRM and Data Engineer (Zoho One)",
          "Data Entry Clerk",
          "Quality Systems Data Administrator",
          "WIC Senior Data & Reporting Analyst",
          "Data Analyst IV",
          "Data Base Administrator IV",
          "Senior Data Analyst",
          "Data Analyst",
          "Data Scientist",
          "Data Engineering Manager",
          "Sr. Data Engineer",
          "Data Transcriber - DEPARTMENT OF TREASURY - IRS",
          "INTERNAL REVENUE SERVICE - Data Transcriber",
          "Aggregation Data Maintenance Associate - Japanese",
          "Staff Data Architect",
          "Site Reliability Engineering Manager - Data Infrastructure",
          "IT Data Architect (Data Integration Developer and ETL Toolset Administrator)",
          "Data Analyst Specialist/Apprentice",
          "Insight and Data Analyst Internship",
          "Data Entry Clerk",
          "Data Transcriber *SEASONAL* **6 Month Register** (Data Entry Clerk)",
          "Research Economist, Research Mathematician, or Research Statistician (Researcher - Interdisciplinary)",
          "Business Intelligence & Reporting Developer",
          "Sr. Data Analyst",
          "Product Manager- Data & Analytics",
          "AI / Machine Learning Engineer",
          "Investment Analyst with Data Visualization (Tableau) Skills",
          "Investment Analyst with Data Visualization (Tableau) Skills",
          "Data Analyst",
          "Big Data Engineer with AWS",
          "Presto Data Engineer",
          "Data Analyst - Intermediate [136527]",
          "Data Scientist",
          "Data Scientist",
          "Senior Natural Language AI & Machine Learning Engineer w/ Web Skills",
          "Power BI Consultant",
          "BI Architect",
          "Data Engineer",
          "Data Engineer",
          "Data Engineer",
          "Sr. Data Analyst (Omniture/Adobe Analytics Required)",
          "Data Specialist (Civil Rights)",
          "Data Specialist",
          "Lead Software Engineer, Data",
          "Sr. Data Analyst for Innovative Health Plan",
          "Business Intelligence Lead Analyst",
          "Voter Data Analysis and Programs Manager",
          "IS Business Analyst - Data Analyst",
          "Clerk, Voter Data Coordinator",
          "AI Scientist - Symbolic AI (Natural Language Reasoning)",
          "AI Scientist - Symbolic AI (Natural Language Reasoning)",
          "AI Scientist - Symbolic AI (Natural Language Reasoning)",
          "AI Scientist - Symbolic AI (Natural Language Reasoning)",
          "Data Visualization Analyst",
          "Data Engineer",
          "Data Analytics Manager",
          "Senior Data Engineer",
          "Machine Learning Engineer",
          "Senior Machine Learning Engineer",
          "Data Pipeline Engineer",
          "Senior Data Pipeline Engineer",
          "Corporate Data Security Attorney",
          "Sales Support - Data Entry",
          "HVAC (BMS) Controls and Data/Security Systems Installer",
          "Service Lead, Research Data Management Program (0657U) 1776 - 1776",
          "Data Management Assistant",
          "Data Manager",
          "UTS Temporary SAS Programmer/Data Manager",
          "UTS Temporary Data Coordinator",
          "Data Collector in Sampson County",
          "Data Center Solutions Architect",
          "Data Integration Specialist",
          "Medical Laboratory Data Entry Specialist",
          "Data Architect",
          "HR Data Analyst",
          "AI Educator Advocate",
          "Director of Operations, Data & Outcomes, YouthBuild",
          "Big Data Test Lead",
          "AP/AR Data Entry Clerk",
          "AP/AR Data Entry Clerk",
          "Client Relationship Assistant/Data Entry",
          "Temporary Data Collector/Customer Service Representative",
          "SNAP-ED/Outreach Quality Improvement Coordinator - Data Management III",
          "Data Specialist - Driver Control",
          "Child Welfare - Prevention Data and Reporting Analyst",
          "Quality Assurance Analyst - Data Management IV",
          "Data Engineer",
          "Software Engineer with Data Experience",
          "Data & Analytics Manager - Technology Services",
          "Senior Data Engineer - Technology Services",
          "Office Assistant/Data Entry/Accounting",
          "Big Data developer",
          "HVAC Building Engineer - Data Center",
          "Sr Building Engineer (Electrician) - Data Center",
          "Sr Building Engineer (Electrician) - Data Center",
          "Business Intelligence Consultant (Denver)",
          "Data Analyst (Part Time)",
          "Data Specialist, Title V Grant—Hispanic Serving Institutions",
          "Data Entry Specialist",
          "Business Intelligence Developer",
          "Senior Machine Learning (ML) and Computer Vision (CV) Engineer",
          "Data Engineer",
          "Entry Level Bi-Lingual Insurance Producer",
          "Statistician - Direct Hire",
          "Mathematical Statistician - Direct Hire",
          "Azure Data Engineer",
          "Data Scientist - Machine Learning",
          "Data Entry Specialist",
          "Data Scientist (Entry level)",
          "Director II, Data Science, GRM Product Design & Modeling Pricing Sophistication",
          "Senior Data Engineer",
          "Senior Data Engineer",
          "Data Scientist, Office of Data Science",
          "Director I, Data Science-Marketing Analytics",
          "Analyst I/II, Data Science",
          "Assistant Director/Director I, Data Science",
          "Director II, Data Solutions",
          "Assistant Director, Data Management – Safeco Agency Data Steward",
          "Data Office Product Owner",
          "Jr Data Analyst",
          "Customer Service/Data Entry",
          "Data Analyst",
          "Data Center Architect",
          "Big Data Specialist/ Data Engineer",
          "Payroll/Data Entry Client Specialist",
          "Data Analyst",
          "Data Engineer",
          "Entry Level BI Developer",
          "Data Scientist for AI Platform",
          "Data Center Technician",
          "Enterprise Data Architect (Senior Role)",
          "Snowflake Cloud Data Architect",
          "Data Visualization Expert - Tableau",
          "Data Scientist (Full-Time)",
          "Data Entry & Operations Specialist",
          "Data Entry / Support Clerk",
          "Data Entry Clerk AT",
          "Data Entry Specialist NYST401O JF",
          "Data Entry Clerk",
          "Data Engineer",
          "Assistant Manager, Data Control & Development",
          "Data Warehouse Developer",
          "Principal UI Engineer (Data Visualization)",
          "Data Entry / Administrator",
          "On Call RN (Spanish Bi-Lingual)",
          "DATA VALIDATION SPECIALIST",
          "Tableau Developer",
          "Data Coordinator",
          "Chief Data Officer",
          "Data Center Facilities Engineer",
          "Data Analyst",
          "Data Entry Clerk ($16.46/hr)",
          "Director of Enterprise Applications & Business Intelligence",
          "Data Warehouse Database Administrator",
          "Master Data Management (MDM) Team Lead",
          "Customer and Data Entry Services Coordinator",
          "Data Engineer",
          "Senior Data Analyst",
          "Data Analyst",
          "Customer Service / Data Entry Administrator",
          "Data Entry Clerk",
          "Data Entry Clerk",
          "Data Analytics Associate/Information Designer",
          "Data Analyst, Bureau of Tuberculosis Control",
          "Data Analyst, Shop Healthy NYC",
          "Data Collector, Bureau of HIV",
          "Data and Technology Analyst, Bureau of Emergency Field Operations",
          "Compliance and Data Analysis Coordinator, Bureau of Environmental Sciences and Engineering",
          "Data Analysis and Syndromic Surveillance Analyst",
          "Data Analyst and Maven Backup System Administrator, Bureau of Communicable Diseases",
          "Supervising Data Analyst, Tuberculosis Control",
          "BI Architect",
          "BI Architect in NYC, NY/NJ",
          "DATA SCIENCE INSTRUCTOR",
          "Intake Coordinator/Data Entry",
          "Data Engineer / Data Analyst (Ecommerce)",
          "GCP Architect with Big Data / Big Query Migration------Any nearby location",
          "Data Operations Engineer",
          "Senior Data Engineer",
          "Telecommunications Associate (Data), Level IV",
          "Senior Data Engineer",
          "Data Entry Processor - Entry Level",
          "Reception / Data Entry / Front desk Admin",
          "Wireless Sales Consultant ( Spanish Bi-Lingual )",
          "Exemptions Data Analyst",
          "Data Entry Associate",
          "Data Support Analyst",
          "Programs Data Manager",
          "Data Scientist, Office of Talent Research and Data (ORD)",
          "Director of Data Analytics",
          "Chinese/ Spanish Bi-lingual Customer Service- State Farm Agency",
          "Solutions Architect, Enteprise Data Services (JO# 424682)",
          "Solutions Architect, Enterprise Data Services",
          "Solutions Architect, Enterprise Data Services",
          "BI Consultant",
          "Data Science Instructor",
          "Data Specialist",
          "Strategy and Business Intelligence Analyst",
          "Bi Developer",
          "063: Statistician",
          "Senior IT Architect, Internet and Data Center Technologies",
          "Lead ETL Data Exchange Developer",
          "Data Scientist",
          "Data Scientist",
          "Data Scientist",
          "Data Scientist",
          "Data Scientist",
          "Data Scientist",
          "Data Scientist",
          "Data Scientist",
          "Data Scientist",
          "Data Scientist",
          "Data Scientist",
          "Data Scientist",
          "Data Scientist",
          "Data Scientist",
          "Data Scientist",
          "Data Scientist",
          "Data Scientist",
          "Data Scientist",
          "Data Scientist",
          "Data Scientist",
          "Data Scientist",
          "Data Scientist",
          "Data Scientist",
          "Data Scientist",
          "Data Scientist",
          "Data Scientist",
          "Data Scientist",
          "Data Scientist",
          "Data Scientist",
          "Data Scientist",
          "Data Scientist",
          "Data Scientist",
          "Data Analyst (NCU)",
          "Data Analyst (NCU)",
          "Data Analyst (NCU)",
          "Data Analyst (NCU)",
          "Data Analyst (NCU)",
          "Data Analyst (NCU)",
          "Data Analyst (NCU)",
          "Data Analyst (NCU)",
          "Data Analyst (NCU)",
          "Data Analyst (NCU)",
          "Data Analyst (NCU)",
          "Data Analyst (NCU)",
          "Data Analyst (NCU)",
          "Data Analyst (NCU)",
          "Data Analyst (NCU)",
          "Data Analyst (NCU)",
          "Data Analyst (NCU)",
          "Data Analyst (NCU)",
          "Data Analyst (NCU)",
          "Data Analyst (NCU)",
          "Data Analyst (NCU)",
          "Data Analyst (NCU)",
          "Data Analyst (NCU)",
          "Data Analyst (NCU)",
          "Data Analyst (NCU)",
          "Data Analyst (NCU)",
          "Data Analyst (NCU)",
          "Data Analyst (NCU)",
          "Data Analyst (NCU)",
          "Data Analyst (NCU)",
          "Data Analyst (NCU)",
          "Data Analyst (NCU)",
          "Survey Statistician",
          "Mathematical Statistician",
          "Supervisory Statistician",
          "Medical Technologist (ASCP) Data Entry",
          "SQL BI Developer (SSIS/SSRS)",
          "Supervisory Survey Statistician, GS-1530-15, Census-MP-SAB",
          "Supervisory Survey Statistician, GS-1530-15, Census-DE-SAB",
          "Political Data Intern - Summer 2020",
          "Data Analyst",
          "Junior SQL Data / Financial Analyst",
          "Data Engineer",
          "CHIEF OF BUSINESS INTELLIGENCE",
          "Information Technology Specialist (Data Management)",
          "Health Insurance Specialist (Data Analysis and Studies)",
          "Statistician",
          "Sr. Data Analyst",
          "Data Installer/BICSI Installer",
          "Data Engineer (BigData & Azure)",
          "Data Analyst for Museum Services Team",
          "Data Scientist",
          "Data Coach (10-month)",
          "Data Modeler",
          "New! Mid-to-Senior Data Engineer (Clearance Required)",
          "Medical Receptionist (Bi -Lingual English/Spanish)",
          "Big Data Engineer / Hadoop Engineer (GC holder or US citizen)",
          "Data Integration Architect",
          "Data Collection and Analysis Lead",
          "Sales Admin Role: Data Analysis",
          "Junior Data Analyst",
          "Business Data Analyst (Cyber)",
          "Business Data Analyst (Cyber)",
          "Data Scientist",
          "Sr. Tableau Developer/ Sr. Data Analyst",
          "Intermediate Data Analyst",
          "Sr Big data Java Developer",
          "Data Governance Senior Analyst",
          "Research Statistician",
          "Data Coordinator",
          "Tableau Trainer",
          "Education Data Specialist",
          "Data Analytics Specialist",
          "Master Data Specialist",
          "Big data lead /sr .developer",
          "Big Data (Lead Developer)",
          "Data Systems Assistant Administrator"
         ],
         "type": "scatter",
         "x": [
          2,
          7,
          8,
          8,
          8,
          1,
          4,
          4,
          4,
          4,
          4,
          10,
          1,
          3,
          5,
          1,
          1,
          1,
          1,
          1,
          1,
          1,
          1,
          1,
          3,
          3,
          4,
          4,
          12,
          12,
          2,
          2,
          2,
          5,
          15,
          1,
          1,
          1,
          1,
          2,
          2,
          2,
          5,
          2,
          2,
          11,
          5,
          5,
          7,
          3,
          3,
          3,
          10,
          10,
          10,
          4,
          4,
          4,
          3,
          3,
          3,
          2,
          5,
          1,
          1,
          1,
          2,
          2,
          2,
          2,
          5,
          5,
          5,
          1,
          2,
          2,
          2,
          2,
          2,
          2,
          3,
          7,
          3,
          3,
          3,
          3,
          3,
          5,
          4,
          4,
          4,
          4,
          4,
          4,
          8,
          10,
          10,
          6,
          1,
          2,
          2,
          2,
          2,
          3,
          2,
          3,
          3,
          10,
          7,
          3,
          3,
          3,
          5,
          1,
          1,
          12,
          2,
          3,
          3,
          5,
          14,
          14,
          6,
          6,
          1,
          0,
          5,
          5,
          5,
          5,
          5,
          5,
          5,
          5,
          5,
          5,
          2,
          10,
          1,
          3,
          6,
          9,
          12,
          2,
          1,
          3,
          2,
          15,
          7,
          7,
          2,
          2,
          2,
          7,
          7,
          11,
          5,
          4,
          3,
          8,
          8,
          8,
          1,
          1,
          4,
          5,
          5,
          1,
          7,
          7,
          5,
          5,
          15,
          7,
          2,
          2,
          1,
          2,
          2,
          1,
          1,
          1,
          1,
          1,
          1,
          1,
          1,
          1,
          12,
          2,
          3,
          1,
          1,
          3,
          2,
          2,
          1,
          5,
          6,
          1,
          1,
          1,
          1,
          1,
          1,
          1,
          15,
          3,
          1,
          1,
          2,
          1,
          3,
          3,
          1,
          3,
          0,
          5,
          5,
          1,
          1,
          1,
          1,
          1,
          1,
          1,
          1,
          1,
          1,
          1,
          1,
          1,
          1,
          1,
          1,
          1,
          1,
          1,
          1,
          1,
          1,
          1,
          1,
          1,
          1,
          1,
          1,
          1,
          1,
          1,
          1,
          1,
          1,
          1,
          1,
          1,
          1,
          1,
          1,
          1,
          1,
          1,
          1,
          1,
          1,
          1,
          1,
          1,
          1,
          1,
          1,
          1,
          1,
          1,
          1,
          1,
          1,
          1,
          1,
          1,
          1,
          1,
          1,
          12,
          12,
          4,
          15,
          1,
          15,
          15,
          0,
          1,
          3,
          3,
          15,
          13,
          13,
          13,
          4,
          5,
          12,
          2,
          2,
          5,
          10,
          8,
          14,
          2,
          3,
          2,
          3,
          3,
          3,
          3,
          2,
          2,
          6,
          5,
          2,
          2,
          3,
          2,
          3,
          3,
          2,
          2,
          2,
          10
         ],
         "y": [
          60000,
          90000,
          29568,
          108000,
          73200,
          37440,
          93408,
          77868,
          100008,
          114996,
          82008,
          108000,
          75000,
          145600,
          96720,
          35360,
          28080,
          60000,
          30742.4,
          77862,
          77868,
          96720,
          117396,
          77868,
          85000,
          110000,
          170000,
          150000,
          29120,
          29120,
          50003.2,
          174000,
          174000,
          101857.6,
          40000,
          37440,
          26000,
          39915.2,
          165084,
          228800,
          208000,
          140000,
          135200,
          144000,
          144000,
          145600,
          166400,
          176800,
          70000,
          110000,
          110000,
          135000,
          160000,
          130000,
          120000,
          150000,
          145000,
          135200,
          64480,
          64480,
          270400,
          116000,
          108000,
          93204.8,
          113318.4,
          51542.4,
          100000,
          100000,
          100000,
          100000,
          110000,
          150000,
          150000,
          170000,
          250000,
          225000,
          250000,
          225000,
          280000,
          70000,
          100880,
          100000,
          45760,
          87392,
          60320,
          47008,
          31200,
          110000,
          133937,
          44091,
          100892,
          86431,
          51986,
          56000,
          166400,
          41600,
          37440,
          39000,
          33280,
          75240,
          53160,
          70248,
          93480,
          95000,
          95000,
          135000,
          115000,
          29120,
          124800,
          70000,
          80000,
          75000,
          130000,
          22638,
          55000,
          24960,
          120000,
          120000,
          145600,
          32760,
          136271,
          136271,
          166400,
          118560,
          35360,
          70720,
          197600,
          134100,
          120000,
          134100,
          173000,
          134100,
          173200,
          190000,
          152000,
          152000,
          72800,
          32240,
          62400,
          145600,
          124800,
          42000,
          135200,
          110000,
          70000,
          140000,
          37502.4,
          165000,
          150000,
          120000,
          150000,
          48000,
          33280,
          31200,
          33280,
          33280,
          125000,
          114250,
          90570,
          160000,
          33280,
          39000,
          70000,
          85000,
          52000,
          185000,
          92382,
          55000,
          34236.8,
          120000,
          131429,
          131429,
          34840,
          104000,
          214240,
          109595.2,
          41600,
          37481.6,
          37772.8,
          71446,
          70554,
          91800,
          58566,
          70554,
          86830,
          93776,
          70554,
          87805,
          125000,
          120000,
          79040,
          33280,
          90000,
          147680,
          120000,
          160000,
          110116,
          160000,
          35000,
          33280,
          40000,
          86830,
          31200,
          65888,
          78000,
          70370,
          180000,
          52000,
          145000,
          145000,
          145000,
          110000,
          88400,
          31200,
          80000,
          124800,
          80000,
          103000,
          98919,
          66388,
          66388,
          66388,
          66388,
          66388,
          66388,
          66388,
          66388,
          66388,
          66388,
          66388,
          66388,
          66388,
          66388,
          66388,
          66388,
          66388,
          66388,
          66388,
          66388,
          66388,
          66388,
          66388,
          66388,
          66388,
          66388,
          66388,
          66388,
          66388,
          66388,
          66388,
          66388,
          63031,
          63031,
          63031,
          63031,
          63031,
          63031,
          63031,
          63031,
          63031,
          63031,
          63031,
          63031,
          63031,
          63031,
          63031,
          63031,
          63031,
          63031,
          63031,
          63031,
          63031,
          63031,
          63031,
          63031,
          63031,
          63031,
          63031,
          63031,
          63031,
          63031,
          63031,
          63031,
          133465,
          133465,
          170800,
          31200,
          135200,
          170800,
          170800,
          29120,
          122227,
          55000,
          114400,
          179201,
          133465,
          128920,
          128920,
          120000,
          52000,
          187200,
          61926,
          150000,
          103819,
          125000,
          160000,
          33280,
          176800,
          120000,
          90000,
          49920,
          73000,
          106000,
          106000,
          70000,
          70000,
          83000,
          150000,
          121830,
          70000,
          35360,
          130000,
          31200,
          62000,
          55000,
          156000,
          166400,
          93600
         ]
        }
       ],
       "layout": {
        "legend": {
         "bgcolor": "#151516",
         "font": {
          "color": "#D9D9D9"
         }
        },
        "paper_bgcolor": "#151516",
        "plot_bgcolor": "#151516",
        "template": {
         "data": {
          "bar": [
           {
            "error_x": {
             "color": "#2a3f5f"
            },
            "error_y": {
             "color": "#2a3f5f"
            },
            "marker": {
             "line": {
              "color": "#E5ECF6",
              "width": 0.5
             }
            },
            "type": "bar"
           }
          ],
          "barpolar": [
           {
            "marker": {
             "line": {
              "color": "#E5ECF6",
              "width": 0.5
             }
            },
            "type": "barpolar"
           }
          ],
          "carpet": [
           {
            "aaxis": {
             "endlinecolor": "#2a3f5f",
             "gridcolor": "white",
             "linecolor": "white",
             "minorgridcolor": "white",
             "startlinecolor": "#2a3f5f"
            },
            "baxis": {
             "endlinecolor": "#2a3f5f",
             "gridcolor": "white",
             "linecolor": "white",
             "minorgridcolor": "white",
             "startlinecolor": "#2a3f5f"
            },
            "type": "carpet"
           }
          ],
          "choropleth": [
           {
            "colorbar": {
             "outlinewidth": 0,
             "ticks": ""
            },
            "type": "choropleth"
           }
          ],
          "contour": [
           {
            "colorbar": {
             "outlinewidth": 0,
             "ticks": ""
            },
            "colorscale": [
             [
              0,
              "#0d0887"
             ],
             [
              0.1111111111111111,
              "#46039f"
             ],
             [
              0.2222222222222222,
              "#7201a8"
             ],
             [
              0.3333333333333333,
              "#9c179e"
             ],
             [
              0.4444444444444444,
              "#bd3786"
             ],
             [
              0.5555555555555556,
              "#d8576b"
             ],
             [
              0.6666666666666666,
              "#ed7953"
             ],
             [
              0.7777777777777778,
              "#fb9f3a"
             ],
             [
              0.8888888888888888,
              "#fdca26"
             ],
             [
              1,
              "#f0f921"
             ]
            ],
            "type": "contour"
           }
          ],
          "contourcarpet": [
           {
            "colorbar": {
             "outlinewidth": 0,
             "ticks": ""
            },
            "type": "contourcarpet"
           }
          ],
          "heatmap": [
           {
            "colorbar": {
             "outlinewidth": 0,
             "ticks": ""
            },
            "colorscale": [
             [
              0,
              "#0d0887"
             ],
             [
              0.1111111111111111,
              "#46039f"
             ],
             [
              0.2222222222222222,
              "#7201a8"
             ],
             [
              0.3333333333333333,
              "#9c179e"
             ],
             [
              0.4444444444444444,
              "#bd3786"
             ],
             [
              0.5555555555555556,
              "#d8576b"
             ],
             [
              0.6666666666666666,
              "#ed7953"
             ],
             [
              0.7777777777777778,
              "#fb9f3a"
             ],
             [
              0.8888888888888888,
              "#fdca26"
             ],
             [
              1,
              "#f0f921"
             ]
            ],
            "type": "heatmap"
           }
          ],
          "heatmapgl": [
           {
            "colorbar": {
             "outlinewidth": 0,
             "ticks": ""
            },
            "colorscale": [
             [
              0,
              "#0d0887"
             ],
             [
              0.1111111111111111,
              "#46039f"
             ],
             [
              0.2222222222222222,
              "#7201a8"
             ],
             [
              0.3333333333333333,
              "#9c179e"
             ],
             [
              0.4444444444444444,
              "#bd3786"
             ],
             [
              0.5555555555555556,
              "#d8576b"
             ],
             [
              0.6666666666666666,
              "#ed7953"
             ],
             [
              0.7777777777777778,
              "#fb9f3a"
             ],
             [
              0.8888888888888888,
              "#fdca26"
             ],
             [
              1,
              "#f0f921"
             ]
            ],
            "type": "heatmapgl"
           }
          ],
          "histogram": [
           {
            "marker": {
             "colorbar": {
              "outlinewidth": 0,
              "ticks": ""
             }
            },
            "type": "histogram"
           }
          ],
          "histogram2d": [
           {
            "colorbar": {
             "outlinewidth": 0,
             "ticks": ""
            },
            "colorscale": [
             [
              0,
              "#0d0887"
             ],
             [
              0.1111111111111111,
              "#46039f"
             ],
             [
              0.2222222222222222,
              "#7201a8"
             ],
             [
              0.3333333333333333,
              "#9c179e"
             ],
             [
              0.4444444444444444,
              "#bd3786"
             ],
             [
              0.5555555555555556,
              "#d8576b"
             ],
             [
              0.6666666666666666,
              "#ed7953"
             ],
             [
              0.7777777777777778,
              "#fb9f3a"
             ],
             [
              0.8888888888888888,
              "#fdca26"
             ],
             [
              1,
              "#f0f921"
             ]
            ],
            "type": "histogram2d"
           }
          ],
          "histogram2dcontour": [
           {
            "colorbar": {
             "outlinewidth": 0,
             "ticks": ""
            },
            "colorscale": [
             [
              0,
              "#0d0887"
             ],
             [
              0.1111111111111111,
              "#46039f"
             ],
             [
              0.2222222222222222,
              "#7201a8"
             ],
             [
              0.3333333333333333,
              "#9c179e"
             ],
             [
              0.4444444444444444,
              "#bd3786"
             ],
             [
              0.5555555555555556,
              "#d8576b"
             ],
             [
              0.6666666666666666,
              "#ed7953"
             ],
             [
              0.7777777777777778,
              "#fb9f3a"
             ],
             [
              0.8888888888888888,
              "#fdca26"
             ],
             [
              1,
              "#f0f921"
             ]
            ],
            "type": "histogram2dcontour"
           }
          ],
          "mesh3d": [
           {
            "colorbar": {
             "outlinewidth": 0,
             "ticks": ""
            },
            "type": "mesh3d"
           }
          ],
          "parcoords": [
           {
            "line": {
             "colorbar": {
              "outlinewidth": 0,
              "ticks": ""
             }
            },
            "type": "parcoords"
           }
          ],
          "pie": [
           {
            "automargin": true,
            "type": "pie"
           }
          ],
          "scatter": [
           {
            "marker": {
             "colorbar": {
              "outlinewidth": 0,
              "ticks": ""
             }
            },
            "type": "scatter"
           }
          ],
          "scatter3d": [
           {
            "line": {
             "colorbar": {
              "outlinewidth": 0,
              "ticks": ""
             }
            },
            "marker": {
             "colorbar": {
              "outlinewidth": 0,
              "ticks": ""
             }
            },
            "type": "scatter3d"
           }
          ],
          "scattercarpet": [
           {
            "marker": {
             "colorbar": {
              "outlinewidth": 0,
              "ticks": ""
             }
            },
            "type": "scattercarpet"
           }
          ],
          "scattergeo": [
           {
            "marker": {
             "colorbar": {
              "outlinewidth": 0,
              "ticks": ""
             }
            },
            "type": "scattergeo"
           }
          ],
          "scattergl": [
           {
            "marker": {
             "colorbar": {
              "outlinewidth": 0,
              "ticks": ""
             }
            },
            "type": "scattergl"
           }
          ],
          "scattermapbox": [
           {
            "marker": {
             "colorbar": {
              "outlinewidth": 0,
              "ticks": ""
             }
            },
            "type": "scattermapbox"
           }
          ],
          "scatterpolar": [
           {
            "marker": {
             "colorbar": {
              "outlinewidth": 0,
              "ticks": ""
             }
            },
            "type": "scatterpolar"
           }
          ],
          "scatterpolargl": [
           {
            "marker": {
             "colorbar": {
              "outlinewidth": 0,
              "ticks": ""
             }
            },
            "type": "scatterpolargl"
           }
          ],
          "scatterternary": [
           {
            "marker": {
             "colorbar": {
              "outlinewidth": 0,
              "ticks": ""
             }
            },
            "type": "scatterternary"
           }
          ],
          "surface": [
           {
            "colorbar": {
             "outlinewidth": 0,
             "ticks": ""
            },
            "colorscale": [
             [
              0,
              "#0d0887"
             ],
             [
              0.1111111111111111,
              "#46039f"
             ],
             [
              0.2222222222222222,
              "#7201a8"
             ],
             [
              0.3333333333333333,
              "#9c179e"
             ],
             [
              0.4444444444444444,
              "#bd3786"
             ],
             [
              0.5555555555555556,
              "#d8576b"
             ],
             [
              0.6666666666666666,
              "#ed7953"
             ],
             [
              0.7777777777777778,
              "#fb9f3a"
             ],
             [
              0.8888888888888888,
              "#fdca26"
             ],
             [
              1,
              "#f0f921"
             ]
            ],
            "type": "surface"
           }
          ],
          "table": [
           {
            "cells": {
             "fill": {
              "color": "#EBF0F8"
             },
             "line": {
              "color": "white"
             }
            },
            "header": {
             "fill": {
              "color": "#C8D4E3"
             },
             "line": {
              "color": "white"
             }
            },
            "type": "table"
           }
          ]
         },
         "layout": {
          "annotationdefaults": {
           "arrowcolor": "#2a3f5f",
           "arrowhead": 0,
           "arrowwidth": 1
          },
          "coloraxis": {
           "colorbar": {
            "outlinewidth": 0,
            "ticks": ""
           }
          },
          "colorscale": {
           "diverging": [
            [
             0,
             "#8e0152"
            ],
            [
             0.1,
             "#c51b7d"
            ],
            [
             0.2,
             "#de77ae"
            ],
            [
             0.3,
             "#f1b6da"
            ],
            [
             0.4,
             "#fde0ef"
            ],
            [
             0.5,
             "#f7f7f7"
            ],
            [
             0.6,
             "#e6f5d0"
            ],
            [
             0.7,
             "#b8e186"
            ],
            [
             0.8,
             "#7fbc41"
            ],
            [
             0.9,
             "#4d9221"
            ],
            [
             1,
             "#276419"
            ]
           ],
           "sequential": [
            [
             0,
             "#0d0887"
            ],
            [
             0.1111111111111111,
             "#46039f"
            ],
            [
             0.2222222222222222,
             "#7201a8"
            ],
            [
             0.3333333333333333,
             "#9c179e"
            ],
            [
             0.4444444444444444,
             "#bd3786"
            ],
            [
             0.5555555555555556,
             "#d8576b"
            ],
            [
             0.6666666666666666,
             "#ed7953"
            ],
            [
             0.7777777777777778,
             "#fb9f3a"
            ],
            [
             0.8888888888888888,
             "#fdca26"
            ],
            [
             1,
             "#f0f921"
            ]
           ],
           "sequentialminus": [
            [
             0,
             "#0d0887"
            ],
            [
             0.1111111111111111,
             "#46039f"
            ],
            [
             0.2222222222222222,
             "#7201a8"
            ],
            [
             0.3333333333333333,
             "#9c179e"
            ],
            [
             0.4444444444444444,
             "#bd3786"
            ],
            [
             0.5555555555555556,
             "#d8576b"
            ],
            [
             0.6666666666666666,
             "#ed7953"
            ],
            [
             0.7777777777777778,
             "#fb9f3a"
            ],
            [
             0.8888888888888888,
             "#fdca26"
            ],
            [
             1,
             "#f0f921"
            ]
           ]
          },
          "colorway": [
           "#636efa",
           "#EF553B",
           "#00cc96",
           "#ab63fa",
           "#FFA15A",
           "#19d3f3",
           "#FF6692",
           "#B6E880",
           "#FF97FF",
           "#FECB52"
          ],
          "font": {
           "color": "#2a3f5f"
          },
          "geo": {
           "bgcolor": "white",
           "lakecolor": "white",
           "landcolor": "#E5ECF6",
           "showlakes": true,
           "showland": true,
           "subunitcolor": "white"
          },
          "hoverlabel": {
           "align": "left"
          },
          "hovermode": "closest",
          "mapbox": {
           "style": "light"
          },
          "paper_bgcolor": "white",
          "plot_bgcolor": "#E5ECF6",
          "polar": {
           "angularaxis": {
            "gridcolor": "white",
            "linecolor": "white",
            "ticks": ""
           },
           "bgcolor": "#E5ECF6",
           "radialaxis": {
            "gridcolor": "white",
            "linecolor": "white",
            "ticks": ""
           }
          },
          "scene": {
           "xaxis": {
            "backgroundcolor": "#E5ECF6",
            "gridcolor": "white",
            "gridwidth": 2,
            "linecolor": "white",
            "showbackground": true,
            "ticks": "",
            "zerolinecolor": "white"
           },
           "yaxis": {
            "backgroundcolor": "#E5ECF6",
            "gridcolor": "white",
            "gridwidth": 2,
            "linecolor": "white",
            "showbackground": true,
            "ticks": "",
            "zerolinecolor": "white"
           },
           "zaxis": {
            "backgroundcolor": "#E5ECF6",
            "gridcolor": "white",
            "gridwidth": 2,
            "linecolor": "white",
            "showbackground": true,
            "ticks": "",
            "zerolinecolor": "white"
           }
          },
          "shapedefaults": {
           "line": {
            "color": "#2a3f5f"
           }
          },
          "ternary": {
           "aaxis": {
            "gridcolor": "white",
            "linecolor": "white",
            "ticks": ""
           },
           "baxis": {
            "gridcolor": "white",
            "linecolor": "white",
            "ticks": ""
           },
           "bgcolor": "#E5ECF6",
           "caxis": {
            "gridcolor": "white",
            "linecolor": "white",
            "ticks": ""
           }
          },
          "title": {
           "x": 0.05
          },
          "xaxis": {
           "automargin": true,
           "gridcolor": "white",
           "linecolor": "white",
           "ticks": "",
           "title": {
            "standoff": 15
           },
           "zerolinecolor": "white",
           "zerolinewidth": 2
          },
          "yaxis": {
           "automargin": true,
           "gridcolor": "white",
           "linecolor": "white",
           "ticks": "",
           "title": {
            "standoff": 15
           },
           "zerolinecolor": "white",
           "zerolinewidth": 2
          }
         }
        },
        "title": {
         "font": {
          "color": "#D9D9D9"
         },
         "text": "Max. Data Job Salary vs Minimum Experience Required for the Job"
        },
        "xaxis": {
         "gridcolor": "#434343",
         "showgrid": true,
         "tickfont": {
          "color": "#C2C2C2"
         },
         "title": {
          "font": {
           "color": "#D9D9D9"
          },
          "text": "Min. Experience Required"
         },
         "zerolinecolor": "#666570"
        },
        "yaxis": {
         "gridcolor": "#434343",
         "showgrid": true,
         "tickfont": {
          "color": "#C2C2C2"
         },
         "title": {
          "font": {
           "color": "#D9D9D9"
          },
          "text": "Annual Max. Data Job Salary"
         },
         "zerolinecolor": "#666570"
        }
       }
      },
      "text/html": [
       "<div>\n",
       "        \n",
       "        \n",
       "            <div id=\"3f7f50ae-b70f-48b4-96f6-d56eba43cd76\" class=\"plotly-graph-div\" style=\"height:525px; width:100%;\"></div>\n",
       "            <script type=\"text/javascript\">\n",
       "                require([\"plotly\"], function(Plotly) {\n",
       "                    window.PLOTLYENV=window.PLOTLYENV || {};\n",
       "                    window.PLOTLYENV.BASE_URL='https://plot.ly';\n",
       "                    \n",
       "                if (document.getElementById(\"3f7f50ae-b70f-48b4-96f6-d56eba43cd76\")) {\n",
       "                    Plotly.newPlot(\n",
       "                        '3f7f50ae-b70f-48b4-96f6-d56eba43cd76',\n",
       "                        [{\"line\": {\"color\": \"rgba(0, 128, 0, 1.0)\", \"dash\": \"solid\", \"shape\": \"linear\", \"width\": 1.3}, \"marker\": {\"size\": 12, \"symbol\": \"circle\"}, \"mode\": \"markers\", \"name\": \"annual_max_salary\", \"text\": [\"Operations Analyst - Symitar System and Episys Data Structure\", \"Data Base Administrator IV\", \"CPA - Data Analysis and Transparency Intern\", \"CPA - Senior Data Administrator (reopened)\", \"CPA - Expenditure Audit Data Analyst\", \"Data Entry Clerk\", \"Special Education Data Support Analyst (Data Analyst V)\", \"Program and Performance Analyst (Data Analyst IV)\", \"Data Standards & Governance Manager (Manager V)\", \"Senior Database Administrator (Data Base Administrator IV)\", \"Data Reporting Compliance Monitor (Systems Analyst V)\", \"Senior Data Administrator\", \"Data Analyst\", \"Sr. Data Governance Manager\", \"Data Designer - Communications Division\", \"IT Data Architecture/Data Migration Student Intern\", \"Health Data Analytics Student Intern\", \"CRM and Data Engineer (Zoho One)\", \"Data Entry Clerk\", \"Quality Systems Data Administrator\", \"WIC Senior Data & Reporting Analyst\", \"Data Analyst IV\", \"Data Base Administrator IV\", \"Senior Data Analyst\", \"Data Analyst\", \"Data Scientist\", \"Data Engineering Manager\", \"Sr. Data Engineer\", \"Data Transcriber - DEPARTMENT OF TREASURY - IRS\", \"INTERNAL REVENUE SERVICE - Data Transcriber\", \"Aggregation Data Maintenance Associate - Japanese\", \"Staff Data Architect\", \"Site Reliability Engineering Manager - Data Infrastructure\", \"IT Data Architect (Data Integration Developer and ETL Toolset Administrator)\", \"Data Analyst Specialist/Apprentice\", \"Insight and Data Analyst Internship\", \"Data Entry Clerk\", \"Data Transcriber *SEASONAL* **6 Month Register** (Data Entry Clerk)\", \"Research Economist, Research Mathematician, or Research Statistician (Researcher - Interdisciplinary)\", \"Business Intelligence & Reporting Developer\", \"Sr. Data Analyst\", \"Product Manager- Data & Analytics\", \"AI / Machine Learning Engineer\", \"Investment Analyst with Data Visualization (Tableau) Skills\", \"Investment Analyst with Data Visualization (Tableau) Skills\", \"Data Analyst\", \"Big Data Engineer with AWS\", \"Presto Data Engineer\", \"Data Analyst - Intermediate [136527]\", \"Data Scientist\", \"Data Scientist\", \"Senior Natural Language AI & Machine Learning Engineer w/ Web Skills\", \"Power BI Consultant\", \"BI Architect\", \"Data Engineer\", \"Data Engineer\", \"Data Engineer\", \"Sr. Data Analyst (Omniture/Adobe Analytics Required)\", \"Data Specialist (Civil Rights)\", \"Data Specialist\", \"Lead Software Engineer, Data\", \"Sr. Data Analyst for Innovative Health Plan\", \"Business Intelligence Lead Analyst\", \"Voter Data Analysis and Programs Manager\", \"IS Business Analyst - Data Analyst\", \"Clerk, Voter Data Coordinator\", \"AI Scientist - Symbolic AI (Natural Language Reasoning)\", \"AI Scientist - Symbolic AI (Natural Language Reasoning)\", \"AI Scientist - Symbolic AI (Natural Language Reasoning)\", \"AI Scientist - Symbolic AI (Natural Language Reasoning)\", \"Data Visualization Analyst\", \"Data Engineer\", \"Data Analytics Manager\", \"Senior Data Engineer\", \"Machine Learning Engineer\", \"Senior Machine Learning Engineer\", \"Data Pipeline Engineer\", \"Senior Data Pipeline Engineer\", \"Corporate Data Security Attorney\", \"Sales Support - Data Entry\", \"HVAC (BMS) Controls and Data/Security Systems Installer\", \"Service Lead, Research Data Management Program (0657U) 1776 - 1776\", \"Data Management Assistant\", \"Data Manager\", \"UTS Temporary SAS Programmer/Data Manager\", \"UTS Temporary Data Coordinator\", \"Data Collector in Sampson County\", \"Data Center Solutions Architect\", \"Data Integration Specialist\", \"Medical Laboratory Data Entry Specialist\", \"Data Architect\", \"HR Data Analyst\", \"AI Educator Advocate\", \"Director of Operations, Data & Outcomes, YouthBuild\", \"Big Data Test Lead\", \"AP/AR Data Entry Clerk\", \"AP/AR Data Entry Clerk\", \"Client Relationship Assistant/Data Entry\", \"Temporary Data Collector/Customer Service Representative\", \"SNAP-ED/Outreach Quality Improvement Coordinator - Data Management III\", \"Data Specialist - Driver Control\", \"Child Welfare - Prevention Data and Reporting Analyst\", \"Quality Assurance Analyst - Data Management IV\", \"Data Engineer\", \"Software Engineer with Data Experience\", \"Data & Analytics Manager - Technology Services\", \"Senior Data Engineer - Technology Services\", \"Office Assistant/Data Entry/Accounting\", \"Big Data developer\", \"HVAC Building Engineer - Data Center\", \"Sr Building Engineer (Electrician) - Data Center\", \"Sr Building Engineer (Electrician) - Data Center\", \"Business Intelligence Consultant (Denver)\", \"Data Analyst (Part Time)\", \"Data Specialist, Title V Grant\\u2014Hispanic Serving Institutions\", \"Data Entry Specialist\", \"Business Intelligence Developer\", \"Senior Machine Learning (ML) and Computer Vision (CV) Engineer\", \"Data Engineer\", \"Entry Level Bi-Lingual Insurance Producer\", \"Statistician - Direct Hire\", \"Mathematical Statistician - Direct Hire\", \"Azure Data Engineer\", \"Data Scientist - Machine Learning\", \"Data Entry Specialist\", \"Data Scientist (Entry level)\", \"Director II, Data Science, GRM Product Design & Modeling Pricing Sophistication\", \"Senior Data Engineer\", \"Senior Data Engineer\", \"Data Scientist, Office of Data Science\", \"Director I, Data Science-Marketing Analytics\", \"Analyst I/II, Data Science\", \"Assistant Director/Director I, Data Science\", \"Director II, Data Solutions\", \"Assistant Director, Data Management \\u2013 Safeco Agency Data Steward\", \"Data Office Product Owner\", \"Jr Data Analyst\", \"Customer Service/Data Entry\", \"Data Analyst\", \"Data Center Architect\", \"Big Data Specialist/ Data Engineer\", \"Payroll/Data Entry Client Specialist\", \"Data Analyst\", \"Data Engineer\", \"Entry Level BI Developer\", \"Data Scientist for AI Platform\", \"Data Center Technician\", \"Enterprise Data Architect (Senior Role)\", \"Snowflake Cloud Data Architect\", \"Data Visualization Expert - Tableau\", \"Data Scientist (Full-Time)\", \"Data Entry & Operations Specialist\", \"Data Entry / Support Clerk\", \"Data Entry Clerk AT\", \"Data Entry Specialist NYST401O JF\", \"Data Entry Clerk\", \"Data Engineer\", \"Assistant Manager, Data Control & Development\", \"Data Warehouse Developer\", \"Principal UI Engineer (Data Visualization)\", \"Data Entry / Administrator\", \"On Call RN (Spanish Bi-Lingual)\", \"DATA VALIDATION SPECIALIST\", \"Tableau Developer\", \"Data Coordinator\", \"Chief Data Officer\", \"Data Center Facilities Engineer\", \"Data Analyst\", \"Data Entry Clerk ($16.46/hr)\", \"Director of Enterprise Applications & Business Intelligence\", \"Data Warehouse Database Administrator\", \"Master Data Management (MDM) Team Lead\", \"Customer and Data Entry Services Coordinator\", \"Data Engineer\", \"Senior Data Analyst\", \"Data Analyst\", \"Customer Service / Data Entry Administrator\", \"Data Entry Clerk\", \"Data Entry Clerk\", \"Data Analytics Associate/Information Designer\", \"Data Analyst, Bureau of Tuberculosis Control\", \"Data Analyst, Shop Healthy NYC\", \"Data Collector, Bureau of HIV\", \"Data and Technology Analyst, Bureau of Emergency Field Operations\", \"Compliance and Data Analysis Coordinator, Bureau of Environmental Sciences and Engineering\", \"Data Analysis and Syndromic Surveillance Analyst\", \"Data Analyst and Maven Backup System Administrator, Bureau of Communicable Diseases\", \"Supervising Data Analyst, Tuberculosis Control\", \"BI Architect\", \"BI Architect in NYC, NY/NJ\", \"DATA SCIENCE INSTRUCTOR\", \"Intake Coordinator/Data Entry\", \"Data Engineer / Data Analyst (Ecommerce)\", \"GCP Architect with Big Data / Big Query Migration------Any nearby location\", \"Data Operations Engineer\", \"Senior Data Engineer\", \"Telecommunications Associate (Data), Level IV\", \"Senior Data Engineer\", \"Data Entry Processor - Entry Level\", \"Reception / Data Entry / Front desk Admin\", \"Wireless Sales Consultant ( Spanish Bi-Lingual )\", \"Exemptions Data Analyst\", \"Data Entry Associate\", \"Data Support Analyst\", \"Programs Data Manager\", \"Data Scientist, Office of Talent Research and Data (ORD)\", \"Director of Data Analytics\", \"Chinese/ Spanish Bi-lingual Customer Service- State Farm Agency\", \"Solutions Architect, Enteprise Data Services (JO# 424682)\", \"Solutions Architect, Enterprise Data Services\", \"Solutions Architect, Enterprise Data Services\", \"BI Consultant\", \"Data Science Instructor\", \"Data Specialist\", \"Strategy and Business Intelligence Analyst\", \"Bi Developer\", \"063: Statistician\", \"Senior IT Architect, Internet and Data Center Technologies\", \"Lead ETL Data Exchange Developer\", \"Data Scientist\", \"Data Scientist\", \"Data Scientist\", \"Data Scientist\", \"Data Scientist\", \"Data Scientist\", \"Data Scientist\", \"Data Scientist\", \"Data Scientist\", \"Data Scientist\", \"Data Scientist\", \"Data Scientist\", \"Data Scientist\", \"Data Scientist\", \"Data Scientist\", \"Data Scientist\", \"Data Scientist\", \"Data Scientist\", \"Data Scientist\", \"Data Scientist\", \"Data Scientist\", \"Data Scientist\", \"Data Scientist\", \"Data Scientist\", \"Data Scientist\", \"Data Scientist\", \"Data Scientist\", \"Data Scientist\", \"Data Scientist\", \"Data Scientist\", \"Data Scientist\", \"Data Scientist\", \"Data Analyst (NCU)\", \"Data Analyst (NCU)\", \"Data Analyst (NCU)\", \"Data Analyst (NCU)\", \"Data Analyst (NCU)\", \"Data Analyst (NCU)\", \"Data Analyst (NCU)\", \"Data Analyst (NCU)\", \"Data Analyst (NCU)\", \"Data Analyst (NCU)\", \"Data Analyst (NCU)\", \"Data Analyst (NCU)\", \"Data Analyst (NCU)\", \"Data Analyst (NCU)\", \"Data Analyst (NCU)\", \"Data Analyst (NCU)\", \"Data Analyst (NCU)\", \"Data Analyst (NCU)\", \"Data Analyst (NCU)\", \"Data Analyst (NCU)\", \"Data Analyst (NCU)\", \"Data Analyst (NCU)\", \"Data Analyst (NCU)\", \"Data Analyst (NCU)\", \"Data Analyst (NCU)\", \"Data Analyst (NCU)\", \"Data Analyst (NCU)\", \"Data Analyst (NCU)\", \"Data Analyst (NCU)\", \"Data Analyst (NCU)\", \"Data Analyst (NCU)\", \"Data Analyst (NCU)\", \"Survey Statistician\", \"Mathematical Statistician\", \"Supervisory Statistician\", \"Medical Technologist (ASCP) Data Entry\", \"SQL BI Developer (SSIS/SSRS)\", \"Supervisory Survey Statistician, GS-1530-15, Census-MP-SAB\", \"Supervisory Survey Statistician, GS-1530-15, Census-DE-SAB\", \"Political Data Intern - Summer 2020\", \"Data Analyst\", \"Junior SQL Data / Financial Analyst\", \"Data Engineer\", \"CHIEF OF BUSINESS INTELLIGENCE\", \"Information Technology Specialist (Data Management)\", \"Health Insurance Specialist (Data Analysis and Studies)\", \"Statistician\", \"Sr. Data Analyst\", \"Data Installer/BICSI Installer\", \"Data Engineer (BigData & Azure)\", \"Data Analyst for Museum Services Team\", \"Data Scientist\", \"Data Coach (10-month)\", \"Data Modeler\", \"New! Mid-to-Senior Data Engineer (Clearance Required)\", \"Medical Receptionist (Bi -Lingual English/Spanish)\", \"Big Data Engineer / Hadoop Engineer (GC holder or US citizen)\", \"Data Integration Architect\", \"Data Collection and Analysis Lead\", \"Sales Admin Role: Data Analysis\", \"Junior Data Analyst\", \"Business Data Analyst (Cyber)\", \"Business Data Analyst (Cyber)\", \"Data Scientist\", \"Sr. Tableau Developer/ Sr. Data Analyst\", \"Intermediate Data Analyst\", \"Sr Big data Java Developer\", \"Data Governance Senior Analyst\", \"Research Statistician\", \"Data Coordinator\", \"Tableau Trainer\", \"Education Data Specialist\", \"Data Analytics Specialist\", \"Master Data Specialist\", \"Big data lead /sr .developer\", \"Big Data (Lead Developer)\", \"Data Systems Assistant Administrator\"], \"type\": \"scatter\", \"x\": [2, 7, 8, 8, 8, 1, 4, 4, 4, 4, 4, 10, 1, 3, 5, 1, 1, 1, 1, 1, 1, 1, 1, 1, 3, 3, 4, 4, 12, 12, 2, 2, 2, 5, 15, 1, 1, 1, 1, 2, 2, 2, 5, 2, 2, 11, 5, 5, 7, 3, 3, 3, 10, 10, 10, 4, 4, 4, 3, 3, 3, 2, 5, 1, 1, 1, 2, 2, 2, 2, 5, 5, 5, 1, 2, 2, 2, 2, 2, 2, 3, 7, 3, 3, 3, 3, 3, 5, 4, 4, 4, 4, 4, 4, 8, 10, 10, 6, 1, 2, 2, 2, 2, 3, 2, 3, 3, 10, 7, 3, 3, 3, 5, 1, 1, 12, 2, 3, 3, 5, 14, 14, 6, 6, 1, 0, 5, 5, 5, 5, 5, 5, 5, 5, 5, 5, 2, 10, 1, 3, 6, 9, 12, 2, 1, 3, 2, 15, 7, 7, 2, 2, 2, 7, 7, 11, 5, 4, 3, 8, 8, 8, 1, 1, 4, 5, 5, 1, 7, 7, 5, 5, 15, 7, 2, 2, 1, 2, 2, 1, 1, 1, 1, 1, 1, 1, 1, 1, 12, 2, 3, 1, 1, 3, 2, 2, 1, 5, 6, 1, 1, 1, 1, 1, 1, 1, 15, 3, 1, 1, 2, 1, 3, 3, 1, 3, 0, 5, 5, 1, 1, 1, 1, 1, 1, 1, 1, 1, 1, 1, 1, 1, 1, 1, 1, 1, 1, 1, 1, 1, 1, 1, 1, 1, 1, 1, 1, 1, 1, 1, 1, 1, 1, 1, 1, 1, 1, 1, 1, 1, 1, 1, 1, 1, 1, 1, 1, 1, 1, 1, 1, 1, 1, 1, 1, 1, 1, 1, 1, 1, 1, 1, 1, 12, 12, 4, 15, 1, 15, 15, 0, 1, 3, 3, 15, 13, 13, 13, 4, 5, 12, 2, 2, 5, 10, 8, 14, 2, 3, 2, 3, 3, 3, 3, 2, 2, 6, 5, 2, 2, 3, 2, 3, 3, 2, 2, 2, 10], \"y\": [60000.0, 90000.0, 29568.0, 108000.0, 73200.0, 37440.0, 93408.0, 77868.0, 100008.0, 114996.0, 82008.0, 108000.0, 75000.0, 145600.0, 96720.0, 35360.0, 28080.0, 60000.0, 30742.4, 77862.0, 77868.0, 96720.0, 117396.0, 77868.0, 85000.0, 110000.0, 170000.0, 150000.0, 29120.0, 29120.0, 50003.2, 174000.0, 174000.0, 101857.6, 40000.0, 37440.0, 26000.0, 39915.2, 165084.0, 228800.0, 208000.0, 140000.0, 135200.0, 144000.0, 144000.0, 145600.0, 166400.0, 176800.0, 70000.0, 110000.0, 110000.0, 135000.0, 160000.0, 130000.0, 120000.0, 150000.0, 145000.0, 135200.0, 64480.0, 64480.0, 270400.0, 116000.0, 108000.0, 93204.8, 113318.4, 51542.4, 100000.0, 100000.0, 100000.0, 100000.0, 110000.0, 150000.0, 150000.0, 170000.0, 250000.0, 225000.0, 250000.0, 225000.0, 280000.0, 70000.0, 100880.0, 100000.0, 45760.0, 87392.0, 60320.0, 47008.0, 31200.0, 110000.0, 133937.0, 44091.0, 100892.0, 86431.0, 51986.0, 56000.0, 166400.0, 41600.0, 37440.0, 39000.0, 33280.0, 75240.0, 53160.0, 70248.0, 93480.0, 95000.0, 95000.0, 135000.0, 115000.0, 29120.0, 124800.0, 70000.0, 80000.0, 75000.0, 130000.0, 22638.0, 55000.0, 24960.0, 120000.0, 120000.0, 145600.0, 32760.0, 136271.0, 136271.0, 166400.0, 118560.0, 35360.0, 70720.0, 197600.0, 134100.0, 120000.0, 134100.0, 173000.0, 134100.0, 173200.0, 190000.0, 152000.0, 152000.0, 72800.0, 32240.0, 62400.0, 145600.0, 124800.0, 42000.0, 135200.0, 110000.0, 70000.0, 140000.0, 37502.4, 165000.0, 150000.0, 120000.0, 150000.0, 48000.0, 33280.0, 31200.0, 33280.0, 33280.0, 125000.0, 114250.0, 90570.0, 160000.0, 33280.0, 39000.0, 70000.0, 85000.0, 52000.0, 185000.0, 92382.0, 55000.0, 34236.8, 120000.0, 131429.0, 131429.0, 34840.0, 104000.0, 214240.0, 109595.2, 41600.0, 37481.6, 37772.8, 71446.0, 70554.0, 91800.0, 58566.0, 70554.0, 86830.0, 93776.0, 70554.0, 87805.0, 125000.0, 120000.0, 79040.0, 33280.0, 90000.0, 147680.0, 120000.0, 160000.0, 110116.0, 160000.0, 35000.0, 33280.0, 40000.0, 86830.0, 31200.0, 65888.0, 78000.0, 70370.0, 180000.0, 52000.0, 145000.0, 145000.0, 145000.0, 110000.0, 88400.0, 31200.0, 80000.0, 124800.0, 80000.0, 103000.0, 98919.0, 66388.0, 66388.0, 66388.0, 66388.0, 66388.0, 66388.0, 66388.0, 66388.0, 66388.0, 66388.0, 66388.0, 66388.0, 66388.0, 66388.0, 66388.0, 66388.0, 66388.0, 66388.0, 66388.0, 66388.0, 66388.0, 66388.0, 66388.0, 66388.0, 66388.0, 66388.0, 66388.0, 66388.0, 66388.0, 66388.0, 66388.0, 66388.0, 63031.0, 63031.0, 63031.0, 63031.0, 63031.0, 63031.0, 63031.0, 63031.0, 63031.0, 63031.0, 63031.0, 63031.0, 63031.0, 63031.0, 63031.0, 63031.0, 63031.0, 63031.0, 63031.0, 63031.0, 63031.0, 63031.0, 63031.0, 63031.0, 63031.0, 63031.0, 63031.0, 63031.0, 63031.0, 63031.0, 63031.0, 63031.0, 133465.0, 133465.0, 170800.0, 31200.0, 135200.0, 170800.0, 170800.0, 29120.0, 122227.0, 55000.0, 114400.0, 179201.0, 133465.0, 128920.0, 128920.0, 120000.0, 52000.0, 187200.0, 61926.0, 150000.0, 103819.0, 125000.0, 160000.0, 33280.0, 176800.0, 120000.0, 90000.0, 49920.0, 73000.0, 106000.0, 106000.0, 70000.0, 70000.0, 83000.0, 150000.0, 121830.0, 70000.0, 35360.0, 130000.0, 31200.0, 62000.0, 55000.0, 156000.0, 166400.0, 93600.0]}],\n",
       "                        {\"legend\": {\"bgcolor\": \"#151516\", \"font\": {\"color\": \"#D9D9D9\"}}, \"paper_bgcolor\": \"#151516\", \"plot_bgcolor\": \"#151516\", \"template\": {\"data\": {\"bar\": [{\"error_x\": {\"color\": \"#2a3f5f\"}, \"error_y\": {\"color\": \"#2a3f5f\"}, \"marker\": {\"line\": {\"color\": \"#E5ECF6\", \"width\": 0.5}}, \"type\": \"bar\"}], \"barpolar\": [{\"marker\": {\"line\": {\"color\": \"#E5ECF6\", \"width\": 0.5}}, \"type\": \"barpolar\"}], \"carpet\": [{\"aaxis\": {\"endlinecolor\": \"#2a3f5f\", \"gridcolor\": \"white\", \"linecolor\": \"white\", \"minorgridcolor\": \"white\", \"startlinecolor\": \"#2a3f5f\"}, \"baxis\": {\"endlinecolor\": \"#2a3f5f\", \"gridcolor\": \"white\", \"linecolor\": \"white\", \"minorgridcolor\": \"white\", \"startlinecolor\": \"#2a3f5f\"}, \"type\": \"carpet\"}], \"choropleth\": [{\"colorbar\": {\"outlinewidth\": 0, \"ticks\": \"\"}, \"type\": \"choropleth\"}], \"contour\": [{\"colorbar\": {\"outlinewidth\": 0, \"ticks\": \"\"}, \"colorscale\": [[0.0, \"#0d0887\"], [0.1111111111111111, \"#46039f\"], [0.2222222222222222, \"#7201a8\"], [0.3333333333333333, \"#9c179e\"], [0.4444444444444444, \"#bd3786\"], [0.5555555555555556, \"#d8576b\"], [0.6666666666666666, \"#ed7953\"], [0.7777777777777778, \"#fb9f3a\"], [0.8888888888888888, \"#fdca26\"], [1.0, \"#f0f921\"]], \"type\": \"contour\"}], \"contourcarpet\": [{\"colorbar\": {\"outlinewidth\": 0, \"ticks\": \"\"}, \"type\": \"contourcarpet\"}], \"heatmap\": [{\"colorbar\": {\"outlinewidth\": 0, \"ticks\": \"\"}, \"colorscale\": [[0.0, \"#0d0887\"], [0.1111111111111111, \"#46039f\"], [0.2222222222222222, \"#7201a8\"], [0.3333333333333333, \"#9c179e\"], [0.4444444444444444, \"#bd3786\"], [0.5555555555555556, \"#d8576b\"], [0.6666666666666666, \"#ed7953\"], [0.7777777777777778, \"#fb9f3a\"], [0.8888888888888888, \"#fdca26\"], [1.0, \"#f0f921\"]], \"type\": \"heatmap\"}], \"heatmapgl\": [{\"colorbar\": {\"outlinewidth\": 0, \"ticks\": \"\"}, \"colorscale\": [[0.0, \"#0d0887\"], [0.1111111111111111, \"#46039f\"], [0.2222222222222222, \"#7201a8\"], [0.3333333333333333, \"#9c179e\"], [0.4444444444444444, \"#bd3786\"], [0.5555555555555556, \"#d8576b\"], [0.6666666666666666, \"#ed7953\"], [0.7777777777777778, \"#fb9f3a\"], [0.8888888888888888, \"#fdca26\"], [1.0, \"#f0f921\"]], \"type\": \"heatmapgl\"}], \"histogram\": [{\"marker\": {\"colorbar\": {\"outlinewidth\": 0, \"ticks\": \"\"}}, \"type\": \"histogram\"}], \"histogram2d\": [{\"colorbar\": {\"outlinewidth\": 0, \"ticks\": \"\"}, \"colorscale\": [[0.0, \"#0d0887\"], [0.1111111111111111, \"#46039f\"], [0.2222222222222222, \"#7201a8\"], [0.3333333333333333, \"#9c179e\"], [0.4444444444444444, \"#bd3786\"], [0.5555555555555556, \"#d8576b\"], [0.6666666666666666, \"#ed7953\"], [0.7777777777777778, \"#fb9f3a\"], [0.8888888888888888, \"#fdca26\"], [1.0, \"#f0f921\"]], \"type\": \"histogram2d\"}], \"histogram2dcontour\": [{\"colorbar\": {\"outlinewidth\": 0, \"ticks\": \"\"}, \"colorscale\": [[0.0, \"#0d0887\"], [0.1111111111111111, \"#46039f\"], [0.2222222222222222, \"#7201a8\"], [0.3333333333333333, \"#9c179e\"], [0.4444444444444444, \"#bd3786\"], [0.5555555555555556, \"#d8576b\"], [0.6666666666666666, \"#ed7953\"], [0.7777777777777778, \"#fb9f3a\"], [0.8888888888888888, \"#fdca26\"], [1.0, \"#f0f921\"]], \"type\": \"histogram2dcontour\"}], \"mesh3d\": [{\"colorbar\": {\"outlinewidth\": 0, \"ticks\": \"\"}, \"type\": \"mesh3d\"}], \"parcoords\": [{\"line\": {\"colorbar\": {\"outlinewidth\": 0, \"ticks\": \"\"}}, \"type\": \"parcoords\"}], \"pie\": [{\"automargin\": true, \"type\": \"pie\"}], \"scatter\": [{\"marker\": {\"colorbar\": {\"outlinewidth\": 0, \"ticks\": \"\"}}, \"type\": \"scatter\"}], \"scatter3d\": [{\"line\": {\"colorbar\": {\"outlinewidth\": 0, \"ticks\": \"\"}}, \"marker\": {\"colorbar\": {\"outlinewidth\": 0, \"ticks\": \"\"}}, \"type\": \"scatter3d\"}], \"scattercarpet\": [{\"marker\": {\"colorbar\": {\"outlinewidth\": 0, \"ticks\": \"\"}}, \"type\": \"scattercarpet\"}], \"scattergeo\": [{\"marker\": {\"colorbar\": {\"outlinewidth\": 0, \"ticks\": \"\"}}, \"type\": \"scattergeo\"}], \"scattergl\": [{\"marker\": {\"colorbar\": {\"outlinewidth\": 0, \"ticks\": \"\"}}, \"type\": \"scattergl\"}], \"scattermapbox\": [{\"marker\": {\"colorbar\": {\"outlinewidth\": 0, \"ticks\": \"\"}}, \"type\": \"scattermapbox\"}], \"scatterpolar\": [{\"marker\": {\"colorbar\": {\"outlinewidth\": 0, \"ticks\": \"\"}}, \"type\": \"scatterpolar\"}], \"scatterpolargl\": [{\"marker\": {\"colorbar\": {\"outlinewidth\": 0, \"ticks\": \"\"}}, \"type\": \"scatterpolargl\"}], \"scatterternary\": [{\"marker\": {\"colorbar\": {\"outlinewidth\": 0, \"ticks\": \"\"}}, \"type\": \"scatterternary\"}], \"surface\": [{\"colorbar\": {\"outlinewidth\": 0, \"ticks\": \"\"}, \"colorscale\": [[0.0, \"#0d0887\"], [0.1111111111111111, \"#46039f\"], [0.2222222222222222, \"#7201a8\"], [0.3333333333333333, \"#9c179e\"], [0.4444444444444444, \"#bd3786\"], [0.5555555555555556, \"#d8576b\"], [0.6666666666666666, \"#ed7953\"], [0.7777777777777778, \"#fb9f3a\"], [0.8888888888888888, \"#fdca26\"], [1.0, \"#f0f921\"]], \"type\": \"surface\"}], \"table\": [{\"cells\": {\"fill\": {\"color\": \"#EBF0F8\"}, \"line\": {\"color\": \"white\"}}, \"header\": {\"fill\": {\"color\": \"#C8D4E3\"}, \"line\": {\"color\": \"white\"}}, \"type\": \"table\"}]}, \"layout\": {\"annotationdefaults\": {\"arrowcolor\": \"#2a3f5f\", \"arrowhead\": 0, \"arrowwidth\": 1}, \"coloraxis\": {\"colorbar\": {\"outlinewidth\": 0, \"ticks\": \"\"}}, \"colorscale\": {\"diverging\": [[0, \"#8e0152\"], [0.1, \"#c51b7d\"], [0.2, \"#de77ae\"], [0.3, \"#f1b6da\"], [0.4, \"#fde0ef\"], [0.5, \"#f7f7f7\"], [0.6, \"#e6f5d0\"], [0.7, \"#b8e186\"], [0.8, \"#7fbc41\"], [0.9, \"#4d9221\"], [1, \"#276419\"]], \"sequential\": [[0.0, \"#0d0887\"], [0.1111111111111111, \"#46039f\"], [0.2222222222222222, \"#7201a8\"], [0.3333333333333333, \"#9c179e\"], [0.4444444444444444, \"#bd3786\"], [0.5555555555555556, \"#d8576b\"], [0.6666666666666666, \"#ed7953\"], [0.7777777777777778, \"#fb9f3a\"], [0.8888888888888888, \"#fdca26\"], [1.0, \"#f0f921\"]], \"sequentialminus\": [[0.0, \"#0d0887\"], [0.1111111111111111, \"#46039f\"], [0.2222222222222222, \"#7201a8\"], [0.3333333333333333, \"#9c179e\"], [0.4444444444444444, \"#bd3786\"], [0.5555555555555556, \"#d8576b\"], [0.6666666666666666, \"#ed7953\"], [0.7777777777777778, \"#fb9f3a\"], [0.8888888888888888, \"#fdca26\"], [1.0, \"#f0f921\"]]}, \"colorway\": [\"#636efa\", \"#EF553B\", \"#00cc96\", \"#ab63fa\", \"#FFA15A\", \"#19d3f3\", \"#FF6692\", \"#B6E880\", \"#FF97FF\", \"#FECB52\"], \"font\": {\"color\": \"#2a3f5f\"}, \"geo\": {\"bgcolor\": \"white\", \"lakecolor\": \"white\", \"landcolor\": \"#E5ECF6\", \"showlakes\": true, \"showland\": true, \"subunitcolor\": \"white\"}, \"hoverlabel\": {\"align\": \"left\"}, \"hovermode\": \"closest\", \"mapbox\": {\"style\": \"light\"}, \"paper_bgcolor\": \"white\", \"plot_bgcolor\": \"#E5ECF6\", \"polar\": {\"angularaxis\": {\"gridcolor\": \"white\", \"linecolor\": \"white\", \"ticks\": \"\"}, \"bgcolor\": \"#E5ECF6\", \"radialaxis\": {\"gridcolor\": \"white\", \"linecolor\": \"white\", \"ticks\": \"\"}}, \"scene\": {\"xaxis\": {\"backgroundcolor\": \"#E5ECF6\", \"gridcolor\": \"white\", \"gridwidth\": 2, \"linecolor\": \"white\", \"showbackground\": true, \"ticks\": \"\", \"zerolinecolor\": \"white\"}, \"yaxis\": {\"backgroundcolor\": \"#E5ECF6\", \"gridcolor\": \"white\", \"gridwidth\": 2, \"linecolor\": \"white\", \"showbackground\": true, \"ticks\": \"\", \"zerolinecolor\": \"white\"}, \"zaxis\": {\"backgroundcolor\": \"#E5ECF6\", \"gridcolor\": \"white\", \"gridwidth\": 2, \"linecolor\": \"white\", \"showbackground\": true, \"ticks\": \"\", \"zerolinecolor\": \"white\"}}, \"shapedefaults\": {\"line\": {\"color\": \"#2a3f5f\"}}, \"ternary\": {\"aaxis\": {\"gridcolor\": \"white\", \"linecolor\": \"white\", \"ticks\": \"\"}, \"baxis\": {\"gridcolor\": \"white\", \"linecolor\": \"white\", \"ticks\": \"\"}, \"bgcolor\": \"#E5ECF6\", \"caxis\": {\"gridcolor\": \"white\", \"linecolor\": \"white\", \"ticks\": \"\"}}, \"title\": {\"x\": 0.05}, \"xaxis\": {\"automargin\": true, \"gridcolor\": \"white\", \"linecolor\": \"white\", \"ticks\": \"\", \"title\": {\"standoff\": 15}, \"zerolinecolor\": \"white\", \"zerolinewidth\": 2}, \"yaxis\": {\"automargin\": true, \"gridcolor\": \"white\", \"linecolor\": \"white\", \"ticks\": \"\", \"title\": {\"standoff\": 15}, \"zerolinecolor\": \"white\", \"zerolinewidth\": 2}}}, \"title\": {\"font\": {\"color\": \"#D9D9D9\"}, \"text\": \"Max. Data Job Salary vs Minimum Experience Required for the Job\"}, \"xaxis\": {\"gridcolor\": \"#434343\", \"showgrid\": true, \"tickfont\": {\"color\": \"#C2C2C2\"}, \"title\": {\"font\": {\"color\": \"#D9D9D9\"}, \"text\": \"Min. Experience Required\"}, \"zerolinecolor\": \"#666570\"}, \"yaxis\": {\"gridcolor\": \"#434343\", \"showgrid\": true, \"tickfont\": {\"color\": \"#C2C2C2\"}, \"title\": {\"font\": {\"color\": \"#D9D9D9\"}, \"text\": \"Annual Max. Data Job Salary\"}, \"zerolinecolor\": \"#666570\"}},\n",
       "                        {\"showLink\": true, \"linkText\": \"Export to plot.ly\", \"plotlyServerURL\": \"https://plot.ly\", \"responsive\": true}\n",
       "                    ).then(function(){\n",
       "                            \n",
       "var gd = document.getElementById('3f7f50ae-b70f-48b4-96f6-d56eba43cd76');\n",
       "var x = new MutationObserver(function (mutations, observer) {{\n",
       "        var display = window.getComputedStyle(gd).display;\n",
       "        if (!display || display === 'none') {{\n",
       "            console.log([gd, 'removed!']);\n",
       "            Plotly.purge(gd);\n",
       "            observer.disconnect();\n",
       "        }}\n",
       "}});\n",
       "\n",
       "// Listen for the removal of the full notebook cells\n",
       "var notebookContainer = gd.closest('#notebook-container');\n",
       "if (notebookContainer) {{\n",
       "    x.observe(notebookContainer, {childList: true});\n",
       "}}\n",
       "\n",
       "// Listen for the clearing of the current output cell\n",
       "var outputEl = gd.closest('.output');\n",
       "if (outputEl) {{\n",
       "    x.observe(outputEl, {childList: true});\n",
       "}}\n",
       "\n",
       "                        })\n",
       "                };\n",
       "                });\n",
       "            </script>\n",
       "        </div>"
      ]
     },
     "metadata": {},
     "output_type": "display_data"
    }
   ],
   "source": [
    "# Visualizing data job maximum salary vs job minimum experience requirement to find if a correlation exists\n",
    "\n",
    "exp_and_sal_data.iplot(kind='scatter', x='exp', y='annual_max_salary', \n",
    "                          yTitle='Annual Max. Data Job Salary', \n",
    "                          xTitle='Min. Experience Required',\n",
    "                          title='Max. Data Job Salary vs Minimum Experience Required for the Job',\n",
    "                          text='jobtitle', \n",
    "                          theme='solar',\n",
    "                          colors='green',\n",
    "                          mode='markers')"
   ]
  },
  {
   "cell_type": "markdown",
   "metadata": {},
   "source": [
    "<hr>\n",
    "<h4 align=\"center\" style=\"color:black;\"> Analysis: Maximum Data Job Salary vs Minimum Experience Required for the Job</h4>\n",
    "<h4 style=\"color:#666666;\">Source: Indeed API, Web-Scraping using RegEx (Indeed Job Description) </h4>\n",
    "There does not appear to be a strong linear correlation between maximum salary and minimum experience requirement for the job.  Most of the max salaries fall within an experience requirement of 1 to 5 years. Consistent experience data was difficult to obtain via scraping the Indeed job posts, the resulting data required additional cleaning which may skew the results.  \n",
    "<hr>"
   ]
  },
  {
   "cell_type": "markdown",
   "metadata": {},
   "source": [
    "## Comparing Data Job Salary to Average Apartment Rent"
   ]
  },
  {
   "cell_type": "code",
   "execution_count": 78,
   "metadata": {},
   "outputs": [],
   "source": [
    "# merging median salary and rent dataframes\n",
    "\n",
    "monthly_sal_and_rent = pd.merge(apt_rent_data, data_jobs_median_sal, how='inner', left_on='City', right_on='updated_city')"
   ]
  },
  {
   "cell_type": "code",
   "execution_count": 79,
   "metadata": {},
   "outputs": [],
   "source": [
    "# calculating monthly median salaries from annual median salaries and assiging it to new columns\n",
    "\n",
    "monthly_sal_and_rent =  monthly_sal_and_rent.assign(monthly_min_median_sal = monthly_sal_and_rent['annual_min_median']/12) \\\n",
    "                                            .assign(monthly_max_median_sal = monthly_sal_and_rent['annual_max_median']/12) \\\n",
    "                                            [['updated_city', 'monthly_min_median_sal', 'monthly_max_median_sal', '1br', '2br', '3br', '4br', 'Studio']] \\\n",
    "                                            .sort_values('monthly_min_median_sal', ascending=False)"
   ]
  },
  {
   "cell_type": "code",
   "execution_count": 80,
   "metadata": {},
   "outputs": [
    {
     "data": {
      "text/html": [
       "<div>\n",
       "<style scoped>\n",
       "    .dataframe tbody tr th:only-of-type {\n",
       "        vertical-align: middle;\n",
       "    }\n",
       "\n",
       "    .dataframe tbody tr th {\n",
       "        vertical-align: top;\n",
       "    }\n",
       "\n",
       "    .dataframe thead th {\n",
       "        text-align: right;\n",
       "    }\n",
       "</style>\n",
       "<table border=\"1\" class=\"dataframe\">\n",
       "  <thead>\n",
       "    <tr style=\"text-align: right;\">\n",
       "      <th></th>\n",
       "      <th>updated_city</th>\n",
       "      <th>monthly_min_median_sal</th>\n",
       "      <th>monthly_max_median_sal</th>\n",
       "      <th>1br</th>\n",
       "      <th>2br</th>\n",
       "      <th>3br</th>\n",
       "      <th>4br</th>\n",
       "      <th>Studio</th>\n",
       "    </tr>\n",
       "  </thead>\n",
       "  <tbody>\n",
       "    <tr>\n",
       "      <th>7</th>\n",
       "      <td>San Francisco</td>\n",
       "      <td>8333.333333</td>\n",
       "      <td>11258.333333</td>\n",
       "      <td>2458</td>\n",
       "      <td>3088</td>\n",
       "      <td>4155</td>\n",
       "      <td>4941</td>\n",
       "      <td>2000</td>\n",
       "    </tr>\n",
       "    <tr>\n",
       "      <th>0</th>\n",
       "      <td>Atlanta</td>\n",
       "      <td>6666.666667</td>\n",
       "      <td>9166.666667</td>\n",
       "      <td>1039</td>\n",
       "      <td>1200</td>\n",
       "      <td>1575</td>\n",
       "      <td>1936</td>\n",
       "      <td>991</td>\n",
       "    </tr>\n",
       "    <tr>\n",
       "      <th>9</th>\n",
       "      <td>Washington D.C.</td>\n",
       "      <td>6293.000000</td>\n",
       "      <td>9544.416667</td>\n",
       "      <td>1361</td>\n",
       "      <td>1572</td>\n",
       "      <td>2073</td>\n",
       "      <td>2571</td>\n",
       "      <td>1295</td>\n",
       "    </tr>\n",
       "    <tr>\n",
       "      <th>2</th>\n",
       "      <td>Boston</td>\n",
       "      <td>6250.000000</td>\n",
       "      <td>10000.000000</td>\n",
       "      <td>1714</td>\n",
       "      <td>2125</td>\n",
       "      <td>2670</td>\n",
       "      <td>2943</td>\n",
       "      <td>1502</td>\n",
       "    </tr>\n",
       "    <tr>\n",
       "      <th>3</th>\n",
       "      <td>Columbus</td>\n",
       "      <td>5481.666667</td>\n",
       "      <td>6459.066667</td>\n",
       "      <td>752</td>\n",
       "      <td>970</td>\n",
       "      <td>1248</td>\n",
       "      <td>1452</td>\n",
       "      <td>636</td>\n",
       "    </tr>\n",
       "    <tr>\n",
       "      <th>4</th>\n",
       "      <td>Denver</td>\n",
       "      <td>5321.500000</td>\n",
       "      <td>6052.000000</td>\n",
       "      <td>1069</td>\n",
       "      <td>1353</td>\n",
       "      <td>1966</td>\n",
       "      <td>2277</td>\n",
       "      <td>875</td>\n",
       "    </tr>\n",
       "    <tr>\n",
       "      <th>5</th>\n",
       "      <td>New York</td>\n",
       "      <td>5238.500000</td>\n",
       "      <td>5532.333333</td>\n",
       "      <td>2158</td>\n",
       "      <td>2570</td>\n",
       "      <td>3314</td>\n",
       "      <td>3691</td>\n",
       "      <td>1943</td>\n",
       "    </tr>\n",
       "    <tr>\n",
       "      <th>1</th>\n",
       "      <td>Austin</td>\n",
       "      <td>4917.000000</td>\n",
       "      <td>6100.000000</td>\n",
       "      <td>1192</td>\n",
       "      <td>1471</td>\n",
       "      <td>1993</td>\n",
       "      <td>2399</td>\n",
       "      <td>983</td>\n",
       "    </tr>\n",
       "    <tr>\n",
       "      <th>6</th>\n",
       "      <td>Raleigh</td>\n",
       "      <td>4083.333333</td>\n",
       "      <td>5026.666667</td>\n",
       "      <td>1006</td>\n",
       "      <td>1162</td>\n",
       "      <td>1519</td>\n",
       "      <td>1857</td>\n",
       "      <td>816</td>\n",
       "    </tr>\n",
       "    <tr>\n",
       "      <th>8</th>\n",
       "      <td>Seattle</td>\n",
       "      <td>3700.000000</td>\n",
       "      <td>4166.666667</td>\n",
       "      <td>1345</td>\n",
       "      <td>1675</td>\n",
       "      <td>2431</td>\n",
       "      <td>2892</td>\n",
       "      <td>1175</td>\n",
       "    </tr>\n",
       "  </tbody>\n",
       "</table>\n",
       "</div>"
      ],
      "text/plain": [
       "      updated_city  monthly_min_median_sal  monthly_max_median_sal   1br  \\\n",
       "7    San Francisco             8333.333333            11258.333333  2458   \n",
       "0          Atlanta             6666.666667             9166.666667  1039   \n",
       "9  Washington D.C.             6293.000000             9544.416667  1361   \n",
       "2           Boston             6250.000000            10000.000000  1714   \n",
       "3         Columbus             5481.666667             6459.066667   752   \n",
       "4           Denver             5321.500000             6052.000000  1069   \n",
       "5         New York             5238.500000             5532.333333  2158   \n",
       "1           Austin             4917.000000             6100.000000  1192   \n",
       "6          Raleigh             4083.333333             5026.666667  1006   \n",
       "8          Seattle             3700.000000             4166.666667  1345   \n",
       "\n",
       "    2br   3br   4br  Studio  \n",
       "7  3088  4155  4941    2000  \n",
       "0  1200  1575  1936     991  \n",
       "9  1572  2073  2571    1295  \n",
       "2  2125  2670  2943    1502  \n",
       "3   970  1248  1452     636  \n",
       "4  1353  1966  2277     875  \n",
       "5  2570  3314  3691    1943  \n",
       "1  1471  1993  2399     983  \n",
       "6  1162  1519  1857     816  \n",
       "8  1675  2431  2892    1175  "
      ]
     },
     "execution_count": 80,
     "metadata": {},
     "output_type": "execute_result"
    }
   ],
   "source": [
    "monthly_sal_and_rent"
   ]
  },
  {
   "cell_type": "code",
   "execution_count": 81,
   "metadata": {},
   "outputs": [
    {
     "data": {
      "application/vnd.plotly.v1+json": {
       "config": {
        "linkText": "Export to plot.ly",
        "plotlyServerURL": "https://plot.ly",
        "showLink": false
       },
       "data": [
        {
         "marker": {
          "color": "rgb(95,158,160)",
          "line": {
           "color": "rgb(65,105,225)"
          }
         },
         "name": "Data Jobs Minimum Median Salary",
         "type": "bar",
         "width": 0.7,
         "x": [
          "San Francisco",
          "Atlanta",
          "Washington D.C.",
          "Boston",
          "Columbus",
          "Denver",
          "New York",
          "Austin",
          "Raleigh",
          "Seattle"
         ],
         "y": [
          8333.333333333334,
          6666.666666666667,
          6293,
          6250,
          5481.666666666667,
          5321.5,
          5238.5,
          4917,
          4083.3333333333335,
          3700
         ]
        },
        {
         "marker": {
          "color": "rgb(255,0,255)",
          "line": {
           "color": "rgb(255,0,255)"
          },
          "size": 10
         },
         "name": "Avg Rent for 4 Br Apt",
         "type": "scatter",
         "x": [
          "San Francisco",
          "Atlanta",
          "Washington D.C.",
          "Boston",
          "Columbus",
          "Denver",
          "New York",
          "Austin",
          "Raleigh",
          "Seattle"
         ],
         "y": [
          4941,
          1936,
          2571,
          2943,
          1452,
          2277,
          3691,
          2399,
          1857,
          2892
         ]
        },
        {
         "marker": {
          "color": "rgb(230,230,250)",
          "line": {
           "color": "rgb(230,230,250)"
          },
          "size": 10
         },
         "name": "Avg Rent for 3 Br Apt",
         "type": "scatter",
         "x": [
          "San Francisco",
          "Atlanta",
          "Washington D.C.",
          "Boston",
          "Columbus",
          "Denver",
          "New York",
          "Austin",
          "Raleigh",
          "Seattle"
         ],
         "y": [
          4155,
          1575,
          2073,
          2670,
          1248,
          1966,
          3314,
          1993,
          1519,
          2431
         ]
        },
        {
         "marker": {
          "color": "rgb(124,252,0)",
          "line": {
           "color": "rgb(124,252,0)"
          },
          "size": 10
         },
         "name": "Avg Rent for 2 Br Apt",
         "type": "scatter",
         "x": [
          "San Francisco",
          "Atlanta",
          "Washington D.C.",
          "Boston",
          "Columbus",
          "Denver",
          "New York",
          "Austin",
          "Raleigh",
          "Seattle"
         ],
         "y": [
          3088,
          1200,
          1572,
          2125,
          970,
          1353,
          2570,
          1471,
          1162,
          1675
         ]
        },
        {
         "marker": {
          "color": "rgb(0,255,255)",
          "line": {
           "color": "rgb(0,255,255)"
          },
          "size": 10
         },
         "name": "Avg Rent for 1 Br Apt",
         "type": "scatter",
         "x": [
          "San Francisco",
          "Atlanta",
          "Washington D.C.",
          "Boston",
          "Columbus",
          "Denver",
          "New York",
          "Austin",
          "Raleigh",
          "Seattle"
         ],
         "y": [
          2458,
          1039,
          1361,
          1714,
          752,
          1069,
          2158,
          1192,
          1006,
          1345
         ]
        },
        {
         "marker": {
          "color": "rgb(255,215,0)",
          "line": {
           "color": "rgb(255,215,0)"
          }
         },
         "name": "Avg Rent for Studio Apt",
         "type": "scatter",
         "x": [
          "San Francisco",
          "Atlanta",
          "Washington D.C.",
          "Boston",
          "Columbus",
          "Denver",
          "New York",
          "Austin",
          "Raleigh",
          "Seattle"
         ],
         "y": [
          2000,
          991,
          1295,
          1502,
          636,
          875,
          1943,
          983,
          816,
          1175
         ]
        }
       ],
       "layout": {
        "autosize": true,
        "height": 600,
        "legend": {
         "orientation": "v"
        },
        "paper_bgcolor": "rgba(0,0,0,0)",
        "plot_bgcolor": "rgba(0,0,0)",
        "showlegend": true,
        "template": {
         "data": {
          "bar": [
           {
            "error_x": {
             "color": "#2a3f5f"
            },
            "error_y": {
             "color": "#2a3f5f"
            },
            "marker": {
             "line": {
              "color": "#E5ECF6",
              "width": 0.5
             }
            },
            "type": "bar"
           }
          ],
          "barpolar": [
           {
            "marker": {
             "line": {
              "color": "#E5ECF6",
              "width": 0.5
             }
            },
            "type": "barpolar"
           }
          ],
          "carpet": [
           {
            "aaxis": {
             "endlinecolor": "#2a3f5f",
             "gridcolor": "white",
             "linecolor": "white",
             "minorgridcolor": "white",
             "startlinecolor": "#2a3f5f"
            },
            "baxis": {
             "endlinecolor": "#2a3f5f",
             "gridcolor": "white",
             "linecolor": "white",
             "minorgridcolor": "white",
             "startlinecolor": "#2a3f5f"
            },
            "type": "carpet"
           }
          ],
          "choropleth": [
           {
            "colorbar": {
             "outlinewidth": 0,
             "ticks": ""
            },
            "type": "choropleth"
           }
          ],
          "contour": [
           {
            "colorbar": {
             "outlinewidth": 0,
             "ticks": ""
            },
            "colorscale": [
             [
              0,
              "#0d0887"
             ],
             [
              0.1111111111111111,
              "#46039f"
             ],
             [
              0.2222222222222222,
              "#7201a8"
             ],
             [
              0.3333333333333333,
              "#9c179e"
             ],
             [
              0.4444444444444444,
              "#bd3786"
             ],
             [
              0.5555555555555556,
              "#d8576b"
             ],
             [
              0.6666666666666666,
              "#ed7953"
             ],
             [
              0.7777777777777778,
              "#fb9f3a"
             ],
             [
              0.8888888888888888,
              "#fdca26"
             ],
             [
              1,
              "#f0f921"
             ]
            ],
            "type": "contour"
           }
          ],
          "contourcarpet": [
           {
            "colorbar": {
             "outlinewidth": 0,
             "ticks": ""
            },
            "type": "contourcarpet"
           }
          ],
          "heatmap": [
           {
            "colorbar": {
             "outlinewidth": 0,
             "ticks": ""
            },
            "colorscale": [
             [
              0,
              "#0d0887"
             ],
             [
              0.1111111111111111,
              "#46039f"
             ],
             [
              0.2222222222222222,
              "#7201a8"
             ],
             [
              0.3333333333333333,
              "#9c179e"
             ],
             [
              0.4444444444444444,
              "#bd3786"
             ],
             [
              0.5555555555555556,
              "#d8576b"
             ],
             [
              0.6666666666666666,
              "#ed7953"
             ],
             [
              0.7777777777777778,
              "#fb9f3a"
             ],
             [
              0.8888888888888888,
              "#fdca26"
             ],
             [
              1,
              "#f0f921"
             ]
            ],
            "type": "heatmap"
           }
          ],
          "heatmapgl": [
           {
            "colorbar": {
             "outlinewidth": 0,
             "ticks": ""
            },
            "colorscale": [
             [
              0,
              "#0d0887"
             ],
             [
              0.1111111111111111,
              "#46039f"
             ],
             [
              0.2222222222222222,
              "#7201a8"
             ],
             [
              0.3333333333333333,
              "#9c179e"
             ],
             [
              0.4444444444444444,
              "#bd3786"
             ],
             [
              0.5555555555555556,
              "#d8576b"
             ],
             [
              0.6666666666666666,
              "#ed7953"
             ],
             [
              0.7777777777777778,
              "#fb9f3a"
             ],
             [
              0.8888888888888888,
              "#fdca26"
             ],
             [
              1,
              "#f0f921"
             ]
            ],
            "type": "heatmapgl"
           }
          ],
          "histogram": [
           {
            "marker": {
             "colorbar": {
              "outlinewidth": 0,
              "ticks": ""
             }
            },
            "type": "histogram"
           }
          ],
          "histogram2d": [
           {
            "colorbar": {
             "outlinewidth": 0,
             "ticks": ""
            },
            "colorscale": [
             [
              0,
              "#0d0887"
             ],
             [
              0.1111111111111111,
              "#46039f"
             ],
             [
              0.2222222222222222,
              "#7201a8"
             ],
             [
              0.3333333333333333,
              "#9c179e"
             ],
             [
              0.4444444444444444,
              "#bd3786"
             ],
             [
              0.5555555555555556,
              "#d8576b"
             ],
             [
              0.6666666666666666,
              "#ed7953"
             ],
             [
              0.7777777777777778,
              "#fb9f3a"
             ],
             [
              0.8888888888888888,
              "#fdca26"
             ],
             [
              1,
              "#f0f921"
             ]
            ],
            "type": "histogram2d"
           }
          ],
          "histogram2dcontour": [
           {
            "colorbar": {
             "outlinewidth": 0,
             "ticks": ""
            },
            "colorscale": [
             [
              0,
              "#0d0887"
             ],
             [
              0.1111111111111111,
              "#46039f"
             ],
             [
              0.2222222222222222,
              "#7201a8"
             ],
             [
              0.3333333333333333,
              "#9c179e"
             ],
             [
              0.4444444444444444,
              "#bd3786"
             ],
             [
              0.5555555555555556,
              "#d8576b"
             ],
             [
              0.6666666666666666,
              "#ed7953"
             ],
             [
              0.7777777777777778,
              "#fb9f3a"
             ],
             [
              0.8888888888888888,
              "#fdca26"
             ],
             [
              1,
              "#f0f921"
             ]
            ],
            "type": "histogram2dcontour"
           }
          ],
          "mesh3d": [
           {
            "colorbar": {
             "outlinewidth": 0,
             "ticks": ""
            },
            "type": "mesh3d"
           }
          ],
          "parcoords": [
           {
            "line": {
             "colorbar": {
              "outlinewidth": 0,
              "ticks": ""
             }
            },
            "type": "parcoords"
           }
          ],
          "pie": [
           {
            "automargin": true,
            "type": "pie"
           }
          ],
          "scatter": [
           {
            "marker": {
             "colorbar": {
              "outlinewidth": 0,
              "ticks": ""
             }
            },
            "type": "scatter"
           }
          ],
          "scatter3d": [
           {
            "line": {
             "colorbar": {
              "outlinewidth": 0,
              "ticks": ""
             }
            },
            "marker": {
             "colorbar": {
              "outlinewidth": 0,
              "ticks": ""
             }
            },
            "type": "scatter3d"
           }
          ],
          "scattercarpet": [
           {
            "marker": {
             "colorbar": {
              "outlinewidth": 0,
              "ticks": ""
             }
            },
            "type": "scattercarpet"
           }
          ],
          "scattergeo": [
           {
            "marker": {
             "colorbar": {
              "outlinewidth": 0,
              "ticks": ""
             }
            },
            "type": "scattergeo"
           }
          ],
          "scattergl": [
           {
            "marker": {
             "colorbar": {
              "outlinewidth": 0,
              "ticks": ""
             }
            },
            "type": "scattergl"
           }
          ],
          "scattermapbox": [
           {
            "marker": {
             "colorbar": {
              "outlinewidth": 0,
              "ticks": ""
             }
            },
            "type": "scattermapbox"
           }
          ],
          "scatterpolar": [
           {
            "marker": {
             "colorbar": {
              "outlinewidth": 0,
              "ticks": ""
             }
            },
            "type": "scatterpolar"
           }
          ],
          "scatterpolargl": [
           {
            "marker": {
             "colorbar": {
              "outlinewidth": 0,
              "ticks": ""
             }
            },
            "type": "scatterpolargl"
           }
          ],
          "scatterternary": [
           {
            "marker": {
             "colorbar": {
              "outlinewidth": 0,
              "ticks": ""
             }
            },
            "type": "scatterternary"
           }
          ],
          "surface": [
           {
            "colorbar": {
             "outlinewidth": 0,
             "ticks": ""
            },
            "colorscale": [
             [
              0,
              "#0d0887"
             ],
             [
              0.1111111111111111,
              "#46039f"
             ],
             [
              0.2222222222222222,
              "#7201a8"
             ],
             [
              0.3333333333333333,
              "#9c179e"
             ],
             [
              0.4444444444444444,
              "#bd3786"
             ],
             [
              0.5555555555555556,
              "#d8576b"
             ],
             [
              0.6666666666666666,
              "#ed7953"
             ],
             [
              0.7777777777777778,
              "#fb9f3a"
             ],
             [
              0.8888888888888888,
              "#fdca26"
             ],
             [
              1,
              "#f0f921"
             ]
            ],
            "type": "surface"
           }
          ],
          "table": [
           {
            "cells": {
             "fill": {
              "color": "#EBF0F8"
             },
             "line": {
              "color": "white"
             }
            },
            "header": {
             "fill": {
              "color": "#C8D4E3"
             },
             "line": {
              "color": "white"
             }
            },
            "type": "table"
           }
          ]
         },
         "layout": {
          "annotationdefaults": {
           "arrowcolor": "#2a3f5f",
           "arrowhead": 0,
           "arrowwidth": 1
          },
          "coloraxis": {
           "colorbar": {
            "outlinewidth": 0,
            "ticks": ""
           }
          },
          "colorscale": {
           "diverging": [
            [
             0,
             "#8e0152"
            ],
            [
             0.1,
             "#c51b7d"
            ],
            [
             0.2,
             "#de77ae"
            ],
            [
             0.3,
             "#f1b6da"
            ],
            [
             0.4,
             "#fde0ef"
            ],
            [
             0.5,
             "#f7f7f7"
            ],
            [
             0.6,
             "#e6f5d0"
            ],
            [
             0.7,
             "#b8e186"
            ],
            [
             0.8,
             "#7fbc41"
            ],
            [
             0.9,
             "#4d9221"
            ],
            [
             1,
             "#276419"
            ]
           ],
           "sequential": [
            [
             0,
             "#0d0887"
            ],
            [
             0.1111111111111111,
             "#46039f"
            ],
            [
             0.2222222222222222,
             "#7201a8"
            ],
            [
             0.3333333333333333,
             "#9c179e"
            ],
            [
             0.4444444444444444,
             "#bd3786"
            ],
            [
             0.5555555555555556,
             "#d8576b"
            ],
            [
             0.6666666666666666,
             "#ed7953"
            ],
            [
             0.7777777777777778,
             "#fb9f3a"
            ],
            [
             0.8888888888888888,
             "#fdca26"
            ],
            [
             1,
             "#f0f921"
            ]
           ],
           "sequentialminus": [
            [
             0,
             "#0d0887"
            ],
            [
             0.1111111111111111,
             "#46039f"
            ],
            [
             0.2222222222222222,
             "#7201a8"
            ],
            [
             0.3333333333333333,
             "#9c179e"
            ],
            [
             0.4444444444444444,
             "#bd3786"
            ],
            [
             0.5555555555555556,
             "#d8576b"
            ],
            [
             0.6666666666666666,
             "#ed7953"
            ],
            [
             0.7777777777777778,
             "#fb9f3a"
            ],
            [
             0.8888888888888888,
             "#fdca26"
            ],
            [
             1,
             "#f0f921"
            ]
           ]
          },
          "colorway": [
           "#636efa",
           "#EF553B",
           "#00cc96",
           "#ab63fa",
           "#FFA15A",
           "#19d3f3",
           "#FF6692",
           "#B6E880",
           "#FF97FF",
           "#FECB52"
          ],
          "font": {
           "color": "#2a3f5f"
          },
          "geo": {
           "bgcolor": "white",
           "lakecolor": "white",
           "landcolor": "#E5ECF6",
           "showlakes": true,
           "showland": true,
           "subunitcolor": "white"
          },
          "hoverlabel": {
           "align": "left"
          },
          "hovermode": "closest",
          "mapbox": {
           "style": "light"
          },
          "paper_bgcolor": "white",
          "plot_bgcolor": "#E5ECF6",
          "polar": {
           "angularaxis": {
            "gridcolor": "white",
            "linecolor": "white",
            "ticks": ""
           },
           "bgcolor": "#E5ECF6",
           "radialaxis": {
            "gridcolor": "white",
            "linecolor": "white",
            "ticks": ""
           }
          },
          "scene": {
           "xaxis": {
            "backgroundcolor": "#E5ECF6",
            "gridcolor": "white",
            "gridwidth": 2,
            "linecolor": "white",
            "showbackground": true,
            "ticks": "",
            "zerolinecolor": "white"
           },
           "yaxis": {
            "backgroundcolor": "#E5ECF6",
            "gridcolor": "white",
            "gridwidth": 2,
            "linecolor": "white",
            "showbackground": true,
            "ticks": "",
            "zerolinecolor": "white"
           },
           "zaxis": {
            "backgroundcolor": "#E5ECF6",
            "gridcolor": "white",
            "gridwidth": 2,
            "linecolor": "white",
            "showbackground": true,
            "ticks": "",
            "zerolinecolor": "white"
           }
          },
          "shapedefaults": {
           "line": {
            "color": "#2a3f5f"
           }
          },
          "ternary": {
           "aaxis": {
            "gridcolor": "white",
            "linecolor": "white",
            "ticks": ""
           },
           "baxis": {
            "gridcolor": "white",
            "linecolor": "white",
            "ticks": ""
           },
           "bgcolor": "#E5ECF6",
           "caxis": {
            "gridcolor": "white",
            "linecolor": "white",
            "ticks": ""
           }
          },
          "title": {
           "x": 0.05
          },
          "xaxis": {
           "automargin": true,
           "gridcolor": "white",
           "linecolor": "white",
           "ticks": "",
           "title": {
            "standoff": 15
           },
           "zerolinecolor": "white",
           "zerolinewidth": 2
          },
          "yaxis": {
           "automargin": true,
           "gridcolor": "white",
           "linecolor": "white",
           "ticks": "",
           "title": {
            "standoff": 15
           },
           "zerolinecolor": "white",
           "zerolinewidth": 2
          }
         }
        },
        "title": {
         "text": "<b>Monthly Minimum Median Data Job Wages vs Apartment Average Rent</b>"
        },
        "width": 1010,
        "xaxis": {
         "showgrid": false
        },
        "yaxis": {
         "autorange": true,
         "showgrid": true,
         "showline": false,
         "showticklabels": true,
         "ticks": "",
         "title": {
          "text": "Monthly Median Wage"
         },
         "zeroline": false
        }
       }
      },
      "text/html": [
       "<div>\n",
       "        \n",
       "        \n",
       "            <div id=\"be5fad09-ad52-45ad-a1bb-494fa8b6b7a7\" class=\"plotly-graph-div\" style=\"height:600px; width:1010px;\"></div>\n",
       "            <script type=\"text/javascript\">\n",
       "                require([\"plotly\"], function(Plotly) {\n",
       "                    window.PLOTLYENV=window.PLOTLYENV || {};\n",
       "                    \n",
       "                if (document.getElementById(\"be5fad09-ad52-45ad-a1bb-494fa8b6b7a7\")) {\n",
       "                    Plotly.newPlot(\n",
       "                        'be5fad09-ad52-45ad-a1bb-494fa8b6b7a7',\n",
       "                        [{\"marker\": {\"color\": \"rgb(95,158,160)\", \"line\": {\"color\": \"rgb(65,105,225)\"}}, \"name\": \"Data Jobs Minimum Median Salary\", \"type\": \"bar\", \"width\": 0.7, \"x\": [\"San Francisco\", \"Atlanta\", \"Washington D.C.\", \"Boston\", \"Columbus\", \"Denver\", \"New York\", \"Austin\", \"Raleigh\", \"Seattle\"], \"y\": [8333.333333333334, 6666.666666666667, 6293.0, 6250.0, 5481.666666666667, 5321.5, 5238.5, 4917.0, 4083.3333333333335, 3700.0]}, {\"marker\": {\"color\": \"rgb(255,0,255)\", \"line\": {\"color\": \"rgb(255,0,255)\"}, \"size\": 10}, \"name\": \"Avg Rent for 4 Br Apt\", \"type\": \"scatter\", \"x\": [\"San Francisco\", \"Atlanta\", \"Washington D.C.\", \"Boston\", \"Columbus\", \"Denver\", \"New York\", \"Austin\", \"Raleigh\", \"Seattle\"], \"y\": [4941, 1936, 2571, 2943, 1452, 2277, 3691, 2399, 1857, 2892]}, {\"marker\": {\"color\": \"rgb(230,230,250)\", \"line\": {\"color\": \"rgb(230,230,250)\"}, \"size\": 10}, \"name\": \"Avg Rent for 3 Br Apt\", \"type\": \"scatter\", \"x\": [\"San Francisco\", \"Atlanta\", \"Washington D.C.\", \"Boston\", \"Columbus\", \"Denver\", \"New York\", \"Austin\", \"Raleigh\", \"Seattle\"], \"y\": [4155, 1575, 2073, 2670, 1248, 1966, 3314, 1993, 1519, 2431]}, {\"marker\": {\"color\": \"rgb(124,252,0)\", \"line\": {\"color\": \"rgb(124,252,0)\"}, \"size\": 10}, \"name\": \"Avg Rent for 2 Br Apt\", \"type\": \"scatter\", \"x\": [\"San Francisco\", \"Atlanta\", \"Washington D.C.\", \"Boston\", \"Columbus\", \"Denver\", \"New York\", \"Austin\", \"Raleigh\", \"Seattle\"], \"y\": [3088, 1200, 1572, 2125, 970, 1353, 2570, 1471, 1162, 1675]}, {\"marker\": {\"color\": \"rgb(0,255,255)\", \"line\": {\"color\": \"rgb(0,255,255)\"}, \"size\": 10}, \"name\": \"Avg Rent for 1 Br Apt\", \"type\": \"scatter\", \"x\": [\"San Francisco\", \"Atlanta\", \"Washington D.C.\", \"Boston\", \"Columbus\", \"Denver\", \"New York\", \"Austin\", \"Raleigh\", \"Seattle\"], \"y\": [2458, 1039, 1361, 1714, 752, 1069, 2158, 1192, 1006, 1345]}, {\"marker\": {\"color\": \"rgb(255,215,0)\", \"line\": {\"color\": \"rgb(255,215,0)\"}}, \"name\": \"Avg Rent for Studio Apt\", \"type\": \"scatter\", \"x\": [\"San Francisco\", \"Atlanta\", \"Washington D.C.\", \"Boston\", \"Columbus\", \"Denver\", \"New York\", \"Austin\", \"Raleigh\", \"Seattle\"], \"y\": [2000, 991, 1295, 1502, 636, 875, 1943, 983, 816, 1175]}],\n",
       "                        {\"autosize\": true, \"height\": 600, \"legend\": {\"orientation\": \"v\"}, \"paper_bgcolor\": \"rgba(0,0,0,0)\", \"plot_bgcolor\": \"rgba(0,0,0)\", \"showlegend\": true, \"template\": {\"data\": {\"bar\": [{\"error_x\": {\"color\": \"#2a3f5f\"}, \"error_y\": {\"color\": \"#2a3f5f\"}, \"marker\": {\"line\": {\"color\": \"#E5ECF6\", \"width\": 0.5}}, \"type\": \"bar\"}], \"barpolar\": [{\"marker\": {\"line\": {\"color\": \"#E5ECF6\", \"width\": 0.5}}, \"type\": \"barpolar\"}], \"carpet\": [{\"aaxis\": {\"endlinecolor\": \"#2a3f5f\", \"gridcolor\": \"white\", \"linecolor\": \"white\", \"minorgridcolor\": \"white\", \"startlinecolor\": \"#2a3f5f\"}, \"baxis\": {\"endlinecolor\": \"#2a3f5f\", \"gridcolor\": \"white\", \"linecolor\": \"white\", \"minorgridcolor\": \"white\", \"startlinecolor\": \"#2a3f5f\"}, \"type\": \"carpet\"}], \"choropleth\": [{\"colorbar\": {\"outlinewidth\": 0, \"ticks\": \"\"}, \"type\": \"choropleth\"}], \"contour\": [{\"colorbar\": {\"outlinewidth\": 0, \"ticks\": \"\"}, \"colorscale\": [[0.0, \"#0d0887\"], [0.1111111111111111, \"#46039f\"], [0.2222222222222222, \"#7201a8\"], [0.3333333333333333, \"#9c179e\"], [0.4444444444444444, \"#bd3786\"], [0.5555555555555556, \"#d8576b\"], [0.6666666666666666, \"#ed7953\"], [0.7777777777777778, \"#fb9f3a\"], [0.8888888888888888, \"#fdca26\"], [1.0, \"#f0f921\"]], \"type\": \"contour\"}], \"contourcarpet\": [{\"colorbar\": {\"outlinewidth\": 0, \"ticks\": \"\"}, \"type\": \"contourcarpet\"}], \"heatmap\": [{\"colorbar\": {\"outlinewidth\": 0, \"ticks\": \"\"}, \"colorscale\": [[0.0, \"#0d0887\"], [0.1111111111111111, \"#46039f\"], [0.2222222222222222, \"#7201a8\"], [0.3333333333333333, \"#9c179e\"], [0.4444444444444444, \"#bd3786\"], [0.5555555555555556, \"#d8576b\"], [0.6666666666666666, \"#ed7953\"], [0.7777777777777778, \"#fb9f3a\"], [0.8888888888888888, \"#fdca26\"], [1.0, \"#f0f921\"]], \"type\": \"heatmap\"}], \"heatmapgl\": [{\"colorbar\": {\"outlinewidth\": 0, \"ticks\": \"\"}, \"colorscale\": [[0.0, \"#0d0887\"], [0.1111111111111111, \"#46039f\"], [0.2222222222222222, \"#7201a8\"], [0.3333333333333333, \"#9c179e\"], [0.4444444444444444, \"#bd3786\"], [0.5555555555555556, \"#d8576b\"], [0.6666666666666666, \"#ed7953\"], [0.7777777777777778, \"#fb9f3a\"], [0.8888888888888888, \"#fdca26\"], [1.0, \"#f0f921\"]], \"type\": \"heatmapgl\"}], \"histogram\": [{\"marker\": {\"colorbar\": {\"outlinewidth\": 0, \"ticks\": \"\"}}, \"type\": \"histogram\"}], \"histogram2d\": [{\"colorbar\": {\"outlinewidth\": 0, \"ticks\": \"\"}, \"colorscale\": [[0.0, \"#0d0887\"], [0.1111111111111111, \"#46039f\"], [0.2222222222222222, \"#7201a8\"], [0.3333333333333333, \"#9c179e\"], [0.4444444444444444, \"#bd3786\"], [0.5555555555555556, \"#d8576b\"], [0.6666666666666666, \"#ed7953\"], [0.7777777777777778, \"#fb9f3a\"], [0.8888888888888888, \"#fdca26\"], [1.0, \"#f0f921\"]], \"type\": \"histogram2d\"}], \"histogram2dcontour\": [{\"colorbar\": {\"outlinewidth\": 0, \"ticks\": \"\"}, \"colorscale\": [[0.0, \"#0d0887\"], [0.1111111111111111, \"#46039f\"], [0.2222222222222222, \"#7201a8\"], [0.3333333333333333, \"#9c179e\"], [0.4444444444444444, \"#bd3786\"], [0.5555555555555556, \"#d8576b\"], [0.6666666666666666, \"#ed7953\"], [0.7777777777777778, \"#fb9f3a\"], [0.8888888888888888, \"#fdca26\"], [1.0, \"#f0f921\"]], \"type\": \"histogram2dcontour\"}], \"mesh3d\": [{\"colorbar\": {\"outlinewidth\": 0, \"ticks\": \"\"}, \"type\": \"mesh3d\"}], \"parcoords\": [{\"line\": {\"colorbar\": {\"outlinewidth\": 0, \"ticks\": \"\"}}, \"type\": \"parcoords\"}], \"pie\": [{\"automargin\": true, \"type\": \"pie\"}], \"scatter\": [{\"marker\": {\"colorbar\": {\"outlinewidth\": 0, \"ticks\": \"\"}}, \"type\": \"scatter\"}], \"scatter3d\": [{\"line\": {\"colorbar\": {\"outlinewidth\": 0, \"ticks\": \"\"}}, \"marker\": {\"colorbar\": {\"outlinewidth\": 0, \"ticks\": \"\"}}, \"type\": \"scatter3d\"}], \"scattercarpet\": [{\"marker\": {\"colorbar\": {\"outlinewidth\": 0, \"ticks\": \"\"}}, \"type\": \"scattercarpet\"}], \"scattergeo\": [{\"marker\": {\"colorbar\": {\"outlinewidth\": 0, \"ticks\": \"\"}}, \"type\": \"scattergeo\"}], \"scattergl\": [{\"marker\": {\"colorbar\": {\"outlinewidth\": 0, \"ticks\": \"\"}}, \"type\": \"scattergl\"}], \"scattermapbox\": [{\"marker\": {\"colorbar\": {\"outlinewidth\": 0, \"ticks\": \"\"}}, \"type\": \"scattermapbox\"}], \"scatterpolar\": [{\"marker\": {\"colorbar\": {\"outlinewidth\": 0, \"ticks\": \"\"}}, \"type\": \"scatterpolar\"}], \"scatterpolargl\": [{\"marker\": {\"colorbar\": {\"outlinewidth\": 0, \"ticks\": \"\"}}, \"type\": \"scatterpolargl\"}], \"scatterternary\": [{\"marker\": {\"colorbar\": {\"outlinewidth\": 0, \"ticks\": \"\"}}, \"type\": \"scatterternary\"}], \"surface\": [{\"colorbar\": {\"outlinewidth\": 0, \"ticks\": \"\"}, \"colorscale\": [[0.0, \"#0d0887\"], [0.1111111111111111, \"#46039f\"], [0.2222222222222222, \"#7201a8\"], [0.3333333333333333, \"#9c179e\"], [0.4444444444444444, \"#bd3786\"], [0.5555555555555556, \"#d8576b\"], [0.6666666666666666, \"#ed7953\"], [0.7777777777777778, \"#fb9f3a\"], [0.8888888888888888, \"#fdca26\"], [1.0, \"#f0f921\"]], \"type\": \"surface\"}], \"table\": [{\"cells\": {\"fill\": {\"color\": \"#EBF0F8\"}, \"line\": {\"color\": \"white\"}}, \"header\": {\"fill\": {\"color\": \"#C8D4E3\"}, \"line\": {\"color\": \"white\"}}, \"type\": \"table\"}]}, \"layout\": {\"annotationdefaults\": {\"arrowcolor\": \"#2a3f5f\", \"arrowhead\": 0, \"arrowwidth\": 1}, \"coloraxis\": {\"colorbar\": {\"outlinewidth\": 0, \"ticks\": \"\"}}, \"colorscale\": {\"diverging\": [[0, \"#8e0152\"], [0.1, \"#c51b7d\"], [0.2, \"#de77ae\"], [0.3, \"#f1b6da\"], [0.4, \"#fde0ef\"], [0.5, \"#f7f7f7\"], [0.6, \"#e6f5d0\"], [0.7, \"#b8e186\"], [0.8, \"#7fbc41\"], [0.9, \"#4d9221\"], [1, \"#276419\"]], \"sequential\": [[0.0, \"#0d0887\"], [0.1111111111111111, \"#46039f\"], [0.2222222222222222, \"#7201a8\"], [0.3333333333333333, \"#9c179e\"], [0.4444444444444444, \"#bd3786\"], [0.5555555555555556, \"#d8576b\"], [0.6666666666666666, \"#ed7953\"], [0.7777777777777778, \"#fb9f3a\"], [0.8888888888888888, \"#fdca26\"], [1.0, \"#f0f921\"]], \"sequentialminus\": [[0.0, \"#0d0887\"], [0.1111111111111111, \"#46039f\"], [0.2222222222222222, \"#7201a8\"], [0.3333333333333333, \"#9c179e\"], [0.4444444444444444, \"#bd3786\"], [0.5555555555555556, \"#d8576b\"], [0.6666666666666666, \"#ed7953\"], [0.7777777777777778, \"#fb9f3a\"], [0.8888888888888888, \"#fdca26\"], [1.0, \"#f0f921\"]]}, \"colorway\": [\"#636efa\", \"#EF553B\", \"#00cc96\", \"#ab63fa\", \"#FFA15A\", \"#19d3f3\", \"#FF6692\", \"#B6E880\", \"#FF97FF\", \"#FECB52\"], \"font\": {\"color\": \"#2a3f5f\"}, \"geo\": {\"bgcolor\": \"white\", \"lakecolor\": \"white\", \"landcolor\": \"#E5ECF6\", \"showlakes\": true, \"showland\": true, \"subunitcolor\": \"white\"}, \"hoverlabel\": {\"align\": \"left\"}, \"hovermode\": \"closest\", \"mapbox\": {\"style\": \"light\"}, \"paper_bgcolor\": \"white\", \"plot_bgcolor\": \"#E5ECF6\", \"polar\": {\"angularaxis\": {\"gridcolor\": \"white\", \"linecolor\": \"white\", \"ticks\": \"\"}, \"bgcolor\": \"#E5ECF6\", \"radialaxis\": {\"gridcolor\": \"white\", \"linecolor\": \"white\", \"ticks\": \"\"}}, \"scene\": {\"xaxis\": {\"backgroundcolor\": \"#E5ECF6\", \"gridcolor\": \"white\", \"gridwidth\": 2, \"linecolor\": \"white\", \"showbackground\": true, \"ticks\": \"\", \"zerolinecolor\": \"white\"}, \"yaxis\": {\"backgroundcolor\": \"#E5ECF6\", \"gridcolor\": \"white\", \"gridwidth\": 2, \"linecolor\": \"white\", \"showbackground\": true, \"ticks\": \"\", \"zerolinecolor\": \"white\"}, \"zaxis\": {\"backgroundcolor\": \"#E5ECF6\", \"gridcolor\": \"white\", \"gridwidth\": 2, \"linecolor\": \"white\", \"showbackground\": true, \"ticks\": \"\", \"zerolinecolor\": \"white\"}}, \"shapedefaults\": {\"line\": {\"color\": \"#2a3f5f\"}}, \"ternary\": {\"aaxis\": {\"gridcolor\": \"white\", \"linecolor\": \"white\", \"ticks\": \"\"}, \"baxis\": {\"gridcolor\": \"white\", \"linecolor\": \"white\", \"ticks\": \"\"}, \"bgcolor\": \"#E5ECF6\", \"caxis\": {\"gridcolor\": \"white\", \"linecolor\": \"white\", \"ticks\": \"\"}}, \"title\": {\"x\": 0.05}, \"xaxis\": {\"automargin\": true, \"gridcolor\": \"white\", \"linecolor\": \"white\", \"ticks\": \"\", \"title\": {\"standoff\": 15}, \"zerolinecolor\": \"white\", \"zerolinewidth\": 2}, \"yaxis\": {\"automargin\": true, \"gridcolor\": \"white\", \"linecolor\": \"white\", \"ticks\": \"\", \"title\": {\"standoff\": 15}, \"zerolinecolor\": \"white\", \"zerolinewidth\": 2}}}, \"title\": {\"text\": \"<b>Monthly Minimum Median Data Job Wages vs Apartment Average Rent</b>\"}, \"width\": 1010, \"xaxis\": {\"showgrid\": false}, \"yaxis\": {\"autorange\": true, \"showgrid\": true, \"showline\": false, \"showticklabels\": true, \"ticks\": \"\", \"title\": {\"text\": \"Monthly Median Wage\"}, \"zeroline\": false}},\n",
       "                        {\"responsive\": true}\n",
       "                    ).then(function(){\n",
       "                            \n",
       "var gd = document.getElementById('be5fad09-ad52-45ad-a1bb-494fa8b6b7a7');\n",
       "var x = new MutationObserver(function (mutations, observer) {{\n",
       "        var display = window.getComputedStyle(gd).display;\n",
       "        if (!display || display === 'none') {{\n",
       "            console.log([gd, 'removed!']);\n",
       "            Plotly.purge(gd);\n",
       "            observer.disconnect();\n",
       "        }}\n",
       "}});\n",
       "\n",
       "// Listen for the removal of the full notebook cells\n",
       "var notebookContainer = gd.closest('#notebook-container');\n",
       "if (notebookContainer) {{\n",
       "    x.observe(notebookContainer, {childList: true});\n",
       "}}\n",
       "\n",
       "// Listen for the clearing of the current output cell\n",
       "var outputEl = gd.closest('.output');\n",
       "if (outputEl) {{\n",
       "    x.observe(outputEl, {childList: true});\n",
       "}}\n",
       "\n",
       "                        })\n",
       "                };\n",
       "                });\n",
       "            </script>\n",
       "        </div>"
      ]
     },
     "metadata": {},
     "output_type": "display_data"
    }
   ],
   "source": [
    "# visualizing Monthly Minimum Median Wages to Average Rents for different apartment sizes\n",
    "\n",
    "trace1 = go.Bar(x=monthly_sal_and_rent['updated_city'],\n",
    "                  y=monthly_sal_and_rent['monthly_min_median_sal'], \n",
    "                  width=0.7,\n",
    "                  marker=dict(color='rgb(95,158,160)', line_color='rgb(65,105,225)'),\n",
    "                  name='Data Jobs Minimum Median Salary')\n",
    "\n",
    "trace2 = go.Scatter(x=monthly_sal_and_rent['updated_city'],\n",
    "                  y=monthly_sal_and_rent['4br'], \n",
    "                  marker=dict(color='rgb(255,0,255)', line_color='rgb(255,0,255)', size=10),\n",
    "                  name='Avg Rent for 4 Br Apt')\n",
    "\n",
    "trace3 = go.Scatter(x=monthly_sal_and_rent['updated_city'],\n",
    "                  y=monthly_sal_and_rent['3br'], \n",
    "                  marker=dict(color='rgb(230,230,250)', line_color='rgb(230,230,250)', size=10),\n",
    "                  name='Avg Rent for 3 Br Apt')\n",
    "\n",
    "trace4 = go.Scatter(x=monthly_sal_and_rent['updated_city'],\n",
    "                  y=monthly_sal_and_rent['2br'], \n",
    "                  marker=dict(color='rgb(124,252,0)', line_color='rgb(124,252,0)', size=10),\n",
    "                  name='Avg Rent for 2 Br Apt')\n",
    "\n",
    "trace5 = go.Scatter(x=monthly_sal_and_rent['updated_city'],\n",
    "                  y=monthly_sal_and_rent['1br'], \n",
    "                  marker=dict(color='rgb(0,255,255)', line_color='rgb(0,255,255)', size=10),\n",
    "                  name='Avg Rent for 1 Br Apt')\n",
    "\n",
    "trace6 = go.Scatter(x=monthly_sal_and_rent['updated_city'],\n",
    "                  y=monthly_sal_and_rent['Studio'], \n",
    "                  marker=dict(color='rgb(255,215,0)', line_color='rgb(255,215,0)'),\n",
    "                  name='Avg Rent for Studio Apt')\n",
    "\n",
    "data = [trace1, trace2, trace3, trace4, trace5, trace6]\n",
    "\n",
    "layout = dict(title=\"<b>Monthly Minimum Median Data Job Wages vs Apartment Average Rent</b>\",\n",
    "              showlegend=True,\n",
    "              legend_orientation=\"v\",\n",
    "              autosize=True,\n",
    "              width=1010,\n",
    "              height=600,\n",
    "              xaxis=dict(showgrid=False),\n",
    "              yaxis=dict(title=\"Monthly Median Wage\", \n",
    "                         showgrid=True, \n",
    "                         autorange=True,\n",
    "                         zeroline=False,\n",
    "                         showline=False,\n",
    "                         ticks='',\n",
    "                         showticklabels=True),\n",
    "              plot_bgcolor='rgba(0,0,0)',\n",
    "              paper_bgcolor='rgba(0,0,0,0)',\n",
    "          )\n",
    "\n",
    "fig=dict(data=data, layout=layout)\n",
    "\n",
    "iplot(fig)\n"
   ]
  },
  {
   "cell_type": "markdown",
   "metadata": {},
   "source": [
    "<hr>\n",
    "<h4 align=\"center\" style=\"color:black;\"> Analysis: Monthly Minimum Median Data Job Wages vs Apartment Average Rent</h4>\n",
    "<h4 style=\"color:#666666;\">Source: Indeed API, Web-Scraping using RegEx (Indeed Job Descriptions) and Apartment List Rentonomics </h4>\n",
    "The city with the highest median salaries for data science jobs, San Francisco, also has the most expensive apartment costs of all the cities in the dataset.  The relationship of high salary/high rent is not present for other large cities in the dataset.  For example, Atlanta has a large metropolitan population but has low rental cost relative to median salary. \n",
    "<hr>"
   ]
  },
  {
   "cell_type": "markdown",
   "metadata": {},
   "source": [
    "## Comparing Data Job Salaries to Average House Price"
   ]
  },
  {
   "cell_type": "code",
   "execution_count": 82,
   "metadata": {},
   "outputs": [],
   "source": [
    "# merging median salary and house price dataframes and selecting required columns.\n",
    "\n",
    "sal_and_house_price = pd.merge(median_home_price_data, data_jobs_median_sal, how='inner', left_on='CITY', right_on='updated_city')\n",
    "sal_and_house_price = sal_and_house_price[['updated_city', 'annual_min_median', 'annual_max_median', 1, 2, 3, 4, 5]] \\\n",
    "                            .sort_values('annual_min_median', ascending=False) \\\n",
    "                            .set_index('updated_city') "
   ]
  },
  {
   "cell_type": "code",
   "execution_count": 83,
   "metadata": {},
   "outputs": [
    {
     "data": {
      "text/html": [
       "<div>\n",
       "<style scoped>\n",
       "    .dataframe tbody tr th:only-of-type {\n",
       "        vertical-align: middle;\n",
       "    }\n",
       "\n",
       "    .dataframe tbody tr th {\n",
       "        vertical-align: top;\n",
       "    }\n",
       "\n",
       "    .dataframe thead th {\n",
       "        text-align: right;\n",
       "    }\n",
       "</style>\n",
       "<table border=\"1\" class=\"dataframe\">\n",
       "  <thead>\n",
       "    <tr style=\"text-align: right;\">\n",
       "      <th></th>\n",
       "      <th>annual_min_median</th>\n",
       "      <th>annual_max_median</th>\n",
       "      <th>1</th>\n",
       "      <th>2</th>\n",
       "      <th>3</th>\n",
       "      <th>4</th>\n",
       "      <th>5</th>\n",
       "    </tr>\n",
       "    <tr>\n",
       "      <th>updated_city</th>\n",
       "      <th></th>\n",
       "      <th></th>\n",
       "      <th></th>\n",
       "      <th></th>\n",
       "      <th></th>\n",
       "      <th></th>\n",
       "      <th></th>\n",
       "    </tr>\n",
       "  </thead>\n",
       "  <tbody>\n",
       "    <tr>\n",
       "      <th>San Francisco</th>\n",
       "      <td>100000.0</td>\n",
       "      <td>135100.0</td>\n",
       "      <td>NaN</td>\n",
       "      <td>NaN</td>\n",
       "      <td>1.037435e+06</td>\n",
       "      <td>1.283832e+06</td>\n",
       "      <td>1.637889e+06</td>\n",
       "    </tr>\n",
       "    <tr>\n",
       "      <th>Atlanta</th>\n",
       "      <td>80000.0</td>\n",
       "      <td>110000.0</td>\n",
       "      <td>201050.3333</td>\n",
       "      <td>178565.0000</td>\n",
       "      <td>1.979517e+05</td>\n",
       "      <td>2.892450e+05</td>\n",
       "      <td>4.183047e+05</td>\n",
       "    </tr>\n",
       "    <tr>\n",
       "      <th>Boston</th>\n",
       "      <td>75000.0</td>\n",
       "      <td>120000.0</td>\n",
       "      <td>350358.0000</td>\n",
       "      <td>382498.0000</td>\n",
       "      <td>4.577677e+05</td>\n",
       "      <td>6.168550e+05</td>\n",
       "      <td>8.774370e+05</td>\n",
       "    </tr>\n",
       "    <tr>\n",
       "      <th>Columbus</th>\n",
       "      <td>65780.0</td>\n",
       "      <td>77508.8</td>\n",
       "      <td>107595.3333</td>\n",
       "      <td>137180.0000</td>\n",
       "      <td>1.937777e+05</td>\n",
       "      <td>2.991533e+05</td>\n",
       "      <td>4.238153e+05</td>\n",
       "    </tr>\n",
       "    <tr>\n",
       "      <th>Denver</th>\n",
       "      <td>63858.0</td>\n",
       "      <td>72624.0</td>\n",
       "      <td>250056.6667</td>\n",
       "      <td>342350.0000</td>\n",
       "      <td>4.175047e+05</td>\n",
       "      <td>5.081567e+05</td>\n",
       "      <td>6.139150e+05</td>\n",
       "    </tr>\n",
       "    <tr>\n",
       "      <th>New York</th>\n",
       "      <td>62862.0</td>\n",
       "      <td>66388.0</td>\n",
       "      <td>391567.6667</td>\n",
       "      <td>340460.0000</td>\n",
       "      <td>4.192160e+05</td>\n",
       "      <td>5.310483e+05</td>\n",
       "      <td>7.738423e+05</td>\n",
       "    </tr>\n",
       "    <tr>\n",
       "      <th>Austin</th>\n",
       "      <td>59004.0</td>\n",
       "      <td>73200.0</td>\n",
       "      <td>258838.3333</td>\n",
       "      <td>310509.6667</td>\n",
       "      <td>2.977300e+05</td>\n",
       "      <td>3.856777e+05</td>\n",
       "      <td>5.653223e+05</td>\n",
       "    </tr>\n",
       "    <tr>\n",
       "      <th>Raleigh</th>\n",
       "      <td>49000.0</td>\n",
       "      <td>60320.0</td>\n",
       "      <td>173997.6667</td>\n",
       "      <td>173107.0000</td>\n",
       "      <td>2.331973e+05</td>\n",
       "      <td>3.603493e+05</td>\n",
       "      <td>4.889703e+05</td>\n",
       "    </tr>\n",
       "    <tr>\n",
       "      <th>Seattle</th>\n",
       "      <td>44400.0</td>\n",
       "      <td>50000.0</td>\n",
       "      <td>366461.3333</td>\n",
       "      <td>414984.0000</td>\n",
       "      <td>4.746977e+05</td>\n",
       "      <td>6.290253e+05</td>\n",
       "      <td>7.658623e+05</td>\n",
       "    </tr>\n",
       "  </tbody>\n",
       "</table>\n",
       "</div>"
      ],
      "text/plain": [
       "               annual_min_median  annual_max_median            1            2  \\\n",
       "updated_city                                                                    \n",
       "San Francisco           100000.0           135100.0          NaN          NaN   \n",
       "Atlanta                  80000.0           110000.0  201050.3333  178565.0000   \n",
       "Boston                   75000.0           120000.0  350358.0000  382498.0000   \n",
       "Columbus                 65780.0            77508.8  107595.3333  137180.0000   \n",
       "Denver                   63858.0            72624.0  250056.6667  342350.0000   \n",
       "New York                 62862.0            66388.0  391567.6667  340460.0000   \n",
       "Austin                   59004.0            73200.0  258838.3333  310509.6667   \n",
       "Raleigh                  49000.0            60320.0  173997.6667  173107.0000   \n",
       "Seattle                  44400.0            50000.0  366461.3333  414984.0000   \n",
       "\n",
       "                          3             4             5  \n",
       "updated_city                                             \n",
       "San Francisco  1.037435e+06  1.283832e+06  1.637889e+06  \n",
       "Atlanta        1.979517e+05  2.892450e+05  4.183047e+05  \n",
       "Boston         4.577677e+05  6.168550e+05  8.774370e+05  \n",
       "Columbus       1.937777e+05  2.991533e+05  4.238153e+05  \n",
       "Denver         4.175047e+05  5.081567e+05  6.139150e+05  \n",
       "New York       4.192160e+05  5.310483e+05  7.738423e+05  \n",
       "Austin         2.977300e+05  3.856777e+05  5.653223e+05  \n",
       "Raleigh        2.331973e+05  3.603493e+05  4.889703e+05  \n",
       "Seattle        4.746977e+05  6.290253e+05  7.658623e+05  "
      ]
     },
     "execution_count": 83,
     "metadata": {},
     "output_type": "execute_result"
    }
   ],
   "source": [
    "sal_and_house_price"
   ]
  },
  {
   "cell_type": "code",
   "execution_count": 84,
   "metadata": {},
   "outputs": [],
   "source": [
    "# using sklearn impute method to compute the missing values(NaN) for the above dataframe (for San Francisco)\n",
    "\n",
    "from sklearn.experimental import enable_iterative_imputer \n",
    "from sklearn.impute import IterativeImputer,SimpleImputer \n",
    "from sklearn.linear_model import LinearRegression"
   ]
  },
  {
   "cell_type": "code",
   "execution_count": 85,
   "metadata": {},
   "outputs": [],
   "source": [
    "# using sklearn impute method to compute the missing values(NaN) (for San Francisco)\n",
    "\n",
    "lm = LinearRegression()\n",
    "imp = IterativeImputer(estimator=lm)\n",
    "imp_array = imp.fit_transform(sal_and_house_price)\n",
    "imp_sal_and_house_price = pd.DataFrame(imp_array, index=sal_and_house_price.index, columns=sal_and_house_price.columns) \n",
    "imp_sal_and_house_price.reset_index(inplace=True) "
   ]
  },
  {
   "cell_type": "code",
   "execution_count": 86,
   "metadata": {},
   "outputs": [
    {
     "data": {
      "text/html": [
       "<div>\n",
       "<style scoped>\n",
       "    .dataframe tbody tr th:only-of-type {\n",
       "        vertical-align: middle;\n",
       "    }\n",
       "\n",
       "    .dataframe tbody tr th {\n",
       "        vertical-align: top;\n",
       "    }\n",
       "\n",
       "    .dataframe thead th {\n",
       "        text-align: right;\n",
       "    }\n",
       "</style>\n",
       "<table border=\"1\" class=\"dataframe\">\n",
       "  <thead>\n",
       "    <tr style=\"text-align: right;\">\n",
       "      <th></th>\n",
       "      <th>updated_city</th>\n",
       "      <th>annual_min_median</th>\n",
       "      <th>annual_max_median</th>\n",
       "      <th>1</th>\n",
       "      <th>2</th>\n",
       "      <th>3</th>\n",
       "      <th>4</th>\n",
       "      <th>5</th>\n",
       "    </tr>\n",
       "  </thead>\n",
       "  <tbody>\n",
       "    <tr>\n",
       "      <th>0</th>\n",
       "      <td>San Francisco</td>\n",
       "      <td>100000.0</td>\n",
       "      <td>135100.0</td>\n",
       "      <td>765678.797833</td>\n",
       "      <td>719293.794656</td>\n",
       "      <td>1.037435e+06</td>\n",
       "      <td>1.283832e+06</td>\n",
       "      <td>1.637889e+06</td>\n",
       "    </tr>\n",
       "    <tr>\n",
       "      <th>1</th>\n",
       "      <td>Atlanta</td>\n",
       "      <td>80000.0</td>\n",
       "      <td>110000.0</td>\n",
       "      <td>201050.333300</td>\n",
       "      <td>178565.000000</td>\n",
       "      <td>1.979517e+05</td>\n",
       "      <td>2.892450e+05</td>\n",
       "      <td>4.183047e+05</td>\n",
       "    </tr>\n",
       "    <tr>\n",
       "      <th>2</th>\n",
       "      <td>Boston</td>\n",
       "      <td>75000.0</td>\n",
       "      <td>120000.0</td>\n",
       "      <td>350358.000000</td>\n",
       "      <td>382498.000000</td>\n",
       "      <td>4.577677e+05</td>\n",
       "      <td>6.168550e+05</td>\n",
       "      <td>8.774370e+05</td>\n",
       "    </tr>\n",
       "    <tr>\n",
       "      <th>3</th>\n",
       "      <td>Columbus</td>\n",
       "      <td>65780.0</td>\n",
       "      <td>77508.8</td>\n",
       "      <td>107595.333300</td>\n",
       "      <td>137180.000000</td>\n",
       "      <td>1.937777e+05</td>\n",
       "      <td>2.991533e+05</td>\n",
       "      <td>4.238153e+05</td>\n",
       "    </tr>\n",
       "    <tr>\n",
       "      <th>4</th>\n",
       "      <td>Denver</td>\n",
       "      <td>63858.0</td>\n",
       "      <td>72624.0</td>\n",
       "      <td>250056.666700</td>\n",
       "      <td>342350.000000</td>\n",
       "      <td>4.175047e+05</td>\n",
       "      <td>5.081567e+05</td>\n",
       "      <td>6.139150e+05</td>\n",
       "    </tr>\n",
       "    <tr>\n",
       "      <th>5</th>\n",
       "      <td>New York</td>\n",
       "      <td>62862.0</td>\n",
       "      <td>66388.0</td>\n",
       "      <td>391567.666700</td>\n",
       "      <td>340460.000000</td>\n",
       "      <td>4.192160e+05</td>\n",
       "      <td>5.310483e+05</td>\n",
       "      <td>7.738423e+05</td>\n",
       "    </tr>\n",
       "    <tr>\n",
       "      <th>6</th>\n",
       "      <td>Austin</td>\n",
       "      <td>59004.0</td>\n",
       "      <td>73200.0</td>\n",
       "      <td>258838.333300</td>\n",
       "      <td>310509.666700</td>\n",
       "      <td>2.977300e+05</td>\n",
       "      <td>3.856777e+05</td>\n",
       "      <td>5.653223e+05</td>\n",
       "    </tr>\n",
       "    <tr>\n",
       "      <th>7</th>\n",
       "      <td>Raleigh</td>\n",
       "      <td>49000.0</td>\n",
       "      <td>60320.0</td>\n",
       "      <td>173997.666700</td>\n",
       "      <td>173107.000000</td>\n",
       "      <td>2.331973e+05</td>\n",
       "      <td>3.603493e+05</td>\n",
       "      <td>4.889703e+05</td>\n",
       "    </tr>\n",
       "    <tr>\n",
       "      <th>8</th>\n",
       "      <td>Seattle</td>\n",
       "      <td>44400.0</td>\n",
       "      <td>50000.0</td>\n",
       "      <td>366461.333300</td>\n",
       "      <td>414984.000000</td>\n",
       "      <td>4.746977e+05</td>\n",
       "      <td>6.290253e+05</td>\n",
       "      <td>7.658623e+05</td>\n",
       "    </tr>\n",
       "  </tbody>\n",
       "</table>\n",
       "</div>"
      ],
      "text/plain": [
       "    updated_city  annual_min_median  annual_max_median              1  \\\n",
       "0  San Francisco           100000.0           135100.0  765678.797833   \n",
       "1        Atlanta            80000.0           110000.0  201050.333300   \n",
       "2         Boston            75000.0           120000.0  350358.000000   \n",
       "3       Columbus            65780.0            77508.8  107595.333300   \n",
       "4         Denver            63858.0            72624.0  250056.666700   \n",
       "5       New York            62862.0            66388.0  391567.666700   \n",
       "6         Austin            59004.0            73200.0  258838.333300   \n",
       "7        Raleigh            49000.0            60320.0  173997.666700   \n",
       "8        Seattle            44400.0            50000.0  366461.333300   \n",
       "\n",
       "               2             3             4             5  \n",
       "0  719293.794656  1.037435e+06  1.283832e+06  1.637889e+06  \n",
       "1  178565.000000  1.979517e+05  2.892450e+05  4.183047e+05  \n",
       "2  382498.000000  4.577677e+05  6.168550e+05  8.774370e+05  \n",
       "3  137180.000000  1.937777e+05  2.991533e+05  4.238153e+05  \n",
       "4  342350.000000  4.175047e+05  5.081567e+05  6.139150e+05  \n",
       "5  340460.000000  4.192160e+05  5.310483e+05  7.738423e+05  \n",
       "6  310509.666700  2.977300e+05  3.856777e+05  5.653223e+05  \n",
       "7  173107.000000  2.331973e+05  3.603493e+05  4.889703e+05  \n",
       "8  414984.000000  4.746977e+05  6.290253e+05  7.658623e+05  "
      ]
     },
     "execution_count": 86,
     "metadata": {},
     "output_type": "execute_result"
    }
   ],
   "source": [
    "# no more NaN values in the dataframe\n",
    "\n",
    "imp_sal_and_house_price"
   ]
  },
  {
   "cell_type": "code",
   "execution_count": 87,
   "metadata": {},
   "outputs": [
    {
     "data": {
      "application/vnd.plotly.v1+json": {
       "config": {
        "linkText": "Export to plot.ly",
        "plotlyServerURL": "https://plot.ly",
        "showLink": false
       },
       "data": [
        {
         "marker": {
          "color": "rgb(255,69,0)",
          "line": {
           "color": "rgb(255,69,0)"
          }
         },
         "name": "Data Jobs Minimum Median Salary",
         "type": "bar",
         "x": [
          "San Francisco",
          "Atlanta",
          "Boston",
          "Columbus",
          "Denver",
          "New York",
          "Austin",
          "Raleigh",
          "Seattle"
         ],
         "y": [
          100000,
          80000,
          75000,
          65780,
          63858,
          62862,
          59004,
          49000,
          44400
         ]
        },
        {
         "marker": {
          "color": "rgb(25,25,112)",
          "line": {
           "color": "rgb(25,25,112)"
          }
         },
         "name": "Median Price for a 5 Bedroom House",
         "type": "bar",
         "x": [
          "San Francisco",
          "Atlanta",
          "Boston",
          "Columbus",
          "Denver",
          "New York",
          "Austin",
          "Raleigh",
          "Seattle"
         ],
         "y": [
          1637889.333,
          418304.6667,
          877437,
          423815.3333,
          613915,
          773842.3333,
          565322.3333,
          488970.3333,
          765862.3333
         ]
        },
        {
         "marker": {
          "color": "rgb(0,0,255)",
          "line": {
           "color": "rgb(0,0,255)"
          }
         },
         "name": "Median Price for a 4 Bedroom House",
         "type": "bar",
         "x": [
          "San Francisco",
          "Atlanta",
          "Boston",
          "Columbus",
          "Denver",
          "New York",
          "Austin",
          "Raleigh",
          "Seattle"
         ],
         "y": [
          1283831.6670000001,
          289245,
          616855,
          299153.3333,
          508156.6667,
          531048.3333,
          385677.6667,
          360349.3333,
          629025.3333
         ]
        },
        {
         "marker": {
          "color": "rgb(0,191,255)",
          "line": {
           "color": "rgb(0,191,255)"
          }
         },
         "name": "Median Price for a 3 Bedroom House",
         "type": "bar",
         "x": [
          "San Francisco",
          "Atlanta",
          "Boston",
          "Columbus",
          "Denver",
          "New York",
          "Austin",
          "Raleigh",
          "Seattle"
         ],
         "y": [
          1037434.667,
          197951.6667,
          457767.6667,
          193777.6667,
          417504.6667,
          419216,
          297730,
          233197.3333,
          474697.6667
         ]
        },
        {
         "marker": {
          "color": "rgb(135,206,235)",
          "line": {
           "color": "rgb(135,206,235)"
          }
         },
         "name": "Median Price for a 2 Bedroom House",
         "type": "bar",
         "x": [
          "San Francisco",
          "Atlanta",
          "Boston",
          "Columbus",
          "Denver",
          "New York",
          "Austin",
          "Raleigh",
          "Seattle"
         ],
         "y": [
          719293.7946560916,
          178565,
          382498,
          137180,
          342350,
          340460,
          310509.6667,
          173107,
          414984
         ]
        },
        {
         "marker": {
          "color": "rgb(123,104,238)",
          "line": {
           "color": "rgb(123,104,238)"
          }
         },
         "name": "Median Price for a 1 Bedroom House",
         "type": "bar",
         "x": [
          "San Francisco",
          "Atlanta",
          "Boston",
          "Columbus",
          "Denver",
          "New York",
          "Austin",
          "Raleigh",
          "Seattle"
         ],
         "y": [
          765678.7978331693,
          201050.3333,
          350358,
          107595.3333,
          250056.6667,
          391567.6667,
          258838.3333,
          173997.6667,
          366461.3333
         ]
        }
       ],
       "layout": {
        "autosize": true,
        "legend": {
         "orientation": "h"
        },
        "paper_bgcolor": "rgba(0,0,0,0)",
        "plot_bgcolor": "rgba(0,0,0,0)",
        "showlegend": true,
        "template": {
         "data": {
          "bar": [
           {
            "error_x": {
             "color": "#2a3f5f"
            },
            "error_y": {
             "color": "#2a3f5f"
            },
            "marker": {
             "line": {
              "color": "#E5ECF6",
              "width": 0.5
             }
            },
            "type": "bar"
           }
          ],
          "barpolar": [
           {
            "marker": {
             "line": {
              "color": "#E5ECF6",
              "width": 0.5
             }
            },
            "type": "barpolar"
           }
          ],
          "carpet": [
           {
            "aaxis": {
             "endlinecolor": "#2a3f5f",
             "gridcolor": "white",
             "linecolor": "white",
             "minorgridcolor": "white",
             "startlinecolor": "#2a3f5f"
            },
            "baxis": {
             "endlinecolor": "#2a3f5f",
             "gridcolor": "white",
             "linecolor": "white",
             "minorgridcolor": "white",
             "startlinecolor": "#2a3f5f"
            },
            "type": "carpet"
           }
          ],
          "choropleth": [
           {
            "colorbar": {
             "outlinewidth": 0,
             "ticks": ""
            },
            "type": "choropleth"
           }
          ],
          "contour": [
           {
            "colorbar": {
             "outlinewidth": 0,
             "ticks": ""
            },
            "colorscale": [
             [
              0,
              "#0d0887"
             ],
             [
              0.1111111111111111,
              "#46039f"
             ],
             [
              0.2222222222222222,
              "#7201a8"
             ],
             [
              0.3333333333333333,
              "#9c179e"
             ],
             [
              0.4444444444444444,
              "#bd3786"
             ],
             [
              0.5555555555555556,
              "#d8576b"
             ],
             [
              0.6666666666666666,
              "#ed7953"
             ],
             [
              0.7777777777777778,
              "#fb9f3a"
             ],
             [
              0.8888888888888888,
              "#fdca26"
             ],
             [
              1,
              "#f0f921"
             ]
            ],
            "type": "contour"
           }
          ],
          "contourcarpet": [
           {
            "colorbar": {
             "outlinewidth": 0,
             "ticks": ""
            },
            "type": "contourcarpet"
           }
          ],
          "heatmap": [
           {
            "colorbar": {
             "outlinewidth": 0,
             "ticks": ""
            },
            "colorscale": [
             [
              0,
              "#0d0887"
             ],
             [
              0.1111111111111111,
              "#46039f"
             ],
             [
              0.2222222222222222,
              "#7201a8"
             ],
             [
              0.3333333333333333,
              "#9c179e"
             ],
             [
              0.4444444444444444,
              "#bd3786"
             ],
             [
              0.5555555555555556,
              "#d8576b"
             ],
             [
              0.6666666666666666,
              "#ed7953"
             ],
             [
              0.7777777777777778,
              "#fb9f3a"
             ],
             [
              0.8888888888888888,
              "#fdca26"
             ],
             [
              1,
              "#f0f921"
             ]
            ],
            "type": "heatmap"
           }
          ],
          "heatmapgl": [
           {
            "colorbar": {
             "outlinewidth": 0,
             "ticks": ""
            },
            "colorscale": [
             [
              0,
              "#0d0887"
             ],
             [
              0.1111111111111111,
              "#46039f"
             ],
             [
              0.2222222222222222,
              "#7201a8"
             ],
             [
              0.3333333333333333,
              "#9c179e"
             ],
             [
              0.4444444444444444,
              "#bd3786"
             ],
             [
              0.5555555555555556,
              "#d8576b"
             ],
             [
              0.6666666666666666,
              "#ed7953"
             ],
             [
              0.7777777777777778,
              "#fb9f3a"
             ],
             [
              0.8888888888888888,
              "#fdca26"
             ],
             [
              1,
              "#f0f921"
             ]
            ],
            "type": "heatmapgl"
           }
          ],
          "histogram": [
           {
            "marker": {
             "colorbar": {
              "outlinewidth": 0,
              "ticks": ""
             }
            },
            "type": "histogram"
           }
          ],
          "histogram2d": [
           {
            "colorbar": {
             "outlinewidth": 0,
             "ticks": ""
            },
            "colorscale": [
             [
              0,
              "#0d0887"
             ],
             [
              0.1111111111111111,
              "#46039f"
             ],
             [
              0.2222222222222222,
              "#7201a8"
             ],
             [
              0.3333333333333333,
              "#9c179e"
             ],
             [
              0.4444444444444444,
              "#bd3786"
             ],
             [
              0.5555555555555556,
              "#d8576b"
             ],
             [
              0.6666666666666666,
              "#ed7953"
             ],
             [
              0.7777777777777778,
              "#fb9f3a"
             ],
             [
              0.8888888888888888,
              "#fdca26"
             ],
             [
              1,
              "#f0f921"
             ]
            ],
            "type": "histogram2d"
           }
          ],
          "histogram2dcontour": [
           {
            "colorbar": {
             "outlinewidth": 0,
             "ticks": ""
            },
            "colorscale": [
             [
              0,
              "#0d0887"
             ],
             [
              0.1111111111111111,
              "#46039f"
             ],
             [
              0.2222222222222222,
              "#7201a8"
             ],
             [
              0.3333333333333333,
              "#9c179e"
             ],
             [
              0.4444444444444444,
              "#bd3786"
             ],
             [
              0.5555555555555556,
              "#d8576b"
             ],
             [
              0.6666666666666666,
              "#ed7953"
             ],
             [
              0.7777777777777778,
              "#fb9f3a"
             ],
             [
              0.8888888888888888,
              "#fdca26"
             ],
             [
              1,
              "#f0f921"
             ]
            ],
            "type": "histogram2dcontour"
           }
          ],
          "mesh3d": [
           {
            "colorbar": {
             "outlinewidth": 0,
             "ticks": ""
            },
            "type": "mesh3d"
           }
          ],
          "parcoords": [
           {
            "line": {
             "colorbar": {
              "outlinewidth": 0,
              "ticks": ""
             }
            },
            "type": "parcoords"
           }
          ],
          "pie": [
           {
            "automargin": true,
            "type": "pie"
           }
          ],
          "scatter": [
           {
            "marker": {
             "colorbar": {
              "outlinewidth": 0,
              "ticks": ""
             }
            },
            "type": "scatter"
           }
          ],
          "scatter3d": [
           {
            "line": {
             "colorbar": {
              "outlinewidth": 0,
              "ticks": ""
             }
            },
            "marker": {
             "colorbar": {
              "outlinewidth": 0,
              "ticks": ""
             }
            },
            "type": "scatter3d"
           }
          ],
          "scattercarpet": [
           {
            "marker": {
             "colorbar": {
              "outlinewidth": 0,
              "ticks": ""
             }
            },
            "type": "scattercarpet"
           }
          ],
          "scattergeo": [
           {
            "marker": {
             "colorbar": {
              "outlinewidth": 0,
              "ticks": ""
             }
            },
            "type": "scattergeo"
           }
          ],
          "scattergl": [
           {
            "marker": {
             "colorbar": {
              "outlinewidth": 0,
              "ticks": ""
             }
            },
            "type": "scattergl"
           }
          ],
          "scattermapbox": [
           {
            "marker": {
             "colorbar": {
              "outlinewidth": 0,
              "ticks": ""
             }
            },
            "type": "scattermapbox"
           }
          ],
          "scatterpolar": [
           {
            "marker": {
             "colorbar": {
              "outlinewidth": 0,
              "ticks": ""
             }
            },
            "type": "scatterpolar"
           }
          ],
          "scatterpolargl": [
           {
            "marker": {
             "colorbar": {
              "outlinewidth": 0,
              "ticks": ""
             }
            },
            "type": "scatterpolargl"
           }
          ],
          "scatterternary": [
           {
            "marker": {
             "colorbar": {
              "outlinewidth": 0,
              "ticks": ""
             }
            },
            "type": "scatterternary"
           }
          ],
          "surface": [
           {
            "colorbar": {
             "outlinewidth": 0,
             "ticks": ""
            },
            "colorscale": [
             [
              0,
              "#0d0887"
             ],
             [
              0.1111111111111111,
              "#46039f"
             ],
             [
              0.2222222222222222,
              "#7201a8"
             ],
             [
              0.3333333333333333,
              "#9c179e"
             ],
             [
              0.4444444444444444,
              "#bd3786"
             ],
             [
              0.5555555555555556,
              "#d8576b"
             ],
             [
              0.6666666666666666,
              "#ed7953"
             ],
             [
              0.7777777777777778,
              "#fb9f3a"
             ],
             [
              0.8888888888888888,
              "#fdca26"
             ],
             [
              1,
              "#f0f921"
             ]
            ],
            "type": "surface"
           }
          ],
          "table": [
           {
            "cells": {
             "fill": {
              "color": "#EBF0F8"
             },
             "line": {
              "color": "white"
             }
            },
            "header": {
             "fill": {
              "color": "#C8D4E3"
             },
             "line": {
              "color": "white"
             }
            },
            "type": "table"
           }
          ]
         },
         "layout": {
          "annotationdefaults": {
           "arrowcolor": "#2a3f5f",
           "arrowhead": 0,
           "arrowwidth": 1
          },
          "coloraxis": {
           "colorbar": {
            "outlinewidth": 0,
            "ticks": ""
           }
          },
          "colorscale": {
           "diverging": [
            [
             0,
             "#8e0152"
            ],
            [
             0.1,
             "#c51b7d"
            ],
            [
             0.2,
             "#de77ae"
            ],
            [
             0.3,
             "#f1b6da"
            ],
            [
             0.4,
             "#fde0ef"
            ],
            [
             0.5,
             "#f7f7f7"
            ],
            [
             0.6,
             "#e6f5d0"
            ],
            [
             0.7,
             "#b8e186"
            ],
            [
             0.8,
             "#7fbc41"
            ],
            [
             0.9,
             "#4d9221"
            ],
            [
             1,
             "#276419"
            ]
           ],
           "sequential": [
            [
             0,
             "#0d0887"
            ],
            [
             0.1111111111111111,
             "#46039f"
            ],
            [
             0.2222222222222222,
             "#7201a8"
            ],
            [
             0.3333333333333333,
             "#9c179e"
            ],
            [
             0.4444444444444444,
             "#bd3786"
            ],
            [
             0.5555555555555556,
             "#d8576b"
            ],
            [
             0.6666666666666666,
             "#ed7953"
            ],
            [
             0.7777777777777778,
             "#fb9f3a"
            ],
            [
             0.8888888888888888,
             "#fdca26"
            ],
            [
             1,
             "#f0f921"
            ]
           ],
           "sequentialminus": [
            [
             0,
             "#0d0887"
            ],
            [
             0.1111111111111111,
             "#46039f"
            ],
            [
             0.2222222222222222,
             "#7201a8"
            ],
            [
             0.3333333333333333,
             "#9c179e"
            ],
            [
             0.4444444444444444,
             "#bd3786"
            ],
            [
             0.5555555555555556,
             "#d8576b"
            ],
            [
             0.6666666666666666,
             "#ed7953"
            ],
            [
             0.7777777777777778,
             "#fb9f3a"
            ],
            [
             0.8888888888888888,
             "#fdca26"
            ],
            [
             1,
             "#f0f921"
            ]
           ]
          },
          "colorway": [
           "#636efa",
           "#EF553B",
           "#00cc96",
           "#ab63fa",
           "#FFA15A",
           "#19d3f3",
           "#FF6692",
           "#B6E880",
           "#FF97FF",
           "#FECB52"
          ],
          "font": {
           "color": "#2a3f5f"
          },
          "geo": {
           "bgcolor": "white",
           "lakecolor": "white",
           "landcolor": "#E5ECF6",
           "showlakes": true,
           "showland": true,
           "subunitcolor": "white"
          },
          "hoverlabel": {
           "align": "left"
          },
          "hovermode": "closest",
          "mapbox": {
           "style": "light"
          },
          "paper_bgcolor": "white",
          "plot_bgcolor": "#E5ECF6",
          "polar": {
           "angularaxis": {
            "gridcolor": "white",
            "linecolor": "white",
            "ticks": ""
           },
           "bgcolor": "#E5ECF6",
           "radialaxis": {
            "gridcolor": "white",
            "linecolor": "white",
            "ticks": ""
           }
          },
          "scene": {
           "xaxis": {
            "backgroundcolor": "#E5ECF6",
            "gridcolor": "white",
            "gridwidth": 2,
            "linecolor": "white",
            "showbackground": true,
            "ticks": "",
            "zerolinecolor": "white"
           },
           "yaxis": {
            "backgroundcolor": "#E5ECF6",
            "gridcolor": "white",
            "gridwidth": 2,
            "linecolor": "white",
            "showbackground": true,
            "ticks": "",
            "zerolinecolor": "white"
           },
           "zaxis": {
            "backgroundcolor": "#E5ECF6",
            "gridcolor": "white",
            "gridwidth": 2,
            "linecolor": "white",
            "showbackground": true,
            "ticks": "",
            "zerolinecolor": "white"
           }
          },
          "shapedefaults": {
           "line": {
            "color": "#2a3f5f"
           }
          },
          "ternary": {
           "aaxis": {
            "gridcolor": "white",
            "linecolor": "white",
            "ticks": ""
           },
           "baxis": {
            "gridcolor": "white",
            "linecolor": "white",
            "ticks": ""
           },
           "bgcolor": "#E5ECF6",
           "caxis": {
            "gridcolor": "white",
            "linecolor": "white",
            "ticks": ""
           }
          },
          "title": {
           "x": 0.05
          },
          "xaxis": {
           "automargin": true,
           "gridcolor": "white",
           "linecolor": "white",
           "ticks": "",
           "title": {
            "standoff": 15
           },
           "zerolinecolor": "white",
           "zerolinewidth": 2
          },
          "yaxis": {
           "automargin": true,
           "gridcolor": "white",
           "linecolor": "white",
           "ticks": "",
           "title": {
            "standoff": 15
           },
           "zerolinecolor": "white",
           "zerolinewidth": 2
          }
         }
        },
        "title": {
         "text": "<b>Annual Minimum Median Data Job Wages vs Median House Price</b>"
        },
        "xaxis": {
         "showgrid": false
        },
        "yaxis": {
         "autorange": true,
         "showgrid": true,
         "showline": false,
         "showticklabels": true,
         "ticks": "",
         "title": {
          "text": "Median Wage and Median House Price"
         },
         "zeroline": false
        }
       }
      },
      "text/html": [
       "<div>\n",
       "        \n",
       "        \n",
       "            <div id=\"5f390949-2359-41f9-af86-8770c88d7a52\" class=\"plotly-graph-div\" style=\"height:525px; width:100%;\"></div>\n",
       "            <script type=\"text/javascript\">\n",
       "                require([\"plotly\"], function(Plotly) {\n",
       "                    window.PLOTLYENV=window.PLOTLYENV || {};\n",
       "                    \n",
       "                if (document.getElementById(\"5f390949-2359-41f9-af86-8770c88d7a52\")) {\n",
       "                    Plotly.newPlot(\n",
       "                        '5f390949-2359-41f9-af86-8770c88d7a52',\n",
       "                        [{\"marker\": {\"color\": \"rgb(255,69,0)\", \"line\": {\"color\": \"rgb(255,69,0)\"}}, \"name\": \"Data Jobs Minimum Median Salary\", \"type\": \"bar\", \"x\": [\"San Francisco\", \"Atlanta\", \"Boston\", \"Columbus\", \"Denver\", \"New York\", \"Austin\", \"Raleigh\", \"Seattle\"], \"y\": [100000.0, 80000.0, 75000.0, 65780.0, 63858.0, 62862.0, 59004.0, 49000.0, 44400.0]}, {\"marker\": {\"color\": \"rgb(25,25,112)\", \"line\": {\"color\": \"rgb(25,25,112)\"}}, \"name\": \"Median Price for a 5 Bedroom House\", \"type\": \"bar\", \"x\": [\"San Francisco\", \"Atlanta\", \"Boston\", \"Columbus\", \"Denver\", \"New York\", \"Austin\", \"Raleigh\", \"Seattle\"], \"y\": [1637889.333, 418304.6667, 877437.0, 423815.3333, 613915.0, 773842.3333, 565322.3333, 488970.3333, 765862.3333]}, {\"marker\": {\"color\": \"rgb(0,0,255)\", \"line\": {\"color\": \"rgb(0,0,255)\"}}, \"name\": \"Median Price for a 4 Bedroom House\", \"type\": \"bar\", \"x\": [\"San Francisco\", \"Atlanta\", \"Boston\", \"Columbus\", \"Denver\", \"New York\", \"Austin\", \"Raleigh\", \"Seattle\"], \"y\": [1283831.6670000001, 289245.0, 616855.0, 299153.3333, 508156.6667, 531048.3333, 385677.6667, 360349.3333, 629025.3333]}, {\"marker\": {\"color\": \"rgb(0,191,255)\", \"line\": {\"color\": \"rgb(0,191,255)\"}}, \"name\": \"Median Price for a 3 Bedroom House\", \"type\": \"bar\", \"x\": [\"San Francisco\", \"Atlanta\", \"Boston\", \"Columbus\", \"Denver\", \"New York\", \"Austin\", \"Raleigh\", \"Seattle\"], \"y\": [1037434.667, 197951.6667, 457767.6667, 193777.6667, 417504.6667, 419216.0, 297730.0, 233197.3333, 474697.6667]}, {\"marker\": {\"color\": \"rgb(135,206,235)\", \"line\": {\"color\": \"rgb(135,206,235)\"}}, \"name\": \"Median Price for a 2 Bedroom House\", \"type\": \"bar\", \"x\": [\"San Francisco\", \"Atlanta\", \"Boston\", \"Columbus\", \"Denver\", \"New York\", \"Austin\", \"Raleigh\", \"Seattle\"], \"y\": [719293.7946560916, 178565.0, 382498.0, 137180.0, 342350.0, 340460.0, 310509.6667, 173107.0, 414984.0]}, {\"marker\": {\"color\": \"rgb(123,104,238)\", \"line\": {\"color\": \"rgb(123,104,238)\"}}, \"name\": \"Median Price for a 1 Bedroom House\", \"type\": \"bar\", \"x\": [\"San Francisco\", \"Atlanta\", \"Boston\", \"Columbus\", \"Denver\", \"New York\", \"Austin\", \"Raleigh\", \"Seattle\"], \"y\": [765678.7978331693, 201050.3333, 350358.0, 107595.3333, 250056.6667, 391567.6667, 258838.3333, 173997.6667, 366461.3333]}],\n",
       "                        {\"autosize\": true, \"legend\": {\"orientation\": \"h\"}, \"paper_bgcolor\": \"rgba(0,0,0,0)\", \"plot_bgcolor\": \"rgba(0,0,0,0)\", \"showlegend\": true, \"template\": {\"data\": {\"bar\": [{\"error_x\": {\"color\": \"#2a3f5f\"}, \"error_y\": {\"color\": \"#2a3f5f\"}, \"marker\": {\"line\": {\"color\": \"#E5ECF6\", \"width\": 0.5}}, \"type\": \"bar\"}], \"barpolar\": [{\"marker\": {\"line\": {\"color\": \"#E5ECF6\", \"width\": 0.5}}, \"type\": \"barpolar\"}], \"carpet\": [{\"aaxis\": {\"endlinecolor\": \"#2a3f5f\", \"gridcolor\": \"white\", \"linecolor\": \"white\", \"minorgridcolor\": \"white\", \"startlinecolor\": \"#2a3f5f\"}, \"baxis\": {\"endlinecolor\": \"#2a3f5f\", \"gridcolor\": \"white\", \"linecolor\": \"white\", \"minorgridcolor\": \"white\", \"startlinecolor\": \"#2a3f5f\"}, \"type\": \"carpet\"}], \"choropleth\": [{\"colorbar\": {\"outlinewidth\": 0, \"ticks\": \"\"}, \"type\": \"choropleth\"}], \"contour\": [{\"colorbar\": {\"outlinewidth\": 0, \"ticks\": \"\"}, \"colorscale\": [[0.0, \"#0d0887\"], [0.1111111111111111, \"#46039f\"], [0.2222222222222222, \"#7201a8\"], [0.3333333333333333, \"#9c179e\"], [0.4444444444444444, \"#bd3786\"], [0.5555555555555556, \"#d8576b\"], [0.6666666666666666, \"#ed7953\"], [0.7777777777777778, \"#fb9f3a\"], [0.8888888888888888, \"#fdca26\"], [1.0, \"#f0f921\"]], \"type\": \"contour\"}], \"contourcarpet\": [{\"colorbar\": {\"outlinewidth\": 0, \"ticks\": \"\"}, \"type\": \"contourcarpet\"}], \"heatmap\": [{\"colorbar\": {\"outlinewidth\": 0, \"ticks\": \"\"}, \"colorscale\": [[0.0, \"#0d0887\"], [0.1111111111111111, \"#46039f\"], [0.2222222222222222, \"#7201a8\"], [0.3333333333333333, \"#9c179e\"], [0.4444444444444444, \"#bd3786\"], [0.5555555555555556, \"#d8576b\"], [0.6666666666666666, \"#ed7953\"], [0.7777777777777778, \"#fb9f3a\"], [0.8888888888888888, \"#fdca26\"], [1.0, \"#f0f921\"]], \"type\": \"heatmap\"}], \"heatmapgl\": [{\"colorbar\": {\"outlinewidth\": 0, \"ticks\": \"\"}, \"colorscale\": [[0.0, \"#0d0887\"], [0.1111111111111111, \"#46039f\"], [0.2222222222222222, \"#7201a8\"], [0.3333333333333333, \"#9c179e\"], [0.4444444444444444, \"#bd3786\"], [0.5555555555555556, \"#d8576b\"], [0.6666666666666666, \"#ed7953\"], [0.7777777777777778, \"#fb9f3a\"], [0.8888888888888888, \"#fdca26\"], [1.0, \"#f0f921\"]], \"type\": \"heatmapgl\"}], \"histogram\": [{\"marker\": {\"colorbar\": {\"outlinewidth\": 0, \"ticks\": \"\"}}, \"type\": \"histogram\"}], \"histogram2d\": [{\"colorbar\": {\"outlinewidth\": 0, \"ticks\": \"\"}, \"colorscale\": [[0.0, \"#0d0887\"], [0.1111111111111111, \"#46039f\"], [0.2222222222222222, \"#7201a8\"], [0.3333333333333333, \"#9c179e\"], [0.4444444444444444, \"#bd3786\"], [0.5555555555555556, \"#d8576b\"], [0.6666666666666666, \"#ed7953\"], [0.7777777777777778, \"#fb9f3a\"], [0.8888888888888888, \"#fdca26\"], [1.0, \"#f0f921\"]], \"type\": \"histogram2d\"}], \"histogram2dcontour\": [{\"colorbar\": {\"outlinewidth\": 0, \"ticks\": \"\"}, \"colorscale\": [[0.0, \"#0d0887\"], [0.1111111111111111, \"#46039f\"], [0.2222222222222222, \"#7201a8\"], [0.3333333333333333, \"#9c179e\"], [0.4444444444444444, \"#bd3786\"], [0.5555555555555556, \"#d8576b\"], [0.6666666666666666, \"#ed7953\"], [0.7777777777777778, \"#fb9f3a\"], [0.8888888888888888, \"#fdca26\"], [1.0, \"#f0f921\"]], \"type\": \"histogram2dcontour\"}], \"mesh3d\": [{\"colorbar\": {\"outlinewidth\": 0, \"ticks\": \"\"}, \"type\": \"mesh3d\"}], \"parcoords\": [{\"line\": {\"colorbar\": {\"outlinewidth\": 0, \"ticks\": \"\"}}, \"type\": \"parcoords\"}], \"pie\": [{\"automargin\": true, \"type\": \"pie\"}], \"scatter\": [{\"marker\": {\"colorbar\": {\"outlinewidth\": 0, \"ticks\": \"\"}}, \"type\": \"scatter\"}], \"scatter3d\": [{\"line\": {\"colorbar\": {\"outlinewidth\": 0, \"ticks\": \"\"}}, \"marker\": {\"colorbar\": {\"outlinewidth\": 0, \"ticks\": \"\"}}, \"type\": \"scatter3d\"}], \"scattercarpet\": [{\"marker\": {\"colorbar\": {\"outlinewidth\": 0, \"ticks\": \"\"}}, \"type\": \"scattercarpet\"}], \"scattergeo\": [{\"marker\": {\"colorbar\": {\"outlinewidth\": 0, \"ticks\": \"\"}}, \"type\": \"scattergeo\"}], \"scattergl\": [{\"marker\": {\"colorbar\": {\"outlinewidth\": 0, \"ticks\": \"\"}}, \"type\": \"scattergl\"}], \"scattermapbox\": [{\"marker\": {\"colorbar\": {\"outlinewidth\": 0, \"ticks\": \"\"}}, \"type\": \"scattermapbox\"}], \"scatterpolar\": [{\"marker\": {\"colorbar\": {\"outlinewidth\": 0, \"ticks\": \"\"}}, \"type\": \"scatterpolar\"}], \"scatterpolargl\": [{\"marker\": {\"colorbar\": {\"outlinewidth\": 0, \"ticks\": \"\"}}, \"type\": \"scatterpolargl\"}], \"scatterternary\": [{\"marker\": {\"colorbar\": {\"outlinewidth\": 0, \"ticks\": \"\"}}, \"type\": \"scatterternary\"}], \"surface\": [{\"colorbar\": {\"outlinewidth\": 0, \"ticks\": \"\"}, \"colorscale\": [[0.0, \"#0d0887\"], [0.1111111111111111, \"#46039f\"], [0.2222222222222222, \"#7201a8\"], [0.3333333333333333, \"#9c179e\"], [0.4444444444444444, \"#bd3786\"], [0.5555555555555556, \"#d8576b\"], [0.6666666666666666, \"#ed7953\"], [0.7777777777777778, \"#fb9f3a\"], [0.8888888888888888, \"#fdca26\"], [1.0, \"#f0f921\"]], \"type\": \"surface\"}], \"table\": [{\"cells\": {\"fill\": {\"color\": \"#EBF0F8\"}, \"line\": {\"color\": \"white\"}}, \"header\": {\"fill\": {\"color\": \"#C8D4E3\"}, \"line\": {\"color\": \"white\"}}, \"type\": \"table\"}]}, \"layout\": {\"annotationdefaults\": {\"arrowcolor\": \"#2a3f5f\", \"arrowhead\": 0, \"arrowwidth\": 1}, \"coloraxis\": {\"colorbar\": {\"outlinewidth\": 0, \"ticks\": \"\"}}, \"colorscale\": {\"diverging\": [[0, \"#8e0152\"], [0.1, \"#c51b7d\"], [0.2, \"#de77ae\"], [0.3, \"#f1b6da\"], [0.4, \"#fde0ef\"], [0.5, \"#f7f7f7\"], [0.6, \"#e6f5d0\"], [0.7, \"#b8e186\"], [0.8, \"#7fbc41\"], [0.9, \"#4d9221\"], [1, \"#276419\"]], \"sequential\": [[0.0, \"#0d0887\"], [0.1111111111111111, \"#46039f\"], [0.2222222222222222, \"#7201a8\"], [0.3333333333333333, \"#9c179e\"], [0.4444444444444444, \"#bd3786\"], [0.5555555555555556, \"#d8576b\"], [0.6666666666666666, \"#ed7953\"], [0.7777777777777778, \"#fb9f3a\"], [0.8888888888888888, \"#fdca26\"], [1.0, \"#f0f921\"]], \"sequentialminus\": [[0.0, \"#0d0887\"], [0.1111111111111111, \"#46039f\"], [0.2222222222222222, \"#7201a8\"], [0.3333333333333333, \"#9c179e\"], [0.4444444444444444, \"#bd3786\"], [0.5555555555555556, \"#d8576b\"], [0.6666666666666666, \"#ed7953\"], [0.7777777777777778, \"#fb9f3a\"], [0.8888888888888888, \"#fdca26\"], [1.0, \"#f0f921\"]]}, \"colorway\": [\"#636efa\", \"#EF553B\", \"#00cc96\", \"#ab63fa\", \"#FFA15A\", \"#19d3f3\", \"#FF6692\", \"#B6E880\", \"#FF97FF\", \"#FECB52\"], \"font\": {\"color\": \"#2a3f5f\"}, \"geo\": {\"bgcolor\": \"white\", \"lakecolor\": \"white\", \"landcolor\": \"#E5ECF6\", \"showlakes\": true, \"showland\": true, \"subunitcolor\": \"white\"}, \"hoverlabel\": {\"align\": \"left\"}, \"hovermode\": \"closest\", \"mapbox\": {\"style\": \"light\"}, \"paper_bgcolor\": \"white\", \"plot_bgcolor\": \"#E5ECF6\", \"polar\": {\"angularaxis\": {\"gridcolor\": \"white\", \"linecolor\": \"white\", \"ticks\": \"\"}, \"bgcolor\": \"#E5ECF6\", \"radialaxis\": {\"gridcolor\": \"white\", \"linecolor\": \"white\", \"ticks\": \"\"}}, \"scene\": {\"xaxis\": {\"backgroundcolor\": \"#E5ECF6\", \"gridcolor\": \"white\", \"gridwidth\": 2, \"linecolor\": \"white\", \"showbackground\": true, \"ticks\": \"\", \"zerolinecolor\": \"white\"}, \"yaxis\": {\"backgroundcolor\": \"#E5ECF6\", \"gridcolor\": \"white\", \"gridwidth\": 2, \"linecolor\": \"white\", \"showbackground\": true, \"ticks\": \"\", \"zerolinecolor\": \"white\"}, \"zaxis\": {\"backgroundcolor\": \"#E5ECF6\", \"gridcolor\": \"white\", \"gridwidth\": 2, \"linecolor\": \"white\", \"showbackground\": true, \"ticks\": \"\", \"zerolinecolor\": \"white\"}}, \"shapedefaults\": {\"line\": {\"color\": \"#2a3f5f\"}}, \"ternary\": {\"aaxis\": {\"gridcolor\": \"white\", \"linecolor\": \"white\", \"ticks\": \"\"}, \"baxis\": {\"gridcolor\": \"white\", \"linecolor\": \"white\", \"ticks\": \"\"}, \"bgcolor\": \"#E5ECF6\", \"caxis\": {\"gridcolor\": \"white\", \"linecolor\": \"white\", \"ticks\": \"\"}}, \"title\": {\"x\": 0.05}, \"xaxis\": {\"automargin\": true, \"gridcolor\": \"white\", \"linecolor\": \"white\", \"ticks\": \"\", \"title\": {\"standoff\": 15}, \"zerolinecolor\": \"white\", \"zerolinewidth\": 2}, \"yaxis\": {\"automargin\": true, \"gridcolor\": \"white\", \"linecolor\": \"white\", \"ticks\": \"\", \"title\": {\"standoff\": 15}, \"zerolinecolor\": \"white\", \"zerolinewidth\": 2}}}, \"title\": {\"text\": \"<b>Annual Minimum Median Data Job Wages vs Median House Price</b>\"}, \"xaxis\": {\"showgrid\": false}, \"yaxis\": {\"autorange\": true, \"showgrid\": true, \"showline\": false, \"showticklabels\": true, \"ticks\": \"\", \"title\": {\"text\": \"Median Wage and Median House Price\"}, \"zeroline\": false}},\n",
       "                        {\"responsive\": true}\n",
       "                    ).then(function(){\n",
       "                            \n",
       "var gd = document.getElementById('5f390949-2359-41f9-af86-8770c88d7a52');\n",
       "var x = new MutationObserver(function (mutations, observer) {{\n",
       "        var display = window.getComputedStyle(gd).display;\n",
       "        if (!display || display === 'none') {{\n",
       "            console.log([gd, 'removed!']);\n",
       "            Plotly.purge(gd);\n",
       "            observer.disconnect();\n",
       "        }}\n",
       "}});\n",
       "\n",
       "// Listen for the removal of the full notebook cells\n",
       "var notebookContainer = gd.closest('#notebook-container');\n",
       "if (notebookContainer) {{\n",
       "    x.observe(notebookContainer, {childList: true});\n",
       "}}\n",
       "\n",
       "// Listen for the clearing of the current output cell\n",
       "var outputEl = gd.closest('.output');\n",
       "if (outputEl) {{\n",
       "    x.observe(outputEl, {childList: true});\n",
       "}}\n",
       "\n",
       "                        })\n",
       "                };\n",
       "                });\n",
       "            </script>\n",
       "        </div>"
      ]
     },
     "metadata": {},
     "output_type": "display_data"
    }
   ],
   "source": [
    "# visualizing Annual Minimum Median Wages vs Median House Prices \n",
    "\n",
    "trace1 = go.Bar(x=imp_sal_and_house_price['updated_city'],\n",
    "                  y=imp_sal_and_house_price['annual_min_median'], \n",
    "                  marker=dict(color='rgb(255,69,0)', line_color='rgb(255,69,0)'),\n",
    "                  name='Data Jobs Minimum Median Salary')\n",
    "\n",
    "trace2 = go.Bar(x=imp_sal_and_house_price['updated_city'],\n",
    "                  y=imp_sal_and_house_price[5], \n",
    "                  marker=dict(color='rgb(25,25,112)', line_color='rgb(25,25,112)'),\n",
    "                  name='Median Price for a 5 Bedroom House')\n",
    "\n",
    "trace3 = go.Bar(x=imp_sal_and_house_price['updated_city'],\n",
    "                  y=imp_sal_and_house_price[4], \n",
    "                  marker=dict(color='rgb(0,0,255)', line_color='rgb(0,0,255)'),\n",
    "                  name='Median Price for a 4 Bedroom House')\n",
    "\n",
    "trace4 = go.Bar(x=imp_sal_and_house_price['updated_city'],\n",
    "                  y=imp_sal_and_house_price[3], \n",
    "                  marker=dict(color='rgb(0,191,255)', line_color='rgb(0,191,255)'),\n",
    "                  name='Median Price for a 3 Bedroom House')\n",
    "\n",
    "trace5 = go.Bar(x=imp_sal_and_house_price['updated_city'],\n",
    "                  y=imp_sal_and_house_price[2], \n",
    "                  marker=dict(color='rgb(135,206,235)', line_color='rgb(135,206,235)'),\n",
    "                  name='Median Price for a 2 Bedroom House')\n",
    "\n",
    "trace6 = go.Bar(x=imp_sal_and_house_price['updated_city'],\n",
    "                  y=imp_sal_and_house_price[1], \n",
    "                  marker=dict(color='rgb(123,104,238)', line_color='rgb(123,104,238)'),\n",
    "                  name='Median Price for a 1 Bedroom House')\n",
    "\n",
    "data = [trace1, trace2, trace3, trace4, trace5, trace6]\n",
    "\n",
    "layout = dict(title=\"<b>Annual Minimum Median Data Job Wages vs Median House Price</b>\",\n",
    "              showlegend=True,\n",
    "              legend_orientation=\"h\",\n",
    "              autosize=True,\n",
    "              xaxis=dict(showgrid=False),\n",
    "              yaxis=dict(title=\"Median Wage and Median House Price\", \n",
    "                         showgrid=True, \n",
    "                         autorange=True,\n",
    "                         zeroline=False,\n",
    "                         showline=False,\n",
    "                         ticks='',\n",
    "                         showticklabels=True),\n",
    "              plot_bgcolor='rgba(0,0,0,0)',\n",
    "              paper_bgcolor='rgba(0,0,0,0)',\n",
    "          )\n",
    "\n",
    "fig=dict(data=data, layout=layout)\n",
    "\n",
    "iplot(fig)"
   ]
  },
  {
   "cell_type": "markdown",
   "metadata": {},
   "source": [
    "<hr>\n",
    "<h4 align=\"center\" style=\"color:black;\"> Analysis: Annual Minimum Median Data Job Wages vs Median House Price </h4>\n",
    "<h4 style=\"color:#666666;\">Source: Salary (Indeed API and web scraping)  & Zillow </h4>\n",
    "This figure illustrates a similar trend that was seen in the median rent vs median salary information.  Cities that have higher median salaries have a more expensive real estate market.  San Francisco has the highest home prices as well as highest median salary of all the cities in the dataset.\n",
    "</hr>"
   ]
  },
  {
   "cell_type": "markdown",
   "metadata": {},
   "source": [
    "#  <br><center><font color='blue'> Ready to Relocate...Think Twice !!!! </font></center></br>"
   ]
  },
  {
   "cell_type": "markdown",
   "metadata": {},
   "source": [
    "### Analyzing Number of Data Jobs vs City Crime Data for each of the 10 Cities"
   ]
  },
  {
   "cell_type": "code",
   "execution_count": 88,
   "metadata": {},
   "outputs": [
    {
     "data": {
      "text/html": [
       "<div>\n",
       "<style scoped>\n",
       "    .dataframe tbody tr th:only-of-type {\n",
       "        vertical-align: middle;\n",
       "    }\n",
       "\n",
       "    .dataframe tbody tr th {\n",
       "        vertical-align: top;\n",
       "    }\n",
       "\n",
       "    .dataframe thead th {\n",
       "        text-align: right;\n",
       "    }\n",
       "</style>\n",
       "<table border=\"1\" class=\"dataframe\">\n",
       "  <thead>\n",
       "    <tr style=\"text-align: right;\">\n",
       "      <th></th>\n",
       "      <th>city</th>\n",
       "      <th>total_pop</th>\n",
       "      <th>homs_sum</th>\n",
       "      <th>rape_sum</th>\n",
       "      <th>rob_sum</th>\n",
       "      <th>agg_ass_sum</th>\n",
       "      <th>violent_crime</th>\n",
       "      <th>violent_per_100k</th>\n",
       "      <th>homs_per_100k</th>\n",
       "      <th>rape_per_100k</th>\n",
       "      <th>rob_per_100k</th>\n",
       "      <th>agg_ass_per_100k</th>\n",
       "      <th>url</th>\n",
       "    </tr>\n",
       "  </thead>\n",
       "  <tbody>\n",
       "    <tr>\n",
       "      <th>0</th>\n",
       "      <td>Atlanta</td>\n",
       "      <td>464710</td>\n",
       "      <td>94</td>\n",
       "      <td>170</td>\n",
       "      <td>1995</td>\n",
       "      <td>2944</td>\n",
       "      <td>5203</td>\n",
       "      <td>1119.622991</td>\n",
       "      <td>20.227669</td>\n",
       "      <td>36.581954</td>\n",
       "      <td>429.299993</td>\n",
       "      <td>633.513374</td>\n",
       "      <td>https://ucr.fbi.gov/crime-in-the-u.s/2015/crim...</td>\n",
       "    </tr>\n",
       "    <tr>\n",
       "      <th>1</th>\n",
       "      <td>Austin</td>\n",
       "      <td>938728</td>\n",
       "      <td>23</td>\n",
       "      <td>487</td>\n",
       "      <td>929</td>\n",
       "      <td>2058</td>\n",
       "      <td>3497</td>\n",
       "      <td>372.525375</td>\n",
       "      <td>2.450124</td>\n",
       "      <td>51.878712</td>\n",
       "      <td>98.963704</td>\n",
       "      <td>219.232834</td>\n",
       "      <td>https://ucr.fbi.gov/crime-in-the-u.s/2015/crim...</td>\n",
       "    </tr>\n",
       "  </tbody>\n",
       "</table>\n",
       "</div>"
      ],
      "text/plain": [
       "      city  total_pop  homs_sum  rape_sum  rob_sum  agg_ass_sum  \\\n",
       "0  Atlanta     464710        94       170     1995         2944   \n",
       "1   Austin     938728        23       487      929         2058   \n",
       "\n",
       "   violent_crime  violent_per_100k  homs_per_100k  rape_per_100k  \\\n",
       "0           5203       1119.622991      20.227669      36.581954   \n",
       "1           3497        372.525375       2.450124      51.878712   \n",
       "\n",
       "   rob_per_100k  agg_ass_per_100k  \\\n",
       "0    429.299993        633.513374   \n",
       "1     98.963704        219.232834   \n",
       "\n",
       "                                                 url  \n",
       "0  https://ucr.fbi.gov/crime-in-the-u.s/2015/crim...  \n",
       "1  https://ucr.fbi.gov/crime-in-the-u.s/2015/crim...  "
      ]
     },
     "execution_count": 88,
     "metadata": {},
     "output_type": "execute_result"
    }
   ],
   "source": [
    "us_crime_data.head(2)"
   ]
  },
  {
   "cell_type": "code",
   "execution_count": 89,
   "metadata": {},
   "outputs": [
    {
     "data": {
      "text/html": [
       "<div>\n",
       "<style scoped>\n",
       "    .dataframe tbody tr th:only-of-type {\n",
       "        vertical-align: middle;\n",
       "    }\n",
       "\n",
       "    .dataframe tbody tr th {\n",
       "        vertical-align: top;\n",
       "    }\n",
       "\n",
       "    .dataframe thead th {\n",
       "        text-align: right;\n",
       "    }\n",
       "</style>\n",
       "<table border=\"1\" class=\"dataframe\">\n",
       "  <thead>\n",
       "    <tr style=\"text-align: right;\">\n",
       "      <th></th>\n",
       "      <th>updated_city</th>\n",
       "      <th>job_count</th>\n",
       "    </tr>\n",
       "  </thead>\n",
       "  <tbody>\n",
       "    <tr>\n",
       "      <th>0</th>\n",
       "      <td>Washington D.C.</td>\n",
       "      <td>2400</td>\n",
       "    </tr>\n",
       "    <tr>\n",
       "      <th>1</th>\n",
       "      <td>New York</td>\n",
       "      <td>1800</td>\n",
       "    </tr>\n",
       "    <tr>\n",
       "      <th>2</th>\n",
       "      <td>San Francisco</td>\n",
       "      <td>1374</td>\n",
       "    </tr>\n",
       "    <tr>\n",
       "      <th>3</th>\n",
       "      <td>Boston</td>\n",
       "      <td>1250</td>\n",
       "    </tr>\n",
       "    <tr>\n",
       "      <th>4</th>\n",
       "      <td>Seattle</td>\n",
       "      <td>1075</td>\n",
       "    </tr>\n",
       "    <tr>\n",
       "      <th>5</th>\n",
       "      <td>Atlanta</td>\n",
       "      <td>641</td>\n",
       "    </tr>\n",
       "    <tr>\n",
       "      <th>6</th>\n",
       "      <td>Denver</td>\n",
       "      <td>563</td>\n",
       "    </tr>\n",
       "    <tr>\n",
       "      <th>7</th>\n",
       "      <td>Austin</td>\n",
       "      <td>457</td>\n",
       "    </tr>\n",
       "    <tr>\n",
       "      <th>8</th>\n",
       "      <td>Raleigh</td>\n",
       "      <td>424</td>\n",
       "    </tr>\n",
       "    <tr>\n",
       "      <th>9</th>\n",
       "      <td>Columbus</td>\n",
       "      <td>299</td>\n",
       "    </tr>\n",
       "  </tbody>\n",
       "</table>\n",
       "</div>"
      ],
      "text/plain": [
       "      updated_city  job_count\n",
       "0  Washington D.C.       2400\n",
       "1         New York       1800\n",
       "2    San Francisco       1374\n",
       "3           Boston       1250\n",
       "4          Seattle       1075\n",
       "5          Atlanta        641\n",
       "6           Denver        563\n",
       "7           Austin        457\n",
       "8          Raleigh        424\n",
       "9         Columbus        299"
      ]
     },
     "execution_count": 89,
     "metadata": {},
     "output_type": "execute_result"
    }
   ],
   "source": [
    "citywise_job_count"
   ]
  },
  {
   "cell_type": "code",
   "execution_count": 90,
   "metadata": {},
   "outputs": [],
   "source": [
    "# merging citywise job count data and US crime data. Selecting only required columns.\n",
    "\n",
    "citywise_job_and_crime = pd.merge(citywise_job_count, us_crime_data, how='inner', left_on='updated_city', right_on='city')\n",
    "citywise_job_and_crime = citywise_job_and_crime[['city', 'job_count', 'total_pop', 'violent_per_100k', \n",
    "                                                 'homs_per_100k', 'rape_per_100k', 'rob_per_100k', 'agg_ass_per_100k']]"
   ]
  },
  {
   "cell_type": "code",
   "execution_count": 91,
   "metadata": {},
   "outputs": [
    {
     "data": {
      "text/html": [
       "<div>\n",
       "<style scoped>\n",
       "    .dataframe tbody tr th:only-of-type {\n",
       "        vertical-align: middle;\n",
       "    }\n",
       "\n",
       "    .dataframe tbody tr th {\n",
       "        vertical-align: top;\n",
       "    }\n",
       "\n",
       "    .dataframe thead th {\n",
       "        text-align: right;\n",
       "    }\n",
       "</style>\n",
       "<table border=\"1\" class=\"dataframe\">\n",
       "  <thead>\n",
       "    <tr style=\"text-align: right;\">\n",
       "      <th></th>\n",
       "      <th>city</th>\n",
       "      <th>job_count</th>\n",
       "      <th>total_pop</th>\n",
       "      <th>violent_per_100k</th>\n",
       "      <th>homs_per_100k</th>\n",
       "      <th>rape_per_100k</th>\n",
       "      <th>rob_per_100k</th>\n",
       "      <th>agg_ass_per_100k</th>\n",
       "    </tr>\n",
       "  </thead>\n",
       "  <tbody>\n",
       "    <tr>\n",
       "      <th>0</th>\n",
       "      <td>Washington D.C.</td>\n",
       "      <td>2400</td>\n",
       "      <td>672228</td>\n",
       "      <td>1202.568176</td>\n",
       "      <td>24.098966</td>\n",
       "      <td>73.486972</td>\n",
       "      <td>506.375813</td>\n",
       "      <td>598.606425</td>\n",
       "    </tr>\n",
       "    <tr>\n",
       "      <th>1</th>\n",
       "      <td>New York</td>\n",
       "      <td>1800</td>\n",
       "      <td>8550861</td>\n",
       "      <td>585.765574</td>\n",
       "      <td>4.116545</td>\n",
       "      <td>26.242971</td>\n",
       "      <td>198.178873</td>\n",
       "      <td>357.227185</td>\n",
       "    </tr>\n",
       "    <tr>\n",
       "      <th>2</th>\n",
       "      <td>San Francisco</td>\n",
       "      <td>1374</td>\n",
       "      <td>863782</td>\n",
       "      <td>776.816373</td>\n",
       "      <td>6.135807</td>\n",
       "      <td>39.824863</td>\n",
       "      <td>417.929524</td>\n",
       "      <td>312.926178</td>\n",
       "    </tr>\n",
       "    <tr>\n",
       "      <th>3</th>\n",
       "      <td>Boston</td>\n",
       "      <td>1250</td>\n",
       "      <td>665258</td>\n",
       "      <td>706.793455</td>\n",
       "      <td>5.712070</td>\n",
       "      <td>36.076229</td>\n",
       "      <td>233.142630</td>\n",
       "      <td>431.862526</td>\n",
       "    </tr>\n",
       "    <tr>\n",
       "      <th>4</th>\n",
       "      <td>Seattle</td>\n",
       "      <td>1075</td>\n",
       "      <td>683700</td>\n",
       "      <td>598.654381</td>\n",
       "      <td>3.364049</td>\n",
       "      <td>21.061869</td>\n",
       "      <td>224.074887</td>\n",
       "      <td>350.153576</td>\n",
       "    </tr>\n",
       "    <tr>\n",
       "      <th>5</th>\n",
       "      <td>Atlanta</td>\n",
       "      <td>641</td>\n",
       "      <td>464710</td>\n",
       "      <td>1119.622991</td>\n",
       "      <td>20.227669</td>\n",
       "      <td>36.581954</td>\n",
       "      <td>429.299993</td>\n",
       "      <td>633.513374</td>\n",
       "    </tr>\n",
       "    <tr>\n",
       "      <th>6</th>\n",
       "      <td>Denver</td>\n",
       "      <td>563</td>\n",
       "      <td>682418</td>\n",
       "      <td>673.927124</td>\n",
       "      <td>7.766501</td>\n",
       "      <td>80.302688</td>\n",
       "      <td>180.241436</td>\n",
       "      <td>405.616499</td>\n",
       "    </tr>\n",
       "    <tr>\n",
       "      <th>7</th>\n",
       "      <td>Austin</td>\n",
       "      <td>457</td>\n",
       "      <td>938728</td>\n",
       "      <td>372.525375</td>\n",
       "      <td>2.450124</td>\n",
       "      <td>51.878712</td>\n",
       "      <td>98.963704</td>\n",
       "      <td>219.232834</td>\n",
       "    </tr>\n",
       "    <tr>\n",
       "      <th>8</th>\n",
       "      <td>Raleigh</td>\n",
       "      <td>424</td>\n",
       "      <td>438363</td>\n",
       "      <td>382.331538</td>\n",
       "      <td>3.878065</td>\n",
       "      <td>24.637116</td>\n",
       "      <td>154.666338</td>\n",
       "      <td>199.150020</td>\n",
       "    </tr>\n",
       "    <tr>\n",
       "      <th>9</th>\n",
       "      <td>Columbus</td>\n",
       "      <td>299</td>\n",
       "      <td>847745</td>\n",
       "      <td>546.272759</td>\n",
       "      <td>9.082920</td>\n",
       "      <td>95.075760</td>\n",
       "      <td>264.230400</td>\n",
       "      <td>177.883680</td>\n",
       "    </tr>\n",
       "  </tbody>\n",
       "</table>\n",
       "</div>"
      ],
      "text/plain": [
       "              city  job_count  total_pop  violent_per_100k  homs_per_100k  \\\n",
       "0  Washington D.C.       2400     672228       1202.568176      24.098966   \n",
       "1         New York       1800    8550861        585.765574       4.116545   \n",
       "2    San Francisco       1374     863782        776.816373       6.135807   \n",
       "3           Boston       1250     665258        706.793455       5.712070   \n",
       "4          Seattle       1075     683700        598.654381       3.364049   \n",
       "5          Atlanta        641     464710       1119.622991      20.227669   \n",
       "6           Denver        563     682418        673.927124       7.766501   \n",
       "7           Austin        457     938728        372.525375       2.450124   \n",
       "8          Raleigh        424     438363        382.331538       3.878065   \n",
       "9         Columbus        299     847745        546.272759       9.082920   \n",
       "\n",
       "   rape_per_100k  rob_per_100k  agg_ass_per_100k  \n",
       "0      73.486972    506.375813        598.606425  \n",
       "1      26.242971    198.178873        357.227185  \n",
       "2      39.824863    417.929524        312.926178  \n",
       "3      36.076229    233.142630        431.862526  \n",
       "4      21.061869    224.074887        350.153576  \n",
       "5      36.581954    429.299993        633.513374  \n",
       "6      80.302688    180.241436        405.616499  \n",
       "7      51.878712     98.963704        219.232834  \n",
       "8      24.637116    154.666338        199.150020  \n",
       "9      95.075760    264.230400        177.883680  "
      ]
     },
     "execution_count": 91,
     "metadata": {},
     "output_type": "execute_result"
    }
   ],
   "source": [
    "citywise_job_and_crime"
   ]
  },
  {
   "cell_type": "code",
   "execution_count": 96,
   "metadata": {},
   "outputs": [
    {
     "data": {
      "application/vnd.plotly.v1+json": {
       "config": {
        "linkText": "Export to plot.ly",
        "plotlyServerURL": "https://plot.ly",
        "showLink": false
       },
       "data": [
        {
         "marker": {
          "color": "rgb(95,158,160)",
          "line": {
           "color": "rgb(0,0,0)"
          }
         },
         "name": "Data Jobs Per City",
         "type": "bar",
         "width": 0.5,
         "x": [
          "Washington D.C.",
          "New York",
          "San Francisco",
          "Boston",
          "Seattle",
          "Atlanta",
          "Denver",
          "Austin",
          "Raleigh",
          "Columbus"
         ],
         "y": [
          2400,
          1800,
          1374,
          1250,
          1075,
          641,
          563,
          457,
          424,
          299
         ]
        },
        {
         "line": {
          "color": "rgb(255,0,255)",
          "width": 3
         },
         "name": "homs_sum_per_capita",
         "type": "scatter",
         "x": [
          "Washington D.C.",
          "New York",
          "San Francisco",
          "Boston",
          "Seattle",
          "Atlanta",
          "Denver",
          "Austin",
          "Raleigh",
          "Columbus"
         ],
         "y": [
          24.09896642,
          4.116544521000001,
          6.135807413999999,
          5.712069603,
          3.3640485589999995,
          20.22766887,
          7.766500884,
          2.450123998,
          3.878064526,
          9.082919982
         ]
        },
        {
         "line": {
          "color": "rgb(0,255,255)",
          "width": 3
         },
         "name": "rape_sum_per_capita",
         "type": "scatter",
         "x": [
          "Washington D.C.",
          "New York",
          "San Francisco",
          "Boston",
          "Seattle",
          "Atlanta",
          "Denver",
          "Austin",
          "Raleigh",
          "Columbus"
         ],
         "y": [
          73.48697168,
          26.24297132,
          39.82486322,
          36.07622907,
          21.06186924,
          36.58195434,
          80.30268838,
          51.87871247,
          24.63711581,
          95.07575981
         ]
        },
        {
         "line": {
          "color": "rgb(124,252,0)",
          "width": 3
         },
         "name": "rob_sum_per_capita",
         "type": "scatter",
         "x": [
          "Washington D.C.",
          "New York",
          "San Francisco",
          "Boston",
          "Seattle",
          "Atlanta",
          "Denver",
          "Austin",
          "Raleigh",
          "Columbus"
         ],
         "y": [
          506.375813,
          198.17887340000001,
          417.92952389999994,
          233.1426304,
          224.07488659999999,
          429.29999349999997,
          180.2414356,
          98.96370408,
          154.66633819999998,
          264.23039950000003
         ]
        },
        {
         "line": {
          "color": "rgb(230,230,250)",
          "width": 3
         },
         "name": "agg_ass_sum_per_capita",
         "type": "scatter",
         "x": [
          "Washington D.C.",
          "New York",
          "San Francisco",
          "Boston",
          "Seattle",
          "Atlanta",
          "Denver",
          "Austin",
          "Raleigh",
          "Columbus"
         ],
         "y": [
          598.6064252,
          357.2271845,
          312.9261781,
          431.8625255,
          350.15357610000007,
          633.5133739,
          405.61649900000003,
          219.23283419999999,
          199.1500195,
          177.8836796
         ]
        },
        {
         "line": {
          "color": "rgb(0,191,255)",
          "width": 3
         },
         "name": "violent_crime_per_capita",
         "type": "scatter",
         "x": [
          "Washington D.C.",
          "New York",
          "San Francisco",
          "Boston",
          "Seattle",
          "Atlanta",
          "Denver",
          "Austin",
          "Raleigh",
          "Columbus"
         ],
         "y": [
          1202.568176,
          585.7655738,
          776.8163726,
          706.7934546,
          598.6543806,
          1119.622991,
          673.9271238,
          372.5253748,
          382.33153799999997,
          546.2727589
         ]
        }
       ],
       "layout": {
        "autosize": true,
        "height": 600,
        "legend": {
         "orientation": "v"
        },
        "paper_bgcolor": "rgba(0,0,0,0)",
        "plot_bgcolor": "rgba(0,0,0)",
        "showlegend": true,
        "template": {
         "data": {
          "bar": [
           {
            "error_x": {
             "color": "#2a3f5f"
            },
            "error_y": {
             "color": "#2a3f5f"
            },
            "marker": {
             "line": {
              "color": "#E5ECF6",
              "width": 0.5
             }
            },
            "type": "bar"
           }
          ],
          "barpolar": [
           {
            "marker": {
             "line": {
              "color": "#E5ECF6",
              "width": 0.5
             }
            },
            "type": "barpolar"
           }
          ],
          "carpet": [
           {
            "aaxis": {
             "endlinecolor": "#2a3f5f",
             "gridcolor": "white",
             "linecolor": "white",
             "minorgridcolor": "white",
             "startlinecolor": "#2a3f5f"
            },
            "baxis": {
             "endlinecolor": "#2a3f5f",
             "gridcolor": "white",
             "linecolor": "white",
             "minorgridcolor": "white",
             "startlinecolor": "#2a3f5f"
            },
            "type": "carpet"
           }
          ],
          "choropleth": [
           {
            "colorbar": {
             "outlinewidth": 0,
             "ticks": ""
            },
            "type": "choropleth"
           }
          ],
          "contour": [
           {
            "colorbar": {
             "outlinewidth": 0,
             "ticks": ""
            },
            "colorscale": [
             [
              0,
              "#0d0887"
             ],
             [
              0.1111111111111111,
              "#46039f"
             ],
             [
              0.2222222222222222,
              "#7201a8"
             ],
             [
              0.3333333333333333,
              "#9c179e"
             ],
             [
              0.4444444444444444,
              "#bd3786"
             ],
             [
              0.5555555555555556,
              "#d8576b"
             ],
             [
              0.6666666666666666,
              "#ed7953"
             ],
             [
              0.7777777777777778,
              "#fb9f3a"
             ],
             [
              0.8888888888888888,
              "#fdca26"
             ],
             [
              1,
              "#f0f921"
             ]
            ],
            "type": "contour"
           }
          ],
          "contourcarpet": [
           {
            "colorbar": {
             "outlinewidth": 0,
             "ticks": ""
            },
            "type": "contourcarpet"
           }
          ],
          "heatmap": [
           {
            "colorbar": {
             "outlinewidth": 0,
             "ticks": ""
            },
            "colorscale": [
             [
              0,
              "#0d0887"
             ],
             [
              0.1111111111111111,
              "#46039f"
             ],
             [
              0.2222222222222222,
              "#7201a8"
             ],
             [
              0.3333333333333333,
              "#9c179e"
             ],
             [
              0.4444444444444444,
              "#bd3786"
             ],
             [
              0.5555555555555556,
              "#d8576b"
             ],
             [
              0.6666666666666666,
              "#ed7953"
             ],
             [
              0.7777777777777778,
              "#fb9f3a"
             ],
             [
              0.8888888888888888,
              "#fdca26"
             ],
             [
              1,
              "#f0f921"
             ]
            ],
            "type": "heatmap"
           }
          ],
          "heatmapgl": [
           {
            "colorbar": {
             "outlinewidth": 0,
             "ticks": ""
            },
            "colorscale": [
             [
              0,
              "#0d0887"
             ],
             [
              0.1111111111111111,
              "#46039f"
             ],
             [
              0.2222222222222222,
              "#7201a8"
             ],
             [
              0.3333333333333333,
              "#9c179e"
             ],
             [
              0.4444444444444444,
              "#bd3786"
             ],
             [
              0.5555555555555556,
              "#d8576b"
             ],
             [
              0.6666666666666666,
              "#ed7953"
             ],
             [
              0.7777777777777778,
              "#fb9f3a"
             ],
             [
              0.8888888888888888,
              "#fdca26"
             ],
             [
              1,
              "#f0f921"
             ]
            ],
            "type": "heatmapgl"
           }
          ],
          "histogram": [
           {
            "marker": {
             "colorbar": {
              "outlinewidth": 0,
              "ticks": ""
             }
            },
            "type": "histogram"
           }
          ],
          "histogram2d": [
           {
            "colorbar": {
             "outlinewidth": 0,
             "ticks": ""
            },
            "colorscale": [
             [
              0,
              "#0d0887"
             ],
             [
              0.1111111111111111,
              "#46039f"
             ],
             [
              0.2222222222222222,
              "#7201a8"
             ],
             [
              0.3333333333333333,
              "#9c179e"
             ],
             [
              0.4444444444444444,
              "#bd3786"
             ],
             [
              0.5555555555555556,
              "#d8576b"
             ],
             [
              0.6666666666666666,
              "#ed7953"
             ],
             [
              0.7777777777777778,
              "#fb9f3a"
             ],
             [
              0.8888888888888888,
              "#fdca26"
             ],
             [
              1,
              "#f0f921"
             ]
            ],
            "type": "histogram2d"
           }
          ],
          "histogram2dcontour": [
           {
            "colorbar": {
             "outlinewidth": 0,
             "ticks": ""
            },
            "colorscale": [
             [
              0,
              "#0d0887"
             ],
             [
              0.1111111111111111,
              "#46039f"
             ],
             [
              0.2222222222222222,
              "#7201a8"
             ],
             [
              0.3333333333333333,
              "#9c179e"
             ],
             [
              0.4444444444444444,
              "#bd3786"
             ],
             [
              0.5555555555555556,
              "#d8576b"
             ],
             [
              0.6666666666666666,
              "#ed7953"
             ],
             [
              0.7777777777777778,
              "#fb9f3a"
             ],
             [
              0.8888888888888888,
              "#fdca26"
             ],
             [
              1,
              "#f0f921"
             ]
            ],
            "type": "histogram2dcontour"
           }
          ],
          "mesh3d": [
           {
            "colorbar": {
             "outlinewidth": 0,
             "ticks": ""
            },
            "type": "mesh3d"
           }
          ],
          "parcoords": [
           {
            "line": {
             "colorbar": {
              "outlinewidth": 0,
              "ticks": ""
             }
            },
            "type": "parcoords"
           }
          ],
          "pie": [
           {
            "automargin": true,
            "type": "pie"
           }
          ],
          "scatter": [
           {
            "marker": {
             "colorbar": {
              "outlinewidth": 0,
              "ticks": ""
             }
            },
            "type": "scatter"
           }
          ],
          "scatter3d": [
           {
            "line": {
             "colorbar": {
              "outlinewidth": 0,
              "ticks": ""
             }
            },
            "marker": {
             "colorbar": {
              "outlinewidth": 0,
              "ticks": ""
             }
            },
            "type": "scatter3d"
           }
          ],
          "scattercarpet": [
           {
            "marker": {
             "colorbar": {
              "outlinewidth": 0,
              "ticks": ""
             }
            },
            "type": "scattercarpet"
           }
          ],
          "scattergeo": [
           {
            "marker": {
             "colorbar": {
              "outlinewidth": 0,
              "ticks": ""
             }
            },
            "type": "scattergeo"
           }
          ],
          "scattergl": [
           {
            "marker": {
             "colorbar": {
              "outlinewidth": 0,
              "ticks": ""
             }
            },
            "type": "scattergl"
           }
          ],
          "scattermapbox": [
           {
            "marker": {
             "colorbar": {
              "outlinewidth": 0,
              "ticks": ""
             }
            },
            "type": "scattermapbox"
           }
          ],
          "scatterpolar": [
           {
            "marker": {
             "colorbar": {
              "outlinewidth": 0,
              "ticks": ""
             }
            },
            "type": "scatterpolar"
           }
          ],
          "scatterpolargl": [
           {
            "marker": {
             "colorbar": {
              "outlinewidth": 0,
              "ticks": ""
             }
            },
            "type": "scatterpolargl"
           }
          ],
          "scatterternary": [
           {
            "marker": {
             "colorbar": {
              "outlinewidth": 0,
              "ticks": ""
             }
            },
            "type": "scatterternary"
           }
          ],
          "surface": [
           {
            "colorbar": {
             "outlinewidth": 0,
             "ticks": ""
            },
            "colorscale": [
             [
              0,
              "#0d0887"
             ],
             [
              0.1111111111111111,
              "#46039f"
             ],
             [
              0.2222222222222222,
              "#7201a8"
             ],
             [
              0.3333333333333333,
              "#9c179e"
             ],
             [
              0.4444444444444444,
              "#bd3786"
             ],
             [
              0.5555555555555556,
              "#d8576b"
             ],
             [
              0.6666666666666666,
              "#ed7953"
             ],
             [
              0.7777777777777778,
              "#fb9f3a"
             ],
             [
              0.8888888888888888,
              "#fdca26"
             ],
             [
              1,
              "#f0f921"
             ]
            ],
            "type": "surface"
           }
          ],
          "table": [
           {
            "cells": {
             "fill": {
              "color": "#EBF0F8"
             },
             "line": {
              "color": "white"
             }
            },
            "header": {
             "fill": {
              "color": "#C8D4E3"
             },
             "line": {
              "color": "white"
             }
            },
            "type": "table"
           }
          ]
         },
         "layout": {
          "annotationdefaults": {
           "arrowcolor": "#2a3f5f",
           "arrowhead": 0,
           "arrowwidth": 1
          },
          "coloraxis": {
           "colorbar": {
            "outlinewidth": 0,
            "ticks": ""
           }
          },
          "colorscale": {
           "diverging": [
            [
             0,
             "#8e0152"
            ],
            [
             0.1,
             "#c51b7d"
            ],
            [
             0.2,
             "#de77ae"
            ],
            [
             0.3,
             "#f1b6da"
            ],
            [
             0.4,
             "#fde0ef"
            ],
            [
             0.5,
             "#f7f7f7"
            ],
            [
             0.6,
             "#e6f5d0"
            ],
            [
             0.7,
             "#b8e186"
            ],
            [
             0.8,
             "#7fbc41"
            ],
            [
             0.9,
             "#4d9221"
            ],
            [
             1,
             "#276419"
            ]
           ],
           "sequential": [
            [
             0,
             "#0d0887"
            ],
            [
             0.1111111111111111,
             "#46039f"
            ],
            [
             0.2222222222222222,
             "#7201a8"
            ],
            [
             0.3333333333333333,
             "#9c179e"
            ],
            [
             0.4444444444444444,
             "#bd3786"
            ],
            [
             0.5555555555555556,
             "#d8576b"
            ],
            [
             0.6666666666666666,
             "#ed7953"
            ],
            [
             0.7777777777777778,
             "#fb9f3a"
            ],
            [
             0.8888888888888888,
             "#fdca26"
            ],
            [
             1,
             "#f0f921"
            ]
           ],
           "sequentialminus": [
            [
             0,
             "#0d0887"
            ],
            [
             0.1111111111111111,
             "#46039f"
            ],
            [
             0.2222222222222222,
             "#7201a8"
            ],
            [
             0.3333333333333333,
             "#9c179e"
            ],
            [
             0.4444444444444444,
             "#bd3786"
            ],
            [
             0.5555555555555556,
             "#d8576b"
            ],
            [
             0.6666666666666666,
             "#ed7953"
            ],
            [
             0.7777777777777778,
             "#fb9f3a"
            ],
            [
             0.8888888888888888,
             "#fdca26"
            ],
            [
             1,
             "#f0f921"
            ]
           ]
          },
          "colorway": [
           "#636efa",
           "#EF553B",
           "#00cc96",
           "#ab63fa",
           "#FFA15A",
           "#19d3f3",
           "#FF6692",
           "#B6E880",
           "#FF97FF",
           "#FECB52"
          ],
          "font": {
           "color": "#2a3f5f"
          },
          "geo": {
           "bgcolor": "white",
           "lakecolor": "white",
           "landcolor": "#E5ECF6",
           "showlakes": true,
           "showland": true,
           "subunitcolor": "white"
          },
          "hoverlabel": {
           "align": "left"
          },
          "hovermode": "closest",
          "mapbox": {
           "style": "light"
          },
          "paper_bgcolor": "white",
          "plot_bgcolor": "#E5ECF6",
          "polar": {
           "angularaxis": {
            "gridcolor": "white",
            "linecolor": "white",
            "ticks": ""
           },
           "bgcolor": "#E5ECF6",
           "radialaxis": {
            "gridcolor": "white",
            "linecolor": "white",
            "ticks": ""
           }
          },
          "scene": {
           "xaxis": {
            "backgroundcolor": "#E5ECF6",
            "gridcolor": "white",
            "gridwidth": 2,
            "linecolor": "white",
            "showbackground": true,
            "ticks": "",
            "zerolinecolor": "white"
           },
           "yaxis": {
            "backgroundcolor": "#E5ECF6",
            "gridcolor": "white",
            "gridwidth": 2,
            "linecolor": "white",
            "showbackground": true,
            "ticks": "",
            "zerolinecolor": "white"
           },
           "zaxis": {
            "backgroundcolor": "#E5ECF6",
            "gridcolor": "white",
            "gridwidth": 2,
            "linecolor": "white",
            "showbackground": true,
            "ticks": "",
            "zerolinecolor": "white"
           }
          },
          "shapedefaults": {
           "line": {
            "color": "#2a3f5f"
           }
          },
          "ternary": {
           "aaxis": {
            "gridcolor": "white",
            "linecolor": "white",
            "ticks": ""
           },
           "baxis": {
            "gridcolor": "white",
            "linecolor": "white",
            "ticks": ""
           },
           "bgcolor": "#E5ECF6",
           "caxis": {
            "gridcolor": "white",
            "linecolor": "white",
            "ticks": ""
           }
          },
          "title": {
           "x": 0.05
          },
          "xaxis": {
           "automargin": true,
           "gridcolor": "white",
           "linecolor": "white",
           "ticks": "",
           "title": {
            "standoff": 15
           },
           "zerolinecolor": "white",
           "zerolinewidth": 2
          },
          "yaxis": {
           "automargin": true,
           "gridcolor": "white",
           "linecolor": "white",
           "ticks": "",
           "title": {
            "standoff": 15
           },
           "zerolinecolor": "white",
           "zerolinewidth": 2
          }
         }
        },
        "title": {
         "text": "<b>Number of Data Jobs vs Per Capita City Crime Rate</b>"
        },
        "width": 950,
        "xaxis": {
         "showgrid": false
        },
        "yaxis": {
         "autorange": true,
         "showgrid": true,
         "showline": false,
         "showticklabels": true,
         "ticks": "",
         "title": {
          "text": "Number of Data Jobs and Per Capita Crime"
         },
         "zeroline": false
        }
       }
      },
      "text/html": [
       "<div>\n",
       "        \n",
       "        \n",
       "            <div id=\"972eccff-71e0-4efa-8199-84affc687820\" class=\"plotly-graph-div\" style=\"height:600px; width:950px;\"></div>\n",
       "            <script type=\"text/javascript\">\n",
       "                require([\"plotly\"], function(Plotly) {\n",
       "                    window.PLOTLYENV=window.PLOTLYENV || {};\n",
       "                    \n",
       "                if (document.getElementById(\"972eccff-71e0-4efa-8199-84affc687820\")) {\n",
       "                    Plotly.newPlot(\n",
       "                        '972eccff-71e0-4efa-8199-84affc687820',\n",
       "                        [{\"marker\": {\"color\": \"rgb(95,158,160)\", \"line\": {\"color\": \"rgb(0,0,0)\"}}, \"name\": \"Data Jobs Per City\", \"type\": \"bar\", \"width\": 0.5, \"x\": [\"Washington D.C.\", \"New York\", \"San Francisco\", \"Boston\", \"Seattle\", \"Atlanta\", \"Denver\", \"Austin\", \"Raleigh\", \"Columbus\"], \"y\": [2400, 1800, 1374, 1250, 1075, 641, 563, 457, 424, 299]}, {\"line\": {\"color\": \"rgb(255,0,255)\", \"width\": 3}, \"name\": \"homs_sum_per_capita\", \"type\": \"scatter\", \"x\": [\"Washington D.C.\", \"New York\", \"San Francisco\", \"Boston\", \"Seattle\", \"Atlanta\", \"Denver\", \"Austin\", \"Raleigh\", \"Columbus\"], \"y\": [24.09896642, 4.116544521000001, 6.135807413999999, 5.712069603, 3.3640485589999995, 20.22766887, 7.766500884, 2.450123998, 3.878064526, 9.082919982]}, {\"line\": {\"color\": \"rgb(0,255,255)\", \"width\": 3}, \"name\": \"rape_sum_per_capita\", \"type\": \"scatter\", \"x\": [\"Washington D.C.\", \"New York\", \"San Francisco\", \"Boston\", \"Seattle\", \"Atlanta\", \"Denver\", \"Austin\", \"Raleigh\", \"Columbus\"], \"y\": [73.48697168, 26.24297132, 39.82486322, 36.07622907, 21.06186924, 36.58195434, 80.30268838, 51.87871247, 24.63711581, 95.07575981]}, {\"line\": {\"color\": \"rgb(124,252,0)\", \"width\": 3}, \"name\": \"rob_sum_per_capita\", \"type\": \"scatter\", \"x\": [\"Washington D.C.\", \"New York\", \"San Francisco\", \"Boston\", \"Seattle\", \"Atlanta\", \"Denver\", \"Austin\", \"Raleigh\", \"Columbus\"], \"y\": [506.375813, 198.17887340000001, 417.92952389999994, 233.1426304, 224.07488659999999, 429.29999349999997, 180.2414356, 98.96370408, 154.66633819999998, 264.23039950000003]}, {\"line\": {\"color\": \"rgb(230,230,250)\", \"width\": 3}, \"name\": \"agg_ass_sum_per_capita\", \"type\": \"scatter\", \"x\": [\"Washington D.C.\", \"New York\", \"San Francisco\", \"Boston\", \"Seattle\", \"Atlanta\", \"Denver\", \"Austin\", \"Raleigh\", \"Columbus\"], \"y\": [598.6064252, 357.2271845, 312.9261781, 431.8625255, 350.15357610000007, 633.5133739, 405.61649900000003, 219.23283419999999, 199.1500195, 177.8836796]}, {\"line\": {\"color\": \"rgb(0,191,255)\", \"width\": 3}, \"name\": \"violent_crime_per_capita\", \"type\": \"scatter\", \"x\": [\"Washington D.C.\", \"New York\", \"San Francisco\", \"Boston\", \"Seattle\", \"Atlanta\", \"Denver\", \"Austin\", \"Raleigh\", \"Columbus\"], \"y\": [1202.568176, 585.7655738, 776.8163726, 706.7934546, 598.6543806, 1119.622991, 673.9271238, 372.5253748, 382.33153799999997, 546.2727589]}],\n",
       "                        {\"autosize\": true, \"height\": 600, \"legend\": {\"orientation\": \"v\"}, \"paper_bgcolor\": \"rgba(0,0,0,0)\", \"plot_bgcolor\": \"rgba(0,0,0)\", \"showlegend\": true, \"template\": {\"data\": {\"bar\": [{\"error_x\": {\"color\": \"#2a3f5f\"}, \"error_y\": {\"color\": \"#2a3f5f\"}, \"marker\": {\"line\": {\"color\": \"#E5ECF6\", \"width\": 0.5}}, \"type\": \"bar\"}], \"barpolar\": [{\"marker\": {\"line\": {\"color\": \"#E5ECF6\", \"width\": 0.5}}, \"type\": \"barpolar\"}], \"carpet\": [{\"aaxis\": {\"endlinecolor\": \"#2a3f5f\", \"gridcolor\": \"white\", \"linecolor\": \"white\", \"minorgridcolor\": \"white\", \"startlinecolor\": \"#2a3f5f\"}, \"baxis\": {\"endlinecolor\": \"#2a3f5f\", \"gridcolor\": \"white\", \"linecolor\": \"white\", \"minorgridcolor\": \"white\", \"startlinecolor\": \"#2a3f5f\"}, \"type\": \"carpet\"}], \"choropleth\": [{\"colorbar\": {\"outlinewidth\": 0, \"ticks\": \"\"}, \"type\": \"choropleth\"}], \"contour\": [{\"colorbar\": {\"outlinewidth\": 0, \"ticks\": \"\"}, \"colorscale\": [[0.0, \"#0d0887\"], [0.1111111111111111, \"#46039f\"], [0.2222222222222222, \"#7201a8\"], [0.3333333333333333, \"#9c179e\"], [0.4444444444444444, \"#bd3786\"], [0.5555555555555556, \"#d8576b\"], [0.6666666666666666, \"#ed7953\"], [0.7777777777777778, \"#fb9f3a\"], [0.8888888888888888, \"#fdca26\"], [1.0, \"#f0f921\"]], \"type\": \"contour\"}], \"contourcarpet\": [{\"colorbar\": {\"outlinewidth\": 0, \"ticks\": \"\"}, \"type\": \"contourcarpet\"}], \"heatmap\": [{\"colorbar\": {\"outlinewidth\": 0, \"ticks\": \"\"}, \"colorscale\": [[0.0, \"#0d0887\"], [0.1111111111111111, \"#46039f\"], [0.2222222222222222, \"#7201a8\"], [0.3333333333333333, \"#9c179e\"], [0.4444444444444444, \"#bd3786\"], [0.5555555555555556, \"#d8576b\"], [0.6666666666666666, \"#ed7953\"], [0.7777777777777778, \"#fb9f3a\"], [0.8888888888888888, \"#fdca26\"], [1.0, \"#f0f921\"]], \"type\": \"heatmap\"}], \"heatmapgl\": [{\"colorbar\": {\"outlinewidth\": 0, \"ticks\": \"\"}, \"colorscale\": [[0.0, \"#0d0887\"], [0.1111111111111111, \"#46039f\"], [0.2222222222222222, \"#7201a8\"], [0.3333333333333333, \"#9c179e\"], [0.4444444444444444, \"#bd3786\"], [0.5555555555555556, \"#d8576b\"], [0.6666666666666666, \"#ed7953\"], [0.7777777777777778, \"#fb9f3a\"], [0.8888888888888888, \"#fdca26\"], [1.0, \"#f0f921\"]], \"type\": \"heatmapgl\"}], \"histogram\": [{\"marker\": {\"colorbar\": {\"outlinewidth\": 0, \"ticks\": \"\"}}, \"type\": \"histogram\"}], \"histogram2d\": [{\"colorbar\": {\"outlinewidth\": 0, \"ticks\": \"\"}, \"colorscale\": [[0.0, \"#0d0887\"], [0.1111111111111111, \"#46039f\"], [0.2222222222222222, \"#7201a8\"], [0.3333333333333333, \"#9c179e\"], [0.4444444444444444, \"#bd3786\"], [0.5555555555555556, \"#d8576b\"], [0.6666666666666666, \"#ed7953\"], [0.7777777777777778, \"#fb9f3a\"], [0.8888888888888888, \"#fdca26\"], [1.0, \"#f0f921\"]], \"type\": \"histogram2d\"}], \"histogram2dcontour\": [{\"colorbar\": {\"outlinewidth\": 0, \"ticks\": \"\"}, \"colorscale\": [[0.0, \"#0d0887\"], [0.1111111111111111, \"#46039f\"], [0.2222222222222222, \"#7201a8\"], [0.3333333333333333, \"#9c179e\"], [0.4444444444444444, \"#bd3786\"], [0.5555555555555556, \"#d8576b\"], [0.6666666666666666, \"#ed7953\"], [0.7777777777777778, \"#fb9f3a\"], [0.8888888888888888, \"#fdca26\"], [1.0, \"#f0f921\"]], \"type\": \"histogram2dcontour\"}], \"mesh3d\": [{\"colorbar\": {\"outlinewidth\": 0, \"ticks\": \"\"}, \"type\": \"mesh3d\"}], \"parcoords\": [{\"line\": {\"colorbar\": {\"outlinewidth\": 0, \"ticks\": \"\"}}, \"type\": \"parcoords\"}], \"pie\": [{\"automargin\": true, \"type\": \"pie\"}], \"scatter\": [{\"marker\": {\"colorbar\": {\"outlinewidth\": 0, \"ticks\": \"\"}}, \"type\": \"scatter\"}], \"scatter3d\": [{\"line\": {\"colorbar\": {\"outlinewidth\": 0, \"ticks\": \"\"}}, \"marker\": {\"colorbar\": {\"outlinewidth\": 0, \"ticks\": \"\"}}, \"type\": \"scatter3d\"}], \"scattercarpet\": [{\"marker\": {\"colorbar\": {\"outlinewidth\": 0, \"ticks\": \"\"}}, \"type\": \"scattercarpet\"}], \"scattergeo\": [{\"marker\": {\"colorbar\": {\"outlinewidth\": 0, \"ticks\": \"\"}}, \"type\": \"scattergeo\"}], \"scattergl\": [{\"marker\": {\"colorbar\": {\"outlinewidth\": 0, \"ticks\": \"\"}}, \"type\": \"scattergl\"}], \"scattermapbox\": [{\"marker\": {\"colorbar\": {\"outlinewidth\": 0, \"ticks\": \"\"}}, \"type\": \"scattermapbox\"}], \"scatterpolar\": [{\"marker\": {\"colorbar\": {\"outlinewidth\": 0, \"ticks\": \"\"}}, \"type\": \"scatterpolar\"}], \"scatterpolargl\": [{\"marker\": {\"colorbar\": {\"outlinewidth\": 0, \"ticks\": \"\"}}, \"type\": \"scatterpolargl\"}], \"scatterternary\": [{\"marker\": {\"colorbar\": {\"outlinewidth\": 0, \"ticks\": \"\"}}, \"type\": \"scatterternary\"}], \"surface\": [{\"colorbar\": {\"outlinewidth\": 0, \"ticks\": \"\"}, \"colorscale\": [[0.0, \"#0d0887\"], [0.1111111111111111, \"#46039f\"], [0.2222222222222222, \"#7201a8\"], [0.3333333333333333, \"#9c179e\"], [0.4444444444444444, \"#bd3786\"], [0.5555555555555556, \"#d8576b\"], [0.6666666666666666, \"#ed7953\"], [0.7777777777777778, \"#fb9f3a\"], [0.8888888888888888, \"#fdca26\"], [1.0, \"#f0f921\"]], \"type\": \"surface\"}], \"table\": [{\"cells\": {\"fill\": {\"color\": \"#EBF0F8\"}, \"line\": {\"color\": \"white\"}}, \"header\": {\"fill\": {\"color\": \"#C8D4E3\"}, \"line\": {\"color\": \"white\"}}, \"type\": \"table\"}]}, \"layout\": {\"annotationdefaults\": {\"arrowcolor\": \"#2a3f5f\", \"arrowhead\": 0, \"arrowwidth\": 1}, \"coloraxis\": {\"colorbar\": {\"outlinewidth\": 0, \"ticks\": \"\"}}, \"colorscale\": {\"diverging\": [[0, \"#8e0152\"], [0.1, \"#c51b7d\"], [0.2, \"#de77ae\"], [0.3, \"#f1b6da\"], [0.4, \"#fde0ef\"], [0.5, \"#f7f7f7\"], [0.6, \"#e6f5d0\"], [0.7, \"#b8e186\"], [0.8, \"#7fbc41\"], [0.9, \"#4d9221\"], [1, \"#276419\"]], \"sequential\": [[0.0, \"#0d0887\"], [0.1111111111111111, \"#46039f\"], [0.2222222222222222, \"#7201a8\"], [0.3333333333333333, \"#9c179e\"], [0.4444444444444444, \"#bd3786\"], [0.5555555555555556, \"#d8576b\"], [0.6666666666666666, \"#ed7953\"], [0.7777777777777778, \"#fb9f3a\"], [0.8888888888888888, \"#fdca26\"], [1.0, \"#f0f921\"]], \"sequentialminus\": [[0.0, \"#0d0887\"], [0.1111111111111111, \"#46039f\"], [0.2222222222222222, \"#7201a8\"], [0.3333333333333333, \"#9c179e\"], [0.4444444444444444, \"#bd3786\"], [0.5555555555555556, \"#d8576b\"], [0.6666666666666666, \"#ed7953\"], [0.7777777777777778, \"#fb9f3a\"], [0.8888888888888888, \"#fdca26\"], [1.0, \"#f0f921\"]]}, \"colorway\": [\"#636efa\", \"#EF553B\", \"#00cc96\", \"#ab63fa\", \"#FFA15A\", \"#19d3f3\", \"#FF6692\", \"#B6E880\", \"#FF97FF\", \"#FECB52\"], \"font\": {\"color\": \"#2a3f5f\"}, \"geo\": {\"bgcolor\": \"white\", \"lakecolor\": \"white\", \"landcolor\": \"#E5ECF6\", \"showlakes\": true, \"showland\": true, \"subunitcolor\": \"white\"}, \"hoverlabel\": {\"align\": \"left\"}, \"hovermode\": \"closest\", \"mapbox\": {\"style\": \"light\"}, \"paper_bgcolor\": \"white\", \"plot_bgcolor\": \"#E5ECF6\", \"polar\": {\"angularaxis\": {\"gridcolor\": \"white\", \"linecolor\": \"white\", \"ticks\": \"\"}, \"bgcolor\": \"#E5ECF6\", \"radialaxis\": {\"gridcolor\": \"white\", \"linecolor\": \"white\", \"ticks\": \"\"}}, \"scene\": {\"xaxis\": {\"backgroundcolor\": \"#E5ECF6\", \"gridcolor\": \"white\", \"gridwidth\": 2, \"linecolor\": \"white\", \"showbackground\": true, \"ticks\": \"\", \"zerolinecolor\": \"white\"}, \"yaxis\": {\"backgroundcolor\": \"#E5ECF6\", \"gridcolor\": \"white\", \"gridwidth\": 2, \"linecolor\": \"white\", \"showbackground\": true, \"ticks\": \"\", \"zerolinecolor\": \"white\"}, \"zaxis\": {\"backgroundcolor\": \"#E5ECF6\", \"gridcolor\": \"white\", \"gridwidth\": 2, \"linecolor\": \"white\", \"showbackground\": true, \"ticks\": \"\", \"zerolinecolor\": \"white\"}}, \"shapedefaults\": {\"line\": {\"color\": \"#2a3f5f\"}}, \"ternary\": {\"aaxis\": {\"gridcolor\": \"white\", \"linecolor\": \"white\", \"ticks\": \"\"}, \"baxis\": {\"gridcolor\": \"white\", \"linecolor\": \"white\", \"ticks\": \"\"}, \"bgcolor\": \"#E5ECF6\", \"caxis\": {\"gridcolor\": \"white\", \"linecolor\": \"white\", \"ticks\": \"\"}}, \"title\": {\"x\": 0.05}, \"xaxis\": {\"automargin\": true, \"gridcolor\": \"white\", \"linecolor\": \"white\", \"ticks\": \"\", \"title\": {\"standoff\": 15}, \"zerolinecolor\": \"white\", \"zerolinewidth\": 2}, \"yaxis\": {\"automargin\": true, \"gridcolor\": \"white\", \"linecolor\": \"white\", \"ticks\": \"\", \"title\": {\"standoff\": 15}, \"zerolinecolor\": \"white\", \"zerolinewidth\": 2}}}, \"title\": {\"text\": \"<b>Number of Data Jobs vs Per Capita City Crime Rate</b>\"}, \"width\": 950, \"xaxis\": {\"showgrid\": false}, \"yaxis\": {\"autorange\": true, \"showgrid\": true, \"showline\": false, \"showticklabels\": true, \"ticks\": \"\", \"title\": {\"text\": \"Number of Data Jobs and Per Capita Crime\"}, \"zeroline\": false}},\n",
       "                        {\"responsive\": true}\n",
       "                    ).then(function(){\n",
       "                            \n",
       "var gd = document.getElementById('972eccff-71e0-4efa-8199-84affc687820');\n",
       "var x = new MutationObserver(function (mutations, observer) {{\n",
       "        var display = window.getComputedStyle(gd).display;\n",
       "        if (!display || display === 'none') {{\n",
       "            console.log([gd, 'removed!']);\n",
       "            Plotly.purge(gd);\n",
       "            observer.disconnect();\n",
       "        }}\n",
       "}});\n",
       "\n",
       "// Listen for the removal of the full notebook cells\n",
       "var notebookContainer = gd.closest('#notebook-container');\n",
       "if (notebookContainer) {{\n",
       "    x.observe(notebookContainer, {childList: true});\n",
       "}}\n",
       "\n",
       "// Listen for the clearing of the current output cell\n",
       "var outputEl = gd.closest('.output');\n",
       "if (outputEl) {{\n",
       "    x.observe(outputEl, {childList: true});\n",
       "}}\n",
       "\n",
       "                        })\n",
       "                };\n",
       "                });\n",
       "            </script>\n",
       "        </div>"
      ]
     },
     "metadata": {},
     "output_type": "display_data"
    }
   ],
   "source": [
    "# visualizing City Crime Data vs Number of Data Jobs for the 10 cities \n",
    "\n",
    "trace1 = go.Bar(x=citywise_job_and_crime['city'],\n",
    "                  y=citywise_job_and_crime['job_count'],\n",
    "                  width=0.5,\n",
    "                  marker=dict(color='rgb(95,158,160)', line_color='rgb(0,0,0)'),\n",
    "                  name='Data Jobs Per City')\n",
    "\n",
    "trace2 = go.Scatter(x=citywise_job_and_crime['city'], \n",
    "                    y=citywise_job_and_crime['homs_per_100k'], \n",
    "                    line=dict(color='rgb(255,0,255)', width=3),\n",
    "                    name='homs_sum_per_capita')\n",
    "\n",
    "trace3 = go.Scatter(x=citywise_job_and_crime['city'],\n",
    "                  y=citywise_job_and_crime['rape_per_100k'], \n",
    "                  line=dict(color='rgb(0,255,255)', width=3),\n",
    "                  name='rape_sum_per_capita')\n",
    "\n",
    "trace4 = go.Scatter(x=citywise_job_and_crime['city'],\n",
    "                  y=citywise_job_and_crime['rob_per_100k'],\n",
    "                  line=dict(color='rgb(124,252,0)', width=3),\n",
    "                  name='rob_sum_per_capita')\n",
    "\n",
    "trace5 = go.Scatter(x=citywise_job_and_crime['city'],\n",
    "                  y=citywise_job_and_crime['agg_ass_per_100k'],\n",
    "                  line=dict(color='rgb(230,230,250)', width=3),\n",
    "                  name='agg_ass_sum_per_capita')\n",
    "\n",
    "trace6 = go.Scatter(x=citywise_job_and_crime['city'],\n",
    "                  y=citywise_job_and_crime['violent_per_100k'],\n",
    "                  line=dict(color='rgb(0,191,255)', width=3),\n",
    "                  name='violent_crime_per_capita')\n",
    "\n",
    "data = [trace1, trace2, trace3, trace4, trace5, trace6]\n",
    "\n",
    "layout = dict(title=\"<b>Number of Data Jobs vs Per Capita City Crime Rate</b>\",\n",
    "              showlegend=True,\n",
    "              legend_orientation=\"v\",\n",
    "              autosize=True,\n",
    "              width=950,\n",
    "              height=600,\n",
    "              xaxis=dict(showgrid=False),\n",
    "              yaxis=dict(title=\"Number of Data Jobs and Per Capita Crime\", \n",
    "                         showgrid=True, \n",
    "                         autorange=True,\n",
    "                         zeroline=False,\n",
    "                         showline=False,\n",
    "                         ticks='',\n",
    "                         showticklabels=True),\n",
    "              plot_bgcolor='rgba(0,0,0)',\n",
    "              paper_bgcolor='rgba(0,0,0,0)',\n",
    "          )\n",
    "\n",
    "fig=dict(data=data, layout=layout)\n",
    "\n",
    "iplot(fig)\n"
   ]
  },
  {
   "cell_type": "markdown",
   "metadata": {},
   "source": [
    "<hr>\n",
    "<h4 align=\"center\" style=\"color:black;\"> Analysis: Number of Data Jobs vs Per Capita City Crime Rate </h4>\n",
    "<h4 style=\"color:#666666;\">Source: Indeed API and Data.world(FBI Data)</h4>\n",
    "One of the more interesting observations from the graph is the amount of violent crime compared to data jobs. There is almost twice as much crime as there is data jobs listed in Atlanta. Conversely, the city with the lowest crime rate in proportion to the highest job count is New York City. The two most prevalent crimes other than violent crimes within the cities is aggravated assault and robbery.\n",
    "</hr>"
   ]
  },
  {
   "cell_type": "markdown",
   "metadata": {},
   "source": [
    "## Uploading output dataframes to SQL database on cloud server and reading the SQL tables back into the dataframes"
   ]
  },
  {
   "cell_type": "code",
   "execution_count": 95,
   "metadata": {},
   "outputs": [
    {
     "ename": "OperationalError",
     "evalue": "(pymysql.err.OperationalError) (2013, 'Lost connection to MySQL server during query')\n(Background on this error at: http://sqlalche.me/e/e3q8)",
     "output_type": "error",
     "traceback": [
      "\u001b[1;31m---------------------------------------------------------------------------\u001b[0m",
      "\u001b[1;31mOperationalError\u001b[0m                          Traceback (most recent call last)",
      "\u001b[1;32m~\\.virtualenvs\\project_data_jobs_market_analysis-XCFGNFT9\\lib\\site-packages\\sqlalchemy\\engine\\base.py\u001b[0m in \u001b[0;36m_wrap_pool_connect\u001b[1;34m(self, fn, connection)\u001b[0m\n\u001b[0;32m   2275\u001b[0m         \u001b[1;32mtry\u001b[0m\u001b[1;33m:\u001b[0m\u001b[1;33m\u001b[0m\u001b[1;33m\u001b[0m\u001b[0m\n\u001b[1;32m-> 2276\u001b[1;33m             \u001b[1;32mreturn\u001b[0m \u001b[0mfn\u001b[0m\u001b[1;33m(\u001b[0m\u001b[1;33m)\u001b[0m\u001b[1;33m\u001b[0m\u001b[1;33m\u001b[0m\u001b[0m\n\u001b[0m\u001b[0;32m   2277\u001b[0m         \u001b[1;32mexcept\u001b[0m \u001b[0mdialect\u001b[0m\u001b[1;33m.\u001b[0m\u001b[0mdbapi\u001b[0m\u001b[1;33m.\u001b[0m\u001b[0mError\u001b[0m \u001b[1;32mas\u001b[0m \u001b[0me\u001b[0m\u001b[1;33m:\u001b[0m\u001b[1;33m\u001b[0m\u001b[1;33m\u001b[0m\u001b[0m\n",
      "\u001b[1;32m~\\.virtualenvs\\project_data_jobs_market_analysis-XCFGNFT9\\lib\\site-packages\\sqlalchemy\\pool\\base.py\u001b[0m in \u001b[0;36mconnect\u001b[1;34m(self)\u001b[0m\n\u001b[0;32m    362\u001b[0m         \u001b[1;32mif\u001b[0m \u001b[1;32mnot\u001b[0m \u001b[0mself\u001b[0m\u001b[1;33m.\u001b[0m\u001b[0m_use_threadlocal\u001b[0m\u001b[1;33m:\u001b[0m\u001b[1;33m\u001b[0m\u001b[1;33m\u001b[0m\u001b[0m\n\u001b[1;32m--> 363\u001b[1;33m             \u001b[1;32mreturn\u001b[0m \u001b[0m_ConnectionFairy\u001b[0m\u001b[1;33m.\u001b[0m\u001b[0m_checkout\u001b[0m\u001b[1;33m(\u001b[0m\u001b[0mself\u001b[0m\u001b[1;33m)\u001b[0m\u001b[1;33m\u001b[0m\u001b[1;33m\u001b[0m\u001b[0m\n\u001b[0m\u001b[0;32m    364\u001b[0m \u001b[1;33m\u001b[0m\u001b[0m\n",
      "\u001b[1;32m~\\.virtualenvs\\project_data_jobs_market_analysis-XCFGNFT9\\lib\\site-packages\\sqlalchemy\\pool\\base.py\u001b[0m in \u001b[0;36m_checkout\u001b[1;34m(cls, pool, threadconns, fairy)\u001b[0m\n\u001b[0;32m    759\u001b[0m         \u001b[1;32mif\u001b[0m \u001b[1;32mnot\u001b[0m \u001b[0mfairy\u001b[0m\u001b[1;33m:\u001b[0m\u001b[1;33m\u001b[0m\u001b[1;33m\u001b[0m\u001b[0m\n\u001b[1;32m--> 760\u001b[1;33m             \u001b[0mfairy\u001b[0m \u001b[1;33m=\u001b[0m \u001b[0m_ConnectionRecord\u001b[0m\u001b[1;33m.\u001b[0m\u001b[0mcheckout\u001b[0m\u001b[1;33m(\u001b[0m\u001b[0mpool\u001b[0m\u001b[1;33m)\u001b[0m\u001b[1;33m\u001b[0m\u001b[1;33m\u001b[0m\u001b[0m\n\u001b[0m\u001b[0;32m    761\u001b[0m \u001b[1;33m\u001b[0m\u001b[0m\n",
      "\u001b[1;32m~\\.virtualenvs\\project_data_jobs_market_analysis-XCFGNFT9\\lib\\site-packages\\sqlalchemy\\pool\\base.py\u001b[0m in \u001b[0;36mcheckout\u001b[1;34m(cls, pool)\u001b[0m\n\u001b[0;32m    491\u001b[0m     \u001b[1;32mdef\u001b[0m \u001b[0mcheckout\u001b[0m\u001b[1;33m(\u001b[0m\u001b[0mcls\u001b[0m\u001b[1;33m,\u001b[0m \u001b[0mpool\u001b[0m\u001b[1;33m)\u001b[0m\u001b[1;33m:\u001b[0m\u001b[1;33m\u001b[0m\u001b[1;33m\u001b[0m\u001b[0m\n\u001b[1;32m--> 492\u001b[1;33m         \u001b[0mrec\u001b[0m \u001b[1;33m=\u001b[0m \u001b[0mpool\u001b[0m\u001b[1;33m.\u001b[0m\u001b[0m_do_get\u001b[0m\u001b[1;33m(\u001b[0m\u001b[1;33m)\u001b[0m\u001b[1;33m\u001b[0m\u001b[1;33m\u001b[0m\u001b[0m\n\u001b[0m\u001b[0;32m    493\u001b[0m         \u001b[1;32mtry\u001b[0m\u001b[1;33m:\u001b[0m\u001b[1;33m\u001b[0m\u001b[1;33m\u001b[0m\u001b[0m\n",
      "\u001b[1;32m~\\.virtualenvs\\project_data_jobs_market_analysis-XCFGNFT9\\lib\\site-packages\\sqlalchemy\\pool\\impl.py\u001b[0m in \u001b[0;36m_do_get\u001b[1;34m(self)\u001b[0m\n\u001b[0;32m    138\u001b[0m                 \u001b[1;32mwith\u001b[0m \u001b[0mutil\u001b[0m\u001b[1;33m.\u001b[0m\u001b[0msafe_reraise\u001b[0m\u001b[1;33m(\u001b[0m\u001b[1;33m)\u001b[0m\u001b[1;33m:\u001b[0m\u001b[1;33m\u001b[0m\u001b[1;33m\u001b[0m\u001b[0m\n\u001b[1;32m--> 139\u001b[1;33m                     \u001b[0mself\u001b[0m\u001b[1;33m.\u001b[0m\u001b[0m_dec_overflow\u001b[0m\u001b[1;33m(\u001b[0m\u001b[1;33m)\u001b[0m\u001b[1;33m\u001b[0m\u001b[1;33m\u001b[0m\u001b[0m\n\u001b[0m\u001b[0;32m    140\u001b[0m         \u001b[1;32melse\u001b[0m\u001b[1;33m:\u001b[0m\u001b[1;33m\u001b[0m\u001b[1;33m\u001b[0m\u001b[0m\n",
      "\u001b[1;32m~\\.virtualenvs\\project_data_jobs_market_analysis-XCFGNFT9\\lib\\site-packages\\sqlalchemy\\util\\langhelpers.py\u001b[0m in \u001b[0;36m__exit__\u001b[1;34m(self, type_, value, traceback)\u001b[0m\n\u001b[0;32m     67\u001b[0m             \u001b[1;32mif\u001b[0m \u001b[1;32mnot\u001b[0m \u001b[0mself\u001b[0m\u001b[1;33m.\u001b[0m\u001b[0mwarn_only\u001b[0m\u001b[1;33m:\u001b[0m\u001b[1;33m\u001b[0m\u001b[1;33m\u001b[0m\u001b[0m\n\u001b[1;32m---> 68\u001b[1;33m                 \u001b[0mcompat\u001b[0m\u001b[1;33m.\u001b[0m\u001b[0mreraise\u001b[0m\u001b[1;33m(\u001b[0m\u001b[0mexc_type\u001b[0m\u001b[1;33m,\u001b[0m \u001b[0mexc_value\u001b[0m\u001b[1;33m,\u001b[0m \u001b[0mexc_tb\u001b[0m\u001b[1;33m)\u001b[0m\u001b[1;33m\u001b[0m\u001b[1;33m\u001b[0m\u001b[0m\n\u001b[0m\u001b[0;32m     69\u001b[0m         \u001b[1;32melse\u001b[0m\u001b[1;33m:\u001b[0m\u001b[1;33m\u001b[0m\u001b[1;33m\u001b[0m\u001b[0m\n",
      "\u001b[1;32m~\\.virtualenvs\\project_data_jobs_market_analysis-XCFGNFT9\\lib\\site-packages\\sqlalchemy\\util\\compat.py\u001b[0m in \u001b[0;36mreraise\u001b[1;34m(tp, value, tb, cause)\u001b[0m\n\u001b[0;32m    152\u001b[0m             \u001b[1;32mraise\u001b[0m \u001b[0mvalue\u001b[0m\u001b[1;33m.\u001b[0m\u001b[0mwith_traceback\u001b[0m\u001b[1;33m(\u001b[0m\u001b[0mtb\u001b[0m\u001b[1;33m)\u001b[0m\u001b[1;33m\u001b[0m\u001b[1;33m\u001b[0m\u001b[0m\n\u001b[1;32m--> 153\u001b[1;33m         \u001b[1;32mraise\u001b[0m \u001b[0mvalue\u001b[0m\u001b[1;33m\u001b[0m\u001b[1;33m\u001b[0m\u001b[0m\n\u001b[0m\u001b[0;32m    154\u001b[0m \u001b[1;33m\u001b[0m\u001b[0m\n",
      "\u001b[1;32m~\\.virtualenvs\\project_data_jobs_market_analysis-XCFGNFT9\\lib\\site-packages\\sqlalchemy\\pool\\impl.py\u001b[0m in \u001b[0;36m_do_get\u001b[1;34m(self)\u001b[0m\n\u001b[0;32m    135\u001b[0m             \u001b[1;32mtry\u001b[0m\u001b[1;33m:\u001b[0m\u001b[1;33m\u001b[0m\u001b[1;33m\u001b[0m\u001b[0m\n\u001b[1;32m--> 136\u001b[1;33m                 \u001b[1;32mreturn\u001b[0m \u001b[0mself\u001b[0m\u001b[1;33m.\u001b[0m\u001b[0m_create_connection\u001b[0m\u001b[1;33m(\u001b[0m\u001b[1;33m)\u001b[0m\u001b[1;33m\u001b[0m\u001b[1;33m\u001b[0m\u001b[0m\n\u001b[0m\u001b[0;32m    137\u001b[0m             \u001b[1;32mexcept\u001b[0m\u001b[1;33m:\u001b[0m\u001b[1;33m\u001b[0m\u001b[1;33m\u001b[0m\u001b[0m\n",
      "\u001b[1;32m~\\.virtualenvs\\project_data_jobs_market_analysis-XCFGNFT9\\lib\\site-packages\\sqlalchemy\\pool\\base.py\u001b[0m in \u001b[0;36m_create_connection\u001b[1;34m(self)\u001b[0m\n\u001b[0;32m    307\u001b[0m \u001b[1;33m\u001b[0m\u001b[0m\n\u001b[1;32m--> 308\u001b[1;33m         \u001b[1;32mreturn\u001b[0m \u001b[0m_ConnectionRecord\u001b[0m\u001b[1;33m(\u001b[0m\u001b[0mself\u001b[0m\u001b[1;33m)\u001b[0m\u001b[1;33m\u001b[0m\u001b[1;33m\u001b[0m\u001b[0m\n\u001b[0m\u001b[0;32m    309\u001b[0m \u001b[1;33m\u001b[0m\u001b[0m\n",
      "\u001b[1;32m~\\.virtualenvs\\project_data_jobs_market_analysis-XCFGNFT9\\lib\\site-packages\\sqlalchemy\\pool\\base.py\u001b[0m in \u001b[0;36m__init__\u001b[1;34m(self, pool, connect)\u001b[0m\n\u001b[0;32m    436\u001b[0m         \u001b[1;32mif\u001b[0m \u001b[0mconnect\u001b[0m\u001b[1;33m:\u001b[0m\u001b[1;33m\u001b[0m\u001b[1;33m\u001b[0m\u001b[0m\n\u001b[1;32m--> 437\u001b[1;33m             \u001b[0mself\u001b[0m\u001b[1;33m.\u001b[0m\u001b[0m__connect\u001b[0m\u001b[1;33m(\u001b[0m\u001b[0mfirst_connect_check\u001b[0m\u001b[1;33m=\u001b[0m\u001b[1;32mTrue\u001b[0m\u001b[1;33m)\u001b[0m\u001b[1;33m\u001b[0m\u001b[1;33m\u001b[0m\u001b[0m\n\u001b[0m\u001b[0;32m    438\u001b[0m         \u001b[0mself\u001b[0m\u001b[1;33m.\u001b[0m\u001b[0mfinalize_callback\u001b[0m \u001b[1;33m=\u001b[0m \u001b[0mdeque\u001b[0m\u001b[1;33m(\u001b[0m\u001b[1;33m)\u001b[0m\u001b[1;33m\u001b[0m\u001b[1;33m\u001b[0m\u001b[0m\n",
      "\u001b[1;32m~\\.virtualenvs\\project_data_jobs_market_analysis-XCFGNFT9\\lib\\site-packages\\sqlalchemy\\pool\\base.py\u001b[0m in \u001b[0;36m__connect\u001b[1;34m(self, first_connect_check)\u001b[0m\n\u001b[0;32m    638\u001b[0m             \u001b[0mself\u001b[0m\u001b[1;33m.\u001b[0m\u001b[0mstarttime\u001b[0m \u001b[1;33m=\u001b[0m \u001b[0mtime\u001b[0m\u001b[1;33m.\u001b[0m\u001b[0mtime\u001b[0m\u001b[1;33m(\u001b[0m\u001b[1;33m)\u001b[0m\u001b[1;33m\u001b[0m\u001b[1;33m\u001b[0m\u001b[0m\n\u001b[1;32m--> 639\u001b[1;33m             \u001b[0mconnection\u001b[0m \u001b[1;33m=\u001b[0m \u001b[0mpool\u001b[0m\u001b[1;33m.\u001b[0m\u001b[0m_invoke_creator\u001b[0m\u001b[1;33m(\u001b[0m\u001b[0mself\u001b[0m\u001b[1;33m)\u001b[0m\u001b[1;33m\u001b[0m\u001b[1;33m\u001b[0m\u001b[0m\n\u001b[0m\u001b[0;32m    640\u001b[0m             \u001b[0mpool\u001b[0m\u001b[1;33m.\u001b[0m\u001b[0mlogger\u001b[0m\u001b[1;33m.\u001b[0m\u001b[0mdebug\u001b[0m\u001b[1;33m(\u001b[0m\u001b[1;34m\"Created new connection %r\"\u001b[0m\u001b[1;33m,\u001b[0m \u001b[0mconnection\u001b[0m\u001b[1;33m)\u001b[0m\u001b[1;33m\u001b[0m\u001b[1;33m\u001b[0m\u001b[0m\n",
      "\u001b[1;32m~\\.virtualenvs\\project_data_jobs_market_analysis-XCFGNFT9\\lib\\site-packages\\sqlalchemy\\engine\\strategies.py\u001b[0m in \u001b[0;36mconnect\u001b[1;34m(connection_record)\u001b[0m\n\u001b[0;32m    113\u001b[0m                             \u001b[1;32mreturn\u001b[0m \u001b[0mconnection\u001b[0m\u001b[1;33m\u001b[0m\u001b[1;33m\u001b[0m\u001b[0m\n\u001b[1;32m--> 114\u001b[1;33m                 \u001b[1;32mreturn\u001b[0m \u001b[0mdialect\u001b[0m\u001b[1;33m.\u001b[0m\u001b[0mconnect\u001b[0m\u001b[1;33m(\u001b[0m\u001b[1;33m*\u001b[0m\u001b[0mcargs\u001b[0m\u001b[1;33m,\u001b[0m \u001b[1;33m**\u001b[0m\u001b[0mcparams\u001b[0m\u001b[1;33m)\u001b[0m\u001b[1;33m\u001b[0m\u001b[1;33m\u001b[0m\u001b[0m\n\u001b[0m\u001b[0;32m    115\u001b[0m \u001b[1;33m\u001b[0m\u001b[0m\n",
      "\u001b[1;32m~\\.virtualenvs\\project_data_jobs_market_analysis-XCFGNFT9\\lib\\site-packages\\sqlalchemy\\engine\\default.py\u001b[0m in \u001b[0;36mconnect\u001b[1;34m(self, *cargs, **cparams)\u001b[0m\n\u001b[0;32m    481\u001b[0m     \u001b[1;32mdef\u001b[0m \u001b[0mconnect\u001b[0m\u001b[1;33m(\u001b[0m\u001b[0mself\u001b[0m\u001b[1;33m,\u001b[0m \u001b[1;33m*\u001b[0m\u001b[0mcargs\u001b[0m\u001b[1;33m,\u001b[0m \u001b[1;33m**\u001b[0m\u001b[0mcparams\u001b[0m\u001b[1;33m)\u001b[0m\u001b[1;33m:\u001b[0m\u001b[1;33m\u001b[0m\u001b[1;33m\u001b[0m\u001b[0m\n\u001b[1;32m--> 482\u001b[1;33m         \u001b[1;32mreturn\u001b[0m \u001b[0mself\u001b[0m\u001b[1;33m.\u001b[0m\u001b[0mdbapi\u001b[0m\u001b[1;33m.\u001b[0m\u001b[0mconnect\u001b[0m\u001b[1;33m(\u001b[0m\u001b[1;33m*\u001b[0m\u001b[0mcargs\u001b[0m\u001b[1;33m,\u001b[0m \u001b[1;33m**\u001b[0m\u001b[0mcparams\u001b[0m\u001b[1;33m)\u001b[0m\u001b[1;33m\u001b[0m\u001b[1;33m\u001b[0m\u001b[0m\n\u001b[0m\u001b[0;32m    483\u001b[0m \u001b[1;33m\u001b[0m\u001b[0m\n",
      "\u001b[1;32m~\\.virtualenvs\\project_data_jobs_market_analysis-XCFGNFT9\\lib\\site-packages\\pymysql\\__init__.py\u001b[0m in \u001b[0;36mConnect\u001b[1;34m(*args, **kwargs)\u001b[0m\n\u001b[0;32m     93\u001b[0m     \u001b[1;32mfrom\u001b[0m \u001b[1;33m.\u001b[0m\u001b[0mconnections\u001b[0m \u001b[1;32mimport\u001b[0m \u001b[0mConnection\u001b[0m\u001b[1;33m\u001b[0m\u001b[1;33m\u001b[0m\u001b[0m\n\u001b[1;32m---> 94\u001b[1;33m     \u001b[1;32mreturn\u001b[0m \u001b[0mConnection\u001b[0m\u001b[1;33m(\u001b[0m\u001b[1;33m*\u001b[0m\u001b[0margs\u001b[0m\u001b[1;33m,\u001b[0m \u001b[1;33m**\u001b[0m\u001b[0mkwargs\u001b[0m\u001b[1;33m)\u001b[0m\u001b[1;33m\u001b[0m\u001b[1;33m\u001b[0m\u001b[0m\n\u001b[0m\u001b[0;32m     95\u001b[0m \u001b[1;33m\u001b[0m\u001b[0m\n",
      "\u001b[1;32m~\\.virtualenvs\\project_data_jobs_market_analysis-XCFGNFT9\\lib\\site-packages\\pymysql\\connections.py\u001b[0m in \u001b[0;36m__init__\u001b[1;34m(self, host, user, password, database, port, unix_socket, charset, sql_mode, read_default_file, conv, use_unicode, client_flag, cursorclass, init_command, connect_timeout, ssl, read_default_group, compress, named_pipe, autocommit, db, passwd, local_infile, max_allowed_packet, defer_connect, auth_plugin_map, read_timeout, write_timeout, bind_address, binary_prefix, program_name, server_public_key)\u001b[0m\n\u001b[0;32m    324\u001b[0m         \u001b[1;32melse\u001b[0m\u001b[1;33m:\u001b[0m\u001b[1;33m\u001b[0m\u001b[1;33m\u001b[0m\u001b[0m\n\u001b[1;32m--> 325\u001b[1;33m             \u001b[0mself\u001b[0m\u001b[1;33m.\u001b[0m\u001b[0mconnect\u001b[0m\u001b[1;33m(\u001b[0m\u001b[1;33m)\u001b[0m\u001b[1;33m\u001b[0m\u001b[1;33m\u001b[0m\u001b[0m\n\u001b[0m\u001b[0;32m    326\u001b[0m \u001b[1;33m\u001b[0m\u001b[0m\n",
      "\u001b[1;32m~\\.virtualenvs\\project_data_jobs_market_analysis-XCFGNFT9\\lib\\site-packages\\pymysql\\connections.py\u001b[0m in \u001b[0;36mconnect\u001b[1;34m(self, sock)\u001b[0m\n\u001b[0;32m    597\u001b[0m \u001b[1;33m\u001b[0m\u001b[0m\n\u001b[1;32m--> 598\u001b[1;33m             \u001b[0mself\u001b[0m\u001b[1;33m.\u001b[0m\u001b[0m_get_server_information\u001b[0m\u001b[1;33m(\u001b[0m\u001b[1;33m)\u001b[0m\u001b[1;33m\u001b[0m\u001b[1;33m\u001b[0m\u001b[0m\n\u001b[0m\u001b[0;32m    599\u001b[0m             \u001b[0mself\u001b[0m\u001b[1;33m.\u001b[0m\u001b[0m_request_authentication\u001b[0m\u001b[1;33m(\u001b[0m\u001b[1;33m)\u001b[0m\u001b[1;33m\u001b[0m\u001b[1;33m\u001b[0m\u001b[0m\n",
      "\u001b[1;32m~\\.virtualenvs\\project_data_jobs_market_analysis-XCFGNFT9\\lib\\site-packages\\pymysql\\connections.py\u001b[0m in \u001b[0;36m_get_server_information\u001b[1;34m(self)\u001b[0m\n\u001b[0;32m    974\u001b[0m         \u001b[0mi\u001b[0m \u001b[1;33m=\u001b[0m \u001b[1;36m0\u001b[0m\u001b[1;33m\u001b[0m\u001b[1;33m\u001b[0m\u001b[0m\n\u001b[1;32m--> 975\u001b[1;33m         \u001b[0mpacket\u001b[0m \u001b[1;33m=\u001b[0m \u001b[0mself\u001b[0m\u001b[1;33m.\u001b[0m\u001b[0m_read_packet\u001b[0m\u001b[1;33m(\u001b[0m\u001b[1;33m)\u001b[0m\u001b[1;33m\u001b[0m\u001b[1;33m\u001b[0m\u001b[0m\n\u001b[0m\u001b[0;32m    976\u001b[0m         \u001b[0mdata\u001b[0m \u001b[1;33m=\u001b[0m \u001b[0mpacket\u001b[0m\u001b[1;33m.\u001b[0m\u001b[0mget_all_data\u001b[0m\u001b[1;33m(\u001b[0m\u001b[1;33m)\u001b[0m\u001b[1;33m\u001b[0m\u001b[1;33m\u001b[0m\u001b[0m\n",
      "\u001b[1;32m~\\.virtualenvs\\project_data_jobs_market_analysis-XCFGNFT9\\lib\\site-packages\\pymysql\\connections.py\u001b[0m in \u001b[0;36m_read_packet\u001b[1;34m(self, packet_type)\u001b[0m\n\u001b[0;32m    656\u001b[0m         \u001b[1;32mwhile\u001b[0m \u001b[1;32mTrue\u001b[0m\u001b[1;33m:\u001b[0m\u001b[1;33m\u001b[0m\u001b[1;33m\u001b[0m\u001b[0m\n\u001b[1;32m--> 657\u001b[1;33m             \u001b[0mpacket_header\u001b[0m \u001b[1;33m=\u001b[0m \u001b[0mself\u001b[0m\u001b[1;33m.\u001b[0m\u001b[0m_read_bytes\u001b[0m\u001b[1;33m(\u001b[0m\u001b[1;36m4\u001b[0m\u001b[1;33m)\u001b[0m\u001b[1;33m\u001b[0m\u001b[1;33m\u001b[0m\u001b[0m\n\u001b[0m\u001b[0;32m    658\u001b[0m             \u001b[1;31m#if DEBUG: dump_packet(packet_header)\u001b[0m\u001b[1;33m\u001b[0m\u001b[1;33m\u001b[0m\u001b[1;33m\u001b[0m\u001b[0m\n",
      "\u001b[1;32m~\\.virtualenvs\\project_data_jobs_market_analysis-XCFGNFT9\\lib\\site-packages\\pymysql\\connections.py\u001b[0m in \u001b[0;36m_read_bytes\u001b[1;34m(self, num_bytes)\u001b[0m\n\u001b[0;32m    706\u001b[0m             raise err.OperationalError(\n\u001b[1;32m--> 707\u001b[1;33m                 CR.CR_SERVER_LOST, \"Lost connection to MySQL server during query\")\n\u001b[0m\u001b[0;32m    708\u001b[0m         \u001b[1;32mreturn\u001b[0m \u001b[0mdata\u001b[0m\u001b[1;33m\u001b[0m\u001b[1;33m\u001b[0m\u001b[0m\n",
      "\u001b[1;31mOperationalError\u001b[0m: (2013, 'Lost connection to MySQL server during query')",
      "\nThe above exception was the direct cause of the following exception:\n",
      "\u001b[1;31mOperationalError\u001b[0m                          Traceback (most recent call last)",
      "\u001b[1;32m<ipython-input-95-1cc76441b564>\u001b[0m in \u001b[0;36m<module>\u001b[1;34m\u001b[0m\n\u001b[0;32m     22\u001b[0m \u001b[0mengine\u001b[0m \u001b[1;33m=\u001b[0m \u001b[0mcreate_engine\u001b[0m\u001b[1;33m(\u001b[0m\u001b[1;34mf\"mysql+pymysql://{USER}:{PASSWORD}@{HOST}:{PORT}\"\u001b[0m\u001b[1;33m)\u001b[0m\u001b[1;33m\u001b[0m\u001b[1;33m\u001b[0m\u001b[0m\n\u001b[0;32m     23\u001b[0m \u001b[1;32mtry\u001b[0m\u001b[1;33m:\u001b[0m\u001b[1;33m\u001b[0m\u001b[1;33m\u001b[0m\u001b[0m\n\u001b[1;32m---> 24\u001b[1;33m     \u001b[0mengine\u001b[0m\u001b[1;33m.\u001b[0m\u001b[0mexecute\u001b[0m\u001b[1;33m(\u001b[0m\u001b[1;34mf\"CREATE DATABASE {DATABASE}\"\u001b[0m\u001b[1;33m)\u001b[0m\u001b[1;33m\u001b[0m\u001b[1;33m\u001b[0m\u001b[0m\n\u001b[0m\u001b[0;32m     25\u001b[0m \u001b[1;32mexcept\u001b[0m \u001b[0mProgrammingError\u001b[0m\u001b[1;33m:\u001b[0m\u001b[1;33m\u001b[0m\u001b[1;33m\u001b[0m\u001b[0m\n\u001b[0;32m     26\u001b[0m     \u001b[1;32mpass\u001b[0m\u001b[1;33m\u001b[0m\u001b[1;33m\u001b[0m\u001b[0m\n",
      "\u001b[1;32m~\\.virtualenvs\\project_data_jobs_market_analysis-XCFGNFT9\\lib\\site-packages\\sqlalchemy\\engine\\base.py\u001b[0m in \u001b[0;36mexecute\u001b[1;34m(self, statement, *multiparams, **params)\u001b[0m\n\u001b[0;32m   2179\u001b[0m         \"\"\"\n\u001b[0;32m   2180\u001b[0m \u001b[1;33m\u001b[0m\u001b[0m\n\u001b[1;32m-> 2181\u001b[1;33m         \u001b[0mconnection\u001b[0m \u001b[1;33m=\u001b[0m \u001b[0mself\u001b[0m\u001b[1;33m.\u001b[0m\u001b[0m_contextual_connect\u001b[0m\u001b[1;33m(\u001b[0m\u001b[0mclose_with_result\u001b[0m\u001b[1;33m=\u001b[0m\u001b[1;32mTrue\u001b[0m\u001b[1;33m)\u001b[0m\u001b[1;33m\u001b[0m\u001b[1;33m\u001b[0m\u001b[0m\n\u001b[0m\u001b[0;32m   2182\u001b[0m         \u001b[1;32mreturn\u001b[0m \u001b[0mconnection\u001b[0m\u001b[1;33m.\u001b[0m\u001b[0mexecute\u001b[0m\u001b[1;33m(\u001b[0m\u001b[0mstatement\u001b[0m\u001b[1;33m,\u001b[0m \u001b[1;33m*\u001b[0m\u001b[0mmultiparams\u001b[0m\u001b[1;33m,\u001b[0m \u001b[1;33m**\u001b[0m\u001b[0mparams\u001b[0m\u001b[1;33m)\u001b[0m\u001b[1;33m\u001b[0m\u001b[1;33m\u001b[0m\u001b[0m\n\u001b[0;32m   2183\u001b[0m \u001b[1;33m\u001b[0m\u001b[0m\n",
      "\u001b[1;32m~\\.virtualenvs\\project_data_jobs_market_analysis-XCFGNFT9\\lib\\site-packages\\sqlalchemy\\engine\\base.py\u001b[0m in \u001b[0;36m_contextual_connect\u001b[1;34m(self, close_with_result, **kwargs)\u001b[0m\n\u001b[0;32m   2240\u001b[0m         return self._connection_cls(\n\u001b[0;32m   2241\u001b[0m             \u001b[0mself\u001b[0m\u001b[1;33m,\u001b[0m\u001b[1;33m\u001b[0m\u001b[1;33m\u001b[0m\u001b[0m\n\u001b[1;32m-> 2242\u001b[1;33m             \u001b[0mself\u001b[0m\u001b[1;33m.\u001b[0m\u001b[0m_wrap_pool_connect\u001b[0m\u001b[1;33m(\u001b[0m\u001b[0mself\u001b[0m\u001b[1;33m.\u001b[0m\u001b[0mpool\u001b[0m\u001b[1;33m.\u001b[0m\u001b[0mconnect\u001b[0m\u001b[1;33m,\u001b[0m \u001b[1;32mNone\u001b[0m\u001b[1;33m)\u001b[0m\u001b[1;33m,\u001b[0m\u001b[1;33m\u001b[0m\u001b[1;33m\u001b[0m\u001b[0m\n\u001b[0m\u001b[0;32m   2243\u001b[0m             \u001b[0mclose_with_result\u001b[0m\u001b[1;33m=\u001b[0m\u001b[0mclose_with_result\u001b[0m\u001b[1;33m,\u001b[0m\u001b[1;33m\u001b[0m\u001b[1;33m\u001b[0m\u001b[0m\n\u001b[0;32m   2244\u001b[0m             \u001b[1;33m**\u001b[0m\u001b[0mkwargs\u001b[0m\u001b[1;33m\u001b[0m\u001b[1;33m\u001b[0m\u001b[0m\n",
      "\u001b[1;32m~\\.virtualenvs\\project_data_jobs_market_analysis-XCFGNFT9\\lib\\site-packages\\sqlalchemy\\engine\\base.py\u001b[0m in \u001b[0;36m_wrap_pool_connect\u001b[1;34m(self, fn, connection)\u001b[0m\n\u001b[0;32m   2278\u001b[0m             \u001b[1;32mif\u001b[0m \u001b[0mconnection\u001b[0m \u001b[1;32mis\u001b[0m \u001b[1;32mNone\u001b[0m\u001b[1;33m:\u001b[0m\u001b[1;33m\u001b[0m\u001b[1;33m\u001b[0m\u001b[0m\n\u001b[0;32m   2279\u001b[0m                 Connection._handle_dbapi_exception_noconnection(\n\u001b[1;32m-> 2280\u001b[1;33m                     \u001b[0me\u001b[0m\u001b[1;33m,\u001b[0m \u001b[0mdialect\u001b[0m\u001b[1;33m,\u001b[0m \u001b[0mself\u001b[0m\u001b[1;33m\u001b[0m\u001b[1;33m\u001b[0m\u001b[0m\n\u001b[0m\u001b[0;32m   2281\u001b[0m                 )\n\u001b[0;32m   2282\u001b[0m             \u001b[1;32melse\u001b[0m\u001b[1;33m:\u001b[0m\u001b[1;33m\u001b[0m\u001b[1;33m\u001b[0m\u001b[0m\n",
      "\u001b[1;32m~\\.virtualenvs\\project_data_jobs_market_analysis-XCFGNFT9\\lib\\site-packages\\sqlalchemy\\engine\\base.py\u001b[0m in \u001b[0;36m_handle_dbapi_exception_noconnection\u001b[1;34m(cls, e, dialect, engine)\u001b[0m\n\u001b[0;32m   1545\u001b[0m             \u001b[0mutil\u001b[0m\u001b[1;33m.\u001b[0m\u001b[0mraise_from_cause\u001b[0m\u001b[1;33m(\u001b[0m\u001b[0mnewraise\u001b[0m\u001b[1;33m,\u001b[0m \u001b[0mexc_info\u001b[0m\u001b[1;33m)\u001b[0m\u001b[1;33m\u001b[0m\u001b[1;33m\u001b[0m\u001b[0m\n\u001b[0;32m   1546\u001b[0m         \u001b[1;32melif\u001b[0m \u001b[0mshould_wrap\u001b[0m\u001b[1;33m:\u001b[0m\u001b[1;33m\u001b[0m\u001b[1;33m\u001b[0m\u001b[0m\n\u001b[1;32m-> 1547\u001b[1;33m             \u001b[0mutil\u001b[0m\u001b[1;33m.\u001b[0m\u001b[0mraise_from_cause\u001b[0m\u001b[1;33m(\u001b[0m\u001b[0msqlalchemy_exception\u001b[0m\u001b[1;33m,\u001b[0m \u001b[0mexc_info\u001b[0m\u001b[1;33m)\u001b[0m\u001b[1;33m\u001b[0m\u001b[1;33m\u001b[0m\u001b[0m\n\u001b[0m\u001b[0;32m   1548\u001b[0m         \u001b[1;32melse\u001b[0m\u001b[1;33m:\u001b[0m\u001b[1;33m\u001b[0m\u001b[1;33m\u001b[0m\u001b[0m\n\u001b[0;32m   1549\u001b[0m             \u001b[0mutil\u001b[0m\u001b[1;33m.\u001b[0m\u001b[0mreraise\u001b[0m\u001b[1;33m(\u001b[0m\u001b[1;33m*\u001b[0m\u001b[0mexc_info\u001b[0m\u001b[1;33m)\u001b[0m\u001b[1;33m\u001b[0m\u001b[1;33m\u001b[0m\u001b[0m\n",
      "\u001b[1;32m~\\.virtualenvs\\project_data_jobs_market_analysis-XCFGNFT9\\lib\\site-packages\\sqlalchemy\\util\\compat.py\u001b[0m in \u001b[0;36mraise_from_cause\u001b[1;34m(exception, exc_info)\u001b[0m\n\u001b[0;32m    396\u001b[0m     \u001b[0mexc_type\u001b[0m\u001b[1;33m,\u001b[0m \u001b[0mexc_value\u001b[0m\u001b[1;33m,\u001b[0m \u001b[0mexc_tb\u001b[0m \u001b[1;33m=\u001b[0m \u001b[0mexc_info\u001b[0m\u001b[1;33m\u001b[0m\u001b[1;33m\u001b[0m\u001b[0m\n\u001b[0;32m    397\u001b[0m     \u001b[0mcause\u001b[0m \u001b[1;33m=\u001b[0m \u001b[0mexc_value\u001b[0m \u001b[1;32mif\u001b[0m \u001b[0mexc_value\u001b[0m \u001b[1;32mis\u001b[0m \u001b[1;32mnot\u001b[0m \u001b[0mexception\u001b[0m \u001b[1;32melse\u001b[0m \u001b[1;32mNone\u001b[0m\u001b[1;33m\u001b[0m\u001b[1;33m\u001b[0m\u001b[0m\n\u001b[1;32m--> 398\u001b[1;33m     \u001b[0mreraise\u001b[0m\u001b[1;33m(\u001b[0m\u001b[0mtype\u001b[0m\u001b[1;33m(\u001b[0m\u001b[0mexception\u001b[0m\u001b[1;33m)\u001b[0m\u001b[1;33m,\u001b[0m \u001b[0mexception\u001b[0m\u001b[1;33m,\u001b[0m \u001b[0mtb\u001b[0m\u001b[1;33m=\u001b[0m\u001b[0mexc_tb\u001b[0m\u001b[1;33m,\u001b[0m \u001b[0mcause\u001b[0m\u001b[1;33m=\u001b[0m\u001b[0mcause\u001b[0m\u001b[1;33m)\u001b[0m\u001b[1;33m\u001b[0m\u001b[1;33m\u001b[0m\u001b[0m\n\u001b[0m\u001b[0;32m    399\u001b[0m \u001b[1;33m\u001b[0m\u001b[0m\n\u001b[0;32m    400\u001b[0m \u001b[1;33m\u001b[0m\u001b[0m\n",
      "\u001b[1;32m~\\.virtualenvs\\project_data_jobs_market_analysis-XCFGNFT9\\lib\\site-packages\\sqlalchemy\\util\\compat.py\u001b[0m in \u001b[0;36mreraise\u001b[1;34m(tp, value, tb, cause)\u001b[0m\n\u001b[0;32m    150\u001b[0m             \u001b[0mvalue\u001b[0m\u001b[1;33m.\u001b[0m\u001b[0m__cause__\u001b[0m \u001b[1;33m=\u001b[0m \u001b[0mcause\u001b[0m\u001b[1;33m\u001b[0m\u001b[1;33m\u001b[0m\u001b[0m\n\u001b[0;32m    151\u001b[0m         \u001b[1;32mif\u001b[0m \u001b[0mvalue\u001b[0m\u001b[1;33m.\u001b[0m\u001b[0m__traceback__\u001b[0m \u001b[1;32mis\u001b[0m \u001b[1;32mnot\u001b[0m \u001b[0mtb\u001b[0m\u001b[1;33m:\u001b[0m\u001b[1;33m\u001b[0m\u001b[1;33m\u001b[0m\u001b[0m\n\u001b[1;32m--> 152\u001b[1;33m             \u001b[1;32mraise\u001b[0m \u001b[0mvalue\u001b[0m\u001b[1;33m.\u001b[0m\u001b[0mwith_traceback\u001b[0m\u001b[1;33m(\u001b[0m\u001b[0mtb\u001b[0m\u001b[1;33m)\u001b[0m\u001b[1;33m\u001b[0m\u001b[1;33m\u001b[0m\u001b[0m\n\u001b[0m\u001b[0;32m    153\u001b[0m         \u001b[1;32mraise\u001b[0m \u001b[0mvalue\u001b[0m\u001b[1;33m\u001b[0m\u001b[1;33m\u001b[0m\u001b[0m\n\u001b[0;32m    154\u001b[0m \u001b[1;33m\u001b[0m\u001b[0m\n",
      "\u001b[1;32m~\\.virtualenvs\\project_data_jobs_market_analysis-XCFGNFT9\\lib\\site-packages\\sqlalchemy\\engine\\base.py\u001b[0m in \u001b[0;36m_wrap_pool_connect\u001b[1;34m(self, fn, connection)\u001b[0m\n\u001b[0;32m   2274\u001b[0m         \u001b[0mdialect\u001b[0m \u001b[1;33m=\u001b[0m \u001b[0mself\u001b[0m\u001b[1;33m.\u001b[0m\u001b[0mdialect\u001b[0m\u001b[1;33m\u001b[0m\u001b[1;33m\u001b[0m\u001b[0m\n\u001b[0;32m   2275\u001b[0m         \u001b[1;32mtry\u001b[0m\u001b[1;33m:\u001b[0m\u001b[1;33m\u001b[0m\u001b[1;33m\u001b[0m\u001b[0m\n\u001b[1;32m-> 2276\u001b[1;33m             \u001b[1;32mreturn\u001b[0m \u001b[0mfn\u001b[0m\u001b[1;33m(\u001b[0m\u001b[1;33m)\u001b[0m\u001b[1;33m\u001b[0m\u001b[1;33m\u001b[0m\u001b[0m\n\u001b[0m\u001b[0;32m   2277\u001b[0m         \u001b[1;32mexcept\u001b[0m \u001b[0mdialect\u001b[0m\u001b[1;33m.\u001b[0m\u001b[0mdbapi\u001b[0m\u001b[1;33m.\u001b[0m\u001b[0mError\u001b[0m \u001b[1;32mas\u001b[0m \u001b[0me\u001b[0m\u001b[1;33m:\u001b[0m\u001b[1;33m\u001b[0m\u001b[1;33m\u001b[0m\u001b[0m\n\u001b[0;32m   2278\u001b[0m             \u001b[1;32mif\u001b[0m \u001b[0mconnection\u001b[0m \u001b[1;32mis\u001b[0m \u001b[1;32mNone\u001b[0m\u001b[1;33m:\u001b[0m\u001b[1;33m\u001b[0m\u001b[1;33m\u001b[0m\u001b[0m\n",
      "\u001b[1;32m~\\.virtualenvs\\project_data_jobs_market_analysis-XCFGNFT9\\lib\\site-packages\\sqlalchemy\\pool\\base.py\u001b[0m in \u001b[0;36mconnect\u001b[1;34m(self)\u001b[0m\n\u001b[0;32m    361\u001b[0m         \"\"\"\n\u001b[0;32m    362\u001b[0m         \u001b[1;32mif\u001b[0m \u001b[1;32mnot\u001b[0m \u001b[0mself\u001b[0m\u001b[1;33m.\u001b[0m\u001b[0m_use_threadlocal\u001b[0m\u001b[1;33m:\u001b[0m\u001b[1;33m\u001b[0m\u001b[1;33m\u001b[0m\u001b[0m\n\u001b[1;32m--> 363\u001b[1;33m             \u001b[1;32mreturn\u001b[0m \u001b[0m_ConnectionFairy\u001b[0m\u001b[1;33m.\u001b[0m\u001b[0m_checkout\u001b[0m\u001b[1;33m(\u001b[0m\u001b[0mself\u001b[0m\u001b[1;33m)\u001b[0m\u001b[1;33m\u001b[0m\u001b[1;33m\u001b[0m\u001b[0m\n\u001b[0m\u001b[0;32m    364\u001b[0m \u001b[1;33m\u001b[0m\u001b[0m\n\u001b[0;32m    365\u001b[0m         \u001b[1;32mtry\u001b[0m\u001b[1;33m:\u001b[0m\u001b[1;33m\u001b[0m\u001b[1;33m\u001b[0m\u001b[0m\n",
      "\u001b[1;32m~\\.virtualenvs\\project_data_jobs_market_analysis-XCFGNFT9\\lib\\site-packages\\sqlalchemy\\pool\\base.py\u001b[0m in \u001b[0;36m_checkout\u001b[1;34m(cls, pool, threadconns, fairy)\u001b[0m\n\u001b[0;32m    758\u001b[0m     \u001b[1;32mdef\u001b[0m \u001b[0m_checkout\u001b[0m\u001b[1;33m(\u001b[0m\u001b[0mcls\u001b[0m\u001b[1;33m,\u001b[0m \u001b[0mpool\u001b[0m\u001b[1;33m,\u001b[0m \u001b[0mthreadconns\u001b[0m\u001b[1;33m=\u001b[0m\u001b[1;32mNone\u001b[0m\u001b[1;33m,\u001b[0m \u001b[0mfairy\u001b[0m\u001b[1;33m=\u001b[0m\u001b[1;32mNone\u001b[0m\u001b[1;33m)\u001b[0m\u001b[1;33m:\u001b[0m\u001b[1;33m\u001b[0m\u001b[1;33m\u001b[0m\u001b[0m\n\u001b[0;32m    759\u001b[0m         \u001b[1;32mif\u001b[0m \u001b[1;32mnot\u001b[0m \u001b[0mfairy\u001b[0m\u001b[1;33m:\u001b[0m\u001b[1;33m\u001b[0m\u001b[1;33m\u001b[0m\u001b[0m\n\u001b[1;32m--> 760\u001b[1;33m             \u001b[0mfairy\u001b[0m \u001b[1;33m=\u001b[0m \u001b[0m_ConnectionRecord\u001b[0m\u001b[1;33m.\u001b[0m\u001b[0mcheckout\u001b[0m\u001b[1;33m(\u001b[0m\u001b[0mpool\u001b[0m\u001b[1;33m)\u001b[0m\u001b[1;33m\u001b[0m\u001b[1;33m\u001b[0m\u001b[0m\n\u001b[0m\u001b[0;32m    761\u001b[0m \u001b[1;33m\u001b[0m\u001b[0m\n\u001b[0;32m    762\u001b[0m             \u001b[0mfairy\u001b[0m\u001b[1;33m.\u001b[0m\u001b[0m_pool\u001b[0m \u001b[1;33m=\u001b[0m \u001b[0mpool\u001b[0m\u001b[1;33m\u001b[0m\u001b[1;33m\u001b[0m\u001b[0m\n",
      "\u001b[1;32m~\\.virtualenvs\\project_data_jobs_market_analysis-XCFGNFT9\\lib\\site-packages\\sqlalchemy\\pool\\base.py\u001b[0m in \u001b[0;36mcheckout\u001b[1;34m(cls, pool)\u001b[0m\n\u001b[0;32m    490\u001b[0m     \u001b[1;33m@\u001b[0m\u001b[0mclassmethod\u001b[0m\u001b[1;33m\u001b[0m\u001b[1;33m\u001b[0m\u001b[0m\n\u001b[0;32m    491\u001b[0m     \u001b[1;32mdef\u001b[0m \u001b[0mcheckout\u001b[0m\u001b[1;33m(\u001b[0m\u001b[0mcls\u001b[0m\u001b[1;33m,\u001b[0m \u001b[0mpool\u001b[0m\u001b[1;33m)\u001b[0m\u001b[1;33m:\u001b[0m\u001b[1;33m\u001b[0m\u001b[1;33m\u001b[0m\u001b[0m\n\u001b[1;32m--> 492\u001b[1;33m         \u001b[0mrec\u001b[0m \u001b[1;33m=\u001b[0m \u001b[0mpool\u001b[0m\u001b[1;33m.\u001b[0m\u001b[0m_do_get\u001b[0m\u001b[1;33m(\u001b[0m\u001b[1;33m)\u001b[0m\u001b[1;33m\u001b[0m\u001b[1;33m\u001b[0m\u001b[0m\n\u001b[0m\u001b[0;32m    493\u001b[0m         \u001b[1;32mtry\u001b[0m\u001b[1;33m:\u001b[0m\u001b[1;33m\u001b[0m\u001b[1;33m\u001b[0m\u001b[0m\n\u001b[0;32m    494\u001b[0m             \u001b[0mdbapi_connection\u001b[0m \u001b[1;33m=\u001b[0m \u001b[0mrec\u001b[0m\u001b[1;33m.\u001b[0m\u001b[0mget_connection\u001b[0m\u001b[1;33m(\u001b[0m\u001b[1;33m)\u001b[0m\u001b[1;33m\u001b[0m\u001b[1;33m\u001b[0m\u001b[0m\n",
      "\u001b[1;32m~\\.virtualenvs\\project_data_jobs_market_analysis-XCFGNFT9\\lib\\site-packages\\sqlalchemy\\pool\\impl.py\u001b[0m in \u001b[0;36m_do_get\u001b[1;34m(self)\u001b[0m\n\u001b[0;32m    137\u001b[0m             \u001b[1;32mexcept\u001b[0m\u001b[1;33m:\u001b[0m\u001b[1;33m\u001b[0m\u001b[1;33m\u001b[0m\u001b[0m\n\u001b[0;32m    138\u001b[0m                 \u001b[1;32mwith\u001b[0m \u001b[0mutil\u001b[0m\u001b[1;33m.\u001b[0m\u001b[0msafe_reraise\u001b[0m\u001b[1;33m(\u001b[0m\u001b[1;33m)\u001b[0m\u001b[1;33m:\u001b[0m\u001b[1;33m\u001b[0m\u001b[1;33m\u001b[0m\u001b[0m\n\u001b[1;32m--> 139\u001b[1;33m                     \u001b[0mself\u001b[0m\u001b[1;33m.\u001b[0m\u001b[0m_dec_overflow\u001b[0m\u001b[1;33m(\u001b[0m\u001b[1;33m)\u001b[0m\u001b[1;33m\u001b[0m\u001b[1;33m\u001b[0m\u001b[0m\n\u001b[0m\u001b[0;32m    140\u001b[0m         \u001b[1;32melse\u001b[0m\u001b[1;33m:\u001b[0m\u001b[1;33m\u001b[0m\u001b[1;33m\u001b[0m\u001b[0m\n\u001b[0;32m    141\u001b[0m             \u001b[1;32mreturn\u001b[0m \u001b[0mself\u001b[0m\u001b[1;33m.\u001b[0m\u001b[0m_do_get\u001b[0m\u001b[1;33m(\u001b[0m\u001b[1;33m)\u001b[0m\u001b[1;33m\u001b[0m\u001b[1;33m\u001b[0m\u001b[0m\n",
      "\u001b[1;32m~\\.virtualenvs\\project_data_jobs_market_analysis-XCFGNFT9\\lib\\site-packages\\sqlalchemy\\util\\langhelpers.py\u001b[0m in \u001b[0;36m__exit__\u001b[1;34m(self, type_, value, traceback)\u001b[0m\n\u001b[0;32m     66\u001b[0m             \u001b[0mself\u001b[0m\u001b[1;33m.\u001b[0m\u001b[0m_exc_info\u001b[0m \u001b[1;33m=\u001b[0m \u001b[1;32mNone\u001b[0m  \u001b[1;31m# remove potential circular references\u001b[0m\u001b[1;33m\u001b[0m\u001b[1;33m\u001b[0m\u001b[0m\n\u001b[0;32m     67\u001b[0m             \u001b[1;32mif\u001b[0m \u001b[1;32mnot\u001b[0m \u001b[0mself\u001b[0m\u001b[1;33m.\u001b[0m\u001b[0mwarn_only\u001b[0m\u001b[1;33m:\u001b[0m\u001b[1;33m\u001b[0m\u001b[1;33m\u001b[0m\u001b[0m\n\u001b[1;32m---> 68\u001b[1;33m                 \u001b[0mcompat\u001b[0m\u001b[1;33m.\u001b[0m\u001b[0mreraise\u001b[0m\u001b[1;33m(\u001b[0m\u001b[0mexc_type\u001b[0m\u001b[1;33m,\u001b[0m \u001b[0mexc_value\u001b[0m\u001b[1;33m,\u001b[0m \u001b[0mexc_tb\u001b[0m\u001b[1;33m)\u001b[0m\u001b[1;33m\u001b[0m\u001b[1;33m\u001b[0m\u001b[0m\n\u001b[0m\u001b[0;32m     69\u001b[0m         \u001b[1;32melse\u001b[0m\u001b[1;33m:\u001b[0m\u001b[1;33m\u001b[0m\u001b[1;33m\u001b[0m\u001b[0m\n\u001b[0;32m     70\u001b[0m             \u001b[1;32mif\u001b[0m \u001b[1;32mnot\u001b[0m \u001b[0mcompat\u001b[0m\u001b[1;33m.\u001b[0m\u001b[0mpy3k\u001b[0m \u001b[1;32mand\u001b[0m \u001b[0mself\u001b[0m\u001b[1;33m.\u001b[0m\u001b[0m_exc_info\u001b[0m \u001b[1;32mand\u001b[0m \u001b[0mself\u001b[0m\u001b[1;33m.\u001b[0m\u001b[0m_exc_info\u001b[0m\u001b[1;33m[\u001b[0m\u001b[1;36m1\u001b[0m\u001b[1;33m]\u001b[0m\u001b[1;33m:\u001b[0m\u001b[1;33m\u001b[0m\u001b[1;33m\u001b[0m\u001b[0m\n",
      "\u001b[1;32m~\\.virtualenvs\\project_data_jobs_market_analysis-XCFGNFT9\\lib\\site-packages\\sqlalchemy\\util\\compat.py\u001b[0m in \u001b[0;36mreraise\u001b[1;34m(tp, value, tb, cause)\u001b[0m\n\u001b[0;32m    151\u001b[0m         \u001b[1;32mif\u001b[0m \u001b[0mvalue\u001b[0m\u001b[1;33m.\u001b[0m\u001b[0m__traceback__\u001b[0m \u001b[1;32mis\u001b[0m \u001b[1;32mnot\u001b[0m \u001b[0mtb\u001b[0m\u001b[1;33m:\u001b[0m\u001b[1;33m\u001b[0m\u001b[1;33m\u001b[0m\u001b[0m\n\u001b[0;32m    152\u001b[0m             \u001b[1;32mraise\u001b[0m \u001b[0mvalue\u001b[0m\u001b[1;33m.\u001b[0m\u001b[0mwith_traceback\u001b[0m\u001b[1;33m(\u001b[0m\u001b[0mtb\u001b[0m\u001b[1;33m)\u001b[0m\u001b[1;33m\u001b[0m\u001b[1;33m\u001b[0m\u001b[0m\n\u001b[1;32m--> 153\u001b[1;33m         \u001b[1;32mraise\u001b[0m \u001b[0mvalue\u001b[0m\u001b[1;33m\u001b[0m\u001b[1;33m\u001b[0m\u001b[0m\n\u001b[0m\u001b[0;32m    154\u001b[0m \u001b[1;33m\u001b[0m\u001b[0m\n\u001b[0;32m    155\u001b[0m     \u001b[1;32mdef\u001b[0m \u001b[0mu\u001b[0m\u001b[1;33m(\u001b[0m\u001b[0ms\u001b[0m\u001b[1;33m)\u001b[0m\u001b[1;33m:\u001b[0m\u001b[1;33m\u001b[0m\u001b[1;33m\u001b[0m\u001b[0m\n",
      "\u001b[1;32m~\\.virtualenvs\\project_data_jobs_market_analysis-XCFGNFT9\\lib\\site-packages\\sqlalchemy\\pool\\impl.py\u001b[0m in \u001b[0;36m_do_get\u001b[1;34m(self)\u001b[0m\n\u001b[0;32m    134\u001b[0m         \u001b[1;32mif\u001b[0m \u001b[0mself\u001b[0m\u001b[1;33m.\u001b[0m\u001b[0m_inc_overflow\u001b[0m\u001b[1;33m(\u001b[0m\u001b[1;33m)\u001b[0m\u001b[1;33m:\u001b[0m\u001b[1;33m\u001b[0m\u001b[1;33m\u001b[0m\u001b[0m\n\u001b[0;32m    135\u001b[0m             \u001b[1;32mtry\u001b[0m\u001b[1;33m:\u001b[0m\u001b[1;33m\u001b[0m\u001b[1;33m\u001b[0m\u001b[0m\n\u001b[1;32m--> 136\u001b[1;33m                 \u001b[1;32mreturn\u001b[0m \u001b[0mself\u001b[0m\u001b[1;33m.\u001b[0m\u001b[0m_create_connection\u001b[0m\u001b[1;33m(\u001b[0m\u001b[1;33m)\u001b[0m\u001b[1;33m\u001b[0m\u001b[1;33m\u001b[0m\u001b[0m\n\u001b[0m\u001b[0;32m    137\u001b[0m             \u001b[1;32mexcept\u001b[0m\u001b[1;33m:\u001b[0m\u001b[1;33m\u001b[0m\u001b[1;33m\u001b[0m\u001b[0m\n\u001b[0;32m    138\u001b[0m                 \u001b[1;32mwith\u001b[0m \u001b[0mutil\u001b[0m\u001b[1;33m.\u001b[0m\u001b[0msafe_reraise\u001b[0m\u001b[1;33m(\u001b[0m\u001b[1;33m)\u001b[0m\u001b[1;33m:\u001b[0m\u001b[1;33m\u001b[0m\u001b[1;33m\u001b[0m\u001b[0m\n",
      "\u001b[1;32m~\\.virtualenvs\\project_data_jobs_market_analysis-XCFGNFT9\\lib\\site-packages\\sqlalchemy\\pool\\base.py\u001b[0m in \u001b[0;36m_create_connection\u001b[1;34m(self)\u001b[0m\n\u001b[0;32m    306\u001b[0m         \u001b[1;34m\"\"\"Called by subclasses to create a new ConnectionRecord.\"\"\"\u001b[0m\u001b[1;33m\u001b[0m\u001b[1;33m\u001b[0m\u001b[0m\n\u001b[0;32m    307\u001b[0m \u001b[1;33m\u001b[0m\u001b[0m\n\u001b[1;32m--> 308\u001b[1;33m         \u001b[1;32mreturn\u001b[0m \u001b[0m_ConnectionRecord\u001b[0m\u001b[1;33m(\u001b[0m\u001b[0mself\u001b[0m\u001b[1;33m)\u001b[0m\u001b[1;33m\u001b[0m\u001b[1;33m\u001b[0m\u001b[0m\n\u001b[0m\u001b[0;32m    309\u001b[0m \u001b[1;33m\u001b[0m\u001b[0m\n\u001b[0;32m    310\u001b[0m     \u001b[1;32mdef\u001b[0m \u001b[0m_invalidate\u001b[0m\u001b[1;33m(\u001b[0m\u001b[0mself\u001b[0m\u001b[1;33m,\u001b[0m \u001b[0mconnection\u001b[0m\u001b[1;33m,\u001b[0m \u001b[0mexception\u001b[0m\u001b[1;33m=\u001b[0m\u001b[1;32mNone\u001b[0m\u001b[1;33m,\u001b[0m \u001b[0m_checkin\u001b[0m\u001b[1;33m=\u001b[0m\u001b[1;32mTrue\u001b[0m\u001b[1;33m)\u001b[0m\u001b[1;33m:\u001b[0m\u001b[1;33m\u001b[0m\u001b[1;33m\u001b[0m\u001b[0m\n",
      "\u001b[1;32m~\\.virtualenvs\\project_data_jobs_market_analysis-XCFGNFT9\\lib\\site-packages\\sqlalchemy\\pool\\base.py\u001b[0m in \u001b[0;36m__init__\u001b[1;34m(self, pool, connect)\u001b[0m\n\u001b[0;32m    435\u001b[0m         \u001b[0mself\u001b[0m\u001b[1;33m.\u001b[0m\u001b[0m__pool\u001b[0m \u001b[1;33m=\u001b[0m \u001b[0mpool\u001b[0m\u001b[1;33m\u001b[0m\u001b[1;33m\u001b[0m\u001b[0m\n\u001b[0;32m    436\u001b[0m         \u001b[1;32mif\u001b[0m \u001b[0mconnect\u001b[0m\u001b[1;33m:\u001b[0m\u001b[1;33m\u001b[0m\u001b[1;33m\u001b[0m\u001b[0m\n\u001b[1;32m--> 437\u001b[1;33m             \u001b[0mself\u001b[0m\u001b[1;33m.\u001b[0m\u001b[0m__connect\u001b[0m\u001b[1;33m(\u001b[0m\u001b[0mfirst_connect_check\u001b[0m\u001b[1;33m=\u001b[0m\u001b[1;32mTrue\u001b[0m\u001b[1;33m)\u001b[0m\u001b[1;33m\u001b[0m\u001b[1;33m\u001b[0m\u001b[0m\n\u001b[0m\u001b[0;32m    438\u001b[0m         \u001b[0mself\u001b[0m\u001b[1;33m.\u001b[0m\u001b[0mfinalize_callback\u001b[0m \u001b[1;33m=\u001b[0m \u001b[0mdeque\u001b[0m\u001b[1;33m(\u001b[0m\u001b[1;33m)\u001b[0m\u001b[1;33m\u001b[0m\u001b[1;33m\u001b[0m\u001b[0m\n\u001b[0;32m    439\u001b[0m \u001b[1;33m\u001b[0m\u001b[0m\n",
      "\u001b[1;32m~\\.virtualenvs\\project_data_jobs_market_analysis-XCFGNFT9\\lib\\site-packages\\sqlalchemy\\pool\\base.py\u001b[0m in \u001b[0;36m__connect\u001b[1;34m(self, first_connect_check)\u001b[0m\n\u001b[0;32m    637\u001b[0m         \u001b[1;32mtry\u001b[0m\u001b[1;33m:\u001b[0m\u001b[1;33m\u001b[0m\u001b[1;33m\u001b[0m\u001b[0m\n\u001b[0;32m    638\u001b[0m             \u001b[0mself\u001b[0m\u001b[1;33m.\u001b[0m\u001b[0mstarttime\u001b[0m \u001b[1;33m=\u001b[0m \u001b[0mtime\u001b[0m\u001b[1;33m.\u001b[0m\u001b[0mtime\u001b[0m\u001b[1;33m(\u001b[0m\u001b[1;33m)\u001b[0m\u001b[1;33m\u001b[0m\u001b[1;33m\u001b[0m\u001b[0m\n\u001b[1;32m--> 639\u001b[1;33m             \u001b[0mconnection\u001b[0m \u001b[1;33m=\u001b[0m \u001b[0mpool\u001b[0m\u001b[1;33m.\u001b[0m\u001b[0m_invoke_creator\u001b[0m\u001b[1;33m(\u001b[0m\u001b[0mself\u001b[0m\u001b[1;33m)\u001b[0m\u001b[1;33m\u001b[0m\u001b[1;33m\u001b[0m\u001b[0m\n\u001b[0m\u001b[0;32m    640\u001b[0m             \u001b[0mpool\u001b[0m\u001b[1;33m.\u001b[0m\u001b[0mlogger\u001b[0m\u001b[1;33m.\u001b[0m\u001b[0mdebug\u001b[0m\u001b[1;33m(\u001b[0m\u001b[1;34m\"Created new connection %r\"\u001b[0m\u001b[1;33m,\u001b[0m \u001b[0mconnection\u001b[0m\u001b[1;33m)\u001b[0m\u001b[1;33m\u001b[0m\u001b[1;33m\u001b[0m\u001b[0m\n\u001b[0;32m    641\u001b[0m             \u001b[0mself\u001b[0m\u001b[1;33m.\u001b[0m\u001b[0mconnection\u001b[0m \u001b[1;33m=\u001b[0m \u001b[0mconnection\u001b[0m\u001b[1;33m\u001b[0m\u001b[1;33m\u001b[0m\u001b[0m\n",
      "\u001b[1;32m~\\.virtualenvs\\project_data_jobs_market_analysis-XCFGNFT9\\lib\\site-packages\\sqlalchemy\\engine\\strategies.py\u001b[0m in \u001b[0;36mconnect\u001b[1;34m(connection_record)\u001b[0m\n\u001b[0;32m    112\u001b[0m                         \u001b[1;32mif\u001b[0m \u001b[0mconnection\u001b[0m \u001b[1;32mis\u001b[0m \u001b[1;32mnot\u001b[0m \u001b[1;32mNone\u001b[0m\u001b[1;33m:\u001b[0m\u001b[1;33m\u001b[0m\u001b[1;33m\u001b[0m\u001b[0m\n\u001b[0;32m    113\u001b[0m                             \u001b[1;32mreturn\u001b[0m \u001b[0mconnection\u001b[0m\u001b[1;33m\u001b[0m\u001b[1;33m\u001b[0m\u001b[0m\n\u001b[1;32m--> 114\u001b[1;33m                 \u001b[1;32mreturn\u001b[0m \u001b[0mdialect\u001b[0m\u001b[1;33m.\u001b[0m\u001b[0mconnect\u001b[0m\u001b[1;33m(\u001b[0m\u001b[1;33m*\u001b[0m\u001b[0mcargs\u001b[0m\u001b[1;33m,\u001b[0m \u001b[1;33m**\u001b[0m\u001b[0mcparams\u001b[0m\u001b[1;33m)\u001b[0m\u001b[1;33m\u001b[0m\u001b[1;33m\u001b[0m\u001b[0m\n\u001b[0m\u001b[0;32m    115\u001b[0m \u001b[1;33m\u001b[0m\u001b[0m\n\u001b[0;32m    116\u001b[0m             \u001b[0mcreator\u001b[0m \u001b[1;33m=\u001b[0m \u001b[0mpop_kwarg\u001b[0m\u001b[1;33m(\u001b[0m\u001b[1;34m\"creator\"\u001b[0m\u001b[1;33m,\u001b[0m \u001b[0mconnect\u001b[0m\u001b[1;33m)\u001b[0m\u001b[1;33m\u001b[0m\u001b[1;33m\u001b[0m\u001b[0m\n",
      "\u001b[1;32m~\\.virtualenvs\\project_data_jobs_market_analysis-XCFGNFT9\\lib\\site-packages\\sqlalchemy\\engine\\default.py\u001b[0m in \u001b[0;36mconnect\u001b[1;34m(self, *cargs, **cparams)\u001b[0m\n\u001b[0;32m    480\u001b[0m \u001b[1;33m\u001b[0m\u001b[0m\n\u001b[0;32m    481\u001b[0m     \u001b[1;32mdef\u001b[0m \u001b[0mconnect\u001b[0m\u001b[1;33m(\u001b[0m\u001b[0mself\u001b[0m\u001b[1;33m,\u001b[0m \u001b[1;33m*\u001b[0m\u001b[0mcargs\u001b[0m\u001b[1;33m,\u001b[0m \u001b[1;33m**\u001b[0m\u001b[0mcparams\u001b[0m\u001b[1;33m)\u001b[0m\u001b[1;33m:\u001b[0m\u001b[1;33m\u001b[0m\u001b[1;33m\u001b[0m\u001b[0m\n\u001b[1;32m--> 482\u001b[1;33m         \u001b[1;32mreturn\u001b[0m \u001b[0mself\u001b[0m\u001b[1;33m.\u001b[0m\u001b[0mdbapi\u001b[0m\u001b[1;33m.\u001b[0m\u001b[0mconnect\u001b[0m\u001b[1;33m(\u001b[0m\u001b[1;33m*\u001b[0m\u001b[0mcargs\u001b[0m\u001b[1;33m,\u001b[0m \u001b[1;33m**\u001b[0m\u001b[0mcparams\u001b[0m\u001b[1;33m)\u001b[0m\u001b[1;33m\u001b[0m\u001b[1;33m\u001b[0m\u001b[0m\n\u001b[0m\u001b[0;32m    483\u001b[0m \u001b[1;33m\u001b[0m\u001b[0m\n\u001b[0;32m    484\u001b[0m     \u001b[1;32mdef\u001b[0m \u001b[0mcreate_connect_args\u001b[0m\u001b[1;33m(\u001b[0m\u001b[0mself\u001b[0m\u001b[1;33m,\u001b[0m \u001b[0murl\u001b[0m\u001b[1;33m)\u001b[0m\u001b[1;33m:\u001b[0m\u001b[1;33m\u001b[0m\u001b[1;33m\u001b[0m\u001b[0m\n",
      "\u001b[1;32m~\\.virtualenvs\\project_data_jobs_market_analysis-XCFGNFT9\\lib\\site-packages\\pymysql\\__init__.py\u001b[0m in \u001b[0;36mConnect\u001b[1;34m(*args, **kwargs)\u001b[0m\n\u001b[0;32m     92\u001b[0m     \"\"\"\n\u001b[0;32m     93\u001b[0m     \u001b[1;32mfrom\u001b[0m \u001b[1;33m.\u001b[0m\u001b[0mconnections\u001b[0m \u001b[1;32mimport\u001b[0m \u001b[0mConnection\u001b[0m\u001b[1;33m\u001b[0m\u001b[1;33m\u001b[0m\u001b[0m\n\u001b[1;32m---> 94\u001b[1;33m     \u001b[1;32mreturn\u001b[0m \u001b[0mConnection\u001b[0m\u001b[1;33m(\u001b[0m\u001b[1;33m*\u001b[0m\u001b[0margs\u001b[0m\u001b[1;33m,\u001b[0m \u001b[1;33m**\u001b[0m\u001b[0mkwargs\u001b[0m\u001b[1;33m)\u001b[0m\u001b[1;33m\u001b[0m\u001b[1;33m\u001b[0m\u001b[0m\n\u001b[0m\u001b[0;32m     95\u001b[0m \u001b[1;33m\u001b[0m\u001b[0m\n\u001b[0;32m     96\u001b[0m \u001b[1;32mfrom\u001b[0m \u001b[1;33m.\u001b[0m \u001b[1;32mimport\u001b[0m \u001b[0mconnections\u001b[0m \u001b[1;32mas\u001b[0m \u001b[0m_orig_conn\u001b[0m\u001b[1;33m\u001b[0m\u001b[1;33m\u001b[0m\u001b[0m\n",
      "\u001b[1;32m~\\.virtualenvs\\project_data_jobs_market_analysis-XCFGNFT9\\lib\\site-packages\\pymysql\\connections.py\u001b[0m in \u001b[0;36m__init__\u001b[1;34m(self, host, user, password, database, port, unix_socket, charset, sql_mode, read_default_file, conv, use_unicode, client_flag, cursorclass, init_command, connect_timeout, ssl, read_default_group, compress, named_pipe, autocommit, db, passwd, local_infile, max_allowed_packet, defer_connect, auth_plugin_map, read_timeout, write_timeout, bind_address, binary_prefix, program_name, server_public_key)\u001b[0m\n\u001b[0;32m    323\u001b[0m             \u001b[0mself\u001b[0m\u001b[1;33m.\u001b[0m\u001b[0m_sock\u001b[0m \u001b[1;33m=\u001b[0m \u001b[1;32mNone\u001b[0m\u001b[1;33m\u001b[0m\u001b[1;33m\u001b[0m\u001b[0m\n\u001b[0;32m    324\u001b[0m         \u001b[1;32melse\u001b[0m\u001b[1;33m:\u001b[0m\u001b[1;33m\u001b[0m\u001b[1;33m\u001b[0m\u001b[0m\n\u001b[1;32m--> 325\u001b[1;33m             \u001b[0mself\u001b[0m\u001b[1;33m.\u001b[0m\u001b[0mconnect\u001b[0m\u001b[1;33m(\u001b[0m\u001b[1;33m)\u001b[0m\u001b[1;33m\u001b[0m\u001b[1;33m\u001b[0m\u001b[0m\n\u001b[0m\u001b[0;32m    326\u001b[0m \u001b[1;33m\u001b[0m\u001b[0m\n\u001b[0;32m    327\u001b[0m     \u001b[1;32mdef\u001b[0m \u001b[0m_create_ssl_ctx\u001b[0m\u001b[1;33m(\u001b[0m\u001b[0mself\u001b[0m\u001b[1;33m,\u001b[0m \u001b[0msslp\u001b[0m\u001b[1;33m)\u001b[0m\u001b[1;33m:\u001b[0m\u001b[1;33m\u001b[0m\u001b[1;33m\u001b[0m\u001b[0m\n",
      "\u001b[1;32m~\\.virtualenvs\\project_data_jobs_market_analysis-XCFGNFT9\\lib\\site-packages\\pymysql\\connections.py\u001b[0m in \u001b[0;36mconnect\u001b[1;34m(self, sock)\u001b[0m\n\u001b[0;32m    596\u001b[0m             \u001b[0mself\u001b[0m\u001b[1;33m.\u001b[0m\u001b[0m_next_seq_id\u001b[0m \u001b[1;33m=\u001b[0m \u001b[1;36m0\u001b[0m\u001b[1;33m\u001b[0m\u001b[1;33m\u001b[0m\u001b[0m\n\u001b[0;32m    597\u001b[0m \u001b[1;33m\u001b[0m\u001b[0m\n\u001b[1;32m--> 598\u001b[1;33m             \u001b[0mself\u001b[0m\u001b[1;33m.\u001b[0m\u001b[0m_get_server_information\u001b[0m\u001b[1;33m(\u001b[0m\u001b[1;33m)\u001b[0m\u001b[1;33m\u001b[0m\u001b[1;33m\u001b[0m\u001b[0m\n\u001b[0m\u001b[0;32m    599\u001b[0m             \u001b[0mself\u001b[0m\u001b[1;33m.\u001b[0m\u001b[0m_request_authentication\u001b[0m\u001b[1;33m(\u001b[0m\u001b[1;33m)\u001b[0m\u001b[1;33m\u001b[0m\u001b[1;33m\u001b[0m\u001b[0m\n\u001b[0;32m    600\u001b[0m \u001b[1;33m\u001b[0m\u001b[0m\n",
      "\u001b[1;32m~\\.virtualenvs\\project_data_jobs_market_analysis-XCFGNFT9\\lib\\site-packages\\pymysql\\connections.py\u001b[0m in \u001b[0;36m_get_server_information\u001b[1;34m(self)\u001b[0m\n\u001b[0;32m    973\u001b[0m     \u001b[1;32mdef\u001b[0m \u001b[0m_get_server_information\u001b[0m\u001b[1;33m(\u001b[0m\u001b[0mself\u001b[0m\u001b[1;33m)\u001b[0m\u001b[1;33m:\u001b[0m\u001b[1;33m\u001b[0m\u001b[1;33m\u001b[0m\u001b[0m\n\u001b[0;32m    974\u001b[0m         \u001b[0mi\u001b[0m \u001b[1;33m=\u001b[0m \u001b[1;36m0\u001b[0m\u001b[1;33m\u001b[0m\u001b[1;33m\u001b[0m\u001b[0m\n\u001b[1;32m--> 975\u001b[1;33m         \u001b[0mpacket\u001b[0m \u001b[1;33m=\u001b[0m \u001b[0mself\u001b[0m\u001b[1;33m.\u001b[0m\u001b[0m_read_packet\u001b[0m\u001b[1;33m(\u001b[0m\u001b[1;33m)\u001b[0m\u001b[1;33m\u001b[0m\u001b[1;33m\u001b[0m\u001b[0m\n\u001b[0m\u001b[0;32m    976\u001b[0m         \u001b[0mdata\u001b[0m \u001b[1;33m=\u001b[0m \u001b[0mpacket\u001b[0m\u001b[1;33m.\u001b[0m\u001b[0mget_all_data\u001b[0m\u001b[1;33m(\u001b[0m\u001b[1;33m)\u001b[0m\u001b[1;33m\u001b[0m\u001b[1;33m\u001b[0m\u001b[0m\n\u001b[0;32m    977\u001b[0m \u001b[1;33m\u001b[0m\u001b[0m\n",
      "\u001b[1;32m~\\.virtualenvs\\project_data_jobs_market_analysis-XCFGNFT9\\lib\\site-packages\\pymysql\\connections.py\u001b[0m in \u001b[0;36m_read_packet\u001b[1;34m(self, packet_type)\u001b[0m\n\u001b[0;32m    655\u001b[0m         \u001b[0mbuff\u001b[0m \u001b[1;33m=\u001b[0m \u001b[1;34mb''\u001b[0m\u001b[1;33m\u001b[0m\u001b[1;33m\u001b[0m\u001b[0m\n\u001b[0;32m    656\u001b[0m         \u001b[1;32mwhile\u001b[0m \u001b[1;32mTrue\u001b[0m\u001b[1;33m:\u001b[0m\u001b[1;33m\u001b[0m\u001b[1;33m\u001b[0m\u001b[0m\n\u001b[1;32m--> 657\u001b[1;33m             \u001b[0mpacket_header\u001b[0m \u001b[1;33m=\u001b[0m \u001b[0mself\u001b[0m\u001b[1;33m.\u001b[0m\u001b[0m_read_bytes\u001b[0m\u001b[1;33m(\u001b[0m\u001b[1;36m4\u001b[0m\u001b[1;33m)\u001b[0m\u001b[1;33m\u001b[0m\u001b[1;33m\u001b[0m\u001b[0m\n\u001b[0m\u001b[0;32m    658\u001b[0m             \u001b[1;31m#if DEBUG: dump_packet(packet_header)\u001b[0m\u001b[1;33m\u001b[0m\u001b[1;33m\u001b[0m\u001b[1;33m\u001b[0m\u001b[0m\n\u001b[0;32m    659\u001b[0m \u001b[1;33m\u001b[0m\u001b[0m\n",
      "\u001b[1;32m~\\.virtualenvs\\project_data_jobs_market_analysis-XCFGNFT9\\lib\\site-packages\\pymysql\\connections.py\u001b[0m in \u001b[0;36m_read_bytes\u001b[1;34m(self, num_bytes)\u001b[0m\n\u001b[0;32m    705\u001b[0m             \u001b[0mself\u001b[0m\u001b[1;33m.\u001b[0m\u001b[0m_force_close\u001b[0m\u001b[1;33m(\u001b[0m\u001b[1;33m)\u001b[0m\u001b[1;33m\u001b[0m\u001b[1;33m\u001b[0m\u001b[0m\n\u001b[0;32m    706\u001b[0m             raise err.OperationalError(\n\u001b[1;32m--> 707\u001b[1;33m                 CR.CR_SERVER_LOST, \"Lost connection to MySQL server during query\")\n\u001b[0m\u001b[0;32m    708\u001b[0m         \u001b[1;32mreturn\u001b[0m \u001b[0mdata\u001b[0m\u001b[1;33m\u001b[0m\u001b[1;33m\u001b[0m\u001b[0m\n\u001b[0;32m    709\u001b[0m \u001b[1;33m\u001b[0m\u001b[0m\n",
      "\u001b[1;31mOperationalError\u001b[0m: (pymysql.err.OperationalError) (2013, 'Lost connection to MySQL server during query')\n(Background on this error at: http://sqlalche.me/e/e3q8)"
     ]
    }
   ],
   "source": [
    "# uploading the dataframes to sql database (on cloud using proxy server)\n",
    "\n",
    "warnings.filterwarnings('ignore')\n",
    "warnings.simplefilter('ignore')\n",
    "\n",
    "USER = \"root\"\n",
    "PASSWORD = \"Attrye@123\" #your instance password\n",
    "HOST = \"127.0.0.1\"  \n",
    "PORT = \"3306\"  \n",
    "\n",
    "DATABASE = \"jobs_db\"  \n",
    "\n",
    "TABLENAME1 = \"data_jobs\"  \n",
    "TABLENAME2 = \"city_jobs\"\n",
    "TABLENAME3 = \"citywise_job_count\"  \n",
    "TABLENAME4 = \"data_jobs_median_sal\"  \n",
    "TABLENAME5 = \"monthly_sal_and_rent\"\n",
    "TABLENAME6 = \"sal_and_house_price\"\n",
    "TABLENAME7 = \"citywise_job_and_crime\"\n",
    "\n",
    "\n",
    "engine = create_engine(f\"mysql+pymysql://{USER}:{PASSWORD}@{HOST}:{PORT}\")\n",
    "try:\n",
    "    engine.execute(f\"CREATE DATABASE {DATABASE}\")\n",
    "except ProgrammingError:\n",
    "    pass\n",
    "\n",
    "engine.execute(f\"USE {DATABASE}\")\n",
    "\n",
    "engine.execute(f\"DROP TABLE IF EXISTS {TABLENAME1}\")\n",
    "engine.execute(f\"DROP TABLE IF EXISTS {TABLENAME2}\")\n",
    "engine.execute(f\"DROP TABLE IF EXISTS {TABLENAME3}\")\n",
    "engine.execute(f\"DROP TABLE IF EXISTS {TABLENAME4}\")\n",
    "engine.execute(f\"DROP TABLE IF EXISTS {TABLENAME5}\")\n",
    "engine.execute(f\"DROP TABLE IF EXISTS {TABLENAME6}\")\n",
    "engine.execute(f\"DROP TABLE IF EXISTS {TABLENAME7}\")\n",
    "\n",
    "data_jobs.to_sql(name=TABLENAME1, con=engine, index=False)\n",
    "city_jobs.to_sql(name=TABLENAME2, con=engine, index=False)\n",
    "citywise_job_count.to_sql(name=TABLENAME3, con=engine, index=False)\n",
    "data_jobs_median_sal.to_sql(name=TABLENAME4, con=engine, index=False)\n",
    "monthly_sal_and_rent.to_sql(name=TABLENAME5, con=engine, index=False)\n",
    "sal_and_house_price.to_sql(name=TABLENAME6, con=engine, index=False)\n",
    "citywise_job_and_crime.to_sql(name=TABLENAME7, con=engine, index=False)\n",
    "\n"
   ]
  },
  {
   "cell_type": "code",
   "execution_count": null,
   "metadata": {},
   "outputs": [],
   "source": [
    "# reading the tables from sql database back into pandas datafarmes\n",
    "\n",
    "data_jobs_sql_table = pd.read_sql(\"SELECT * FROM jobs_db.data_jobs\", engine)\n",
    "city_jobs_sql_table = pd.read_sql(\"SELECT * FROM jobs_db.city_jobs\", engine)\n",
    "citywise_job_count_sql_table = pd.read_sql(\"SELECT * FROM jobs_db.citywise_job_count\", engine)\n",
    "monthly_sal_and_rent_sql_table = pd.read_sql(\"SELECT * FROM jobs_db.monthly_sal_and_rent\", engine)\n",
    "data_jobs_median_sal_sql_table = pd.read_sql(\"SELECT * FROM jobs_db.data_jobs_median_sal\", engine)\n",
    "sal_and_house_price_sql_table = pd.read_sql(\"SELECT * FROM jobs_db.sal_and_house_price\", engine)\n",
    "citywise_job_and_crime_sql_table = pd.read_sql(\"SELECT * FROM jobs_db.citywise_job_and_crime\", engine)\n"
   ]
  },
  {
   "cell_type": "code",
   "execution_count": null,
   "metadata": {},
   "outputs": [],
   "source": [
    "data_jobs_sql_table.head(2)"
   ]
  },
  {
   "cell_type": "code",
   "execution_count": null,
   "metadata": {},
   "outputs": [],
   "source": [
    "city_jobs_sql_table.head(3) "
   ]
  },
  {
   "cell_type": "code",
   "execution_count": null,
   "metadata": {},
   "outputs": [],
   "source": [
    "citywise_job_count_sql_table.head(3)"
   ]
  },
  {
   "cell_type": "code",
   "execution_count": null,
   "metadata": {},
   "outputs": [],
   "source": [
    "monthly_sal_and_rent_sql_table.head(3)"
   ]
  },
  {
   "cell_type": "code",
   "execution_count": null,
   "metadata": {},
   "outputs": [],
   "source": [
    "data_jobs_median_sal_sql_table.head(3)"
   ]
  },
  {
   "cell_type": "code",
   "execution_count": null,
   "metadata": {},
   "outputs": [],
   "source": [
    "sal_and_house_price_sql_table.head(3)"
   ]
  },
  {
   "cell_type": "code",
   "execution_count": null,
   "metadata": {},
   "outputs": [],
   "source": [
    "citywise_job_and_crime_sql_table.head(3)"
   ]
  },
  {
   "cell_type": "markdown",
   "metadata": {},
   "source": [
    "# Conclusion"
   ]
  },
  {
   "cell_type": "markdown",
   "metadata": {},
   "source": [
    "The current job market for Data Jobs is quite promising. Big as well as small - all sorts of companies have many data related jobs posted.\n",
    "Salaries for Data Jobs are quite good as well as compared to the city and state median salaries for all occupations. \n",
    "\n",
    "As there is always a scope for improvement, we would want to explore historical data for data jobs market (if availabe) and use advanced RegEx for web scraping."
   ]
  }
 ],
 "metadata": {
  "kernelspec": {
   "display_name": "data_jobs_project",
   "language": "python",
   "name": "data_jobs_project"
  },
  "language_info": {
   "codemirror_mode": {
    "name": "ipython",
    "version": 3
   },
   "file_extension": ".py",
   "mimetype": "text/x-python",
   "name": "python",
   "nbconvert_exporter": "python",
   "pygments_lexer": "ipython3",
   "version": "3.7.5"
  }
 },
 "nbformat": 4,
 "nbformat_minor": 2
}
